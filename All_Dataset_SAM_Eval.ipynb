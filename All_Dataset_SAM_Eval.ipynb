{
 "cells": [
  {
   "cell_type": "code",
   "execution_count": 11,
   "metadata": {},
   "outputs": [
    {
     "data": {
      "text/plain": [
       "'c:\\\\Users\\\\devan\\\\Downloads\\\\SAM2_Eval\\\\SAM2_Eval_Surgical_Datasets'"
      ]
     },
     "execution_count": 11,
     "metadata": {},
     "output_type": "execute_result"
    }
   ],
   "source": [
    "os.getcwd()"
   ]
  },
  {
   "cell_type": "code",
   "execution_count": 12,
   "metadata": {},
   "outputs": [
    {
     "data": {
      "text/plain": [
       "'c:\\\\Users\\\\devan\\\\Downloads\\\\SAM2_Eval\\\\SAM2_Eval_Surgical_Datasets\\\\../Datasets'"
      ]
     },
     "execution_count": 12,
     "metadata": {},
     "output_type": "execute_result"
    }
   ],
   "source": [
    "base_dataset_path = os.path.join(os.getcwd(), '../Datasets')  # Use the current working directory\n",
    "base_dataset_path"
   ]
  },
  {
   "cell_type": "code",
   "execution_count": 20,
   "metadata": {},
   "outputs": [
    {
     "ename": "MissingConfigException",
     "evalue": "Cannot find primary config 'c:\\Users\\devan\\Downloads\\SAM2_Eval\\SAM2_Eval_Surgical_Datasets\\src\\../SAM2_model_and_cfg/sam2_hiera_l.yaml'. Check that it's in your config search path.\n\nConfig search path:\n\tprovider=hydra, path=pkg://hydra.conf\n\tprovider=main, path=pkg://sam2\n\tprovider=schema, path=structured://",
     "output_type": "error",
     "traceback": [
      "\u001b[1;31m---------------------------------------------------------------------------\u001b[0m",
      "\u001b[1;31mMissingConfigException\u001b[0m                    Traceback (most recent call last)",
      "Cell \u001b[1;32mIn[20], line 3\u001b[0m\n\u001b[0;32m      1\u001b[0m model_cfg \u001b[38;5;241m=\u001b[39m \u001b[38;5;124mr\u001b[39m\u001b[38;5;124m\"\u001b[39m\u001b[38;5;124mC:\u001b[39m\u001b[38;5;124m\\\u001b[39m\u001b[38;5;124mUsers\u001b[39m\u001b[38;5;124m\\\u001b[39m\u001b[38;5;124mdevan\u001b[39m\u001b[38;5;124m\\\u001b[39m\u001b[38;5;124mDownloads\u001b[39m\u001b[38;5;124m\\\u001b[39m\u001b[38;5;124mSAM2_Eval\u001b[39m\u001b[38;5;124m\\\u001b[39m\u001b[38;5;124mSAM2_model_and_cfg\u001b[39m\u001b[38;5;124m\\\u001b[39m\u001b[38;5;124msam2_hiera_l.yaml\u001b[39m\u001b[38;5;124m\"\u001b[39m\n\u001b[0;32m      2\u001b[0m checkpoint_path \u001b[38;5;241m=\u001b[39m \u001b[38;5;124mr\u001b[39m\u001b[38;5;124m\"\u001b[39m\u001b[38;5;124mC:\u001b[39m\u001b[38;5;124m\\\u001b[39m\u001b[38;5;124mUsers\u001b[39m\u001b[38;5;124m\\\u001b[39m\u001b[38;5;124mdevan\u001b[39m\u001b[38;5;124m\\\u001b[39m\u001b[38;5;124mDownloads\u001b[39m\u001b[38;5;124m\\\u001b[39m\u001b[38;5;124mSAM2_Eval\u001b[39m\u001b[38;5;124m\\\u001b[39m\u001b[38;5;124mSAM2_model_and_cfg\u001b[39m\u001b[38;5;124m\\\u001b[39m\u001b[38;5;124msam2_hiera_large.pt\u001b[39m\u001b[38;5;124m\"\u001b[39m\n\u001b[1;32m----> 3\u001b[0m sam_model \u001b[38;5;241m=\u001b[39m initialize_model()\n",
      "File \u001b[1;32mc:\\Users\\devan\\Downloads\\SAM2_Eval\\SAM2_Eval_Surgical_Datasets\\src\\sam2_eval_utils.py:16\u001b[0m, in \u001b[0;36minitialize_model\u001b[1;34m()\u001b[0m\n\u001b[0;32m     14\u001b[0m \u001b[38;5;28;01mdef\u001b[39;00m \u001b[38;5;21minitialize_model\u001b[39m():\n\u001b[0;32m     15\u001b[0m \u001b[38;5;250m    \u001b[39m\u001b[38;5;124;03m\"\"\"Initialize the SAM2 model\"\"\"\u001b[39;00m\n\u001b[1;32m---> 16\u001b[0m     \u001b[38;5;28;01mreturn\u001b[39;00m build_sam2_video_predictor(\n\u001b[0;32m     17\u001b[0m         config_file\u001b[38;5;241m=\u001b[39mmodel_cfg,\n\u001b[0;32m     18\u001b[0m         ckpt_path\u001b[38;5;241m=\u001b[39mcheckpoint_path,\n\u001b[0;32m     19\u001b[0m         device\u001b[38;5;241m=\u001b[39mdevice\n\u001b[0;32m     20\u001b[0m     )\n",
      "File \u001b[1;32m~\\Downloads\\SAM2_Eval\\Finetuning\\segment-anything-2\\sam2\\build_sam.py:127\u001b[0m, in \u001b[0;36mbuild_sam2_video_predictor\u001b[1;34m(config_file, ckpt_path, device, mode, hydra_overrides_extra, apply_postprocessing, **kwargs)\u001b[0m\n\u001b[0;32m    124\u001b[0m hydra_overrides\u001b[38;5;241m.\u001b[39mextend(hydra_overrides_extra)\n\u001b[0;32m    126\u001b[0m \u001b[38;5;66;03m# Read config and init model\u001b[39;00m\n\u001b[1;32m--> 127\u001b[0m cfg \u001b[38;5;241m=\u001b[39m compose(config_name\u001b[38;5;241m=\u001b[39mconfig_file, overrides\u001b[38;5;241m=\u001b[39mhydra_overrides)\n\u001b[0;32m    128\u001b[0m OmegaConf\u001b[38;5;241m.\u001b[39mresolve(cfg)\n\u001b[0;32m    129\u001b[0m model \u001b[38;5;241m=\u001b[39m instantiate(cfg\u001b[38;5;241m.\u001b[39mmodel, _recursive_\u001b[38;5;241m=\u001b[39m\u001b[38;5;28;01mTrue\u001b[39;00m)\n",
      "File \u001b[1;32mc:\\Users\\devan\\anaconda3\\Lib\\site-packages\\hydra\\compose.py:38\u001b[0m, in \u001b[0;36mcompose\u001b[1;34m(config_name, overrides, return_hydra_config, strict)\u001b[0m\n\u001b[0;32m     36\u001b[0m gh \u001b[38;5;241m=\u001b[39m GlobalHydra\u001b[38;5;241m.\u001b[39minstance()\n\u001b[0;32m     37\u001b[0m \u001b[38;5;28;01massert\u001b[39;00m gh\u001b[38;5;241m.\u001b[39mhydra \u001b[38;5;129;01mis\u001b[39;00m \u001b[38;5;129;01mnot\u001b[39;00m \u001b[38;5;28;01mNone\u001b[39;00m\n\u001b[1;32m---> 38\u001b[0m cfg \u001b[38;5;241m=\u001b[39m gh\u001b[38;5;241m.\u001b[39mhydra\u001b[38;5;241m.\u001b[39mcompose_config(\n\u001b[0;32m     39\u001b[0m     config_name\u001b[38;5;241m=\u001b[39mconfig_name,\n\u001b[0;32m     40\u001b[0m     overrides\u001b[38;5;241m=\u001b[39moverrides,\n\u001b[0;32m     41\u001b[0m     run_mode\u001b[38;5;241m=\u001b[39mRunMode\u001b[38;5;241m.\u001b[39mRUN,\n\u001b[0;32m     42\u001b[0m     from_shell\u001b[38;5;241m=\u001b[39m\u001b[38;5;28;01mFalse\u001b[39;00m,\n\u001b[0;32m     43\u001b[0m     with_log_configuration\u001b[38;5;241m=\u001b[39m\u001b[38;5;28;01mFalse\u001b[39;00m,\n\u001b[0;32m     44\u001b[0m )\n\u001b[0;32m     45\u001b[0m \u001b[38;5;28;01massert\u001b[39;00m \u001b[38;5;28misinstance\u001b[39m(cfg, DictConfig)\n\u001b[0;32m     47\u001b[0m \u001b[38;5;28;01mif\u001b[39;00m \u001b[38;5;129;01mnot\u001b[39;00m return_hydra_config:\n",
      "File \u001b[1;32mc:\\Users\\devan\\anaconda3\\Lib\\site-packages\\hydra\\_internal\\hydra.py:594\u001b[0m, in \u001b[0;36mHydra.compose_config\u001b[1;34m(self, config_name, overrides, run_mode, with_log_configuration, from_shell, validate_sweep_overrides)\u001b[0m\n\u001b[0;32m    576\u001b[0m \u001b[38;5;28;01mdef\u001b[39;00m \u001b[38;5;21mcompose_config\u001b[39m(\n\u001b[0;32m    577\u001b[0m     \u001b[38;5;28mself\u001b[39m,\n\u001b[0;32m    578\u001b[0m     config_name: Optional[\u001b[38;5;28mstr\u001b[39m],\n\u001b[1;32m   (...)\u001b[0m\n\u001b[0;32m    583\u001b[0m     validate_sweep_overrides: \u001b[38;5;28mbool\u001b[39m \u001b[38;5;241m=\u001b[39m \u001b[38;5;28;01mTrue\u001b[39;00m,\n\u001b[0;32m    584\u001b[0m ) \u001b[38;5;241m-\u001b[39m\u001b[38;5;241m>\u001b[39m DictConfig:\n\u001b[0;32m    585\u001b[0m \u001b[38;5;250m    \u001b[39m\u001b[38;5;124;03m\"\"\"\u001b[39;00m\n\u001b[0;32m    586\u001b[0m \u001b[38;5;124;03m    :param config_name:\u001b[39;00m\n\u001b[0;32m    587\u001b[0m \u001b[38;5;124;03m    :param overrides:\u001b[39;00m\n\u001b[1;32m   (...)\u001b[0m\n\u001b[0;32m    591\u001b[0m \u001b[38;5;124;03m    :return:\u001b[39;00m\n\u001b[0;32m    592\u001b[0m \u001b[38;5;124;03m    \"\"\"\u001b[39;00m\n\u001b[1;32m--> 594\u001b[0m     cfg \u001b[38;5;241m=\u001b[39m \u001b[38;5;28mself\u001b[39m\u001b[38;5;241m.\u001b[39mconfig_loader\u001b[38;5;241m.\u001b[39mload_configuration(\n\u001b[0;32m    595\u001b[0m         config_name\u001b[38;5;241m=\u001b[39mconfig_name,\n\u001b[0;32m    596\u001b[0m         overrides\u001b[38;5;241m=\u001b[39moverrides,\n\u001b[0;32m    597\u001b[0m         run_mode\u001b[38;5;241m=\u001b[39mrun_mode,\n\u001b[0;32m    598\u001b[0m         from_shell\u001b[38;5;241m=\u001b[39mfrom_shell,\n\u001b[0;32m    599\u001b[0m         validate_sweep_overrides\u001b[38;5;241m=\u001b[39mvalidate_sweep_overrides,\n\u001b[0;32m    600\u001b[0m     )\n\u001b[0;32m    601\u001b[0m     \u001b[38;5;28;01mif\u001b[39;00m with_log_configuration:\n\u001b[0;32m    602\u001b[0m         configure_log(cfg\u001b[38;5;241m.\u001b[39mhydra\u001b[38;5;241m.\u001b[39mhydra_logging, cfg\u001b[38;5;241m.\u001b[39mhydra\u001b[38;5;241m.\u001b[39mverbose)\n",
      "File \u001b[1;32mc:\\Users\\devan\\anaconda3\\Lib\\site-packages\\hydra\\_internal\\config_loader_impl.py:142\u001b[0m, in \u001b[0;36mConfigLoaderImpl.load_configuration\u001b[1;34m(self, config_name, overrides, run_mode, from_shell, validate_sweep_overrides)\u001b[0m\n\u001b[0;32m    133\u001b[0m \u001b[38;5;28;01mdef\u001b[39;00m \u001b[38;5;21mload_configuration\u001b[39m(\n\u001b[0;32m    134\u001b[0m     \u001b[38;5;28mself\u001b[39m,\n\u001b[0;32m    135\u001b[0m     config_name: Optional[\u001b[38;5;28mstr\u001b[39m],\n\u001b[1;32m   (...)\u001b[0m\n\u001b[0;32m    139\u001b[0m     validate_sweep_overrides: \u001b[38;5;28mbool\u001b[39m \u001b[38;5;241m=\u001b[39m \u001b[38;5;28;01mTrue\u001b[39;00m,\n\u001b[0;32m    140\u001b[0m ) \u001b[38;5;241m-\u001b[39m\u001b[38;5;241m>\u001b[39m DictConfig:\n\u001b[0;32m    141\u001b[0m     \u001b[38;5;28;01mtry\u001b[39;00m:\n\u001b[1;32m--> 142\u001b[0m         \u001b[38;5;28;01mreturn\u001b[39;00m \u001b[38;5;28mself\u001b[39m\u001b[38;5;241m.\u001b[39m_load_configuration_impl(\n\u001b[0;32m    143\u001b[0m             config_name\u001b[38;5;241m=\u001b[39mconfig_name,\n\u001b[0;32m    144\u001b[0m             overrides\u001b[38;5;241m=\u001b[39moverrides,\n\u001b[0;32m    145\u001b[0m             run_mode\u001b[38;5;241m=\u001b[39mrun_mode,\n\u001b[0;32m    146\u001b[0m             from_shell\u001b[38;5;241m=\u001b[39mfrom_shell,\n\u001b[0;32m    147\u001b[0m             validate_sweep_overrides\u001b[38;5;241m=\u001b[39mvalidate_sweep_overrides,\n\u001b[0;32m    148\u001b[0m         )\n\u001b[0;32m    149\u001b[0m     \u001b[38;5;28;01mexcept\u001b[39;00m OmegaConfBaseException \u001b[38;5;28;01mas\u001b[39;00m e:\n\u001b[0;32m    150\u001b[0m         \u001b[38;5;28;01mraise\u001b[39;00m ConfigCompositionException()\u001b[38;5;241m.\u001b[39mwith_traceback(sys\u001b[38;5;241m.\u001b[39mexc_info()[\u001b[38;5;241m2\u001b[39m]) \u001b[38;5;28;01mfrom\u001b[39;00m \u001b[38;5;21;01me\u001b[39;00m\n",
      "File \u001b[1;32mc:\\Users\\devan\\anaconda3\\Lib\\site-packages\\hydra\\_internal\\config_loader_impl.py:253\u001b[0m, in \u001b[0;36mConfigLoaderImpl._load_configuration_impl\u001b[1;34m(self, config_name, overrides, run_mode, from_shell, validate_sweep_overrides)\u001b[0m\n\u001b[0;32m    248\u001b[0m \u001b[38;5;28;01mif\u001b[39;00m validate_sweep_overrides:\n\u001b[0;32m    249\u001b[0m     \u001b[38;5;28mself\u001b[39m\u001b[38;5;241m.\u001b[39mvalidate_sweep_overrides_legal(\n\u001b[0;32m    250\u001b[0m         overrides\u001b[38;5;241m=\u001b[39mparsed_overrides, run_mode\u001b[38;5;241m=\u001b[39mrun_mode, from_shell\u001b[38;5;241m=\u001b[39mfrom_shell\n\u001b[0;32m    251\u001b[0m     )\n\u001b[1;32m--> 253\u001b[0m defaults_list \u001b[38;5;241m=\u001b[39m create_defaults_list(\n\u001b[0;32m    254\u001b[0m     repo\u001b[38;5;241m=\u001b[39mcaching_repo,\n\u001b[0;32m    255\u001b[0m     config_name\u001b[38;5;241m=\u001b[39mconfig_name,\n\u001b[0;32m    256\u001b[0m     overrides_list\u001b[38;5;241m=\u001b[39mparsed_overrides,\n\u001b[0;32m    257\u001b[0m     prepend_hydra\u001b[38;5;241m=\u001b[39m\u001b[38;5;28;01mTrue\u001b[39;00m,\n\u001b[0;32m    258\u001b[0m     skip_missing\u001b[38;5;241m=\u001b[39mrun_mode \u001b[38;5;241m==\u001b[39m RunMode\u001b[38;5;241m.\u001b[39mMULTIRUN,\n\u001b[0;32m    259\u001b[0m )\n\u001b[0;32m    261\u001b[0m config_overrides \u001b[38;5;241m=\u001b[39m defaults_list\u001b[38;5;241m.\u001b[39mconfig_overrides\n\u001b[0;32m    263\u001b[0m cfg \u001b[38;5;241m=\u001b[39m \u001b[38;5;28mself\u001b[39m\u001b[38;5;241m.\u001b[39m_compose_config_from_defaults_list(\n\u001b[0;32m    264\u001b[0m     defaults\u001b[38;5;241m=\u001b[39mdefaults_list\u001b[38;5;241m.\u001b[39mdefaults, repo\u001b[38;5;241m=\u001b[39mcaching_repo\n\u001b[0;32m    265\u001b[0m )\n",
      "File \u001b[1;32mc:\\Users\\devan\\anaconda3\\Lib\\site-packages\\hydra\\_internal\\defaults_list.py:745\u001b[0m, in \u001b[0;36mcreate_defaults_list\u001b[1;34m(repo, config_name, overrides_list, prepend_hydra, skip_missing)\u001b[0m\n\u001b[0;32m    736\u001b[0m \u001b[38;5;250m\u001b[39m\u001b[38;5;124;03m\"\"\"\u001b[39;00m\n\u001b[0;32m    737\u001b[0m \u001b[38;5;124;03m:param repo:\u001b[39;00m\n\u001b[0;32m    738\u001b[0m \u001b[38;5;124;03m:param config_name:\u001b[39;00m\n\u001b[1;32m   (...)\u001b[0m\n\u001b[0;32m    742\u001b[0m \u001b[38;5;124;03m:return:\u001b[39;00m\n\u001b[0;32m    743\u001b[0m \u001b[38;5;124;03m\"\"\"\u001b[39;00m\n\u001b[0;32m    744\u001b[0m overrides \u001b[38;5;241m=\u001b[39m Overrides(repo\u001b[38;5;241m=\u001b[39mrepo, overrides_list\u001b[38;5;241m=\u001b[39moverrides_list)\n\u001b[1;32m--> 745\u001b[0m defaults, tree \u001b[38;5;241m=\u001b[39m _create_defaults_list(\n\u001b[0;32m    746\u001b[0m     repo,\n\u001b[0;32m    747\u001b[0m     config_name,\n\u001b[0;32m    748\u001b[0m     overrides,\n\u001b[0;32m    749\u001b[0m     prepend_hydra\u001b[38;5;241m=\u001b[39mprepend_hydra,\n\u001b[0;32m    750\u001b[0m     skip_missing\u001b[38;5;241m=\u001b[39mskip_missing,\n\u001b[0;32m    751\u001b[0m )\n\u001b[0;32m    752\u001b[0m overrides\u001b[38;5;241m.\u001b[39mensure_overrides_used()\n\u001b[0;32m    753\u001b[0m overrides\u001b[38;5;241m.\u001b[39mensure_deletions_used()\n",
      "File \u001b[1;32mc:\\Users\\devan\\anaconda3\\Lib\\site-packages\\hydra\\_internal\\defaults_list.py:715\u001b[0m, in \u001b[0;36m_create_defaults_list\u001b[1;34m(repo, config_name, overrides, prepend_hydra, skip_missing)\u001b[0m\n\u001b[0;32m    706\u001b[0m \u001b[38;5;28;01mdef\u001b[39;00m \u001b[38;5;21m_create_defaults_list\u001b[39m(\n\u001b[0;32m    707\u001b[0m     repo: IConfigRepository,\n\u001b[0;32m    708\u001b[0m     config_name: Optional[\u001b[38;5;28mstr\u001b[39m],\n\u001b[1;32m   (...)\u001b[0m\n\u001b[0;32m    711\u001b[0m     skip_missing: \u001b[38;5;28mbool\u001b[39m,\n\u001b[0;32m    712\u001b[0m ) \u001b[38;5;241m-\u001b[39m\u001b[38;5;241m>\u001b[39m Tuple[List[ResultDefault], DefaultsTreeNode]:\n\u001b[0;32m    713\u001b[0m     root \u001b[38;5;241m=\u001b[39m _create_root(config_name\u001b[38;5;241m=\u001b[39mconfig_name, with_hydra\u001b[38;5;241m=\u001b[39mprepend_hydra)\n\u001b[1;32m--> 715\u001b[0m     defaults_tree \u001b[38;5;241m=\u001b[39m _create_defaults_tree(\n\u001b[0;32m    716\u001b[0m         repo\u001b[38;5;241m=\u001b[39mrepo,\n\u001b[0;32m    717\u001b[0m         root\u001b[38;5;241m=\u001b[39mroot,\n\u001b[0;32m    718\u001b[0m         overrides\u001b[38;5;241m=\u001b[39moverrides,\n\u001b[0;32m    719\u001b[0m         is_root_config\u001b[38;5;241m=\u001b[39m\u001b[38;5;28;01mTrue\u001b[39;00m,\n\u001b[0;32m    720\u001b[0m         interpolated_subtree\u001b[38;5;241m=\u001b[39m\u001b[38;5;28;01mFalse\u001b[39;00m,\n\u001b[0;32m    721\u001b[0m         skip_missing\u001b[38;5;241m=\u001b[39mskip_missing,\n\u001b[0;32m    722\u001b[0m     )\n\u001b[0;32m    724\u001b[0m     output \u001b[38;5;241m=\u001b[39m _tree_to_list(tree\u001b[38;5;241m=\u001b[39mdefaults_tree)\n\u001b[0;32m    725\u001b[0m     ensure_no_duplicates_in_list(output)\n",
      "File \u001b[1;32mc:\\Users\\devan\\anaconda3\\Lib\\site-packages\\hydra\\_internal\\defaults_list.py:356\u001b[0m, in \u001b[0;36m_create_defaults_tree\u001b[1;34m(repo, root, is_root_config, skip_missing, interpolated_subtree, overrides)\u001b[0m\n\u001b[0;32m    348\u001b[0m \u001b[38;5;28;01mdef\u001b[39;00m \u001b[38;5;21m_create_defaults_tree\u001b[39m(\n\u001b[0;32m    349\u001b[0m     repo: IConfigRepository,\n\u001b[0;32m    350\u001b[0m     root: DefaultsTreeNode,\n\u001b[1;32m   (...)\u001b[0m\n\u001b[0;32m    354\u001b[0m     overrides: Overrides,\n\u001b[0;32m    355\u001b[0m ) \u001b[38;5;241m-\u001b[39m\u001b[38;5;241m>\u001b[39m DefaultsTreeNode:\n\u001b[1;32m--> 356\u001b[0m     ret \u001b[38;5;241m=\u001b[39m _create_defaults_tree_impl(\n\u001b[0;32m    357\u001b[0m         repo\u001b[38;5;241m=\u001b[39mrepo,\n\u001b[0;32m    358\u001b[0m         root\u001b[38;5;241m=\u001b[39mroot,\n\u001b[0;32m    359\u001b[0m         is_root_config\u001b[38;5;241m=\u001b[39mis_root_config,\n\u001b[0;32m    360\u001b[0m         skip_missing\u001b[38;5;241m=\u001b[39mskip_missing,\n\u001b[0;32m    361\u001b[0m         interpolated_subtree\u001b[38;5;241m=\u001b[39minterpolated_subtree,\n\u001b[0;32m    362\u001b[0m         overrides\u001b[38;5;241m=\u001b[39moverrides,\n\u001b[0;32m    363\u001b[0m     )\n\u001b[0;32m    365\u001b[0m     \u001b[38;5;28;01mreturn\u001b[39;00m ret\n",
      "File \u001b[1;32mc:\\Users\\devan\\anaconda3\\Lib\\site-packages\\hydra\\_internal\\defaults_list.py:457\u001b[0m, in \u001b[0;36m_create_defaults_tree_impl\u001b[1;34m(repo, root, is_root_config, skip_missing, interpolated_subtree, overrides)\u001b[0m\n\u001b[0;32m    455\u001b[0m \u001b[38;5;28;01mif\u001b[39;00m parent\u001b[38;5;241m.\u001b[39mis_virtual():\n\u001b[0;32m    456\u001b[0m     \u001b[38;5;28;01mif\u001b[39;00m is_root_config:\n\u001b[1;32m--> 457\u001b[0m         \u001b[38;5;28;01mreturn\u001b[39;00m _expand_virtual_root(repo, root, overrides, skip_missing)\n\u001b[0;32m    458\u001b[0m     \u001b[38;5;28;01melse\u001b[39;00m:\n\u001b[0;32m    459\u001b[0m         \u001b[38;5;28;01mreturn\u001b[39;00m root\n",
      "File \u001b[1;32mc:\\Users\\devan\\anaconda3\\Lib\\site-packages\\hydra\\_internal\\defaults_list.py:280\u001b[0m, in \u001b[0;36m_expand_virtual_root\u001b[1;34m(repo, root, overrides, skip_missing)\u001b[0m\n\u001b[0;32m    277\u001b[0m new_root \u001b[38;5;241m=\u001b[39m DefaultsTreeNode(node\u001b[38;5;241m=\u001b[39md, parent\u001b[38;5;241m=\u001b[39mroot)\n\u001b[0;32m    278\u001b[0m d\u001b[38;5;241m.\u001b[39mupdate_parent(\u001b[38;5;124m\"\u001b[39m\u001b[38;5;124m\"\u001b[39m, \u001b[38;5;124m\"\u001b[39m\u001b[38;5;124m\"\u001b[39m)\n\u001b[1;32m--> 280\u001b[0m subtree \u001b[38;5;241m=\u001b[39m _create_defaults_tree_impl(\n\u001b[0;32m    281\u001b[0m     repo\u001b[38;5;241m=\u001b[39mrepo,\n\u001b[0;32m    282\u001b[0m     root\u001b[38;5;241m=\u001b[39mnew_root,\n\u001b[0;32m    283\u001b[0m     is_root_config\u001b[38;5;241m=\u001b[39md\u001b[38;5;241m.\u001b[39mprimary,\n\u001b[0;32m    284\u001b[0m     skip_missing\u001b[38;5;241m=\u001b[39mskip_missing,\n\u001b[0;32m    285\u001b[0m     interpolated_subtree\u001b[38;5;241m=\u001b[39m\u001b[38;5;28;01mFalse\u001b[39;00m,\n\u001b[0;32m    286\u001b[0m     overrides\u001b[38;5;241m=\u001b[39moverrides,\n\u001b[0;32m    287\u001b[0m )\n\u001b[0;32m    288\u001b[0m \u001b[38;5;28;01mif\u001b[39;00m subtree\u001b[38;5;241m.\u001b[39mchildren \u001b[38;5;129;01mis\u001b[39;00m \u001b[38;5;28;01mNone\u001b[39;00m:\n\u001b[0;32m    289\u001b[0m     children\u001b[38;5;241m.\u001b[39mappend(d)\n",
      "File \u001b[1;32mc:\\Users\\devan\\anaconda3\\Lib\\site-packages\\hydra\\_internal\\defaults_list.py:464\u001b[0m, in \u001b[0;36m_create_defaults_tree_impl\u001b[1;34m(repo, root, is_root_config, skip_missing, interpolated_subtree, overrides)\u001b[0m\n\u001b[0;32m    462\u001b[0m     root\u001b[38;5;241m.\u001b[39mnode\u001b[38;5;241m.\u001b[39mupdate_parent(\u001b[38;5;124m\"\u001b[39m\u001b[38;5;124m\"\u001b[39m, \u001b[38;5;124m\"\u001b[39m\u001b[38;5;124m\"\u001b[39m)\n\u001b[0;32m    463\u001b[0m     \u001b[38;5;28;01mif\u001b[39;00m \u001b[38;5;129;01mnot\u001b[39;00m repo\u001b[38;5;241m.\u001b[39mconfig_exists(root\u001b[38;5;241m.\u001b[39mnode\u001b[38;5;241m.\u001b[39mget_config_path()):\n\u001b[1;32m--> 464\u001b[0m         config_not_found_error(repo\u001b[38;5;241m=\u001b[39mrepo, tree\u001b[38;5;241m=\u001b[39mroot)\n\u001b[0;32m    466\u001b[0m update_package_header(repo\u001b[38;5;241m=\u001b[39mrepo, node\u001b[38;5;241m=\u001b[39mparent)\n\u001b[0;32m    468\u001b[0m \u001b[38;5;28;01mif\u001b[39;00m overrides\u001b[38;5;241m.\u001b[39mis_deleted(parent):\n",
      "File \u001b[1;32mc:\\Users\\devan\\anaconda3\\Lib\\site-packages\\hydra\\_internal\\defaults_list.py:799\u001b[0m, in \u001b[0;36mconfig_not_found_error\u001b[1;34m(repo, tree)\u001b[0m\n\u001b[0;32m    796\u001b[0m lines \u001b[38;5;241m=\u001b[39m \u001b[38;5;124m\"\u001b[39m\u001b[38;5;130;01m\\n\u001b[39;00m\u001b[38;5;124m\"\u001b[39m\u001b[38;5;241m.\u001b[39mjoin(descs)\n\u001b[0;32m    797\u001b[0m msg \u001b[38;5;241m+\u001b[39m\u001b[38;5;241m=\u001b[39m \u001b[38;5;124m\"\u001b[39m\u001b[38;5;130;01m\\n\u001b[39;00m\u001b[38;5;124mConfig search path:\u001b[39m\u001b[38;5;124m\"\u001b[39m \u001b[38;5;241m+\u001b[39m \u001b[38;5;124mf\u001b[39m\u001b[38;5;124m\"\u001b[39m\u001b[38;5;130;01m\\n\u001b[39;00m\u001b[38;5;132;01m{\u001b[39;00mlines\u001b[38;5;132;01m}\u001b[39;00m\u001b[38;5;124m\"\u001b[39m\n\u001b[1;32m--> 799\u001b[0m \u001b[38;5;28;01mraise\u001b[39;00m MissingConfigException(\n\u001b[0;32m    800\u001b[0m     missing_cfg_file\u001b[38;5;241m=\u001b[39melement\u001b[38;5;241m.\u001b[39mget_config_path(),\n\u001b[0;32m    801\u001b[0m     message\u001b[38;5;241m=\u001b[39mmsg,\n\u001b[0;32m    802\u001b[0m     options\u001b[38;5;241m=\u001b[39moptions,\n\u001b[0;32m    803\u001b[0m )\n",
      "\u001b[1;31mMissingConfigException\u001b[0m: Cannot find primary config 'c:\\Users\\devan\\Downloads\\SAM2_Eval\\SAM2_Eval_Surgical_Datasets\\src\\../SAM2_model_and_cfg/sam2_hiera_l.yaml'. Check that it's in your config search path.\n\nConfig search path:\n\tprovider=hydra, path=pkg://hydra.conf\n\tprovider=main, path=pkg://sam2\n\tprovider=schema, path=structured://"
     ]
    }
   ],
   "source": [
    "model_cfg = r\"C:\\Users\\devan\\Downloads\\SAM2_Eval\\SAM2_model_and_cfg\\sam2_hiera_l.yaml\"\n",
    "checkpoint_path = r\"C:\\Users\\devan\\Downloads\\SAM2_Eval\\SAM2_model_and_cfg\\sam2_hiera_large.pt\"\n",
    "sam_model = initialize_model()"
   ]
  },
  {
   "cell_type": "code",
   "execution_count": 6,
   "metadata": {},
   "outputs": [
    {
     "name": "stdout",
     "output_type": "stream",
     "text": [
      "\n",
      "Processing dataset: CholecSeg8k_test\n",
      "Looking for mask in: c:\\Users\\devan\\Downloads\\SAM2_Eval\\SAM2_Eval_Surgical_Datasets\\../Datasets\\CholecSeg8k\\test\\Masks\\Abdominal Wall\\video18\\video18_00979\\1000.jpg\n",
      "Looking for mask in: c:\\Users\\devan\\Downloads\\SAM2_Eval\\SAM2_Eval_Surgical_Datasets\\../Datasets\\CholecSeg8k\\test\\Masks\\Fat\\video18\\video18_00979\\1000.jpg\n",
      "Looking for mask in: c:\\Users\\devan\\Downloads\\SAM2_Eval\\SAM2_Eval_Surgical_Datasets\\../Datasets\\CholecSeg8k\\test\\Masks\\Gall bladder\\video18\\video18_00979\\1000.jpg\n",
      "Looking for mask in: c:\\Users\\devan\\Downloads\\SAM2_Eval\\SAM2_Eval_Surgical_Datasets\\../Datasets\\CholecSeg8k\\test\\Masks\\Gastrointestinal Tract\\video18\\video18_00979\\1000.jpg\n",
      "Looking for mask in: c:\\Users\\devan\\Downloads\\SAM2_Eval\\SAM2_Eval_Surgical_Datasets\\../Datasets\\CholecSeg8k\\test\\Masks\\Grasper\\video18\\video18_00979\\1000.jpg\n",
      "Looking for mask in: c:\\Users\\devan\\Downloads\\SAM2_Eval\\SAM2_Eval_Surgical_Datasets\\../Datasets\\CholecSeg8k\\test\\Masks\\L-hook Electrocautery\\video18\\video18_00979\\1000.jpg\n",
      "Looking for mask in: c:\\Users\\devan\\Downloads\\SAM2_Eval\\SAM2_Eval_Surgical_Datasets\\../Datasets\\CholecSeg8k\\test\\Masks\\Liver\\video18\\video18_00979\\1000.jpg\n",
      "No matching mask found for frame: c:\\Users\\devan\\Downloads\\SAM2_Eval\\SAM2_Eval_Surgical_Datasets\\temp_jpg_frames\\1000.jpg\n",
      "Looking for mask in: c:\\Users\\devan\\Downloads\\SAM2_Eval\\SAM2_Eval_Surgical_Datasets\\../Datasets\\CholecSeg8k\\test\\Masks\\Abdominal Wall\\video18\\video18_00979\\1001.jpg\n",
      "Looking for mask in: c:\\Users\\devan\\Downloads\\SAM2_Eval\\SAM2_Eval_Surgical_Datasets\\../Datasets\\CholecSeg8k\\test\\Masks\\Fat\\video18\\video18_00979\\1001.jpg\n",
      "Looking for mask in: c:\\Users\\devan\\Downloads\\SAM2_Eval\\SAM2_Eval_Surgical_Datasets\\../Datasets\\CholecSeg8k\\test\\Masks\\Gall bladder\\video18\\video18_00979\\1001.jpg\n",
      "Looking for mask in: c:\\Users\\devan\\Downloads\\SAM2_Eval\\SAM2_Eval_Surgical_Datasets\\../Datasets\\CholecSeg8k\\test\\Masks\\Gastrointestinal Tract\\video18\\video18_00979\\1001.jpg\n",
      "Looking for mask in: c:\\Users\\devan\\Downloads\\SAM2_Eval\\SAM2_Eval_Surgical_Datasets\\../Datasets\\CholecSeg8k\\test\\Masks\\Grasper\\video18\\video18_00979\\1001.jpg\n",
      "Looking for mask in: c:\\Users\\devan\\Downloads\\SAM2_Eval\\SAM2_Eval_Surgical_Datasets\\../Datasets\\CholecSeg8k\\test\\Masks\\L-hook Electrocautery\\video18\\video18_00979\\1001.jpg\n",
      "Looking for mask in: c:\\Users\\devan\\Downloads\\SAM2_Eval\\SAM2_Eval_Surgical_Datasets\\../Datasets\\CholecSeg8k\\test\\Masks\\Liver\\video18\\video18_00979\\1001.jpg\n",
      "No matching mask found for frame: c:\\Users\\devan\\Downloads\\SAM2_Eval\\SAM2_Eval_Surgical_Datasets\\temp_jpg_frames\\1001.jpg\n",
      "Looking for mask in: c:\\Users\\devan\\Downloads\\SAM2_Eval\\SAM2_Eval_Surgical_Datasets\\../Datasets\\CholecSeg8k\\test\\Masks\\Abdominal Wall\\video18\\video18_00979\\1002.jpg\n",
      "Looking for mask in: c:\\Users\\devan\\Downloads\\SAM2_Eval\\SAM2_Eval_Surgical_Datasets\\../Datasets\\CholecSeg8k\\test\\Masks\\Fat\\video18\\video18_00979\\1002.jpg\n",
      "Looking for mask in: c:\\Users\\devan\\Downloads\\SAM2_Eval\\SAM2_Eval_Surgical_Datasets\\../Datasets\\CholecSeg8k\\test\\Masks\\Gall bladder\\video18\\video18_00979\\1002.jpg\n",
      "Looking for mask in: c:\\Users\\devan\\Downloads\\SAM2_Eval\\SAM2_Eval_Surgical_Datasets\\../Datasets\\CholecSeg8k\\test\\Masks\\Gastrointestinal Tract\\video18\\video18_00979\\1002.jpg\n",
      "Looking for mask in: c:\\Users\\devan\\Downloads\\SAM2_Eval\\SAM2_Eval_Surgical_Datasets\\../Datasets\\CholecSeg8k\\test\\Masks\\Grasper\\video18\\video18_00979\\1002.jpg\n",
      "Looking for mask in: c:\\Users\\devan\\Downloads\\SAM2_Eval\\SAM2_Eval_Surgical_Datasets\\../Datasets\\CholecSeg8k\\test\\Masks\\L-hook Electrocautery\\video18\\video18_00979\\1002.jpg\n",
      "Looking for mask in: c:\\Users\\devan\\Downloads\\SAM2_Eval\\SAM2_Eval_Surgical_Datasets\\../Datasets\\CholecSeg8k\\test\\Masks\\Liver\\video18\\video18_00979\\1002.jpg\n",
      "No matching mask found for frame: c:\\Users\\devan\\Downloads\\SAM2_Eval\\SAM2_Eval_Surgical_Datasets\\temp_jpg_frames\\1002.jpg\n",
      "Looking for mask in: c:\\Users\\devan\\Downloads\\SAM2_Eval\\SAM2_Eval_Surgical_Datasets\\../Datasets\\CholecSeg8k\\test\\Masks\\Abdominal Wall\\video18\\video18_00979\\1003.jpg\n",
      "Looking for mask in: c:\\Users\\devan\\Downloads\\SAM2_Eval\\SAM2_Eval_Surgical_Datasets\\../Datasets\\CholecSeg8k\\test\\Masks\\Fat\\video18\\video18_00979\\1003.jpg\n",
      "Looking for mask in: c:\\Users\\devan\\Downloads\\SAM2_Eval\\SAM2_Eval_Surgical_Datasets\\../Datasets\\CholecSeg8k\\test\\Masks\\Gall bladder\\video18\\video18_00979\\1003.jpg\n",
      "Looking for mask in: c:\\Users\\devan\\Downloads\\SAM2_Eval\\SAM2_Eval_Surgical_Datasets\\../Datasets\\CholecSeg8k\\test\\Masks\\Gastrointestinal Tract\\video18\\video18_00979\\1003.jpg\n",
      "Looking for mask in: c:\\Users\\devan\\Downloads\\SAM2_Eval\\SAM2_Eval_Surgical_Datasets\\../Datasets\\CholecSeg8k\\test\\Masks\\Grasper\\video18\\video18_00979\\1003.jpg\n",
      "Looking for mask in: c:\\Users\\devan\\Downloads\\SAM2_Eval\\SAM2_Eval_Surgical_Datasets\\../Datasets\\CholecSeg8k\\test\\Masks\\L-hook Electrocautery\\video18\\video18_00979\\1003.jpg\n",
      "Looking for mask in: c:\\Users\\devan\\Downloads\\SAM2_Eval\\SAM2_Eval_Surgical_Datasets\\../Datasets\\CholecSeg8k\\test\\Masks\\Liver\\video18\\video18_00979\\1003.jpg\n",
      "No matching mask found for frame: c:\\Users\\devan\\Downloads\\SAM2_Eval\\SAM2_Eval_Surgical_Datasets\\temp_jpg_frames\\1003.jpg\n",
      "Looking for mask in: c:\\Users\\devan\\Downloads\\SAM2_Eval\\SAM2_Eval_Surgical_Datasets\\../Datasets\\CholecSeg8k\\test\\Masks\\Abdominal Wall\\video18\\video18_00979\\1004.jpg\n",
      "Looking for mask in: c:\\Users\\devan\\Downloads\\SAM2_Eval\\SAM2_Eval_Surgical_Datasets\\../Datasets\\CholecSeg8k\\test\\Masks\\Fat\\video18\\video18_00979\\1004.jpg\n",
      "Looking for mask in: c:\\Users\\devan\\Downloads\\SAM2_Eval\\SAM2_Eval_Surgical_Datasets\\../Datasets\\CholecSeg8k\\test\\Masks\\Gall bladder\\video18\\video18_00979\\1004.jpg\n",
      "Looking for mask in: c:\\Users\\devan\\Downloads\\SAM2_Eval\\SAM2_Eval_Surgical_Datasets\\../Datasets\\CholecSeg8k\\test\\Masks\\Gastrointestinal Tract\\video18\\video18_00979\\1004.jpg\n",
      "Looking for mask in: c:\\Users\\devan\\Downloads\\SAM2_Eval\\SAM2_Eval_Surgical_Datasets\\../Datasets\\CholecSeg8k\\test\\Masks\\Grasper\\video18\\video18_00979\\1004.jpg\n",
      "Looking for mask in: c:\\Users\\devan\\Downloads\\SAM2_Eval\\SAM2_Eval_Surgical_Datasets\\../Datasets\\CholecSeg8k\\test\\Masks\\L-hook Electrocautery\\video18\\video18_00979\\1004.jpg\n",
      "Looking for mask in: c:\\Users\\devan\\Downloads\\SAM2_Eval\\SAM2_Eval_Surgical_Datasets\\../Datasets\\CholecSeg8k\\test\\Masks\\Liver\\video18\\video18_00979\\1004.jpg\n",
      "No matching mask found for frame: c:\\Users\\devan\\Downloads\\SAM2_Eval\\SAM2_Eval_Surgical_Datasets\\temp_jpg_frames\\1004.jpg\n",
      "Looking for mask in: c:\\Users\\devan\\Downloads\\SAM2_Eval\\SAM2_Eval_Surgical_Datasets\\../Datasets\\CholecSeg8k\\test\\Masks\\Abdominal Wall\\video18\\video18_00979\\1005.jpg\n",
      "Looking for mask in: c:\\Users\\devan\\Downloads\\SAM2_Eval\\SAM2_Eval_Surgical_Datasets\\../Datasets\\CholecSeg8k\\test\\Masks\\Fat\\video18\\video18_00979\\1005.jpg\n",
      "Looking for mask in: c:\\Users\\devan\\Downloads\\SAM2_Eval\\SAM2_Eval_Surgical_Datasets\\../Datasets\\CholecSeg8k\\test\\Masks\\Gall bladder\\video18\\video18_00979\\1005.jpg\n",
      "Looking for mask in: c:\\Users\\devan\\Downloads\\SAM2_Eval\\SAM2_Eval_Surgical_Datasets\\../Datasets\\CholecSeg8k\\test\\Masks\\Gastrointestinal Tract\\video18\\video18_00979\\1005.jpg\n",
      "Looking for mask in: c:\\Users\\devan\\Downloads\\SAM2_Eval\\SAM2_Eval_Surgical_Datasets\\../Datasets\\CholecSeg8k\\test\\Masks\\Grasper\\video18\\video18_00979\\1005.jpg\n",
      "Looking for mask in: c:\\Users\\devan\\Downloads\\SAM2_Eval\\SAM2_Eval_Surgical_Datasets\\../Datasets\\CholecSeg8k\\test\\Masks\\L-hook Electrocautery\\video18\\video18_00979\\1005.jpg\n",
      "Looking for mask in: c:\\Users\\devan\\Downloads\\SAM2_Eval\\SAM2_Eval_Surgical_Datasets\\../Datasets\\CholecSeg8k\\test\\Masks\\Liver\\video18\\video18_00979\\1005.jpg\n",
      "No matching mask found for frame: c:\\Users\\devan\\Downloads\\SAM2_Eval\\SAM2_Eval_Surgical_Datasets\\temp_jpg_frames\\1005.jpg\n",
      "Looking for mask in: c:\\Users\\devan\\Downloads\\SAM2_Eval\\SAM2_Eval_Surgical_Datasets\\../Datasets\\CholecSeg8k\\test\\Masks\\Abdominal Wall\\video18\\video18_00979\\1006.jpg\n",
      "Looking for mask in: c:\\Users\\devan\\Downloads\\SAM2_Eval\\SAM2_Eval_Surgical_Datasets\\../Datasets\\CholecSeg8k\\test\\Masks\\Fat\\video18\\video18_00979\\1006.jpg\n",
      "Looking for mask in: c:\\Users\\devan\\Downloads\\SAM2_Eval\\SAM2_Eval_Surgical_Datasets\\../Datasets\\CholecSeg8k\\test\\Masks\\Gall bladder\\video18\\video18_00979\\1006.jpg\n",
      "Looking for mask in: c:\\Users\\devan\\Downloads\\SAM2_Eval\\SAM2_Eval_Surgical_Datasets\\../Datasets\\CholecSeg8k\\test\\Masks\\Gastrointestinal Tract\\video18\\video18_00979\\1006.jpg\n",
      "Looking for mask in: c:\\Users\\devan\\Downloads\\SAM2_Eval\\SAM2_Eval_Surgical_Datasets\\../Datasets\\CholecSeg8k\\test\\Masks\\Grasper\\video18\\video18_00979\\1006.jpg\n",
      "Looking for mask in: c:\\Users\\devan\\Downloads\\SAM2_Eval\\SAM2_Eval_Surgical_Datasets\\../Datasets\\CholecSeg8k\\test\\Masks\\L-hook Electrocautery\\video18\\video18_00979\\1006.jpg\n",
      "Looking for mask in: c:\\Users\\devan\\Downloads\\SAM2_Eval\\SAM2_Eval_Surgical_Datasets\\../Datasets\\CholecSeg8k\\test\\Masks\\Liver\\video18\\video18_00979\\1006.jpg\n",
      "No matching mask found for frame: c:\\Users\\devan\\Downloads\\SAM2_Eval\\SAM2_Eval_Surgical_Datasets\\temp_jpg_frames\\1006.jpg\n",
      "Looking for mask in: c:\\Users\\devan\\Downloads\\SAM2_Eval\\SAM2_Eval_Surgical_Datasets\\../Datasets\\CholecSeg8k\\test\\Masks\\Abdominal Wall\\video18\\video18_00979\\1007.jpg\n",
      "Looking for mask in: c:\\Users\\devan\\Downloads\\SAM2_Eval\\SAM2_Eval_Surgical_Datasets\\../Datasets\\CholecSeg8k\\test\\Masks\\Fat\\video18\\video18_00979\\1007.jpg\n",
      "Looking for mask in: c:\\Users\\devan\\Downloads\\SAM2_Eval\\SAM2_Eval_Surgical_Datasets\\../Datasets\\CholecSeg8k\\test\\Masks\\Gall bladder\\video18\\video18_00979\\1007.jpg\n",
      "Looking for mask in: c:\\Users\\devan\\Downloads\\SAM2_Eval\\SAM2_Eval_Surgical_Datasets\\../Datasets\\CholecSeg8k\\test\\Masks\\Gastrointestinal Tract\\video18\\video18_00979\\1007.jpg\n",
      "Looking for mask in: c:\\Users\\devan\\Downloads\\SAM2_Eval\\SAM2_Eval_Surgical_Datasets\\../Datasets\\CholecSeg8k\\test\\Masks\\Grasper\\video18\\video18_00979\\1007.jpg\n",
      "Looking for mask in: c:\\Users\\devan\\Downloads\\SAM2_Eval\\SAM2_Eval_Surgical_Datasets\\../Datasets\\CholecSeg8k\\test\\Masks\\L-hook Electrocautery\\video18\\video18_00979\\1007.jpg\n",
      "Looking for mask in: c:\\Users\\devan\\Downloads\\SAM2_Eval\\SAM2_Eval_Surgical_Datasets\\../Datasets\\CholecSeg8k\\test\\Masks\\Liver\\video18\\video18_00979\\1007.jpg\n",
      "No matching mask found for frame: c:\\Users\\devan\\Downloads\\SAM2_Eval\\SAM2_Eval_Surgical_Datasets\\temp_jpg_frames\\1007.jpg\n",
      "Looking for mask in: c:\\Users\\devan\\Downloads\\SAM2_Eval\\SAM2_Eval_Surgical_Datasets\\../Datasets\\CholecSeg8k\\test\\Masks\\Abdominal Wall\\video18\\video18_00979\\1008.jpg\n",
      "Looking for mask in: c:\\Users\\devan\\Downloads\\SAM2_Eval\\SAM2_Eval_Surgical_Datasets\\../Datasets\\CholecSeg8k\\test\\Masks\\Fat\\video18\\video18_00979\\1008.jpg\n",
      "Looking for mask in: c:\\Users\\devan\\Downloads\\SAM2_Eval\\SAM2_Eval_Surgical_Datasets\\../Datasets\\CholecSeg8k\\test\\Masks\\Gall bladder\\video18\\video18_00979\\1008.jpg\n",
      "Looking for mask in: c:\\Users\\devan\\Downloads\\SAM2_Eval\\SAM2_Eval_Surgical_Datasets\\../Datasets\\CholecSeg8k\\test\\Masks\\Gastrointestinal Tract\\video18\\video18_00979\\1008.jpg\n",
      "Looking for mask in: c:\\Users\\devan\\Downloads\\SAM2_Eval\\SAM2_Eval_Surgical_Datasets\\../Datasets\\CholecSeg8k\\test\\Masks\\Grasper\\video18\\video18_00979\\1008.jpg\n",
      "Looking for mask in: c:\\Users\\devan\\Downloads\\SAM2_Eval\\SAM2_Eval_Surgical_Datasets\\../Datasets\\CholecSeg8k\\test\\Masks\\L-hook Electrocautery\\video18\\video18_00979\\1008.jpg\n",
      "Looking for mask in: c:\\Users\\devan\\Downloads\\SAM2_Eval\\SAM2_Eval_Surgical_Datasets\\../Datasets\\CholecSeg8k\\test\\Masks\\Liver\\video18\\video18_00979\\1008.jpg\n",
      "No matching mask found for frame: c:\\Users\\devan\\Downloads\\SAM2_Eval\\SAM2_Eval_Surgical_Datasets\\temp_jpg_frames\\1008.jpg\n",
      "Looking for mask in: c:\\Users\\devan\\Downloads\\SAM2_Eval\\SAM2_Eval_Surgical_Datasets\\../Datasets\\CholecSeg8k\\test\\Masks\\Abdominal Wall\\video18\\video18_00979\\1009.jpg\n",
      "Looking for mask in: c:\\Users\\devan\\Downloads\\SAM2_Eval\\SAM2_Eval_Surgical_Datasets\\../Datasets\\CholecSeg8k\\test\\Masks\\Fat\\video18\\video18_00979\\1009.jpg\n",
      "Looking for mask in: c:\\Users\\devan\\Downloads\\SAM2_Eval\\SAM2_Eval_Surgical_Datasets\\../Datasets\\CholecSeg8k\\test\\Masks\\Gall bladder\\video18\\video18_00979\\1009.jpg\n",
      "Looking for mask in: c:\\Users\\devan\\Downloads\\SAM2_Eval\\SAM2_Eval_Surgical_Datasets\\../Datasets\\CholecSeg8k\\test\\Masks\\Gastrointestinal Tract\\video18\\video18_00979\\1009.jpg\n",
      "Looking for mask in: c:\\Users\\devan\\Downloads\\SAM2_Eval\\SAM2_Eval_Surgical_Datasets\\../Datasets\\CholecSeg8k\\test\\Masks\\Grasper\\video18\\video18_00979\\1009.jpg\n",
      "Looking for mask in: c:\\Users\\devan\\Downloads\\SAM2_Eval\\SAM2_Eval_Surgical_Datasets\\../Datasets\\CholecSeg8k\\test\\Masks\\L-hook Electrocautery\\video18\\video18_00979\\1009.jpg\n",
      "Looking for mask in: c:\\Users\\devan\\Downloads\\SAM2_Eval\\SAM2_Eval_Surgical_Datasets\\../Datasets\\CholecSeg8k\\test\\Masks\\Liver\\video18\\video18_00979\\1009.jpg\n",
      "No matching mask found for frame: c:\\Users\\devan\\Downloads\\SAM2_Eval\\SAM2_Eval_Surgical_Datasets\\temp_jpg_frames\\1009.jpg\n",
      "Looking for mask in: c:\\Users\\devan\\Downloads\\SAM2_Eval\\SAM2_Eval_Surgical_Datasets\\../Datasets\\CholecSeg8k\\test\\Masks\\Abdominal Wall\\video18\\video18_00979\\1010.jpg\n",
      "Looking for mask in: c:\\Users\\devan\\Downloads\\SAM2_Eval\\SAM2_Eval_Surgical_Datasets\\../Datasets\\CholecSeg8k\\test\\Masks\\Fat\\video18\\video18_00979\\1010.jpg\n",
      "Looking for mask in: c:\\Users\\devan\\Downloads\\SAM2_Eval\\SAM2_Eval_Surgical_Datasets\\../Datasets\\CholecSeg8k\\test\\Masks\\Gall bladder\\video18\\video18_00979\\1010.jpg\n",
      "Looking for mask in: c:\\Users\\devan\\Downloads\\SAM2_Eval\\SAM2_Eval_Surgical_Datasets\\../Datasets\\CholecSeg8k\\test\\Masks\\Gastrointestinal Tract\\video18\\video18_00979\\1010.jpg\n",
      "Looking for mask in: c:\\Users\\devan\\Downloads\\SAM2_Eval\\SAM2_Eval_Surgical_Datasets\\../Datasets\\CholecSeg8k\\test\\Masks\\Grasper\\video18\\video18_00979\\1010.jpg\n",
      "Looking for mask in: c:\\Users\\devan\\Downloads\\SAM2_Eval\\SAM2_Eval_Surgical_Datasets\\../Datasets\\CholecSeg8k\\test\\Masks\\L-hook Electrocautery\\video18\\video18_00979\\1010.jpg\n",
      "Looking for mask in: c:\\Users\\devan\\Downloads\\SAM2_Eval\\SAM2_Eval_Surgical_Datasets\\../Datasets\\CholecSeg8k\\test\\Masks\\Liver\\video18\\video18_00979\\1010.jpg\n",
      "No matching mask found for frame: c:\\Users\\devan\\Downloads\\SAM2_Eval\\SAM2_Eval_Surgical_Datasets\\temp_jpg_frames\\1010.jpg\n",
      "Looking for mask in: c:\\Users\\devan\\Downloads\\SAM2_Eval\\SAM2_Eval_Surgical_Datasets\\../Datasets\\CholecSeg8k\\test\\Masks\\Abdominal Wall\\video18\\video18_00979\\1011.jpg\n",
      "Looking for mask in: c:\\Users\\devan\\Downloads\\SAM2_Eval\\SAM2_Eval_Surgical_Datasets\\../Datasets\\CholecSeg8k\\test\\Masks\\Fat\\video18\\video18_00979\\1011.jpg\n",
      "Looking for mask in: c:\\Users\\devan\\Downloads\\SAM2_Eval\\SAM2_Eval_Surgical_Datasets\\../Datasets\\CholecSeg8k\\test\\Masks\\Gall bladder\\video18\\video18_00979\\1011.jpg\n",
      "Looking for mask in: c:\\Users\\devan\\Downloads\\SAM2_Eval\\SAM2_Eval_Surgical_Datasets\\../Datasets\\CholecSeg8k\\test\\Masks\\Gastrointestinal Tract\\video18\\video18_00979\\1011.jpg\n",
      "Looking for mask in: c:\\Users\\devan\\Downloads\\SAM2_Eval\\SAM2_Eval_Surgical_Datasets\\../Datasets\\CholecSeg8k\\test\\Masks\\Grasper\\video18\\video18_00979\\1011.jpg\n",
      "Looking for mask in: c:\\Users\\devan\\Downloads\\SAM2_Eval\\SAM2_Eval_Surgical_Datasets\\../Datasets\\CholecSeg8k\\test\\Masks\\L-hook Electrocautery\\video18\\video18_00979\\1011.jpg\n",
      "Looking for mask in: c:\\Users\\devan\\Downloads\\SAM2_Eval\\SAM2_Eval_Surgical_Datasets\\../Datasets\\CholecSeg8k\\test\\Masks\\Liver\\video18\\video18_00979\\1011.jpg\n",
      "No matching mask found for frame: c:\\Users\\devan\\Downloads\\SAM2_Eval\\SAM2_Eval_Surgical_Datasets\\temp_jpg_frames\\1011.jpg\n",
      "Looking for mask in: c:\\Users\\devan\\Downloads\\SAM2_Eval\\SAM2_Eval_Surgical_Datasets\\../Datasets\\CholecSeg8k\\test\\Masks\\Abdominal Wall\\video18\\video18_00979\\1012.jpg\n",
      "Looking for mask in: c:\\Users\\devan\\Downloads\\SAM2_Eval\\SAM2_Eval_Surgical_Datasets\\../Datasets\\CholecSeg8k\\test\\Masks\\Fat\\video18\\video18_00979\\1012.jpg\n",
      "Looking for mask in: c:\\Users\\devan\\Downloads\\SAM2_Eval\\SAM2_Eval_Surgical_Datasets\\../Datasets\\CholecSeg8k\\test\\Masks\\Gall bladder\\video18\\video18_00979\\1012.jpg\n",
      "Looking for mask in: c:\\Users\\devan\\Downloads\\SAM2_Eval\\SAM2_Eval_Surgical_Datasets\\../Datasets\\CholecSeg8k\\test\\Masks\\Gastrointestinal Tract\\video18\\video18_00979\\1012.jpg\n",
      "Looking for mask in: c:\\Users\\devan\\Downloads\\SAM2_Eval\\SAM2_Eval_Surgical_Datasets\\../Datasets\\CholecSeg8k\\test\\Masks\\Grasper\\video18\\video18_00979\\1012.jpg\n",
      "Looking for mask in: c:\\Users\\devan\\Downloads\\SAM2_Eval\\SAM2_Eval_Surgical_Datasets\\../Datasets\\CholecSeg8k\\test\\Masks\\L-hook Electrocautery\\video18\\video18_00979\\1012.jpg\n",
      "Looking for mask in: c:\\Users\\devan\\Downloads\\SAM2_Eval\\SAM2_Eval_Surgical_Datasets\\../Datasets\\CholecSeg8k\\test\\Masks\\Liver\\video18\\video18_00979\\1012.jpg\n",
      "No matching mask found for frame: c:\\Users\\devan\\Downloads\\SAM2_Eval\\SAM2_Eval_Surgical_Datasets\\temp_jpg_frames\\1012.jpg\n",
      "Looking for mask in: c:\\Users\\devan\\Downloads\\SAM2_Eval\\SAM2_Eval_Surgical_Datasets\\../Datasets\\CholecSeg8k\\test\\Masks\\Abdominal Wall\\video18\\video18_00979\\1013.jpg\n",
      "Looking for mask in: c:\\Users\\devan\\Downloads\\SAM2_Eval\\SAM2_Eval_Surgical_Datasets\\../Datasets\\CholecSeg8k\\test\\Masks\\Fat\\video18\\video18_00979\\1013.jpg\n",
      "Looking for mask in: c:\\Users\\devan\\Downloads\\SAM2_Eval\\SAM2_Eval_Surgical_Datasets\\../Datasets\\CholecSeg8k\\test\\Masks\\Gall bladder\\video18\\video18_00979\\1013.jpg\n",
      "Looking for mask in: c:\\Users\\devan\\Downloads\\SAM2_Eval\\SAM2_Eval_Surgical_Datasets\\../Datasets\\CholecSeg8k\\test\\Masks\\Gastrointestinal Tract\\video18\\video18_00979\\1013.jpg\n",
      "Looking for mask in: c:\\Users\\devan\\Downloads\\SAM2_Eval\\SAM2_Eval_Surgical_Datasets\\../Datasets\\CholecSeg8k\\test\\Masks\\Grasper\\video18\\video18_00979\\1013.jpg\n",
      "Looking for mask in: c:\\Users\\devan\\Downloads\\SAM2_Eval\\SAM2_Eval_Surgical_Datasets\\../Datasets\\CholecSeg8k\\test\\Masks\\L-hook Electrocautery\\video18\\video18_00979\\1013.jpg\n",
      "Looking for mask in: c:\\Users\\devan\\Downloads\\SAM2_Eval\\SAM2_Eval_Surgical_Datasets\\../Datasets\\CholecSeg8k\\test\\Masks\\Liver\\video18\\video18_00979\\1013.jpg\n",
      "No matching mask found for frame: c:\\Users\\devan\\Downloads\\SAM2_Eval\\SAM2_Eval_Surgical_Datasets\\temp_jpg_frames\\1013.jpg\n",
      "Looking for mask in: c:\\Users\\devan\\Downloads\\SAM2_Eval\\SAM2_Eval_Surgical_Datasets\\../Datasets\\CholecSeg8k\\test\\Masks\\Abdominal Wall\\video18\\video18_00979\\1014.jpg\n",
      "Looking for mask in: c:\\Users\\devan\\Downloads\\SAM2_Eval\\SAM2_Eval_Surgical_Datasets\\../Datasets\\CholecSeg8k\\test\\Masks\\Fat\\video18\\video18_00979\\1014.jpg\n",
      "Looking for mask in: c:\\Users\\devan\\Downloads\\SAM2_Eval\\SAM2_Eval_Surgical_Datasets\\../Datasets\\CholecSeg8k\\test\\Masks\\Gall bladder\\video18\\video18_00979\\1014.jpg\n",
      "Looking for mask in: c:\\Users\\devan\\Downloads\\SAM2_Eval\\SAM2_Eval_Surgical_Datasets\\../Datasets\\CholecSeg8k\\test\\Masks\\Gastrointestinal Tract\\video18\\video18_00979\\1014.jpg\n",
      "Looking for mask in: c:\\Users\\devan\\Downloads\\SAM2_Eval\\SAM2_Eval_Surgical_Datasets\\../Datasets\\CholecSeg8k\\test\\Masks\\Grasper\\video18\\video18_00979\\1014.jpg\n",
      "Looking for mask in: c:\\Users\\devan\\Downloads\\SAM2_Eval\\SAM2_Eval_Surgical_Datasets\\../Datasets\\CholecSeg8k\\test\\Masks\\L-hook Electrocautery\\video18\\video18_00979\\1014.jpg\n",
      "Looking for mask in: c:\\Users\\devan\\Downloads\\SAM2_Eval\\SAM2_Eval_Surgical_Datasets\\../Datasets\\CholecSeg8k\\test\\Masks\\Liver\\video18\\video18_00979\\1014.jpg\n",
      "No matching mask found for frame: c:\\Users\\devan\\Downloads\\SAM2_Eval\\SAM2_Eval_Surgical_Datasets\\temp_jpg_frames\\1014.jpg\n",
      "Looking for mask in: c:\\Users\\devan\\Downloads\\SAM2_Eval\\SAM2_Eval_Surgical_Datasets\\../Datasets\\CholecSeg8k\\test\\Masks\\Abdominal Wall\\video18\\video18_00979\\1015.jpg\n",
      "Looking for mask in: c:\\Users\\devan\\Downloads\\SAM2_Eval\\SAM2_Eval_Surgical_Datasets\\../Datasets\\CholecSeg8k\\test\\Masks\\Fat\\video18\\video18_00979\\1015.jpg\n",
      "Looking for mask in: c:\\Users\\devan\\Downloads\\SAM2_Eval\\SAM2_Eval_Surgical_Datasets\\../Datasets\\CholecSeg8k\\test\\Masks\\Gall bladder\\video18\\video18_00979\\1015.jpg\n",
      "Looking for mask in: c:\\Users\\devan\\Downloads\\SAM2_Eval\\SAM2_Eval_Surgical_Datasets\\../Datasets\\CholecSeg8k\\test\\Masks\\Gastrointestinal Tract\\video18\\video18_00979\\1015.jpg\n",
      "Looking for mask in: c:\\Users\\devan\\Downloads\\SAM2_Eval\\SAM2_Eval_Surgical_Datasets\\../Datasets\\CholecSeg8k\\test\\Masks\\Grasper\\video18\\video18_00979\\1015.jpg\n",
      "Looking for mask in: c:\\Users\\devan\\Downloads\\SAM2_Eval\\SAM2_Eval_Surgical_Datasets\\../Datasets\\CholecSeg8k\\test\\Masks\\L-hook Electrocautery\\video18\\video18_00979\\1015.jpg\n",
      "Looking for mask in: c:\\Users\\devan\\Downloads\\SAM2_Eval\\SAM2_Eval_Surgical_Datasets\\../Datasets\\CholecSeg8k\\test\\Masks\\Liver\\video18\\video18_00979\\1015.jpg\n",
      "No matching mask found for frame: c:\\Users\\devan\\Downloads\\SAM2_Eval\\SAM2_Eval_Surgical_Datasets\\temp_jpg_frames\\1015.jpg\n",
      "Looking for mask in: c:\\Users\\devan\\Downloads\\SAM2_Eval\\SAM2_Eval_Surgical_Datasets\\../Datasets\\CholecSeg8k\\test\\Masks\\Abdominal Wall\\video18\\video18_00979\\1016.jpg\n",
      "Looking for mask in: c:\\Users\\devan\\Downloads\\SAM2_Eval\\SAM2_Eval_Surgical_Datasets\\../Datasets\\CholecSeg8k\\test\\Masks\\Fat\\video18\\video18_00979\\1016.jpg\n",
      "Looking for mask in: c:\\Users\\devan\\Downloads\\SAM2_Eval\\SAM2_Eval_Surgical_Datasets\\../Datasets\\CholecSeg8k\\test\\Masks\\Gall bladder\\video18\\video18_00979\\1016.jpg\n",
      "Looking for mask in: c:\\Users\\devan\\Downloads\\SAM2_Eval\\SAM2_Eval_Surgical_Datasets\\../Datasets\\CholecSeg8k\\test\\Masks\\Gastrointestinal Tract\\video18\\video18_00979\\1016.jpg\n",
      "Looking for mask in: c:\\Users\\devan\\Downloads\\SAM2_Eval\\SAM2_Eval_Surgical_Datasets\\../Datasets\\CholecSeg8k\\test\\Masks\\Grasper\\video18\\video18_00979\\1016.jpg\n",
      "Looking for mask in: c:\\Users\\devan\\Downloads\\SAM2_Eval\\SAM2_Eval_Surgical_Datasets\\../Datasets\\CholecSeg8k\\test\\Masks\\L-hook Electrocautery\\video18\\video18_00979\\1016.jpg\n",
      "Looking for mask in: c:\\Users\\devan\\Downloads\\SAM2_Eval\\SAM2_Eval_Surgical_Datasets\\../Datasets\\CholecSeg8k\\test\\Masks\\Liver\\video18\\video18_00979\\1016.jpg\n",
      "No matching mask found for frame: c:\\Users\\devan\\Downloads\\SAM2_Eval\\SAM2_Eval_Surgical_Datasets\\temp_jpg_frames\\1016.jpg\n",
      "Looking for mask in: c:\\Users\\devan\\Downloads\\SAM2_Eval\\SAM2_Eval_Surgical_Datasets\\../Datasets\\CholecSeg8k\\test\\Masks\\Abdominal Wall\\video18\\video18_00979\\1017.jpg\n",
      "Looking for mask in: c:\\Users\\devan\\Downloads\\SAM2_Eval\\SAM2_Eval_Surgical_Datasets\\../Datasets\\CholecSeg8k\\test\\Masks\\Fat\\video18\\video18_00979\\1017.jpg\n",
      "Looking for mask in: c:\\Users\\devan\\Downloads\\SAM2_Eval\\SAM2_Eval_Surgical_Datasets\\../Datasets\\CholecSeg8k\\test\\Masks\\Gall bladder\\video18\\video18_00979\\1017.jpg\n",
      "Looking for mask in: c:\\Users\\devan\\Downloads\\SAM2_Eval\\SAM2_Eval_Surgical_Datasets\\../Datasets\\CholecSeg8k\\test\\Masks\\Gastrointestinal Tract\\video18\\video18_00979\\1017.jpg\n",
      "Looking for mask in: c:\\Users\\devan\\Downloads\\SAM2_Eval\\SAM2_Eval_Surgical_Datasets\\../Datasets\\CholecSeg8k\\test\\Masks\\Grasper\\video18\\video18_00979\\1017.jpg\n",
      "Looking for mask in: c:\\Users\\devan\\Downloads\\SAM2_Eval\\SAM2_Eval_Surgical_Datasets\\../Datasets\\CholecSeg8k\\test\\Masks\\L-hook Electrocautery\\video18\\video18_00979\\1017.jpg\n",
      "Looking for mask in: c:\\Users\\devan\\Downloads\\SAM2_Eval\\SAM2_Eval_Surgical_Datasets\\../Datasets\\CholecSeg8k\\test\\Masks\\Liver\\video18\\video18_00979\\1017.jpg\n",
      "No matching mask found for frame: c:\\Users\\devan\\Downloads\\SAM2_Eval\\SAM2_Eval_Surgical_Datasets\\temp_jpg_frames\\1017.jpg\n",
      "Looking for mask in: c:\\Users\\devan\\Downloads\\SAM2_Eval\\SAM2_Eval_Surgical_Datasets\\../Datasets\\CholecSeg8k\\test\\Masks\\Abdominal Wall\\video18\\video18_00979\\1018.jpg\n",
      "Looking for mask in: c:\\Users\\devan\\Downloads\\SAM2_Eval\\SAM2_Eval_Surgical_Datasets\\../Datasets\\CholecSeg8k\\test\\Masks\\Fat\\video18\\video18_00979\\1018.jpg\n",
      "Looking for mask in: c:\\Users\\devan\\Downloads\\SAM2_Eval\\SAM2_Eval_Surgical_Datasets\\../Datasets\\CholecSeg8k\\test\\Masks\\Gall bladder\\video18\\video18_00979\\1018.jpg\n",
      "Looking for mask in: c:\\Users\\devan\\Downloads\\SAM2_Eval\\SAM2_Eval_Surgical_Datasets\\../Datasets\\CholecSeg8k\\test\\Masks\\Gastrointestinal Tract\\video18\\video18_00979\\1018.jpg\n",
      "Looking for mask in: c:\\Users\\devan\\Downloads\\SAM2_Eval\\SAM2_Eval_Surgical_Datasets\\../Datasets\\CholecSeg8k\\test\\Masks\\Grasper\\video18\\video18_00979\\1018.jpg\n",
      "Looking for mask in: c:\\Users\\devan\\Downloads\\SAM2_Eval\\SAM2_Eval_Surgical_Datasets\\../Datasets\\CholecSeg8k\\test\\Masks\\L-hook Electrocautery\\video18\\video18_00979\\1018.jpg\n",
      "Looking for mask in: c:\\Users\\devan\\Downloads\\SAM2_Eval\\SAM2_Eval_Surgical_Datasets\\../Datasets\\CholecSeg8k\\test\\Masks\\Liver\\video18\\video18_00979\\1018.jpg\n",
      "No matching mask found for frame: c:\\Users\\devan\\Downloads\\SAM2_Eval\\SAM2_Eval_Surgical_Datasets\\temp_jpg_frames\\1018.jpg\n",
      "Looking for mask in: c:\\Users\\devan\\Downloads\\SAM2_Eval\\SAM2_Eval_Surgical_Datasets\\../Datasets\\CholecSeg8k\\test\\Masks\\Abdominal Wall\\video18\\video18_00979\\1019.jpg\n",
      "Looking for mask in: c:\\Users\\devan\\Downloads\\SAM2_Eval\\SAM2_Eval_Surgical_Datasets\\../Datasets\\CholecSeg8k\\test\\Masks\\Fat\\video18\\video18_00979\\1019.jpg\n",
      "Looking for mask in: c:\\Users\\devan\\Downloads\\SAM2_Eval\\SAM2_Eval_Surgical_Datasets\\../Datasets\\CholecSeg8k\\test\\Masks\\Gall bladder\\video18\\video18_00979\\1019.jpg\n",
      "Looking for mask in: c:\\Users\\devan\\Downloads\\SAM2_Eval\\SAM2_Eval_Surgical_Datasets\\../Datasets\\CholecSeg8k\\test\\Masks\\Gastrointestinal Tract\\video18\\video18_00979\\1019.jpg\n",
      "Looking for mask in: c:\\Users\\devan\\Downloads\\SAM2_Eval\\SAM2_Eval_Surgical_Datasets\\../Datasets\\CholecSeg8k\\test\\Masks\\Grasper\\video18\\video18_00979\\1019.jpg\n",
      "Looking for mask in: c:\\Users\\devan\\Downloads\\SAM2_Eval\\SAM2_Eval_Surgical_Datasets\\../Datasets\\CholecSeg8k\\test\\Masks\\L-hook Electrocautery\\video18\\video18_00979\\1019.jpg\n",
      "Looking for mask in: c:\\Users\\devan\\Downloads\\SAM2_Eval\\SAM2_Eval_Surgical_Datasets\\../Datasets\\CholecSeg8k\\test\\Masks\\Liver\\video18\\video18_00979\\1019.jpg\n",
      "No matching mask found for frame: c:\\Users\\devan\\Downloads\\SAM2_Eval\\SAM2_Eval_Surgical_Datasets\\temp_jpg_frames\\1019.jpg\n",
      "Looking for mask in: c:\\Users\\devan\\Downloads\\SAM2_Eval\\SAM2_Eval_Surgical_Datasets\\../Datasets\\CholecSeg8k\\test\\Masks\\Abdominal Wall\\video18\\video18_00979\\1020.jpg\n",
      "Looking for mask in: c:\\Users\\devan\\Downloads\\SAM2_Eval\\SAM2_Eval_Surgical_Datasets\\../Datasets\\CholecSeg8k\\test\\Masks\\Fat\\video18\\video18_00979\\1020.jpg\n",
      "Looking for mask in: c:\\Users\\devan\\Downloads\\SAM2_Eval\\SAM2_Eval_Surgical_Datasets\\../Datasets\\CholecSeg8k\\test\\Masks\\Gall bladder\\video18\\video18_00979\\1020.jpg\n",
      "Looking for mask in: c:\\Users\\devan\\Downloads\\SAM2_Eval\\SAM2_Eval_Surgical_Datasets\\../Datasets\\CholecSeg8k\\test\\Masks\\Gastrointestinal Tract\\video18\\video18_00979\\1020.jpg\n",
      "Looking for mask in: c:\\Users\\devan\\Downloads\\SAM2_Eval\\SAM2_Eval_Surgical_Datasets\\../Datasets\\CholecSeg8k\\test\\Masks\\Grasper\\video18\\video18_00979\\1020.jpg\n",
      "Looking for mask in: c:\\Users\\devan\\Downloads\\SAM2_Eval\\SAM2_Eval_Surgical_Datasets\\../Datasets\\CholecSeg8k\\test\\Masks\\L-hook Electrocautery\\video18\\video18_00979\\1020.jpg\n",
      "Looking for mask in: c:\\Users\\devan\\Downloads\\SAM2_Eval\\SAM2_Eval_Surgical_Datasets\\../Datasets\\CholecSeg8k\\test\\Masks\\Liver\\video18\\video18_00979\\1020.jpg\n",
      "No matching mask found for frame: c:\\Users\\devan\\Downloads\\SAM2_Eval\\SAM2_Eval_Surgical_Datasets\\temp_jpg_frames\\1020.jpg\n",
      "Looking for mask in: c:\\Users\\devan\\Downloads\\SAM2_Eval\\SAM2_Eval_Surgical_Datasets\\../Datasets\\CholecSeg8k\\test\\Masks\\Abdominal Wall\\video18\\video18_00979\\1021.jpg\n",
      "Looking for mask in: c:\\Users\\devan\\Downloads\\SAM2_Eval\\SAM2_Eval_Surgical_Datasets\\../Datasets\\CholecSeg8k\\test\\Masks\\Fat\\video18\\video18_00979\\1021.jpg\n",
      "Looking for mask in: c:\\Users\\devan\\Downloads\\SAM2_Eval\\SAM2_Eval_Surgical_Datasets\\../Datasets\\CholecSeg8k\\test\\Masks\\Gall bladder\\video18\\video18_00979\\1021.jpg\n",
      "Looking for mask in: c:\\Users\\devan\\Downloads\\SAM2_Eval\\SAM2_Eval_Surgical_Datasets\\../Datasets\\CholecSeg8k\\test\\Masks\\Gastrointestinal Tract\\video18\\video18_00979\\1021.jpg\n",
      "Looking for mask in: c:\\Users\\devan\\Downloads\\SAM2_Eval\\SAM2_Eval_Surgical_Datasets\\../Datasets\\CholecSeg8k\\test\\Masks\\Grasper\\video18\\video18_00979\\1021.jpg\n",
      "Looking for mask in: c:\\Users\\devan\\Downloads\\SAM2_Eval\\SAM2_Eval_Surgical_Datasets\\../Datasets\\CholecSeg8k\\test\\Masks\\L-hook Electrocautery\\video18\\video18_00979\\1021.jpg\n",
      "Looking for mask in: c:\\Users\\devan\\Downloads\\SAM2_Eval\\SAM2_Eval_Surgical_Datasets\\../Datasets\\CholecSeg8k\\test\\Masks\\Liver\\video18\\video18_00979\\1021.jpg\n",
      "No matching mask found for frame: c:\\Users\\devan\\Downloads\\SAM2_Eval\\SAM2_Eval_Surgical_Datasets\\temp_jpg_frames\\1021.jpg\n",
      "Looking for mask in: c:\\Users\\devan\\Downloads\\SAM2_Eval\\SAM2_Eval_Surgical_Datasets\\../Datasets\\CholecSeg8k\\test\\Masks\\Abdominal Wall\\video18\\video18_00979\\1022.jpg\n",
      "Looking for mask in: c:\\Users\\devan\\Downloads\\SAM2_Eval\\SAM2_Eval_Surgical_Datasets\\../Datasets\\CholecSeg8k\\test\\Masks\\Fat\\video18\\video18_00979\\1022.jpg\n",
      "Looking for mask in: c:\\Users\\devan\\Downloads\\SAM2_Eval\\SAM2_Eval_Surgical_Datasets\\../Datasets\\CholecSeg8k\\test\\Masks\\Gall bladder\\video18\\video18_00979\\1022.jpg\n",
      "Looking for mask in: c:\\Users\\devan\\Downloads\\SAM2_Eval\\SAM2_Eval_Surgical_Datasets\\../Datasets\\CholecSeg8k\\test\\Masks\\Gastrointestinal Tract\\video18\\video18_00979\\1022.jpg\n",
      "Looking for mask in: c:\\Users\\devan\\Downloads\\SAM2_Eval\\SAM2_Eval_Surgical_Datasets\\../Datasets\\CholecSeg8k\\test\\Masks\\Grasper\\video18\\video18_00979\\1022.jpg\n",
      "Looking for mask in: c:\\Users\\devan\\Downloads\\SAM2_Eval\\SAM2_Eval_Surgical_Datasets\\../Datasets\\CholecSeg8k\\test\\Masks\\L-hook Electrocautery\\video18\\video18_00979\\1022.jpg\n",
      "Looking for mask in: c:\\Users\\devan\\Downloads\\SAM2_Eval\\SAM2_Eval_Surgical_Datasets\\../Datasets\\CholecSeg8k\\test\\Masks\\Liver\\video18\\video18_00979\\1022.jpg\n",
      "No matching mask found for frame: c:\\Users\\devan\\Downloads\\SAM2_Eval\\SAM2_Eval_Surgical_Datasets\\temp_jpg_frames\\1022.jpg\n",
      "Looking for mask in: c:\\Users\\devan\\Downloads\\SAM2_Eval\\SAM2_Eval_Surgical_Datasets\\../Datasets\\CholecSeg8k\\test\\Masks\\Abdominal Wall\\video18\\video18_00979\\1023.jpg\n",
      "Looking for mask in: c:\\Users\\devan\\Downloads\\SAM2_Eval\\SAM2_Eval_Surgical_Datasets\\../Datasets\\CholecSeg8k\\test\\Masks\\Fat\\video18\\video18_00979\\1023.jpg\n",
      "Looking for mask in: c:\\Users\\devan\\Downloads\\SAM2_Eval\\SAM2_Eval_Surgical_Datasets\\../Datasets\\CholecSeg8k\\test\\Masks\\Gall bladder\\video18\\video18_00979\\1023.jpg\n",
      "Looking for mask in: c:\\Users\\devan\\Downloads\\SAM2_Eval\\SAM2_Eval_Surgical_Datasets\\../Datasets\\CholecSeg8k\\test\\Masks\\Gastrointestinal Tract\\video18\\video18_00979\\1023.jpg\n",
      "Looking for mask in: c:\\Users\\devan\\Downloads\\SAM2_Eval\\SAM2_Eval_Surgical_Datasets\\../Datasets\\CholecSeg8k\\test\\Masks\\Grasper\\video18\\video18_00979\\1023.jpg\n",
      "Looking for mask in: c:\\Users\\devan\\Downloads\\SAM2_Eval\\SAM2_Eval_Surgical_Datasets\\../Datasets\\CholecSeg8k\\test\\Masks\\L-hook Electrocautery\\video18\\video18_00979\\1023.jpg\n",
      "Looking for mask in: c:\\Users\\devan\\Downloads\\SAM2_Eval\\SAM2_Eval_Surgical_Datasets\\../Datasets\\CholecSeg8k\\test\\Masks\\Liver\\video18\\video18_00979\\1023.jpg\n",
      "No matching mask found for frame: c:\\Users\\devan\\Downloads\\SAM2_Eval\\SAM2_Eval_Surgical_Datasets\\temp_jpg_frames\\1023.jpg\n",
      "Looking for mask in: c:\\Users\\devan\\Downloads\\SAM2_Eval\\SAM2_Eval_Surgical_Datasets\\../Datasets\\CholecSeg8k\\test\\Masks\\Abdominal Wall\\video18\\video18_00979\\1024.jpg\n",
      "Looking for mask in: c:\\Users\\devan\\Downloads\\SAM2_Eval\\SAM2_Eval_Surgical_Datasets\\../Datasets\\CholecSeg8k\\test\\Masks\\Fat\\video18\\video18_00979\\1024.jpg\n",
      "Looking for mask in: c:\\Users\\devan\\Downloads\\SAM2_Eval\\SAM2_Eval_Surgical_Datasets\\../Datasets\\CholecSeg8k\\test\\Masks\\Gall bladder\\video18\\video18_00979\\1024.jpg\n",
      "Looking for mask in: c:\\Users\\devan\\Downloads\\SAM2_Eval\\SAM2_Eval_Surgical_Datasets\\../Datasets\\CholecSeg8k\\test\\Masks\\Gastrointestinal Tract\\video18\\video18_00979\\1024.jpg\n",
      "Looking for mask in: c:\\Users\\devan\\Downloads\\SAM2_Eval\\SAM2_Eval_Surgical_Datasets\\../Datasets\\CholecSeg8k\\test\\Masks\\Grasper\\video18\\video18_00979\\1024.jpg\n",
      "Looking for mask in: c:\\Users\\devan\\Downloads\\SAM2_Eval\\SAM2_Eval_Surgical_Datasets\\../Datasets\\CholecSeg8k\\test\\Masks\\L-hook Electrocautery\\video18\\video18_00979\\1024.jpg\n",
      "Looking for mask in: c:\\Users\\devan\\Downloads\\SAM2_Eval\\SAM2_Eval_Surgical_Datasets\\../Datasets\\CholecSeg8k\\test\\Masks\\Liver\\video18\\video18_00979\\1024.jpg\n",
      "No matching mask found for frame: c:\\Users\\devan\\Downloads\\SAM2_Eval\\SAM2_Eval_Surgical_Datasets\\temp_jpg_frames\\1024.jpg\n",
      "Looking for mask in: c:\\Users\\devan\\Downloads\\SAM2_Eval\\SAM2_Eval_Surgical_Datasets\\../Datasets\\CholecSeg8k\\test\\Masks\\Abdominal Wall\\video18\\video18_00979\\1025.jpg\n",
      "Looking for mask in: c:\\Users\\devan\\Downloads\\SAM2_Eval\\SAM2_Eval_Surgical_Datasets\\../Datasets\\CholecSeg8k\\test\\Masks\\Fat\\video18\\video18_00979\\1025.jpg\n",
      "Looking for mask in: c:\\Users\\devan\\Downloads\\SAM2_Eval\\SAM2_Eval_Surgical_Datasets\\../Datasets\\CholecSeg8k\\test\\Masks\\Gall bladder\\video18\\video18_00979\\1025.jpg\n",
      "Looking for mask in: c:\\Users\\devan\\Downloads\\SAM2_Eval\\SAM2_Eval_Surgical_Datasets\\../Datasets\\CholecSeg8k\\test\\Masks\\Gastrointestinal Tract\\video18\\video18_00979\\1025.jpg\n",
      "Looking for mask in: c:\\Users\\devan\\Downloads\\SAM2_Eval\\SAM2_Eval_Surgical_Datasets\\../Datasets\\CholecSeg8k\\test\\Masks\\Grasper\\video18\\video18_00979\\1025.jpg\n",
      "Looking for mask in: c:\\Users\\devan\\Downloads\\SAM2_Eval\\SAM2_Eval_Surgical_Datasets\\../Datasets\\CholecSeg8k\\test\\Masks\\L-hook Electrocautery\\video18\\video18_00979\\1025.jpg\n",
      "Looking for mask in: c:\\Users\\devan\\Downloads\\SAM2_Eval\\SAM2_Eval_Surgical_Datasets\\../Datasets\\CholecSeg8k\\test\\Masks\\Liver\\video18\\video18_00979\\1025.jpg\n",
      "No matching mask found for frame: c:\\Users\\devan\\Downloads\\SAM2_Eval\\SAM2_Eval_Surgical_Datasets\\temp_jpg_frames\\1025.jpg\n",
      "Looking for mask in: c:\\Users\\devan\\Downloads\\SAM2_Eval\\SAM2_Eval_Surgical_Datasets\\../Datasets\\CholecSeg8k\\test\\Masks\\Abdominal Wall\\video18\\video18_00979\\1026.jpg\n",
      "Looking for mask in: c:\\Users\\devan\\Downloads\\SAM2_Eval\\SAM2_Eval_Surgical_Datasets\\../Datasets\\CholecSeg8k\\test\\Masks\\Fat\\video18\\video18_00979\\1026.jpg\n",
      "Looking for mask in: c:\\Users\\devan\\Downloads\\SAM2_Eval\\SAM2_Eval_Surgical_Datasets\\../Datasets\\CholecSeg8k\\test\\Masks\\Gall bladder\\video18\\video18_00979\\1026.jpg\n",
      "Looking for mask in: c:\\Users\\devan\\Downloads\\SAM2_Eval\\SAM2_Eval_Surgical_Datasets\\../Datasets\\CholecSeg8k\\test\\Masks\\Gastrointestinal Tract\\video18\\video18_00979\\1026.jpg\n",
      "Looking for mask in: c:\\Users\\devan\\Downloads\\SAM2_Eval\\SAM2_Eval_Surgical_Datasets\\../Datasets\\CholecSeg8k\\test\\Masks\\Grasper\\video18\\video18_00979\\1026.jpg\n",
      "Looking for mask in: c:\\Users\\devan\\Downloads\\SAM2_Eval\\SAM2_Eval_Surgical_Datasets\\../Datasets\\CholecSeg8k\\test\\Masks\\L-hook Electrocautery\\video18\\video18_00979\\1026.jpg\n",
      "Looking for mask in: c:\\Users\\devan\\Downloads\\SAM2_Eval\\SAM2_Eval_Surgical_Datasets\\../Datasets\\CholecSeg8k\\test\\Masks\\Liver\\video18\\video18_00979\\1026.jpg\n",
      "No matching mask found for frame: c:\\Users\\devan\\Downloads\\SAM2_Eval\\SAM2_Eval_Surgical_Datasets\\temp_jpg_frames\\1026.jpg\n",
      "Looking for mask in: c:\\Users\\devan\\Downloads\\SAM2_Eval\\SAM2_Eval_Surgical_Datasets\\../Datasets\\CholecSeg8k\\test\\Masks\\Abdominal Wall\\video18\\video18_00979\\1027.jpg\n",
      "Looking for mask in: c:\\Users\\devan\\Downloads\\SAM2_Eval\\SAM2_Eval_Surgical_Datasets\\../Datasets\\CholecSeg8k\\test\\Masks\\Fat\\video18\\video18_00979\\1027.jpg\n",
      "Looking for mask in: c:\\Users\\devan\\Downloads\\SAM2_Eval\\SAM2_Eval_Surgical_Datasets\\../Datasets\\CholecSeg8k\\test\\Masks\\Gall bladder\\video18\\video18_00979\\1027.jpg\n",
      "Looking for mask in: c:\\Users\\devan\\Downloads\\SAM2_Eval\\SAM2_Eval_Surgical_Datasets\\../Datasets\\CholecSeg8k\\test\\Masks\\Gastrointestinal Tract\\video18\\video18_00979\\1027.jpg\n",
      "Looking for mask in: c:\\Users\\devan\\Downloads\\SAM2_Eval\\SAM2_Eval_Surgical_Datasets\\../Datasets\\CholecSeg8k\\test\\Masks\\Grasper\\video18\\video18_00979\\1027.jpg\n",
      "Looking for mask in: c:\\Users\\devan\\Downloads\\SAM2_Eval\\SAM2_Eval_Surgical_Datasets\\../Datasets\\CholecSeg8k\\test\\Masks\\L-hook Electrocautery\\video18\\video18_00979\\1027.jpg\n",
      "Looking for mask in: c:\\Users\\devan\\Downloads\\SAM2_Eval\\SAM2_Eval_Surgical_Datasets\\../Datasets\\CholecSeg8k\\test\\Masks\\Liver\\video18\\video18_00979\\1027.jpg\n",
      "No matching mask found for frame: c:\\Users\\devan\\Downloads\\SAM2_Eval\\SAM2_Eval_Surgical_Datasets\\temp_jpg_frames\\1027.jpg\n",
      "Looking for mask in: c:\\Users\\devan\\Downloads\\SAM2_Eval\\SAM2_Eval_Surgical_Datasets\\../Datasets\\CholecSeg8k\\test\\Masks\\Abdominal Wall\\video18\\video18_00979\\1028.jpg\n",
      "Looking for mask in: c:\\Users\\devan\\Downloads\\SAM2_Eval\\SAM2_Eval_Surgical_Datasets\\../Datasets\\CholecSeg8k\\test\\Masks\\Fat\\video18\\video18_00979\\1028.jpg\n",
      "Looking for mask in: c:\\Users\\devan\\Downloads\\SAM2_Eval\\SAM2_Eval_Surgical_Datasets\\../Datasets\\CholecSeg8k\\test\\Masks\\Gall bladder\\video18\\video18_00979\\1028.jpg\n",
      "Looking for mask in: c:\\Users\\devan\\Downloads\\SAM2_Eval\\SAM2_Eval_Surgical_Datasets\\../Datasets\\CholecSeg8k\\test\\Masks\\Gastrointestinal Tract\\video18\\video18_00979\\1028.jpg\n",
      "Looking for mask in: c:\\Users\\devan\\Downloads\\SAM2_Eval\\SAM2_Eval_Surgical_Datasets\\../Datasets\\CholecSeg8k\\test\\Masks\\Grasper\\video18\\video18_00979\\1028.jpg\n",
      "Looking for mask in: c:\\Users\\devan\\Downloads\\SAM2_Eval\\SAM2_Eval_Surgical_Datasets\\../Datasets\\CholecSeg8k\\test\\Masks\\L-hook Electrocautery\\video18\\video18_00979\\1028.jpg\n",
      "Looking for mask in: c:\\Users\\devan\\Downloads\\SAM2_Eval\\SAM2_Eval_Surgical_Datasets\\../Datasets\\CholecSeg8k\\test\\Masks\\Liver\\video18\\video18_00979\\1028.jpg\n",
      "No matching mask found for frame: c:\\Users\\devan\\Downloads\\SAM2_Eval\\SAM2_Eval_Surgical_Datasets\\temp_jpg_frames\\1028.jpg\n",
      "Looking for mask in: c:\\Users\\devan\\Downloads\\SAM2_Eval\\SAM2_Eval_Surgical_Datasets\\../Datasets\\CholecSeg8k\\test\\Masks\\Abdominal Wall\\video18\\video18_00979\\1029.jpg\n",
      "Looking for mask in: c:\\Users\\devan\\Downloads\\SAM2_Eval\\SAM2_Eval_Surgical_Datasets\\../Datasets\\CholecSeg8k\\test\\Masks\\Fat\\video18\\video18_00979\\1029.jpg\n",
      "Looking for mask in: c:\\Users\\devan\\Downloads\\SAM2_Eval\\SAM2_Eval_Surgical_Datasets\\../Datasets\\CholecSeg8k\\test\\Masks\\Gall bladder\\video18\\video18_00979\\1029.jpg\n",
      "Looking for mask in: c:\\Users\\devan\\Downloads\\SAM2_Eval\\SAM2_Eval_Surgical_Datasets\\../Datasets\\CholecSeg8k\\test\\Masks\\Gastrointestinal Tract\\video18\\video18_00979\\1029.jpg\n",
      "Looking for mask in: c:\\Users\\devan\\Downloads\\SAM2_Eval\\SAM2_Eval_Surgical_Datasets\\../Datasets\\CholecSeg8k\\test\\Masks\\Grasper\\video18\\video18_00979\\1029.jpg\n",
      "Looking for mask in: c:\\Users\\devan\\Downloads\\SAM2_Eval\\SAM2_Eval_Surgical_Datasets\\../Datasets\\CholecSeg8k\\test\\Masks\\L-hook Electrocautery\\video18\\video18_00979\\1029.jpg\n",
      "Looking for mask in: c:\\Users\\devan\\Downloads\\SAM2_Eval\\SAM2_Eval_Surgical_Datasets\\../Datasets\\CholecSeg8k\\test\\Masks\\Liver\\video18\\video18_00979\\1029.jpg\n",
      "No matching mask found for frame: c:\\Users\\devan\\Downloads\\SAM2_Eval\\SAM2_Eval_Surgical_Datasets\\temp_jpg_frames\\1029.jpg\n",
      "Looking for mask in: c:\\Users\\devan\\Downloads\\SAM2_Eval\\SAM2_Eval_Surgical_Datasets\\../Datasets\\CholecSeg8k\\test\\Masks\\Abdominal Wall\\video18\\video18_00979\\1030.jpg\n",
      "Looking for mask in: c:\\Users\\devan\\Downloads\\SAM2_Eval\\SAM2_Eval_Surgical_Datasets\\../Datasets\\CholecSeg8k\\test\\Masks\\Fat\\video18\\video18_00979\\1030.jpg\n",
      "Looking for mask in: c:\\Users\\devan\\Downloads\\SAM2_Eval\\SAM2_Eval_Surgical_Datasets\\../Datasets\\CholecSeg8k\\test\\Masks\\Gall bladder\\video18\\video18_00979\\1030.jpg\n",
      "Looking for mask in: c:\\Users\\devan\\Downloads\\SAM2_Eval\\SAM2_Eval_Surgical_Datasets\\../Datasets\\CholecSeg8k\\test\\Masks\\Gastrointestinal Tract\\video18\\video18_00979\\1030.jpg\n",
      "Looking for mask in: c:\\Users\\devan\\Downloads\\SAM2_Eval\\SAM2_Eval_Surgical_Datasets\\../Datasets\\CholecSeg8k\\test\\Masks\\Grasper\\video18\\video18_00979\\1030.jpg\n",
      "Looking for mask in: c:\\Users\\devan\\Downloads\\SAM2_Eval\\SAM2_Eval_Surgical_Datasets\\../Datasets\\CholecSeg8k\\test\\Masks\\L-hook Electrocautery\\video18\\video18_00979\\1030.jpg\n",
      "Looking for mask in: c:\\Users\\devan\\Downloads\\SAM2_Eval\\SAM2_Eval_Surgical_Datasets\\../Datasets\\CholecSeg8k\\test\\Masks\\Liver\\video18\\video18_00979\\1030.jpg\n",
      "No matching mask found for frame: c:\\Users\\devan\\Downloads\\SAM2_Eval\\SAM2_Eval_Surgical_Datasets\\temp_jpg_frames\\1030.jpg\n",
      "Looking for mask in: c:\\Users\\devan\\Downloads\\SAM2_Eval\\SAM2_Eval_Surgical_Datasets\\../Datasets\\CholecSeg8k\\test\\Masks\\Abdominal Wall\\video18\\video18_00979\\1031.jpg\n",
      "Looking for mask in: c:\\Users\\devan\\Downloads\\SAM2_Eval\\SAM2_Eval_Surgical_Datasets\\../Datasets\\CholecSeg8k\\test\\Masks\\Fat\\video18\\video18_00979\\1031.jpg\n",
      "Looking for mask in: c:\\Users\\devan\\Downloads\\SAM2_Eval\\SAM2_Eval_Surgical_Datasets\\../Datasets\\CholecSeg8k\\test\\Masks\\Gall bladder\\video18\\video18_00979\\1031.jpg\n",
      "Looking for mask in: c:\\Users\\devan\\Downloads\\SAM2_Eval\\SAM2_Eval_Surgical_Datasets\\../Datasets\\CholecSeg8k\\test\\Masks\\Gastrointestinal Tract\\video18\\video18_00979\\1031.jpg\n",
      "Looking for mask in: c:\\Users\\devan\\Downloads\\SAM2_Eval\\SAM2_Eval_Surgical_Datasets\\../Datasets\\CholecSeg8k\\test\\Masks\\Grasper\\video18\\video18_00979\\1031.jpg\n",
      "Looking for mask in: c:\\Users\\devan\\Downloads\\SAM2_Eval\\SAM2_Eval_Surgical_Datasets\\../Datasets\\CholecSeg8k\\test\\Masks\\L-hook Electrocautery\\video18\\video18_00979\\1031.jpg\n",
      "Looking for mask in: c:\\Users\\devan\\Downloads\\SAM2_Eval\\SAM2_Eval_Surgical_Datasets\\../Datasets\\CholecSeg8k\\test\\Masks\\Liver\\video18\\video18_00979\\1031.jpg\n",
      "No matching mask found for frame: c:\\Users\\devan\\Downloads\\SAM2_Eval\\SAM2_Eval_Surgical_Datasets\\temp_jpg_frames\\1031.jpg\n",
      "Looking for mask in: c:\\Users\\devan\\Downloads\\SAM2_Eval\\SAM2_Eval_Surgical_Datasets\\../Datasets\\CholecSeg8k\\test\\Masks\\Abdominal Wall\\video18\\video18_00979\\1032.jpg\n",
      "Looking for mask in: c:\\Users\\devan\\Downloads\\SAM2_Eval\\SAM2_Eval_Surgical_Datasets\\../Datasets\\CholecSeg8k\\test\\Masks\\Fat\\video18\\video18_00979\\1032.jpg\n",
      "Looking for mask in: c:\\Users\\devan\\Downloads\\SAM2_Eval\\SAM2_Eval_Surgical_Datasets\\../Datasets\\CholecSeg8k\\test\\Masks\\Gall bladder\\video18\\video18_00979\\1032.jpg\n",
      "Looking for mask in: c:\\Users\\devan\\Downloads\\SAM2_Eval\\SAM2_Eval_Surgical_Datasets\\../Datasets\\CholecSeg8k\\test\\Masks\\Gastrointestinal Tract\\video18\\video18_00979\\1032.jpg\n",
      "Looking for mask in: c:\\Users\\devan\\Downloads\\SAM2_Eval\\SAM2_Eval_Surgical_Datasets\\../Datasets\\CholecSeg8k\\test\\Masks\\Grasper\\video18\\video18_00979\\1032.jpg\n",
      "Looking for mask in: c:\\Users\\devan\\Downloads\\SAM2_Eval\\SAM2_Eval_Surgical_Datasets\\../Datasets\\CholecSeg8k\\test\\Masks\\L-hook Electrocautery\\video18\\video18_00979\\1032.jpg\n",
      "Looking for mask in: c:\\Users\\devan\\Downloads\\SAM2_Eval\\SAM2_Eval_Surgical_Datasets\\../Datasets\\CholecSeg8k\\test\\Masks\\Liver\\video18\\video18_00979\\1032.jpg\n",
      "No matching mask found for frame: c:\\Users\\devan\\Downloads\\SAM2_Eval\\SAM2_Eval_Surgical_Datasets\\temp_jpg_frames\\1032.jpg\n",
      "Looking for mask in: c:\\Users\\devan\\Downloads\\SAM2_Eval\\SAM2_Eval_Surgical_Datasets\\../Datasets\\CholecSeg8k\\test\\Masks\\Abdominal Wall\\video18\\video18_00979\\1033.jpg\n",
      "Looking for mask in: c:\\Users\\devan\\Downloads\\SAM2_Eval\\SAM2_Eval_Surgical_Datasets\\../Datasets\\CholecSeg8k\\test\\Masks\\Fat\\video18\\video18_00979\\1033.jpg\n",
      "Looking for mask in: c:\\Users\\devan\\Downloads\\SAM2_Eval\\SAM2_Eval_Surgical_Datasets\\../Datasets\\CholecSeg8k\\test\\Masks\\Gall bladder\\video18\\video18_00979\\1033.jpg\n",
      "Looking for mask in: c:\\Users\\devan\\Downloads\\SAM2_Eval\\SAM2_Eval_Surgical_Datasets\\../Datasets\\CholecSeg8k\\test\\Masks\\Gastrointestinal Tract\\video18\\video18_00979\\1033.jpg\n",
      "Looking for mask in: c:\\Users\\devan\\Downloads\\SAM2_Eval\\SAM2_Eval_Surgical_Datasets\\../Datasets\\CholecSeg8k\\test\\Masks\\Grasper\\video18\\video18_00979\\1033.jpg\n",
      "Looking for mask in: c:\\Users\\devan\\Downloads\\SAM2_Eval\\SAM2_Eval_Surgical_Datasets\\../Datasets\\CholecSeg8k\\test\\Masks\\L-hook Electrocautery\\video18\\video18_00979\\1033.jpg\n",
      "Looking for mask in: c:\\Users\\devan\\Downloads\\SAM2_Eval\\SAM2_Eval_Surgical_Datasets\\../Datasets\\CholecSeg8k\\test\\Masks\\Liver\\video18\\video18_00979\\1033.jpg\n",
      "No matching mask found for frame: c:\\Users\\devan\\Downloads\\SAM2_Eval\\SAM2_Eval_Surgical_Datasets\\temp_jpg_frames\\1033.jpg\n",
      "Looking for mask in: c:\\Users\\devan\\Downloads\\SAM2_Eval\\SAM2_Eval_Surgical_Datasets\\../Datasets\\CholecSeg8k\\test\\Masks\\Abdominal Wall\\video18\\video18_00979\\1034.jpg\n",
      "Looking for mask in: c:\\Users\\devan\\Downloads\\SAM2_Eval\\SAM2_Eval_Surgical_Datasets\\../Datasets\\CholecSeg8k\\test\\Masks\\Fat\\video18\\video18_00979\\1034.jpg\n",
      "Looking for mask in: c:\\Users\\devan\\Downloads\\SAM2_Eval\\SAM2_Eval_Surgical_Datasets\\../Datasets\\CholecSeg8k\\test\\Masks\\Gall bladder\\video18\\video18_00979\\1034.jpg\n",
      "Looking for mask in: c:\\Users\\devan\\Downloads\\SAM2_Eval\\SAM2_Eval_Surgical_Datasets\\../Datasets\\CholecSeg8k\\test\\Masks\\Gastrointestinal Tract\\video18\\video18_00979\\1034.jpg\n",
      "Looking for mask in: c:\\Users\\devan\\Downloads\\SAM2_Eval\\SAM2_Eval_Surgical_Datasets\\../Datasets\\CholecSeg8k\\test\\Masks\\Grasper\\video18\\video18_00979\\1034.jpg\n",
      "Looking for mask in: c:\\Users\\devan\\Downloads\\SAM2_Eval\\SAM2_Eval_Surgical_Datasets\\../Datasets\\CholecSeg8k\\test\\Masks\\L-hook Electrocautery\\video18\\video18_00979\\1034.jpg\n",
      "Looking for mask in: c:\\Users\\devan\\Downloads\\SAM2_Eval\\SAM2_Eval_Surgical_Datasets\\../Datasets\\CholecSeg8k\\test\\Masks\\Liver\\video18\\video18_00979\\1034.jpg\n",
      "No matching mask found for frame: c:\\Users\\devan\\Downloads\\SAM2_Eval\\SAM2_Eval_Surgical_Datasets\\temp_jpg_frames\\1034.jpg\n",
      "Looking for mask in: c:\\Users\\devan\\Downloads\\SAM2_Eval\\SAM2_Eval_Surgical_Datasets\\../Datasets\\CholecSeg8k\\test\\Masks\\Abdominal Wall\\video18\\video18_00979\\1035.jpg\n",
      "Looking for mask in: c:\\Users\\devan\\Downloads\\SAM2_Eval\\SAM2_Eval_Surgical_Datasets\\../Datasets\\CholecSeg8k\\test\\Masks\\Fat\\video18\\video18_00979\\1035.jpg\n",
      "Looking for mask in: c:\\Users\\devan\\Downloads\\SAM2_Eval\\SAM2_Eval_Surgical_Datasets\\../Datasets\\CholecSeg8k\\test\\Masks\\Gall bladder\\video18\\video18_00979\\1035.jpg\n",
      "Looking for mask in: c:\\Users\\devan\\Downloads\\SAM2_Eval\\SAM2_Eval_Surgical_Datasets\\../Datasets\\CholecSeg8k\\test\\Masks\\Gastrointestinal Tract\\video18\\video18_00979\\1035.jpg\n",
      "Looking for mask in: c:\\Users\\devan\\Downloads\\SAM2_Eval\\SAM2_Eval_Surgical_Datasets\\../Datasets\\CholecSeg8k\\test\\Masks\\Grasper\\video18\\video18_00979\\1035.jpg\n",
      "Looking for mask in: c:\\Users\\devan\\Downloads\\SAM2_Eval\\SAM2_Eval_Surgical_Datasets\\../Datasets\\CholecSeg8k\\test\\Masks\\L-hook Electrocautery\\video18\\video18_00979\\1035.jpg\n",
      "Looking for mask in: c:\\Users\\devan\\Downloads\\SAM2_Eval\\SAM2_Eval_Surgical_Datasets\\../Datasets\\CholecSeg8k\\test\\Masks\\Liver\\video18\\video18_00979\\1035.jpg\n",
      "No matching mask found for frame: c:\\Users\\devan\\Downloads\\SAM2_Eval\\SAM2_Eval_Surgical_Datasets\\temp_jpg_frames\\1035.jpg\n",
      "Looking for mask in: c:\\Users\\devan\\Downloads\\SAM2_Eval\\SAM2_Eval_Surgical_Datasets\\../Datasets\\CholecSeg8k\\test\\Masks\\Abdominal Wall\\video18\\video18_00979\\1036.jpg\n",
      "Looking for mask in: c:\\Users\\devan\\Downloads\\SAM2_Eval\\SAM2_Eval_Surgical_Datasets\\../Datasets\\CholecSeg8k\\test\\Masks\\Fat\\video18\\video18_00979\\1036.jpg\n",
      "Looking for mask in: c:\\Users\\devan\\Downloads\\SAM2_Eval\\SAM2_Eval_Surgical_Datasets\\../Datasets\\CholecSeg8k\\test\\Masks\\Gall bladder\\video18\\video18_00979\\1036.jpg\n",
      "Looking for mask in: c:\\Users\\devan\\Downloads\\SAM2_Eval\\SAM2_Eval_Surgical_Datasets\\../Datasets\\CholecSeg8k\\test\\Masks\\Gastrointestinal Tract\\video18\\video18_00979\\1036.jpg\n",
      "Looking for mask in: c:\\Users\\devan\\Downloads\\SAM2_Eval\\SAM2_Eval_Surgical_Datasets\\../Datasets\\CholecSeg8k\\test\\Masks\\Grasper\\video18\\video18_00979\\1036.jpg\n",
      "Looking for mask in: c:\\Users\\devan\\Downloads\\SAM2_Eval\\SAM2_Eval_Surgical_Datasets\\../Datasets\\CholecSeg8k\\test\\Masks\\L-hook Electrocautery\\video18\\video18_00979\\1036.jpg\n",
      "Looking for mask in: c:\\Users\\devan\\Downloads\\SAM2_Eval\\SAM2_Eval_Surgical_Datasets\\../Datasets\\CholecSeg8k\\test\\Masks\\Liver\\video18\\video18_00979\\1036.jpg\n",
      "No matching mask found for frame: c:\\Users\\devan\\Downloads\\SAM2_Eval\\SAM2_Eval_Surgical_Datasets\\temp_jpg_frames\\1036.jpg\n",
      "Looking for mask in: c:\\Users\\devan\\Downloads\\SAM2_Eval\\SAM2_Eval_Surgical_Datasets\\../Datasets\\CholecSeg8k\\test\\Masks\\Abdominal Wall\\video18\\video18_00979\\1037.jpg\n",
      "Looking for mask in: c:\\Users\\devan\\Downloads\\SAM2_Eval\\SAM2_Eval_Surgical_Datasets\\../Datasets\\CholecSeg8k\\test\\Masks\\Fat\\video18\\video18_00979\\1037.jpg\n",
      "Looking for mask in: c:\\Users\\devan\\Downloads\\SAM2_Eval\\SAM2_Eval_Surgical_Datasets\\../Datasets\\CholecSeg8k\\test\\Masks\\Gall bladder\\video18\\video18_00979\\1037.jpg\n",
      "Looking for mask in: c:\\Users\\devan\\Downloads\\SAM2_Eval\\SAM2_Eval_Surgical_Datasets\\../Datasets\\CholecSeg8k\\test\\Masks\\Gastrointestinal Tract\\video18\\video18_00979\\1037.jpg\n",
      "Looking for mask in: c:\\Users\\devan\\Downloads\\SAM2_Eval\\SAM2_Eval_Surgical_Datasets\\../Datasets\\CholecSeg8k\\test\\Masks\\Grasper\\video18\\video18_00979\\1037.jpg\n",
      "Looking for mask in: c:\\Users\\devan\\Downloads\\SAM2_Eval\\SAM2_Eval_Surgical_Datasets\\../Datasets\\CholecSeg8k\\test\\Masks\\L-hook Electrocautery\\video18\\video18_00979\\1037.jpg\n",
      "Looking for mask in: c:\\Users\\devan\\Downloads\\SAM2_Eval\\SAM2_Eval_Surgical_Datasets\\../Datasets\\CholecSeg8k\\test\\Masks\\Liver\\video18\\video18_00979\\1037.jpg\n",
      "No matching mask found for frame: c:\\Users\\devan\\Downloads\\SAM2_Eval\\SAM2_Eval_Surgical_Datasets\\temp_jpg_frames\\1037.jpg\n",
      "Looking for mask in: c:\\Users\\devan\\Downloads\\SAM2_Eval\\SAM2_Eval_Surgical_Datasets\\../Datasets\\CholecSeg8k\\test\\Masks\\Abdominal Wall\\video18\\video18_00979\\1038.jpg\n",
      "Looking for mask in: c:\\Users\\devan\\Downloads\\SAM2_Eval\\SAM2_Eval_Surgical_Datasets\\../Datasets\\CholecSeg8k\\test\\Masks\\Fat\\video18\\video18_00979\\1038.jpg\n",
      "Looking for mask in: c:\\Users\\devan\\Downloads\\SAM2_Eval\\SAM2_Eval_Surgical_Datasets\\../Datasets\\CholecSeg8k\\test\\Masks\\Gall bladder\\video18\\video18_00979\\1038.jpg\n",
      "Looking for mask in: c:\\Users\\devan\\Downloads\\SAM2_Eval\\SAM2_Eval_Surgical_Datasets\\../Datasets\\CholecSeg8k\\test\\Masks\\Gastrointestinal Tract\\video18\\video18_00979\\1038.jpg\n",
      "Looking for mask in: c:\\Users\\devan\\Downloads\\SAM2_Eval\\SAM2_Eval_Surgical_Datasets\\../Datasets\\CholecSeg8k\\test\\Masks\\Grasper\\video18\\video18_00979\\1038.jpg\n",
      "Looking for mask in: c:\\Users\\devan\\Downloads\\SAM2_Eval\\SAM2_Eval_Surgical_Datasets\\../Datasets\\CholecSeg8k\\test\\Masks\\L-hook Electrocautery\\video18\\video18_00979\\1038.jpg\n",
      "Looking for mask in: c:\\Users\\devan\\Downloads\\SAM2_Eval\\SAM2_Eval_Surgical_Datasets\\../Datasets\\CholecSeg8k\\test\\Masks\\Liver\\video18\\video18_00979\\1038.jpg\n",
      "No matching mask found for frame: c:\\Users\\devan\\Downloads\\SAM2_Eval\\SAM2_Eval_Surgical_Datasets\\temp_jpg_frames\\1038.jpg\n",
      "Looking for mask in: c:\\Users\\devan\\Downloads\\SAM2_Eval\\SAM2_Eval_Surgical_Datasets\\../Datasets\\CholecSeg8k\\test\\Masks\\Abdominal Wall\\video18\\video18_00979\\1039.jpg\n",
      "Looking for mask in: c:\\Users\\devan\\Downloads\\SAM2_Eval\\SAM2_Eval_Surgical_Datasets\\../Datasets\\CholecSeg8k\\test\\Masks\\Fat\\video18\\video18_00979\\1039.jpg\n",
      "Looking for mask in: c:\\Users\\devan\\Downloads\\SAM2_Eval\\SAM2_Eval_Surgical_Datasets\\../Datasets\\CholecSeg8k\\test\\Masks\\Gall bladder\\video18\\video18_00979\\1039.jpg\n",
      "Looking for mask in: c:\\Users\\devan\\Downloads\\SAM2_Eval\\SAM2_Eval_Surgical_Datasets\\../Datasets\\CholecSeg8k\\test\\Masks\\Gastrointestinal Tract\\video18\\video18_00979\\1039.jpg\n",
      "Looking for mask in: c:\\Users\\devan\\Downloads\\SAM2_Eval\\SAM2_Eval_Surgical_Datasets\\../Datasets\\CholecSeg8k\\test\\Masks\\Grasper\\video18\\video18_00979\\1039.jpg\n",
      "Looking for mask in: c:\\Users\\devan\\Downloads\\SAM2_Eval\\SAM2_Eval_Surgical_Datasets\\../Datasets\\CholecSeg8k\\test\\Masks\\L-hook Electrocautery\\video18\\video18_00979\\1039.jpg\n",
      "Looking for mask in: c:\\Users\\devan\\Downloads\\SAM2_Eval\\SAM2_Eval_Surgical_Datasets\\../Datasets\\CholecSeg8k\\test\\Masks\\Liver\\video18\\video18_00979\\1039.jpg\n",
      "No matching mask found for frame: c:\\Users\\devan\\Downloads\\SAM2_Eval\\SAM2_Eval_Surgical_Datasets\\temp_jpg_frames\\1039.jpg\n",
      "Looking for mask in: c:\\Users\\devan\\Downloads\\SAM2_Eval\\SAM2_Eval_Surgical_Datasets\\../Datasets\\CholecSeg8k\\test\\Masks\\Abdominal Wall\\video18\\video18_00979\\1040.jpg\n",
      "Looking for mask in: c:\\Users\\devan\\Downloads\\SAM2_Eval\\SAM2_Eval_Surgical_Datasets\\../Datasets\\CholecSeg8k\\test\\Masks\\Fat\\video18\\video18_00979\\1040.jpg\n",
      "Looking for mask in: c:\\Users\\devan\\Downloads\\SAM2_Eval\\SAM2_Eval_Surgical_Datasets\\../Datasets\\CholecSeg8k\\test\\Masks\\Gall bladder\\video18\\video18_00979\\1040.jpg\n",
      "Looking for mask in: c:\\Users\\devan\\Downloads\\SAM2_Eval\\SAM2_Eval_Surgical_Datasets\\../Datasets\\CholecSeg8k\\test\\Masks\\Gastrointestinal Tract\\video18\\video18_00979\\1040.jpg\n",
      "Looking for mask in: c:\\Users\\devan\\Downloads\\SAM2_Eval\\SAM2_Eval_Surgical_Datasets\\../Datasets\\CholecSeg8k\\test\\Masks\\Grasper\\video18\\video18_00979\\1040.jpg\n",
      "Looking for mask in: c:\\Users\\devan\\Downloads\\SAM2_Eval\\SAM2_Eval_Surgical_Datasets\\../Datasets\\CholecSeg8k\\test\\Masks\\L-hook Electrocautery\\video18\\video18_00979\\1040.jpg\n",
      "Looking for mask in: c:\\Users\\devan\\Downloads\\SAM2_Eval\\SAM2_Eval_Surgical_Datasets\\../Datasets\\CholecSeg8k\\test\\Masks\\Liver\\video18\\video18_00979\\1040.jpg\n",
      "No matching mask found for frame: c:\\Users\\devan\\Downloads\\SAM2_Eval\\SAM2_Eval_Surgical_Datasets\\temp_jpg_frames\\1040.jpg\n",
      "Looking for mask in: c:\\Users\\devan\\Downloads\\SAM2_Eval\\SAM2_Eval_Surgical_Datasets\\../Datasets\\CholecSeg8k\\test\\Masks\\Abdominal Wall\\video18\\video18_00979\\1041.jpg\n",
      "Looking for mask in: c:\\Users\\devan\\Downloads\\SAM2_Eval\\SAM2_Eval_Surgical_Datasets\\../Datasets\\CholecSeg8k\\test\\Masks\\Fat\\video18\\video18_00979\\1041.jpg\n",
      "Looking for mask in: c:\\Users\\devan\\Downloads\\SAM2_Eval\\SAM2_Eval_Surgical_Datasets\\../Datasets\\CholecSeg8k\\test\\Masks\\Gall bladder\\video18\\video18_00979\\1041.jpg\n",
      "Looking for mask in: c:\\Users\\devan\\Downloads\\SAM2_Eval\\SAM2_Eval_Surgical_Datasets\\../Datasets\\CholecSeg8k\\test\\Masks\\Gastrointestinal Tract\\video18\\video18_00979\\1041.jpg\n",
      "Looking for mask in: c:\\Users\\devan\\Downloads\\SAM2_Eval\\SAM2_Eval_Surgical_Datasets\\../Datasets\\CholecSeg8k\\test\\Masks\\Grasper\\video18\\video18_00979\\1041.jpg\n",
      "Looking for mask in: c:\\Users\\devan\\Downloads\\SAM2_Eval\\SAM2_Eval_Surgical_Datasets\\../Datasets\\CholecSeg8k\\test\\Masks\\L-hook Electrocautery\\video18\\video18_00979\\1041.jpg\n",
      "Looking for mask in: c:\\Users\\devan\\Downloads\\SAM2_Eval\\SAM2_Eval_Surgical_Datasets\\../Datasets\\CholecSeg8k\\test\\Masks\\Liver\\video18\\video18_00979\\1041.jpg\n",
      "No matching mask found for frame: c:\\Users\\devan\\Downloads\\SAM2_Eval\\SAM2_Eval_Surgical_Datasets\\temp_jpg_frames\\1041.jpg\n",
      "Looking for mask in: c:\\Users\\devan\\Downloads\\SAM2_Eval\\SAM2_Eval_Surgical_Datasets\\../Datasets\\CholecSeg8k\\test\\Masks\\Abdominal Wall\\video18\\video18_00979\\1042.jpg\n",
      "Looking for mask in: c:\\Users\\devan\\Downloads\\SAM2_Eval\\SAM2_Eval_Surgical_Datasets\\../Datasets\\CholecSeg8k\\test\\Masks\\Fat\\video18\\video18_00979\\1042.jpg\n",
      "Looking for mask in: c:\\Users\\devan\\Downloads\\SAM2_Eval\\SAM2_Eval_Surgical_Datasets\\../Datasets\\CholecSeg8k\\test\\Masks\\Gall bladder\\video18\\video18_00979\\1042.jpg\n",
      "Looking for mask in: c:\\Users\\devan\\Downloads\\SAM2_Eval\\SAM2_Eval_Surgical_Datasets\\../Datasets\\CholecSeg8k\\test\\Masks\\Gastrointestinal Tract\\video18\\video18_00979\\1042.jpg\n",
      "Looking for mask in: c:\\Users\\devan\\Downloads\\SAM2_Eval\\SAM2_Eval_Surgical_Datasets\\../Datasets\\CholecSeg8k\\test\\Masks\\Grasper\\video18\\video18_00979\\1042.jpg\n",
      "Looking for mask in: c:\\Users\\devan\\Downloads\\SAM2_Eval\\SAM2_Eval_Surgical_Datasets\\../Datasets\\CholecSeg8k\\test\\Masks\\L-hook Electrocautery\\video18\\video18_00979\\1042.jpg\n",
      "Looking for mask in: c:\\Users\\devan\\Downloads\\SAM2_Eval\\SAM2_Eval_Surgical_Datasets\\../Datasets\\CholecSeg8k\\test\\Masks\\Liver\\video18\\video18_00979\\1042.jpg\n",
      "No matching mask found for frame: c:\\Users\\devan\\Downloads\\SAM2_Eval\\SAM2_Eval_Surgical_Datasets\\temp_jpg_frames\\1042.jpg\n",
      "Looking for mask in: c:\\Users\\devan\\Downloads\\SAM2_Eval\\SAM2_Eval_Surgical_Datasets\\../Datasets\\CholecSeg8k\\test\\Masks\\Abdominal Wall\\video18\\video18_00979\\1043.jpg\n",
      "Looking for mask in: c:\\Users\\devan\\Downloads\\SAM2_Eval\\SAM2_Eval_Surgical_Datasets\\../Datasets\\CholecSeg8k\\test\\Masks\\Fat\\video18\\video18_00979\\1043.jpg\n",
      "Looking for mask in: c:\\Users\\devan\\Downloads\\SAM2_Eval\\SAM2_Eval_Surgical_Datasets\\../Datasets\\CholecSeg8k\\test\\Masks\\Gall bladder\\video18\\video18_00979\\1043.jpg\n",
      "Looking for mask in: c:\\Users\\devan\\Downloads\\SAM2_Eval\\SAM2_Eval_Surgical_Datasets\\../Datasets\\CholecSeg8k\\test\\Masks\\Gastrointestinal Tract\\video18\\video18_00979\\1043.jpg\n",
      "Looking for mask in: c:\\Users\\devan\\Downloads\\SAM2_Eval\\SAM2_Eval_Surgical_Datasets\\../Datasets\\CholecSeg8k\\test\\Masks\\Grasper\\video18\\video18_00979\\1043.jpg\n",
      "Looking for mask in: c:\\Users\\devan\\Downloads\\SAM2_Eval\\SAM2_Eval_Surgical_Datasets\\../Datasets\\CholecSeg8k\\test\\Masks\\L-hook Electrocautery\\video18\\video18_00979\\1043.jpg\n",
      "Looking for mask in: c:\\Users\\devan\\Downloads\\SAM2_Eval\\SAM2_Eval_Surgical_Datasets\\../Datasets\\CholecSeg8k\\test\\Masks\\Liver\\video18\\video18_00979\\1043.jpg\n",
      "No matching mask found for frame: c:\\Users\\devan\\Downloads\\SAM2_Eval\\SAM2_Eval_Surgical_Datasets\\temp_jpg_frames\\1043.jpg\n",
      "Looking for mask in: c:\\Users\\devan\\Downloads\\SAM2_Eval\\SAM2_Eval_Surgical_Datasets\\../Datasets\\CholecSeg8k\\test\\Masks\\Abdominal Wall\\video18\\video18_00979\\1044.jpg\n",
      "Looking for mask in: c:\\Users\\devan\\Downloads\\SAM2_Eval\\SAM2_Eval_Surgical_Datasets\\../Datasets\\CholecSeg8k\\test\\Masks\\Fat\\video18\\video18_00979\\1044.jpg\n",
      "Looking for mask in: c:\\Users\\devan\\Downloads\\SAM2_Eval\\SAM2_Eval_Surgical_Datasets\\../Datasets\\CholecSeg8k\\test\\Masks\\Gall bladder\\video18\\video18_00979\\1044.jpg\n",
      "Looking for mask in: c:\\Users\\devan\\Downloads\\SAM2_Eval\\SAM2_Eval_Surgical_Datasets\\../Datasets\\CholecSeg8k\\test\\Masks\\Gastrointestinal Tract\\video18\\video18_00979\\1044.jpg\n",
      "Looking for mask in: c:\\Users\\devan\\Downloads\\SAM2_Eval\\SAM2_Eval_Surgical_Datasets\\../Datasets\\CholecSeg8k\\test\\Masks\\Grasper\\video18\\video18_00979\\1044.jpg\n",
      "Looking for mask in: c:\\Users\\devan\\Downloads\\SAM2_Eval\\SAM2_Eval_Surgical_Datasets\\../Datasets\\CholecSeg8k\\test\\Masks\\L-hook Electrocautery\\video18\\video18_00979\\1044.jpg\n",
      "Looking for mask in: c:\\Users\\devan\\Downloads\\SAM2_Eval\\SAM2_Eval_Surgical_Datasets\\../Datasets\\CholecSeg8k\\test\\Masks\\Liver\\video18\\video18_00979\\1044.jpg\n",
      "No matching mask found for frame: c:\\Users\\devan\\Downloads\\SAM2_Eval\\SAM2_Eval_Surgical_Datasets\\temp_jpg_frames\\1044.jpg\n",
      "Looking for mask in: c:\\Users\\devan\\Downloads\\SAM2_Eval\\SAM2_Eval_Surgical_Datasets\\../Datasets\\CholecSeg8k\\test\\Masks\\Abdominal Wall\\video18\\video18_00979\\1045.jpg\n",
      "Looking for mask in: c:\\Users\\devan\\Downloads\\SAM2_Eval\\SAM2_Eval_Surgical_Datasets\\../Datasets\\CholecSeg8k\\test\\Masks\\Fat\\video18\\video18_00979\\1045.jpg\n",
      "Looking for mask in: c:\\Users\\devan\\Downloads\\SAM2_Eval\\SAM2_Eval_Surgical_Datasets\\../Datasets\\CholecSeg8k\\test\\Masks\\Gall bladder\\video18\\video18_00979\\1045.jpg\n",
      "Looking for mask in: c:\\Users\\devan\\Downloads\\SAM2_Eval\\SAM2_Eval_Surgical_Datasets\\../Datasets\\CholecSeg8k\\test\\Masks\\Gastrointestinal Tract\\video18\\video18_00979\\1045.jpg\n",
      "Looking for mask in: c:\\Users\\devan\\Downloads\\SAM2_Eval\\SAM2_Eval_Surgical_Datasets\\../Datasets\\CholecSeg8k\\test\\Masks\\Grasper\\video18\\video18_00979\\1045.jpg\n",
      "Looking for mask in: c:\\Users\\devan\\Downloads\\SAM2_Eval\\SAM2_Eval_Surgical_Datasets\\../Datasets\\CholecSeg8k\\test\\Masks\\L-hook Electrocautery\\video18\\video18_00979\\1045.jpg\n",
      "Looking for mask in: c:\\Users\\devan\\Downloads\\SAM2_Eval\\SAM2_Eval_Surgical_Datasets\\../Datasets\\CholecSeg8k\\test\\Masks\\Liver\\video18\\video18_00979\\1045.jpg\n",
      "No matching mask found for frame: c:\\Users\\devan\\Downloads\\SAM2_Eval\\SAM2_Eval_Surgical_Datasets\\temp_jpg_frames\\1045.jpg\n",
      "Looking for mask in: c:\\Users\\devan\\Downloads\\SAM2_Eval\\SAM2_Eval_Surgical_Datasets\\../Datasets\\CholecSeg8k\\test\\Masks\\Abdominal Wall\\video18\\video18_00979\\1046.jpg\n",
      "Looking for mask in: c:\\Users\\devan\\Downloads\\SAM2_Eval\\SAM2_Eval_Surgical_Datasets\\../Datasets\\CholecSeg8k\\test\\Masks\\Fat\\video18\\video18_00979\\1046.jpg\n",
      "Looking for mask in: c:\\Users\\devan\\Downloads\\SAM2_Eval\\SAM2_Eval_Surgical_Datasets\\../Datasets\\CholecSeg8k\\test\\Masks\\Gall bladder\\video18\\video18_00979\\1046.jpg\n",
      "Looking for mask in: c:\\Users\\devan\\Downloads\\SAM2_Eval\\SAM2_Eval_Surgical_Datasets\\../Datasets\\CholecSeg8k\\test\\Masks\\Gastrointestinal Tract\\video18\\video18_00979\\1046.jpg\n",
      "Looking for mask in: c:\\Users\\devan\\Downloads\\SAM2_Eval\\SAM2_Eval_Surgical_Datasets\\../Datasets\\CholecSeg8k\\test\\Masks\\Grasper\\video18\\video18_00979\\1046.jpg\n",
      "Looking for mask in: c:\\Users\\devan\\Downloads\\SAM2_Eval\\SAM2_Eval_Surgical_Datasets\\../Datasets\\CholecSeg8k\\test\\Masks\\L-hook Electrocautery\\video18\\video18_00979\\1046.jpg\n",
      "Looking for mask in: c:\\Users\\devan\\Downloads\\SAM2_Eval\\SAM2_Eval_Surgical_Datasets\\../Datasets\\CholecSeg8k\\test\\Masks\\Liver\\video18\\video18_00979\\1046.jpg\n",
      "No matching mask found for frame: c:\\Users\\devan\\Downloads\\SAM2_Eval\\SAM2_Eval_Surgical_Datasets\\temp_jpg_frames\\1046.jpg\n",
      "Looking for mask in: c:\\Users\\devan\\Downloads\\SAM2_Eval\\SAM2_Eval_Surgical_Datasets\\../Datasets\\CholecSeg8k\\test\\Masks\\Abdominal Wall\\video18\\video18_00979\\1047.jpg\n",
      "Looking for mask in: c:\\Users\\devan\\Downloads\\SAM2_Eval\\SAM2_Eval_Surgical_Datasets\\../Datasets\\CholecSeg8k\\test\\Masks\\Fat\\video18\\video18_00979\\1047.jpg\n",
      "Looking for mask in: c:\\Users\\devan\\Downloads\\SAM2_Eval\\SAM2_Eval_Surgical_Datasets\\../Datasets\\CholecSeg8k\\test\\Masks\\Gall bladder\\video18\\video18_00979\\1047.jpg\n",
      "Looking for mask in: c:\\Users\\devan\\Downloads\\SAM2_Eval\\SAM2_Eval_Surgical_Datasets\\../Datasets\\CholecSeg8k\\test\\Masks\\Gastrointestinal Tract\\video18\\video18_00979\\1047.jpg\n",
      "Looking for mask in: c:\\Users\\devan\\Downloads\\SAM2_Eval\\SAM2_Eval_Surgical_Datasets\\../Datasets\\CholecSeg8k\\test\\Masks\\Grasper\\video18\\video18_00979\\1047.jpg\n",
      "Looking for mask in: c:\\Users\\devan\\Downloads\\SAM2_Eval\\SAM2_Eval_Surgical_Datasets\\../Datasets\\CholecSeg8k\\test\\Masks\\L-hook Electrocautery\\video18\\video18_00979\\1047.jpg\n",
      "Looking for mask in: c:\\Users\\devan\\Downloads\\SAM2_Eval\\SAM2_Eval_Surgical_Datasets\\../Datasets\\CholecSeg8k\\test\\Masks\\Liver\\video18\\video18_00979\\1047.jpg\n",
      "No matching mask found for frame: c:\\Users\\devan\\Downloads\\SAM2_Eval\\SAM2_Eval_Surgical_Datasets\\temp_jpg_frames\\1047.jpg\n",
      "Looking for mask in: c:\\Users\\devan\\Downloads\\SAM2_Eval\\SAM2_Eval_Surgical_Datasets\\../Datasets\\CholecSeg8k\\test\\Masks\\Abdominal Wall\\video18\\video18_00979\\1048.jpg\n",
      "Looking for mask in: c:\\Users\\devan\\Downloads\\SAM2_Eval\\SAM2_Eval_Surgical_Datasets\\../Datasets\\CholecSeg8k\\test\\Masks\\Fat\\video18\\video18_00979\\1048.jpg\n",
      "Looking for mask in: c:\\Users\\devan\\Downloads\\SAM2_Eval\\SAM2_Eval_Surgical_Datasets\\../Datasets\\CholecSeg8k\\test\\Masks\\Gall bladder\\video18\\video18_00979\\1048.jpg\n",
      "Looking for mask in: c:\\Users\\devan\\Downloads\\SAM2_Eval\\SAM2_Eval_Surgical_Datasets\\../Datasets\\CholecSeg8k\\test\\Masks\\Gastrointestinal Tract\\video18\\video18_00979\\1048.jpg\n",
      "Looking for mask in: c:\\Users\\devan\\Downloads\\SAM2_Eval\\SAM2_Eval_Surgical_Datasets\\../Datasets\\CholecSeg8k\\test\\Masks\\Grasper\\video18\\video18_00979\\1048.jpg\n",
      "Looking for mask in: c:\\Users\\devan\\Downloads\\SAM2_Eval\\SAM2_Eval_Surgical_Datasets\\../Datasets\\CholecSeg8k\\test\\Masks\\L-hook Electrocautery\\video18\\video18_00979\\1048.jpg\n",
      "Looking for mask in: c:\\Users\\devan\\Downloads\\SAM2_Eval\\SAM2_Eval_Surgical_Datasets\\../Datasets\\CholecSeg8k\\test\\Masks\\Liver\\video18\\video18_00979\\1048.jpg\n",
      "No matching mask found for frame: c:\\Users\\devan\\Downloads\\SAM2_Eval\\SAM2_Eval_Surgical_Datasets\\temp_jpg_frames\\1048.jpg\n",
      "Looking for mask in: c:\\Users\\devan\\Downloads\\SAM2_Eval\\SAM2_Eval_Surgical_Datasets\\../Datasets\\CholecSeg8k\\test\\Masks\\Abdominal Wall\\video18\\video18_00979\\1049.jpg\n",
      "Looking for mask in: c:\\Users\\devan\\Downloads\\SAM2_Eval\\SAM2_Eval_Surgical_Datasets\\../Datasets\\CholecSeg8k\\test\\Masks\\Fat\\video18\\video18_00979\\1049.jpg\n",
      "Looking for mask in: c:\\Users\\devan\\Downloads\\SAM2_Eval\\SAM2_Eval_Surgical_Datasets\\../Datasets\\CholecSeg8k\\test\\Masks\\Gall bladder\\video18\\video18_00979\\1049.jpg\n",
      "Looking for mask in: c:\\Users\\devan\\Downloads\\SAM2_Eval\\SAM2_Eval_Surgical_Datasets\\../Datasets\\CholecSeg8k\\test\\Masks\\Gastrointestinal Tract\\video18\\video18_00979\\1049.jpg\n",
      "Looking for mask in: c:\\Users\\devan\\Downloads\\SAM2_Eval\\SAM2_Eval_Surgical_Datasets\\../Datasets\\CholecSeg8k\\test\\Masks\\Grasper\\video18\\video18_00979\\1049.jpg\n",
      "Looking for mask in: c:\\Users\\devan\\Downloads\\SAM2_Eval\\SAM2_Eval_Surgical_Datasets\\../Datasets\\CholecSeg8k\\test\\Masks\\L-hook Electrocautery\\video18\\video18_00979\\1049.jpg\n",
      "Looking for mask in: c:\\Users\\devan\\Downloads\\SAM2_Eval\\SAM2_Eval_Surgical_Datasets\\../Datasets\\CholecSeg8k\\test\\Masks\\Liver\\video18\\video18_00979\\1049.jpg\n",
      "No matching mask found for frame: c:\\Users\\devan\\Downloads\\SAM2_Eval\\SAM2_Eval_Surgical_Datasets\\temp_jpg_frames\\1049.jpg\n",
      "Looking for mask in: c:\\Users\\devan\\Downloads\\SAM2_Eval\\SAM2_Eval_Surgical_Datasets\\../Datasets\\CholecSeg8k\\test\\Masks\\Abdominal Wall\\video18\\video18_00979\\1050.jpg\n",
      "Looking for mask in: c:\\Users\\devan\\Downloads\\SAM2_Eval\\SAM2_Eval_Surgical_Datasets\\../Datasets\\CholecSeg8k\\test\\Masks\\Fat\\video18\\video18_00979\\1050.jpg\n",
      "Looking for mask in: c:\\Users\\devan\\Downloads\\SAM2_Eval\\SAM2_Eval_Surgical_Datasets\\../Datasets\\CholecSeg8k\\test\\Masks\\Gall bladder\\video18\\video18_00979\\1050.jpg\n",
      "Looking for mask in: c:\\Users\\devan\\Downloads\\SAM2_Eval\\SAM2_Eval_Surgical_Datasets\\../Datasets\\CholecSeg8k\\test\\Masks\\Gastrointestinal Tract\\video18\\video18_00979\\1050.jpg\n",
      "Looking for mask in: c:\\Users\\devan\\Downloads\\SAM2_Eval\\SAM2_Eval_Surgical_Datasets\\../Datasets\\CholecSeg8k\\test\\Masks\\Grasper\\video18\\video18_00979\\1050.jpg\n",
      "Looking for mask in: c:\\Users\\devan\\Downloads\\SAM2_Eval\\SAM2_Eval_Surgical_Datasets\\../Datasets\\CholecSeg8k\\test\\Masks\\L-hook Electrocautery\\video18\\video18_00979\\1050.jpg\n",
      "Looking for mask in: c:\\Users\\devan\\Downloads\\SAM2_Eval\\SAM2_Eval_Surgical_Datasets\\../Datasets\\CholecSeg8k\\test\\Masks\\Liver\\video18\\video18_00979\\1050.jpg\n",
      "No matching mask found for frame: c:\\Users\\devan\\Downloads\\SAM2_Eval\\SAM2_Eval_Surgical_Datasets\\temp_jpg_frames\\1050.jpg\n",
      "Looking for mask in: c:\\Users\\devan\\Downloads\\SAM2_Eval\\SAM2_Eval_Surgical_Datasets\\../Datasets\\CholecSeg8k\\test\\Masks\\Abdominal Wall\\video18\\video18_00979\\1051.jpg\n",
      "Looking for mask in: c:\\Users\\devan\\Downloads\\SAM2_Eval\\SAM2_Eval_Surgical_Datasets\\../Datasets\\CholecSeg8k\\test\\Masks\\Fat\\video18\\video18_00979\\1051.jpg\n",
      "Looking for mask in: c:\\Users\\devan\\Downloads\\SAM2_Eval\\SAM2_Eval_Surgical_Datasets\\../Datasets\\CholecSeg8k\\test\\Masks\\Gall bladder\\video18\\video18_00979\\1051.jpg\n",
      "Looking for mask in: c:\\Users\\devan\\Downloads\\SAM2_Eval\\SAM2_Eval_Surgical_Datasets\\../Datasets\\CholecSeg8k\\test\\Masks\\Gastrointestinal Tract\\video18\\video18_00979\\1051.jpg\n",
      "Looking for mask in: c:\\Users\\devan\\Downloads\\SAM2_Eval\\SAM2_Eval_Surgical_Datasets\\../Datasets\\CholecSeg8k\\test\\Masks\\Grasper\\video18\\video18_00979\\1051.jpg\n",
      "Looking for mask in: c:\\Users\\devan\\Downloads\\SAM2_Eval\\SAM2_Eval_Surgical_Datasets\\../Datasets\\CholecSeg8k\\test\\Masks\\L-hook Electrocautery\\video18\\video18_00979\\1051.jpg\n",
      "Looking for mask in: c:\\Users\\devan\\Downloads\\SAM2_Eval\\SAM2_Eval_Surgical_Datasets\\../Datasets\\CholecSeg8k\\test\\Masks\\Liver\\video18\\video18_00979\\1051.jpg\n",
      "No matching mask found for frame: c:\\Users\\devan\\Downloads\\SAM2_Eval\\SAM2_Eval_Surgical_Datasets\\temp_jpg_frames\\1051.jpg\n",
      "Looking for mask in: c:\\Users\\devan\\Downloads\\SAM2_Eval\\SAM2_Eval_Surgical_Datasets\\../Datasets\\CholecSeg8k\\test\\Masks\\Abdominal Wall\\video18\\video18_00979\\1052.jpg\n",
      "Looking for mask in: c:\\Users\\devan\\Downloads\\SAM2_Eval\\SAM2_Eval_Surgical_Datasets\\../Datasets\\CholecSeg8k\\test\\Masks\\Fat\\video18\\video18_00979\\1052.jpg\n",
      "Looking for mask in: c:\\Users\\devan\\Downloads\\SAM2_Eval\\SAM2_Eval_Surgical_Datasets\\../Datasets\\CholecSeg8k\\test\\Masks\\Gall bladder\\video18\\video18_00979\\1052.jpg\n",
      "Looking for mask in: c:\\Users\\devan\\Downloads\\SAM2_Eval\\SAM2_Eval_Surgical_Datasets\\../Datasets\\CholecSeg8k\\test\\Masks\\Gastrointestinal Tract\\video18\\video18_00979\\1052.jpg\n",
      "Looking for mask in: c:\\Users\\devan\\Downloads\\SAM2_Eval\\SAM2_Eval_Surgical_Datasets\\../Datasets\\CholecSeg8k\\test\\Masks\\Grasper\\video18\\video18_00979\\1052.jpg\n",
      "Looking for mask in: c:\\Users\\devan\\Downloads\\SAM2_Eval\\SAM2_Eval_Surgical_Datasets\\../Datasets\\CholecSeg8k\\test\\Masks\\L-hook Electrocautery\\video18\\video18_00979\\1052.jpg\n",
      "Looking for mask in: c:\\Users\\devan\\Downloads\\SAM2_Eval\\SAM2_Eval_Surgical_Datasets\\../Datasets\\CholecSeg8k\\test\\Masks\\Liver\\video18\\video18_00979\\1052.jpg\n",
      "No matching mask found for frame: c:\\Users\\devan\\Downloads\\SAM2_Eval\\SAM2_Eval_Surgical_Datasets\\temp_jpg_frames\\1052.jpg\n",
      "Looking for mask in: c:\\Users\\devan\\Downloads\\SAM2_Eval\\SAM2_Eval_Surgical_Datasets\\../Datasets\\CholecSeg8k\\test\\Masks\\Abdominal Wall\\video18\\video18_00979\\1053.jpg\n",
      "Looking for mask in: c:\\Users\\devan\\Downloads\\SAM2_Eval\\SAM2_Eval_Surgical_Datasets\\../Datasets\\CholecSeg8k\\test\\Masks\\Fat\\video18\\video18_00979\\1053.jpg\n",
      "Looking for mask in: c:\\Users\\devan\\Downloads\\SAM2_Eval\\SAM2_Eval_Surgical_Datasets\\../Datasets\\CholecSeg8k\\test\\Masks\\Gall bladder\\video18\\video18_00979\\1053.jpg\n",
      "Looking for mask in: c:\\Users\\devan\\Downloads\\SAM2_Eval\\SAM2_Eval_Surgical_Datasets\\../Datasets\\CholecSeg8k\\test\\Masks\\Gastrointestinal Tract\\video18\\video18_00979\\1053.jpg\n",
      "Looking for mask in: c:\\Users\\devan\\Downloads\\SAM2_Eval\\SAM2_Eval_Surgical_Datasets\\../Datasets\\CholecSeg8k\\test\\Masks\\Grasper\\video18\\video18_00979\\1053.jpg\n",
      "Looking for mask in: c:\\Users\\devan\\Downloads\\SAM2_Eval\\SAM2_Eval_Surgical_Datasets\\../Datasets\\CholecSeg8k\\test\\Masks\\L-hook Electrocautery\\video18\\video18_00979\\1053.jpg\n",
      "Looking for mask in: c:\\Users\\devan\\Downloads\\SAM2_Eval\\SAM2_Eval_Surgical_Datasets\\../Datasets\\CholecSeg8k\\test\\Masks\\Liver\\video18\\video18_00979\\1053.jpg\n",
      "No matching mask found for frame: c:\\Users\\devan\\Downloads\\SAM2_Eval\\SAM2_Eval_Surgical_Datasets\\temp_jpg_frames\\1053.jpg\n",
      "Looking for mask in: c:\\Users\\devan\\Downloads\\SAM2_Eval\\SAM2_Eval_Surgical_Datasets\\../Datasets\\CholecSeg8k\\test\\Masks\\Abdominal Wall\\video18\\video18_00979\\1054.jpg\n",
      "Looking for mask in: c:\\Users\\devan\\Downloads\\SAM2_Eval\\SAM2_Eval_Surgical_Datasets\\../Datasets\\CholecSeg8k\\test\\Masks\\Fat\\video18\\video18_00979\\1054.jpg\n",
      "Looking for mask in: c:\\Users\\devan\\Downloads\\SAM2_Eval\\SAM2_Eval_Surgical_Datasets\\../Datasets\\CholecSeg8k\\test\\Masks\\Gall bladder\\video18\\video18_00979\\1054.jpg\n",
      "Looking for mask in: c:\\Users\\devan\\Downloads\\SAM2_Eval\\SAM2_Eval_Surgical_Datasets\\../Datasets\\CholecSeg8k\\test\\Masks\\Gastrointestinal Tract\\video18\\video18_00979\\1054.jpg\n",
      "Looking for mask in: c:\\Users\\devan\\Downloads\\SAM2_Eval\\SAM2_Eval_Surgical_Datasets\\../Datasets\\CholecSeg8k\\test\\Masks\\Grasper\\video18\\video18_00979\\1054.jpg\n",
      "Looking for mask in: c:\\Users\\devan\\Downloads\\SAM2_Eval\\SAM2_Eval_Surgical_Datasets\\../Datasets\\CholecSeg8k\\test\\Masks\\L-hook Electrocautery\\video18\\video18_00979\\1054.jpg\n",
      "Looking for mask in: c:\\Users\\devan\\Downloads\\SAM2_Eval\\SAM2_Eval_Surgical_Datasets\\../Datasets\\CholecSeg8k\\test\\Masks\\Liver\\video18\\video18_00979\\1054.jpg\n",
      "No matching mask found for frame: c:\\Users\\devan\\Downloads\\SAM2_Eval\\SAM2_Eval_Surgical_Datasets\\temp_jpg_frames\\1054.jpg\n",
      "Looking for mask in: c:\\Users\\devan\\Downloads\\SAM2_Eval\\SAM2_Eval_Surgical_Datasets\\../Datasets\\CholecSeg8k\\test\\Masks\\Abdominal Wall\\video18\\video18_00979\\1055.jpg\n",
      "Looking for mask in: c:\\Users\\devan\\Downloads\\SAM2_Eval\\SAM2_Eval_Surgical_Datasets\\../Datasets\\CholecSeg8k\\test\\Masks\\Fat\\video18\\video18_00979\\1055.jpg\n",
      "Looking for mask in: c:\\Users\\devan\\Downloads\\SAM2_Eval\\SAM2_Eval_Surgical_Datasets\\../Datasets\\CholecSeg8k\\test\\Masks\\Gall bladder\\video18\\video18_00979\\1055.jpg\n",
      "Looking for mask in: c:\\Users\\devan\\Downloads\\SAM2_Eval\\SAM2_Eval_Surgical_Datasets\\../Datasets\\CholecSeg8k\\test\\Masks\\Gastrointestinal Tract\\video18\\video18_00979\\1055.jpg\n",
      "Looking for mask in: c:\\Users\\devan\\Downloads\\SAM2_Eval\\SAM2_Eval_Surgical_Datasets\\../Datasets\\CholecSeg8k\\test\\Masks\\Grasper\\video18\\video18_00979\\1055.jpg\n",
      "Looking for mask in: c:\\Users\\devan\\Downloads\\SAM2_Eval\\SAM2_Eval_Surgical_Datasets\\../Datasets\\CholecSeg8k\\test\\Masks\\L-hook Electrocautery\\video18\\video18_00979\\1055.jpg\n",
      "Looking for mask in: c:\\Users\\devan\\Downloads\\SAM2_Eval\\SAM2_Eval_Surgical_Datasets\\../Datasets\\CholecSeg8k\\test\\Masks\\Liver\\video18\\video18_00979\\1055.jpg\n",
      "No matching mask found for frame: c:\\Users\\devan\\Downloads\\SAM2_Eval\\SAM2_Eval_Surgical_Datasets\\temp_jpg_frames\\1055.jpg\n",
      "Looking for mask in: c:\\Users\\devan\\Downloads\\SAM2_Eval\\SAM2_Eval_Surgical_Datasets\\../Datasets\\CholecSeg8k\\test\\Masks\\Abdominal Wall\\video18\\video18_00979\\1056.jpg\n",
      "Looking for mask in: c:\\Users\\devan\\Downloads\\SAM2_Eval\\SAM2_Eval_Surgical_Datasets\\../Datasets\\CholecSeg8k\\test\\Masks\\Fat\\video18\\video18_00979\\1056.jpg\n",
      "Looking for mask in: c:\\Users\\devan\\Downloads\\SAM2_Eval\\SAM2_Eval_Surgical_Datasets\\../Datasets\\CholecSeg8k\\test\\Masks\\Gall bladder\\video18\\video18_00979\\1056.jpg\n",
      "Looking for mask in: c:\\Users\\devan\\Downloads\\SAM2_Eval\\SAM2_Eval_Surgical_Datasets\\../Datasets\\CholecSeg8k\\test\\Masks\\Gastrointestinal Tract\\video18\\video18_00979\\1056.jpg\n",
      "Looking for mask in: c:\\Users\\devan\\Downloads\\SAM2_Eval\\SAM2_Eval_Surgical_Datasets\\../Datasets\\CholecSeg8k\\test\\Masks\\Grasper\\video18\\video18_00979\\1056.jpg\n",
      "Looking for mask in: c:\\Users\\devan\\Downloads\\SAM2_Eval\\SAM2_Eval_Surgical_Datasets\\../Datasets\\CholecSeg8k\\test\\Masks\\L-hook Electrocautery\\video18\\video18_00979\\1056.jpg\n",
      "Looking for mask in: c:\\Users\\devan\\Downloads\\SAM2_Eval\\SAM2_Eval_Surgical_Datasets\\../Datasets\\CholecSeg8k\\test\\Masks\\Liver\\video18\\video18_00979\\1056.jpg\n",
      "No matching mask found for frame: c:\\Users\\devan\\Downloads\\SAM2_Eval\\SAM2_Eval_Surgical_Datasets\\temp_jpg_frames\\1056.jpg\n",
      "Looking for mask in: c:\\Users\\devan\\Downloads\\SAM2_Eval\\SAM2_Eval_Surgical_Datasets\\../Datasets\\CholecSeg8k\\test\\Masks\\Abdominal Wall\\video18\\video18_00979\\1057.jpg\n",
      "Looking for mask in: c:\\Users\\devan\\Downloads\\SAM2_Eval\\SAM2_Eval_Surgical_Datasets\\../Datasets\\CholecSeg8k\\test\\Masks\\Fat\\video18\\video18_00979\\1057.jpg\n",
      "Looking for mask in: c:\\Users\\devan\\Downloads\\SAM2_Eval\\SAM2_Eval_Surgical_Datasets\\../Datasets\\CholecSeg8k\\test\\Masks\\Gall bladder\\video18\\video18_00979\\1057.jpg\n",
      "Looking for mask in: c:\\Users\\devan\\Downloads\\SAM2_Eval\\SAM2_Eval_Surgical_Datasets\\../Datasets\\CholecSeg8k\\test\\Masks\\Gastrointestinal Tract\\video18\\video18_00979\\1057.jpg\n",
      "Looking for mask in: c:\\Users\\devan\\Downloads\\SAM2_Eval\\SAM2_Eval_Surgical_Datasets\\../Datasets\\CholecSeg8k\\test\\Masks\\Grasper\\video18\\video18_00979\\1057.jpg\n",
      "Looking for mask in: c:\\Users\\devan\\Downloads\\SAM2_Eval\\SAM2_Eval_Surgical_Datasets\\../Datasets\\CholecSeg8k\\test\\Masks\\L-hook Electrocautery\\video18\\video18_00979\\1057.jpg\n",
      "Looking for mask in: c:\\Users\\devan\\Downloads\\SAM2_Eval\\SAM2_Eval_Surgical_Datasets\\../Datasets\\CholecSeg8k\\test\\Masks\\Liver\\video18\\video18_00979\\1057.jpg\n",
      "No matching mask found for frame: c:\\Users\\devan\\Downloads\\SAM2_Eval\\SAM2_Eval_Surgical_Datasets\\temp_jpg_frames\\1057.jpg\n",
      "Looking for mask in: c:\\Users\\devan\\Downloads\\SAM2_Eval\\SAM2_Eval_Surgical_Datasets\\../Datasets\\CholecSeg8k\\test\\Masks\\Abdominal Wall\\video18\\video18_00979\\1058.jpg\n",
      "Looking for mask in: c:\\Users\\devan\\Downloads\\SAM2_Eval\\SAM2_Eval_Surgical_Datasets\\../Datasets\\CholecSeg8k\\test\\Masks\\Fat\\video18\\video18_00979\\1058.jpg\n",
      "Looking for mask in: c:\\Users\\devan\\Downloads\\SAM2_Eval\\SAM2_Eval_Surgical_Datasets\\../Datasets\\CholecSeg8k\\test\\Masks\\Gall bladder\\video18\\video18_00979\\1058.jpg\n",
      "Looking for mask in: c:\\Users\\devan\\Downloads\\SAM2_Eval\\SAM2_Eval_Surgical_Datasets\\../Datasets\\CholecSeg8k\\test\\Masks\\Gastrointestinal Tract\\video18\\video18_00979\\1058.jpg\n",
      "Looking for mask in: c:\\Users\\devan\\Downloads\\SAM2_Eval\\SAM2_Eval_Surgical_Datasets\\../Datasets\\CholecSeg8k\\test\\Masks\\Grasper\\video18\\video18_00979\\1058.jpg\n",
      "Looking for mask in: c:\\Users\\devan\\Downloads\\SAM2_Eval\\SAM2_Eval_Surgical_Datasets\\../Datasets\\CholecSeg8k\\test\\Masks\\L-hook Electrocautery\\video18\\video18_00979\\1058.jpg\n",
      "Looking for mask in: c:\\Users\\devan\\Downloads\\SAM2_Eval\\SAM2_Eval_Surgical_Datasets\\../Datasets\\CholecSeg8k\\test\\Masks\\Liver\\video18\\video18_00979\\1058.jpg\n",
      "No matching mask found for frame: c:\\Users\\devan\\Downloads\\SAM2_Eval\\SAM2_Eval_Surgical_Datasets\\temp_jpg_frames\\1058.jpg\n",
      "Looking for mask in: c:\\Users\\devan\\Downloads\\SAM2_Eval\\SAM2_Eval_Surgical_Datasets\\../Datasets\\CholecSeg8k\\test\\Masks\\Abdominal Wall\\video18\\video18_00979\\979.jpg\n",
      "Looking for mask in: c:\\Users\\devan\\Downloads\\SAM2_Eval\\SAM2_Eval_Surgical_Datasets\\../Datasets\\CholecSeg8k\\test\\Masks\\Fat\\video18\\video18_00979\\979.jpg\n",
      "Looking for mask in: c:\\Users\\devan\\Downloads\\SAM2_Eval\\SAM2_Eval_Surgical_Datasets\\../Datasets\\CholecSeg8k\\test\\Masks\\Gall bladder\\video18\\video18_00979\\979.jpg\n",
      "Looking for mask in: c:\\Users\\devan\\Downloads\\SAM2_Eval\\SAM2_Eval_Surgical_Datasets\\../Datasets\\CholecSeg8k\\test\\Masks\\Gastrointestinal Tract\\video18\\video18_00979\\979.jpg\n",
      "Looking for mask in: c:\\Users\\devan\\Downloads\\SAM2_Eval\\SAM2_Eval_Surgical_Datasets\\../Datasets\\CholecSeg8k\\test\\Masks\\Grasper\\video18\\video18_00979\\979.jpg\n",
      "Looking for mask in: c:\\Users\\devan\\Downloads\\SAM2_Eval\\SAM2_Eval_Surgical_Datasets\\../Datasets\\CholecSeg8k\\test\\Masks\\L-hook Electrocautery\\video18\\video18_00979\\979.jpg\n",
      "Looking for mask in: c:\\Users\\devan\\Downloads\\SAM2_Eval\\SAM2_Eval_Surgical_Datasets\\../Datasets\\CholecSeg8k\\test\\Masks\\Liver\\video18\\video18_00979\\979.jpg\n",
      "No matching mask found for frame: c:\\Users\\devan\\Downloads\\SAM2_Eval\\SAM2_Eval_Surgical_Datasets\\temp_jpg_frames\\979.jpg\n",
      "Looking for mask in: c:\\Users\\devan\\Downloads\\SAM2_Eval\\SAM2_Eval_Surgical_Datasets\\../Datasets\\CholecSeg8k\\test\\Masks\\Abdominal Wall\\video18\\video18_00979\\980.jpg\n",
      "Looking for mask in: c:\\Users\\devan\\Downloads\\SAM2_Eval\\SAM2_Eval_Surgical_Datasets\\../Datasets\\CholecSeg8k\\test\\Masks\\Fat\\video18\\video18_00979\\980.jpg\n",
      "Looking for mask in: c:\\Users\\devan\\Downloads\\SAM2_Eval\\SAM2_Eval_Surgical_Datasets\\../Datasets\\CholecSeg8k\\test\\Masks\\Gall bladder\\video18\\video18_00979\\980.jpg\n",
      "Looking for mask in: c:\\Users\\devan\\Downloads\\SAM2_Eval\\SAM2_Eval_Surgical_Datasets\\../Datasets\\CholecSeg8k\\test\\Masks\\Gastrointestinal Tract\\video18\\video18_00979\\980.jpg\n",
      "Looking for mask in: c:\\Users\\devan\\Downloads\\SAM2_Eval\\SAM2_Eval_Surgical_Datasets\\../Datasets\\CholecSeg8k\\test\\Masks\\Grasper\\video18\\video18_00979\\980.jpg\n",
      "Looking for mask in: c:\\Users\\devan\\Downloads\\SAM2_Eval\\SAM2_Eval_Surgical_Datasets\\../Datasets\\CholecSeg8k\\test\\Masks\\L-hook Electrocautery\\video18\\video18_00979\\980.jpg\n",
      "Looking for mask in: c:\\Users\\devan\\Downloads\\SAM2_Eval\\SAM2_Eval_Surgical_Datasets\\../Datasets\\CholecSeg8k\\test\\Masks\\Liver\\video18\\video18_00979\\980.jpg\n",
      "No matching mask found for frame: c:\\Users\\devan\\Downloads\\SAM2_Eval\\SAM2_Eval_Surgical_Datasets\\temp_jpg_frames\\980.jpg\n",
      "Looking for mask in: c:\\Users\\devan\\Downloads\\SAM2_Eval\\SAM2_Eval_Surgical_Datasets\\../Datasets\\CholecSeg8k\\test\\Masks\\Abdominal Wall\\video18\\video18_00979\\981.jpg\n",
      "Looking for mask in: c:\\Users\\devan\\Downloads\\SAM2_Eval\\SAM2_Eval_Surgical_Datasets\\../Datasets\\CholecSeg8k\\test\\Masks\\Fat\\video18\\video18_00979\\981.jpg\n",
      "Looking for mask in: c:\\Users\\devan\\Downloads\\SAM2_Eval\\SAM2_Eval_Surgical_Datasets\\../Datasets\\CholecSeg8k\\test\\Masks\\Gall bladder\\video18\\video18_00979\\981.jpg\n",
      "Looking for mask in: c:\\Users\\devan\\Downloads\\SAM2_Eval\\SAM2_Eval_Surgical_Datasets\\../Datasets\\CholecSeg8k\\test\\Masks\\Gastrointestinal Tract\\video18\\video18_00979\\981.jpg\n",
      "Looking for mask in: c:\\Users\\devan\\Downloads\\SAM2_Eval\\SAM2_Eval_Surgical_Datasets\\../Datasets\\CholecSeg8k\\test\\Masks\\Grasper\\video18\\video18_00979\\981.jpg\n",
      "Looking for mask in: c:\\Users\\devan\\Downloads\\SAM2_Eval\\SAM2_Eval_Surgical_Datasets\\../Datasets\\CholecSeg8k\\test\\Masks\\L-hook Electrocautery\\video18\\video18_00979\\981.jpg\n",
      "Looking for mask in: c:\\Users\\devan\\Downloads\\SAM2_Eval\\SAM2_Eval_Surgical_Datasets\\../Datasets\\CholecSeg8k\\test\\Masks\\Liver\\video18\\video18_00979\\981.jpg\n",
      "No matching mask found for frame: c:\\Users\\devan\\Downloads\\SAM2_Eval\\SAM2_Eval_Surgical_Datasets\\temp_jpg_frames\\981.jpg\n",
      "Looking for mask in: c:\\Users\\devan\\Downloads\\SAM2_Eval\\SAM2_Eval_Surgical_Datasets\\../Datasets\\CholecSeg8k\\test\\Masks\\Abdominal Wall\\video18\\video18_00979\\982.jpg\n",
      "Looking for mask in: c:\\Users\\devan\\Downloads\\SAM2_Eval\\SAM2_Eval_Surgical_Datasets\\../Datasets\\CholecSeg8k\\test\\Masks\\Fat\\video18\\video18_00979\\982.jpg\n",
      "Looking for mask in: c:\\Users\\devan\\Downloads\\SAM2_Eval\\SAM2_Eval_Surgical_Datasets\\../Datasets\\CholecSeg8k\\test\\Masks\\Gall bladder\\video18\\video18_00979\\982.jpg\n",
      "Looking for mask in: c:\\Users\\devan\\Downloads\\SAM2_Eval\\SAM2_Eval_Surgical_Datasets\\../Datasets\\CholecSeg8k\\test\\Masks\\Gastrointestinal Tract\\video18\\video18_00979\\982.jpg\n",
      "Looking for mask in: c:\\Users\\devan\\Downloads\\SAM2_Eval\\SAM2_Eval_Surgical_Datasets\\../Datasets\\CholecSeg8k\\test\\Masks\\Grasper\\video18\\video18_00979\\982.jpg\n",
      "Looking for mask in: c:\\Users\\devan\\Downloads\\SAM2_Eval\\SAM2_Eval_Surgical_Datasets\\../Datasets\\CholecSeg8k\\test\\Masks\\L-hook Electrocautery\\video18\\video18_00979\\982.jpg\n",
      "Looking for mask in: c:\\Users\\devan\\Downloads\\SAM2_Eval\\SAM2_Eval_Surgical_Datasets\\../Datasets\\CholecSeg8k\\test\\Masks\\Liver\\video18\\video18_00979\\982.jpg\n",
      "No matching mask found for frame: c:\\Users\\devan\\Downloads\\SAM2_Eval\\SAM2_Eval_Surgical_Datasets\\temp_jpg_frames\\982.jpg\n",
      "Looking for mask in: c:\\Users\\devan\\Downloads\\SAM2_Eval\\SAM2_Eval_Surgical_Datasets\\../Datasets\\CholecSeg8k\\test\\Masks\\Abdominal Wall\\video18\\video18_00979\\983.jpg\n",
      "Looking for mask in: c:\\Users\\devan\\Downloads\\SAM2_Eval\\SAM2_Eval_Surgical_Datasets\\../Datasets\\CholecSeg8k\\test\\Masks\\Fat\\video18\\video18_00979\\983.jpg\n",
      "Looking for mask in: c:\\Users\\devan\\Downloads\\SAM2_Eval\\SAM2_Eval_Surgical_Datasets\\../Datasets\\CholecSeg8k\\test\\Masks\\Gall bladder\\video18\\video18_00979\\983.jpg\n",
      "Looking for mask in: c:\\Users\\devan\\Downloads\\SAM2_Eval\\SAM2_Eval_Surgical_Datasets\\../Datasets\\CholecSeg8k\\test\\Masks\\Gastrointestinal Tract\\video18\\video18_00979\\983.jpg\n",
      "Looking for mask in: c:\\Users\\devan\\Downloads\\SAM2_Eval\\SAM2_Eval_Surgical_Datasets\\../Datasets\\CholecSeg8k\\test\\Masks\\Grasper\\video18\\video18_00979\\983.jpg\n",
      "Looking for mask in: c:\\Users\\devan\\Downloads\\SAM2_Eval\\SAM2_Eval_Surgical_Datasets\\../Datasets\\CholecSeg8k\\test\\Masks\\L-hook Electrocautery\\video18\\video18_00979\\983.jpg\n",
      "Looking for mask in: c:\\Users\\devan\\Downloads\\SAM2_Eval\\SAM2_Eval_Surgical_Datasets\\../Datasets\\CholecSeg8k\\test\\Masks\\Liver\\video18\\video18_00979\\983.jpg\n",
      "No matching mask found for frame: c:\\Users\\devan\\Downloads\\SAM2_Eval\\SAM2_Eval_Surgical_Datasets\\temp_jpg_frames\\983.jpg\n",
      "Looking for mask in: c:\\Users\\devan\\Downloads\\SAM2_Eval\\SAM2_Eval_Surgical_Datasets\\../Datasets\\CholecSeg8k\\test\\Masks\\Abdominal Wall\\video18\\video18_00979\\984.jpg\n",
      "Looking for mask in: c:\\Users\\devan\\Downloads\\SAM2_Eval\\SAM2_Eval_Surgical_Datasets\\../Datasets\\CholecSeg8k\\test\\Masks\\Fat\\video18\\video18_00979\\984.jpg\n",
      "Looking for mask in: c:\\Users\\devan\\Downloads\\SAM2_Eval\\SAM2_Eval_Surgical_Datasets\\../Datasets\\CholecSeg8k\\test\\Masks\\Gall bladder\\video18\\video18_00979\\984.jpg\n",
      "Looking for mask in: c:\\Users\\devan\\Downloads\\SAM2_Eval\\SAM2_Eval_Surgical_Datasets\\../Datasets\\CholecSeg8k\\test\\Masks\\Gastrointestinal Tract\\video18\\video18_00979\\984.jpg\n",
      "Looking for mask in: c:\\Users\\devan\\Downloads\\SAM2_Eval\\SAM2_Eval_Surgical_Datasets\\../Datasets\\CholecSeg8k\\test\\Masks\\Grasper\\video18\\video18_00979\\984.jpg\n",
      "Looking for mask in: c:\\Users\\devan\\Downloads\\SAM2_Eval\\SAM2_Eval_Surgical_Datasets\\../Datasets\\CholecSeg8k\\test\\Masks\\L-hook Electrocautery\\video18\\video18_00979\\984.jpg\n",
      "Looking for mask in: c:\\Users\\devan\\Downloads\\SAM2_Eval\\SAM2_Eval_Surgical_Datasets\\../Datasets\\CholecSeg8k\\test\\Masks\\Liver\\video18\\video18_00979\\984.jpg\n",
      "No matching mask found for frame: c:\\Users\\devan\\Downloads\\SAM2_Eval\\SAM2_Eval_Surgical_Datasets\\temp_jpg_frames\\984.jpg\n",
      "Looking for mask in: c:\\Users\\devan\\Downloads\\SAM2_Eval\\SAM2_Eval_Surgical_Datasets\\../Datasets\\CholecSeg8k\\test\\Masks\\Abdominal Wall\\video18\\video18_00979\\985.jpg\n",
      "Looking for mask in: c:\\Users\\devan\\Downloads\\SAM2_Eval\\SAM2_Eval_Surgical_Datasets\\../Datasets\\CholecSeg8k\\test\\Masks\\Fat\\video18\\video18_00979\\985.jpg\n",
      "Looking for mask in: c:\\Users\\devan\\Downloads\\SAM2_Eval\\SAM2_Eval_Surgical_Datasets\\../Datasets\\CholecSeg8k\\test\\Masks\\Gall bladder\\video18\\video18_00979\\985.jpg\n",
      "Looking for mask in: c:\\Users\\devan\\Downloads\\SAM2_Eval\\SAM2_Eval_Surgical_Datasets\\../Datasets\\CholecSeg8k\\test\\Masks\\Gastrointestinal Tract\\video18\\video18_00979\\985.jpg\n",
      "Looking for mask in: c:\\Users\\devan\\Downloads\\SAM2_Eval\\SAM2_Eval_Surgical_Datasets\\../Datasets\\CholecSeg8k\\test\\Masks\\Grasper\\video18\\video18_00979\\985.jpg\n",
      "Looking for mask in: c:\\Users\\devan\\Downloads\\SAM2_Eval\\SAM2_Eval_Surgical_Datasets\\../Datasets\\CholecSeg8k\\test\\Masks\\L-hook Electrocautery\\video18\\video18_00979\\985.jpg\n",
      "Looking for mask in: c:\\Users\\devan\\Downloads\\SAM2_Eval\\SAM2_Eval_Surgical_Datasets\\../Datasets\\CholecSeg8k\\test\\Masks\\Liver\\video18\\video18_00979\\985.jpg\n",
      "No matching mask found for frame: c:\\Users\\devan\\Downloads\\SAM2_Eval\\SAM2_Eval_Surgical_Datasets\\temp_jpg_frames\\985.jpg\n",
      "Looking for mask in: c:\\Users\\devan\\Downloads\\SAM2_Eval\\SAM2_Eval_Surgical_Datasets\\../Datasets\\CholecSeg8k\\test\\Masks\\Abdominal Wall\\video18\\video18_00979\\986.jpg\n",
      "Looking for mask in: c:\\Users\\devan\\Downloads\\SAM2_Eval\\SAM2_Eval_Surgical_Datasets\\../Datasets\\CholecSeg8k\\test\\Masks\\Fat\\video18\\video18_00979\\986.jpg\n",
      "Looking for mask in: c:\\Users\\devan\\Downloads\\SAM2_Eval\\SAM2_Eval_Surgical_Datasets\\../Datasets\\CholecSeg8k\\test\\Masks\\Gall bladder\\video18\\video18_00979\\986.jpg\n",
      "Looking for mask in: c:\\Users\\devan\\Downloads\\SAM2_Eval\\SAM2_Eval_Surgical_Datasets\\../Datasets\\CholecSeg8k\\test\\Masks\\Gastrointestinal Tract\\video18\\video18_00979\\986.jpg\n",
      "Looking for mask in: c:\\Users\\devan\\Downloads\\SAM2_Eval\\SAM2_Eval_Surgical_Datasets\\../Datasets\\CholecSeg8k\\test\\Masks\\Grasper\\video18\\video18_00979\\986.jpg\n",
      "Looking for mask in: c:\\Users\\devan\\Downloads\\SAM2_Eval\\SAM2_Eval_Surgical_Datasets\\../Datasets\\CholecSeg8k\\test\\Masks\\L-hook Electrocautery\\video18\\video18_00979\\986.jpg\n",
      "Looking for mask in: c:\\Users\\devan\\Downloads\\SAM2_Eval\\SAM2_Eval_Surgical_Datasets\\../Datasets\\CholecSeg8k\\test\\Masks\\Liver\\video18\\video18_00979\\986.jpg\n",
      "No matching mask found for frame: c:\\Users\\devan\\Downloads\\SAM2_Eval\\SAM2_Eval_Surgical_Datasets\\temp_jpg_frames\\986.jpg\n",
      "Looking for mask in: c:\\Users\\devan\\Downloads\\SAM2_Eval\\SAM2_Eval_Surgical_Datasets\\../Datasets\\CholecSeg8k\\test\\Masks\\Abdominal Wall\\video18\\video18_00979\\987.jpg\n",
      "Looking for mask in: c:\\Users\\devan\\Downloads\\SAM2_Eval\\SAM2_Eval_Surgical_Datasets\\../Datasets\\CholecSeg8k\\test\\Masks\\Fat\\video18\\video18_00979\\987.jpg\n",
      "Looking for mask in: c:\\Users\\devan\\Downloads\\SAM2_Eval\\SAM2_Eval_Surgical_Datasets\\../Datasets\\CholecSeg8k\\test\\Masks\\Gall bladder\\video18\\video18_00979\\987.jpg\n",
      "Looking for mask in: c:\\Users\\devan\\Downloads\\SAM2_Eval\\SAM2_Eval_Surgical_Datasets\\../Datasets\\CholecSeg8k\\test\\Masks\\Gastrointestinal Tract\\video18\\video18_00979\\987.jpg\n",
      "Looking for mask in: c:\\Users\\devan\\Downloads\\SAM2_Eval\\SAM2_Eval_Surgical_Datasets\\../Datasets\\CholecSeg8k\\test\\Masks\\Grasper\\video18\\video18_00979\\987.jpg\n",
      "Looking for mask in: c:\\Users\\devan\\Downloads\\SAM2_Eval\\SAM2_Eval_Surgical_Datasets\\../Datasets\\CholecSeg8k\\test\\Masks\\L-hook Electrocautery\\video18\\video18_00979\\987.jpg\n",
      "Looking for mask in: c:\\Users\\devan\\Downloads\\SAM2_Eval\\SAM2_Eval_Surgical_Datasets\\../Datasets\\CholecSeg8k\\test\\Masks\\Liver\\video18\\video18_00979\\987.jpg\n",
      "No matching mask found for frame: c:\\Users\\devan\\Downloads\\SAM2_Eval\\SAM2_Eval_Surgical_Datasets\\temp_jpg_frames\\987.jpg\n",
      "Looking for mask in: c:\\Users\\devan\\Downloads\\SAM2_Eval\\SAM2_Eval_Surgical_Datasets\\../Datasets\\CholecSeg8k\\test\\Masks\\Abdominal Wall\\video18\\video18_00979\\988.jpg\n",
      "Looking for mask in: c:\\Users\\devan\\Downloads\\SAM2_Eval\\SAM2_Eval_Surgical_Datasets\\../Datasets\\CholecSeg8k\\test\\Masks\\Fat\\video18\\video18_00979\\988.jpg\n",
      "Looking for mask in: c:\\Users\\devan\\Downloads\\SAM2_Eval\\SAM2_Eval_Surgical_Datasets\\../Datasets\\CholecSeg8k\\test\\Masks\\Gall bladder\\video18\\video18_00979\\988.jpg\n",
      "Looking for mask in: c:\\Users\\devan\\Downloads\\SAM2_Eval\\SAM2_Eval_Surgical_Datasets\\../Datasets\\CholecSeg8k\\test\\Masks\\Gastrointestinal Tract\\video18\\video18_00979\\988.jpg\n",
      "Looking for mask in: c:\\Users\\devan\\Downloads\\SAM2_Eval\\SAM2_Eval_Surgical_Datasets\\../Datasets\\CholecSeg8k\\test\\Masks\\Grasper\\video18\\video18_00979\\988.jpg\n",
      "Looking for mask in: c:\\Users\\devan\\Downloads\\SAM2_Eval\\SAM2_Eval_Surgical_Datasets\\../Datasets\\CholecSeg8k\\test\\Masks\\L-hook Electrocautery\\video18\\video18_00979\\988.jpg\n",
      "Looking for mask in: c:\\Users\\devan\\Downloads\\SAM2_Eval\\SAM2_Eval_Surgical_Datasets\\../Datasets\\CholecSeg8k\\test\\Masks\\Liver\\video18\\video18_00979\\988.jpg\n",
      "No matching mask found for frame: c:\\Users\\devan\\Downloads\\SAM2_Eval\\SAM2_Eval_Surgical_Datasets\\temp_jpg_frames\\988.jpg\n",
      "Looking for mask in: c:\\Users\\devan\\Downloads\\SAM2_Eval\\SAM2_Eval_Surgical_Datasets\\../Datasets\\CholecSeg8k\\test\\Masks\\Abdominal Wall\\video18\\video18_00979\\989.jpg\n",
      "Looking for mask in: c:\\Users\\devan\\Downloads\\SAM2_Eval\\SAM2_Eval_Surgical_Datasets\\../Datasets\\CholecSeg8k\\test\\Masks\\Fat\\video18\\video18_00979\\989.jpg\n",
      "Looking for mask in: c:\\Users\\devan\\Downloads\\SAM2_Eval\\SAM2_Eval_Surgical_Datasets\\../Datasets\\CholecSeg8k\\test\\Masks\\Gall bladder\\video18\\video18_00979\\989.jpg\n",
      "Looking for mask in: c:\\Users\\devan\\Downloads\\SAM2_Eval\\SAM2_Eval_Surgical_Datasets\\../Datasets\\CholecSeg8k\\test\\Masks\\Gastrointestinal Tract\\video18\\video18_00979\\989.jpg\n",
      "Looking for mask in: c:\\Users\\devan\\Downloads\\SAM2_Eval\\SAM2_Eval_Surgical_Datasets\\../Datasets\\CholecSeg8k\\test\\Masks\\Grasper\\video18\\video18_00979\\989.jpg\n",
      "Looking for mask in: c:\\Users\\devan\\Downloads\\SAM2_Eval\\SAM2_Eval_Surgical_Datasets\\../Datasets\\CholecSeg8k\\test\\Masks\\L-hook Electrocautery\\video18\\video18_00979\\989.jpg\n",
      "Looking for mask in: c:\\Users\\devan\\Downloads\\SAM2_Eval\\SAM2_Eval_Surgical_Datasets\\../Datasets\\CholecSeg8k\\test\\Masks\\Liver\\video18\\video18_00979\\989.jpg\n",
      "No matching mask found for frame: c:\\Users\\devan\\Downloads\\SAM2_Eval\\SAM2_Eval_Surgical_Datasets\\temp_jpg_frames\\989.jpg\n",
      "Looking for mask in: c:\\Users\\devan\\Downloads\\SAM2_Eval\\SAM2_Eval_Surgical_Datasets\\../Datasets\\CholecSeg8k\\test\\Masks\\Abdominal Wall\\video18\\video18_00979\\990.jpg\n",
      "Looking for mask in: c:\\Users\\devan\\Downloads\\SAM2_Eval\\SAM2_Eval_Surgical_Datasets\\../Datasets\\CholecSeg8k\\test\\Masks\\Fat\\video18\\video18_00979\\990.jpg\n",
      "Looking for mask in: c:\\Users\\devan\\Downloads\\SAM2_Eval\\SAM2_Eval_Surgical_Datasets\\../Datasets\\CholecSeg8k\\test\\Masks\\Gall bladder\\video18\\video18_00979\\990.jpg\n",
      "Looking for mask in: c:\\Users\\devan\\Downloads\\SAM2_Eval\\SAM2_Eval_Surgical_Datasets\\../Datasets\\CholecSeg8k\\test\\Masks\\Gastrointestinal Tract\\video18\\video18_00979\\990.jpg\n",
      "Looking for mask in: c:\\Users\\devan\\Downloads\\SAM2_Eval\\SAM2_Eval_Surgical_Datasets\\../Datasets\\CholecSeg8k\\test\\Masks\\Grasper\\video18\\video18_00979\\990.jpg\n",
      "Looking for mask in: c:\\Users\\devan\\Downloads\\SAM2_Eval\\SAM2_Eval_Surgical_Datasets\\../Datasets\\CholecSeg8k\\test\\Masks\\L-hook Electrocautery\\video18\\video18_00979\\990.jpg\n",
      "Looking for mask in: c:\\Users\\devan\\Downloads\\SAM2_Eval\\SAM2_Eval_Surgical_Datasets\\../Datasets\\CholecSeg8k\\test\\Masks\\Liver\\video18\\video18_00979\\990.jpg\n",
      "No matching mask found for frame: c:\\Users\\devan\\Downloads\\SAM2_Eval\\SAM2_Eval_Surgical_Datasets\\temp_jpg_frames\\990.jpg\n",
      "Looking for mask in: c:\\Users\\devan\\Downloads\\SAM2_Eval\\SAM2_Eval_Surgical_Datasets\\../Datasets\\CholecSeg8k\\test\\Masks\\Abdominal Wall\\video18\\video18_00979\\991.jpg\n",
      "Looking for mask in: c:\\Users\\devan\\Downloads\\SAM2_Eval\\SAM2_Eval_Surgical_Datasets\\../Datasets\\CholecSeg8k\\test\\Masks\\Fat\\video18\\video18_00979\\991.jpg\n",
      "Looking for mask in: c:\\Users\\devan\\Downloads\\SAM2_Eval\\SAM2_Eval_Surgical_Datasets\\../Datasets\\CholecSeg8k\\test\\Masks\\Gall bladder\\video18\\video18_00979\\991.jpg\n",
      "Looking for mask in: c:\\Users\\devan\\Downloads\\SAM2_Eval\\SAM2_Eval_Surgical_Datasets\\../Datasets\\CholecSeg8k\\test\\Masks\\Gastrointestinal Tract\\video18\\video18_00979\\991.jpg\n",
      "Looking for mask in: c:\\Users\\devan\\Downloads\\SAM2_Eval\\SAM2_Eval_Surgical_Datasets\\../Datasets\\CholecSeg8k\\test\\Masks\\Grasper\\video18\\video18_00979\\991.jpg\n",
      "Looking for mask in: c:\\Users\\devan\\Downloads\\SAM2_Eval\\SAM2_Eval_Surgical_Datasets\\../Datasets\\CholecSeg8k\\test\\Masks\\L-hook Electrocautery\\video18\\video18_00979\\991.jpg\n",
      "Looking for mask in: c:\\Users\\devan\\Downloads\\SAM2_Eval\\SAM2_Eval_Surgical_Datasets\\../Datasets\\CholecSeg8k\\test\\Masks\\Liver\\video18\\video18_00979\\991.jpg\n",
      "No matching mask found for frame: c:\\Users\\devan\\Downloads\\SAM2_Eval\\SAM2_Eval_Surgical_Datasets\\temp_jpg_frames\\991.jpg\n",
      "Looking for mask in: c:\\Users\\devan\\Downloads\\SAM2_Eval\\SAM2_Eval_Surgical_Datasets\\../Datasets\\CholecSeg8k\\test\\Masks\\Abdominal Wall\\video18\\video18_00979\\992.jpg\n",
      "Looking for mask in: c:\\Users\\devan\\Downloads\\SAM2_Eval\\SAM2_Eval_Surgical_Datasets\\../Datasets\\CholecSeg8k\\test\\Masks\\Fat\\video18\\video18_00979\\992.jpg\n",
      "Looking for mask in: c:\\Users\\devan\\Downloads\\SAM2_Eval\\SAM2_Eval_Surgical_Datasets\\../Datasets\\CholecSeg8k\\test\\Masks\\Gall bladder\\video18\\video18_00979\\992.jpg\n",
      "Looking for mask in: c:\\Users\\devan\\Downloads\\SAM2_Eval\\SAM2_Eval_Surgical_Datasets\\../Datasets\\CholecSeg8k\\test\\Masks\\Gastrointestinal Tract\\video18\\video18_00979\\992.jpg\n",
      "Looking for mask in: c:\\Users\\devan\\Downloads\\SAM2_Eval\\SAM2_Eval_Surgical_Datasets\\../Datasets\\CholecSeg8k\\test\\Masks\\Grasper\\video18\\video18_00979\\992.jpg\n",
      "Looking for mask in: c:\\Users\\devan\\Downloads\\SAM2_Eval\\SAM2_Eval_Surgical_Datasets\\../Datasets\\CholecSeg8k\\test\\Masks\\L-hook Electrocautery\\video18\\video18_00979\\992.jpg\n",
      "Looking for mask in: c:\\Users\\devan\\Downloads\\SAM2_Eval\\SAM2_Eval_Surgical_Datasets\\../Datasets\\CholecSeg8k\\test\\Masks\\Liver\\video18\\video18_00979\\992.jpg\n",
      "No matching mask found for frame: c:\\Users\\devan\\Downloads\\SAM2_Eval\\SAM2_Eval_Surgical_Datasets\\temp_jpg_frames\\992.jpg\n",
      "Looking for mask in: c:\\Users\\devan\\Downloads\\SAM2_Eval\\SAM2_Eval_Surgical_Datasets\\../Datasets\\CholecSeg8k\\test\\Masks\\Abdominal Wall\\video18\\video18_00979\\993.jpg\n",
      "Looking for mask in: c:\\Users\\devan\\Downloads\\SAM2_Eval\\SAM2_Eval_Surgical_Datasets\\../Datasets\\CholecSeg8k\\test\\Masks\\Fat\\video18\\video18_00979\\993.jpg\n",
      "Looking for mask in: c:\\Users\\devan\\Downloads\\SAM2_Eval\\SAM2_Eval_Surgical_Datasets\\../Datasets\\CholecSeg8k\\test\\Masks\\Gall bladder\\video18\\video18_00979\\993.jpg\n",
      "Looking for mask in: c:\\Users\\devan\\Downloads\\SAM2_Eval\\SAM2_Eval_Surgical_Datasets\\../Datasets\\CholecSeg8k\\test\\Masks\\Gastrointestinal Tract\\video18\\video18_00979\\993.jpg\n",
      "Looking for mask in: c:\\Users\\devan\\Downloads\\SAM2_Eval\\SAM2_Eval_Surgical_Datasets\\../Datasets\\CholecSeg8k\\test\\Masks\\Grasper\\video18\\video18_00979\\993.jpg\n",
      "Looking for mask in: c:\\Users\\devan\\Downloads\\SAM2_Eval\\SAM2_Eval_Surgical_Datasets\\../Datasets\\CholecSeg8k\\test\\Masks\\L-hook Electrocautery\\video18\\video18_00979\\993.jpg\n",
      "Looking for mask in: c:\\Users\\devan\\Downloads\\SAM2_Eval\\SAM2_Eval_Surgical_Datasets\\../Datasets\\CholecSeg8k\\test\\Masks\\Liver\\video18\\video18_00979\\993.jpg\n",
      "No matching mask found for frame: c:\\Users\\devan\\Downloads\\SAM2_Eval\\SAM2_Eval_Surgical_Datasets\\temp_jpg_frames\\993.jpg\n",
      "Looking for mask in: c:\\Users\\devan\\Downloads\\SAM2_Eval\\SAM2_Eval_Surgical_Datasets\\../Datasets\\CholecSeg8k\\test\\Masks\\Abdominal Wall\\video18\\video18_00979\\994.jpg\n",
      "Looking for mask in: c:\\Users\\devan\\Downloads\\SAM2_Eval\\SAM2_Eval_Surgical_Datasets\\../Datasets\\CholecSeg8k\\test\\Masks\\Fat\\video18\\video18_00979\\994.jpg\n",
      "Looking for mask in: c:\\Users\\devan\\Downloads\\SAM2_Eval\\SAM2_Eval_Surgical_Datasets\\../Datasets\\CholecSeg8k\\test\\Masks\\Gall bladder\\video18\\video18_00979\\994.jpg\n",
      "Looking for mask in: c:\\Users\\devan\\Downloads\\SAM2_Eval\\SAM2_Eval_Surgical_Datasets\\../Datasets\\CholecSeg8k\\test\\Masks\\Gastrointestinal Tract\\video18\\video18_00979\\994.jpg\n",
      "Looking for mask in: c:\\Users\\devan\\Downloads\\SAM2_Eval\\SAM2_Eval_Surgical_Datasets\\../Datasets\\CholecSeg8k\\test\\Masks\\Grasper\\video18\\video18_00979\\994.jpg\n",
      "Looking for mask in: c:\\Users\\devan\\Downloads\\SAM2_Eval\\SAM2_Eval_Surgical_Datasets\\../Datasets\\CholecSeg8k\\test\\Masks\\L-hook Electrocautery\\video18\\video18_00979\\994.jpg\n",
      "Looking for mask in: c:\\Users\\devan\\Downloads\\SAM2_Eval\\SAM2_Eval_Surgical_Datasets\\../Datasets\\CholecSeg8k\\test\\Masks\\Liver\\video18\\video18_00979\\994.jpg\n",
      "No matching mask found for frame: c:\\Users\\devan\\Downloads\\SAM2_Eval\\SAM2_Eval_Surgical_Datasets\\temp_jpg_frames\\994.jpg\n",
      "Looking for mask in: c:\\Users\\devan\\Downloads\\SAM2_Eval\\SAM2_Eval_Surgical_Datasets\\../Datasets\\CholecSeg8k\\test\\Masks\\Abdominal Wall\\video18\\video18_00979\\995.jpg\n",
      "Looking for mask in: c:\\Users\\devan\\Downloads\\SAM2_Eval\\SAM2_Eval_Surgical_Datasets\\../Datasets\\CholecSeg8k\\test\\Masks\\Fat\\video18\\video18_00979\\995.jpg\n",
      "Looking for mask in: c:\\Users\\devan\\Downloads\\SAM2_Eval\\SAM2_Eval_Surgical_Datasets\\../Datasets\\CholecSeg8k\\test\\Masks\\Gall bladder\\video18\\video18_00979\\995.jpg\n",
      "Looking for mask in: c:\\Users\\devan\\Downloads\\SAM2_Eval\\SAM2_Eval_Surgical_Datasets\\../Datasets\\CholecSeg8k\\test\\Masks\\Gastrointestinal Tract\\video18\\video18_00979\\995.jpg\n",
      "Looking for mask in: c:\\Users\\devan\\Downloads\\SAM2_Eval\\SAM2_Eval_Surgical_Datasets\\../Datasets\\CholecSeg8k\\test\\Masks\\Grasper\\video18\\video18_00979\\995.jpg\n",
      "Looking for mask in: c:\\Users\\devan\\Downloads\\SAM2_Eval\\SAM2_Eval_Surgical_Datasets\\../Datasets\\CholecSeg8k\\test\\Masks\\L-hook Electrocautery\\video18\\video18_00979\\995.jpg\n",
      "Looking for mask in: c:\\Users\\devan\\Downloads\\SAM2_Eval\\SAM2_Eval_Surgical_Datasets\\../Datasets\\CholecSeg8k\\test\\Masks\\Liver\\video18\\video18_00979\\995.jpg\n",
      "No matching mask found for frame: c:\\Users\\devan\\Downloads\\SAM2_Eval\\SAM2_Eval_Surgical_Datasets\\temp_jpg_frames\\995.jpg\n",
      "Looking for mask in: c:\\Users\\devan\\Downloads\\SAM2_Eval\\SAM2_Eval_Surgical_Datasets\\../Datasets\\CholecSeg8k\\test\\Masks\\Abdominal Wall\\video18\\video18_00979\\996.jpg\n",
      "Looking for mask in: c:\\Users\\devan\\Downloads\\SAM2_Eval\\SAM2_Eval_Surgical_Datasets\\../Datasets\\CholecSeg8k\\test\\Masks\\Fat\\video18\\video18_00979\\996.jpg\n",
      "Looking for mask in: c:\\Users\\devan\\Downloads\\SAM2_Eval\\SAM2_Eval_Surgical_Datasets\\../Datasets\\CholecSeg8k\\test\\Masks\\Gall bladder\\video18\\video18_00979\\996.jpg\n",
      "Looking for mask in: c:\\Users\\devan\\Downloads\\SAM2_Eval\\SAM2_Eval_Surgical_Datasets\\../Datasets\\CholecSeg8k\\test\\Masks\\Gastrointestinal Tract\\video18\\video18_00979\\996.jpg\n",
      "Looking for mask in: c:\\Users\\devan\\Downloads\\SAM2_Eval\\SAM2_Eval_Surgical_Datasets\\../Datasets\\CholecSeg8k\\test\\Masks\\Grasper\\video18\\video18_00979\\996.jpg\n",
      "Looking for mask in: c:\\Users\\devan\\Downloads\\SAM2_Eval\\SAM2_Eval_Surgical_Datasets\\../Datasets\\CholecSeg8k\\test\\Masks\\L-hook Electrocautery\\video18\\video18_00979\\996.jpg\n",
      "Looking for mask in: c:\\Users\\devan\\Downloads\\SAM2_Eval\\SAM2_Eval_Surgical_Datasets\\../Datasets\\CholecSeg8k\\test\\Masks\\Liver\\video18\\video18_00979\\996.jpg\n",
      "No matching mask found for frame: c:\\Users\\devan\\Downloads\\SAM2_Eval\\SAM2_Eval_Surgical_Datasets\\temp_jpg_frames\\996.jpg\n",
      "Looking for mask in: c:\\Users\\devan\\Downloads\\SAM2_Eval\\SAM2_Eval_Surgical_Datasets\\../Datasets\\CholecSeg8k\\test\\Masks\\Abdominal Wall\\video18\\video18_00979\\997.jpg\n",
      "Looking for mask in: c:\\Users\\devan\\Downloads\\SAM2_Eval\\SAM2_Eval_Surgical_Datasets\\../Datasets\\CholecSeg8k\\test\\Masks\\Fat\\video18\\video18_00979\\997.jpg\n",
      "Looking for mask in: c:\\Users\\devan\\Downloads\\SAM2_Eval\\SAM2_Eval_Surgical_Datasets\\../Datasets\\CholecSeg8k\\test\\Masks\\Gall bladder\\video18\\video18_00979\\997.jpg\n",
      "Looking for mask in: c:\\Users\\devan\\Downloads\\SAM2_Eval\\SAM2_Eval_Surgical_Datasets\\../Datasets\\CholecSeg8k\\test\\Masks\\Gastrointestinal Tract\\video18\\video18_00979\\997.jpg\n",
      "Looking for mask in: c:\\Users\\devan\\Downloads\\SAM2_Eval\\SAM2_Eval_Surgical_Datasets\\../Datasets\\CholecSeg8k\\test\\Masks\\Grasper\\video18\\video18_00979\\997.jpg\n",
      "Looking for mask in: c:\\Users\\devan\\Downloads\\SAM2_Eval\\SAM2_Eval_Surgical_Datasets\\../Datasets\\CholecSeg8k\\test\\Masks\\L-hook Electrocautery\\video18\\video18_00979\\997.jpg\n",
      "Looking for mask in: c:\\Users\\devan\\Downloads\\SAM2_Eval\\SAM2_Eval_Surgical_Datasets\\../Datasets\\CholecSeg8k\\test\\Masks\\Liver\\video18\\video18_00979\\997.jpg\n",
      "No matching mask found for frame: c:\\Users\\devan\\Downloads\\SAM2_Eval\\SAM2_Eval_Surgical_Datasets\\temp_jpg_frames\\997.jpg\n",
      "Looking for mask in: c:\\Users\\devan\\Downloads\\SAM2_Eval\\SAM2_Eval_Surgical_Datasets\\../Datasets\\CholecSeg8k\\test\\Masks\\Abdominal Wall\\video18\\video18_00979\\998.jpg\n",
      "Looking for mask in: c:\\Users\\devan\\Downloads\\SAM2_Eval\\SAM2_Eval_Surgical_Datasets\\../Datasets\\CholecSeg8k\\test\\Masks\\Fat\\video18\\video18_00979\\998.jpg\n",
      "Looking for mask in: c:\\Users\\devan\\Downloads\\SAM2_Eval\\SAM2_Eval_Surgical_Datasets\\../Datasets\\CholecSeg8k\\test\\Masks\\Gall bladder\\video18\\video18_00979\\998.jpg\n",
      "Looking for mask in: c:\\Users\\devan\\Downloads\\SAM2_Eval\\SAM2_Eval_Surgical_Datasets\\../Datasets\\CholecSeg8k\\test\\Masks\\Gastrointestinal Tract\\video18\\video18_00979\\998.jpg\n",
      "Looking for mask in: c:\\Users\\devan\\Downloads\\SAM2_Eval\\SAM2_Eval_Surgical_Datasets\\../Datasets\\CholecSeg8k\\test\\Masks\\Grasper\\video18\\video18_00979\\998.jpg\n",
      "Looking for mask in: c:\\Users\\devan\\Downloads\\SAM2_Eval\\SAM2_Eval_Surgical_Datasets\\../Datasets\\CholecSeg8k\\test\\Masks\\L-hook Electrocautery\\video18\\video18_00979\\998.jpg\n",
      "Looking for mask in: c:\\Users\\devan\\Downloads\\SAM2_Eval\\SAM2_Eval_Surgical_Datasets\\../Datasets\\CholecSeg8k\\test\\Masks\\Liver\\video18\\video18_00979\\998.jpg\n",
      "No matching mask found for frame: c:\\Users\\devan\\Downloads\\SAM2_Eval\\SAM2_Eval_Surgical_Datasets\\temp_jpg_frames\\998.jpg\n",
      "Looking for mask in: c:\\Users\\devan\\Downloads\\SAM2_Eval\\SAM2_Eval_Surgical_Datasets\\../Datasets\\CholecSeg8k\\test\\Masks\\Abdominal Wall\\video18\\video18_00979\\999.jpg\n",
      "Looking for mask in: c:\\Users\\devan\\Downloads\\SAM2_Eval\\SAM2_Eval_Surgical_Datasets\\../Datasets\\CholecSeg8k\\test\\Masks\\Fat\\video18\\video18_00979\\999.jpg\n",
      "Looking for mask in: c:\\Users\\devan\\Downloads\\SAM2_Eval\\SAM2_Eval_Surgical_Datasets\\../Datasets\\CholecSeg8k\\test\\Masks\\Gall bladder\\video18\\video18_00979\\999.jpg\n",
      "Looking for mask in: c:\\Users\\devan\\Downloads\\SAM2_Eval\\SAM2_Eval_Surgical_Datasets\\../Datasets\\CholecSeg8k\\test\\Masks\\Gastrointestinal Tract\\video18\\video18_00979\\999.jpg\n",
      "Looking for mask in: c:\\Users\\devan\\Downloads\\SAM2_Eval\\SAM2_Eval_Surgical_Datasets\\../Datasets\\CholecSeg8k\\test\\Masks\\Grasper\\video18\\video18_00979\\999.jpg\n",
      "Looking for mask in: c:\\Users\\devan\\Downloads\\SAM2_Eval\\SAM2_Eval_Surgical_Datasets\\../Datasets\\CholecSeg8k\\test\\Masks\\L-hook Electrocautery\\video18\\video18_00979\\999.jpg\n",
      "Looking for mask in: c:\\Users\\devan\\Downloads\\SAM2_Eval\\SAM2_Eval_Surgical_Datasets\\../Datasets\\CholecSeg8k\\test\\Masks\\Liver\\video18\\video18_00979\\999.jpg\n",
      "No matching mask found for frame: c:\\Users\\devan\\Downloads\\SAM2_Eval\\SAM2_Eval_Surgical_Datasets\\temp_jpg_frames\\999.jpg\n",
      "Looking for mask in: c:\\Users\\devan\\Downloads\\SAM2_Eval\\SAM2_Eval_Surgical_Datasets\\../Datasets\\CholecSeg8k\\test\\Masks\\Abdominal Wall\\video18\\video18_01139\\1139.jpg\n",
      "Looking for mask in: c:\\Users\\devan\\Downloads\\SAM2_Eval\\SAM2_Eval_Surgical_Datasets\\../Datasets\\CholecSeg8k\\test\\Masks\\Fat\\video18\\video18_01139\\1139.jpg\n",
      "Looking for mask in: c:\\Users\\devan\\Downloads\\SAM2_Eval\\SAM2_Eval_Surgical_Datasets\\../Datasets\\CholecSeg8k\\test\\Masks\\Gall bladder\\video18\\video18_01139\\1139.jpg\n",
      "Looking for mask in: c:\\Users\\devan\\Downloads\\SAM2_Eval\\SAM2_Eval_Surgical_Datasets\\../Datasets\\CholecSeg8k\\test\\Masks\\Gastrointestinal Tract\\video18\\video18_01139\\1139.jpg\n",
      "Looking for mask in: c:\\Users\\devan\\Downloads\\SAM2_Eval\\SAM2_Eval_Surgical_Datasets\\../Datasets\\CholecSeg8k\\test\\Masks\\Grasper\\video18\\video18_01139\\1139.jpg\n",
      "Looking for mask in: c:\\Users\\devan\\Downloads\\SAM2_Eval\\SAM2_Eval_Surgical_Datasets\\../Datasets\\CholecSeg8k\\test\\Masks\\L-hook Electrocautery\\video18\\video18_01139\\1139.jpg\n",
      "Looking for mask in: c:\\Users\\devan\\Downloads\\SAM2_Eval\\SAM2_Eval_Surgical_Datasets\\../Datasets\\CholecSeg8k\\test\\Masks\\Liver\\video18\\video18_01139\\1139.jpg\n",
      "No matching mask found for frame: c:\\Users\\devan\\Downloads\\SAM2_Eval\\SAM2_Eval_Surgical_Datasets\\temp_jpg_frames\\1139.jpg\n",
      "Looking for mask in: c:\\Users\\devan\\Downloads\\SAM2_Eval\\SAM2_Eval_Surgical_Datasets\\../Datasets\\CholecSeg8k\\test\\Masks\\Abdominal Wall\\video18\\video18_01139\\1140.jpg\n",
      "Looking for mask in: c:\\Users\\devan\\Downloads\\SAM2_Eval\\SAM2_Eval_Surgical_Datasets\\../Datasets\\CholecSeg8k\\test\\Masks\\Fat\\video18\\video18_01139\\1140.jpg\n",
      "Looking for mask in: c:\\Users\\devan\\Downloads\\SAM2_Eval\\SAM2_Eval_Surgical_Datasets\\../Datasets\\CholecSeg8k\\test\\Masks\\Gall bladder\\video18\\video18_01139\\1140.jpg\n",
      "Looking for mask in: c:\\Users\\devan\\Downloads\\SAM2_Eval\\SAM2_Eval_Surgical_Datasets\\../Datasets\\CholecSeg8k\\test\\Masks\\Gastrointestinal Tract\\video18\\video18_01139\\1140.jpg\n",
      "Looking for mask in: c:\\Users\\devan\\Downloads\\SAM2_Eval\\SAM2_Eval_Surgical_Datasets\\../Datasets\\CholecSeg8k\\test\\Masks\\Grasper\\video18\\video18_01139\\1140.jpg\n",
      "Looking for mask in: c:\\Users\\devan\\Downloads\\SAM2_Eval\\SAM2_Eval_Surgical_Datasets\\../Datasets\\CholecSeg8k\\test\\Masks\\L-hook Electrocautery\\video18\\video18_01139\\1140.jpg\n",
      "Looking for mask in: c:\\Users\\devan\\Downloads\\SAM2_Eval\\SAM2_Eval_Surgical_Datasets\\../Datasets\\CholecSeg8k\\test\\Masks\\Liver\\video18\\video18_01139\\1140.jpg\n",
      "No matching mask found for frame: c:\\Users\\devan\\Downloads\\SAM2_Eval\\SAM2_Eval_Surgical_Datasets\\temp_jpg_frames\\1140.jpg\n",
      "Looking for mask in: c:\\Users\\devan\\Downloads\\SAM2_Eval\\SAM2_Eval_Surgical_Datasets\\../Datasets\\CholecSeg8k\\test\\Masks\\Abdominal Wall\\video18\\video18_01139\\1141.jpg\n",
      "Looking for mask in: c:\\Users\\devan\\Downloads\\SAM2_Eval\\SAM2_Eval_Surgical_Datasets\\../Datasets\\CholecSeg8k\\test\\Masks\\Fat\\video18\\video18_01139\\1141.jpg\n",
      "Looking for mask in: c:\\Users\\devan\\Downloads\\SAM2_Eval\\SAM2_Eval_Surgical_Datasets\\../Datasets\\CholecSeg8k\\test\\Masks\\Gall bladder\\video18\\video18_01139\\1141.jpg\n",
      "Looking for mask in: c:\\Users\\devan\\Downloads\\SAM2_Eval\\SAM2_Eval_Surgical_Datasets\\../Datasets\\CholecSeg8k\\test\\Masks\\Gastrointestinal Tract\\video18\\video18_01139\\1141.jpg\n",
      "Looking for mask in: c:\\Users\\devan\\Downloads\\SAM2_Eval\\SAM2_Eval_Surgical_Datasets\\../Datasets\\CholecSeg8k\\test\\Masks\\Grasper\\video18\\video18_01139\\1141.jpg\n",
      "Looking for mask in: c:\\Users\\devan\\Downloads\\SAM2_Eval\\SAM2_Eval_Surgical_Datasets\\../Datasets\\CholecSeg8k\\test\\Masks\\L-hook Electrocautery\\video18\\video18_01139\\1141.jpg\n",
      "Looking for mask in: c:\\Users\\devan\\Downloads\\SAM2_Eval\\SAM2_Eval_Surgical_Datasets\\../Datasets\\CholecSeg8k\\test\\Masks\\Liver\\video18\\video18_01139\\1141.jpg\n",
      "No matching mask found for frame: c:\\Users\\devan\\Downloads\\SAM2_Eval\\SAM2_Eval_Surgical_Datasets\\temp_jpg_frames\\1141.jpg\n",
      "Looking for mask in: c:\\Users\\devan\\Downloads\\SAM2_Eval\\SAM2_Eval_Surgical_Datasets\\../Datasets\\CholecSeg8k\\test\\Masks\\Abdominal Wall\\video18\\video18_01139\\1142.jpg\n",
      "Looking for mask in: c:\\Users\\devan\\Downloads\\SAM2_Eval\\SAM2_Eval_Surgical_Datasets\\../Datasets\\CholecSeg8k\\test\\Masks\\Fat\\video18\\video18_01139\\1142.jpg\n",
      "Looking for mask in: c:\\Users\\devan\\Downloads\\SAM2_Eval\\SAM2_Eval_Surgical_Datasets\\../Datasets\\CholecSeg8k\\test\\Masks\\Gall bladder\\video18\\video18_01139\\1142.jpg\n",
      "Looking for mask in: c:\\Users\\devan\\Downloads\\SAM2_Eval\\SAM2_Eval_Surgical_Datasets\\../Datasets\\CholecSeg8k\\test\\Masks\\Gastrointestinal Tract\\video18\\video18_01139\\1142.jpg\n",
      "Looking for mask in: c:\\Users\\devan\\Downloads\\SAM2_Eval\\SAM2_Eval_Surgical_Datasets\\../Datasets\\CholecSeg8k\\test\\Masks\\Grasper\\video18\\video18_01139\\1142.jpg\n",
      "Looking for mask in: c:\\Users\\devan\\Downloads\\SAM2_Eval\\SAM2_Eval_Surgical_Datasets\\../Datasets\\CholecSeg8k\\test\\Masks\\L-hook Electrocautery\\video18\\video18_01139\\1142.jpg\n",
      "Looking for mask in: c:\\Users\\devan\\Downloads\\SAM2_Eval\\SAM2_Eval_Surgical_Datasets\\../Datasets\\CholecSeg8k\\test\\Masks\\Liver\\video18\\video18_01139\\1142.jpg\n",
      "No matching mask found for frame: c:\\Users\\devan\\Downloads\\SAM2_Eval\\SAM2_Eval_Surgical_Datasets\\temp_jpg_frames\\1142.jpg\n",
      "Looking for mask in: c:\\Users\\devan\\Downloads\\SAM2_Eval\\SAM2_Eval_Surgical_Datasets\\../Datasets\\CholecSeg8k\\test\\Masks\\Abdominal Wall\\video18\\video18_01139\\1143.jpg\n",
      "Looking for mask in: c:\\Users\\devan\\Downloads\\SAM2_Eval\\SAM2_Eval_Surgical_Datasets\\../Datasets\\CholecSeg8k\\test\\Masks\\Fat\\video18\\video18_01139\\1143.jpg\n",
      "Looking for mask in: c:\\Users\\devan\\Downloads\\SAM2_Eval\\SAM2_Eval_Surgical_Datasets\\../Datasets\\CholecSeg8k\\test\\Masks\\Gall bladder\\video18\\video18_01139\\1143.jpg\n",
      "Looking for mask in: c:\\Users\\devan\\Downloads\\SAM2_Eval\\SAM2_Eval_Surgical_Datasets\\../Datasets\\CholecSeg8k\\test\\Masks\\Gastrointestinal Tract\\video18\\video18_01139\\1143.jpg\n",
      "Looking for mask in: c:\\Users\\devan\\Downloads\\SAM2_Eval\\SAM2_Eval_Surgical_Datasets\\../Datasets\\CholecSeg8k\\test\\Masks\\Grasper\\video18\\video18_01139\\1143.jpg\n",
      "Looking for mask in: c:\\Users\\devan\\Downloads\\SAM2_Eval\\SAM2_Eval_Surgical_Datasets\\../Datasets\\CholecSeg8k\\test\\Masks\\L-hook Electrocautery\\video18\\video18_01139\\1143.jpg\n",
      "Looking for mask in: c:\\Users\\devan\\Downloads\\SAM2_Eval\\SAM2_Eval_Surgical_Datasets\\../Datasets\\CholecSeg8k\\test\\Masks\\Liver\\video18\\video18_01139\\1143.jpg\n",
      "No matching mask found for frame: c:\\Users\\devan\\Downloads\\SAM2_Eval\\SAM2_Eval_Surgical_Datasets\\temp_jpg_frames\\1143.jpg\n",
      "Looking for mask in: c:\\Users\\devan\\Downloads\\SAM2_Eval\\SAM2_Eval_Surgical_Datasets\\../Datasets\\CholecSeg8k\\test\\Masks\\Abdominal Wall\\video18\\video18_01139\\1144.jpg\n",
      "Looking for mask in: c:\\Users\\devan\\Downloads\\SAM2_Eval\\SAM2_Eval_Surgical_Datasets\\../Datasets\\CholecSeg8k\\test\\Masks\\Fat\\video18\\video18_01139\\1144.jpg\n",
      "Looking for mask in: c:\\Users\\devan\\Downloads\\SAM2_Eval\\SAM2_Eval_Surgical_Datasets\\../Datasets\\CholecSeg8k\\test\\Masks\\Gall bladder\\video18\\video18_01139\\1144.jpg\n",
      "Looking for mask in: c:\\Users\\devan\\Downloads\\SAM2_Eval\\SAM2_Eval_Surgical_Datasets\\../Datasets\\CholecSeg8k\\test\\Masks\\Gastrointestinal Tract\\video18\\video18_01139\\1144.jpg\n",
      "Looking for mask in: c:\\Users\\devan\\Downloads\\SAM2_Eval\\SAM2_Eval_Surgical_Datasets\\../Datasets\\CholecSeg8k\\test\\Masks\\Grasper\\video18\\video18_01139\\1144.jpg\n",
      "Looking for mask in: c:\\Users\\devan\\Downloads\\SAM2_Eval\\SAM2_Eval_Surgical_Datasets\\../Datasets\\CholecSeg8k\\test\\Masks\\L-hook Electrocautery\\video18\\video18_01139\\1144.jpg\n",
      "Looking for mask in: c:\\Users\\devan\\Downloads\\SAM2_Eval\\SAM2_Eval_Surgical_Datasets\\../Datasets\\CholecSeg8k\\test\\Masks\\Liver\\video18\\video18_01139\\1144.jpg\n",
      "No matching mask found for frame: c:\\Users\\devan\\Downloads\\SAM2_Eval\\SAM2_Eval_Surgical_Datasets\\temp_jpg_frames\\1144.jpg\n",
      "Looking for mask in: c:\\Users\\devan\\Downloads\\SAM2_Eval\\SAM2_Eval_Surgical_Datasets\\../Datasets\\CholecSeg8k\\test\\Masks\\Abdominal Wall\\video18\\video18_01139\\1145.jpg\n",
      "Looking for mask in: c:\\Users\\devan\\Downloads\\SAM2_Eval\\SAM2_Eval_Surgical_Datasets\\../Datasets\\CholecSeg8k\\test\\Masks\\Fat\\video18\\video18_01139\\1145.jpg\n",
      "Looking for mask in: c:\\Users\\devan\\Downloads\\SAM2_Eval\\SAM2_Eval_Surgical_Datasets\\../Datasets\\CholecSeg8k\\test\\Masks\\Gall bladder\\video18\\video18_01139\\1145.jpg\n",
      "Looking for mask in: c:\\Users\\devan\\Downloads\\SAM2_Eval\\SAM2_Eval_Surgical_Datasets\\../Datasets\\CholecSeg8k\\test\\Masks\\Gastrointestinal Tract\\video18\\video18_01139\\1145.jpg\n",
      "Looking for mask in: c:\\Users\\devan\\Downloads\\SAM2_Eval\\SAM2_Eval_Surgical_Datasets\\../Datasets\\CholecSeg8k\\test\\Masks\\Grasper\\video18\\video18_01139\\1145.jpg\n",
      "Looking for mask in: c:\\Users\\devan\\Downloads\\SAM2_Eval\\SAM2_Eval_Surgical_Datasets\\../Datasets\\CholecSeg8k\\test\\Masks\\L-hook Electrocautery\\video18\\video18_01139\\1145.jpg\n",
      "Looking for mask in: c:\\Users\\devan\\Downloads\\SAM2_Eval\\SAM2_Eval_Surgical_Datasets\\../Datasets\\CholecSeg8k\\test\\Masks\\Liver\\video18\\video18_01139\\1145.jpg\n",
      "No matching mask found for frame: c:\\Users\\devan\\Downloads\\SAM2_Eval\\SAM2_Eval_Surgical_Datasets\\temp_jpg_frames\\1145.jpg\n",
      "Looking for mask in: c:\\Users\\devan\\Downloads\\SAM2_Eval\\SAM2_Eval_Surgical_Datasets\\../Datasets\\CholecSeg8k\\test\\Masks\\Abdominal Wall\\video18\\video18_01139\\1146.jpg\n",
      "Looking for mask in: c:\\Users\\devan\\Downloads\\SAM2_Eval\\SAM2_Eval_Surgical_Datasets\\../Datasets\\CholecSeg8k\\test\\Masks\\Fat\\video18\\video18_01139\\1146.jpg\n",
      "Looking for mask in: c:\\Users\\devan\\Downloads\\SAM2_Eval\\SAM2_Eval_Surgical_Datasets\\../Datasets\\CholecSeg8k\\test\\Masks\\Gall bladder\\video18\\video18_01139\\1146.jpg\n",
      "Looking for mask in: c:\\Users\\devan\\Downloads\\SAM2_Eval\\SAM2_Eval_Surgical_Datasets\\../Datasets\\CholecSeg8k\\test\\Masks\\Gastrointestinal Tract\\video18\\video18_01139\\1146.jpg\n",
      "Looking for mask in: c:\\Users\\devan\\Downloads\\SAM2_Eval\\SAM2_Eval_Surgical_Datasets\\../Datasets\\CholecSeg8k\\test\\Masks\\Grasper\\video18\\video18_01139\\1146.jpg\n",
      "Looking for mask in: c:\\Users\\devan\\Downloads\\SAM2_Eval\\SAM2_Eval_Surgical_Datasets\\../Datasets\\CholecSeg8k\\test\\Masks\\L-hook Electrocautery\\video18\\video18_01139\\1146.jpg\n",
      "Looking for mask in: c:\\Users\\devan\\Downloads\\SAM2_Eval\\SAM2_Eval_Surgical_Datasets\\../Datasets\\CholecSeg8k\\test\\Masks\\Liver\\video18\\video18_01139\\1146.jpg\n",
      "No matching mask found for frame: c:\\Users\\devan\\Downloads\\SAM2_Eval\\SAM2_Eval_Surgical_Datasets\\temp_jpg_frames\\1146.jpg\n",
      "Looking for mask in: c:\\Users\\devan\\Downloads\\SAM2_Eval\\SAM2_Eval_Surgical_Datasets\\../Datasets\\CholecSeg8k\\test\\Masks\\Abdominal Wall\\video18\\video18_01139\\1147.jpg\n",
      "Looking for mask in: c:\\Users\\devan\\Downloads\\SAM2_Eval\\SAM2_Eval_Surgical_Datasets\\../Datasets\\CholecSeg8k\\test\\Masks\\Fat\\video18\\video18_01139\\1147.jpg\n",
      "Looking for mask in: c:\\Users\\devan\\Downloads\\SAM2_Eval\\SAM2_Eval_Surgical_Datasets\\../Datasets\\CholecSeg8k\\test\\Masks\\Gall bladder\\video18\\video18_01139\\1147.jpg\n",
      "Looking for mask in: c:\\Users\\devan\\Downloads\\SAM2_Eval\\SAM2_Eval_Surgical_Datasets\\../Datasets\\CholecSeg8k\\test\\Masks\\Gastrointestinal Tract\\video18\\video18_01139\\1147.jpg\n",
      "Looking for mask in: c:\\Users\\devan\\Downloads\\SAM2_Eval\\SAM2_Eval_Surgical_Datasets\\../Datasets\\CholecSeg8k\\test\\Masks\\Grasper\\video18\\video18_01139\\1147.jpg\n",
      "Looking for mask in: c:\\Users\\devan\\Downloads\\SAM2_Eval\\SAM2_Eval_Surgical_Datasets\\../Datasets\\CholecSeg8k\\test\\Masks\\L-hook Electrocautery\\video18\\video18_01139\\1147.jpg\n",
      "Looking for mask in: c:\\Users\\devan\\Downloads\\SAM2_Eval\\SAM2_Eval_Surgical_Datasets\\../Datasets\\CholecSeg8k\\test\\Masks\\Liver\\video18\\video18_01139\\1147.jpg\n",
      "No matching mask found for frame: c:\\Users\\devan\\Downloads\\SAM2_Eval\\SAM2_Eval_Surgical_Datasets\\temp_jpg_frames\\1147.jpg\n",
      "Looking for mask in: c:\\Users\\devan\\Downloads\\SAM2_Eval\\SAM2_Eval_Surgical_Datasets\\../Datasets\\CholecSeg8k\\test\\Masks\\Abdominal Wall\\video18\\video18_01139\\1148.jpg\n",
      "Looking for mask in: c:\\Users\\devan\\Downloads\\SAM2_Eval\\SAM2_Eval_Surgical_Datasets\\../Datasets\\CholecSeg8k\\test\\Masks\\Fat\\video18\\video18_01139\\1148.jpg\n",
      "Looking for mask in: c:\\Users\\devan\\Downloads\\SAM2_Eval\\SAM2_Eval_Surgical_Datasets\\../Datasets\\CholecSeg8k\\test\\Masks\\Gall bladder\\video18\\video18_01139\\1148.jpg\n",
      "Looking for mask in: c:\\Users\\devan\\Downloads\\SAM2_Eval\\SAM2_Eval_Surgical_Datasets\\../Datasets\\CholecSeg8k\\test\\Masks\\Gastrointestinal Tract\\video18\\video18_01139\\1148.jpg\n",
      "Looking for mask in: c:\\Users\\devan\\Downloads\\SAM2_Eval\\SAM2_Eval_Surgical_Datasets\\../Datasets\\CholecSeg8k\\test\\Masks\\Grasper\\video18\\video18_01139\\1148.jpg\n",
      "Looking for mask in: c:\\Users\\devan\\Downloads\\SAM2_Eval\\SAM2_Eval_Surgical_Datasets\\../Datasets\\CholecSeg8k\\test\\Masks\\L-hook Electrocautery\\video18\\video18_01139\\1148.jpg\n",
      "Looking for mask in: c:\\Users\\devan\\Downloads\\SAM2_Eval\\SAM2_Eval_Surgical_Datasets\\../Datasets\\CholecSeg8k\\test\\Masks\\Liver\\video18\\video18_01139\\1148.jpg\n",
      "No matching mask found for frame: c:\\Users\\devan\\Downloads\\SAM2_Eval\\SAM2_Eval_Surgical_Datasets\\temp_jpg_frames\\1148.jpg\n",
      "Looking for mask in: c:\\Users\\devan\\Downloads\\SAM2_Eval\\SAM2_Eval_Surgical_Datasets\\../Datasets\\CholecSeg8k\\test\\Masks\\Abdominal Wall\\video18\\video18_01139\\1149.jpg\n",
      "Looking for mask in: c:\\Users\\devan\\Downloads\\SAM2_Eval\\SAM2_Eval_Surgical_Datasets\\../Datasets\\CholecSeg8k\\test\\Masks\\Fat\\video18\\video18_01139\\1149.jpg\n",
      "Looking for mask in: c:\\Users\\devan\\Downloads\\SAM2_Eval\\SAM2_Eval_Surgical_Datasets\\../Datasets\\CholecSeg8k\\test\\Masks\\Gall bladder\\video18\\video18_01139\\1149.jpg\n",
      "Looking for mask in: c:\\Users\\devan\\Downloads\\SAM2_Eval\\SAM2_Eval_Surgical_Datasets\\../Datasets\\CholecSeg8k\\test\\Masks\\Gastrointestinal Tract\\video18\\video18_01139\\1149.jpg\n",
      "Looking for mask in: c:\\Users\\devan\\Downloads\\SAM2_Eval\\SAM2_Eval_Surgical_Datasets\\../Datasets\\CholecSeg8k\\test\\Masks\\Grasper\\video18\\video18_01139\\1149.jpg\n",
      "Looking for mask in: c:\\Users\\devan\\Downloads\\SAM2_Eval\\SAM2_Eval_Surgical_Datasets\\../Datasets\\CholecSeg8k\\test\\Masks\\L-hook Electrocautery\\video18\\video18_01139\\1149.jpg\n",
      "Looking for mask in: c:\\Users\\devan\\Downloads\\SAM2_Eval\\SAM2_Eval_Surgical_Datasets\\../Datasets\\CholecSeg8k\\test\\Masks\\Liver\\video18\\video18_01139\\1149.jpg\n",
      "No matching mask found for frame: c:\\Users\\devan\\Downloads\\SAM2_Eval\\SAM2_Eval_Surgical_Datasets\\temp_jpg_frames\\1149.jpg\n",
      "Looking for mask in: c:\\Users\\devan\\Downloads\\SAM2_Eval\\SAM2_Eval_Surgical_Datasets\\../Datasets\\CholecSeg8k\\test\\Masks\\Abdominal Wall\\video18\\video18_01139\\1150.jpg\n",
      "Looking for mask in: c:\\Users\\devan\\Downloads\\SAM2_Eval\\SAM2_Eval_Surgical_Datasets\\../Datasets\\CholecSeg8k\\test\\Masks\\Fat\\video18\\video18_01139\\1150.jpg\n",
      "Looking for mask in: c:\\Users\\devan\\Downloads\\SAM2_Eval\\SAM2_Eval_Surgical_Datasets\\../Datasets\\CholecSeg8k\\test\\Masks\\Gall bladder\\video18\\video18_01139\\1150.jpg\n",
      "Looking for mask in: c:\\Users\\devan\\Downloads\\SAM2_Eval\\SAM2_Eval_Surgical_Datasets\\../Datasets\\CholecSeg8k\\test\\Masks\\Gastrointestinal Tract\\video18\\video18_01139\\1150.jpg\n",
      "Looking for mask in: c:\\Users\\devan\\Downloads\\SAM2_Eval\\SAM2_Eval_Surgical_Datasets\\../Datasets\\CholecSeg8k\\test\\Masks\\Grasper\\video18\\video18_01139\\1150.jpg\n",
      "Looking for mask in: c:\\Users\\devan\\Downloads\\SAM2_Eval\\SAM2_Eval_Surgical_Datasets\\../Datasets\\CholecSeg8k\\test\\Masks\\L-hook Electrocautery\\video18\\video18_01139\\1150.jpg\n",
      "Looking for mask in: c:\\Users\\devan\\Downloads\\SAM2_Eval\\SAM2_Eval_Surgical_Datasets\\../Datasets\\CholecSeg8k\\test\\Masks\\Liver\\video18\\video18_01139\\1150.jpg\n",
      "No matching mask found for frame: c:\\Users\\devan\\Downloads\\SAM2_Eval\\SAM2_Eval_Surgical_Datasets\\temp_jpg_frames\\1150.jpg\n",
      "Looking for mask in: c:\\Users\\devan\\Downloads\\SAM2_Eval\\SAM2_Eval_Surgical_Datasets\\../Datasets\\CholecSeg8k\\test\\Masks\\Abdominal Wall\\video18\\video18_01139\\1151.jpg\n",
      "Looking for mask in: c:\\Users\\devan\\Downloads\\SAM2_Eval\\SAM2_Eval_Surgical_Datasets\\../Datasets\\CholecSeg8k\\test\\Masks\\Fat\\video18\\video18_01139\\1151.jpg\n",
      "Looking for mask in: c:\\Users\\devan\\Downloads\\SAM2_Eval\\SAM2_Eval_Surgical_Datasets\\../Datasets\\CholecSeg8k\\test\\Masks\\Gall bladder\\video18\\video18_01139\\1151.jpg\n",
      "Looking for mask in: c:\\Users\\devan\\Downloads\\SAM2_Eval\\SAM2_Eval_Surgical_Datasets\\../Datasets\\CholecSeg8k\\test\\Masks\\Gastrointestinal Tract\\video18\\video18_01139\\1151.jpg\n",
      "Looking for mask in: c:\\Users\\devan\\Downloads\\SAM2_Eval\\SAM2_Eval_Surgical_Datasets\\../Datasets\\CholecSeg8k\\test\\Masks\\Grasper\\video18\\video18_01139\\1151.jpg\n",
      "Looking for mask in: c:\\Users\\devan\\Downloads\\SAM2_Eval\\SAM2_Eval_Surgical_Datasets\\../Datasets\\CholecSeg8k\\test\\Masks\\L-hook Electrocautery\\video18\\video18_01139\\1151.jpg\n",
      "Looking for mask in: c:\\Users\\devan\\Downloads\\SAM2_Eval\\SAM2_Eval_Surgical_Datasets\\../Datasets\\CholecSeg8k\\test\\Masks\\Liver\\video18\\video18_01139\\1151.jpg\n",
      "No matching mask found for frame: c:\\Users\\devan\\Downloads\\SAM2_Eval\\SAM2_Eval_Surgical_Datasets\\temp_jpg_frames\\1151.jpg\n",
      "Looking for mask in: c:\\Users\\devan\\Downloads\\SAM2_Eval\\SAM2_Eval_Surgical_Datasets\\../Datasets\\CholecSeg8k\\test\\Masks\\Abdominal Wall\\video18\\video18_01139\\1152.jpg\n",
      "Looking for mask in: c:\\Users\\devan\\Downloads\\SAM2_Eval\\SAM2_Eval_Surgical_Datasets\\../Datasets\\CholecSeg8k\\test\\Masks\\Fat\\video18\\video18_01139\\1152.jpg\n",
      "Looking for mask in: c:\\Users\\devan\\Downloads\\SAM2_Eval\\SAM2_Eval_Surgical_Datasets\\../Datasets\\CholecSeg8k\\test\\Masks\\Gall bladder\\video18\\video18_01139\\1152.jpg\n",
      "Looking for mask in: c:\\Users\\devan\\Downloads\\SAM2_Eval\\SAM2_Eval_Surgical_Datasets\\../Datasets\\CholecSeg8k\\test\\Masks\\Gastrointestinal Tract\\video18\\video18_01139\\1152.jpg\n",
      "Looking for mask in: c:\\Users\\devan\\Downloads\\SAM2_Eval\\SAM2_Eval_Surgical_Datasets\\../Datasets\\CholecSeg8k\\test\\Masks\\Grasper\\video18\\video18_01139\\1152.jpg\n",
      "Looking for mask in: c:\\Users\\devan\\Downloads\\SAM2_Eval\\SAM2_Eval_Surgical_Datasets\\../Datasets\\CholecSeg8k\\test\\Masks\\L-hook Electrocautery\\video18\\video18_01139\\1152.jpg\n",
      "Looking for mask in: c:\\Users\\devan\\Downloads\\SAM2_Eval\\SAM2_Eval_Surgical_Datasets\\../Datasets\\CholecSeg8k\\test\\Masks\\Liver\\video18\\video18_01139\\1152.jpg\n",
      "No matching mask found for frame: c:\\Users\\devan\\Downloads\\SAM2_Eval\\SAM2_Eval_Surgical_Datasets\\temp_jpg_frames\\1152.jpg\n",
      "Looking for mask in: c:\\Users\\devan\\Downloads\\SAM2_Eval\\SAM2_Eval_Surgical_Datasets\\../Datasets\\CholecSeg8k\\test\\Masks\\Abdominal Wall\\video18\\video18_01139\\1153.jpg\n",
      "Looking for mask in: c:\\Users\\devan\\Downloads\\SAM2_Eval\\SAM2_Eval_Surgical_Datasets\\../Datasets\\CholecSeg8k\\test\\Masks\\Fat\\video18\\video18_01139\\1153.jpg\n",
      "Looking for mask in: c:\\Users\\devan\\Downloads\\SAM2_Eval\\SAM2_Eval_Surgical_Datasets\\../Datasets\\CholecSeg8k\\test\\Masks\\Gall bladder\\video18\\video18_01139\\1153.jpg\n",
      "Looking for mask in: c:\\Users\\devan\\Downloads\\SAM2_Eval\\SAM2_Eval_Surgical_Datasets\\../Datasets\\CholecSeg8k\\test\\Masks\\Gastrointestinal Tract\\video18\\video18_01139\\1153.jpg\n",
      "Looking for mask in: c:\\Users\\devan\\Downloads\\SAM2_Eval\\SAM2_Eval_Surgical_Datasets\\../Datasets\\CholecSeg8k\\test\\Masks\\Grasper\\video18\\video18_01139\\1153.jpg\n",
      "Looking for mask in: c:\\Users\\devan\\Downloads\\SAM2_Eval\\SAM2_Eval_Surgical_Datasets\\../Datasets\\CholecSeg8k\\test\\Masks\\L-hook Electrocautery\\video18\\video18_01139\\1153.jpg\n",
      "Looking for mask in: c:\\Users\\devan\\Downloads\\SAM2_Eval\\SAM2_Eval_Surgical_Datasets\\../Datasets\\CholecSeg8k\\test\\Masks\\Liver\\video18\\video18_01139\\1153.jpg\n",
      "No matching mask found for frame: c:\\Users\\devan\\Downloads\\SAM2_Eval\\SAM2_Eval_Surgical_Datasets\\temp_jpg_frames\\1153.jpg\n",
      "Looking for mask in: c:\\Users\\devan\\Downloads\\SAM2_Eval\\SAM2_Eval_Surgical_Datasets\\../Datasets\\CholecSeg8k\\test\\Masks\\Abdominal Wall\\video18\\video18_01139\\1154.jpg\n",
      "Looking for mask in: c:\\Users\\devan\\Downloads\\SAM2_Eval\\SAM2_Eval_Surgical_Datasets\\../Datasets\\CholecSeg8k\\test\\Masks\\Fat\\video18\\video18_01139\\1154.jpg\n",
      "Looking for mask in: c:\\Users\\devan\\Downloads\\SAM2_Eval\\SAM2_Eval_Surgical_Datasets\\../Datasets\\CholecSeg8k\\test\\Masks\\Gall bladder\\video18\\video18_01139\\1154.jpg\n",
      "Looking for mask in: c:\\Users\\devan\\Downloads\\SAM2_Eval\\SAM2_Eval_Surgical_Datasets\\../Datasets\\CholecSeg8k\\test\\Masks\\Gastrointestinal Tract\\video18\\video18_01139\\1154.jpg\n",
      "Looking for mask in: c:\\Users\\devan\\Downloads\\SAM2_Eval\\SAM2_Eval_Surgical_Datasets\\../Datasets\\CholecSeg8k\\test\\Masks\\Grasper\\video18\\video18_01139\\1154.jpg\n",
      "Looking for mask in: c:\\Users\\devan\\Downloads\\SAM2_Eval\\SAM2_Eval_Surgical_Datasets\\../Datasets\\CholecSeg8k\\test\\Masks\\L-hook Electrocautery\\video18\\video18_01139\\1154.jpg\n",
      "Looking for mask in: c:\\Users\\devan\\Downloads\\SAM2_Eval\\SAM2_Eval_Surgical_Datasets\\../Datasets\\CholecSeg8k\\test\\Masks\\Liver\\video18\\video18_01139\\1154.jpg\n",
      "No matching mask found for frame: c:\\Users\\devan\\Downloads\\SAM2_Eval\\SAM2_Eval_Surgical_Datasets\\temp_jpg_frames\\1154.jpg\n",
      "Looking for mask in: c:\\Users\\devan\\Downloads\\SAM2_Eval\\SAM2_Eval_Surgical_Datasets\\../Datasets\\CholecSeg8k\\test\\Masks\\Abdominal Wall\\video18\\video18_01139\\1155.jpg\n",
      "Looking for mask in: c:\\Users\\devan\\Downloads\\SAM2_Eval\\SAM2_Eval_Surgical_Datasets\\../Datasets\\CholecSeg8k\\test\\Masks\\Fat\\video18\\video18_01139\\1155.jpg\n",
      "Looking for mask in: c:\\Users\\devan\\Downloads\\SAM2_Eval\\SAM2_Eval_Surgical_Datasets\\../Datasets\\CholecSeg8k\\test\\Masks\\Gall bladder\\video18\\video18_01139\\1155.jpg\n",
      "Looking for mask in: c:\\Users\\devan\\Downloads\\SAM2_Eval\\SAM2_Eval_Surgical_Datasets\\../Datasets\\CholecSeg8k\\test\\Masks\\Gastrointestinal Tract\\video18\\video18_01139\\1155.jpg\n",
      "Looking for mask in: c:\\Users\\devan\\Downloads\\SAM2_Eval\\SAM2_Eval_Surgical_Datasets\\../Datasets\\CholecSeg8k\\test\\Masks\\Grasper\\video18\\video18_01139\\1155.jpg\n",
      "Looking for mask in: c:\\Users\\devan\\Downloads\\SAM2_Eval\\SAM2_Eval_Surgical_Datasets\\../Datasets\\CholecSeg8k\\test\\Masks\\L-hook Electrocautery\\video18\\video18_01139\\1155.jpg\n",
      "Looking for mask in: c:\\Users\\devan\\Downloads\\SAM2_Eval\\SAM2_Eval_Surgical_Datasets\\../Datasets\\CholecSeg8k\\test\\Masks\\Liver\\video18\\video18_01139\\1155.jpg\n",
      "No matching mask found for frame: c:\\Users\\devan\\Downloads\\SAM2_Eval\\SAM2_Eval_Surgical_Datasets\\temp_jpg_frames\\1155.jpg\n",
      "Looking for mask in: c:\\Users\\devan\\Downloads\\SAM2_Eval\\SAM2_Eval_Surgical_Datasets\\../Datasets\\CholecSeg8k\\test\\Masks\\Abdominal Wall\\video18\\video18_01139\\1156.jpg\n",
      "Looking for mask in: c:\\Users\\devan\\Downloads\\SAM2_Eval\\SAM2_Eval_Surgical_Datasets\\../Datasets\\CholecSeg8k\\test\\Masks\\Fat\\video18\\video18_01139\\1156.jpg\n",
      "Looking for mask in: c:\\Users\\devan\\Downloads\\SAM2_Eval\\SAM2_Eval_Surgical_Datasets\\../Datasets\\CholecSeg8k\\test\\Masks\\Gall bladder\\video18\\video18_01139\\1156.jpg\n",
      "Looking for mask in: c:\\Users\\devan\\Downloads\\SAM2_Eval\\SAM2_Eval_Surgical_Datasets\\../Datasets\\CholecSeg8k\\test\\Masks\\Gastrointestinal Tract\\video18\\video18_01139\\1156.jpg\n",
      "Looking for mask in: c:\\Users\\devan\\Downloads\\SAM2_Eval\\SAM2_Eval_Surgical_Datasets\\../Datasets\\CholecSeg8k\\test\\Masks\\Grasper\\video18\\video18_01139\\1156.jpg\n",
      "Looking for mask in: c:\\Users\\devan\\Downloads\\SAM2_Eval\\SAM2_Eval_Surgical_Datasets\\../Datasets\\CholecSeg8k\\test\\Masks\\L-hook Electrocautery\\video18\\video18_01139\\1156.jpg\n",
      "Looking for mask in: c:\\Users\\devan\\Downloads\\SAM2_Eval\\SAM2_Eval_Surgical_Datasets\\../Datasets\\CholecSeg8k\\test\\Masks\\Liver\\video18\\video18_01139\\1156.jpg\n",
      "No matching mask found for frame: c:\\Users\\devan\\Downloads\\SAM2_Eval\\SAM2_Eval_Surgical_Datasets\\temp_jpg_frames\\1156.jpg\n",
      "Looking for mask in: c:\\Users\\devan\\Downloads\\SAM2_Eval\\SAM2_Eval_Surgical_Datasets\\../Datasets\\CholecSeg8k\\test\\Masks\\Abdominal Wall\\video18\\video18_01139\\1157.jpg\n",
      "Looking for mask in: c:\\Users\\devan\\Downloads\\SAM2_Eval\\SAM2_Eval_Surgical_Datasets\\../Datasets\\CholecSeg8k\\test\\Masks\\Fat\\video18\\video18_01139\\1157.jpg\n",
      "Looking for mask in: c:\\Users\\devan\\Downloads\\SAM2_Eval\\SAM2_Eval_Surgical_Datasets\\../Datasets\\CholecSeg8k\\test\\Masks\\Gall bladder\\video18\\video18_01139\\1157.jpg\n",
      "Looking for mask in: c:\\Users\\devan\\Downloads\\SAM2_Eval\\SAM2_Eval_Surgical_Datasets\\../Datasets\\CholecSeg8k\\test\\Masks\\Gastrointestinal Tract\\video18\\video18_01139\\1157.jpg\n",
      "Looking for mask in: c:\\Users\\devan\\Downloads\\SAM2_Eval\\SAM2_Eval_Surgical_Datasets\\../Datasets\\CholecSeg8k\\test\\Masks\\Grasper\\video18\\video18_01139\\1157.jpg\n",
      "Looking for mask in: c:\\Users\\devan\\Downloads\\SAM2_Eval\\SAM2_Eval_Surgical_Datasets\\../Datasets\\CholecSeg8k\\test\\Masks\\L-hook Electrocautery\\video18\\video18_01139\\1157.jpg\n",
      "Looking for mask in: c:\\Users\\devan\\Downloads\\SAM2_Eval\\SAM2_Eval_Surgical_Datasets\\../Datasets\\CholecSeg8k\\test\\Masks\\Liver\\video18\\video18_01139\\1157.jpg\n",
      "No matching mask found for frame: c:\\Users\\devan\\Downloads\\SAM2_Eval\\SAM2_Eval_Surgical_Datasets\\temp_jpg_frames\\1157.jpg\n",
      "Looking for mask in: c:\\Users\\devan\\Downloads\\SAM2_Eval\\SAM2_Eval_Surgical_Datasets\\../Datasets\\CholecSeg8k\\test\\Masks\\Abdominal Wall\\video18\\video18_01139\\1158.jpg\n",
      "Looking for mask in: c:\\Users\\devan\\Downloads\\SAM2_Eval\\SAM2_Eval_Surgical_Datasets\\../Datasets\\CholecSeg8k\\test\\Masks\\Fat\\video18\\video18_01139\\1158.jpg\n",
      "Looking for mask in: c:\\Users\\devan\\Downloads\\SAM2_Eval\\SAM2_Eval_Surgical_Datasets\\../Datasets\\CholecSeg8k\\test\\Masks\\Gall bladder\\video18\\video18_01139\\1158.jpg\n",
      "Looking for mask in: c:\\Users\\devan\\Downloads\\SAM2_Eval\\SAM2_Eval_Surgical_Datasets\\../Datasets\\CholecSeg8k\\test\\Masks\\Gastrointestinal Tract\\video18\\video18_01139\\1158.jpg\n",
      "Looking for mask in: c:\\Users\\devan\\Downloads\\SAM2_Eval\\SAM2_Eval_Surgical_Datasets\\../Datasets\\CholecSeg8k\\test\\Masks\\Grasper\\video18\\video18_01139\\1158.jpg\n",
      "Looking for mask in: c:\\Users\\devan\\Downloads\\SAM2_Eval\\SAM2_Eval_Surgical_Datasets\\../Datasets\\CholecSeg8k\\test\\Masks\\L-hook Electrocautery\\video18\\video18_01139\\1158.jpg\n",
      "Looking for mask in: c:\\Users\\devan\\Downloads\\SAM2_Eval\\SAM2_Eval_Surgical_Datasets\\../Datasets\\CholecSeg8k\\test\\Masks\\Liver\\video18\\video18_01139\\1158.jpg\n",
      "No matching mask found for frame: c:\\Users\\devan\\Downloads\\SAM2_Eval\\SAM2_Eval_Surgical_Datasets\\temp_jpg_frames\\1158.jpg\n",
      "Looking for mask in: c:\\Users\\devan\\Downloads\\SAM2_Eval\\SAM2_Eval_Surgical_Datasets\\../Datasets\\CholecSeg8k\\test\\Masks\\Abdominal Wall\\video18\\video18_01139\\1159.jpg\n",
      "Looking for mask in: c:\\Users\\devan\\Downloads\\SAM2_Eval\\SAM2_Eval_Surgical_Datasets\\../Datasets\\CholecSeg8k\\test\\Masks\\Fat\\video18\\video18_01139\\1159.jpg\n",
      "Looking for mask in: c:\\Users\\devan\\Downloads\\SAM2_Eval\\SAM2_Eval_Surgical_Datasets\\../Datasets\\CholecSeg8k\\test\\Masks\\Gall bladder\\video18\\video18_01139\\1159.jpg\n",
      "Looking for mask in: c:\\Users\\devan\\Downloads\\SAM2_Eval\\SAM2_Eval_Surgical_Datasets\\../Datasets\\CholecSeg8k\\test\\Masks\\Gastrointestinal Tract\\video18\\video18_01139\\1159.jpg\n",
      "Looking for mask in: c:\\Users\\devan\\Downloads\\SAM2_Eval\\SAM2_Eval_Surgical_Datasets\\../Datasets\\CholecSeg8k\\test\\Masks\\Grasper\\video18\\video18_01139\\1159.jpg\n",
      "Looking for mask in: c:\\Users\\devan\\Downloads\\SAM2_Eval\\SAM2_Eval_Surgical_Datasets\\../Datasets\\CholecSeg8k\\test\\Masks\\L-hook Electrocautery\\video18\\video18_01139\\1159.jpg\n",
      "Looking for mask in: c:\\Users\\devan\\Downloads\\SAM2_Eval\\SAM2_Eval_Surgical_Datasets\\../Datasets\\CholecSeg8k\\test\\Masks\\Liver\\video18\\video18_01139\\1159.jpg\n",
      "No matching mask found for frame: c:\\Users\\devan\\Downloads\\SAM2_Eval\\SAM2_Eval_Surgical_Datasets\\temp_jpg_frames\\1159.jpg\n",
      "Looking for mask in: c:\\Users\\devan\\Downloads\\SAM2_Eval\\SAM2_Eval_Surgical_Datasets\\../Datasets\\CholecSeg8k\\test\\Masks\\Abdominal Wall\\video18\\video18_01139\\1160.jpg\n",
      "Looking for mask in: c:\\Users\\devan\\Downloads\\SAM2_Eval\\SAM2_Eval_Surgical_Datasets\\../Datasets\\CholecSeg8k\\test\\Masks\\Fat\\video18\\video18_01139\\1160.jpg\n",
      "Looking for mask in: c:\\Users\\devan\\Downloads\\SAM2_Eval\\SAM2_Eval_Surgical_Datasets\\../Datasets\\CholecSeg8k\\test\\Masks\\Gall bladder\\video18\\video18_01139\\1160.jpg\n",
      "Looking for mask in: c:\\Users\\devan\\Downloads\\SAM2_Eval\\SAM2_Eval_Surgical_Datasets\\../Datasets\\CholecSeg8k\\test\\Masks\\Gastrointestinal Tract\\video18\\video18_01139\\1160.jpg\n",
      "Looking for mask in: c:\\Users\\devan\\Downloads\\SAM2_Eval\\SAM2_Eval_Surgical_Datasets\\../Datasets\\CholecSeg8k\\test\\Masks\\Grasper\\video18\\video18_01139\\1160.jpg\n",
      "Looking for mask in: c:\\Users\\devan\\Downloads\\SAM2_Eval\\SAM2_Eval_Surgical_Datasets\\../Datasets\\CholecSeg8k\\test\\Masks\\L-hook Electrocautery\\video18\\video18_01139\\1160.jpg\n",
      "Looking for mask in: c:\\Users\\devan\\Downloads\\SAM2_Eval\\SAM2_Eval_Surgical_Datasets\\../Datasets\\CholecSeg8k\\test\\Masks\\Liver\\video18\\video18_01139\\1160.jpg\n",
      "No matching mask found for frame: c:\\Users\\devan\\Downloads\\SAM2_Eval\\SAM2_Eval_Surgical_Datasets\\temp_jpg_frames\\1160.jpg\n",
      "Looking for mask in: c:\\Users\\devan\\Downloads\\SAM2_Eval\\SAM2_Eval_Surgical_Datasets\\../Datasets\\CholecSeg8k\\test\\Masks\\Abdominal Wall\\video18\\video18_01139\\1161.jpg\n",
      "Looking for mask in: c:\\Users\\devan\\Downloads\\SAM2_Eval\\SAM2_Eval_Surgical_Datasets\\../Datasets\\CholecSeg8k\\test\\Masks\\Fat\\video18\\video18_01139\\1161.jpg\n",
      "Looking for mask in: c:\\Users\\devan\\Downloads\\SAM2_Eval\\SAM2_Eval_Surgical_Datasets\\../Datasets\\CholecSeg8k\\test\\Masks\\Gall bladder\\video18\\video18_01139\\1161.jpg\n",
      "Looking for mask in: c:\\Users\\devan\\Downloads\\SAM2_Eval\\SAM2_Eval_Surgical_Datasets\\../Datasets\\CholecSeg8k\\test\\Masks\\Gastrointestinal Tract\\video18\\video18_01139\\1161.jpg\n",
      "Looking for mask in: c:\\Users\\devan\\Downloads\\SAM2_Eval\\SAM2_Eval_Surgical_Datasets\\../Datasets\\CholecSeg8k\\test\\Masks\\Grasper\\video18\\video18_01139\\1161.jpg\n",
      "Looking for mask in: c:\\Users\\devan\\Downloads\\SAM2_Eval\\SAM2_Eval_Surgical_Datasets\\../Datasets\\CholecSeg8k\\test\\Masks\\L-hook Electrocautery\\video18\\video18_01139\\1161.jpg\n",
      "Looking for mask in: c:\\Users\\devan\\Downloads\\SAM2_Eval\\SAM2_Eval_Surgical_Datasets\\../Datasets\\CholecSeg8k\\test\\Masks\\Liver\\video18\\video18_01139\\1161.jpg\n",
      "No matching mask found for frame: c:\\Users\\devan\\Downloads\\SAM2_Eval\\SAM2_Eval_Surgical_Datasets\\temp_jpg_frames\\1161.jpg\n",
      "Looking for mask in: c:\\Users\\devan\\Downloads\\SAM2_Eval\\SAM2_Eval_Surgical_Datasets\\../Datasets\\CholecSeg8k\\test\\Masks\\Abdominal Wall\\video18\\video18_01139\\1162.jpg\n",
      "Looking for mask in: c:\\Users\\devan\\Downloads\\SAM2_Eval\\SAM2_Eval_Surgical_Datasets\\../Datasets\\CholecSeg8k\\test\\Masks\\Fat\\video18\\video18_01139\\1162.jpg\n",
      "Looking for mask in: c:\\Users\\devan\\Downloads\\SAM2_Eval\\SAM2_Eval_Surgical_Datasets\\../Datasets\\CholecSeg8k\\test\\Masks\\Gall bladder\\video18\\video18_01139\\1162.jpg\n",
      "Looking for mask in: c:\\Users\\devan\\Downloads\\SAM2_Eval\\SAM2_Eval_Surgical_Datasets\\../Datasets\\CholecSeg8k\\test\\Masks\\Gastrointestinal Tract\\video18\\video18_01139\\1162.jpg\n",
      "Looking for mask in: c:\\Users\\devan\\Downloads\\SAM2_Eval\\SAM2_Eval_Surgical_Datasets\\../Datasets\\CholecSeg8k\\test\\Masks\\Grasper\\video18\\video18_01139\\1162.jpg\n",
      "Looking for mask in: c:\\Users\\devan\\Downloads\\SAM2_Eval\\SAM2_Eval_Surgical_Datasets\\../Datasets\\CholecSeg8k\\test\\Masks\\L-hook Electrocautery\\video18\\video18_01139\\1162.jpg\n",
      "Looking for mask in: c:\\Users\\devan\\Downloads\\SAM2_Eval\\SAM2_Eval_Surgical_Datasets\\../Datasets\\CholecSeg8k\\test\\Masks\\Liver\\video18\\video18_01139\\1162.jpg\n",
      "No matching mask found for frame: c:\\Users\\devan\\Downloads\\SAM2_Eval\\SAM2_Eval_Surgical_Datasets\\temp_jpg_frames\\1162.jpg\n",
      "Looking for mask in: c:\\Users\\devan\\Downloads\\SAM2_Eval\\SAM2_Eval_Surgical_Datasets\\../Datasets\\CholecSeg8k\\test\\Masks\\Abdominal Wall\\video18\\video18_01139\\1163.jpg\n",
      "Looking for mask in: c:\\Users\\devan\\Downloads\\SAM2_Eval\\SAM2_Eval_Surgical_Datasets\\../Datasets\\CholecSeg8k\\test\\Masks\\Fat\\video18\\video18_01139\\1163.jpg\n",
      "Looking for mask in: c:\\Users\\devan\\Downloads\\SAM2_Eval\\SAM2_Eval_Surgical_Datasets\\../Datasets\\CholecSeg8k\\test\\Masks\\Gall bladder\\video18\\video18_01139\\1163.jpg\n",
      "Looking for mask in: c:\\Users\\devan\\Downloads\\SAM2_Eval\\SAM2_Eval_Surgical_Datasets\\../Datasets\\CholecSeg8k\\test\\Masks\\Gastrointestinal Tract\\video18\\video18_01139\\1163.jpg\n",
      "Looking for mask in: c:\\Users\\devan\\Downloads\\SAM2_Eval\\SAM2_Eval_Surgical_Datasets\\../Datasets\\CholecSeg8k\\test\\Masks\\Grasper\\video18\\video18_01139\\1163.jpg\n",
      "Looking for mask in: c:\\Users\\devan\\Downloads\\SAM2_Eval\\SAM2_Eval_Surgical_Datasets\\../Datasets\\CholecSeg8k\\test\\Masks\\L-hook Electrocautery\\video18\\video18_01139\\1163.jpg\n",
      "Looking for mask in: c:\\Users\\devan\\Downloads\\SAM2_Eval\\SAM2_Eval_Surgical_Datasets\\../Datasets\\CholecSeg8k\\test\\Masks\\Liver\\video18\\video18_01139\\1163.jpg\n",
      "No matching mask found for frame: c:\\Users\\devan\\Downloads\\SAM2_Eval\\SAM2_Eval_Surgical_Datasets\\temp_jpg_frames\\1163.jpg\n",
      "Looking for mask in: c:\\Users\\devan\\Downloads\\SAM2_Eval\\SAM2_Eval_Surgical_Datasets\\../Datasets\\CholecSeg8k\\test\\Masks\\Abdominal Wall\\video18\\video18_01139\\1164.jpg\n",
      "Looking for mask in: c:\\Users\\devan\\Downloads\\SAM2_Eval\\SAM2_Eval_Surgical_Datasets\\../Datasets\\CholecSeg8k\\test\\Masks\\Fat\\video18\\video18_01139\\1164.jpg\n",
      "Looking for mask in: c:\\Users\\devan\\Downloads\\SAM2_Eval\\SAM2_Eval_Surgical_Datasets\\../Datasets\\CholecSeg8k\\test\\Masks\\Gall bladder\\video18\\video18_01139\\1164.jpg\n",
      "Looking for mask in: c:\\Users\\devan\\Downloads\\SAM2_Eval\\SAM2_Eval_Surgical_Datasets\\../Datasets\\CholecSeg8k\\test\\Masks\\Gastrointestinal Tract\\video18\\video18_01139\\1164.jpg\n",
      "Looking for mask in: c:\\Users\\devan\\Downloads\\SAM2_Eval\\SAM2_Eval_Surgical_Datasets\\../Datasets\\CholecSeg8k\\test\\Masks\\Grasper\\video18\\video18_01139\\1164.jpg\n",
      "Looking for mask in: c:\\Users\\devan\\Downloads\\SAM2_Eval\\SAM2_Eval_Surgical_Datasets\\../Datasets\\CholecSeg8k\\test\\Masks\\L-hook Electrocautery\\video18\\video18_01139\\1164.jpg\n",
      "Looking for mask in: c:\\Users\\devan\\Downloads\\SAM2_Eval\\SAM2_Eval_Surgical_Datasets\\../Datasets\\CholecSeg8k\\test\\Masks\\Liver\\video18\\video18_01139\\1164.jpg\n",
      "No matching mask found for frame: c:\\Users\\devan\\Downloads\\SAM2_Eval\\SAM2_Eval_Surgical_Datasets\\temp_jpg_frames\\1164.jpg\n",
      "Looking for mask in: c:\\Users\\devan\\Downloads\\SAM2_Eval\\SAM2_Eval_Surgical_Datasets\\../Datasets\\CholecSeg8k\\test\\Masks\\Abdominal Wall\\video18\\video18_01139\\1165.jpg\n",
      "Looking for mask in: c:\\Users\\devan\\Downloads\\SAM2_Eval\\SAM2_Eval_Surgical_Datasets\\../Datasets\\CholecSeg8k\\test\\Masks\\Fat\\video18\\video18_01139\\1165.jpg\n",
      "Looking for mask in: c:\\Users\\devan\\Downloads\\SAM2_Eval\\SAM2_Eval_Surgical_Datasets\\../Datasets\\CholecSeg8k\\test\\Masks\\Gall bladder\\video18\\video18_01139\\1165.jpg\n",
      "Looking for mask in: c:\\Users\\devan\\Downloads\\SAM2_Eval\\SAM2_Eval_Surgical_Datasets\\../Datasets\\CholecSeg8k\\test\\Masks\\Gastrointestinal Tract\\video18\\video18_01139\\1165.jpg\n",
      "Looking for mask in: c:\\Users\\devan\\Downloads\\SAM2_Eval\\SAM2_Eval_Surgical_Datasets\\../Datasets\\CholecSeg8k\\test\\Masks\\Grasper\\video18\\video18_01139\\1165.jpg\n",
      "Looking for mask in: c:\\Users\\devan\\Downloads\\SAM2_Eval\\SAM2_Eval_Surgical_Datasets\\../Datasets\\CholecSeg8k\\test\\Masks\\L-hook Electrocautery\\video18\\video18_01139\\1165.jpg\n",
      "Looking for mask in: c:\\Users\\devan\\Downloads\\SAM2_Eval\\SAM2_Eval_Surgical_Datasets\\../Datasets\\CholecSeg8k\\test\\Masks\\Liver\\video18\\video18_01139\\1165.jpg\n",
      "No matching mask found for frame: c:\\Users\\devan\\Downloads\\SAM2_Eval\\SAM2_Eval_Surgical_Datasets\\temp_jpg_frames\\1165.jpg\n",
      "Looking for mask in: c:\\Users\\devan\\Downloads\\SAM2_Eval\\SAM2_Eval_Surgical_Datasets\\../Datasets\\CholecSeg8k\\test\\Masks\\Abdominal Wall\\video18\\video18_01139\\1166.jpg\n",
      "Looking for mask in: c:\\Users\\devan\\Downloads\\SAM2_Eval\\SAM2_Eval_Surgical_Datasets\\../Datasets\\CholecSeg8k\\test\\Masks\\Fat\\video18\\video18_01139\\1166.jpg\n",
      "Looking for mask in: c:\\Users\\devan\\Downloads\\SAM2_Eval\\SAM2_Eval_Surgical_Datasets\\../Datasets\\CholecSeg8k\\test\\Masks\\Gall bladder\\video18\\video18_01139\\1166.jpg\n",
      "Looking for mask in: c:\\Users\\devan\\Downloads\\SAM2_Eval\\SAM2_Eval_Surgical_Datasets\\../Datasets\\CholecSeg8k\\test\\Masks\\Gastrointestinal Tract\\video18\\video18_01139\\1166.jpg\n",
      "Looking for mask in: c:\\Users\\devan\\Downloads\\SAM2_Eval\\SAM2_Eval_Surgical_Datasets\\../Datasets\\CholecSeg8k\\test\\Masks\\Grasper\\video18\\video18_01139\\1166.jpg\n",
      "Looking for mask in: c:\\Users\\devan\\Downloads\\SAM2_Eval\\SAM2_Eval_Surgical_Datasets\\../Datasets\\CholecSeg8k\\test\\Masks\\L-hook Electrocautery\\video18\\video18_01139\\1166.jpg\n",
      "Looking for mask in: c:\\Users\\devan\\Downloads\\SAM2_Eval\\SAM2_Eval_Surgical_Datasets\\../Datasets\\CholecSeg8k\\test\\Masks\\Liver\\video18\\video18_01139\\1166.jpg\n",
      "No matching mask found for frame: c:\\Users\\devan\\Downloads\\SAM2_Eval\\SAM2_Eval_Surgical_Datasets\\temp_jpg_frames\\1166.jpg\n",
      "Looking for mask in: c:\\Users\\devan\\Downloads\\SAM2_Eval\\SAM2_Eval_Surgical_Datasets\\../Datasets\\CholecSeg8k\\test\\Masks\\Abdominal Wall\\video18\\video18_01139\\1167.jpg\n",
      "Looking for mask in: c:\\Users\\devan\\Downloads\\SAM2_Eval\\SAM2_Eval_Surgical_Datasets\\../Datasets\\CholecSeg8k\\test\\Masks\\Fat\\video18\\video18_01139\\1167.jpg\n",
      "Looking for mask in: c:\\Users\\devan\\Downloads\\SAM2_Eval\\SAM2_Eval_Surgical_Datasets\\../Datasets\\CholecSeg8k\\test\\Masks\\Gall bladder\\video18\\video18_01139\\1167.jpg\n",
      "Looking for mask in: c:\\Users\\devan\\Downloads\\SAM2_Eval\\SAM2_Eval_Surgical_Datasets\\../Datasets\\CholecSeg8k\\test\\Masks\\Gastrointestinal Tract\\video18\\video18_01139\\1167.jpg\n",
      "Looking for mask in: c:\\Users\\devan\\Downloads\\SAM2_Eval\\SAM2_Eval_Surgical_Datasets\\../Datasets\\CholecSeg8k\\test\\Masks\\Grasper\\video18\\video18_01139\\1167.jpg\n",
      "Looking for mask in: c:\\Users\\devan\\Downloads\\SAM2_Eval\\SAM2_Eval_Surgical_Datasets\\../Datasets\\CholecSeg8k\\test\\Masks\\L-hook Electrocautery\\video18\\video18_01139\\1167.jpg\n",
      "Looking for mask in: c:\\Users\\devan\\Downloads\\SAM2_Eval\\SAM2_Eval_Surgical_Datasets\\../Datasets\\CholecSeg8k\\test\\Masks\\Liver\\video18\\video18_01139\\1167.jpg\n",
      "No matching mask found for frame: c:\\Users\\devan\\Downloads\\SAM2_Eval\\SAM2_Eval_Surgical_Datasets\\temp_jpg_frames\\1167.jpg\n",
      "Looking for mask in: c:\\Users\\devan\\Downloads\\SAM2_Eval\\SAM2_Eval_Surgical_Datasets\\../Datasets\\CholecSeg8k\\test\\Masks\\Abdominal Wall\\video18\\video18_01139\\1168.jpg\n",
      "Looking for mask in: c:\\Users\\devan\\Downloads\\SAM2_Eval\\SAM2_Eval_Surgical_Datasets\\../Datasets\\CholecSeg8k\\test\\Masks\\Fat\\video18\\video18_01139\\1168.jpg\n",
      "Looking for mask in: c:\\Users\\devan\\Downloads\\SAM2_Eval\\SAM2_Eval_Surgical_Datasets\\../Datasets\\CholecSeg8k\\test\\Masks\\Gall bladder\\video18\\video18_01139\\1168.jpg\n",
      "Looking for mask in: c:\\Users\\devan\\Downloads\\SAM2_Eval\\SAM2_Eval_Surgical_Datasets\\../Datasets\\CholecSeg8k\\test\\Masks\\Gastrointestinal Tract\\video18\\video18_01139\\1168.jpg\n",
      "Looking for mask in: c:\\Users\\devan\\Downloads\\SAM2_Eval\\SAM2_Eval_Surgical_Datasets\\../Datasets\\CholecSeg8k\\test\\Masks\\Grasper\\video18\\video18_01139\\1168.jpg\n",
      "Looking for mask in: c:\\Users\\devan\\Downloads\\SAM2_Eval\\SAM2_Eval_Surgical_Datasets\\../Datasets\\CholecSeg8k\\test\\Masks\\L-hook Electrocautery\\video18\\video18_01139\\1168.jpg\n",
      "Looking for mask in: c:\\Users\\devan\\Downloads\\SAM2_Eval\\SAM2_Eval_Surgical_Datasets\\../Datasets\\CholecSeg8k\\test\\Masks\\Liver\\video18\\video18_01139\\1168.jpg\n",
      "No matching mask found for frame: c:\\Users\\devan\\Downloads\\SAM2_Eval\\SAM2_Eval_Surgical_Datasets\\temp_jpg_frames\\1168.jpg\n",
      "Looking for mask in: c:\\Users\\devan\\Downloads\\SAM2_Eval\\SAM2_Eval_Surgical_Datasets\\../Datasets\\CholecSeg8k\\test\\Masks\\Abdominal Wall\\video18\\video18_01139\\1169.jpg\n",
      "Looking for mask in: c:\\Users\\devan\\Downloads\\SAM2_Eval\\SAM2_Eval_Surgical_Datasets\\../Datasets\\CholecSeg8k\\test\\Masks\\Fat\\video18\\video18_01139\\1169.jpg\n",
      "Looking for mask in: c:\\Users\\devan\\Downloads\\SAM2_Eval\\SAM2_Eval_Surgical_Datasets\\../Datasets\\CholecSeg8k\\test\\Masks\\Gall bladder\\video18\\video18_01139\\1169.jpg\n",
      "Looking for mask in: c:\\Users\\devan\\Downloads\\SAM2_Eval\\SAM2_Eval_Surgical_Datasets\\../Datasets\\CholecSeg8k\\test\\Masks\\Gastrointestinal Tract\\video18\\video18_01139\\1169.jpg\n",
      "Looking for mask in: c:\\Users\\devan\\Downloads\\SAM2_Eval\\SAM2_Eval_Surgical_Datasets\\../Datasets\\CholecSeg8k\\test\\Masks\\Grasper\\video18\\video18_01139\\1169.jpg\n",
      "Looking for mask in: c:\\Users\\devan\\Downloads\\SAM2_Eval\\SAM2_Eval_Surgical_Datasets\\../Datasets\\CholecSeg8k\\test\\Masks\\L-hook Electrocautery\\video18\\video18_01139\\1169.jpg\n",
      "Looking for mask in: c:\\Users\\devan\\Downloads\\SAM2_Eval\\SAM2_Eval_Surgical_Datasets\\../Datasets\\CholecSeg8k\\test\\Masks\\Liver\\video18\\video18_01139\\1169.jpg\n",
      "No matching mask found for frame: c:\\Users\\devan\\Downloads\\SAM2_Eval\\SAM2_Eval_Surgical_Datasets\\temp_jpg_frames\\1169.jpg\n",
      "Looking for mask in: c:\\Users\\devan\\Downloads\\SAM2_Eval\\SAM2_Eval_Surgical_Datasets\\../Datasets\\CholecSeg8k\\test\\Masks\\Abdominal Wall\\video18\\video18_01139\\1170.jpg\n",
      "Looking for mask in: c:\\Users\\devan\\Downloads\\SAM2_Eval\\SAM2_Eval_Surgical_Datasets\\../Datasets\\CholecSeg8k\\test\\Masks\\Fat\\video18\\video18_01139\\1170.jpg\n",
      "Looking for mask in: c:\\Users\\devan\\Downloads\\SAM2_Eval\\SAM2_Eval_Surgical_Datasets\\../Datasets\\CholecSeg8k\\test\\Masks\\Gall bladder\\video18\\video18_01139\\1170.jpg\n",
      "Looking for mask in: c:\\Users\\devan\\Downloads\\SAM2_Eval\\SAM2_Eval_Surgical_Datasets\\../Datasets\\CholecSeg8k\\test\\Masks\\Gastrointestinal Tract\\video18\\video18_01139\\1170.jpg\n",
      "Looking for mask in: c:\\Users\\devan\\Downloads\\SAM2_Eval\\SAM2_Eval_Surgical_Datasets\\../Datasets\\CholecSeg8k\\test\\Masks\\Grasper\\video18\\video18_01139\\1170.jpg\n",
      "Looking for mask in: c:\\Users\\devan\\Downloads\\SAM2_Eval\\SAM2_Eval_Surgical_Datasets\\../Datasets\\CholecSeg8k\\test\\Masks\\L-hook Electrocautery\\video18\\video18_01139\\1170.jpg\n",
      "Looking for mask in: c:\\Users\\devan\\Downloads\\SAM2_Eval\\SAM2_Eval_Surgical_Datasets\\../Datasets\\CholecSeg8k\\test\\Masks\\Liver\\video18\\video18_01139\\1170.jpg\n",
      "No matching mask found for frame: c:\\Users\\devan\\Downloads\\SAM2_Eval\\SAM2_Eval_Surgical_Datasets\\temp_jpg_frames\\1170.jpg\n",
      "Looking for mask in: c:\\Users\\devan\\Downloads\\SAM2_Eval\\SAM2_Eval_Surgical_Datasets\\../Datasets\\CholecSeg8k\\test\\Masks\\Abdominal Wall\\video18\\video18_01139\\1171.jpg\n",
      "Looking for mask in: c:\\Users\\devan\\Downloads\\SAM2_Eval\\SAM2_Eval_Surgical_Datasets\\../Datasets\\CholecSeg8k\\test\\Masks\\Fat\\video18\\video18_01139\\1171.jpg\n",
      "Looking for mask in: c:\\Users\\devan\\Downloads\\SAM2_Eval\\SAM2_Eval_Surgical_Datasets\\../Datasets\\CholecSeg8k\\test\\Masks\\Gall bladder\\video18\\video18_01139\\1171.jpg\n",
      "Looking for mask in: c:\\Users\\devan\\Downloads\\SAM2_Eval\\SAM2_Eval_Surgical_Datasets\\../Datasets\\CholecSeg8k\\test\\Masks\\Gastrointestinal Tract\\video18\\video18_01139\\1171.jpg\n",
      "Looking for mask in: c:\\Users\\devan\\Downloads\\SAM2_Eval\\SAM2_Eval_Surgical_Datasets\\../Datasets\\CholecSeg8k\\test\\Masks\\Grasper\\video18\\video18_01139\\1171.jpg\n",
      "Looking for mask in: c:\\Users\\devan\\Downloads\\SAM2_Eval\\SAM2_Eval_Surgical_Datasets\\../Datasets\\CholecSeg8k\\test\\Masks\\L-hook Electrocautery\\video18\\video18_01139\\1171.jpg\n",
      "Looking for mask in: c:\\Users\\devan\\Downloads\\SAM2_Eval\\SAM2_Eval_Surgical_Datasets\\../Datasets\\CholecSeg8k\\test\\Masks\\Liver\\video18\\video18_01139\\1171.jpg\n",
      "No matching mask found for frame: c:\\Users\\devan\\Downloads\\SAM2_Eval\\SAM2_Eval_Surgical_Datasets\\temp_jpg_frames\\1171.jpg\n",
      "Looking for mask in: c:\\Users\\devan\\Downloads\\SAM2_Eval\\SAM2_Eval_Surgical_Datasets\\../Datasets\\CholecSeg8k\\test\\Masks\\Abdominal Wall\\video18\\video18_01139\\1172.jpg\n",
      "Looking for mask in: c:\\Users\\devan\\Downloads\\SAM2_Eval\\SAM2_Eval_Surgical_Datasets\\../Datasets\\CholecSeg8k\\test\\Masks\\Fat\\video18\\video18_01139\\1172.jpg\n",
      "Looking for mask in: c:\\Users\\devan\\Downloads\\SAM2_Eval\\SAM2_Eval_Surgical_Datasets\\../Datasets\\CholecSeg8k\\test\\Masks\\Gall bladder\\video18\\video18_01139\\1172.jpg\n",
      "Looking for mask in: c:\\Users\\devan\\Downloads\\SAM2_Eval\\SAM2_Eval_Surgical_Datasets\\../Datasets\\CholecSeg8k\\test\\Masks\\Gastrointestinal Tract\\video18\\video18_01139\\1172.jpg\n",
      "Looking for mask in: c:\\Users\\devan\\Downloads\\SAM2_Eval\\SAM2_Eval_Surgical_Datasets\\../Datasets\\CholecSeg8k\\test\\Masks\\Grasper\\video18\\video18_01139\\1172.jpg\n",
      "Looking for mask in: c:\\Users\\devan\\Downloads\\SAM2_Eval\\SAM2_Eval_Surgical_Datasets\\../Datasets\\CholecSeg8k\\test\\Masks\\L-hook Electrocautery\\video18\\video18_01139\\1172.jpg\n",
      "Looking for mask in: c:\\Users\\devan\\Downloads\\SAM2_Eval\\SAM2_Eval_Surgical_Datasets\\../Datasets\\CholecSeg8k\\test\\Masks\\Liver\\video18\\video18_01139\\1172.jpg\n",
      "No matching mask found for frame: c:\\Users\\devan\\Downloads\\SAM2_Eval\\SAM2_Eval_Surgical_Datasets\\temp_jpg_frames\\1172.jpg\n",
      "Looking for mask in: c:\\Users\\devan\\Downloads\\SAM2_Eval\\SAM2_Eval_Surgical_Datasets\\../Datasets\\CholecSeg8k\\test\\Masks\\Abdominal Wall\\video18\\video18_01139\\1173.jpg\n",
      "Looking for mask in: c:\\Users\\devan\\Downloads\\SAM2_Eval\\SAM2_Eval_Surgical_Datasets\\../Datasets\\CholecSeg8k\\test\\Masks\\Fat\\video18\\video18_01139\\1173.jpg\n",
      "Looking for mask in: c:\\Users\\devan\\Downloads\\SAM2_Eval\\SAM2_Eval_Surgical_Datasets\\../Datasets\\CholecSeg8k\\test\\Masks\\Gall bladder\\video18\\video18_01139\\1173.jpg\n",
      "Looking for mask in: c:\\Users\\devan\\Downloads\\SAM2_Eval\\SAM2_Eval_Surgical_Datasets\\../Datasets\\CholecSeg8k\\test\\Masks\\Gastrointestinal Tract\\video18\\video18_01139\\1173.jpg\n",
      "Looking for mask in: c:\\Users\\devan\\Downloads\\SAM2_Eval\\SAM2_Eval_Surgical_Datasets\\../Datasets\\CholecSeg8k\\test\\Masks\\Grasper\\video18\\video18_01139\\1173.jpg\n",
      "Looking for mask in: c:\\Users\\devan\\Downloads\\SAM2_Eval\\SAM2_Eval_Surgical_Datasets\\../Datasets\\CholecSeg8k\\test\\Masks\\L-hook Electrocautery\\video18\\video18_01139\\1173.jpg\n",
      "Looking for mask in: c:\\Users\\devan\\Downloads\\SAM2_Eval\\SAM2_Eval_Surgical_Datasets\\../Datasets\\CholecSeg8k\\test\\Masks\\Liver\\video18\\video18_01139\\1173.jpg\n",
      "No matching mask found for frame: c:\\Users\\devan\\Downloads\\SAM2_Eval\\SAM2_Eval_Surgical_Datasets\\temp_jpg_frames\\1173.jpg\n",
      "Looking for mask in: c:\\Users\\devan\\Downloads\\SAM2_Eval\\SAM2_Eval_Surgical_Datasets\\../Datasets\\CholecSeg8k\\test\\Masks\\Abdominal Wall\\video18\\video18_01139\\1174.jpg\n",
      "Looking for mask in: c:\\Users\\devan\\Downloads\\SAM2_Eval\\SAM2_Eval_Surgical_Datasets\\../Datasets\\CholecSeg8k\\test\\Masks\\Fat\\video18\\video18_01139\\1174.jpg\n",
      "Looking for mask in: c:\\Users\\devan\\Downloads\\SAM2_Eval\\SAM2_Eval_Surgical_Datasets\\../Datasets\\CholecSeg8k\\test\\Masks\\Gall bladder\\video18\\video18_01139\\1174.jpg\n",
      "Looking for mask in: c:\\Users\\devan\\Downloads\\SAM2_Eval\\SAM2_Eval_Surgical_Datasets\\../Datasets\\CholecSeg8k\\test\\Masks\\Gastrointestinal Tract\\video18\\video18_01139\\1174.jpg\n",
      "Looking for mask in: c:\\Users\\devan\\Downloads\\SAM2_Eval\\SAM2_Eval_Surgical_Datasets\\../Datasets\\CholecSeg8k\\test\\Masks\\Grasper\\video18\\video18_01139\\1174.jpg\n",
      "Looking for mask in: c:\\Users\\devan\\Downloads\\SAM2_Eval\\SAM2_Eval_Surgical_Datasets\\../Datasets\\CholecSeg8k\\test\\Masks\\L-hook Electrocautery\\video18\\video18_01139\\1174.jpg\n",
      "Looking for mask in: c:\\Users\\devan\\Downloads\\SAM2_Eval\\SAM2_Eval_Surgical_Datasets\\../Datasets\\CholecSeg8k\\test\\Masks\\Liver\\video18\\video18_01139\\1174.jpg\n",
      "No matching mask found for frame: c:\\Users\\devan\\Downloads\\SAM2_Eval\\SAM2_Eval_Surgical_Datasets\\temp_jpg_frames\\1174.jpg\n",
      "Looking for mask in: c:\\Users\\devan\\Downloads\\SAM2_Eval\\SAM2_Eval_Surgical_Datasets\\../Datasets\\CholecSeg8k\\test\\Masks\\Abdominal Wall\\video18\\video18_01139\\1175.jpg\n",
      "Looking for mask in: c:\\Users\\devan\\Downloads\\SAM2_Eval\\SAM2_Eval_Surgical_Datasets\\../Datasets\\CholecSeg8k\\test\\Masks\\Fat\\video18\\video18_01139\\1175.jpg\n",
      "Looking for mask in: c:\\Users\\devan\\Downloads\\SAM2_Eval\\SAM2_Eval_Surgical_Datasets\\../Datasets\\CholecSeg8k\\test\\Masks\\Gall bladder\\video18\\video18_01139\\1175.jpg\n",
      "Looking for mask in: c:\\Users\\devan\\Downloads\\SAM2_Eval\\SAM2_Eval_Surgical_Datasets\\../Datasets\\CholecSeg8k\\test\\Masks\\Gastrointestinal Tract\\video18\\video18_01139\\1175.jpg\n",
      "Looking for mask in: c:\\Users\\devan\\Downloads\\SAM2_Eval\\SAM2_Eval_Surgical_Datasets\\../Datasets\\CholecSeg8k\\test\\Masks\\Grasper\\video18\\video18_01139\\1175.jpg\n",
      "Looking for mask in: c:\\Users\\devan\\Downloads\\SAM2_Eval\\SAM2_Eval_Surgical_Datasets\\../Datasets\\CholecSeg8k\\test\\Masks\\L-hook Electrocautery\\video18\\video18_01139\\1175.jpg\n",
      "Looking for mask in: c:\\Users\\devan\\Downloads\\SAM2_Eval\\SAM2_Eval_Surgical_Datasets\\../Datasets\\CholecSeg8k\\test\\Masks\\Liver\\video18\\video18_01139\\1175.jpg\n",
      "No matching mask found for frame: c:\\Users\\devan\\Downloads\\SAM2_Eval\\SAM2_Eval_Surgical_Datasets\\temp_jpg_frames\\1175.jpg\n",
      "Looking for mask in: c:\\Users\\devan\\Downloads\\SAM2_Eval\\SAM2_Eval_Surgical_Datasets\\../Datasets\\CholecSeg8k\\test\\Masks\\Abdominal Wall\\video18\\video18_01139\\1176.jpg\n",
      "Looking for mask in: c:\\Users\\devan\\Downloads\\SAM2_Eval\\SAM2_Eval_Surgical_Datasets\\../Datasets\\CholecSeg8k\\test\\Masks\\Fat\\video18\\video18_01139\\1176.jpg\n",
      "Looking for mask in: c:\\Users\\devan\\Downloads\\SAM2_Eval\\SAM2_Eval_Surgical_Datasets\\../Datasets\\CholecSeg8k\\test\\Masks\\Gall bladder\\video18\\video18_01139\\1176.jpg\n",
      "Looking for mask in: c:\\Users\\devan\\Downloads\\SAM2_Eval\\SAM2_Eval_Surgical_Datasets\\../Datasets\\CholecSeg8k\\test\\Masks\\Gastrointestinal Tract\\video18\\video18_01139\\1176.jpg\n",
      "Looking for mask in: c:\\Users\\devan\\Downloads\\SAM2_Eval\\SAM2_Eval_Surgical_Datasets\\../Datasets\\CholecSeg8k\\test\\Masks\\Grasper\\video18\\video18_01139\\1176.jpg\n",
      "Looking for mask in: c:\\Users\\devan\\Downloads\\SAM2_Eval\\SAM2_Eval_Surgical_Datasets\\../Datasets\\CholecSeg8k\\test\\Masks\\L-hook Electrocautery\\video18\\video18_01139\\1176.jpg\n",
      "Looking for mask in: c:\\Users\\devan\\Downloads\\SAM2_Eval\\SAM2_Eval_Surgical_Datasets\\../Datasets\\CholecSeg8k\\test\\Masks\\Liver\\video18\\video18_01139\\1176.jpg\n",
      "No matching mask found for frame: c:\\Users\\devan\\Downloads\\SAM2_Eval\\SAM2_Eval_Surgical_Datasets\\temp_jpg_frames\\1176.jpg\n",
      "Looking for mask in: c:\\Users\\devan\\Downloads\\SAM2_Eval\\SAM2_Eval_Surgical_Datasets\\../Datasets\\CholecSeg8k\\test\\Masks\\Abdominal Wall\\video18\\video18_01139\\1177.jpg\n",
      "Looking for mask in: c:\\Users\\devan\\Downloads\\SAM2_Eval\\SAM2_Eval_Surgical_Datasets\\../Datasets\\CholecSeg8k\\test\\Masks\\Fat\\video18\\video18_01139\\1177.jpg\n",
      "Looking for mask in: c:\\Users\\devan\\Downloads\\SAM2_Eval\\SAM2_Eval_Surgical_Datasets\\../Datasets\\CholecSeg8k\\test\\Masks\\Gall bladder\\video18\\video18_01139\\1177.jpg\n",
      "Looking for mask in: c:\\Users\\devan\\Downloads\\SAM2_Eval\\SAM2_Eval_Surgical_Datasets\\../Datasets\\CholecSeg8k\\test\\Masks\\Gastrointestinal Tract\\video18\\video18_01139\\1177.jpg\n",
      "Looking for mask in: c:\\Users\\devan\\Downloads\\SAM2_Eval\\SAM2_Eval_Surgical_Datasets\\../Datasets\\CholecSeg8k\\test\\Masks\\Grasper\\video18\\video18_01139\\1177.jpg\n",
      "Looking for mask in: c:\\Users\\devan\\Downloads\\SAM2_Eval\\SAM2_Eval_Surgical_Datasets\\../Datasets\\CholecSeg8k\\test\\Masks\\L-hook Electrocautery\\video18\\video18_01139\\1177.jpg\n",
      "Looking for mask in: c:\\Users\\devan\\Downloads\\SAM2_Eval\\SAM2_Eval_Surgical_Datasets\\../Datasets\\CholecSeg8k\\test\\Masks\\Liver\\video18\\video18_01139\\1177.jpg\n",
      "No matching mask found for frame: c:\\Users\\devan\\Downloads\\SAM2_Eval\\SAM2_Eval_Surgical_Datasets\\temp_jpg_frames\\1177.jpg\n",
      "Looking for mask in: c:\\Users\\devan\\Downloads\\SAM2_Eval\\SAM2_Eval_Surgical_Datasets\\../Datasets\\CholecSeg8k\\test\\Masks\\Abdominal Wall\\video18\\video18_01139\\1178.jpg\n",
      "Looking for mask in: c:\\Users\\devan\\Downloads\\SAM2_Eval\\SAM2_Eval_Surgical_Datasets\\../Datasets\\CholecSeg8k\\test\\Masks\\Fat\\video18\\video18_01139\\1178.jpg\n",
      "Looking for mask in: c:\\Users\\devan\\Downloads\\SAM2_Eval\\SAM2_Eval_Surgical_Datasets\\../Datasets\\CholecSeg8k\\test\\Masks\\Gall bladder\\video18\\video18_01139\\1178.jpg\n",
      "Looking for mask in: c:\\Users\\devan\\Downloads\\SAM2_Eval\\SAM2_Eval_Surgical_Datasets\\../Datasets\\CholecSeg8k\\test\\Masks\\Gastrointestinal Tract\\video18\\video18_01139\\1178.jpg\n",
      "Looking for mask in: c:\\Users\\devan\\Downloads\\SAM2_Eval\\SAM2_Eval_Surgical_Datasets\\../Datasets\\CholecSeg8k\\test\\Masks\\Grasper\\video18\\video18_01139\\1178.jpg\n",
      "Looking for mask in: c:\\Users\\devan\\Downloads\\SAM2_Eval\\SAM2_Eval_Surgical_Datasets\\../Datasets\\CholecSeg8k\\test\\Masks\\L-hook Electrocautery\\video18\\video18_01139\\1178.jpg\n",
      "Looking for mask in: c:\\Users\\devan\\Downloads\\SAM2_Eval\\SAM2_Eval_Surgical_Datasets\\../Datasets\\CholecSeg8k\\test\\Masks\\Liver\\video18\\video18_01139\\1178.jpg\n",
      "No matching mask found for frame: c:\\Users\\devan\\Downloads\\SAM2_Eval\\SAM2_Eval_Surgical_Datasets\\temp_jpg_frames\\1178.jpg\n",
      "Looking for mask in: c:\\Users\\devan\\Downloads\\SAM2_Eval\\SAM2_Eval_Surgical_Datasets\\../Datasets\\CholecSeg8k\\test\\Masks\\Abdominal Wall\\video18\\video18_01139\\1179.jpg\n",
      "Looking for mask in: c:\\Users\\devan\\Downloads\\SAM2_Eval\\SAM2_Eval_Surgical_Datasets\\../Datasets\\CholecSeg8k\\test\\Masks\\Fat\\video18\\video18_01139\\1179.jpg\n",
      "Looking for mask in: c:\\Users\\devan\\Downloads\\SAM2_Eval\\SAM2_Eval_Surgical_Datasets\\../Datasets\\CholecSeg8k\\test\\Masks\\Gall bladder\\video18\\video18_01139\\1179.jpg\n",
      "Looking for mask in: c:\\Users\\devan\\Downloads\\SAM2_Eval\\SAM2_Eval_Surgical_Datasets\\../Datasets\\CholecSeg8k\\test\\Masks\\Gastrointestinal Tract\\video18\\video18_01139\\1179.jpg\n",
      "Looking for mask in: c:\\Users\\devan\\Downloads\\SAM2_Eval\\SAM2_Eval_Surgical_Datasets\\../Datasets\\CholecSeg8k\\test\\Masks\\Grasper\\video18\\video18_01139\\1179.jpg\n",
      "Looking for mask in: c:\\Users\\devan\\Downloads\\SAM2_Eval\\SAM2_Eval_Surgical_Datasets\\../Datasets\\CholecSeg8k\\test\\Masks\\L-hook Electrocautery\\video18\\video18_01139\\1179.jpg\n",
      "Looking for mask in: c:\\Users\\devan\\Downloads\\SAM2_Eval\\SAM2_Eval_Surgical_Datasets\\../Datasets\\CholecSeg8k\\test\\Masks\\Liver\\video18\\video18_01139\\1179.jpg\n",
      "No matching mask found for frame: c:\\Users\\devan\\Downloads\\SAM2_Eval\\SAM2_Eval_Surgical_Datasets\\temp_jpg_frames\\1179.jpg\n",
      "Looking for mask in: c:\\Users\\devan\\Downloads\\SAM2_Eval\\SAM2_Eval_Surgical_Datasets\\../Datasets\\CholecSeg8k\\test\\Masks\\Abdominal Wall\\video18\\video18_01139\\1180.jpg\n",
      "Looking for mask in: c:\\Users\\devan\\Downloads\\SAM2_Eval\\SAM2_Eval_Surgical_Datasets\\../Datasets\\CholecSeg8k\\test\\Masks\\Fat\\video18\\video18_01139\\1180.jpg\n",
      "Looking for mask in: c:\\Users\\devan\\Downloads\\SAM2_Eval\\SAM2_Eval_Surgical_Datasets\\../Datasets\\CholecSeg8k\\test\\Masks\\Gall bladder\\video18\\video18_01139\\1180.jpg\n",
      "Looking for mask in: c:\\Users\\devan\\Downloads\\SAM2_Eval\\SAM2_Eval_Surgical_Datasets\\../Datasets\\CholecSeg8k\\test\\Masks\\Gastrointestinal Tract\\video18\\video18_01139\\1180.jpg\n",
      "Looking for mask in: c:\\Users\\devan\\Downloads\\SAM2_Eval\\SAM2_Eval_Surgical_Datasets\\../Datasets\\CholecSeg8k\\test\\Masks\\Grasper\\video18\\video18_01139\\1180.jpg\n",
      "Looking for mask in: c:\\Users\\devan\\Downloads\\SAM2_Eval\\SAM2_Eval_Surgical_Datasets\\../Datasets\\CholecSeg8k\\test\\Masks\\L-hook Electrocautery\\video18\\video18_01139\\1180.jpg\n",
      "Looking for mask in: c:\\Users\\devan\\Downloads\\SAM2_Eval\\SAM2_Eval_Surgical_Datasets\\../Datasets\\CholecSeg8k\\test\\Masks\\Liver\\video18\\video18_01139\\1180.jpg\n",
      "No matching mask found for frame: c:\\Users\\devan\\Downloads\\SAM2_Eval\\SAM2_Eval_Surgical_Datasets\\temp_jpg_frames\\1180.jpg\n",
      "Looking for mask in: c:\\Users\\devan\\Downloads\\SAM2_Eval\\SAM2_Eval_Surgical_Datasets\\../Datasets\\CholecSeg8k\\test\\Masks\\Abdominal Wall\\video18\\video18_01139\\1181.jpg\n",
      "Looking for mask in: c:\\Users\\devan\\Downloads\\SAM2_Eval\\SAM2_Eval_Surgical_Datasets\\../Datasets\\CholecSeg8k\\test\\Masks\\Fat\\video18\\video18_01139\\1181.jpg\n",
      "Looking for mask in: c:\\Users\\devan\\Downloads\\SAM2_Eval\\SAM2_Eval_Surgical_Datasets\\../Datasets\\CholecSeg8k\\test\\Masks\\Gall bladder\\video18\\video18_01139\\1181.jpg\n",
      "Looking for mask in: c:\\Users\\devan\\Downloads\\SAM2_Eval\\SAM2_Eval_Surgical_Datasets\\../Datasets\\CholecSeg8k\\test\\Masks\\Gastrointestinal Tract\\video18\\video18_01139\\1181.jpg\n",
      "Looking for mask in: c:\\Users\\devan\\Downloads\\SAM2_Eval\\SAM2_Eval_Surgical_Datasets\\../Datasets\\CholecSeg8k\\test\\Masks\\Grasper\\video18\\video18_01139\\1181.jpg\n",
      "Looking for mask in: c:\\Users\\devan\\Downloads\\SAM2_Eval\\SAM2_Eval_Surgical_Datasets\\../Datasets\\CholecSeg8k\\test\\Masks\\L-hook Electrocautery\\video18\\video18_01139\\1181.jpg\n",
      "Looking for mask in: c:\\Users\\devan\\Downloads\\SAM2_Eval\\SAM2_Eval_Surgical_Datasets\\../Datasets\\CholecSeg8k\\test\\Masks\\Liver\\video18\\video18_01139\\1181.jpg\n",
      "No matching mask found for frame: c:\\Users\\devan\\Downloads\\SAM2_Eval\\SAM2_Eval_Surgical_Datasets\\temp_jpg_frames\\1181.jpg\n",
      "Looking for mask in: c:\\Users\\devan\\Downloads\\SAM2_Eval\\SAM2_Eval_Surgical_Datasets\\../Datasets\\CholecSeg8k\\test\\Masks\\Abdominal Wall\\video18\\video18_01139\\1182.jpg\n",
      "Looking for mask in: c:\\Users\\devan\\Downloads\\SAM2_Eval\\SAM2_Eval_Surgical_Datasets\\../Datasets\\CholecSeg8k\\test\\Masks\\Fat\\video18\\video18_01139\\1182.jpg\n",
      "Looking for mask in: c:\\Users\\devan\\Downloads\\SAM2_Eval\\SAM2_Eval_Surgical_Datasets\\../Datasets\\CholecSeg8k\\test\\Masks\\Gall bladder\\video18\\video18_01139\\1182.jpg\n",
      "Looking for mask in: c:\\Users\\devan\\Downloads\\SAM2_Eval\\SAM2_Eval_Surgical_Datasets\\../Datasets\\CholecSeg8k\\test\\Masks\\Gastrointestinal Tract\\video18\\video18_01139\\1182.jpg\n",
      "Looking for mask in: c:\\Users\\devan\\Downloads\\SAM2_Eval\\SAM2_Eval_Surgical_Datasets\\../Datasets\\CholecSeg8k\\test\\Masks\\Grasper\\video18\\video18_01139\\1182.jpg\n",
      "Looking for mask in: c:\\Users\\devan\\Downloads\\SAM2_Eval\\SAM2_Eval_Surgical_Datasets\\../Datasets\\CholecSeg8k\\test\\Masks\\L-hook Electrocautery\\video18\\video18_01139\\1182.jpg\n",
      "Looking for mask in: c:\\Users\\devan\\Downloads\\SAM2_Eval\\SAM2_Eval_Surgical_Datasets\\../Datasets\\CholecSeg8k\\test\\Masks\\Liver\\video18\\video18_01139\\1182.jpg\n",
      "No matching mask found for frame: c:\\Users\\devan\\Downloads\\SAM2_Eval\\SAM2_Eval_Surgical_Datasets\\temp_jpg_frames\\1182.jpg\n",
      "Looking for mask in: c:\\Users\\devan\\Downloads\\SAM2_Eval\\SAM2_Eval_Surgical_Datasets\\../Datasets\\CholecSeg8k\\test\\Masks\\Abdominal Wall\\video18\\video18_01139\\1183.jpg\n",
      "Looking for mask in: c:\\Users\\devan\\Downloads\\SAM2_Eval\\SAM2_Eval_Surgical_Datasets\\../Datasets\\CholecSeg8k\\test\\Masks\\Fat\\video18\\video18_01139\\1183.jpg\n",
      "Looking for mask in: c:\\Users\\devan\\Downloads\\SAM2_Eval\\SAM2_Eval_Surgical_Datasets\\../Datasets\\CholecSeg8k\\test\\Masks\\Gall bladder\\video18\\video18_01139\\1183.jpg\n",
      "Looking for mask in: c:\\Users\\devan\\Downloads\\SAM2_Eval\\SAM2_Eval_Surgical_Datasets\\../Datasets\\CholecSeg8k\\test\\Masks\\Gastrointestinal Tract\\video18\\video18_01139\\1183.jpg\n",
      "Looking for mask in: c:\\Users\\devan\\Downloads\\SAM2_Eval\\SAM2_Eval_Surgical_Datasets\\../Datasets\\CholecSeg8k\\test\\Masks\\Grasper\\video18\\video18_01139\\1183.jpg\n",
      "Looking for mask in: c:\\Users\\devan\\Downloads\\SAM2_Eval\\SAM2_Eval_Surgical_Datasets\\../Datasets\\CholecSeg8k\\test\\Masks\\L-hook Electrocautery\\video18\\video18_01139\\1183.jpg\n",
      "Looking for mask in: c:\\Users\\devan\\Downloads\\SAM2_Eval\\SAM2_Eval_Surgical_Datasets\\../Datasets\\CholecSeg8k\\test\\Masks\\Liver\\video18\\video18_01139\\1183.jpg\n",
      "No matching mask found for frame: c:\\Users\\devan\\Downloads\\SAM2_Eval\\SAM2_Eval_Surgical_Datasets\\temp_jpg_frames\\1183.jpg\n",
      "Looking for mask in: c:\\Users\\devan\\Downloads\\SAM2_Eval\\SAM2_Eval_Surgical_Datasets\\../Datasets\\CholecSeg8k\\test\\Masks\\Abdominal Wall\\video18\\video18_01139\\1184.jpg\n",
      "Looking for mask in: c:\\Users\\devan\\Downloads\\SAM2_Eval\\SAM2_Eval_Surgical_Datasets\\../Datasets\\CholecSeg8k\\test\\Masks\\Fat\\video18\\video18_01139\\1184.jpg\n",
      "Looking for mask in: c:\\Users\\devan\\Downloads\\SAM2_Eval\\SAM2_Eval_Surgical_Datasets\\../Datasets\\CholecSeg8k\\test\\Masks\\Gall bladder\\video18\\video18_01139\\1184.jpg\n",
      "Looking for mask in: c:\\Users\\devan\\Downloads\\SAM2_Eval\\SAM2_Eval_Surgical_Datasets\\../Datasets\\CholecSeg8k\\test\\Masks\\Gastrointestinal Tract\\video18\\video18_01139\\1184.jpg\n",
      "Looking for mask in: c:\\Users\\devan\\Downloads\\SAM2_Eval\\SAM2_Eval_Surgical_Datasets\\../Datasets\\CholecSeg8k\\test\\Masks\\Grasper\\video18\\video18_01139\\1184.jpg\n",
      "Looking for mask in: c:\\Users\\devan\\Downloads\\SAM2_Eval\\SAM2_Eval_Surgical_Datasets\\../Datasets\\CholecSeg8k\\test\\Masks\\L-hook Electrocautery\\video18\\video18_01139\\1184.jpg\n",
      "Looking for mask in: c:\\Users\\devan\\Downloads\\SAM2_Eval\\SAM2_Eval_Surgical_Datasets\\../Datasets\\CholecSeg8k\\test\\Masks\\Liver\\video18\\video18_01139\\1184.jpg\n",
      "No matching mask found for frame: c:\\Users\\devan\\Downloads\\SAM2_Eval\\SAM2_Eval_Surgical_Datasets\\temp_jpg_frames\\1184.jpg\n",
      "Looking for mask in: c:\\Users\\devan\\Downloads\\SAM2_Eval\\SAM2_Eval_Surgical_Datasets\\../Datasets\\CholecSeg8k\\test\\Masks\\Abdominal Wall\\video18\\video18_01139\\1185.jpg\n",
      "Looking for mask in: c:\\Users\\devan\\Downloads\\SAM2_Eval\\SAM2_Eval_Surgical_Datasets\\../Datasets\\CholecSeg8k\\test\\Masks\\Fat\\video18\\video18_01139\\1185.jpg\n",
      "Looking for mask in: c:\\Users\\devan\\Downloads\\SAM2_Eval\\SAM2_Eval_Surgical_Datasets\\../Datasets\\CholecSeg8k\\test\\Masks\\Gall bladder\\video18\\video18_01139\\1185.jpg\n",
      "Looking for mask in: c:\\Users\\devan\\Downloads\\SAM2_Eval\\SAM2_Eval_Surgical_Datasets\\../Datasets\\CholecSeg8k\\test\\Masks\\Gastrointestinal Tract\\video18\\video18_01139\\1185.jpg\n",
      "Looking for mask in: c:\\Users\\devan\\Downloads\\SAM2_Eval\\SAM2_Eval_Surgical_Datasets\\../Datasets\\CholecSeg8k\\test\\Masks\\Grasper\\video18\\video18_01139\\1185.jpg\n",
      "Looking for mask in: c:\\Users\\devan\\Downloads\\SAM2_Eval\\SAM2_Eval_Surgical_Datasets\\../Datasets\\CholecSeg8k\\test\\Masks\\L-hook Electrocautery\\video18\\video18_01139\\1185.jpg\n",
      "Looking for mask in: c:\\Users\\devan\\Downloads\\SAM2_Eval\\SAM2_Eval_Surgical_Datasets\\../Datasets\\CholecSeg8k\\test\\Masks\\Liver\\video18\\video18_01139\\1185.jpg\n",
      "No matching mask found for frame: c:\\Users\\devan\\Downloads\\SAM2_Eval\\SAM2_Eval_Surgical_Datasets\\temp_jpg_frames\\1185.jpg\n",
      "Looking for mask in: c:\\Users\\devan\\Downloads\\SAM2_Eval\\SAM2_Eval_Surgical_Datasets\\../Datasets\\CholecSeg8k\\test\\Masks\\Abdominal Wall\\video18\\video18_01139\\1186.jpg\n",
      "Looking for mask in: c:\\Users\\devan\\Downloads\\SAM2_Eval\\SAM2_Eval_Surgical_Datasets\\../Datasets\\CholecSeg8k\\test\\Masks\\Fat\\video18\\video18_01139\\1186.jpg\n",
      "Looking for mask in: c:\\Users\\devan\\Downloads\\SAM2_Eval\\SAM2_Eval_Surgical_Datasets\\../Datasets\\CholecSeg8k\\test\\Masks\\Gall bladder\\video18\\video18_01139\\1186.jpg\n",
      "Looking for mask in: c:\\Users\\devan\\Downloads\\SAM2_Eval\\SAM2_Eval_Surgical_Datasets\\../Datasets\\CholecSeg8k\\test\\Masks\\Gastrointestinal Tract\\video18\\video18_01139\\1186.jpg\n",
      "Looking for mask in: c:\\Users\\devan\\Downloads\\SAM2_Eval\\SAM2_Eval_Surgical_Datasets\\../Datasets\\CholecSeg8k\\test\\Masks\\Grasper\\video18\\video18_01139\\1186.jpg\n",
      "Looking for mask in: c:\\Users\\devan\\Downloads\\SAM2_Eval\\SAM2_Eval_Surgical_Datasets\\../Datasets\\CholecSeg8k\\test\\Masks\\L-hook Electrocautery\\video18\\video18_01139\\1186.jpg\n",
      "Looking for mask in: c:\\Users\\devan\\Downloads\\SAM2_Eval\\SAM2_Eval_Surgical_Datasets\\../Datasets\\CholecSeg8k\\test\\Masks\\Liver\\video18\\video18_01139\\1186.jpg\n",
      "No matching mask found for frame: c:\\Users\\devan\\Downloads\\SAM2_Eval\\SAM2_Eval_Surgical_Datasets\\temp_jpg_frames\\1186.jpg\n",
      "Looking for mask in: c:\\Users\\devan\\Downloads\\SAM2_Eval\\SAM2_Eval_Surgical_Datasets\\../Datasets\\CholecSeg8k\\test\\Masks\\Abdominal Wall\\video18\\video18_01139\\1187.jpg\n",
      "Looking for mask in: c:\\Users\\devan\\Downloads\\SAM2_Eval\\SAM2_Eval_Surgical_Datasets\\../Datasets\\CholecSeg8k\\test\\Masks\\Fat\\video18\\video18_01139\\1187.jpg\n",
      "Looking for mask in: c:\\Users\\devan\\Downloads\\SAM2_Eval\\SAM2_Eval_Surgical_Datasets\\../Datasets\\CholecSeg8k\\test\\Masks\\Gall bladder\\video18\\video18_01139\\1187.jpg\n",
      "Looking for mask in: c:\\Users\\devan\\Downloads\\SAM2_Eval\\SAM2_Eval_Surgical_Datasets\\../Datasets\\CholecSeg8k\\test\\Masks\\Gastrointestinal Tract\\video18\\video18_01139\\1187.jpg\n",
      "Looking for mask in: c:\\Users\\devan\\Downloads\\SAM2_Eval\\SAM2_Eval_Surgical_Datasets\\../Datasets\\CholecSeg8k\\test\\Masks\\Grasper\\video18\\video18_01139\\1187.jpg\n",
      "Looking for mask in: c:\\Users\\devan\\Downloads\\SAM2_Eval\\SAM2_Eval_Surgical_Datasets\\../Datasets\\CholecSeg8k\\test\\Masks\\L-hook Electrocautery\\video18\\video18_01139\\1187.jpg\n",
      "Looking for mask in: c:\\Users\\devan\\Downloads\\SAM2_Eval\\SAM2_Eval_Surgical_Datasets\\../Datasets\\CholecSeg8k\\test\\Masks\\Liver\\video18\\video18_01139\\1187.jpg\n",
      "No matching mask found for frame: c:\\Users\\devan\\Downloads\\SAM2_Eval\\SAM2_Eval_Surgical_Datasets\\temp_jpg_frames\\1187.jpg\n",
      "Looking for mask in: c:\\Users\\devan\\Downloads\\SAM2_Eval\\SAM2_Eval_Surgical_Datasets\\../Datasets\\CholecSeg8k\\test\\Masks\\Abdominal Wall\\video18\\video18_01139\\1188.jpg\n",
      "Looking for mask in: c:\\Users\\devan\\Downloads\\SAM2_Eval\\SAM2_Eval_Surgical_Datasets\\../Datasets\\CholecSeg8k\\test\\Masks\\Fat\\video18\\video18_01139\\1188.jpg\n",
      "Looking for mask in: c:\\Users\\devan\\Downloads\\SAM2_Eval\\SAM2_Eval_Surgical_Datasets\\../Datasets\\CholecSeg8k\\test\\Masks\\Gall bladder\\video18\\video18_01139\\1188.jpg\n",
      "Looking for mask in: c:\\Users\\devan\\Downloads\\SAM2_Eval\\SAM2_Eval_Surgical_Datasets\\../Datasets\\CholecSeg8k\\test\\Masks\\Gastrointestinal Tract\\video18\\video18_01139\\1188.jpg\n",
      "Looking for mask in: c:\\Users\\devan\\Downloads\\SAM2_Eval\\SAM2_Eval_Surgical_Datasets\\../Datasets\\CholecSeg8k\\test\\Masks\\Grasper\\video18\\video18_01139\\1188.jpg\n",
      "Looking for mask in: c:\\Users\\devan\\Downloads\\SAM2_Eval\\SAM2_Eval_Surgical_Datasets\\../Datasets\\CholecSeg8k\\test\\Masks\\L-hook Electrocautery\\video18\\video18_01139\\1188.jpg\n",
      "Looking for mask in: c:\\Users\\devan\\Downloads\\SAM2_Eval\\SAM2_Eval_Surgical_Datasets\\../Datasets\\CholecSeg8k\\test\\Masks\\Liver\\video18\\video18_01139\\1188.jpg\n",
      "No matching mask found for frame: c:\\Users\\devan\\Downloads\\SAM2_Eval\\SAM2_Eval_Surgical_Datasets\\temp_jpg_frames\\1188.jpg\n",
      "Looking for mask in: c:\\Users\\devan\\Downloads\\SAM2_Eval\\SAM2_Eval_Surgical_Datasets\\../Datasets\\CholecSeg8k\\test\\Masks\\Abdominal Wall\\video18\\video18_01139\\1189.jpg\n",
      "Looking for mask in: c:\\Users\\devan\\Downloads\\SAM2_Eval\\SAM2_Eval_Surgical_Datasets\\../Datasets\\CholecSeg8k\\test\\Masks\\Fat\\video18\\video18_01139\\1189.jpg\n",
      "Looking for mask in: c:\\Users\\devan\\Downloads\\SAM2_Eval\\SAM2_Eval_Surgical_Datasets\\../Datasets\\CholecSeg8k\\test\\Masks\\Gall bladder\\video18\\video18_01139\\1189.jpg\n",
      "Looking for mask in: c:\\Users\\devan\\Downloads\\SAM2_Eval\\SAM2_Eval_Surgical_Datasets\\../Datasets\\CholecSeg8k\\test\\Masks\\Gastrointestinal Tract\\video18\\video18_01139\\1189.jpg\n",
      "Looking for mask in: c:\\Users\\devan\\Downloads\\SAM2_Eval\\SAM2_Eval_Surgical_Datasets\\../Datasets\\CholecSeg8k\\test\\Masks\\Grasper\\video18\\video18_01139\\1189.jpg\n",
      "Looking for mask in: c:\\Users\\devan\\Downloads\\SAM2_Eval\\SAM2_Eval_Surgical_Datasets\\../Datasets\\CholecSeg8k\\test\\Masks\\L-hook Electrocautery\\video18\\video18_01139\\1189.jpg\n",
      "Looking for mask in: c:\\Users\\devan\\Downloads\\SAM2_Eval\\SAM2_Eval_Surgical_Datasets\\../Datasets\\CholecSeg8k\\test\\Masks\\Liver\\video18\\video18_01139\\1189.jpg\n",
      "No matching mask found for frame: c:\\Users\\devan\\Downloads\\SAM2_Eval\\SAM2_Eval_Surgical_Datasets\\temp_jpg_frames\\1189.jpg\n",
      "Looking for mask in: c:\\Users\\devan\\Downloads\\SAM2_Eval\\SAM2_Eval_Surgical_Datasets\\../Datasets\\CholecSeg8k\\test\\Masks\\Abdominal Wall\\video18\\video18_01139\\1190.jpg\n",
      "Looking for mask in: c:\\Users\\devan\\Downloads\\SAM2_Eval\\SAM2_Eval_Surgical_Datasets\\../Datasets\\CholecSeg8k\\test\\Masks\\Fat\\video18\\video18_01139\\1190.jpg\n",
      "Looking for mask in: c:\\Users\\devan\\Downloads\\SAM2_Eval\\SAM2_Eval_Surgical_Datasets\\../Datasets\\CholecSeg8k\\test\\Masks\\Gall bladder\\video18\\video18_01139\\1190.jpg\n",
      "Looking for mask in: c:\\Users\\devan\\Downloads\\SAM2_Eval\\SAM2_Eval_Surgical_Datasets\\../Datasets\\CholecSeg8k\\test\\Masks\\Gastrointestinal Tract\\video18\\video18_01139\\1190.jpg\n",
      "Looking for mask in: c:\\Users\\devan\\Downloads\\SAM2_Eval\\SAM2_Eval_Surgical_Datasets\\../Datasets\\CholecSeg8k\\test\\Masks\\Grasper\\video18\\video18_01139\\1190.jpg\n",
      "Looking for mask in: c:\\Users\\devan\\Downloads\\SAM2_Eval\\SAM2_Eval_Surgical_Datasets\\../Datasets\\CholecSeg8k\\test\\Masks\\L-hook Electrocautery\\video18\\video18_01139\\1190.jpg\n",
      "Looking for mask in: c:\\Users\\devan\\Downloads\\SAM2_Eval\\SAM2_Eval_Surgical_Datasets\\../Datasets\\CholecSeg8k\\test\\Masks\\Liver\\video18\\video18_01139\\1190.jpg\n",
      "No matching mask found for frame: c:\\Users\\devan\\Downloads\\SAM2_Eval\\SAM2_Eval_Surgical_Datasets\\temp_jpg_frames\\1190.jpg\n",
      "Looking for mask in: c:\\Users\\devan\\Downloads\\SAM2_Eval\\SAM2_Eval_Surgical_Datasets\\../Datasets\\CholecSeg8k\\test\\Masks\\Abdominal Wall\\video18\\video18_01139\\1191.jpg\n",
      "Looking for mask in: c:\\Users\\devan\\Downloads\\SAM2_Eval\\SAM2_Eval_Surgical_Datasets\\../Datasets\\CholecSeg8k\\test\\Masks\\Fat\\video18\\video18_01139\\1191.jpg\n",
      "Looking for mask in: c:\\Users\\devan\\Downloads\\SAM2_Eval\\SAM2_Eval_Surgical_Datasets\\../Datasets\\CholecSeg8k\\test\\Masks\\Gall bladder\\video18\\video18_01139\\1191.jpg\n",
      "Looking for mask in: c:\\Users\\devan\\Downloads\\SAM2_Eval\\SAM2_Eval_Surgical_Datasets\\../Datasets\\CholecSeg8k\\test\\Masks\\Gastrointestinal Tract\\video18\\video18_01139\\1191.jpg\n",
      "Looking for mask in: c:\\Users\\devan\\Downloads\\SAM2_Eval\\SAM2_Eval_Surgical_Datasets\\../Datasets\\CholecSeg8k\\test\\Masks\\Grasper\\video18\\video18_01139\\1191.jpg\n",
      "Looking for mask in: c:\\Users\\devan\\Downloads\\SAM2_Eval\\SAM2_Eval_Surgical_Datasets\\../Datasets\\CholecSeg8k\\test\\Masks\\L-hook Electrocautery\\video18\\video18_01139\\1191.jpg\n",
      "Looking for mask in: c:\\Users\\devan\\Downloads\\SAM2_Eval\\SAM2_Eval_Surgical_Datasets\\../Datasets\\CholecSeg8k\\test\\Masks\\Liver\\video18\\video18_01139\\1191.jpg\n",
      "No matching mask found for frame: c:\\Users\\devan\\Downloads\\SAM2_Eval\\SAM2_Eval_Surgical_Datasets\\temp_jpg_frames\\1191.jpg\n",
      "Looking for mask in: c:\\Users\\devan\\Downloads\\SAM2_Eval\\SAM2_Eval_Surgical_Datasets\\../Datasets\\CholecSeg8k\\test\\Masks\\Abdominal Wall\\video18\\video18_01139\\1192.jpg\n",
      "Looking for mask in: c:\\Users\\devan\\Downloads\\SAM2_Eval\\SAM2_Eval_Surgical_Datasets\\../Datasets\\CholecSeg8k\\test\\Masks\\Fat\\video18\\video18_01139\\1192.jpg\n",
      "Looking for mask in: c:\\Users\\devan\\Downloads\\SAM2_Eval\\SAM2_Eval_Surgical_Datasets\\../Datasets\\CholecSeg8k\\test\\Masks\\Gall bladder\\video18\\video18_01139\\1192.jpg\n",
      "Looking for mask in: c:\\Users\\devan\\Downloads\\SAM2_Eval\\SAM2_Eval_Surgical_Datasets\\../Datasets\\CholecSeg8k\\test\\Masks\\Gastrointestinal Tract\\video18\\video18_01139\\1192.jpg\n",
      "Looking for mask in: c:\\Users\\devan\\Downloads\\SAM2_Eval\\SAM2_Eval_Surgical_Datasets\\../Datasets\\CholecSeg8k\\test\\Masks\\Grasper\\video18\\video18_01139\\1192.jpg\n",
      "Looking for mask in: c:\\Users\\devan\\Downloads\\SAM2_Eval\\SAM2_Eval_Surgical_Datasets\\../Datasets\\CholecSeg8k\\test\\Masks\\L-hook Electrocautery\\video18\\video18_01139\\1192.jpg\n",
      "Looking for mask in: c:\\Users\\devan\\Downloads\\SAM2_Eval\\SAM2_Eval_Surgical_Datasets\\../Datasets\\CholecSeg8k\\test\\Masks\\Liver\\video18\\video18_01139\\1192.jpg\n",
      "No matching mask found for frame: c:\\Users\\devan\\Downloads\\SAM2_Eval\\SAM2_Eval_Surgical_Datasets\\temp_jpg_frames\\1192.jpg\n",
      "Looking for mask in: c:\\Users\\devan\\Downloads\\SAM2_Eval\\SAM2_Eval_Surgical_Datasets\\../Datasets\\CholecSeg8k\\test\\Masks\\Abdominal Wall\\video18\\video18_01139\\1193.jpg\n",
      "Looking for mask in: c:\\Users\\devan\\Downloads\\SAM2_Eval\\SAM2_Eval_Surgical_Datasets\\../Datasets\\CholecSeg8k\\test\\Masks\\Fat\\video18\\video18_01139\\1193.jpg\n",
      "Looking for mask in: c:\\Users\\devan\\Downloads\\SAM2_Eval\\SAM2_Eval_Surgical_Datasets\\../Datasets\\CholecSeg8k\\test\\Masks\\Gall bladder\\video18\\video18_01139\\1193.jpg\n",
      "Looking for mask in: c:\\Users\\devan\\Downloads\\SAM2_Eval\\SAM2_Eval_Surgical_Datasets\\../Datasets\\CholecSeg8k\\test\\Masks\\Gastrointestinal Tract\\video18\\video18_01139\\1193.jpg\n",
      "Looking for mask in: c:\\Users\\devan\\Downloads\\SAM2_Eval\\SAM2_Eval_Surgical_Datasets\\../Datasets\\CholecSeg8k\\test\\Masks\\Grasper\\video18\\video18_01139\\1193.jpg\n",
      "Looking for mask in: c:\\Users\\devan\\Downloads\\SAM2_Eval\\SAM2_Eval_Surgical_Datasets\\../Datasets\\CholecSeg8k\\test\\Masks\\L-hook Electrocautery\\video18\\video18_01139\\1193.jpg\n",
      "Looking for mask in: c:\\Users\\devan\\Downloads\\SAM2_Eval\\SAM2_Eval_Surgical_Datasets\\../Datasets\\CholecSeg8k\\test\\Masks\\Liver\\video18\\video18_01139\\1193.jpg\n",
      "No matching mask found for frame: c:\\Users\\devan\\Downloads\\SAM2_Eval\\SAM2_Eval_Surgical_Datasets\\temp_jpg_frames\\1193.jpg\n",
      "Looking for mask in: c:\\Users\\devan\\Downloads\\SAM2_Eval\\SAM2_Eval_Surgical_Datasets\\../Datasets\\CholecSeg8k\\test\\Masks\\Abdominal Wall\\video18\\video18_01139\\1194.jpg\n",
      "Looking for mask in: c:\\Users\\devan\\Downloads\\SAM2_Eval\\SAM2_Eval_Surgical_Datasets\\../Datasets\\CholecSeg8k\\test\\Masks\\Fat\\video18\\video18_01139\\1194.jpg\n",
      "Looking for mask in: c:\\Users\\devan\\Downloads\\SAM2_Eval\\SAM2_Eval_Surgical_Datasets\\../Datasets\\CholecSeg8k\\test\\Masks\\Gall bladder\\video18\\video18_01139\\1194.jpg\n",
      "Looking for mask in: c:\\Users\\devan\\Downloads\\SAM2_Eval\\SAM2_Eval_Surgical_Datasets\\../Datasets\\CholecSeg8k\\test\\Masks\\Gastrointestinal Tract\\video18\\video18_01139\\1194.jpg\n",
      "Looking for mask in: c:\\Users\\devan\\Downloads\\SAM2_Eval\\SAM2_Eval_Surgical_Datasets\\../Datasets\\CholecSeg8k\\test\\Masks\\Grasper\\video18\\video18_01139\\1194.jpg\n",
      "Looking for mask in: c:\\Users\\devan\\Downloads\\SAM2_Eval\\SAM2_Eval_Surgical_Datasets\\../Datasets\\CholecSeg8k\\test\\Masks\\L-hook Electrocautery\\video18\\video18_01139\\1194.jpg\n",
      "Looking for mask in: c:\\Users\\devan\\Downloads\\SAM2_Eval\\SAM2_Eval_Surgical_Datasets\\../Datasets\\CholecSeg8k\\test\\Masks\\Liver\\video18\\video18_01139\\1194.jpg\n",
      "No matching mask found for frame: c:\\Users\\devan\\Downloads\\SAM2_Eval\\SAM2_Eval_Surgical_Datasets\\temp_jpg_frames\\1194.jpg\n",
      "Looking for mask in: c:\\Users\\devan\\Downloads\\SAM2_Eval\\SAM2_Eval_Surgical_Datasets\\../Datasets\\CholecSeg8k\\test\\Masks\\Abdominal Wall\\video18\\video18_01139\\1195.jpg\n",
      "Looking for mask in: c:\\Users\\devan\\Downloads\\SAM2_Eval\\SAM2_Eval_Surgical_Datasets\\../Datasets\\CholecSeg8k\\test\\Masks\\Fat\\video18\\video18_01139\\1195.jpg\n",
      "Looking for mask in: c:\\Users\\devan\\Downloads\\SAM2_Eval\\SAM2_Eval_Surgical_Datasets\\../Datasets\\CholecSeg8k\\test\\Masks\\Gall bladder\\video18\\video18_01139\\1195.jpg\n",
      "Looking for mask in: c:\\Users\\devan\\Downloads\\SAM2_Eval\\SAM2_Eval_Surgical_Datasets\\../Datasets\\CholecSeg8k\\test\\Masks\\Gastrointestinal Tract\\video18\\video18_01139\\1195.jpg\n",
      "Looking for mask in: c:\\Users\\devan\\Downloads\\SAM2_Eval\\SAM2_Eval_Surgical_Datasets\\../Datasets\\CholecSeg8k\\test\\Masks\\Grasper\\video18\\video18_01139\\1195.jpg\n",
      "Looking for mask in: c:\\Users\\devan\\Downloads\\SAM2_Eval\\SAM2_Eval_Surgical_Datasets\\../Datasets\\CholecSeg8k\\test\\Masks\\L-hook Electrocautery\\video18\\video18_01139\\1195.jpg\n",
      "Looking for mask in: c:\\Users\\devan\\Downloads\\SAM2_Eval\\SAM2_Eval_Surgical_Datasets\\../Datasets\\CholecSeg8k\\test\\Masks\\Liver\\video18\\video18_01139\\1195.jpg\n",
      "No matching mask found for frame: c:\\Users\\devan\\Downloads\\SAM2_Eval\\SAM2_Eval_Surgical_Datasets\\temp_jpg_frames\\1195.jpg\n",
      "Looking for mask in: c:\\Users\\devan\\Downloads\\SAM2_Eval\\SAM2_Eval_Surgical_Datasets\\../Datasets\\CholecSeg8k\\test\\Masks\\Abdominal Wall\\video18\\video18_01139\\1196.jpg\n",
      "Looking for mask in: c:\\Users\\devan\\Downloads\\SAM2_Eval\\SAM2_Eval_Surgical_Datasets\\../Datasets\\CholecSeg8k\\test\\Masks\\Fat\\video18\\video18_01139\\1196.jpg\n",
      "Looking for mask in: c:\\Users\\devan\\Downloads\\SAM2_Eval\\SAM2_Eval_Surgical_Datasets\\../Datasets\\CholecSeg8k\\test\\Masks\\Gall bladder\\video18\\video18_01139\\1196.jpg\n",
      "Looking for mask in: c:\\Users\\devan\\Downloads\\SAM2_Eval\\SAM2_Eval_Surgical_Datasets\\../Datasets\\CholecSeg8k\\test\\Masks\\Gastrointestinal Tract\\video18\\video18_01139\\1196.jpg\n",
      "Looking for mask in: c:\\Users\\devan\\Downloads\\SAM2_Eval\\SAM2_Eval_Surgical_Datasets\\../Datasets\\CholecSeg8k\\test\\Masks\\Grasper\\video18\\video18_01139\\1196.jpg\n",
      "Looking for mask in: c:\\Users\\devan\\Downloads\\SAM2_Eval\\SAM2_Eval_Surgical_Datasets\\../Datasets\\CholecSeg8k\\test\\Masks\\L-hook Electrocautery\\video18\\video18_01139\\1196.jpg\n",
      "Looking for mask in: c:\\Users\\devan\\Downloads\\SAM2_Eval\\SAM2_Eval_Surgical_Datasets\\../Datasets\\CholecSeg8k\\test\\Masks\\Liver\\video18\\video18_01139\\1196.jpg\n",
      "No matching mask found for frame: c:\\Users\\devan\\Downloads\\SAM2_Eval\\SAM2_Eval_Surgical_Datasets\\temp_jpg_frames\\1196.jpg\n",
      "Looking for mask in: c:\\Users\\devan\\Downloads\\SAM2_Eval\\SAM2_Eval_Surgical_Datasets\\../Datasets\\CholecSeg8k\\test\\Masks\\Abdominal Wall\\video18\\video18_01139\\1197.jpg\n",
      "Looking for mask in: c:\\Users\\devan\\Downloads\\SAM2_Eval\\SAM2_Eval_Surgical_Datasets\\../Datasets\\CholecSeg8k\\test\\Masks\\Fat\\video18\\video18_01139\\1197.jpg\n",
      "Looking for mask in: c:\\Users\\devan\\Downloads\\SAM2_Eval\\SAM2_Eval_Surgical_Datasets\\../Datasets\\CholecSeg8k\\test\\Masks\\Gall bladder\\video18\\video18_01139\\1197.jpg\n",
      "Looking for mask in: c:\\Users\\devan\\Downloads\\SAM2_Eval\\SAM2_Eval_Surgical_Datasets\\../Datasets\\CholecSeg8k\\test\\Masks\\Gastrointestinal Tract\\video18\\video18_01139\\1197.jpg\n",
      "Looking for mask in: c:\\Users\\devan\\Downloads\\SAM2_Eval\\SAM2_Eval_Surgical_Datasets\\../Datasets\\CholecSeg8k\\test\\Masks\\Grasper\\video18\\video18_01139\\1197.jpg\n",
      "Looking for mask in: c:\\Users\\devan\\Downloads\\SAM2_Eval\\SAM2_Eval_Surgical_Datasets\\../Datasets\\CholecSeg8k\\test\\Masks\\L-hook Electrocautery\\video18\\video18_01139\\1197.jpg\n",
      "Looking for mask in: c:\\Users\\devan\\Downloads\\SAM2_Eval\\SAM2_Eval_Surgical_Datasets\\../Datasets\\CholecSeg8k\\test\\Masks\\Liver\\video18\\video18_01139\\1197.jpg\n",
      "No matching mask found for frame: c:\\Users\\devan\\Downloads\\SAM2_Eval\\SAM2_Eval_Surgical_Datasets\\temp_jpg_frames\\1197.jpg\n",
      "Looking for mask in: c:\\Users\\devan\\Downloads\\SAM2_Eval\\SAM2_Eval_Surgical_Datasets\\../Datasets\\CholecSeg8k\\test\\Masks\\Abdominal Wall\\video18\\video18_01139\\1198.jpg\n",
      "Looking for mask in: c:\\Users\\devan\\Downloads\\SAM2_Eval\\SAM2_Eval_Surgical_Datasets\\../Datasets\\CholecSeg8k\\test\\Masks\\Fat\\video18\\video18_01139\\1198.jpg\n",
      "Looking for mask in: c:\\Users\\devan\\Downloads\\SAM2_Eval\\SAM2_Eval_Surgical_Datasets\\../Datasets\\CholecSeg8k\\test\\Masks\\Gall bladder\\video18\\video18_01139\\1198.jpg\n",
      "Looking for mask in: c:\\Users\\devan\\Downloads\\SAM2_Eval\\SAM2_Eval_Surgical_Datasets\\../Datasets\\CholecSeg8k\\test\\Masks\\Gastrointestinal Tract\\video18\\video18_01139\\1198.jpg\n",
      "Looking for mask in: c:\\Users\\devan\\Downloads\\SAM2_Eval\\SAM2_Eval_Surgical_Datasets\\../Datasets\\CholecSeg8k\\test\\Masks\\Grasper\\video18\\video18_01139\\1198.jpg\n",
      "Looking for mask in: c:\\Users\\devan\\Downloads\\SAM2_Eval\\SAM2_Eval_Surgical_Datasets\\../Datasets\\CholecSeg8k\\test\\Masks\\L-hook Electrocautery\\video18\\video18_01139\\1198.jpg\n",
      "Looking for mask in: c:\\Users\\devan\\Downloads\\SAM2_Eval\\SAM2_Eval_Surgical_Datasets\\../Datasets\\CholecSeg8k\\test\\Masks\\Liver\\video18\\video18_01139\\1198.jpg\n",
      "No matching mask found for frame: c:\\Users\\devan\\Downloads\\SAM2_Eval\\SAM2_Eval_Surgical_Datasets\\temp_jpg_frames\\1198.jpg\n",
      "Looking for mask in: c:\\Users\\devan\\Downloads\\SAM2_Eval\\SAM2_Eval_Surgical_Datasets\\../Datasets\\CholecSeg8k\\test\\Masks\\Abdominal Wall\\video18\\video18_01139\\1199.jpg\n",
      "Looking for mask in: c:\\Users\\devan\\Downloads\\SAM2_Eval\\SAM2_Eval_Surgical_Datasets\\../Datasets\\CholecSeg8k\\test\\Masks\\Fat\\video18\\video18_01139\\1199.jpg\n",
      "Looking for mask in: c:\\Users\\devan\\Downloads\\SAM2_Eval\\SAM2_Eval_Surgical_Datasets\\../Datasets\\CholecSeg8k\\test\\Masks\\Gall bladder\\video18\\video18_01139\\1199.jpg\n",
      "Looking for mask in: c:\\Users\\devan\\Downloads\\SAM2_Eval\\SAM2_Eval_Surgical_Datasets\\../Datasets\\CholecSeg8k\\test\\Masks\\Gastrointestinal Tract\\video18\\video18_01139\\1199.jpg\n",
      "Looking for mask in: c:\\Users\\devan\\Downloads\\SAM2_Eval\\SAM2_Eval_Surgical_Datasets\\../Datasets\\CholecSeg8k\\test\\Masks\\Grasper\\video18\\video18_01139\\1199.jpg\n",
      "Looking for mask in: c:\\Users\\devan\\Downloads\\SAM2_Eval\\SAM2_Eval_Surgical_Datasets\\../Datasets\\CholecSeg8k\\test\\Masks\\L-hook Electrocautery\\video18\\video18_01139\\1199.jpg\n",
      "Looking for mask in: c:\\Users\\devan\\Downloads\\SAM2_Eval\\SAM2_Eval_Surgical_Datasets\\../Datasets\\CholecSeg8k\\test\\Masks\\Liver\\video18\\video18_01139\\1199.jpg\n",
      "No matching mask found for frame: c:\\Users\\devan\\Downloads\\SAM2_Eval\\SAM2_Eval_Surgical_Datasets\\temp_jpg_frames\\1199.jpg\n",
      "Looking for mask in: c:\\Users\\devan\\Downloads\\SAM2_Eval\\SAM2_Eval_Surgical_Datasets\\../Datasets\\CholecSeg8k\\test\\Masks\\Abdominal Wall\\video18\\video18_01139\\1200.jpg\n",
      "Looking for mask in: c:\\Users\\devan\\Downloads\\SAM2_Eval\\SAM2_Eval_Surgical_Datasets\\../Datasets\\CholecSeg8k\\test\\Masks\\Fat\\video18\\video18_01139\\1200.jpg\n",
      "Looking for mask in: c:\\Users\\devan\\Downloads\\SAM2_Eval\\SAM2_Eval_Surgical_Datasets\\../Datasets\\CholecSeg8k\\test\\Masks\\Gall bladder\\video18\\video18_01139\\1200.jpg\n",
      "Looking for mask in: c:\\Users\\devan\\Downloads\\SAM2_Eval\\SAM2_Eval_Surgical_Datasets\\../Datasets\\CholecSeg8k\\test\\Masks\\Gastrointestinal Tract\\video18\\video18_01139\\1200.jpg\n",
      "Looking for mask in: c:\\Users\\devan\\Downloads\\SAM2_Eval\\SAM2_Eval_Surgical_Datasets\\../Datasets\\CholecSeg8k\\test\\Masks\\Grasper\\video18\\video18_01139\\1200.jpg\n",
      "Looking for mask in: c:\\Users\\devan\\Downloads\\SAM2_Eval\\SAM2_Eval_Surgical_Datasets\\../Datasets\\CholecSeg8k\\test\\Masks\\L-hook Electrocautery\\video18\\video18_01139\\1200.jpg\n",
      "Looking for mask in: c:\\Users\\devan\\Downloads\\SAM2_Eval\\SAM2_Eval_Surgical_Datasets\\../Datasets\\CholecSeg8k\\test\\Masks\\Liver\\video18\\video18_01139\\1200.jpg\n",
      "No matching mask found for frame: c:\\Users\\devan\\Downloads\\SAM2_Eval\\SAM2_Eval_Surgical_Datasets\\temp_jpg_frames\\1200.jpg\n",
      "Looking for mask in: c:\\Users\\devan\\Downloads\\SAM2_Eval\\SAM2_Eval_Surgical_Datasets\\../Datasets\\CholecSeg8k\\test\\Masks\\Abdominal Wall\\video18\\video18_01139\\1201.jpg\n",
      "Looking for mask in: c:\\Users\\devan\\Downloads\\SAM2_Eval\\SAM2_Eval_Surgical_Datasets\\../Datasets\\CholecSeg8k\\test\\Masks\\Fat\\video18\\video18_01139\\1201.jpg\n",
      "Looking for mask in: c:\\Users\\devan\\Downloads\\SAM2_Eval\\SAM2_Eval_Surgical_Datasets\\../Datasets\\CholecSeg8k\\test\\Masks\\Gall bladder\\video18\\video18_01139\\1201.jpg\n",
      "Looking for mask in: c:\\Users\\devan\\Downloads\\SAM2_Eval\\SAM2_Eval_Surgical_Datasets\\../Datasets\\CholecSeg8k\\test\\Masks\\Gastrointestinal Tract\\video18\\video18_01139\\1201.jpg\n",
      "Looking for mask in: c:\\Users\\devan\\Downloads\\SAM2_Eval\\SAM2_Eval_Surgical_Datasets\\../Datasets\\CholecSeg8k\\test\\Masks\\Grasper\\video18\\video18_01139\\1201.jpg\n",
      "Looking for mask in: c:\\Users\\devan\\Downloads\\SAM2_Eval\\SAM2_Eval_Surgical_Datasets\\../Datasets\\CholecSeg8k\\test\\Masks\\L-hook Electrocautery\\video18\\video18_01139\\1201.jpg\n",
      "Looking for mask in: c:\\Users\\devan\\Downloads\\SAM2_Eval\\SAM2_Eval_Surgical_Datasets\\../Datasets\\CholecSeg8k\\test\\Masks\\Liver\\video18\\video18_01139\\1201.jpg\n",
      "No matching mask found for frame: c:\\Users\\devan\\Downloads\\SAM2_Eval\\SAM2_Eval_Surgical_Datasets\\temp_jpg_frames\\1201.jpg\n",
      "Looking for mask in: c:\\Users\\devan\\Downloads\\SAM2_Eval\\SAM2_Eval_Surgical_Datasets\\../Datasets\\CholecSeg8k\\test\\Masks\\Abdominal Wall\\video18\\video18_01139\\1202.jpg\n",
      "Looking for mask in: c:\\Users\\devan\\Downloads\\SAM2_Eval\\SAM2_Eval_Surgical_Datasets\\../Datasets\\CholecSeg8k\\test\\Masks\\Fat\\video18\\video18_01139\\1202.jpg\n",
      "Looking for mask in: c:\\Users\\devan\\Downloads\\SAM2_Eval\\SAM2_Eval_Surgical_Datasets\\../Datasets\\CholecSeg8k\\test\\Masks\\Gall bladder\\video18\\video18_01139\\1202.jpg\n",
      "Looking for mask in: c:\\Users\\devan\\Downloads\\SAM2_Eval\\SAM2_Eval_Surgical_Datasets\\../Datasets\\CholecSeg8k\\test\\Masks\\Gastrointestinal Tract\\video18\\video18_01139\\1202.jpg\n",
      "Looking for mask in: c:\\Users\\devan\\Downloads\\SAM2_Eval\\SAM2_Eval_Surgical_Datasets\\../Datasets\\CholecSeg8k\\test\\Masks\\Grasper\\video18\\video18_01139\\1202.jpg\n",
      "Looking for mask in: c:\\Users\\devan\\Downloads\\SAM2_Eval\\SAM2_Eval_Surgical_Datasets\\../Datasets\\CholecSeg8k\\test\\Masks\\L-hook Electrocautery\\video18\\video18_01139\\1202.jpg\n",
      "Looking for mask in: c:\\Users\\devan\\Downloads\\SAM2_Eval\\SAM2_Eval_Surgical_Datasets\\../Datasets\\CholecSeg8k\\test\\Masks\\Liver\\video18\\video18_01139\\1202.jpg\n",
      "No matching mask found for frame: c:\\Users\\devan\\Downloads\\SAM2_Eval\\SAM2_Eval_Surgical_Datasets\\temp_jpg_frames\\1202.jpg\n",
      "Looking for mask in: c:\\Users\\devan\\Downloads\\SAM2_Eval\\SAM2_Eval_Surgical_Datasets\\../Datasets\\CholecSeg8k\\test\\Masks\\Abdominal Wall\\video18\\video18_01139\\1203.jpg\n",
      "Looking for mask in: c:\\Users\\devan\\Downloads\\SAM2_Eval\\SAM2_Eval_Surgical_Datasets\\../Datasets\\CholecSeg8k\\test\\Masks\\Fat\\video18\\video18_01139\\1203.jpg\n",
      "Looking for mask in: c:\\Users\\devan\\Downloads\\SAM2_Eval\\SAM2_Eval_Surgical_Datasets\\../Datasets\\CholecSeg8k\\test\\Masks\\Gall bladder\\video18\\video18_01139\\1203.jpg\n",
      "Looking for mask in: c:\\Users\\devan\\Downloads\\SAM2_Eval\\SAM2_Eval_Surgical_Datasets\\../Datasets\\CholecSeg8k\\test\\Masks\\Gastrointestinal Tract\\video18\\video18_01139\\1203.jpg\n",
      "Looking for mask in: c:\\Users\\devan\\Downloads\\SAM2_Eval\\SAM2_Eval_Surgical_Datasets\\../Datasets\\CholecSeg8k\\test\\Masks\\Grasper\\video18\\video18_01139\\1203.jpg\n",
      "Looking for mask in: c:\\Users\\devan\\Downloads\\SAM2_Eval\\SAM2_Eval_Surgical_Datasets\\../Datasets\\CholecSeg8k\\test\\Masks\\L-hook Electrocautery\\video18\\video18_01139\\1203.jpg\n",
      "Looking for mask in: c:\\Users\\devan\\Downloads\\SAM2_Eval\\SAM2_Eval_Surgical_Datasets\\../Datasets\\CholecSeg8k\\test\\Masks\\Liver\\video18\\video18_01139\\1203.jpg\n",
      "No matching mask found for frame: c:\\Users\\devan\\Downloads\\SAM2_Eval\\SAM2_Eval_Surgical_Datasets\\temp_jpg_frames\\1203.jpg\n",
      "Looking for mask in: c:\\Users\\devan\\Downloads\\SAM2_Eval\\SAM2_Eval_Surgical_Datasets\\../Datasets\\CholecSeg8k\\test\\Masks\\Abdominal Wall\\video18\\video18_01139\\1204.jpg\n",
      "Looking for mask in: c:\\Users\\devan\\Downloads\\SAM2_Eval\\SAM2_Eval_Surgical_Datasets\\../Datasets\\CholecSeg8k\\test\\Masks\\Fat\\video18\\video18_01139\\1204.jpg\n",
      "Looking for mask in: c:\\Users\\devan\\Downloads\\SAM2_Eval\\SAM2_Eval_Surgical_Datasets\\../Datasets\\CholecSeg8k\\test\\Masks\\Gall bladder\\video18\\video18_01139\\1204.jpg\n",
      "Looking for mask in: c:\\Users\\devan\\Downloads\\SAM2_Eval\\SAM2_Eval_Surgical_Datasets\\../Datasets\\CholecSeg8k\\test\\Masks\\Gastrointestinal Tract\\video18\\video18_01139\\1204.jpg\n",
      "Looking for mask in: c:\\Users\\devan\\Downloads\\SAM2_Eval\\SAM2_Eval_Surgical_Datasets\\../Datasets\\CholecSeg8k\\test\\Masks\\Grasper\\video18\\video18_01139\\1204.jpg\n",
      "Looking for mask in: c:\\Users\\devan\\Downloads\\SAM2_Eval\\SAM2_Eval_Surgical_Datasets\\../Datasets\\CholecSeg8k\\test\\Masks\\L-hook Electrocautery\\video18\\video18_01139\\1204.jpg\n",
      "Looking for mask in: c:\\Users\\devan\\Downloads\\SAM2_Eval\\SAM2_Eval_Surgical_Datasets\\../Datasets\\CholecSeg8k\\test\\Masks\\Liver\\video18\\video18_01139\\1204.jpg\n",
      "No matching mask found for frame: c:\\Users\\devan\\Downloads\\SAM2_Eval\\SAM2_Eval_Surgical_Datasets\\temp_jpg_frames\\1204.jpg\n",
      "Looking for mask in: c:\\Users\\devan\\Downloads\\SAM2_Eval\\SAM2_Eval_Surgical_Datasets\\../Datasets\\CholecSeg8k\\test\\Masks\\Abdominal Wall\\video18\\video18_01139\\1205.jpg\n",
      "Looking for mask in: c:\\Users\\devan\\Downloads\\SAM2_Eval\\SAM2_Eval_Surgical_Datasets\\../Datasets\\CholecSeg8k\\test\\Masks\\Fat\\video18\\video18_01139\\1205.jpg\n",
      "Looking for mask in: c:\\Users\\devan\\Downloads\\SAM2_Eval\\SAM2_Eval_Surgical_Datasets\\../Datasets\\CholecSeg8k\\test\\Masks\\Gall bladder\\video18\\video18_01139\\1205.jpg\n",
      "Looking for mask in: c:\\Users\\devan\\Downloads\\SAM2_Eval\\SAM2_Eval_Surgical_Datasets\\../Datasets\\CholecSeg8k\\test\\Masks\\Gastrointestinal Tract\\video18\\video18_01139\\1205.jpg\n",
      "Looking for mask in: c:\\Users\\devan\\Downloads\\SAM2_Eval\\SAM2_Eval_Surgical_Datasets\\../Datasets\\CholecSeg8k\\test\\Masks\\Grasper\\video18\\video18_01139\\1205.jpg\n",
      "Looking for mask in: c:\\Users\\devan\\Downloads\\SAM2_Eval\\SAM2_Eval_Surgical_Datasets\\../Datasets\\CholecSeg8k\\test\\Masks\\L-hook Electrocautery\\video18\\video18_01139\\1205.jpg\n",
      "Looking for mask in: c:\\Users\\devan\\Downloads\\SAM2_Eval\\SAM2_Eval_Surgical_Datasets\\../Datasets\\CholecSeg8k\\test\\Masks\\Liver\\video18\\video18_01139\\1205.jpg\n",
      "No matching mask found for frame: c:\\Users\\devan\\Downloads\\SAM2_Eval\\SAM2_Eval_Surgical_Datasets\\temp_jpg_frames\\1205.jpg\n",
      "Looking for mask in: c:\\Users\\devan\\Downloads\\SAM2_Eval\\SAM2_Eval_Surgical_Datasets\\../Datasets\\CholecSeg8k\\test\\Masks\\Abdominal Wall\\video18\\video18_01139\\1206.jpg\n",
      "Looking for mask in: c:\\Users\\devan\\Downloads\\SAM2_Eval\\SAM2_Eval_Surgical_Datasets\\../Datasets\\CholecSeg8k\\test\\Masks\\Fat\\video18\\video18_01139\\1206.jpg\n",
      "Looking for mask in: c:\\Users\\devan\\Downloads\\SAM2_Eval\\SAM2_Eval_Surgical_Datasets\\../Datasets\\CholecSeg8k\\test\\Masks\\Gall bladder\\video18\\video18_01139\\1206.jpg\n",
      "Looking for mask in: c:\\Users\\devan\\Downloads\\SAM2_Eval\\SAM2_Eval_Surgical_Datasets\\../Datasets\\CholecSeg8k\\test\\Masks\\Gastrointestinal Tract\\video18\\video18_01139\\1206.jpg\n",
      "Looking for mask in: c:\\Users\\devan\\Downloads\\SAM2_Eval\\SAM2_Eval_Surgical_Datasets\\../Datasets\\CholecSeg8k\\test\\Masks\\Grasper\\video18\\video18_01139\\1206.jpg\n",
      "Looking for mask in: c:\\Users\\devan\\Downloads\\SAM2_Eval\\SAM2_Eval_Surgical_Datasets\\../Datasets\\CholecSeg8k\\test\\Masks\\L-hook Electrocautery\\video18\\video18_01139\\1206.jpg\n",
      "Looking for mask in: c:\\Users\\devan\\Downloads\\SAM2_Eval\\SAM2_Eval_Surgical_Datasets\\../Datasets\\CholecSeg8k\\test\\Masks\\Liver\\video18\\video18_01139\\1206.jpg\n",
      "No matching mask found for frame: c:\\Users\\devan\\Downloads\\SAM2_Eval\\SAM2_Eval_Surgical_Datasets\\temp_jpg_frames\\1206.jpg\n",
      "Looking for mask in: c:\\Users\\devan\\Downloads\\SAM2_Eval\\SAM2_Eval_Surgical_Datasets\\../Datasets\\CholecSeg8k\\test\\Masks\\Abdominal Wall\\video18\\video18_01139\\1207.jpg\n",
      "Looking for mask in: c:\\Users\\devan\\Downloads\\SAM2_Eval\\SAM2_Eval_Surgical_Datasets\\../Datasets\\CholecSeg8k\\test\\Masks\\Fat\\video18\\video18_01139\\1207.jpg\n",
      "Looking for mask in: c:\\Users\\devan\\Downloads\\SAM2_Eval\\SAM2_Eval_Surgical_Datasets\\../Datasets\\CholecSeg8k\\test\\Masks\\Gall bladder\\video18\\video18_01139\\1207.jpg\n",
      "Looking for mask in: c:\\Users\\devan\\Downloads\\SAM2_Eval\\SAM2_Eval_Surgical_Datasets\\../Datasets\\CholecSeg8k\\test\\Masks\\Gastrointestinal Tract\\video18\\video18_01139\\1207.jpg\n",
      "Looking for mask in: c:\\Users\\devan\\Downloads\\SAM2_Eval\\SAM2_Eval_Surgical_Datasets\\../Datasets\\CholecSeg8k\\test\\Masks\\Grasper\\video18\\video18_01139\\1207.jpg\n",
      "Looking for mask in: c:\\Users\\devan\\Downloads\\SAM2_Eval\\SAM2_Eval_Surgical_Datasets\\../Datasets\\CholecSeg8k\\test\\Masks\\L-hook Electrocautery\\video18\\video18_01139\\1207.jpg\n",
      "Looking for mask in: c:\\Users\\devan\\Downloads\\SAM2_Eval\\SAM2_Eval_Surgical_Datasets\\../Datasets\\CholecSeg8k\\test\\Masks\\Liver\\video18\\video18_01139\\1207.jpg\n",
      "No matching mask found for frame: c:\\Users\\devan\\Downloads\\SAM2_Eval\\SAM2_Eval_Surgical_Datasets\\temp_jpg_frames\\1207.jpg\n",
      "Looking for mask in: c:\\Users\\devan\\Downloads\\SAM2_Eval\\SAM2_Eval_Surgical_Datasets\\../Datasets\\CholecSeg8k\\test\\Masks\\Abdominal Wall\\video18\\video18_01139\\1208.jpg\n",
      "Looking for mask in: c:\\Users\\devan\\Downloads\\SAM2_Eval\\SAM2_Eval_Surgical_Datasets\\../Datasets\\CholecSeg8k\\test\\Masks\\Fat\\video18\\video18_01139\\1208.jpg\n",
      "Looking for mask in: c:\\Users\\devan\\Downloads\\SAM2_Eval\\SAM2_Eval_Surgical_Datasets\\../Datasets\\CholecSeg8k\\test\\Masks\\Gall bladder\\video18\\video18_01139\\1208.jpg\n",
      "Looking for mask in: c:\\Users\\devan\\Downloads\\SAM2_Eval\\SAM2_Eval_Surgical_Datasets\\../Datasets\\CholecSeg8k\\test\\Masks\\Gastrointestinal Tract\\video18\\video18_01139\\1208.jpg\n",
      "Looking for mask in: c:\\Users\\devan\\Downloads\\SAM2_Eval\\SAM2_Eval_Surgical_Datasets\\../Datasets\\CholecSeg8k\\test\\Masks\\Grasper\\video18\\video18_01139\\1208.jpg\n",
      "Looking for mask in: c:\\Users\\devan\\Downloads\\SAM2_Eval\\SAM2_Eval_Surgical_Datasets\\../Datasets\\CholecSeg8k\\test\\Masks\\L-hook Electrocautery\\video18\\video18_01139\\1208.jpg\n",
      "Looking for mask in: c:\\Users\\devan\\Downloads\\SAM2_Eval\\SAM2_Eval_Surgical_Datasets\\../Datasets\\CholecSeg8k\\test\\Masks\\Liver\\video18\\video18_01139\\1208.jpg\n",
      "No matching mask found for frame: c:\\Users\\devan\\Downloads\\SAM2_Eval\\SAM2_Eval_Surgical_Datasets\\temp_jpg_frames\\1208.jpg\n",
      "Looking for mask in: c:\\Users\\devan\\Downloads\\SAM2_Eval\\SAM2_Eval_Surgical_Datasets\\../Datasets\\CholecSeg8k\\test\\Masks\\Abdominal Wall\\video18\\video18_01139\\1209.jpg\n",
      "Looking for mask in: c:\\Users\\devan\\Downloads\\SAM2_Eval\\SAM2_Eval_Surgical_Datasets\\../Datasets\\CholecSeg8k\\test\\Masks\\Fat\\video18\\video18_01139\\1209.jpg\n",
      "Looking for mask in: c:\\Users\\devan\\Downloads\\SAM2_Eval\\SAM2_Eval_Surgical_Datasets\\../Datasets\\CholecSeg8k\\test\\Masks\\Gall bladder\\video18\\video18_01139\\1209.jpg\n",
      "Looking for mask in: c:\\Users\\devan\\Downloads\\SAM2_Eval\\SAM2_Eval_Surgical_Datasets\\../Datasets\\CholecSeg8k\\test\\Masks\\Gastrointestinal Tract\\video18\\video18_01139\\1209.jpg\n",
      "Looking for mask in: c:\\Users\\devan\\Downloads\\SAM2_Eval\\SAM2_Eval_Surgical_Datasets\\../Datasets\\CholecSeg8k\\test\\Masks\\Grasper\\video18\\video18_01139\\1209.jpg\n",
      "Looking for mask in: c:\\Users\\devan\\Downloads\\SAM2_Eval\\SAM2_Eval_Surgical_Datasets\\../Datasets\\CholecSeg8k\\test\\Masks\\L-hook Electrocautery\\video18\\video18_01139\\1209.jpg\n",
      "Looking for mask in: c:\\Users\\devan\\Downloads\\SAM2_Eval\\SAM2_Eval_Surgical_Datasets\\../Datasets\\CholecSeg8k\\test\\Masks\\Liver\\video18\\video18_01139\\1209.jpg\n",
      "No matching mask found for frame: c:\\Users\\devan\\Downloads\\SAM2_Eval\\SAM2_Eval_Surgical_Datasets\\temp_jpg_frames\\1209.jpg\n",
      "Looking for mask in: c:\\Users\\devan\\Downloads\\SAM2_Eval\\SAM2_Eval_Surgical_Datasets\\../Datasets\\CholecSeg8k\\test\\Masks\\Abdominal Wall\\video18\\video18_01139\\1210.jpg\n",
      "Looking for mask in: c:\\Users\\devan\\Downloads\\SAM2_Eval\\SAM2_Eval_Surgical_Datasets\\../Datasets\\CholecSeg8k\\test\\Masks\\Fat\\video18\\video18_01139\\1210.jpg\n",
      "Looking for mask in: c:\\Users\\devan\\Downloads\\SAM2_Eval\\SAM2_Eval_Surgical_Datasets\\../Datasets\\CholecSeg8k\\test\\Masks\\Gall bladder\\video18\\video18_01139\\1210.jpg\n",
      "Looking for mask in: c:\\Users\\devan\\Downloads\\SAM2_Eval\\SAM2_Eval_Surgical_Datasets\\../Datasets\\CholecSeg8k\\test\\Masks\\Gastrointestinal Tract\\video18\\video18_01139\\1210.jpg\n",
      "Looking for mask in: c:\\Users\\devan\\Downloads\\SAM2_Eval\\SAM2_Eval_Surgical_Datasets\\../Datasets\\CholecSeg8k\\test\\Masks\\Grasper\\video18\\video18_01139\\1210.jpg\n",
      "Looking for mask in: c:\\Users\\devan\\Downloads\\SAM2_Eval\\SAM2_Eval_Surgical_Datasets\\../Datasets\\CholecSeg8k\\test\\Masks\\L-hook Electrocautery\\video18\\video18_01139\\1210.jpg\n",
      "Looking for mask in: c:\\Users\\devan\\Downloads\\SAM2_Eval\\SAM2_Eval_Surgical_Datasets\\../Datasets\\CholecSeg8k\\test\\Masks\\Liver\\video18\\video18_01139\\1210.jpg\n",
      "No matching mask found for frame: c:\\Users\\devan\\Downloads\\SAM2_Eval\\SAM2_Eval_Surgical_Datasets\\temp_jpg_frames\\1210.jpg\n",
      "Looking for mask in: c:\\Users\\devan\\Downloads\\SAM2_Eval\\SAM2_Eval_Surgical_Datasets\\../Datasets\\CholecSeg8k\\test\\Masks\\Abdominal Wall\\video18\\video18_01139\\1211.jpg\n",
      "Looking for mask in: c:\\Users\\devan\\Downloads\\SAM2_Eval\\SAM2_Eval_Surgical_Datasets\\../Datasets\\CholecSeg8k\\test\\Masks\\Fat\\video18\\video18_01139\\1211.jpg\n",
      "Looking for mask in: c:\\Users\\devan\\Downloads\\SAM2_Eval\\SAM2_Eval_Surgical_Datasets\\../Datasets\\CholecSeg8k\\test\\Masks\\Gall bladder\\video18\\video18_01139\\1211.jpg\n",
      "Looking for mask in: c:\\Users\\devan\\Downloads\\SAM2_Eval\\SAM2_Eval_Surgical_Datasets\\../Datasets\\CholecSeg8k\\test\\Masks\\Gastrointestinal Tract\\video18\\video18_01139\\1211.jpg\n",
      "Looking for mask in: c:\\Users\\devan\\Downloads\\SAM2_Eval\\SAM2_Eval_Surgical_Datasets\\../Datasets\\CholecSeg8k\\test\\Masks\\Grasper\\video18\\video18_01139\\1211.jpg\n",
      "Looking for mask in: c:\\Users\\devan\\Downloads\\SAM2_Eval\\SAM2_Eval_Surgical_Datasets\\../Datasets\\CholecSeg8k\\test\\Masks\\L-hook Electrocautery\\video18\\video18_01139\\1211.jpg\n",
      "Looking for mask in: c:\\Users\\devan\\Downloads\\SAM2_Eval\\SAM2_Eval_Surgical_Datasets\\../Datasets\\CholecSeg8k\\test\\Masks\\Liver\\video18\\video18_01139\\1211.jpg\n",
      "No matching mask found for frame: c:\\Users\\devan\\Downloads\\SAM2_Eval\\SAM2_Eval_Surgical_Datasets\\temp_jpg_frames\\1211.jpg\n",
      "Looking for mask in: c:\\Users\\devan\\Downloads\\SAM2_Eval\\SAM2_Eval_Surgical_Datasets\\../Datasets\\CholecSeg8k\\test\\Masks\\Abdominal Wall\\video18\\video18_01139\\1212.jpg\n",
      "Looking for mask in: c:\\Users\\devan\\Downloads\\SAM2_Eval\\SAM2_Eval_Surgical_Datasets\\../Datasets\\CholecSeg8k\\test\\Masks\\Fat\\video18\\video18_01139\\1212.jpg\n",
      "Looking for mask in: c:\\Users\\devan\\Downloads\\SAM2_Eval\\SAM2_Eval_Surgical_Datasets\\../Datasets\\CholecSeg8k\\test\\Masks\\Gall bladder\\video18\\video18_01139\\1212.jpg\n",
      "Looking for mask in: c:\\Users\\devan\\Downloads\\SAM2_Eval\\SAM2_Eval_Surgical_Datasets\\../Datasets\\CholecSeg8k\\test\\Masks\\Gastrointestinal Tract\\video18\\video18_01139\\1212.jpg\n",
      "Looking for mask in: c:\\Users\\devan\\Downloads\\SAM2_Eval\\SAM2_Eval_Surgical_Datasets\\../Datasets\\CholecSeg8k\\test\\Masks\\Grasper\\video18\\video18_01139\\1212.jpg\n",
      "Looking for mask in: c:\\Users\\devan\\Downloads\\SAM2_Eval\\SAM2_Eval_Surgical_Datasets\\../Datasets\\CholecSeg8k\\test\\Masks\\L-hook Electrocautery\\video18\\video18_01139\\1212.jpg\n",
      "Looking for mask in: c:\\Users\\devan\\Downloads\\SAM2_Eval\\SAM2_Eval_Surgical_Datasets\\../Datasets\\CholecSeg8k\\test\\Masks\\Liver\\video18\\video18_01139\\1212.jpg\n",
      "No matching mask found for frame: c:\\Users\\devan\\Downloads\\SAM2_Eval\\SAM2_Eval_Surgical_Datasets\\temp_jpg_frames\\1212.jpg\n",
      "Looking for mask in: c:\\Users\\devan\\Downloads\\SAM2_Eval\\SAM2_Eval_Surgical_Datasets\\../Datasets\\CholecSeg8k\\test\\Masks\\Abdominal Wall\\video18\\video18_01139\\1213.jpg\n",
      "Looking for mask in: c:\\Users\\devan\\Downloads\\SAM2_Eval\\SAM2_Eval_Surgical_Datasets\\../Datasets\\CholecSeg8k\\test\\Masks\\Fat\\video18\\video18_01139\\1213.jpg\n",
      "Looking for mask in: c:\\Users\\devan\\Downloads\\SAM2_Eval\\SAM2_Eval_Surgical_Datasets\\../Datasets\\CholecSeg8k\\test\\Masks\\Gall bladder\\video18\\video18_01139\\1213.jpg\n",
      "Looking for mask in: c:\\Users\\devan\\Downloads\\SAM2_Eval\\SAM2_Eval_Surgical_Datasets\\../Datasets\\CholecSeg8k\\test\\Masks\\Gastrointestinal Tract\\video18\\video18_01139\\1213.jpg\n",
      "Looking for mask in: c:\\Users\\devan\\Downloads\\SAM2_Eval\\SAM2_Eval_Surgical_Datasets\\../Datasets\\CholecSeg8k\\test\\Masks\\Grasper\\video18\\video18_01139\\1213.jpg\n",
      "Looking for mask in: c:\\Users\\devan\\Downloads\\SAM2_Eval\\SAM2_Eval_Surgical_Datasets\\../Datasets\\CholecSeg8k\\test\\Masks\\L-hook Electrocautery\\video18\\video18_01139\\1213.jpg\n",
      "Looking for mask in: c:\\Users\\devan\\Downloads\\SAM2_Eval\\SAM2_Eval_Surgical_Datasets\\../Datasets\\CholecSeg8k\\test\\Masks\\Liver\\video18\\video18_01139\\1213.jpg\n",
      "No matching mask found for frame: c:\\Users\\devan\\Downloads\\SAM2_Eval\\SAM2_Eval_Surgical_Datasets\\temp_jpg_frames\\1213.jpg\n",
      "Looking for mask in: c:\\Users\\devan\\Downloads\\SAM2_Eval\\SAM2_Eval_Surgical_Datasets\\../Datasets\\CholecSeg8k\\test\\Masks\\Abdominal Wall\\video18\\video18_01139\\1214.jpg\n",
      "Looking for mask in: c:\\Users\\devan\\Downloads\\SAM2_Eval\\SAM2_Eval_Surgical_Datasets\\../Datasets\\CholecSeg8k\\test\\Masks\\Fat\\video18\\video18_01139\\1214.jpg\n",
      "Looking for mask in: c:\\Users\\devan\\Downloads\\SAM2_Eval\\SAM2_Eval_Surgical_Datasets\\../Datasets\\CholecSeg8k\\test\\Masks\\Gall bladder\\video18\\video18_01139\\1214.jpg\n",
      "Looking for mask in: c:\\Users\\devan\\Downloads\\SAM2_Eval\\SAM2_Eval_Surgical_Datasets\\../Datasets\\CholecSeg8k\\test\\Masks\\Gastrointestinal Tract\\video18\\video18_01139\\1214.jpg\n",
      "Looking for mask in: c:\\Users\\devan\\Downloads\\SAM2_Eval\\SAM2_Eval_Surgical_Datasets\\../Datasets\\CholecSeg8k\\test\\Masks\\Grasper\\video18\\video18_01139\\1214.jpg\n",
      "Looking for mask in: c:\\Users\\devan\\Downloads\\SAM2_Eval\\SAM2_Eval_Surgical_Datasets\\../Datasets\\CholecSeg8k\\test\\Masks\\L-hook Electrocautery\\video18\\video18_01139\\1214.jpg\n",
      "Looking for mask in: c:\\Users\\devan\\Downloads\\SAM2_Eval\\SAM2_Eval_Surgical_Datasets\\../Datasets\\CholecSeg8k\\test\\Masks\\Liver\\video18\\video18_01139\\1214.jpg\n",
      "No matching mask found for frame: c:\\Users\\devan\\Downloads\\SAM2_Eval\\SAM2_Eval_Surgical_Datasets\\temp_jpg_frames\\1214.jpg\n",
      "Looking for mask in: c:\\Users\\devan\\Downloads\\SAM2_Eval\\SAM2_Eval_Surgical_Datasets\\../Datasets\\CholecSeg8k\\test\\Masks\\Abdominal Wall\\video18\\video18_01139\\1215.jpg\n",
      "Looking for mask in: c:\\Users\\devan\\Downloads\\SAM2_Eval\\SAM2_Eval_Surgical_Datasets\\../Datasets\\CholecSeg8k\\test\\Masks\\Fat\\video18\\video18_01139\\1215.jpg\n",
      "Looking for mask in: c:\\Users\\devan\\Downloads\\SAM2_Eval\\SAM2_Eval_Surgical_Datasets\\../Datasets\\CholecSeg8k\\test\\Masks\\Gall bladder\\video18\\video18_01139\\1215.jpg\n",
      "Looking for mask in: c:\\Users\\devan\\Downloads\\SAM2_Eval\\SAM2_Eval_Surgical_Datasets\\../Datasets\\CholecSeg8k\\test\\Masks\\Gastrointestinal Tract\\video18\\video18_01139\\1215.jpg\n",
      "Looking for mask in: c:\\Users\\devan\\Downloads\\SAM2_Eval\\SAM2_Eval_Surgical_Datasets\\../Datasets\\CholecSeg8k\\test\\Masks\\Grasper\\video18\\video18_01139\\1215.jpg\n",
      "Looking for mask in: c:\\Users\\devan\\Downloads\\SAM2_Eval\\SAM2_Eval_Surgical_Datasets\\../Datasets\\CholecSeg8k\\test\\Masks\\L-hook Electrocautery\\video18\\video18_01139\\1215.jpg\n",
      "Looking for mask in: c:\\Users\\devan\\Downloads\\SAM2_Eval\\SAM2_Eval_Surgical_Datasets\\../Datasets\\CholecSeg8k\\test\\Masks\\Liver\\video18\\video18_01139\\1215.jpg\n",
      "No matching mask found for frame: c:\\Users\\devan\\Downloads\\SAM2_Eval\\SAM2_Eval_Surgical_Datasets\\temp_jpg_frames\\1215.jpg\n",
      "Looking for mask in: c:\\Users\\devan\\Downloads\\SAM2_Eval\\SAM2_Eval_Surgical_Datasets\\../Datasets\\CholecSeg8k\\test\\Masks\\Abdominal Wall\\video18\\video18_01139\\1216.jpg\n",
      "Looking for mask in: c:\\Users\\devan\\Downloads\\SAM2_Eval\\SAM2_Eval_Surgical_Datasets\\../Datasets\\CholecSeg8k\\test\\Masks\\Fat\\video18\\video18_01139\\1216.jpg\n",
      "Looking for mask in: c:\\Users\\devan\\Downloads\\SAM2_Eval\\SAM2_Eval_Surgical_Datasets\\../Datasets\\CholecSeg8k\\test\\Masks\\Gall bladder\\video18\\video18_01139\\1216.jpg\n",
      "Looking for mask in: c:\\Users\\devan\\Downloads\\SAM2_Eval\\SAM2_Eval_Surgical_Datasets\\../Datasets\\CholecSeg8k\\test\\Masks\\Gastrointestinal Tract\\video18\\video18_01139\\1216.jpg\n",
      "Looking for mask in: c:\\Users\\devan\\Downloads\\SAM2_Eval\\SAM2_Eval_Surgical_Datasets\\../Datasets\\CholecSeg8k\\test\\Masks\\Grasper\\video18\\video18_01139\\1216.jpg\n",
      "Looking for mask in: c:\\Users\\devan\\Downloads\\SAM2_Eval\\SAM2_Eval_Surgical_Datasets\\../Datasets\\CholecSeg8k\\test\\Masks\\L-hook Electrocautery\\video18\\video18_01139\\1216.jpg\n",
      "Looking for mask in: c:\\Users\\devan\\Downloads\\SAM2_Eval\\SAM2_Eval_Surgical_Datasets\\../Datasets\\CholecSeg8k\\test\\Masks\\Liver\\video18\\video18_01139\\1216.jpg\n",
      "No matching mask found for frame: c:\\Users\\devan\\Downloads\\SAM2_Eval\\SAM2_Eval_Surgical_Datasets\\temp_jpg_frames\\1216.jpg\n",
      "Looking for mask in: c:\\Users\\devan\\Downloads\\SAM2_Eval\\SAM2_Eval_Surgical_Datasets\\../Datasets\\CholecSeg8k\\test\\Masks\\Abdominal Wall\\video18\\video18_01139\\1217.jpg\n",
      "Looking for mask in: c:\\Users\\devan\\Downloads\\SAM2_Eval\\SAM2_Eval_Surgical_Datasets\\../Datasets\\CholecSeg8k\\test\\Masks\\Fat\\video18\\video18_01139\\1217.jpg\n",
      "Looking for mask in: c:\\Users\\devan\\Downloads\\SAM2_Eval\\SAM2_Eval_Surgical_Datasets\\../Datasets\\CholecSeg8k\\test\\Masks\\Gall bladder\\video18\\video18_01139\\1217.jpg\n",
      "Looking for mask in: c:\\Users\\devan\\Downloads\\SAM2_Eval\\SAM2_Eval_Surgical_Datasets\\../Datasets\\CholecSeg8k\\test\\Masks\\Gastrointestinal Tract\\video18\\video18_01139\\1217.jpg\n",
      "Looking for mask in: c:\\Users\\devan\\Downloads\\SAM2_Eval\\SAM2_Eval_Surgical_Datasets\\../Datasets\\CholecSeg8k\\test\\Masks\\Grasper\\video18\\video18_01139\\1217.jpg\n",
      "Looking for mask in: c:\\Users\\devan\\Downloads\\SAM2_Eval\\SAM2_Eval_Surgical_Datasets\\../Datasets\\CholecSeg8k\\test\\Masks\\L-hook Electrocautery\\video18\\video18_01139\\1217.jpg\n",
      "Looking for mask in: c:\\Users\\devan\\Downloads\\SAM2_Eval\\SAM2_Eval_Surgical_Datasets\\../Datasets\\CholecSeg8k\\test\\Masks\\Liver\\video18\\video18_01139\\1217.jpg\n",
      "No matching mask found for frame: c:\\Users\\devan\\Downloads\\SAM2_Eval\\SAM2_Eval_Surgical_Datasets\\temp_jpg_frames\\1217.jpg\n",
      "Looking for mask in: c:\\Users\\devan\\Downloads\\SAM2_Eval\\SAM2_Eval_Surgical_Datasets\\../Datasets\\CholecSeg8k\\test\\Masks\\Abdominal Wall\\video18\\video18_01139\\1218.jpg\n",
      "Looking for mask in: c:\\Users\\devan\\Downloads\\SAM2_Eval\\SAM2_Eval_Surgical_Datasets\\../Datasets\\CholecSeg8k\\test\\Masks\\Fat\\video18\\video18_01139\\1218.jpg\n",
      "Looking for mask in: c:\\Users\\devan\\Downloads\\SAM2_Eval\\SAM2_Eval_Surgical_Datasets\\../Datasets\\CholecSeg8k\\test\\Masks\\Gall bladder\\video18\\video18_01139\\1218.jpg\n",
      "Looking for mask in: c:\\Users\\devan\\Downloads\\SAM2_Eval\\SAM2_Eval_Surgical_Datasets\\../Datasets\\CholecSeg8k\\test\\Masks\\Gastrointestinal Tract\\video18\\video18_01139\\1218.jpg\n",
      "Looking for mask in: c:\\Users\\devan\\Downloads\\SAM2_Eval\\SAM2_Eval_Surgical_Datasets\\../Datasets\\CholecSeg8k\\test\\Masks\\Grasper\\video18\\video18_01139\\1218.jpg\n",
      "Looking for mask in: c:\\Users\\devan\\Downloads\\SAM2_Eval\\SAM2_Eval_Surgical_Datasets\\../Datasets\\CholecSeg8k\\test\\Masks\\L-hook Electrocautery\\video18\\video18_01139\\1218.jpg\n",
      "Looking for mask in: c:\\Users\\devan\\Downloads\\SAM2_Eval\\SAM2_Eval_Surgical_Datasets\\../Datasets\\CholecSeg8k\\test\\Masks\\Liver\\video18\\video18_01139\\1218.jpg\n",
      "No matching mask found for frame: c:\\Users\\devan\\Downloads\\SAM2_Eval\\SAM2_Eval_Surgical_Datasets\\temp_jpg_frames\\1218.jpg\n",
      "Looking for mask in: c:\\Users\\devan\\Downloads\\SAM2_Eval\\SAM2_Eval_Surgical_Datasets\\../Datasets\\CholecSeg8k\\test\\Masks\\Abdominal Wall\\video20\\video20_03260\\3260.jpg\n",
      "Looking for mask in: c:\\Users\\devan\\Downloads\\SAM2_Eval\\SAM2_Eval_Surgical_Datasets\\../Datasets\\CholecSeg8k\\test\\Masks\\Fat\\video20\\video20_03260\\3260.jpg\n",
      "Looking for mask in: c:\\Users\\devan\\Downloads\\SAM2_Eval\\SAM2_Eval_Surgical_Datasets\\../Datasets\\CholecSeg8k\\test\\Masks\\Gall bladder\\video20\\video20_03260\\3260.jpg\n",
      "Looking for mask in: c:\\Users\\devan\\Downloads\\SAM2_Eval\\SAM2_Eval_Surgical_Datasets\\../Datasets\\CholecSeg8k\\test\\Masks\\Gastrointestinal Tract\\video20\\video20_03260\\3260.jpg\n",
      "Looking for mask in: c:\\Users\\devan\\Downloads\\SAM2_Eval\\SAM2_Eval_Surgical_Datasets\\../Datasets\\CholecSeg8k\\test\\Masks\\Grasper\\video20\\video20_03260\\3260.jpg\n",
      "Looking for mask in: c:\\Users\\devan\\Downloads\\SAM2_Eval\\SAM2_Eval_Surgical_Datasets\\../Datasets\\CholecSeg8k\\test\\Masks\\L-hook Electrocautery\\video20\\video20_03260\\3260.jpg\n",
      "Looking for mask in: c:\\Users\\devan\\Downloads\\SAM2_Eval\\SAM2_Eval_Surgical_Datasets\\../Datasets\\CholecSeg8k\\test\\Masks\\Liver\\video20\\video20_03260\\3260.jpg\n",
      "No matching mask found for frame: c:\\Users\\devan\\Downloads\\SAM2_Eval\\SAM2_Eval_Surgical_Datasets\\temp_jpg_frames\\3260.jpg\n",
      "Looking for mask in: c:\\Users\\devan\\Downloads\\SAM2_Eval\\SAM2_Eval_Surgical_Datasets\\../Datasets\\CholecSeg8k\\test\\Masks\\Abdominal Wall\\video20\\video20_03260\\3261.jpg\n",
      "Looking for mask in: c:\\Users\\devan\\Downloads\\SAM2_Eval\\SAM2_Eval_Surgical_Datasets\\../Datasets\\CholecSeg8k\\test\\Masks\\Fat\\video20\\video20_03260\\3261.jpg\n",
      "Looking for mask in: c:\\Users\\devan\\Downloads\\SAM2_Eval\\SAM2_Eval_Surgical_Datasets\\../Datasets\\CholecSeg8k\\test\\Masks\\Gall bladder\\video20\\video20_03260\\3261.jpg\n",
      "Looking for mask in: c:\\Users\\devan\\Downloads\\SAM2_Eval\\SAM2_Eval_Surgical_Datasets\\../Datasets\\CholecSeg8k\\test\\Masks\\Gastrointestinal Tract\\video20\\video20_03260\\3261.jpg\n",
      "Looking for mask in: c:\\Users\\devan\\Downloads\\SAM2_Eval\\SAM2_Eval_Surgical_Datasets\\../Datasets\\CholecSeg8k\\test\\Masks\\Grasper\\video20\\video20_03260\\3261.jpg\n",
      "Looking for mask in: c:\\Users\\devan\\Downloads\\SAM2_Eval\\SAM2_Eval_Surgical_Datasets\\../Datasets\\CholecSeg8k\\test\\Masks\\L-hook Electrocautery\\video20\\video20_03260\\3261.jpg\n",
      "Looking for mask in: c:\\Users\\devan\\Downloads\\SAM2_Eval\\SAM2_Eval_Surgical_Datasets\\../Datasets\\CholecSeg8k\\test\\Masks\\Liver\\video20\\video20_03260\\3261.jpg\n",
      "No matching mask found for frame: c:\\Users\\devan\\Downloads\\SAM2_Eval\\SAM2_Eval_Surgical_Datasets\\temp_jpg_frames\\3261.jpg\n",
      "Looking for mask in: c:\\Users\\devan\\Downloads\\SAM2_Eval\\SAM2_Eval_Surgical_Datasets\\../Datasets\\CholecSeg8k\\test\\Masks\\Abdominal Wall\\video20\\video20_03260\\3262.jpg\n",
      "Looking for mask in: c:\\Users\\devan\\Downloads\\SAM2_Eval\\SAM2_Eval_Surgical_Datasets\\../Datasets\\CholecSeg8k\\test\\Masks\\Fat\\video20\\video20_03260\\3262.jpg\n",
      "Looking for mask in: c:\\Users\\devan\\Downloads\\SAM2_Eval\\SAM2_Eval_Surgical_Datasets\\../Datasets\\CholecSeg8k\\test\\Masks\\Gall bladder\\video20\\video20_03260\\3262.jpg\n",
      "Looking for mask in: c:\\Users\\devan\\Downloads\\SAM2_Eval\\SAM2_Eval_Surgical_Datasets\\../Datasets\\CholecSeg8k\\test\\Masks\\Gastrointestinal Tract\\video20\\video20_03260\\3262.jpg\n",
      "Looking for mask in: c:\\Users\\devan\\Downloads\\SAM2_Eval\\SAM2_Eval_Surgical_Datasets\\../Datasets\\CholecSeg8k\\test\\Masks\\Grasper\\video20\\video20_03260\\3262.jpg\n",
      "Looking for mask in: c:\\Users\\devan\\Downloads\\SAM2_Eval\\SAM2_Eval_Surgical_Datasets\\../Datasets\\CholecSeg8k\\test\\Masks\\L-hook Electrocautery\\video20\\video20_03260\\3262.jpg\n",
      "Looking for mask in: c:\\Users\\devan\\Downloads\\SAM2_Eval\\SAM2_Eval_Surgical_Datasets\\../Datasets\\CholecSeg8k\\test\\Masks\\Liver\\video20\\video20_03260\\3262.jpg\n",
      "No matching mask found for frame: c:\\Users\\devan\\Downloads\\SAM2_Eval\\SAM2_Eval_Surgical_Datasets\\temp_jpg_frames\\3262.jpg\n",
      "Looking for mask in: c:\\Users\\devan\\Downloads\\SAM2_Eval\\SAM2_Eval_Surgical_Datasets\\../Datasets\\CholecSeg8k\\test\\Masks\\Abdominal Wall\\video20\\video20_03260\\3263.jpg\n",
      "Looking for mask in: c:\\Users\\devan\\Downloads\\SAM2_Eval\\SAM2_Eval_Surgical_Datasets\\../Datasets\\CholecSeg8k\\test\\Masks\\Fat\\video20\\video20_03260\\3263.jpg\n",
      "Looking for mask in: c:\\Users\\devan\\Downloads\\SAM2_Eval\\SAM2_Eval_Surgical_Datasets\\../Datasets\\CholecSeg8k\\test\\Masks\\Gall bladder\\video20\\video20_03260\\3263.jpg\n",
      "Looking for mask in: c:\\Users\\devan\\Downloads\\SAM2_Eval\\SAM2_Eval_Surgical_Datasets\\../Datasets\\CholecSeg8k\\test\\Masks\\Gastrointestinal Tract\\video20\\video20_03260\\3263.jpg\n",
      "Looking for mask in: c:\\Users\\devan\\Downloads\\SAM2_Eval\\SAM2_Eval_Surgical_Datasets\\../Datasets\\CholecSeg8k\\test\\Masks\\Grasper\\video20\\video20_03260\\3263.jpg\n",
      "Looking for mask in: c:\\Users\\devan\\Downloads\\SAM2_Eval\\SAM2_Eval_Surgical_Datasets\\../Datasets\\CholecSeg8k\\test\\Masks\\L-hook Electrocautery\\video20\\video20_03260\\3263.jpg\n",
      "Looking for mask in: c:\\Users\\devan\\Downloads\\SAM2_Eval\\SAM2_Eval_Surgical_Datasets\\../Datasets\\CholecSeg8k\\test\\Masks\\Liver\\video20\\video20_03260\\3263.jpg\n",
      "No matching mask found for frame: c:\\Users\\devan\\Downloads\\SAM2_Eval\\SAM2_Eval_Surgical_Datasets\\temp_jpg_frames\\3263.jpg\n",
      "Looking for mask in: c:\\Users\\devan\\Downloads\\SAM2_Eval\\SAM2_Eval_Surgical_Datasets\\../Datasets\\CholecSeg8k\\test\\Masks\\Abdominal Wall\\video20\\video20_03260\\3264.jpg\n",
      "Looking for mask in: c:\\Users\\devan\\Downloads\\SAM2_Eval\\SAM2_Eval_Surgical_Datasets\\../Datasets\\CholecSeg8k\\test\\Masks\\Fat\\video20\\video20_03260\\3264.jpg\n",
      "Looking for mask in: c:\\Users\\devan\\Downloads\\SAM2_Eval\\SAM2_Eval_Surgical_Datasets\\../Datasets\\CholecSeg8k\\test\\Masks\\Gall bladder\\video20\\video20_03260\\3264.jpg\n",
      "Looking for mask in: c:\\Users\\devan\\Downloads\\SAM2_Eval\\SAM2_Eval_Surgical_Datasets\\../Datasets\\CholecSeg8k\\test\\Masks\\Gastrointestinal Tract\\video20\\video20_03260\\3264.jpg\n",
      "Looking for mask in: c:\\Users\\devan\\Downloads\\SAM2_Eval\\SAM2_Eval_Surgical_Datasets\\../Datasets\\CholecSeg8k\\test\\Masks\\Grasper\\video20\\video20_03260\\3264.jpg\n",
      "Looking for mask in: c:\\Users\\devan\\Downloads\\SAM2_Eval\\SAM2_Eval_Surgical_Datasets\\../Datasets\\CholecSeg8k\\test\\Masks\\L-hook Electrocautery\\video20\\video20_03260\\3264.jpg\n",
      "Looking for mask in: c:\\Users\\devan\\Downloads\\SAM2_Eval\\SAM2_Eval_Surgical_Datasets\\../Datasets\\CholecSeg8k\\test\\Masks\\Liver\\video20\\video20_03260\\3264.jpg\n",
      "No matching mask found for frame: c:\\Users\\devan\\Downloads\\SAM2_Eval\\SAM2_Eval_Surgical_Datasets\\temp_jpg_frames\\3264.jpg\n",
      "Looking for mask in: c:\\Users\\devan\\Downloads\\SAM2_Eval\\SAM2_Eval_Surgical_Datasets\\../Datasets\\CholecSeg8k\\test\\Masks\\Abdominal Wall\\video20\\video20_03260\\3265.jpg\n",
      "Looking for mask in: c:\\Users\\devan\\Downloads\\SAM2_Eval\\SAM2_Eval_Surgical_Datasets\\../Datasets\\CholecSeg8k\\test\\Masks\\Fat\\video20\\video20_03260\\3265.jpg\n",
      "Looking for mask in: c:\\Users\\devan\\Downloads\\SAM2_Eval\\SAM2_Eval_Surgical_Datasets\\../Datasets\\CholecSeg8k\\test\\Masks\\Gall bladder\\video20\\video20_03260\\3265.jpg\n",
      "Looking for mask in: c:\\Users\\devan\\Downloads\\SAM2_Eval\\SAM2_Eval_Surgical_Datasets\\../Datasets\\CholecSeg8k\\test\\Masks\\Gastrointestinal Tract\\video20\\video20_03260\\3265.jpg\n",
      "Looking for mask in: c:\\Users\\devan\\Downloads\\SAM2_Eval\\SAM2_Eval_Surgical_Datasets\\../Datasets\\CholecSeg8k\\test\\Masks\\Grasper\\video20\\video20_03260\\3265.jpg\n",
      "Looking for mask in: c:\\Users\\devan\\Downloads\\SAM2_Eval\\SAM2_Eval_Surgical_Datasets\\../Datasets\\CholecSeg8k\\test\\Masks\\L-hook Electrocautery\\video20\\video20_03260\\3265.jpg\n",
      "Looking for mask in: c:\\Users\\devan\\Downloads\\SAM2_Eval\\SAM2_Eval_Surgical_Datasets\\../Datasets\\CholecSeg8k\\test\\Masks\\Liver\\video20\\video20_03260\\3265.jpg\n",
      "No matching mask found for frame: c:\\Users\\devan\\Downloads\\SAM2_Eval\\SAM2_Eval_Surgical_Datasets\\temp_jpg_frames\\3265.jpg\n",
      "Looking for mask in: c:\\Users\\devan\\Downloads\\SAM2_Eval\\SAM2_Eval_Surgical_Datasets\\../Datasets\\CholecSeg8k\\test\\Masks\\Abdominal Wall\\video20\\video20_03260\\3266.jpg\n",
      "Looking for mask in: c:\\Users\\devan\\Downloads\\SAM2_Eval\\SAM2_Eval_Surgical_Datasets\\../Datasets\\CholecSeg8k\\test\\Masks\\Fat\\video20\\video20_03260\\3266.jpg\n",
      "Looking for mask in: c:\\Users\\devan\\Downloads\\SAM2_Eval\\SAM2_Eval_Surgical_Datasets\\../Datasets\\CholecSeg8k\\test\\Masks\\Gall bladder\\video20\\video20_03260\\3266.jpg\n",
      "Looking for mask in: c:\\Users\\devan\\Downloads\\SAM2_Eval\\SAM2_Eval_Surgical_Datasets\\../Datasets\\CholecSeg8k\\test\\Masks\\Gastrointestinal Tract\\video20\\video20_03260\\3266.jpg\n",
      "Looking for mask in: c:\\Users\\devan\\Downloads\\SAM2_Eval\\SAM2_Eval_Surgical_Datasets\\../Datasets\\CholecSeg8k\\test\\Masks\\Grasper\\video20\\video20_03260\\3266.jpg\n",
      "Looking for mask in: c:\\Users\\devan\\Downloads\\SAM2_Eval\\SAM2_Eval_Surgical_Datasets\\../Datasets\\CholecSeg8k\\test\\Masks\\L-hook Electrocautery\\video20\\video20_03260\\3266.jpg\n",
      "Looking for mask in: c:\\Users\\devan\\Downloads\\SAM2_Eval\\SAM2_Eval_Surgical_Datasets\\../Datasets\\CholecSeg8k\\test\\Masks\\Liver\\video20\\video20_03260\\3266.jpg\n",
      "No matching mask found for frame: c:\\Users\\devan\\Downloads\\SAM2_Eval\\SAM2_Eval_Surgical_Datasets\\temp_jpg_frames\\3266.jpg\n",
      "Looking for mask in: c:\\Users\\devan\\Downloads\\SAM2_Eval\\SAM2_Eval_Surgical_Datasets\\../Datasets\\CholecSeg8k\\test\\Masks\\Abdominal Wall\\video20\\video20_03260\\3267.jpg\n",
      "Looking for mask in: c:\\Users\\devan\\Downloads\\SAM2_Eval\\SAM2_Eval_Surgical_Datasets\\../Datasets\\CholecSeg8k\\test\\Masks\\Fat\\video20\\video20_03260\\3267.jpg\n",
      "Looking for mask in: c:\\Users\\devan\\Downloads\\SAM2_Eval\\SAM2_Eval_Surgical_Datasets\\../Datasets\\CholecSeg8k\\test\\Masks\\Gall bladder\\video20\\video20_03260\\3267.jpg\n",
      "Looking for mask in: c:\\Users\\devan\\Downloads\\SAM2_Eval\\SAM2_Eval_Surgical_Datasets\\../Datasets\\CholecSeg8k\\test\\Masks\\Gastrointestinal Tract\\video20\\video20_03260\\3267.jpg\n",
      "Looking for mask in: c:\\Users\\devan\\Downloads\\SAM2_Eval\\SAM2_Eval_Surgical_Datasets\\../Datasets\\CholecSeg8k\\test\\Masks\\Grasper\\video20\\video20_03260\\3267.jpg\n",
      "Looking for mask in: c:\\Users\\devan\\Downloads\\SAM2_Eval\\SAM2_Eval_Surgical_Datasets\\../Datasets\\CholecSeg8k\\test\\Masks\\L-hook Electrocautery\\video20\\video20_03260\\3267.jpg\n",
      "Looking for mask in: c:\\Users\\devan\\Downloads\\SAM2_Eval\\SAM2_Eval_Surgical_Datasets\\../Datasets\\CholecSeg8k\\test\\Masks\\Liver\\video20\\video20_03260\\3267.jpg\n",
      "No matching mask found for frame: c:\\Users\\devan\\Downloads\\SAM2_Eval\\SAM2_Eval_Surgical_Datasets\\temp_jpg_frames\\3267.jpg\n",
      "Looking for mask in: c:\\Users\\devan\\Downloads\\SAM2_Eval\\SAM2_Eval_Surgical_Datasets\\../Datasets\\CholecSeg8k\\test\\Masks\\Abdominal Wall\\video20\\video20_03260\\3268.jpg\n",
      "Looking for mask in: c:\\Users\\devan\\Downloads\\SAM2_Eval\\SAM2_Eval_Surgical_Datasets\\../Datasets\\CholecSeg8k\\test\\Masks\\Fat\\video20\\video20_03260\\3268.jpg\n",
      "Looking for mask in: c:\\Users\\devan\\Downloads\\SAM2_Eval\\SAM2_Eval_Surgical_Datasets\\../Datasets\\CholecSeg8k\\test\\Masks\\Gall bladder\\video20\\video20_03260\\3268.jpg\n",
      "Looking for mask in: c:\\Users\\devan\\Downloads\\SAM2_Eval\\SAM2_Eval_Surgical_Datasets\\../Datasets\\CholecSeg8k\\test\\Masks\\Gastrointestinal Tract\\video20\\video20_03260\\3268.jpg\n",
      "Looking for mask in: c:\\Users\\devan\\Downloads\\SAM2_Eval\\SAM2_Eval_Surgical_Datasets\\../Datasets\\CholecSeg8k\\test\\Masks\\Grasper\\video20\\video20_03260\\3268.jpg\n",
      "Looking for mask in: c:\\Users\\devan\\Downloads\\SAM2_Eval\\SAM2_Eval_Surgical_Datasets\\../Datasets\\CholecSeg8k\\test\\Masks\\L-hook Electrocautery\\video20\\video20_03260\\3268.jpg\n",
      "Looking for mask in: c:\\Users\\devan\\Downloads\\SAM2_Eval\\SAM2_Eval_Surgical_Datasets\\../Datasets\\CholecSeg8k\\test\\Masks\\Liver\\video20\\video20_03260\\3268.jpg\n",
      "No matching mask found for frame: c:\\Users\\devan\\Downloads\\SAM2_Eval\\SAM2_Eval_Surgical_Datasets\\temp_jpg_frames\\3268.jpg\n",
      "Looking for mask in: c:\\Users\\devan\\Downloads\\SAM2_Eval\\SAM2_Eval_Surgical_Datasets\\../Datasets\\CholecSeg8k\\test\\Masks\\Abdominal Wall\\video20\\video20_03260\\3269.jpg\n",
      "Looking for mask in: c:\\Users\\devan\\Downloads\\SAM2_Eval\\SAM2_Eval_Surgical_Datasets\\../Datasets\\CholecSeg8k\\test\\Masks\\Fat\\video20\\video20_03260\\3269.jpg\n",
      "Looking for mask in: c:\\Users\\devan\\Downloads\\SAM2_Eval\\SAM2_Eval_Surgical_Datasets\\../Datasets\\CholecSeg8k\\test\\Masks\\Gall bladder\\video20\\video20_03260\\3269.jpg\n",
      "Looking for mask in: c:\\Users\\devan\\Downloads\\SAM2_Eval\\SAM2_Eval_Surgical_Datasets\\../Datasets\\CholecSeg8k\\test\\Masks\\Gastrointestinal Tract\\video20\\video20_03260\\3269.jpg\n",
      "Looking for mask in: c:\\Users\\devan\\Downloads\\SAM2_Eval\\SAM2_Eval_Surgical_Datasets\\../Datasets\\CholecSeg8k\\test\\Masks\\Grasper\\video20\\video20_03260\\3269.jpg\n",
      "Looking for mask in: c:\\Users\\devan\\Downloads\\SAM2_Eval\\SAM2_Eval_Surgical_Datasets\\../Datasets\\CholecSeg8k\\test\\Masks\\L-hook Electrocautery\\video20\\video20_03260\\3269.jpg\n",
      "Looking for mask in: c:\\Users\\devan\\Downloads\\SAM2_Eval\\SAM2_Eval_Surgical_Datasets\\../Datasets\\CholecSeg8k\\test\\Masks\\Liver\\video20\\video20_03260\\3269.jpg\n",
      "No matching mask found for frame: c:\\Users\\devan\\Downloads\\SAM2_Eval\\SAM2_Eval_Surgical_Datasets\\temp_jpg_frames\\3269.jpg\n",
      "Looking for mask in: c:\\Users\\devan\\Downloads\\SAM2_Eval\\SAM2_Eval_Surgical_Datasets\\../Datasets\\CholecSeg8k\\test\\Masks\\Abdominal Wall\\video20\\video20_03260\\3270.jpg\n",
      "Looking for mask in: c:\\Users\\devan\\Downloads\\SAM2_Eval\\SAM2_Eval_Surgical_Datasets\\../Datasets\\CholecSeg8k\\test\\Masks\\Fat\\video20\\video20_03260\\3270.jpg\n",
      "Looking for mask in: c:\\Users\\devan\\Downloads\\SAM2_Eval\\SAM2_Eval_Surgical_Datasets\\../Datasets\\CholecSeg8k\\test\\Masks\\Gall bladder\\video20\\video20_03260\\3270.jpg\n",
      "Looking for mask in: c:\\Users\\devan\\Downloads\\SAM2_Eval\\SAM2_Eval_Surgical_Datasets\\../Datasets\\CholecSeg8k\\test\\Masks\\Gastrointestinal Tract\\video20\\video20_03260\\3270.jpg\n",
      "Looking for mask in: c:\\Users\\devan\\Downloads\\SAM2_Eval\\SAM2_Eval_Surgical_Datasets\\../Datasets\\CholecSeg8k\\test\\Masks\\Grasper\\video20\\video20_03260\\3270.jpg\n",
      "Looking for mask in: c:\\Users\\devan\\Downloads\\SAM2_Eval\\SAM2_Eval_Surgical_Datasets\\../Datasets\\CholecSeg8k\\test\\Masks\\L-hook Electrocautery\\video20\\video20_03260\\3270.jpg\n",
      "Looking for mask in: c:\\Users\\devan\\Downloads\\SAM2_Eval\\SAM2_Eval_Surgical_Datasets\\../Datasets\\CholecSeg8k\\test\\Masks\\Liver\\video20\\video20_03260\\3270.jpg\n",
      "No matching mask found for frame: c:\\Users\\devan\\Downloads\\SAM2_Eval\\SAM2_Eval_Surgical_Datasets\\temp_jpg_frames\\3270.jpg\n",
      "Looking for mask in: c:\\Users\\devan\\Downloads\\SAM2_Eval\\SAM2_Eval_Surgical_Datasets\\../Datasets\\CholecSeg8k\\test\\Masks\\Abdominal Wall\\video20\\video20_03260\\3271.jpg\n",
      "Looking for mask in: c:\\Users\\devan\\Downloads\\SAM2_Eval\\SAM2_Eval_Surgical_Datasets\\../Datasets\\CholecSeg8k\\test\\Masks\\Fat\\video20\\video20_03260\\3271.jpg\n",
      "Looking for mask in: c:\\Users\\devan\\Downloads\\SAM2_Eval\\SAM2_Eval_Surgical_Datasets\\../Datasets\\CholecSeg8k\\test\\Masks\\Gall bladder\\video20\\video20_03260\\3271.jpg\n",
      "Looking for mask in: c:\\Users\\devan\\Downloads\\SAM2_Eval\\SAM2_Eval_Surgical_Datasets\\../Datasets\\CholecSeg8k\\test\\Masks\\Gastrointestinal Tract\\video20\\video20_03260\\3271.jpg\n",
      "Looking for mask in: c:\\Users\\devan\\Downloads\\SAM2_Eval\\SAM2_Eval_Surgical_Datasets\\../Datasets\\CholecSeg8k\\test\\Masks\\Grasper\\video20\\video20_03260\\3271.jpg\n",
      "Looking for mask in: c:\\Users\\devan\\Downloads\\SAM2_Eval\\SAM2_Eval_Surgical_Datasets\\../Datasets\\CholecSeg8k\\test\\Masks\\L-hook Electrocautery\\video20\\video20_03260\\3271.jpg\n",
      "Looking for mask in: c:\\Users\\devan\\Downloads\\SAM2_Eval\\SAM2_Eval_Surgical_Datasets\\../Datasets\\CholecSeg8k\\test\\Masks\\Liver\\video20\\video20_03260\\3271.jpg\n",
      "No matching mask found for frame: c:\\Users\\devan\\Downloads\\SAM2_Eval\\SAM2_Eval_Surgical_Datasets\\temp_jpg_frames\\3271.jpg\n",
      "Looking for mask in: c:\\Users\\devan\\Downloads\\SAM2_Eval\\SAM2_Eval_Surgical_Datasets\\../Datasets\\CholecSeg8k\\test\\Masks\\Abdominal Wall\\video20\\video20_03260\\3272.jpg\n",
      "Looking for mask in: c:\\Users\\devan\\Downloads\\SAM2_Eval\\SAM2_Eval_Surgical_Datasets\\../Datasets\\CholecSeg8k\\test\\Masks\\Fat\\video20\\video20_03260\\3272.jpg\n",
      "Looking for mask in: c:\\Users\\devan\\Downloads\\SAM2_Eval\\SAM2_Eval_Surgical_Datasets\\../Datasets\\CholecSeg8k\\test\\Masks\\Gall bladder\\video20\\video20_03260\\3272.jpg\n",
      "Looking for mask in: c:\\Users\\devan\\Downloads\\SAM2_Eval\\SAM2_Eval_Surgical_Datasets\\../Datasets\\CholecSeg8k\\test\\Masks\\Gastrointestinal Tract\\video20\\video20_03260\\3272.jpg\n",
      "Looking for mask in: c:\\Users\\devan\\Downloads\\SAM2_Eval\\SAM2_Eval_Surgical_Datasets\\../Datasets\\CholecSeg8k\\test\\Masks\\Grasper\\video20\\video20_03260\\3272.jpg\n",
      "Looking for mask in: c:\\Users\\devan\\Downloads\\SAM2_Eval\\SAM2_Eval_Surgical_Datasets\\../Datasets\\CholecSeg8k\\test\\Masks\\L-hook Electrocautery\\video20\\video20_03260\\3272.jpg\n",
      "Looking for mask in: c:\\Users\\devan\\Downloads\\SAM2_Eval\\SAM2_Eval_Surgical_Datasets\\../Datasets\\CholecSeg8k\\test\\Masks\\Liver\\video20\\video20_03260\\3272.jpg\n",
      "No matching mask found for frame: c:\\Users\\devan\\Downloads\\SAM2_Eval\\SAM2_Eval_Surgical_Datasets\\temp_jpg_frames\\3272.jpg\n",
      "Looking for mask in: c:\\Users\\devan\\Downloads\\SAM2_Eval\\SAM2_Eval_Surgical_Datasets\\../Datasets\\CholecSeg8k\\test\\Masks\\Abdominal Wall\\video20\\video20_03260\\3273.jpg\n",
      "Looking for mask in: c:\\Users\\devan\\Downloads\\SAM2_Eval\\SAM2_Eval_Surgical_Datasets\\../Datasets\\CholecSeg8k\\test\\Masks\\Fat\\video20\\video20_03260\\3273.jpg\n",
      "Looking for mask in: c:\\Users\\devan\\Downloads\\SAM2_Eval\\SAM2_Eval_Surgical_Datasets\\../Datasets\\CholecSeg8k\\test\\Masks\\Gall bladder\\video20\\video20_03260\\3273.jpg\n",
      "Looking for mask in: c:\\Users\\devan\\Downloads\\SAM2_Eval\\SAM2_Eval_Surgical_Datasets\\../Datasets\\CholecSeg8k\\test\\Masks\\Gastrointestinal Tract\\video20\\video20_03260\\3273.jpg\n",
      "Looking for mask in: c:\\Users\\devan\\Downloads\\SAM2_Eval\\SAM2_Eval_Surgical_Datasets\\../Datasets\\CholecSeg8k\\test\\Masks\\Grasper\\video20\\video20_03260\\3273.jpg\n",
      "Looking for mask in: c:\\Users\\devan\\Downloads\\SAM2_Eval\\SAM2_Eval_Surgical_Datasets\\../Datasets\\CholecSeg8k\\test\\Masks\\L-hook Electrocautery\\video20\\video20_03260\\3273.jpg\n",
      "Looking for mask in: c:\\Users\\devan\\Downloads\\SAM2_Eval\\SAM2_Eval_Surgical_Datasets\\../Datasets\\CholecSeg8k\\test\\Masks\\Liver\\video20\\video20_03260\\3273.jpg\n",
      "No matching mask found for frame: c:\\Users\\devan\\Downloads\\SAM2_Eval\\SAM2_Eval_Surgical_Datasets\\temp_jpg_frames\\3273.jpg\n",
      "Looking for mask in: c:\\Users\\devan\\Downloads\\SAM2_Eval\\SAM2_Eval_Surgical_Datasets\\../Datasets\\CholecSeg8k\\test\\Masks\\Abdominal Wall\\video20\\video20_03260\\3274.jpg\n",
      "Looking for mask in: c:\\Users\\devan\\Downloads\\SAM2_Eval\\SAM2_Eval_Surgical_Datasets\\../Datasets\\CholecSeg8k\\test\\Masks\\Fat\\video20\\video20_03260\\3274.jpg\n",
      "Looking for mask in: c:\\Users\\devan\\Downloads\\SAM2_Eval\\SAM2_Eval_Surgical_Datasets\\../Datasets\\CholecSeg8k\\test\\Masks\\Gall bladder\\video20\\video20_03260\\3274.jpg\n",
      "Looking for mask in: c:\\Users\\devan\\Downloads\\SAM2_Eval\\SAM2_Eval_Surgical_Datasets\\../Datasets\\CholecSeg8k\\test\\Masks\\Gastrointestinal Tract\\video20\\video20_03260\\3274.jpg\n",
      "Looking for mask in: c:\\Users\\devan\\Downloads\\SAM2_Eval\\SAM2_Eval_Surgical_Datasets\\../Datasets\\CholecSeg8k\\test\\Masks\\Grasper\\video20\\video20_03260\\3274.jpg\n",
      "Looking for mask in: c:\\Users\\devan\\Downloads\\SAM2_Eval\\SAM2_Eval_Surgical_Datasets\\../Datasets\\CholecSeg8k\\test\\Masks\\L-hook Electrocautery\\video20\\video20_03260\\3274.jpg\n",
      "Looking for mask in: c:\\Users\\devan\\Downloads\\SAM2_Eval\\SAM2_Eval_Surgical_Datasets\\../Datasets\\CholecSeg8k\\test\\Masks\\Liver\\video20\\video20_03260\\3274.jpg\n",
      "No matching mask found for frame: c:\\Users\\devan\\Downloads\\SAM2_Eval\\SAM2_Eval_Surgical_Datasets\\temp_jpg_frames\\3274.jpg\n",
      "Looking for mask in: c:\\Users\\devan\\Downloads\\SAM2_Eval\\SAM2_Eval_Surgical_Datasets\\../Datasets\\CholecSeg8k\\test\\Masks\\Abdominal Wall\\video20\\video20_03260\\3275.jpg\n",
      "Looking for mask in: c:\\Users\\devan\\Downloads\\SAM2_Eval\\SAM2_Eval_Surgical_Datasets\\../Datasets\\CholecSeg8k\\test\\Masks\\Fat\\video20\\video20_03260\\3275.jpg\n",
      "Looking for mask in: c:\\Users\\devan\\Downloads\\SAM2_Eval\\SAM2_Eval_Surgical_Datasets\\../Datasets\\CholecSeg8k\\test\\Masks\\Gall bladder\\video20\\video20_03260\\3275.jpg\n",
      "Looking for mask in: c:\\Users\\devan\\Downloads\\SAM2_Eval\\SAM2_Eval_Surgical_Datasets\\../Datasets\\CholecSeg8k\\test\\Masks\\Gastrointestinal Tract\\video20\\video20_03260\\3275.jpg\n",
      "Looking for mask in: c:\\Users\\devan\\Downloads\\SAM2_Eval\\SAM2_Eval_Surgical_Datasets\\../Datasets\\CholecSeg8k\\test\\Masks\\Grasper\\video20\\video20_03260\\3275.jpg\n",
      "Looking for mask in: c:\\Users\\devan\\Downloads\\SAM2_Eval\\SAM2_Eval_Surgical_Datasets\\../Datasets\\CholecSeg8k\\test\\Masks\\L-hook Electrocautery\\video20\\video20_03260\\3275.jpg\n",
      "Looking for mask in: c:\\Users\\devan\\Downloads\\SAM2_Eval\\SAM2_Eval_Surgical_Datasets\\../Datasets\\CholecSeg8k\\test\\Masks\\Liver\\video20\\video20_03260\\3275.jpg\n",
      "No matching mask found for frame: c:\\Users\\devan\\Downloads\\SAM2_Eval\\SAM2_Eval_Surgical_Datasets\\temp_jpg_frames\\3275.jpg\n",
      "Looking for mask in: c:\\Users\\devan\\Downloads\\SAM2_Eval\\SAM2_Eval_Surgical_Datasets\\../Datasets\\CholecSeg8k\\test\\Masks\\Abdominal Wall\\video20\\video20_03260\\3276.jpg\n",
      "Looking for mask in: c:\\Users\\devan\\Downloads\\SAM2_Eval\\SAM2_Eval_Surgical_Datasets\\../Datasets\\CholecSeg8k\\test\\Masks\\Fat\\video20\\video20_03260\\3276.jpg\n",
      "Looking for mask in: c:\\Users\\devan\\Downloads\\SAM2_Eval\\SAM2_Eval_Surgical_Datasets\\../Datasets\\CholecSeg8k\\test\\Masks\\Gall bladder\\video20\\video20_03260\\3276.jpg\n",
      "Looking for mask in: c:\\Users\\devan\\Downloads\\SAM2_Eval\\SAM2_Eval_Surgical_Datasets\\../Datasets\\CholecSeg8k\\test\\Masks\\Gastrointestinal Tract\\video20\\video20_03260\\3276.jpg\n",
      "Looking for mask in: c:\\Users\\devan\\Downloads\\SAM2_Eval\\SAM2_Eval_Surgical_Datasets\\../Datasets\\CholecSeg8k\\test\\Masks\\Grasper\\video20\\video20_03260\\3276.jpg\n",
      "Looking for mask in: c:\\Users\\devan\\Downloads\\SAM2_Eval\\SAM2_Eval_Surgical_Datasets\\../Datasets\\CholecSeg8k\\test\\Masks\\L-hook Electrocautery\\video20\\video20_03260\\3276.jpg\n",
      "Looking for mask in: c:\\Users\\devan\\Downloads\\SAM2_Eval\\SAM2_Eval_Surgical_Datasets\\../Datasets\\CholecSeg8k\\test\\Masks\\Liver\\video20\\video20_03260\\3276.jpg\n",
      "No matching mask found for frame: c:\\Users\\devan\\Downloads\\SAM2_Eval\\SAM2_Eval_Surgical_Datasets\\temp_jpg_frames\\3276.jpg\n",
      "Looking for mask in: c:\\Users\\devan\\Downloads\\SAM2_Eval\\SAM2_Eval_Surgical_Datasets\\../Datasets\\CholecSeg8k\\test\\Masks\\Abdominal Wall\\video20\\video20_03260\\3277.jpg\n",
      "Looking for mask in: c:\\Users\\devan\\Downloads\\SAM2_Eval\\SAM2_Eval_Surgical_Datasets\\../Datasets\\CholecSeg8k\\test\\Masks\\Fat\\video20\\video20_03260\\3277.jpg\n",
      "Looking for mask in: c:\\Users\\devan\\Downloads\\SAM2_Eval\\SAM2_Eval_Surgical_Datasets\\../Datasets\\CholecSeg8k\\test\\Masks\\Gall bladder\\video20\\video20_03260\\3277.jpg\n",
      "Looking for mask in: c:\\Users\\devan\\Downloads\\SAM2_Eval\\SAM2_Eval_Surgical_Datasets\\../Datasets\\CholecSeg8k\\test\\Masks\\Gastrointestinal Tract\\video20\\video20_03260\\3277.jpg\n",
      "Looking for mask in: c:\\Users\\devan\\Downloads\\SAM2_Eval\\SAM2_Eval_Surgical_Datasets\\../Datasets\\CholecSeg8k\\test\\Masks\\Grasper\\video20\\video20_03260\\3277.jpg\n",
      "Looking for mask in: c:\\Users\\devan\\Downloads\\SAM2_Eval\\SAM2_Eval_Surgical_Datasets\\../Datasets\\CholecSeg8k\\test\\Masks\\L-hook Electrocautery\\video20\\video20_03260\\3277.jpg\n",
      "Looking for mask in: c:\\Users\\devan\\Downloads\\SAM2_Eval\\SAM2_Eval_Surgical_Datasets\\../Datasets\\CholecSeg8k\\test\\Masks\\Liver\\video20\\video20_03260\\3277.jpg\n",
      "No matching mask found for frame: c:\\Users\\devan\\Downloads\\SAM2_Eval\\SAM2_Eval_Surgical_Datasets\\temp_jpg_frames\\3277.jpg\n",
      "Looking for mask in: c:\\Users\\devan\\Downloads\\SAM2_Eval\\SAM2_Eval_Surgical_Datasets\\../Datasets\\CholecSeg8k\\test\\Masks\\Abdominal Wall\\video20\\video20_03260\\3278.jpg\n",
      "Looking for mask in: c:\\Users\\devan\\Downloads\\SAM2_Eval\\SAM2_Eval_Surgical_Datasets\\../Datasets\\CholecSeg8k\\test\\Masks\\Fat\\video20\\video20_03260\\3278.jpg\n",
      "Looking for mask in: c:\\Users\\devan\\Downloads\\SAM2_Eval\\SAM2_Eval_Surgical_Datasets\\../Datasets\\CholecSeg8k\\test\\Masks\\Gall bladder\\video20\\video20_03260\\3278.jpg\n",
      "Looking for mask in: c:\\Users\\devan\\Downloads\\SAM2_Eval\\SAM2_Eval_Surgical_Datasets\\../Datasets\\CholecSeg8k\\test\\Masks\\Gastrointestinal Tract\\video20\\video20_03260\\3278.jpg\n",
      "Looking for mask in: c:\\Users\\devan\\Downloads\\SAM2_Eval\\SAM2_Eval_Surgical_Datasets\\../Datasets\\CholecSeg8k\\test\\Masks\\Grasper\\video20\\video20_03260\\3278.jpg\n",
      "Looking for mask in: c:\\Users\\devan\\Downloads\\SAM2_Eval\\SAM2_Eval_Surgical_Datasets\\../Datasets\\CholecSeg8k\\test\\Masks\\L-hook Electrocautery\\video20\\video20_03260\\3278.jpg\n",
      "Looking for mask in: c:\\Users\\devan\\Downloads\\SAM2_Eval\\SAM2_Eval_Surgical_Datasets\\../Datasets\\CholecSeg8k\\test\\Masks\\Liver\\video20\\video20_03260\\3278.jpg\n",
      "No matching mask found for frame: c:\\Users\\devan\\Downloads\\SAM2_Eval\\SAM2_Eval_Surgical_Datasets\\temp_jpg_frames\\3278.jpg\n",
      "Looking for mask in: c:\\Users\\devan\\Downloads\\SAM2_Eval\\SAM2_Eval_Surgical_Datasets\\../Datasets\\CholecSeg8k\\test\\Masks\\Abdominal Wall\\video20\\video20_03260\\3279.jpg\n",
      "Looking for mask in: c:\\Users\\devan\\Downloads\\SAM2_Eval\\SAM2_Eval_Surgical_Datasets\\../Datasets\\CholecSeg8k\\test\\Masks\\Fat\\video20\\video20_03260\\3279.jpg\n",
      "Looking for mask in: c:\\Users\\devan\\Downloads\\SAM2_Eval\\SAM2_Eval_Surgical_Datasets\\../Datasets\\CholecSeg8k\\test\\Masks\\Gall bladder\\video20\\video20_03260\\3279.jpg\n",
      "Looking for mask in: c:\\Users\\devan\\Downloads\\SAM2_Eval\\SAM2_Eval_Surgical_Datasets\\../Datasets\\CholecSeg8k\\test\\Masks\\Gastrointestinal Tract\\video20\\video20_03260\\3279.jpg\n",
      "Looking for mask in: c:\\Users\\devan\\Downloads\\SAM2_Eval\\SAM2_Eval_Surgical_Datasets\\../Datasets\\CholecSeg8k\\test\\Masks\\Grasper\\video20\\video20_03260\\3279.jpg\n",
      "Looking for mask in: c:\\Users\\devan\\Downloads\\SAM2_Eval\\SAM2_Eval_Surgical_Datasets\\../Datasets\\CholecSeg8k\\test\\Masks\\L-hook Electrocautery\\video20\\video20_03260\\3279.jpg\n",
      "Looking for mask in: c:\\Users\\devan\\Downloads\\SAM2_Eval\\SAM2_Eval_Surgical_Datasets\\../Datasets\\CholecSeg8k\\test\\Masks\\Liver\\video20\\video20_03260\\3279.jpg\n",
      "No matching mask found for frame: c:\\Users\\devan\\Downloads\\SAM2_Eval\\SAM2_Eval_Surgical_Datasets\\temp_jpg_frames\\3279.jpg\n",
      "Looking for mask in: c:\\Users\\devan\\Downloads\\SAM2_Eval\\SAM2_Eval_Surgical_Datasets\\../Datasets\\CholecSeg8k\\test\\Masks\\Abdominal Wall\\video20\\video20_03260\\3280.jpg\n",
      "Looking for mask in: c:\\Users\\devan\\Downloads\\SAM2_Eval\\SAM2_Eval_Surgical_Datasets\\../Datasets\\CholecSeg8k\\test\\Masks\\Fat\\video20\\video20_03260\\3280.jpg\n",
      "Looking for mask in: c:\\Users\\devan\\Downloads\\SAM2_Eval\\SAM2_Eval_Surgical_Datasets\\../Datasets\\CholecSeg8k\\test\\Masks\\Gall bladder\\video20\\video20_03260\\3280.jpg\n",
      "Looking for mask in: c:\\Users\\devan\\Downloads\\SAM2_Eval\\SAM2_Eval_Surgical_Datasets\\../Datasets\\CholecSeg8k\\test\\Masks\\Gastrointestinal Tract\\video20\\video20_03260\\3280.jpg\n",
      "Looking for mask in: c:\\Users\\devan\\Downloads\\SAM2_Eval\\SAM2_Eval_Surgical_Datasets\\../Datasets\\CholecSeg8k\\test\\Masks\\Grasper\\video20\\video20_03260\\3280.jpg\n",
      "Looking for mask in: c:\\Users\\devan\\Downloads\\SAM2_Eval\\SAM2_Eval_Surgical_Datasets\\../Datasets\\CholecSeg8k\\test\\Masks\\L-hook Electrocautery\\video20\\video20_03260\\3280.jpg\n",
      "Looking for mask in: c:\\Users\\devan\\Downloads\\SAM2_Eval\\SAM2_Eval_Surgical_Datasets\\../Datasets\\CholecSeg8k\\test\\Masks\\Liver\\video20\\video20_03260\\3280.jpg\n",
      "No matching mask found for frame: c:\\Users\\devan\\Downloads\\SAM2_Eval\\SAM2_Eval_Surgical_Datasets\\temp_jpg_frames\\3280.jpg\n",
      "Looking for mask in: c:\\Users\\devan\\Downloads\\SAM2_Eval\\SAM2_Eval_Surgical_Datasets\\../Datasets\\CholecSeg8k\\test\\Masks\\Abdominal Wall\\video20\\video20_03260\\3281.jpg\n",
      "Looking for mask in: c:\\Users\\devan\\Downloads\\SAM2_Eval\\SAM2_Eval_Surgical_Datasets\\../Datasets\\CholecSeg8k\\test\\Masks\\Fat\\video20\\video20_03260\\3281.jpg\n",
      "Looking for mask in: c:\\Users\\devan\\Downloads\\SAM2_Eval\\SAM2_Eval_Surgical_Datasets\\../Datasets\\CholecSeg8k\\test\\Masks\\Gall bladder\\video20\\video20_03260\\3281.jpg\n",
      "Looking for mask in: c:\\Users\\devan\\Downloads\\SAM2_Eval\\SAM2_Eval_Surgical_Datasets\\../Datasets\\CholecSeg8k\\test\\Masks\\Gastrointestinal Tract\\video20\\video20_03260\\3281.jpg\n",
      "Looking for mask in: c:\\Users\\devan\\Downloads\\SAM2_Eval\\SAM2_Eval_Surgical_Datasets\\../Datasets\\CholecSeg8k\\test\\Masks\\Grasper\\video20\\video20_03260\\3281.jpg\n",
      "Looking for mask in: c:\\Users\\devan\\Downloads\\SAM2_Eval\\SAM2_Eval_Surgical_Datasets\\../Datasets\\CholecSeg8k\\test\\Masks\\L-hook Electrocautery\\video20\\video20_03260\\3281.jpg\n",
      "Looking for mask in: c:\\Users\\devan\\Downloads\\SAM2_Eval\\SAM2_Eval_Surgical_Datasets\\../Datasets\\CholecSeg8k\\test\\Masks\\Liver\\video20\\video20_03260\\3281.jpg\n",
      "No matching mask found for frame: c:\\Users\\devan\\Downloads\\SAM2_Eval\\SAM2_Eval_Surgical_Datasets\\temp_jpg_frames\\3281.jpg\n",
      "Looking for mask in: c:\\Users\\devan\\Downloads\\SAM2_Eval\\SAM2_Eval_Surgical_Datasets\\../Datasets\\CholecSeg8k\\test\\Masks\\Abdominal Wall\\video20\\video20_03260\\3282.jpg\n",
      "Looking for mask in: c:\\Users\\devan\\Downloads\\SAM2_Eval\\SAM2_Eval_Surgical_Datasets\\../Datasets\\CholecSeg8k\\test\\Masks\\Fat\\video20\\video20_03260\\3282.jpg\n",
      "Looking for mask in: c:\\Users\\devan\\Downloads\\SAM2_Eval\\SAM2_Eval_Surgical_Datasets\\../Datasets\\CholecSeg8k\\test\\Masks\\Gall bladder\\video20\\video20_03260\\3282.jpg\n",
      "Looking for mask in: c:\\Users\\devan\\Downloads\\SAM2_Eval\\SAM2_Eval_Surgical_Datasets\\../Datasets\\CholecSeg8k\\test\\Masks\\Gastrointestinal Tract\\video20\\video20_03260\\3282.jpg\n",
      "Looking for mask in: c:\\Users\\devan\\Downloads\\SAM2_Eval\\SAM2_Eval_Surgical_Datasets\\../Datasets\\CholecSeg8k\\test\\Masks\\Grasper\\video20\\video20_03260\\3282.jpg\n",
      "Looking for mask in: c:\\Users\\devan\\Downloads\\SAM2_Eval\\SAM2_Eval_Surgical_Datasets\\../Datasets\\CholecSeg8k\\test\\Masks\\L-hook Electrocautery\\video20\\video20_03260\\3282.jpg\n",
      "Looking for mask in: c:\\Users\\devan\\Downloads\\SAM2_Eval\\SAM2_Eval_Surgical_Datasets\\../Datasets\\CholecSeg8k\\test\\Masks\\Liver\\video20\\video20_03260\\3282.jpg\n",
      "No matching mask found for frame: c:\\Users\\devan\\Downloads\\SAM2_Eval\\SAM2_Eval_Surgical_Datasets\\temp_jpg_frames\\3282.jpg\n",
      "Looking for mask in: c:\\Users\\devan\\Downloads\\SAM2_Eval\\SAM2_Eval_Surgical_Datasets\\../Datasets\\CholecSeg8k\\test\\Masks\\Abdominal Wall\\video20\\video20_03260\\3283.jpg\n",
      "Looking for mask in: c:\\Users\\devan\\Downloads\\SAM2_Eval\\SAM2_Eval_Surgical_Datasets\\../Datasets\\CholecSeg8k\\test\\Masks\\Fat\\video20\\video20_03260\\3283.jpg\n",
      "Looking for mask in: c:\\Users\\devan\\Downloads\\SAM2_Eval\\SAM2_Eval_Surgical_Datasets\\../Datasets\\CholecSeg8k\\test\\Masks\\Gall bladder\\video20\\video20_03260\\3283.jpg\n",
      "Looking for mask in: c:\\Users\\devan\\Downloads\\SAM2_Eval\\SAM2_Eval_Surgical_Datasets\\../Datasets\\CholecSeg8k\\test\\Masks\\Gastrointestinal Tract\\video20\\video20_03260\\3283.jpg\n",
      "Looking for mask in: c:\\Users\\devan\\Downloads\\SAM2_Eval\\SAM2_Eval_Surgical_Datasets\\../Datasets\\CholecSeg8k\\test\\Masks\\Grasper\\video20\\video20_03260\\3283.jpg\n",
      "Looking for mask in: c:\\Users\\devan\\Downloads\\SAM2_Eval\\SAM2_Eval_Surgical_Datasets\\../Datasets\\CholecSeg8k\\test\\Masks\\L-hook Electrocautery\\video20\\video20_03260\\3283.jpg\n",
      "Looking for mask in: c:\\Users\\devan\\Downloads\\SAM2_Eval\\SAM2_Eval_Surgical_Datasets\\../Datasets\\CholecSeg8k\\test\\Masks\\Liver\\video20\\video20_03260\\3283.jpg\n",
      "No matching mask found for frame: c:\\Users\\devan\\Downloads\\SAM2_Eval\\SAM2_Eval_Surgical_Datasets\\temp_jpg_frames\\3283.jpg\n",
      "Looking for mask in: c:\\Users\\devan\\Downloads\\SAM2_Eval\\SAM2_Eval_Surgical_Datasets\\../Datasets\\CholecSeg8k\\test\\Masks\\Abdominal Wall\\video20\\video20_03260\\3284.jpg\n",
      "Looking for mask in: c:\\Users\\devan\\Downloads\\SAM2_Eval\\SAM2_Eval_Surgical_Datasets\\../Datasets\\CholecSeg8k\\test\\Masks\\Fat\\video20\\video20_03260\\3284.jpg\n",
      "Looking for mask in: c:\\Users\\devan\\Downloads\\SAM2_Eval\\SAM2_Eval_Surgical_Datasets\\../Datasets\\CholecSeg8k\\test\\Masks\\Gall bladder\\video20\\video20_03260\\3284.jpg\n",
      "Looking for mask in: c:\\Users\\devan\\Downloads\\SAM2_Eval\\SAM2_Eval_Surgical_Datasets\\../Datasets\\CholecSeg8k\\test\\Masks\\Gastrointestinal Tract\\video20\\video20_03260\\3284.jpg\n",
      "Looking for mask in: c:\\Users\\devan\\Downloads\\SAM2_Eval\\SAM2_Eval_Surgical_Datasets\\../Datasets\\CholecSeg8k\\test\\Masks\\Grasper\\video20\\video20_03260\\3284.jpg\n",
      "Looking for mask in: c:\\Users\\devan\\Downloads\\SAM2_Eval\\SAM2_Eval_Surgical_Datasets\\../Datasets\\CholecSeg8k\\test\\Masks\\L-hook Electrocautery\\video20\\video20_03260\\3284.jpg\n",
      "Looking for mask in: c:\\Users\\devan\\Downloads\\SAM2_Eval\\SAM2_Eval_Surgical_Datasets\\../Datasets\\CholecSeg8k\\test\\Masks\\Liver\\video20\\video20_03260\\3284.jpg\n",
      "No matching mask found for frame: c:\\Users\\devan\\Downloads\\SAM2_Eval\\SAM2_Eval_Surgical_Datasets\\temp_jpg_frames\\3284.jpg\n",
      "Looking for mask in: c:\\Users\\devan\\Downloads\\SAM2_Eval\\SAM2_Eval_Surgical_Datasets\\../Datasets\\CholecSeg8k\\test\\Masks\\Abdominal Wall\\video20\\video20_03260\\3285.jpg\n",
      "Looking for mask in: c:\\Users\\devan\\Downloads\\SAM2_Eval\\SAM2_Eval_Surgical_Datasets\\../Datasets\\CholecSeg8k\\test\\Masks\\Fat\\video20\\video20_03260\\3285.jpg\n",
      "Looking for mask in: c:\\Users\\devan\\Downloads\\SAM2_Eval\\SAM2_Eval_Surgical_Datasets\\../Datasets\\CholecSeg8k\\test\\Masks\\Gall bladder\\video20\\video20_03260\\3285.jpg\n",
      "Looking for mask in: c:\\Users\\devan\\Downloads\\SAM2_Eval\\SAM2_Eval_Surgical_Datasets\\../Datasets\\CholecSeg8k\\test\\Masks\\Gastrointestinal Tract\\video20\\video20_03260\\3285.jpg\n",
      "Looking for mask in: c:\\Users\\devan\\Downloads\\SAM2_Eval\\SAM2_Eval_Surgical_Datasets\\../Datasets\\CholecSeg8k\\test\\Masks\\Grasper\\video20\\video20_03260\\3285.jpg\n",
      "Looking for mask in: c:\\Users\\devan\\Downloads\\SAM2_Eval\\SAM2_Eval_Surgical_Datasets\\../Datasets\\CholecSeg8k\\test\\Masks\\L-hook Electrocautery\\video20\\video20_03260\\3285.jpg\n",
      "Looking for mask in: c:\\Users\\devan\\Downloads\\SAM2_Eval\\SAM2_Eval_Surgical_Datasets\\../Datasets\\CholecSeg8k\\test\\Masks\\Liver\\video20\\video20_03260\\3285.jpg\n",
      "No matching mask found for frame: c:\\Users\\devan\\Downloads\\SAM2_Eval\\SAM2_Eval_Surgical_Datasets\\temp_jpg_frames\\3285.jpg\n",
      "Looking for mask in: c:\\Users\\devan\\Downloads\\SAM2_Eval\\SAM2_Eval_Surgical_Datasets\\../Datasets\\CholecSeg8k\\test\\Masks\\Abdominal Wall\\video20\\video20_03260\\3286.jpg\n",
      "Looking for mask in: c:\\Users\\devan\\Downloads\\SAM2_Eval\\SAM2_Eval_Surgical_Datasets\\../Datasets\\CholecSeg8k\\test\\Masks\\Fat\\video20\\video20_03260\\3286.jpg\n",
      "Looking for mask in: c:\\Users\\devan\\Downloads\\SAM2_Eval\\SAM2_Eval_Surgical_Datasets\\../Datasets\\CholecSeg8k\\test\\Masks\\Gall bladder\\video20\\video20_03260\\3286.jpg\n",
      "Looking for mask in: c:\\Users\\devan\\Downloads\\SAM2_Eval\\SAM2_Eval_Surgical_Datasets\\../Datasets\\CholecSeg8k\\test\\Masks\\Gastrointestinal Tract\\video20\\video20_03260\\3286.jpg\n",
      "Looking for mask in: c:\\Users\\devan\\Downloads\\SAM2_Eval\\SAM2_Eval_Surgical_Datasets\\../Datasets\\CholecSeg8k\\test\\Masks\\Grasper\\video20\\video20_03260\\3286.jpg\n",
      "Looking for mask in: c:\\Users\\devan\\Downloads\\SAM2_Eval\\SAM2_Eval_Surgical_Datasets\\../Datasets\\CholecSeg8k\\test\\Masks\\L-hook Electrocautery\\video20\\video20_03260\\3286.jpg\n",
      "Looking for mask in: c:\\Users\\devan\\Downloads\\SAM2_Eval\\SAM2_Eval_Surgical_Datasets\\../Datasets\\CholecSeg8k\\test\\Masks\\Liver\\video20\\video20_03260\\3286.jpg\n",
      "No matching mask found for frame: c:\\Users\\devan\\Downloads\\SAM2_Eval\\SAM2_Eval_Surgical_Datasets\\temp_jpg_frames\\3286.jpg\n",
      "Looking for mask in: c:\\Users\\devan\\Downloads\\SAM2_Eval\\SAM2_Eval_Surgical_Datasets\\../Datasets\\CholecSeg8k\\test\\Masks\\Abdominal Wall\\video20\\video20_03260\\3287.jpg\n",
      "Looking for mask in: c:\\Users\\devan\\Downloads\\SAM2_Eval\\SAM2_Eval_Surgical_Datasets\\../Datasets\\CholecSeg8k\\test\\Masks\\Fat\\video20\\video20_03260\\3287.jpg\n",
      "Looking for mask in: c:\\Users\\devan\\Downloads\\SAM2_Eval\\SAM2_Eval_Surgical_Datasets\\../Datasets\\CholecSeg8k\\test\\Masks\\Gall bladder\\video20\\video20_03260\\3287.jpg\n",
      "Looking for mask in: c:\\Users\\devan\\Downloads\\SAM2_Eval\\SAM2_Eval_Surgical_Datasets\\../Datasets\\CholecSeg8k\\test\\Masks\\Gastrointestinal Tract\\video20\\video20_03260\\3287.jpg\n",
      "Looking for mask in: c:\\Users\\devan\\Downloads\\SAM2_Eval\\SAM2_Eval_Surgical_Datasets\\../Datasets\\CholecSeg8k\\test\\Masks\\Grasper\\video20\\video20_03260\\3287.jpg\n",
      "Looking for mask in: c:\\Users\\devan\\Downloads\\SAM2_Eval\\SAM2_Eval_Surgical_Datasets\\../Datasets\\CholecSeg8k\\test\\Masks\\L-hook Electrocautery\\video20\\video20_03260\\3287.jpg\n",
      "Looking for mask in: c:\\Users\\devan\\Downloads\\SAM2_Eval\\SAM2_Eval_Surgical_Datasets\\../Datasets\\CholecSeg8k\\test\\Masks\\Liver\\video20\\video20_03260\\3287.jpg\n",
      "No matching mask found for frame: c:\\Users\\devan\\Downloads\\SAM2_Eval\\SAM2_Eval_Surgical_Datasets\\temp_jpg_frames\\3287.jpg\n",
      "Looking for mask in: c:\\Users\\devan\\Downloads\\SAM2_Eval\\SAM2_Eval_Surgical_Datasets\\../Datasets\\CholecSeg8k\\test\\Masks\\Abdominal Wall\\video20\\video20_03260\\3288.jpg\n",
      "Looking for mask in: c:\\Users\\devan\\Downloads\\SAM2_Eval\\SAM2_Eval_Surgical_Datasets\\../Datasets\\CholecSeg8k\\test\\Masks\\Fat\\video20\\video20_03260\\3288.jpg\n",
      "Looking for mask in: c:\\Users\\devan\\Downloads\\SAM2_Eval\\SAM2_Eval_Surgical_Datasets\\../Datasets\\CholecSeg8k\\test\\Masks\\Gall bladder\\video20\\video20_03260\\3288.jpg\n",
      "Looking for mask in: c:\\Users\\devan\\Downloads\\SAM2_Eval\\SAM2_Eval_Surgical_Datasets\\../Datasets\\CholecSeg8k\\test\\Masks\\Gastrointestinal Tract\\video20\\video20_03260\\3288.jpg\n",
      "Looking for mask in: c:\\Users\\devan\\Downloads\\SAM2_Eval\\SAM2_Eval_Surgical_Datasets\\../Datasets\\CholecSeg8k\\test\\Masks\\Grasper\\video20\\video20_03260\\3288.jpg\n",
      "Looking for mask in: c:\\Users\\devan\\Downloads\\SAM2_Eval\\SAM2_Eval_Surgical_Datasets\\../Datasets\\CholecSeg8k\\test\\Masks\\L-hook Electrocautery\\video20\\video20_03260\\3288.jpg\n",
      "Looking for mask in: c:\\Users\\devan\\Downloads\\SAM2_Eval\\SAM2_Eval_Surgical_Datasets\\../Datasets\\CholecSeg8k\\test\\Masks\\Liver\\video20\\video20_03260\\3288.jpg\n",
      "No matching mask found for frame: c:\\Users\\devan\\Downloads\\SAM2_Eval\\SAM2_Eval_Surgical_Datasets\\temp_jpg_frames\\3288.jpg\n",
      "Looking for mask in: c:\\Users\\devan\\Downloads\\SAM2_Eval\\SAM2_Eval_Surgical_Datasets\\../Datasets\\CholecSeg8k\\test\\Masks\\Abdominal Wall\\video20\\video20_03260\\3289.jpg\n",
      "Looking for mask in: c:\\Users\\devan\\Downloads\\SAM2_Eval\\SAM2_Eval_Surgical_Datasets\\../Datasets\\CholecSeg8k\\test\\Masks\\Fat\\video20\\video20_03260\\3289.jpg\n",
      "Looking for mask in: c:\\Users\\devan\\Downloads\\SAM2_Eval\\SAM2_Eval_Surgical_Datasets\\../Datasets\\CholecSeg8k\\test\\Masks\\Gall bladder\\video20\\video20_03260\\3289.jpg\n",
      "Looking for mask in: c:\\Users\\devan\\Downloads\\SAM2_Eval\\SAM2_Eval_Surgical_Datasets\\../Datasets\\CholecSeg8k\\test\\Masks\\Gastrointestinal Tract\\video20\\video20_03260\\3289.jpg\n",
      "Looking for mask in: c:\\Users\\devan\\Downloads\\SAM2_Eval\\SAM2_Eval_Surgical_Datasets\\../Datasets\\CholecSeg8k\\test\\Masks\\Grasper\\video20\\video20_03260\\3289.jpg\n",
      "Looking for mask in: c:\\Users\\devan\\Downloads\\SAM2_Eval\\SAM2_Eval_Surgical_Datasets\\../Datasets\\CholecSeg8k\\test\\Masks\\L-hook Electrocautery\\video20\\video20_03260\\3289.jpg\n",
      "Looking for mask in: c:\\Users\\devan\\Downloads\\SAM2_Eval\\SAM2_Eval_Surgical_Datasets\\../Datasets\\CholecSeg8k\\test\\Masks\\Liver\\video20\\video20_03260\\3289.jpg\n",
      "No matching mask found for frame: c:\\Users\\devan\\Downloads\\SAM2_Eval\\SAM2_Eval_Surgical_Datasets\\temp_jpg_frames\\3289.jpg\n",
      "Looking for mask in: c:\\Users\\devan\\Downloads\\SAM2_Eval\\SAM2_Eval_Surgical_Datasets\\../Datasets\\CholecSeg8k\\test\\Masks\\Abdominal Wall\\video20\\video20_03260\\3290.jpg\n",
      "Looking for mask in: c:\\Users\\devan\\Downloads\\SAM2_Eval\\SAM2_Eval_Surgical_Datasets\\../Datasets\\CholecSeg8k\\test\\Masks\\Fat\\video20\\video20_03260\\3290.jpg\n",
      "Looking for mask in: c:\\Users\\devan\\Downloads\\SAM2_Eval\\SAM2_Eval_Surgical_Datasets\\../Datasets\\CholecSeg8k\\test\\Masks\\Gall bladder\\video20\\video20_03260\\3290.jpg\n",
      "Looking for mask in: c:\\Users\\devan\\Downloads\\SAM2_Eval\\SAM2_Eval_Surgical_Datasets\\../Datasets\\CholecSeg8k\\test\\Masks\\Gastrointestinal Tract\\video20\\video20_03260\\3290.jpg\n",
      "Looking for mask in: c:\\Users\\devan\\Downloads\\SAM2_Eval\\SAM2_Eval_Surgical_Datasets\\../Datasets\\CholecSeg8k\\test\\Masks\\Grasper\\video20\\video20_03260\\3290.jpg\n",
      "Looking for mask in: c:\\Users\\devan\\Downloads\\SAM2_Eval\\SAM2_Eval_Surgical_Datasets\\../Datasets\\CholecSeg8k\\test\\Masks\\L-hook Electrocautery\\video20\\video20_03260\\3290.jpg\n",
      "Looking for mask in: c:\\Users\\devan\\Downloads\\SAM2_Eval\\SAM2_Eval_Surgical_Datasets\\../Datasets\\CholecSeg8k\\test\\Masks\\Liver\\video20\\video20_03260\\3290.jpg\n",
      "No matching mask found for frame: c:\\Users\\devan\\Downloads\\SAM2_Eval\\SAM2_Eval_Surgical_Datasets\\temp_jpg_frames\\3290.jpg\n",
      "Looking for mask in: c:\\Users\\devan\\Downloads\\SAM2_Eval\\SAM2_Eval_Surgical_Datasets\\../Datasets\\CholecSeg8k\\test\\Masks\\Abdominal Wall\\video20\\video20_03260\\3291.jpg\n",
      "Looking for mask in: c:\\Users\\devan\\Downloads\\SAM2_Eval\\SAM2_Eval_Surgical_Datasets\\../Datasets\\CholecSeg8k\\test\\Masks\\Fat\\video20\\video20_03260\\3291.jpg\n",
      "Looking for mask in: c:\\Users\\devan\\Downloads\\SAM2_Eval\\SAM2_Eval_Surgical_Datasets\\../Datasets\\CholecSeg8k\\test\\Masks\\Gall bladder\\video20\\video20_03260\\3291.jpg\n",
      "Looking for mask in: c:\\Users\\devan\\Downloads\\SAM2_Eval\\SAM2_Eval_Surgical_Datasets\\../Datasets\\CholecSeg8k\\test\\Masks\\Gastrointestinal Tract\\video20\\video20_03260\\3291.jpg\n",
      "Looking for mask in: c:\\Users\\devan\\Downloads\\SAM2_Eval\\SAM2_Eval_Surgical_Datasets\\../Datasets\\CholecSeg8k\\test\\Masks\\Grasper\\video20\\video20_03260\\3291.jpg\n",
      "Looking for mask in: c:\\Users\\devan\\Downloads\\SAM2_Eval\\SAM2_Eval_Surgical_Datasets\\../Datasets\\CholecSeg8k\\test\\Masks\\L-hook Electrocautery\\video20\\video20_03260\\3291.jpg\n",
      "Looking for mask in: c:\\Users\\devan\\Downloads\\SAM2_Eval\\SAM2_Eval_Surgical_Datasets\\../Datasets\\CholecSeg8k\\test\\Masks\\Liver\\video20\\video20_03260\\3291.jpg\n",
      "No matching mask found for frame: c:\\Users\\devan\\Downloads\\SAM2_Eval\\SAM2_Eval_Surgical_Datasets\\temp_jpg_frames\\3291.jpg\n",
      "Looking for mask in: c:\\Users\\devan\\Downloads\\SAM2_Eval\\SAM2_Eval_Surgical_Datasets\\../Datasets\\CholecSeg8k\\test\\Masks\\Abdominal Wall\\video20\\video20_03260\\3292.jpg\n",
      "Looking for mask in: c:\\Users\\devan\\Downloads\\SAM2_Eval\\SAM2_Eval_Surgical_Datasets\\../Datasets\\CholecSeg8k\\test\\Masks\\Fat\\video20\\video20_03260\\3292.jpg\n",
      "Looking for mask in: c:\\Users\\devan\\Downloads\\SAM2_Eval\\SAM2_Eval_Surgical_Datasets\\../Datasets\\CholecSeg8k\\test\\Masks\\Gall bladder\\video20\\video20_03260\\3292.jpg\n",
      "Looking for mask in: c:\\Users\\devan\\Downloads\\SAM2_Eval\\SAM2_Eval_Surgical_Datasets\\../Datasets\\CholecSeg8k\\test\\Masks\\Gastrointestinal Tract\\video20\\video20_03260\\3292.jpg\n",
      "Looking for mask in: c:\\Users\\devan\\Downloads\\SAM2_Eval\\SAM2_Eval_Surgical_Datasets\\../Datasets\\CholecSeg8k\\test\\Masks\\Grasper\\video20\\video20_03260\\3292.jpg\n",
      "Looking for mask in: c:\\Users\\devan\\Downloads\\SAM2_Eval\\SAM2_Eval_Surgical_Datasets\\../Datasets\\CholecSeg8k\\test\\Masks\\L-hook Electrocautery\\video20\\video20_03260\\3292.jpg\n",
      "Looking for mask in: c:\\Users\\devan\\Downloads\\SAM2_Eval\\SAM2_Eval_Surgical_Datasets\\../Datasets\\CholecSeg8k\\test\\Masks\\Liver\\video20\\video20_03260\\3292.jpg\n",
      "No matching mask found for frame: c:\\Users\\devan\\Downloads\\SAM2_Eval\\SAM2_Eval_Surgical_Datasets\\temp_jpg_frames\\3292.jpg\n",
      "Looking for mask in: c:\\Users\\devan\\Downloads\\SAM2_Eval\\SAM2_Eval_Surgical_Datasets\\../Datasets\\CholecSeg8k\\test\\Masks\\Abdominal Wall\\video20\\video20_03260\\3293.jpg\n",
      "Looking for mask in: c:\\Users\\devan\\Downloads\\SAM2_Eval\\SAM2_Eval_Surgical_Datasets\\../Datasets\\CholecSeg8k\\test\\Masks\\Fat\\video20\\video20_03260\\3293.jpg\n",
      "Looking for mask in: c:\\Users\\devan\\Downloads\\SAM2_Eval\\SAM2_Eval_Surgical_Datasets\\../Datasets\\CholecSeg8k\\test\\Masks\\Gall bladder\\video20\\video20_03260\\3293.jpg\n",
      "Looking for mask in: c:\\Users\\devan\\Downloads\\SAM2_Eval\\SAM2_Eval_Surgical_Datasets\\../Datasets\\CholecSeg8k\\test\\Masks\\Gastrointestinal Tract\\video20\\video20_03260\\3293.jpg\n",
      "Looking for mask in: c:\\Users\\devan\\Downloads\\SAM2_Eval\\SAM2_Eval_Surgical_Datasets\\../Datasets\\CholecSeg8k\\test\\Masks\\Grasper\\video20\\video20_03260\\3293.jpg\n",
      "Looking for mask in: c:\\Users\\devan\\Downloads\\SAM2_Eval\\SAM2_Eval_Surgical_Datasets\\../Datasets\\CholecSeg8k\\test\\Masks\\L-hook Electrocautery\\video20\\video20_03260\\3293.jpg\n",
      "Looking for mask in: c:\\Users\\devan\\Downloads\\SAM2_Eval\\SAM2_Eval_Surgical_Datasets\\../Datasets\\CholecSeg8k\\test\\Masks\\Liver\\video20\\video20_03260\\3293.jpg\n",
      "No matching mask found for frame: c:\\Users\\devan\\Downloads\\SAM2_Eval\\SAM2_Eval_Surgical_Datasets\\temp_jpg_frames\\3293.jpg\n",
      "Looking for mask in: c:\\Users\\devan\\Downloads\\SAM2_Eval\\SAM2_Eval_Surgical_Datasets\\../Datasets\\CholecSeg8k\\test\\Masks\\Abdominal Wall\\video20\\video20_03260\\3294.jpg\n",
      "Looking for mask in: c:\\Users\\devan\\Downloads\\SAM2_Eval\\SAM2_Eval_Surgical_Datasets\\../Datasets\\CholecSeg8k\\test\\Masks\\Fat\\video20\\video20_03260\\3294.jpg\n",
      "Looking for mask in: c:\\Users\\devan\\Downloads\\SAM2_Eval\\SAM2_Eval_Surgical_Datasets\\../Datasets\\CholecSeg8k\\test\\Masks\\Gall bladder\\video20\\video20_03260\\3294.jpg\n",
      "Looking for mask in: c:\\Users\\devan\\Downloads\\SAM2_Eval\\SAM2_Eval_Surgical_Datasets\\../Datasets\\CholecSeg8k\\test\\Masks\\Gastrointestinal Tract\\video20\\video20_03260\\3294.jpg\n",
      "Looking for mask in: c:\\Users\\devan\\Downloads\\SAM2_Eval\\SAM2_Eval_Surgical_Datasets\\../Datasets\\CholecSeg8k\\test\\Masks\\Grasper\\video20\\video20_03260\\3294.jpg\n",
      "Looking for mask in: c:\\Users\\devan\\Downloads\\SAM2_Eval\\SAM2_Eval_Surgical_Datasets\\../Datasets\\CholecSeg8k\\test\\Masks\\L-hook Electrocautery\\video20\\video20_03260\\3294.jpg\n",
      "Looking for mask in: c:\\Users\\devan\\Downloads\\SAM2_Eval\\SAM2_Eval_Surgical_Datasets\\../Datasets\\CholecSeg8k\\test\\Masks\\Liver\\video20\\video20_03260\\3294.jpg\n",
      "No matching mask found for frame: c:\\Users\\devan\\Downloads\\SAM2_Eval\\SAM2_Eval_Surgical_Datasets\\temp_jpg_frames\\3294.jpg\n",
      "Looking for mask in: c:\\Users\\devan\\Downloads\\SAM2_Eval\\SAM2_Eval_Surgical_Datasets\\../Datasets\\CholecSeg8k\\test\\Masks\\Abdominal Wall\\video20\\video20_03260\\3295.jpg\n",
      "Looking for mask in: c:\\Users\\devan\\Downloads\\SAM2_Eval\\SAM2_Eval_Surgical_Datasets\\../Datasets\\CholecSeg8k\\test\\Masks\\Fat\\video20\\video20_03260\\3295.jpg\n",
      "Looking for mask in: c:\\Users\\devan\\Downloads\\SAM2_Eval\\SAM2_Eval_Surgical_Datasets\\../Datasets\\CholecSeg8k\\test\\Masks\\Gall bladder\\video20\\video20_03260\\3295.jpg\n",
      "Looking for mask in: c:\\Users\\devan\\Downloads\\SAM2_Eval\\SAM2_Eval_Surgical_Datasets\\../Datasets\\CholecSeg8k\\test\\Masks\\Gastrointestinal Tract\\video20\\video20_03260\\3295.jpg\n",
      "Looking for mask in: c:\\Users\\devan\\Downloads\\SAM2_Eval\\SAM2_Eval_Surgical_Datasets\\../Datasets\\CholecSeg8k\\test\\Masks\\Grasper\\video20\\video20_03260\\3295.jpg\n",
      "Looking for mask in: c:\\Users\\devan\\Downloads\\SAM2_Eval\\SAM2_Eval_Surgical_Datasets\\../Datasets\\CholecSeg8k\\test\\Masks\\L-hook Electrocautery\\video20\\video20_03260\\3295.jpg\n",
      "Looking for mask in: c:\\Users\\devan\\Downloads\\SAM2_Eval\\SAM2_Eval_Surgical_Datasets\\../Datasets\\CholecSeg8k\\test\\Masks\\Liver\\video20\\video20_03260\\3295.jpg\n",
      "No matching mask found for frame: c:\\Users\\devan\\Downloads\\SAM2_Eval\\SAM2_Eval_Surgical_Datasets\\temp_jpg_frames\\3295.jpg\n",
      "Looking for mask in: c:\\Users\\devan\\Downloads\\SAM2_Eval\\SAM2_Eval_Surgical_Datasets\\../Datasets\\CholecSeg8k\\test\\Masks\\Abdominal Wall\\video20\\video20_03260\\3296.jpg\n",
      "Looking for mask in: c:\\Users\\devan\\Downloads\\SAM2_Eval\\SAM2_Eval_Surgical_Datasets\\../Datasets\\CholecSeg8k\\test\\Masks\\Fat\\video20\\video20_03260\\3296.jpg\n",
      "Looking for mask in: c:\\Users\\devan\\Downloads\\SAM2_Eval\\SAM2_Eval_Surgical_Datasets\\../Datasets\\CholecSeg8k\\test\\Masks\\Gall bladder\\video20\\video20_03260\\3296.jpg\n",
      "Looking for mask in: c:\\Users\\devan\\Downloads\\SAM2_Eval\\SAM2_Eval_Surgical_Datasets\\../Datasets\\CholecSeg8k\\test\\Masks\\Gastrointestinal Tract\\video20\\video20_03260\\3296.jpg\n",
      "Looking for mask in: c:\\Users\\devan\\Downloads\\SAM2_Eval\\SAM2_Eval_Surgical_Datasets\\../Datasets\\CholecSeg8k\\test\\Masks\\Grasper\\video20\\video20_03260\\3296.jpg\n",
      "Looking for mask in: c:\\Users\\devan\\Downloads\\SAM2_Eval\\SAM2_Eval_Surgical_Datasets\\../Datasets\\CholecSeg8k\\test\\Masks\\L-hook Electrocautery\\video20\\video20_03260\\3296.jpg\n",
      "Looking for mask in: c:\\Users\\devan\\Downloads\\SAM2_Eval\\SAM2_Eval_Surgical_Datasets\\../Datasets\\CholecSeg8k\\test\\Masks\\Liver\\video20\\video20_03260\\3296.jpg\n",
      "No matching mask found for frame: c:\\Users\\devan\\Downloads\\SAM2_Eval\\SAM2_Eval_Surgical_Datasets\\temp_jpg_frames\\3296.jpg\n",
      "Looking for mask in: c:\\Users\\devan\\Downloads\\SAM2_Eval\\SAM2_Eval_Surgical_Datasets\\../Datasets\\CholecSeg8k\\test\\Masks\\Abdominal Wall\\video20\\video20_03260\\3297.jpg\n",
      "Looking for mask in: c:\\Users\\devan\\Downloads\\SAM2_Eval\\SAM2_Eval_Surgical_Datasets\\../Datasets\\CholecSeg8k\\test\\Masks\\Fat\\video20\\video20_03260\\3297.jpg\n",
      "Looking for mask in: c:\\Users\\devan\\Downloads\\SAM2_Eval\\SAM2_Eval_Surgical_Datasets\\../Datasets\\CholecSeg8k\\test\\Masks\\Gall bladder\\video20\\video20_03260\\3297.jpg\n",
      "Looking for mask in: c:\\Users\\devan\\Downloads\\SAM2_Eval\\SAM2_Eval_Surgical_Datasets\\../Datasets\\CholecSeg8k\\test\\Masks\\Gastrointestinal Tract\\video20\\video20_03260\\3297.jpg\n",
      "Looking for mask in: c:\\Users\\devan\\Downloads\\SAM2_Eval\\SAM2_Eval_Surgical_Datasets\\../Datasets\\CholecSeg8k\\test\\Masks\\Grasper\\video20\\video20_03260\\3297.jpg\n",
      "Looking for mask in: c:\\Users\\devan\\Downloads\\SAM2_Eval\\SAM2_Eval_Surgical_Datasets\\../Datasets\\CholecSeg8k\\test\\Masks\\L-hook Electrocautery\\video20\\video20_03260\\3297.jpg\n",
      "Looking for mask in: c:\\Users\\devan\\Downloads\\SAM2_Eval\\SAM2_Eval_Surgical_Datasets\\../Datasets\\CholecSeg8k\\test\\Masks\\Liver\\video20\\video20_03260\\3297.jpg\n",
      "No matching mask found for frame: c:\\Users\\devan\\Downloads\\SAM2_Eval\\SAM2_Eval_Surgical_Datasets\\temp_jpg_frames\\3297.jpg\n",
      "Looking for mask in: c:\\Users\\devan\\Downloads\\SAM2_Eval\\SAM2_Eval_Surgical_Datasets\\../Datasets\\CholecSeg8k\\test\\Masks\\Abdominal Wall\\video20\\video20_03260\\3298.jpg\n",
      "Looking for mask in: c:\\Users\\devan\\Downloads\\SAM2_Eval\\SAM2_Eval_Surgical_Datasets\\../Datasets\\CholecSeg8k\\test\\Masks\\Fat\\video20\\video20_03260\\3298.jpg\n",
      "Looking for mask in: c:\\Users\\devan\\Downloads\\SAM2_Eval\\SAM2_Eval_Surgical_Datasets\\../Datasets\\CholecSeg8k\\test\\Masks\\Gall bladder\\video20\\video20_03260\\3298.jpg\n",
      "Looking for mask in: c:\\Users\\devan\\Downloads\\SAM2_Eval\\SAM2_Eval_Surgical_Datasets\\../Datasets\\CholecSeg8k\\test\\Masks\\Gastrointestinal Tract\\video20\\video20_03260\\3298.jpg\n",
      "Looking for mask in: c:\\Users\\devan\\Downloads\\SAM2_Eval\\SAM2_Eval_Surgical_Datasets\\../Datasets\\CholecSeg8k\\test\\Masks\\Grasper\\video20\\video20_03260\\3298.jpg\n",
      "Looking for mask in: c:\\Users\\devan\\Downloads\\SAM2_Eval\\SAM2_Eval_Surgical_Datasets\\../Datasets\\CholecSeg8k\\test\\Masks\\L-hook Electrocautery\\video20\\video20_03260\\3298.jpg\n",
      "Looking for mask in: c:\\Users\\devan\\Downloads\\SAM2_Eval\\SAM2_Eval_Surgical_Datasets\\../Datasets\\CholecSeg8k\\test\\Masks\\Liver\\video20\\video20_03260\\3298.jpg\n",
      "No matching mask found for frame: c:\\Users\\devan\\Downloads\\SAM2_Eval\\SAM2_Eval_Surgical_Datasets\\temp_jpg_frames\\3298.jpg\n",
      "Looking for mask in: c:\\Users\\devan\\Downloads\\SAM2_Eval\\SAM2_Eval_Surgical_Datasets\\../Datasets\\CholecSeg8k\\test\\Masks\\Abdominal Wall\\video20\\video20_03260\\3299.jpg\n",
      "Looking for mask in: c:\\Users\\devan\\Downloads\\SAM2_Eval\\SAM2_Eval_Surgical_Datasets\\../Datasets\\CholecSeg8k\\test\\Masks\\Fat\\video20\\video20_03260\\3299.jpg\n",
      "Looking for mask in: c:\\Users\\devan\\Downloads\\SAM2_Eval\\SAM2_Eval_Surgical_Datasets\\../Datasets\\CholecSeg8k\\test\\Masks\\Gall bladder\\video20\\video20_03260\\3299.jpg\n",
      "Looking for mask in: c:\\Users\\devan\\Downloads\\SAM2_Eval\\SAM2_Eval_Surgical_Datasets\\../Datasets\\CholecSeg8k\\test\\Masks\\Gastrointestinal Tract\\video20\\video20_03260\\3299.jpg\n",
      "Looking for mask in: c:\\Users\\devan\\Downloads\\SAM2_Eval\\SAM2_Eval_Surgical_Datasets\\../Datasets\\CholecSeg8k\\test\\Masks\\Grasper\\video20\\video20_03260\\3299.jpg\n",
      "Looking for mask in: c:\\Users\\devan\\Downloads\\SAM2_Eval\\SAM2_Eval_Surgical_Datasets\\../Datasets\\CholecSeg8k\\test\\Masks\\L-hook Electrocautery\\video20\\video20_03260\\3299.jpg\n",
      "Looking for mask in: c:\\Users\\devan\\Downloads\\SAM2_Eval\\SAM2_Eval_Surgical_Datasets\\../Datasets\\CholecSeg8k\\test\\Masks\\Liver\\video20\\video20_03260\\3299.jpg\n",
      "No matching mask found for frame: c:\\Users\\devan\\Downloads\\SAM2_Eval\\SAM2_Eval_Surgical_Datasets\\temp_jpg_frames\\3299.jpg\n",
      "Looking for mask in: c:\\Users\\devan\\Downloads\\SAM2_Eval\\SAM2_Eval_Surgical_Datasets\\../Datasets\\CholecSeg8k\\test\\Masks\\Abdominal Wall\\video20\\video20_03260\\3300.jpg\n",
      "Looking for mask in: c:\\Users\\devan\\Downloads\\SAM2_Eval\\SAM2_Eval_Surgical_Datasets\\../Datasets\\CholecSeg8k\\test\\Masks\\Fat\\video20\\video20_03260\\3300.jpg\n",
      "Looking for mask in: c:\\Users\\devan\\Downloads\\SAM2_Eval\\SAM2_Eval_Surgical_Datasets\\../Datasets\\CholecSeg8k\\test\\Masks\\Gall bladder\\video20\\video20_03260\\3300.jpg\n",
      "Looking for mask in: c:\\Users\\devan\\Downloads\\SAM2_Eval\\SAM2_Eval_Surgical_Datasets\\../Datasets\\CholecSeg8k\\test\\Masks\\Gastrointestinal Tract\\video20\\video20_03260\\3300.jpg\n",
      "Looking for mask in: c:\\Users\\devan\\Downloads\\SAM2_Eval\\SAM2_Eval_Surgical_Datasets\\../Datasets\\CholecSeg8k\\test\\Masks\\Grasper\\video20\\video20_03260\\3300.jpg\n",
      "Looking for mask in: c:\\Users\\devan\\Downloads\\SAM2_Eval\\SAM2_Eval_Surgical_Datasets\\../Datasets\\CholecSeg8k\\test\\Masks\\L-hook Electrocautery\\video20\\video20_03260\\3300.jpg\n",
      "Looking for mask in: c:\\Users\\devan\\Downloads\\SAM2_Eval\\SAM2_Eval_Surgical_Datasets\\../Datasets\\CholecSeg8k\\test\\Masks\\Liver\\video20\\video20_03260\\3300.jpg\n",
      "No matching mask found for frame: c:\\Users\\devan\\Downloads\\SAM2_Eval\\SAM2_Eval_Surgical_Datasets\\temp_jpg_frames\\3300.jpg\n",
      "Looking for mask in: c:\\Users\\devan\\Downloads\\SAM2_Eval\\SAM2_Eval_Surgical_Datasets\\../Datasets\\CholecSeg8k\\test\\Masks\\Abdominal Wall\\video20\\video20_03260\\3301.jpg\n",
      "Looking for mask in: c:\\Users\\devan\\Downloads\\SAM2_Eval\\SAM2_Eval_Surgical_Datasets\\../Datasets\\CholecSeg8k\\test\\Masks\\Fat\\video20\\video20_03260\\3301.jpg\n",
      "Looking for mask in: c:\\Users\\devan\\Downloads\\SAM2_Eval\\SAM2_Eval_Surgical_Datasets\\../Datasets\\CholecSeg8k\\test\\Masks\\Gall bladder\\video20\\video20_03260\\3301.jpg\n",
      "Looking for mask in: c:\\Users\\devan\\Downloads\\SAM2_Eval\\SAM2_Eval_Surgical_Datasets\\../Datasets\\CholecSeg8k\\test\\Masks\\Gastrointestinal Tract\\video20\\video20_03260\\3301.jpg\n",
      "Looking for mask in: c:\\Users\\devan\\Downloads\\SAM2_Eval\\SAM2_Eval_Surgical_Datasets\\../Datasets\\CholecSeg8k\\test\\Masks\\Grasper\\video20\\video20_03260\\3301.jpg\n",
      "Looking for mask in: c:\\Users\\devan\\Downloads\\SAM2_Eval\\SAM2_Eval_Surgical_Datasets\\../Datasets\\CholecSeg8k\\test\\Masks\\L-hook Electrocautery\\video20\\video20_03260\\3301.jpg\n",
      "Looking for mask in: c:\\Users\\devan\\Downloads\\SAM2_Eval\\SAM2_Eval_Surgical_Datasets\\../Datasets\\CholecSeg8k\\test\\Masks\\Liver\\video20\\video20_03260\\3301.jpg\n",
      "No matching mask found for frame: c:\\Users\\devan\\Downloads\\SAM2_Eval\\SAM2_Eval_Surgical_Datasets\\temp_jpg_frames\\3301.jpg\n",
      "Looking for mask in: c:\\Users\\devan\\Downloads\\SAM2_Eval\\SAM2_Eval_Surgical_Datasets\\../Datasets\\CholecSeg8k\\test\\Masks\\Abdominal Wall\\video20\\video20_03260\\3302.jpg\n",
      "Looking for mask in: c:\\Users\\devan\\Downloads\\SAM2_Eval\\SAM2_Eval_Surgical_Datasets\\../Datasets\\CholecSeg8k\\test\\Masks\\Fat\\video20\\video20_03260\\3302.jpg\n",
      "Looking for mask in: c:\\Users\\devan\\Downloads\\SAM2_Eval\\SAM2_Eval_Surgical_Datasets\\../Datasets\\CholecSeg8k\\test\\Masks\\Gall bladder\\video20\\video20_03260\\3302.jpg\n",
      "Looking for mask in: c:\\Users\\devan\\Downloads\\SAM2_Eval\\SAM2_Eval_Surgical_Datasets\\../Datasets\\CholecSeg8k\\test\\Masks\\Gastrointestinal Tract\\video20\\video20_03260\\3302.jpg\n",
      "Looking for mask in: c:\\Users\\devan\\Downloads\\SAM2_Eval\\SAM2_Eval_Surgical_Datasets\\../Datasets\\CholecSeg8k\\test\\Masks\\Grasper\\video20\\video20_03260\\3302.jpg\n",
      "Looking for mask in: c:\\Users\\devan\\Downloads\\SAM2_Eval\\SAM2_Eval_Surgical_Datasets\\../Datasets\\CholecSeg8k\\test\\Masks\\L-hook Electrocautery\\video20\\video20_03260\\3302.jpg\n",
      "Looking for mask in: c:\\Users\\devan\\Downloads\\SAM2_Eval\\SAM2_Eval_Surgical_Datasets\\../Datasets\\CholecSeg8k\\test\\Masks\\Liver\\video20\\video20_03260\\3302.jpg\n",
      "No matching mask found for frame: c:\\Users\\devan\\Downloads\\SAM2_Eval\\SAM2_Eval_Surgical_Datasets\\temp_jpg_frames\\3302.jpg\n",
      "Looking for mask in: c:\\Users\\devan\\Downloads\\SAM2_Eval\\SAM2_Eval_Surgical_Datasets\\../Datasets\\CholecSeg8k\\test\\Masks\\Abdominal Wall\\video20\\video20_03260\\3303.jpg\n",
      "Looking for mask in: c:\\Users\\devan\\Downloads\\SAM2_Eval\\SAM2_Eval_Surgical_Datasets\\../Datasets\\CholecSeg8k\\test\\Masks\\Fat\\video20\\video20_03260\\3303.jpg\n",
      "Looking for mask in: c:\\Users\\devan\\Downloads\\SAM2_Eval\\SAM2_Eval_Surgical_Datasets\\../Datasets\\CholecSeg8k\\test\\Masks\\Gall bladder\\video20\\video20_03260\\3303.jpg\n",
      "Looking for mask in: c:\\Users\\devan\\Downloads\\SAM2_Eval\\SAM2_Eval_Surgical_Datasets\\../Datasets\\CholecSeg8k\\test\\Masks\\Gastrointestinal Tract\\video20\\video20_03260\\3303.jpg\n",
      "Looking for mask in: c:\\Users\\devan\\Downloads\\SAM2_Eval\\SAM2_Eval_Surgical_Datasets\\../Datasets\\CholecSeg8k\\test\\Masks\\Grasper\\video20\\video20_03260\\3303.jpg\n",
      "Looking for mask in: c:\\Users\\devan\\Downloads\\SAM2_Eval\\SAM2_Eval_Surgical_Datasets\\../Datasets\\CholecSeg8k\\test\\Masks\\L-hook Electrocautery\\video20\\video20_03260\\3303.jpg\n",
      "Looking for mask in: c:\\Users\\devan\\Downloads\\SAM2_Eval\\SAM2_Eval_Surgical_Datasets\\../Datasets\\CholecSeg8k\\test\\Masks\\Liver\\video20\\video20_03260\\3303.jpg\n",
      "No matching mask found for frame: c:\\Users\\devan\\Downloads\\SAM2_Eval\\SAM2_Eval_Surgical_Datasets\\temp_jpg_frames\\3303.jpg\n",
      "Looking for mask in: c:\\Users\\devan\\Downloads\\SAM2_Eval\\SAM2_Eval_Surgical_Datasets\\../Datasets\\CholecSeg8k\\test\\Masks\\Abdominal Wall\\video20\\video20_03260\\3304.jpg\n",
      "Looking for mask in: c:\\Users\\devan\\Downloads\\SAM2_Eval\\SAM2_Eval_Surgical_Datasets\\../Datasets\\CholecSeg8k\\test\\Masks\\Fat\\video20\\video20_03260\\3304.jpg\n",
      "Looking for mask in: c:\\Users\\devan\\Downloads\\SAM2_Eval\\SAM2_Eval_Surgical_Datasets\\../Datasets\\CholecSeg8k\\test\\Masks\\Gall bladder\\video20\\video20_03260\\3304.jpg\n",
      "Looking for mask in: c:\\Users\\devan\\Downloads\\SAM2_Eval\\SAM2_Eval_Surgical_Datasets\\../Datasets\\CholecSeg8k\\test\\Masks\\Gastrointestinal Tract\\video20\\video20_03260\\3304.jpg\n",
      "Looking for mask in: c:\\Users\\devan\\Downloads\\SAM2_Eval\\SAM2_Eval_Surgical_Datasets\\../Datasets\\CholecSeg8k\\test\\Masks\\Grasper\\video20\\video20_03260\\3304.jpg\n",
      "Looking for mask in: c:\\Users\\devan\\Downloads\\SAM2_Eval\\SAM2_Eval_Surgical_Datasets\\../Datasets\\CholecSeg8k\\test\\Masks\\L-hook Electrocautery\\video20\\video20_03260\\3304.jpg\n",
      "Looking for mask in: c:\\Users\\devan\\Downloads\\SAM2_Eval\\SAM2_Eval_Surgical_Datasets\\../Datasets\\CholecSeg8k\\test\\Masks\\Liver\\video20\\video20_03260\\3304.jpg\n",
      "No matching mask found for frame: c:\\Users\\devan\\Downloads\\SAM2_Eval\\SAM2_Eval_Surgical_Datasets\\temp_jpg_frames\\3304.jpg\n",
      "Looking for mask in: c:\\Users\\devan\\Downloads\\SAM2_Eval\\SAM2_Eval_Surgical_Datasets\\../Datasets\\CholecSeg8k\\test\\Masks\\Abdominal Wall\\video20\\video20_03260\\3305.jpg\n",
      "Looking for mask in: c:\\Users\\devan\\Downloads\\SAM2_Eval\\SAM2_Eval_Surgical_Datasets\\../Datasets\\CholecSeg8k\\test\\Masks\\Fat\\video20\\video20_03260\\3305.jpg\n",
      "Looking for mask in: c:\\Users\\devan\\Downloads\\SAM2_Eval\\SAM2_Eval_Surgical_Datasets\\../Datasets\\CholecSeg8k\\test\\Masks\\Gall bladder\\video20\\video20_03260\\3305.jpg\n",
      "Looking for mask in: c:\\Users\\devan\\Downloads\\SAM2_Eval\\SAM2_Eval_Surgical_Datasets\\../Datasets\\CholecSeg8k\\test\\Masks\\Gastrointestinal Tract\\video20\\video20_03260\\3305.jpg\n",
      "Looking for mask in: c:\\Users\\devan\\Downloads\\SAM2_Eval\\SAM2_Eval_Surgical_Datasets\\../Datasets\\CholecSeg8k\\test\\Masks\\Grasper\\video20\\video20_03260\\3305.jpg\n",
      "Looking for mask in: c:\\Users\\devan\\Downloads\\SAM2_Eval\\SAM2_Eval_Surgical_Datasets\\../Datasets\\CholecSeg8k\\test\\Masks\\L-hook Electrocautery\\video20\\video20_03260\\3305.jpg\n",
      "Looking for mask in: c:\\Users\\devan\\Downloads\\SAM2_Eval\\SAM2_Eval_Surgical_Datasets\\../Datasets\\CholecSeg8k\\test\\Masks\\Liver\\video20\\video20_03260\\3305.jpg\n",
      "No matching mask found for frame: c:\\Users\\devan\\Downloads\\SAM2_Eval\\SAM2_Eval_Surgical_Datasets\\temp_jpg_frames\\3305.jpg\n",
      "Looking for mask in: c:\\Users\\devan\\Downloads\\SAM2_Eval\\SAM2_Eval_Surgical_Datasets\\../Datasets\\CholecSeg8k\\test\\Masks\\Abdominal Wall\\video20\\video20_03260\\3306.jpg\n",
      "Looking for mask in: c:\\Users\\devan\\Downloads\\SAM2_Eval\\SAM2_Eval_Surgical_Datasets\\../Datasets\\CholecSeg8k\\test\\Masks\\Fat\\video20\\video20_03260\\3306.jpg\n",
      "Looking for mask in: c:\\Users\\devan\\Downloads\\SAM2_Eval\\SAM2_Eval_Surgical_Datasets\\../Datasets\\CholecSeg8k\\test\\Masks\\Gall bladder\\video20\\video20_03260\\3306.jpg\n",
      "Looking for mask in: c:\\Users\\devan\\Downloads\\SAM2_Eval\\SAM2_Eval_Surgical_Datasets\\../Datasets\\CholecSeg8k\\test\\Masks\\Gastrointestinal Tract\\video20\\video20_03260\\3306.jpg\n",
      "Looking for mask in: c:\\Users\\devan\\Downloads\\SAM2_Eval\\SAM2_Eval_Surgical_Datasets\\../Datasets\\CholecSeg8k\\test\\Masks\\Grasper\\video20\\video20_03260\\3306.jpg\n",
      "Looking for mask in: c:\\Users\\devan\\Downloads\\SAM2_Eval\\SAM2_Eval_Surgical_Datasets\\../Datasets\\CholecSeg8k\\test\\Masks\\L-hook Electrocautery\\video20\\video20_03260\\3306.jpg\n",
      "Looking for mask in: c:\\Users\\devan\\Downloads\\SAM2_Eval\\SAM2_Eval_Surgical_Datasets\\../Datasets\\CholecSeg8k\\test\\Masks\\Liver\\video20\\video20_03260\\3306.jpg\n",
      "No matching mask found for frame: c:\\Users\\devan\\Downloads\\SAM2_Eval\\SAM2_Eval_Surgical_Datasets\\temp_jpg_frames\\3306.jpg\n",
      "Looking for mask in: c:\\Users\\devan\\Downloads\\SAM2_Eval\\SAM2_Eval_Surgical_Datasets\\../Datasets\\CholecSeg8k\\test\\Masks\\Abdominal Wall\\video20\\video20_03260\\3307.jpg\n",
      "Looking for mask in: c:\\Users\\devan\\Downloads\\SAM2_Eval\\SAM2_Eval_Surgical_Datasets\\../Datasets\\CholecSeg8k\\test\\Masks\\Fat\\video20\\video20_03260\\3307.jpg\n",
      "Looking for mask in: c:\\Users\\devan\\Downloads\\SAM2_Eval\\SAM2_Eval_Surgical_Datasets\\../Datasets\\CholecSeg8k\\test\\Masks\\Gall bladder\\video20\\video20_03260\\3307.jpg\n",
      "Looking for mask in: c:\\Users\\devan\\Downloads\\SAM2_Eval\\SAM2_Eval_Surgical_Datasets\\../Datasets\\CholecSeg8k\\test\\Masks\\Gastrointestinal Tract\\video20\\video20_03260\\3307.jpg\n",
      "Looking for mask in: c:\\Users\\devan\\Downloads\\SAM2_Eval\\SAM2_Eval_Surgical_Datasets\\../Datasets\\CholecSeg8k\\test\\Masks\\Grasper\\video20\\video20_03260\\3307.jpg\n",
      "Looking for mask in: c:\\Users\\devan\\Downloads\\SAM2_Eval\\SAM2_Eval_Surgical_Datasets\\../Datasets\\CholecSeg8k\\test\\Masks\\L-hook Electrocautery\\video20\\video20_03260\\3307.jpg\n",
      "Looking for mask in: c:\\Users\\devan\\Downloads\\SAM2_Eval\\SAM2_Eval_Surgical_Datasets\\../Datasets\\CholecSeg8k\\test\\Masks\\Liver\\video20\\video20_03260\\3307.jpg\n",
      "No matching mask found for frame: c:\\Users\\devan\\Downloads\\SAM2_Eval\\SAM2_Eval_Surgical_Datasets\\temp_jpg_frames\\3307.jpg\n",
      "Looking for mask in: c:\\Users\\devan\\Downloads\\SAM2_Eval\\SAM2_Eval_Surgical_Datasets\\../Datasets\\CholecSeg8k\\test\\Masks\\Abdominal Wall\\video20\\video20_03260\\3308.jpg\n",
      "Looking for mask in: c:\\Users\\devan\\Downloads\\SAM2_Eval\\SAM2_Eval_Surgical_Datasets\\../Datasets\\CholecSeg8k\\test\\Masks\\Fat\\video20\\video20_03260\\3308.jpg\n",
      "Looking for mask in: c:\\Users\\devan\\Downloads\\SAM2_Eval\\SAM2_Eval_Surgical_Datasets\\../Datasets\\CholecSeg8k\\test\\Masks\\Gall bladder\\video20\\video20_03260\\3308.jpg\n",
      "Looking for mask in: c:\\Users\\devan\\Downloads\\SAM2_Eval\\SAM2_Eval_Surgical_Datasets\\../Datasets\\CholecSeg8k\\test\\Masks\\Gastrointestinal Tract\\video20\\video20_03260\\3308.jpg\n",
      "Looking for mask in: c:\\Users\\devan\\Downloads\\SAM2_Eval\\SAM2_Eval_Surgical_Datasets\\../Datasets\\CholecSeg8k\\test\\Masks\\Grasper\\video20\\video20_03260\\3308.jpg\n",
      "Looking for mask in: c:\\Users\\devan\\Downloads\\SAM2_Eval\\SAM2_Eval_Surgical_Datasets\\../Datasets\\CholecSeg8k\\test\\Masks\\L-hook Electrocautery\\video20\\video20_03260\\3308.jpg\n",
      "Looking for mask in: c:\\Users\\devan\\Downloads\\SAM2_Eval\\SAM2_Eval_Surgical_Datasets\\../Datasets\\CholecSeg8k\\test\\Masks\\Liver\\video20\\video20_03260\\3308.jpg\n",
      "No matching mask found for frame: c:\\Users\\devan\\Downloads\\SAM2_Eval\\SAM2_Eval_Surgical_Datasets\\temp_jpg_frames\\3308.jpg\n",
      "Looking for mask in: c:\\Users\\devan\\Downloads\\SAM2_Eval\\SAM2_Eval_Surgical_Datasets\\../Datasets\\CholecSeg8k\\test\\Masks\\Abdominal Wall\\video20\\video20_03260\\3309.jpg\n",
      "Looking for mask in: c:\\Users\\devan\\Downloads\\SAM2_Eval\\SAM2_Eval_Surgical_Datasets\\../Datasets\\CholecSeg8k\\test\\Masks\\Fat\\video20\\video20_03260\\3309.jpg\n",
      "Looking for mask in: c:\\Users\\devan\\Downloads\\SAM2_Eval\\SAM2_Eval_Surgical_Datasets\\../Datasets\\CholecSeg8k\\test\\Masks\\Gall bladder\\video20\\video20_03260\\3309.jpg\n",
      "Looking for mask in: c:\\Users\\devan\\Downloads\\SAM2_Eval\\SAM2_Eval_Surgical_Datasets\\../Datasets\\CholecSeg8k\\test\\Masks\\Gastrointestinal Tract\\video20\\video20_03260\\3309.jpg\n",
      "Looking for mask in: c:\\Users\\devan\\Downloads\\SAM2_Eval\\SAM2_Eval_Surgical_Datasets\\../Datasets\\CholecSeg8k\\test\\Masks\\Grasper\\video20\\video20_03260\\3309.jpg\n",
      "Looking for mask in: c:\\Users\\devan\\Downloads\\SAM2_Eval\\SAM2_Eval_Surgical_Datasets\\../Datasets\\CholecSeg8k\\test\\Masks\\L-hook Electrocautery\\video20\\video20_03260\\3309.jpg\n",
      "Looking for mask in: c:\\Users\\devan\\Downloads\\SAM2_Eval\\SAM2_Eval_Surgical_Datasets\\../Datasets\\CholecSeg8k\\test\\Masks\\Liver\\video20\\video20_03260\\3309.jpg\n",
      "No matching mask found for frame: c:\\Users\\devan\\Downloads\\SAM2_Eval\\SAM2_Eval_Surgical_Datasets\\temp_jpg_frames\\3309.jpg\n",
      "Looking for mask in: c:\\Users\\devan\\Downloads\\SAM2_Eval\\SAM2_Eval_Surgical_Datasets\\../Datasets\\CholecSeg8k\\test\\Masks\\Abdominal Wall\\video20\\video20_03260\\3310.jpg\n",
      "Looking for mask in: c:\\Users\\devan\\Downloads\\SAM2_Eval\\SAM2_Eval_Surgical_Datasets\\../Datasets\\CholecSeg8k\\test\\Masks\\Fat\\video20\\video20_03260\\3310.jpg\n",
      "Looking for mask in: c:\\Users\\devan\\Downloads\\SAM2_Eval\\SAM2_Eval_Surgical_Datasets\\../Datasets\\CholecSeg8k\\test\\Masks\\Gall bladder\\video20\\video20_03260\\3310.jpg\n",
      "Looking for mask in: c:\\Users\\devan\\Downloads\\SAM2_Eval\\SAM2_Eval_Surgical_Datasets\\../Datasets\\CholecSeg8k\\test\\Masks\\Gastrointestinal Tract\\video20\\video20_03260\\3310.jpg\n",
      "Looking for mask in: c:\\Users\\devan\\Downloads\\SAM2_Eval\\SAM2_Eval_Surgical_Datasets\\../Datasets\\CholecSeg8k\\test\\Masks\\Grasper\\video20\\video20_03260\\3310.jpg\n",
      "Looking for mask in: c:\\Users\\devan\\Downloads\\SAM2_Eval\\SAM2_Eval_Surgical_Datasets\\../Datasets\\CholecSeg8k\\test\\Masks\\L-hook Electrocautery\\video20\\video20_03260\\3310.jpg\n",
      "Looking for mask in: c:\\Users\\devan\\Downloads\\SAM2_Eval\\SAM2_Eval_Surgical_Datasets\\../Datasets\\CholecSeg8k\\test\\Masks\\Liver\\video20\\video20_03260\\3310.jpg\n",
      "No matching mask found for frame: c:\\Users\\devan\\Downloads\\SAM2_Eval\\SAM2_Eval_Surgical_Datasets\\temp_jpg_frames\\3310.jpg\n",
      "Looking for mask in: c:\\Users\\devan\\Downloads\\SAM2_Eval\\SAM2_Eval_Surgical_Datasets\\../Datasets\\CholecSeg8k\\test\\Masks\\Abdominal Wall\\video20\\video20_03260\\3311.jpg\n",
      "Looking for mask in: c:\\Users\\devan\\Downloads\\SAM2_Eval\\SAM2_Eval_Surgical_Datasets\\../Datasets\\CholecSeg8k\\test\\Masks\\Fat\\video20\\video20_03260\\3311.jpg\n",
      "Looking for mask in: c:\\Users\\devan\\Downloads\\SAM2_Eval\\SAM2_Eval_Surgical_Datasets\\../Datasets\\CholecSeg8k\\test\\Masks\\Gall bladder\\video20\\video20_03260\\3311.jpg\n",
      "Looking for mask in: c:\\Users\\devan\\Downloads\\SAM2_Eval\\SAM2_Eval_Surgical_Datasets\\../Datasets\\CholecSeg8k\\test\\Masks\\Gastrointestinal Tract\\video20\\video20_03260\\3311.jpg\n",
      "Looking for mask in: c:\\Users\\devan\\Downloads\\SAM2_Eval\\SAM2_Eval_Surgical_Datasets\\../Datasets\\CholecSeg8k\\test\\Masks\\Grasper\\video20\\video20_03260\\3311.jpg\n",
      "Looking for mask in: c:\\Users\\devan\\Downloads\\SAM2_Eval\\SAM2_Eval_Surgical_Datasets\\../Datasets\\CholecSeg8k\\test\\Masks\\L-hook Electrocautery\\video20\\video20_03260\\3311.jpg\n",
      "Looking for mask in: c:\\Users\\devan\\Downloads\\SAM2_Eval\\SAM2_Eval_Surgical_Datasets\\../Datasets\\CholecSeg8k\\test\\Masks\\Liver\\video20\\video20_03260\\3311.jpg\n",
      "No matching mask found for frame: c:\\Users\\devan\\Downloads\\SAM2_Eval\\SAM2_Eval_Surgical_Datasets\\temp_jpg_frames\\3311.jpg\n",
      "Looking for mask in: c:\\Users\\devan\\Downloads\\SAM2_Eval\\SAM2_Eval_Surgical_Datasets\\../Datasets\\CholecSeg8k\\test\\Masks\\Abdominal Wall\\video20\\video20_03260\\3312.jpg\n",
      "Looking for mask in: c:\\Users\\devan\\Downloads\\SAM2_Eval\\SAM2_Eval_Surgical_Datasets\\../Datasets\\CholecSeg8k\\test\\Masks\\Fat\\video20\\video20_03260\\3312.jpg\n",
      "Looking for mask in: c:\\Users\\devan\\Downloads\\SAM2_Eval\\SAM2_Eval_Surgical_Datasets\\../Datasets\\CholecSeg8k\\test\\Masks\\Gall bladder\\video20\\video20_03260\\3312.jpg\n",
      "Looking for mask in: c:\\Users\\devan\\Downloads\\SAM2_Eval\\SAM2_Eval_Surgical_Datasets\\../Datasets\\CholecSeg8k\\test\\Masks\\Gastrointestinal Tract\\video20\\video20_03260\\3312.jpg\n",
      "Looking for mask in: c:\\Users\\devan\\Downloads\\SAM2_Eval\\SAM2_Eval_Surgical_Datasets\\../Datasets\\CholecSeg8k\\test\\Masks\\Grasper\\video20\\video20_03260\\3312.jpg\n",
      "Looking for mask in: c:\\Users\\devan\\Downloads\\SAM2_Eval\\SAM2_Eval_Surgical_Datasets\\../Datasets\\CholecSeg8k\\test\\Masks\\L-hook Electrocautery\\video20\\video20_03260\\3312.jpg\n",
      "Looking for mask in: c:\\Users\\devan\\Downloads\\SAM2_Eval\\SAM2_Eval_Surgical_Datasets\\../Datasets\\CholecSeg8k\\test\\Masks\\Liver\\video20\\video20_03260\\3312.jpg\n",
      "No matching mask found for frame: c:\\Users\\devan\\Downloads\\SAM2_Eval\\SAM2_Eval_Surgical_Datasets\\temp_jpg_frames\\3312.jpg\n",
      "Looking for mask in: c:\\Users\\devan\\Downloads\\SAM2_Eval\\SAM2_Eval_Surgical_Datasets\\../Datasets\\CholecSeg8k\\test\\Masks\\Abdominal Wall\\video20\\video20_03260\\3313.jpg\n",
      "Looking for mask in: c:\\Users\\devan\\Downloads\\SAM2_Eval\\SAM2_Eval_Surgical_Datasets\\../Datasets\\CholecSeg8k\\test\\Masks\\Fat\\video20\\video20_03260\\3313.jpg\n",
      "Looking for mask in: c:\\Users\\devan\\Downloads\\SAM2_Eval\\SAM2_Eval_Surgical_Datasets\\../Datasets\\CholecSeg8k\\test\\Masks\\Gall bladder\\video20\\video20_03260\\3313.jpg\n",
      "Looking for mask in: c:\\Users\\devan\\Downloads\\SAM2_Eval\\SAM2_Eval_Surgical_Datasets\\../Datasets\\CholecSeg8k\\test\\Masks\\Gastrointestinal Tract\\video20\\video20_03260\\3313.jpg\n",
      "Looking for mask in: c:\\Users\\devan\\Downloads\\SAM2_Eval\\SAM2_Eval_Surgical_Datasets\\../Datasets\\CholecSeg8k\\test\\Masks\\Grasper\\video20\\video20_03260\\3313.jpg\n",
      "Looking for mask in: c:\\Users\\devan\\Downloads\\SAM2_Eval\\SAM2_Eval_Surgical_Datasets\\../Datasets\\CholecSeg8k\\test\\Masks\\L-hook Electrocautery\\video20\\video20_03260\\3313.jpg\n",
      "Looking for mask in: c:\\Users\\devan\\Downloads\\SAM2_Eval\\SAM2_Eval_Surgical_Datasets\\../Datasets\\CholecSeg8k\\test\\Masks\\Liver\\video20\\video20_03260\\3313.jpg\n",
      "No matching mask found for frame: c:\\Users\\devan\\Downloads\\SAM2_Eval\\SAM2_Eval_Surgical_Datasets\\temp_jpg_frames\\3313.jpg\n",
      "Looking for mask in: c:\\Users\\devan\\Downloads\\SAM2_Eval\\SAM2_Eval_Surgical_Datasets\\../Datasets\\CholecSeg8k\\test\\Masks\\Abdominal Wall\\video20\\video20_03260\\3314.jpg\n",
      "Looking for mask in: c:\\Users\\devan\\Downloads\\SAM2_Eval\\SAM2_Eval_Surgical_Datasets\\../Datasets\\CholecSeg8k\\test\\Masks\\Fat\\video20\\video20_03260\\3314.jpg\n",
      "Looking for mask in: c:\\Users\\devan\\Downloads\\SAM2_Eval\\SAM2_Eval_Surgical_Datasets\\../Datasets\\CholecSeg8k\\test\\Masks\\Gall bladder\\video20\\video20_03260\\3314.jpg\n",
      "Looking for mask in: c:\\Users\\devan\\Downloads\\SAM2_Eval\\SAM2_Eval_Surgical_Datasets\\../Datasets\\CholecSeg8k\\test\\Masks\\Gastrointestinal Tract\\video20\\video20_03260\\3314.jpg\n",
      "Looking for mask in: c:\\Users\\devan\\Downloads\\SAM2_Eval\\SAM2_Eval_Surgical_Datasets\\../Datasets\\CholecSeg8k\\test\\Masks\\Grasper\\video20\\video20_03260\\3314.jpg\n",
      "Looking for mask in: c:\\Users\\devan\\Downloads\\SAM2_Eval\\SAM2_Eval_Surgical_Datasets\\../Datasets\\CholecSeg8k\\test\\Masks\\L-hook Electrocautery\\video20\\video20_03260\\3314.jpg\n",
      "Looking for mask in: c:\\Users\\devan\\Downloads\\SAM2_Eval\\SAM2_Eval_Surgical_Datasets\\../Datasets\\CholecSeg8k\\test\\Masks\\Liver\\video20\\video20_03260\\3314.jpg\n",
      "No matching mask found for frame: c:\\Users\\devan\\Downloads\\SAM2_Eval\\SAM2_Eval_Surgical_Datasets\\temp_jpg_frames\\3314.jpg\n",
      "Looking for mask in: c:\\Users\\devan\\Downloads\\SAM2_Eval\\SAM2_Eval_Surgical_Datasets\\../Datasets\\CholecSeg8k\\test\\Masks\\Abdominal Wall\\video20\\video20_03260\\3315.jpg\n",
      "Looking for mask in: c:\\Users\\devan\\Downloads\\SAM2_Eval\\SAM2_Eval_Surgical_Datasets\\../Datasets\\CholecSeg8k\\test\\Masks\\Fat\\video20\\video20_03260\\3315.jpg\n",
      "Looking for mask in: c:\\Users\\devan\\Downloads\\SAM2_Eval\\SAM2_Eval_Surgical_Datasets\\../Datasets\\CholecSeg8k\\test\\Masks\\Gall bladder\\video20\\video20_03260\\3315.jpg\n",
      "Looking for mask in: c:\\Users\\devan\\Downloads\\SAM2_Eval\\SAM2_Eval_Surgical_Datasets\\../Datasets\\CholecSeg8k\\test\\Masks\\Gastrointestinal Tract\\video20\\video20_03260\\3315.jpg\n",
      "Looking for mask in: c:\\Users\\devan\\Downloads\\SAM2_Eval\\SAM2_Eval_Surgical_Datasets\\../Datasets\\CholecSeg8k\\test\\Masks\\Grasper\\video20\\video20_03260\\3315.jpg\n",
      "Looking for mask in: c:\\Users\\devan\\Downloads\\SAM2_Eval\\SAM2_Eval_Surgical_Datasets\\../Datasets\\CholecSeg8k\\test\\Masks\\L-hook Electrocautery\\video20\\video20_03260\\3315.jpg\n",
      "Looking for mask in: c:\\Users\\devan\\Downloads\\SAM2_Eval\\SAM2_Eval_Surgical_Datasets\\../Datasets\\CholecSeg8k\\test\\Masks\\Liver\\video20\\video20_03260\\3315.jpg\n",
      "No matching mask found for frame: c:\\Users\\devan\\Downloads\\SAM2_Eval\\SAM2_Eval_Surgical_Datasets\\temp_jpg_frames\\3315.jpg\n",
      "Looking for mask in: c:\\Users\\devan\\Downloads\\SAM2_Eval\\SAM2_Eval_Surgical_Datasets\\../Datasets\\CholecSeg8k\\test\\Masks\\Abdominal Wall\\video20\\video20_03260\\3316.jpg\n",
      "Looking for mask in: c:\\Users\\devan\\Downloads\\SAM2_Eval\\SAM2_Eval_Surgical_Datasets\\../Datasets\\CholecSeg8k\\test\\Masks\\Fat\\video20\\video20_03260\\3316.jpg\n",
      "Looking for mask in: c:\\Users\\devan\\Downloads\\SAM2_Eval\\SAM2_Eval_Surgical_Datasets\\../Datasets\\CholecSeg8k\\test\\Masks\\Gall bladder\\video20\\video20_03260\\3316.jpg\n",
      "Looking for mask in: c:\\Users\\devan\\Downloads\\SAM2_Eval\\SAM2_Eval_Surgical_Datasets\\../Datasets\\CholecSeg8k\\test\\Masks\\Gastrointestinal Tract\\video20\\video20_03260\\3316.jpg\n",
      "Looking for mask in: c:\\Users\\devan\\Downloads\\SAM2_Eval\\SAM2_Eval_Surgical_Datasets\\../Datasets\\CholecSeg8k\\test\\Masks\\Grasper\\video20\\video20_03260\\3316.jpg\n",
      "Looking for mask in: c:\\Users\\devan\\Downloads\\SAM2_Eval\\SAM2_Eval_Surgical_Datasets\\../Datasets\\CholecSeg8k\\test\\Masks\\L-hook Electrocautery\\video20\\video20_03260\\3316.jpg\n",
      "Looking for mask in: c:\\Users\\devan\\Downloads\\SAM2_Eval\\SAM2_Eval_Surgical_Datasets\\../Datasets\\CholecSeg8k\\test\\Masks\\Liver\\video20\\video20_03260\\3316.jpg\n",
      "No matching mask found for frame: c:\\Users\\devan\\Downloads\\SAM2_Eval\\SAM2_Eval_Surgical_Datasets\\temp_jpg_frames\\3316.jpg\n",
      "Looking for mask in: c:\\Users\\devan\\Downloads\\SAM2_Eval\\SAM2_Eval_Surgical_Datasets\\../Datasets\\CholecSeg8k\\test\\Masks\\Abdominal Wall\\video20\\video20_03260\\3317.jpg\n",
      "Looking for mask in: c:\\Users\\devan\\Downloads\\SAM2_Eval\\SAM2_Eval_Surgical_Datasets\\../Datasets\\CholecSeg8k\\test\\Masks\\Fat\\video20\\video20_03260\\3317.jpg\n",
      "Looking for mask in: c:\\Users\\devan\\Downloads\\SAM2_Eval\\SAM2_Eval_Surgical_Datasets\\../Datasets\\CholecSeg8k\\test\\Masks\\Gall bladder\\video20\\video20_03260\\3317.jpg\n",
      "Looking for mask in: c:\\Users\\devan\\Downloads\\SAM2_Eval\\SAM2_Eval_Surgical_Datasets\\../Datasets\\CholecSeg8k\\test\\Masks\\Gastrointestinal Tract\\video20\\video20_03260\\3317.jpg\n",
      "Looking for mask in: c:\\Users\\devan\\Downloads\\SAM2_Eval\\SAM2_Eval_Surgical_Datasets\\../Datasets\\CholecSeg8k\\test\\Masks\\Grasper\\video20\\video20_03260\\3317.jpg\n",
      "Looking for mask in: c:\\Users\\devan\\Downloads\\SAM2_Eval\\SAM2_Eval_Surgical_Datasets\\../Datasets\\CholecSeg8k\\test\\Masks\\L-hook Electrocautery\\video20\\video20_03260\\3317.jpg\n",
      "Looking for mask in: c:\\Users\\devan\\Downloads\\SAM2_Eval\\SAM2_Eval_Surgical_Datasets\\../Datasets\\CholecSeg8k\\test\\Masks\\Liver\\video20\\video20_03260\\3317.jpg\n",
      "No matching mask found for frame: c:\\Users\\devan\\Downloads\\SAM2_Eval\\SAM2_Eval_Surgical_Datasets\\temp_jpg_frames\\3317.jpg\n",
      "Looking for mask in: c:\\Users\\devan\\Downloads\\SAM2_Eval\\SAM2_Eval_Surgical_Datasets\\../Datasets\\CholecSeg8k\\test\\Masks\\Abdominal Wall\\video20\\video20_03260\\3318.jpg\n",
      "Looking for mask in: c:\\Users\\devan\\Downloads\\SAM2_Eval\\SAM2_Eval_Surgical_Datasets\\../Datasets\\CholecSeg8k\\test\\Masks\\Fat\\video20\\video20_03260\\3318.jpg\n",
      "Looking for mask in: c:\\Users\\devan\\Downloads\\SAM2_Eval\\SAM2_Eval_Surgical_Datasets\\../Datasets\\CholecSeg8k\\test\\Masks\\Gall bladder\\video20\\video20_03260\\3318.jpg\n",
      "Looking for mask in: c:\\Users\\devan\\Downloads\\SAM2_Eval\\SAM2_Eval_Surgical_Datasets\\../Datasets\\CholecSeg8k\\test\\Masks\\Gastrointestinal Tract\\video20\\video20_03260\\3318.jpg\n",
      "Looking for mask in: c:\\Users\\devan\\Downloads\\SAM2_Eval\\SAM2_Eval_Surgical_Datasets\\../Datasets\\CholecSeg8k\\test\\Masks\\Grasper\\video20\\video20_03260\\3318.jpg\n",
      "Looking for mask in: c:\\Users\\devan\\Downloads\\SAM2_Eval\\SAM2_Eval_Surgical_Datasets\\../Datasets\\CholecSeg8k\\test\\Masks\\L-hook Electrocautery\\video20\\video20_03260\\3318.jpg\n",
      "Looking for mask in: c:\\Users\\devan\\Downloads\\SAM2_Eval\\SAM2_Eval_Surgical_Datasets\\../Datasets\\CholecSeg8k\\test\\Masks\\Liver\\video20\\video20_03260\\3318.jpg\n",
      "No matching mask found for frame: c:\\Users\\devan\\Downloads\\SAM2_Eval\\SAM2_Eval_Surgical_Datasets\\temp_jpg_frames\\3318.jpg\n",
      "Looking for mask in: c:\\Users\\devan\\Downloads\\SAM2_Eval\\SAM2_Eval_Surgical_Datasets\\../Datasets\\CholecSeg8k\\test\\Masks\\Abdominal Wall\\video20\\video20_03260\\3319.jpg\n",
      "Looking for mask in: c:\\Users\\devan\\Downloads\\SAM2_Eval\\SAM2_Eval_Surgical_Datasets\\../Datasets\\CholecSeg8k\\test\\Masks\\Fat\\video20\\video20_03260\\3319.jpg\n",
      "Looking for mask in: c:\\Users\\devan\\Downloads\\SAM2_Eval\\SAM2_Eval_Surgical_Datasets\\../Datasets\\CholecSeg8k\\test\\Masks\\Gall bladder\\video20\\video20_03260\\3319.jpg\n",
      "Looking for mask in: c:\\Users\\devan\\Downloads\\SAM2_Eval\\SAM2_Eval_Surgical_Datasets\\../Datasets\\CholecSeg8k\\test\\Masks\\Gastrointestinal Tract\\video20\\video20_03260\\3319.jpg\n",
      "Looking for mask in: c:\\Users\\devan\\Downloads\\SAM2_Eval\\SAM2_Eval_Surgical_Datasets\\../Datasets\\CholecSeg8k\\test\\Masks\\Grasper\\video20\\video20_03260\\3319.jpg\n",
      "Looking for mask in: c:\\Users\\devan\\Downloads\\SAM2_Eval\\SAM2_Eval_Surgical_Datasets\\../Datasets\\CholecSeg8k\\test\\Masks\\L-hook Electrocautery\\video20\\video20_03260\\3319.jpg\n",
      "Looking for mask in: c:\\Users\\devan\\Downloads\\SAM2_Eval\\SAM2_Eval_Surgical_Datasets\\../Datasets\\CholecSeg8k\\test\\Masks\\Liver\\video20\\video20_03260\\3319.jpg\n",
      "No matching mask found for frame: c:\\Users\\devan\\Downloads\\SAM2_Eval\\SAM2_Eval_Surgical_Datasets\\temp_jpg_frames\\3319.jpg\n",
      "Looking for mask in: c:\\Users\\devan\\Downloads\\SAM2_Eval\\SAM2_Eval_Surgical_Datasets\\../Datasets\\CholecSeg8k\\test\\Masks\\Abdominal Wall\\video20\\video20_03260\\3320.jpg\n",
      "Looking for mask in: c:\\Users\\devan\\Downloads\\SAM2_Eval\\SAM2_Eval_Surgical_Datasets\\../Datasets\\CholecSeg8k\\test\\Masks\\Fat\\video20\\video20_03260\\3320.jpg\n",
      "Looking for mask in: c:\\Users\\devan\\Downloads\\SAM2_Eval\\SAM2_Eval_Surgical_Datasets\\../Datasets\\CholecSeg8k\\test\\Masks\\Gall bladder\\video20\\video20_03260\\3320.jpg\n",
      "Looking for mask in: c:\\Users\\devan\\Downloads\\SAM2_Eval\\SAM2_Eval_Surgical_Datasets\\../Datasets\\CholecSeg8k\\test\\Masks\\Gastrointestinal Tract\\video20\\video20_03260\\3320.jpg\n",
      "Looking for mask in: c:\\Users\\devan\\Downloads\\SAM2_Eval\\SAM2_Eval_Surgical_Datasets\\../Datasets\\CholecSeg8k\\test\\Masks\\Grasper\\video20\\video20_03260\\3320.jpg\n",
      "Looking for mask in: c:\\Users\\devan\\Downloads\\SAM2_Eval\\SAM2_Eval_Surgical_Datasets\\../Datasets\\CholecSeg8k\\test\\Masks\\L-hook Electrocautery\\video20\\video20_03260\\3320.jpg\n",
      "Looking for mask in: c:\\Users\\devan\\Downloads\\SAM2_Eval\\SAM2_Eval_Surgical_Datasets\\../Datasets\\CholecSeg8k\\test\\Masks\\Liver\\video20\\video20_03260\\3320.jpg\n",
      "No matching mask found for frame: c:\\Users\\devan\\Downloads\\SAM2_Eval\\SAM2_Eval_Surgical_Datasets\\temp_jpg_frames\\3320.jpg\n",
      "Looking for mask in: c:\\Users\\devan\\Downloads\\SAM2_Eval\\SAM2_Eval_Surgical_Datasets\\../Datasets\\CholecSeg8k\\test\\Masks\\Abdominal Wall\\video20\\video20_03260\\3321.jpg\n",
      "Looking for mask in: c:\\Users\\devan\\Downloads\\SAM2_Eval\\SAM2_Eval_Surgical_Datasets\\../Datasets\\CholecSeg8k\\test\\Masks\\Fat\\video20\\video20_03260\\3321.jpg\n",
      "Looking for mask in: c:\\Users\\devan\\Downloads\\SAM2_Eval\\SAM2_Eval_Surgical_Datasets\\../Datasets\\CholecSeg8k\\test\\Masks\\Gall bladder\\video20\\video20_03260\\3321.jpg\n",
      "Looking for mask in: c:\\Users\\devan\\Downloads\\SAM2_Eval\\SAM2_Eval_Surgical_Datasets\\../Datasets\\CholecSeg8k\\test\\Masks\\Gastrointestinal Tract\\video20\\video20_03260\\3321.jpg\n",
      "Looking for mask in: c:\\Users\\devan\\Downloads\\SAM2_Eval\\SAM2_Eval_Surgical_Datasets\\../Datasets\\CholecSeg8k\\test\\Masks\\Grasper\\video20\\video20_03260\\3321.jpg\n",
      "Looking for mask in: c:\\Users\\devan\\Downloads\\SAM2_Eval\\SAM2_Eval_Surgical_Datasets\\../Datasets\\CholecSeg8k\\test\\Masks\\L-hook Electrocautery\\video20\\video20_03260\\3321.jpg\n",
      "Looking for mask in: c:\\Users\\devan\\Downloads\\SAM2_Eval\\SAM2_Eval_Surgical_Datasets\\../Datasets\\CholecSeg8k\\test\\Masks\\Liver\\video20\\video20_03260\\3321.jpg\n",
      "No matching mask found for frame: c:\\Users\\devan\\Downloads\\SAM2_Eval\\SAM2_Eval_Surgical_Datasets\\temp_jpg_frames\\3321.jpg\n",
      "Looking for mask in: c:\\Users\\devan\\Downloads\\SAM2_Eval\\SAM2_Eval_Surgical_Datasets\\../Datasets\\CholecSeg8k\\test\\Masks\\Abdominal Wall\\video20\\video20_03260\\3322.jpg\n",
      "Looking for mask in: c:\\Users\\devan\\Downloads\\SAM2_Eval\\SAM2_Eval_Surgical_Datasets\\../Datasets\\CholecSeg8k\\test\\Masks\\Fat\\video20\\video20_03260\\3322.jpg\n",
      "Looking for mask in: c:\\Users\\devan\\Downloads\\SAM2_Eval\\SAM2_Eval_Surgical_Datasets\\../Datasets\\CholecSeg8k\\test\\Masks\\Gall bladder\\video20\\video20_03260\\3322.jpg\n",
      "Looking for mask in: c:\\Users\\devan\\Downloads\\SAM2_Eval\\SAM2_Eval_Surgical_Datasets\\../Datasets\\CholecSeg8k\\test\\Masks\\Gastrointestinal Tract\\video20\\video20_03260\\3322.jpg\n",
      "Looking for mask in: c:\\Users\\devan\\Downloads\\SAM2_Eval\\SAM2_Eval_Surgical_Datasets\\../Datasets\\CholecSeg8k\\test\\Masks\\Grasper\\video20\\video20_03260\\3322.jpg\n",
      "Looking for mask in: c:\\Users\\devan\\Downloads\\SAM2_Eval\\SAM2_Eval_Surgical_Datasets\\../Datasets\\CholecSeg8k\\test\\Masks\\L-hook Electrocautery\\video20\\video20_03260\\3322.jpg\n",
      "Looking for mask in: c:\\Users\\devan\\Downloads\\SAM2_Eval\\SAM2_Eval_Surgical_Datasets\\../Datasets\\CholecSeg8k\\test\\Masks\\Liver\\video20\\video20_03260\\3322.jpg\n",
      "No matching mask found for frame: c:\\Users\\devan\\Downloads\\SAM2_Eval\\SAM2_Eval_Surgical_Datasets\\temp_jpg_frames\\3322.jpg\n",
      "Looking for mask in: c:\\Users\\devan\\Downloads\\SAM2_Eval\\SAM2_Eval_Surgical_Datasets\\../Datasets\\CholecSeg8k\\test\\Masks\\Abdominal Wall\\video20\\video20_03260\\3323.jpg\n",
      "Looking for mask in: c:\\Users\\devan\\Downloads\\SAM2_Eval\\SAM2_Eval_Surgical_Datasets\\../Datasets\\CholecSeg8k\\test\\Masks\\Fat\\video20\\video20_03260\\3323.jpg\n",
      "Looking for mask in: c:\\Users\\devan\\Downloads\\SAM2_Eval\\SAM2_Eval_Surgical_Datasets\\../Datasets\\CholecSeg8k\\test\\Masks\\Gall bladder\\video20\\video20_03260\\3323.jpg\n",
      "Looking for mask in: c:\\Users\\devan\\Downloads\\SAM2_Eval\\SAM2_Eval_Surgical_Datasets\\../Datasets\\CholecSeg8k\\test\\Masks\\Gastrointestinal Tract\\video20\\video20_03260\\3323.jpg\n",
      "Looking for mask in: c:\\Users\\devan\\Downloads\\SAM2_Eval\\SAM2_Eval_Surgical_Datasets\\../Datasets\\CholecSeg8k\\test\\Masks\\Grasper\\video20\\video20_03260\\3323.jpg\n",
      "Looking for mask in: c:\\Users\\devan\\Downloads\\SAM2_Eval\\SAM2_Eval_Surgical_Datasets\\../Datasets\\CholecSeg8k\\test\\Masks\\L-hook Electrocautery\\video20\\video20_03260\\3323.jpg\n",
      "Looking for mask in: c:\\Users\\devan\\Downloads\\SAM2_Eval\\SAM2_Eval_Surgical_Datasets\\../Datasets\\CholecSeg8k\\test\\Masks\\Liver\\video20\\video20_03260\\3323.jpg\n",
      "No matching mask found for frame: c:\\Users\\devan\\Downloads\\SAM2_Eval\\SAM2_Eval_Surgical_Datasets\\temp_jpg_frames\\3323.jpg\n",
      "Looking for mask in: c:\\Users\\devan\\Downloads\\SAM2_Eval\\SAM2_Eval_Surgical_Datasets\\../Datasets\\CholecSeg8k\\test\\Masks\\Abdominal Wall\\video20\\video20_03260\\3324.jpg\n",
      "Looking for mask in: c:\\Users\\devan\\Downloads\\SAM2_Eval\\SAM2_Eval_Surgical_Datasets\\../Datasets\\CholecSeg8k\\test\\Masks\\Fat\\video20\\video20_03260\\3324.jpg\n",
      "Looking for mask in: c:\\Users\\devan\\Downloads\\SAM2_Eval\\SAM2_Eval_Surgical_Datasets\\../Datasets\\CholecSeg8k\\test\\Masks\\Gall bladder\\video20\\video20_03260\\3324.jpg\n",
      "Looking for mask in: c:\\Users\\devan\\Downloads\\SAM2_Eval\\SAM2_Eval_Surgical_Datasets\\../Datasets\\CholecSeg8k\\test\\Masks\\Gastrointestinal Tract\\video20\\video20_03260\\3324.jpg\n",
      "Looking for mask in: c:\\Users\\devan\\Downloads\\SAM2_Eval\\SAM2_Eval_Surgical_Datasets\\../Datasets\\CholecSeg8k\\test\\Masks\\Grasper\\video20\\video20_03260\\3324.jpg\n",
      "Looking for mask in: c:\\Users\\devan\\Downloads\\SAM2_Eval\\SAM2_Eval_Surgical_Datasets\\../Datasets\\CholecSeg8k\\test\\Masks\\L-hook Electrocautery\\video20\\video20_03260\\3324.jpg\n",
      "Looking for mask in: c:\\Users\\devan\\Downloads\\SAM2_Eval\\SAM2_Eval_Surgical_Datasets\\../Datasets\\CholecSeg8k\\test\\Masks\\Liver\\video20\\video20_03260\\3324.jpg\n",
      "No matching mask found for frame: c:\\Users\\devan\\Downloads\\SAM2_Eval\\SAM2_Eval_Surgical_Datasets\\temp_jpg_frames\\3324.jpg\n",
      "Looking for mask in: c:\\Users\\devan\\Downloads\\SAM2_Eval\\SAM2_Eval_Surgical_Datasets\\../Datasets\\CholecSeg8k\\test\\Masks\\Abdominal Wall\\video20\\video20_03260\\3325.jpg\n",
      "Looking for mask in: c:\\Users\\devan\\Downloads\\SAM2_Eval\\SAM2_Eval_Surgical_Datasets\\../Datasets\\CholecSeg8k\\test\\Masks\\Fat\\video20\\video20_03260\\3325.jpg\n",
      "Looking for mask in: c:\\Users\\devan\\Downloads\\SAM2_Eval\\SAM2_Eval_Surgical_Datasets\\../Datasets\\CholecSeg8k\\test\\Masks\\Gall bladder\\video20\\video20_03260\\3325.jpg\n",
      "Looking for mask in: c:\\Users\\devan\\Downloads\\SAM2_Eval\\SAM2_Eval_Surgical_Datasets\\../Datasets\\CholecSeg8k\\test\\Masks\\Gastrointestinal Tract\\video20\\video20_03260\\3325.jpg\n",
      "Looking for mask in: c:\\Users\\devan\\Downloads\\SAM2_Eval\\SAM2_Eval_Surgical_Datasets\\../Datasets\\CholecSeg8k\\test\\Masks\\Grasper\\video20\\video20_03260\\3325.jpg\n",
      "Looking for mask in: c:\\Users\\devan\\Downloads\\SAM2_Eval\\SAM2_Eval_Surgical_Datasets\\../Datasets\\CholecSeg8k\\test\\Masks\\L-hook Electrocautery\\video20\\video20_03260\\3325.jpg\n",
      "Looking for mask in: c:\\Users\\devan\\Downloads\\SAM2_Eval\\SAM2_Eval_Surgical_Datasets\\../Datasets\\CholecSeg8k\\test\\Masks\\Liver\\video20\\video20_03260\\3325.jpg\n",
      "No matching mask found for frame: c:\\Users\\devan\\Downloads\\SAM2_Eval\\SAM2_Eval_Surgical_Datasets\\temp_jpg_frames\\3325.jpg\n",
      "Looking for mask in: c:\\Users\\devan\\Downloads\\SAM2_Eval\\SAM2_Eval_Surgical_Datasets\\../Datasets\\CholecSeg8k\\test\\Masks\\Abdominal Wall\\video20\\video20_03260\\3326.jpg\n",
      "Looking for mask in: c:\\Users\\devan\\Downloads\\SAM2_Eval\\SAM2_Eval_Surgical_Datasets\\../Datasets\\CholecSeg8k\\test\\Masks\\Fat\\video20\\video20_03260\\3326.jpg\n",
      "Looking for mask in: c:\\Users\\devan\\Downloads\\SAM2_Eval\\SAM2_Eval_Surgical_Datasets\\../Datasets\\CholecSeg8k\\test\\Masks\\Gall bladder\\video20\\video20_03260\\3326.jpg\n",
      "Looking for mask in: c:\\Users\\devan\\Downloads\\SAM2_Eval\\SAM2_Eval_Surgical_Datasets\\../Datasets\\CholecSeg8k\\test\\Masks\\Gastrointestinal Tract\\video20\\video20_03260\\3326.jpg\n",
      "Looking for mask in: c:\\Users\\devan\\Downloads\\SAM2_Eval\\SAM2_Eval_Surgical_Datasets\\../Datasets\\CholecSeg8k\\test\\Masks\\Grasper\\video20\\video20_03260\\3326.jpg\n",
      "Looking for mask in: c:\\Users\\devan\\Downloads\\SAM2_Eval\\SAM2_Eval_Surgical_Datasets\\../Datasets\\CholecSeg8k\\test\\Masks\\L-hook Electrocautery\\video20\\video20_03260\\3326.jpg\n",
      "Looking for mask in: c:\\Users\\devan\\Downloads\\SAM2_Eval\\SAM2_Eval_Surgical_Datasets\\../Datasets\\CholecSeg8k\\test\\Masks\\Liver\\video20\\video20_03260\\3326.jpg\n",
      "No matching mask found for frame: c:\\Users\\devan\\Downloads\\SAM2_Eval\\SAM2_Eval_Surgical_Datasets\\temp_jpg_frames\\3326.jpg\n",
      "Looking for mask in: c:\\Users\\devan\\Downloads\\SAM2_Eval\\SAM2_Eval_Surgical_Datasets\\../Datasets\\CholecSeg8k\\test\\Masks\\Abdominal Wall\\video20\\video20_03260\\3327.jpg\n",
      "Looking for mask in: c:\\Users\\devan\\Downloads\\SAM2_Eval\\SAM2_Eval_Surgical_Datasets\\../Datasets\\CholecSeg8k\\test\\Masks\\Fat\\video20\\video20_03260\\3327.jpg\n",
      "Looking for mask in: c:\\Users\\devan\\Downloads\\SAM2_Eval\\SAM2_Eval_Surgical_Datasets\\../Datasets\\CholecSeg8k\\test\\Masks\\Gall bladder\\video20\\video20_03260\\3327.jpg\n",
      "Looking for mask in: c:\\Users\\devan\\Downloads\\SAM2_Eval\\SAM2_Eval_Surgical_Datasets\\../Datasets\\CholecSeg8k\\test\\Masks\\Gastrointestinal Tract\\video20\\video20_03260\\3327.jpg\n",
      "Looking for mask in: c:\\Users\\devan\\Downloads\\SAM2_Eval\\SAM2_Eval_Surgical_Datasets\\../Datasets\\CholecSeg8k\\test\\Masks\\Grasper\\video20\\video20_03260\\3327.jpg\n",
      "Looking for mask in: c:\\Users\\devan\\Downloads\\SAM2_Eval\\SAM2_Eval_Surgical_Datasets\\../Datasets\\CholecSeg8k\\test\\Masks\\L-hook Electrocautery\\video20\\video20_03260\\3327.jpg\n",
      "Looking for mask in: c:\\Users\\devan\\Downloads\\SAM2_Eval\\SAM2_Eval_Surgical_Datasets\\../Datasets\\CholecSeg8k\\test\\Masks\\Liver\\video20\\video20_03260\\3327.jpg\n",
      "No matching mask found for frame: c:\\Users\\devan\\Downloads\\SAM2_Eval\\SAM2_Eval_Surgical_Datasets\\temp_jpg_frames\\3327.jpg\n",
      "Looking for mask in: c:\\Users\\devan\\Downloads\\SAM2_Eval\\SAM2_Eval_Surgical_Datasets\\../Datasets\\CholecSeg8k\\test\\Masks\\Abdominal Wall\\video20\\video20_03260\\3328.jpg\n",
      "Looking for mask in: c:\\Users\\devan\\Downloads\\SAM2_Eval\\SAM2_Eval_Surgical_Datasets\\../Datasets\\CholecSeg8k\\test\\Masks\\Fat\\video20\\video20_03260\\3328.jpg\n",
      "Looking for mask in: c:\\Users\\devan\\Downloads\\SAM2_Eval\\SAM2_Eval_Surgical_Datasets\\../Datasets\\CholecSeg8k\\test\\Masks\\Gall bladder\\video20\\video20_03260\\3328.jpg\n",
      "Looking for mask in: c:\\Users\\devan\\Downloads\\SAM2_Eval\\SAM2_Eval_Surgical_Datasets\\../Datasets\\CholecSeg8k\\test\\Masks\\Gastrointestinal Tract\\video20\\video20_03260\\3328.jpg\n",
      "Looking for mask in: c:\\Users\\devan\\Downloads\\SAM2_Eval\\SAM2_Eval_Surgical_Datasets\\../Datasets\\CholecSeg8k\\test\\Masks\\Grasper\\video20\\video20_03260\\3328.jpg\n",
      "Looking for mask in: c:\\Users\\devan\\Downloads\\SAM2_Eval\\SAM2_Eval_Surgical_Datasets\\../Datasets\\CholecSeg8k\\test\\Masks\\L-hook Electrocautery\\video20\\video20_03260\\3328.jpg\n",
      "Looking for mask in: c:\\Users\\devan\\Downloads\\SAM2_Eval\\SAM2_Eval_Surgical_Datasets\\../Datasets\\CholecSeg8k\\test\\Masks\\Liver\\video20\\video20_03260\\3328.jpg\n",
      "No matching mask found for frame: c:\\Users\\devan\\Downloads\\SAM2_Eval\\SAM2_Eval_Surgical_Datasets\\temp_jpg_frames\\3328.jpg\n",
      "Looking for mask in: c:\\Users\\devan\\Downloads\\SAM2_Eval\\SAM2_Eval_Surgical_Datasets\\../Datasets\\CholecSeg8k\\test\\Masks\\Abdominal Wall\\video20\\video20_03260\\3329.jpg\n",
      "Looking for mask in: c:\\Users\\devan\\Downloads\\SAM2_Eval\\SAM2_Eval_Surgical_Datasets\\../Datasets\\CholecSeg8k\\test\\Masks\\Fat\\video20\\video20_03260\\3329.jpg\n",
      "Looking for mask in: c:\\Users\\devan\\Downloads\\SAM2_Eval\\SAM2_Eval_Surgical_Datasets\\../Datasets\\CholecSeg8k\\test\\Masks\\Gall bladder\\video20\\video20_03260\\3329.jpg\n",
      "Looking for mask in: c:\\Users\\devan\\Downloads\\SAM2_Eval\\SAM2_Eval_Surgical_Datasets\\../Datasets\\CholecSeg8k\\test\\Masks\\Gastrointestinal Tract\\video20\\video20_03260\\3329.jpg\n",
      "Looking for mask in: c:\\Users\\devan\\Downloads\\SAM2_Eval\\SAM2_Eval_Surgical_Datasets\\../Datasets\\CholecSeg8k\\test\\Masks\\Grasper\\video20\\video20_03260\\3329.jpg\n",
      "Looking for mask in: c:\\Users\\devan\\Downloads\\SAM2_Eval\\SAM2_Eval_Surgical_Datasets\\../Datasets\\CholecSeg8k\\test\\Masks\\L-hook Electrocautery\\video20\\video20_03260\\3329.jpg\n",
      "Looking for mask in: c:\\Users\\devan\\Downloads\\SAM2_Eval\\SAM2_Eval_Surgical_Datasets\\../Datasets\\CholecSeg8k\\test\\Masks\\Liver\\video20\\video20_03260\\3329.jpg\n",
      "No matching mask found for frame: c:\\Users\\devan\\Downloads\\SAM2_Eval\\SAM2_Eval_Surgical_Datasets\\temp_jpg_frames\\3329.jpg\n",
      "Looking for mask in: c:\\Users\\devan\\Downloads\\SAM2_Eval\\SAM2_Eval_Surgical_Datasets\\../Datasets\\CholecSeg8k\\test\\Masks\\Abdominal Wall\\video20\\video20_03260\\3330.jpg\n",
      "Looking for mask in: c:\\Users\\devan\\Downloads\\SAM2_Eval\\SAM2_Eval_Surgical_Datasets\\../Datasets\\CholecSeg8k\\test\\Masks\\Fat\\video20\\video20_03260\\3330.jpg\n",
      "Looking for mask in: c:\\Users\\devan\\Downloads\\SAM2_Eval\\SAM2_Eval_Surgical_Datasets\\../Datasets\\CholecSeg8k\\test\\Masks\\Gall bladder\\video20\\video20_03260\\3330.jpg\n",
      "Looking for mask in: c:\\Users\\devan\\Downloads\\SAM2_Eval\\SAM2_Eval_Surgical_Datasets\\../Datasets\\CholecSeg8k\\test\\Masks\\Gastrointestinal Tract\\video20\\video20_03260\\3330.jpg\n",
      "Looking for mask in: c:\\Users\\devan\\Downloads\\SAM2_Eval\\SAM2_Eval_Surgical_Datasets\\../Datasets\\CholecSeg8k\\test\\Masks\\Grasper\\video20\\video20_03260\\3330.jpg\n",
      "Looking for mask in: c:\\Users\\devan\\Downloads\\SAM2_Eval\\SAM2_Eval_Surgical_Datasets\\../Datasets\\CholecSeg8k\\test\\Masks\\L-hook Electrocautery\\video20\\video20_03260\\3330.jpg\n",
      "Looking for mask in: c:\\Users\\devan\\Downloads\\SAM2_Eval\\SAM2_Eval_Surgical_Datasets\\../Datasets\\CholecSeg8k\\test\\Masks\\Liver\\video20\\video20_03260\\3330.jpg\n",
      "No matching mask found for frame: c:\\Users\\devan\\Downloads\\SAM2_Eval\\SAM2_Eval_Surgical_Datasets\\temp_jpg_frames\\3330.jpg\n",
      "Looking for mask in: c:\\Users\\devan\\Downloads\\SAM2_Eval\\SAM2_Eval_Surgical_Datasets\\../Datasets\\CholecSeg8k\\test\\Masks\\Abdominal Wall\\video20\\video20_03260\\3331.jpg\n",
      "Looking for mask in: c:\\Users\\devan\\Downloads\\SAM2_Eval\\SAM2_Eval_Surgical_Datasets\\../Datasets\\CholecSeg8k\\test\\Masks\\Fat\\video20\\video20_03260\\3331.jpg\n",
      "Looking for mask in: c:\\Users\\devan\\Downloads\\SAM2_Eval\\SAM2_Eval_Surgical_Datasets\\../Datasets\\CholecSeg8k\\test\\Masks\\Gall bladder\\video20\\video20_03260\\3331.jpg\n",
      "Looking for mask in: c:\\Users\\devan\\Downloads\\SAM2_Eval\\SAM2_Eval_Surgical_Datasets\\../Datasets\\CholecSeg8k\\test\\Masks\\Gastrointestinal Tract\\video20\\video20_03260\\3331.jpg\n",
      "Looking for mask in: c:\\Users\\devan\\Downloads\\SAM2_Eval\\SAM2_Eval_Surgical_Datasets\\../Datasets\\CholecSeg8k\\test\\Masks\\Grasper\\video20\\video20_03260\\3331.jpg\n",
      "Looking for mask in: c:\\Users\\devan\\Downloads\\SAM2_Eval\\SAM2_Eval_Surgical_Datasets\\../Datasets\\CholecSeg8k\\test\\Masks\\L-hook Electrocautery\\video20\\video20_03260\\3331.jpg\n",
      "Looking for mask in: c:\\Users\\devan\\Downloads\\SAM2_Eval\\SAM2_Eval_Surgical_Datasets\\../Datasets\\CholecSeg8k\\test\\Masks\\Liver\\video20\\video20_03260\\3331.jpg\n",
      "No matching mask found for frame: c:\\Users\\devan\\Downloads\\SAM2_Eval\\SAM2_Eval_Surgical_Datasets\\temp_jpg_frames\\3331.jpg\n",
      "Looking for mask in: c:\\Users\\devan\\Downloads\\SAM2_Eval\\SAM2_Eval_Surgical_Datasets\\../Datasets\\CholecSeg8k\\test\\Masks\\Abdominal Wall\\video20\\video20_03260\\3332.jpg\n",
      "Looking for mask in: c:\\Users\\devan\\Downloads\\SAM2_Eval\\SAM2_Eval_Surgical_Datasets\\../Datasets\\CholecSeg8k\\test\\Masks\\Fat\\video20\\video20_03260\\3332.jpg\n",
      "Looking for mask in: c:\\Users\\devan\\Downloads\\SAM2_Eval\\SAM2_Eval_Surgical_Datasets\\../Datasets\\CholecSeg8k\\test\\Masks\\Gall bladder\\video20\\video20_03260\\3332.jpg\n",
      "Looking for mask in: c:\\Users\\devan\\Downloads\\SAM2_Eval\\SAM2_Eval_Surgical_Datasets\\../Datasets\\CholecSeg8k\\test\\Masks\\Gastrointestinal Tract\\video20\\video20_03260\\3332.jpg\n",
      "Looking for mask in: c:\\Users\\devan\\Downloads\\SAM2_Eval\\SAM2_Eval_Surgical_Datasets\\../Datasets\\CholecSeg8k\\test\\Masks\\Grasper\\video20\\video20_03260\\3332.jpg\n",
      "Looking for mask in: c:\\Users\\devan\\Downloads\\SAM2_Eval\\SAM2_Eval_Surgical_Datasets\\../Datasets\\CholecSeg8k\\test\\Masks\\L-hook Electrocautery\\video20\\video20_03260\\3332.jpg\n",
      "Looking for mask in: c:\\Users\\devan\\Downloads\\SAM2_Eval\\SAM2_Eval_Surgical_Datasets\\../Datasets\\CholecSeg8k\\test\\Masks\\Liver\\video20\\video20_03260\\3332.jpg\n",
      "No matching mask found for frame: c:\\Users\\devan\\Downloads\\SAM2_Eval\\SAM2_Eval_Surgical_Datasets\\temp_jpg_frames\\3332.jpg\n",
      "Looking for mask in: c:\\Users\\devan\\Downloads\\SAM2_Eval\\SAM2_Eval_Surgical_Datasets\\../Datasets\\CholecSeg8k\\test\\Masks\\Abdominal Wall\\video20\\video20_03260\\3333.jpg\n",
      "Looking for mask in: c:\\Users\\devan\\Downloads\\SAM2_Eval\\SAM2_Eval_Surgical_Datasets\\../Datasets\\CholecSeg8k\\test\\Masks\\Fat\\video20\\video20_03260\\3333.jpg\n",
      "Looking for mask in: c:\\Users\\devan\\Downloads\\SAM2_Eval\\SAM2_Eval_Surgical_Datasets\\../Datasets\\CholecSeg8k\\test\\Masks\\Gall bladder\\video20\\video20_03260\\3333.jpg\n",
      "Looking for mask in: c:\\Users\\devan\\Downloads\\SAM2_Eval\\SAM2_Eval_Surgical_Datasets\\../Datasets\\CholecSeg8k\\test\\Masks\\Gastrointestinal Tract\\video20\\video20_03260\\3333.jpg\n",
      "Looking for mask in: c:\\Users\\devan\\Downloads\\SAM2_Eval\\SAM2_Eval_Surgical_Datasets\\../Datasets\\CholecSeg8k\\test\\Masks\\Grasper\\video20\\video20_03260\\3333.jpg\n",
      "Looking for mask in: c:\\Users\\devan\\Downloads\\SAM2_Eval\\SAM2_Eval_Surgical_Datasets\\../Datasets\\CholecSeg8k\\test\\Masks\\L-hook Electrocautery\\video20\\video20_03260\\3333.jpg\n",
      "Looking for mask in: c:\\Users\\devan\\Downloads\\SAM2_Eval\\SAM2_Eval_Surgical_Datasets\\../Datasets\\CholecSeg8k\\test\\Masks\\Liver\\video20\\video20_03260\\3333.jpg\n",
      "No matching mask found for frame: c:\\Users\\devan\\Downloads\\SAM2_Eval\\SAM2_Eval_Surgical_Datasets\\temp_jpg_frames\\3333.jpg\n",
      "Looking for mask in: c:\\Users\\devan\\Downloads\\SAM2_Eval\\SAM2_Eval_Surgical_Datasets\\../Datasets\\CholecSeg8k\\test\\Masks\\Abdominal Wall\\video20\\video20_03260\\3334.jpg\n",
      "Looking for mask in: c:\\Users\\devan\\Downloads\\SAM2_Eval\\SAM2_Eval_Surgical_Datasets\\../Datasets\\CholecSeg8k\\test\\Masks\\Fat\\video20\\video20_03260\\3334.jpg\n",
      "Looking for mask in: c:\\Users\\devan\\Downloads\\SAM2_Eval\\SAM2_Eval_Surgical_Datasets\\../Datasets\\CholecSeg8k\\test\\Masks\\Gall bladder\\video20\\video20_03260\\3334.jpg\n",
      "Looking for mask in: c:\\Users\\devan\\Downloads\\SAM2_Eval\\SAM2_Eval_Surgical_Datasets\\../Datasets\\CholecSeg8k\\test\\Masks\\Gastrointestinal Tract\\video20\\video20_03260\\3334.jpg\n",
      "Looking for mask in: c:\\Users\\devan\\Downloads\\SAM2_Eval\\SAM2_Eval_Surgical_Datasets\\../Datasets\\CholecSeg8k\\test\\Masks\\Grasper\\video20\\video20_03260\\3334.jpg\n",
      "Looking for mask in: c:\\Users\\devan\\Downloads\\SAM2_Eval\\SAM2_Eval_Surgical_Datasets\\../Datasets\\CholecSeg8k\\test\\Masks\\L-hook Electrocautery\\video20\\video20_03260\\3334.jpg\n",
      "Looking for mask in: c:\\Users\\devan\\Downloads\\SAM2_Eval\\SAM2_Eval_Surgical_Datasets\\../Datasets\\CholecSeg8k\\test\\Masks\\Liver\\video20\\video20_03260\\3334.jpg\n",
      "No matching mask found for frame: c:\\Users\\devan\\Downloads\\SAM2_Eval\\SAM2_Eval_Surgical_Datasets\\temp_jpg_frames\\3334.jpg\n",
      "Looking for mask in: c:\\Users\\devan\\Downloads\\SAM2_Eval\\SAM2_Eval_Surgical_Datasets\\../Datasets\\CholecSeg8k\\test\\Masks\\Abdominal Wall\\video20\\video20_03260\\3335.jpg\n",
      "Looking for mask in: c:\\Users\\devan\\Downloads\\SAM2_Eval\\SAM2_Eval_Surgical_Datasets\\../Datasets\\CholecSeg8k\\test\\Masks\\Fat\\video20\\video20_03260\\3335.jpg\n",
      "Looking for mask in: c:\\Users\\devan\\Downloads\\SAM2_Eval\\SAM2_Eval_Surgical_Datasets\\../Datasets\\CholecSeg8k\\test\\Masks\\Gall bladder\\video20\\video20_03260\\3335.jpg\n",
      "Looking for mask in: c:\\Users\\devan\\Downloads\\SAM2_Eval\\SAM2_Eval_Surgical_Datasets\\../Datasets\\CholecSeg8k\\test\\Masks\\Gastrointestinal Tract\\video20\\video20_03260\\3335.jpg\n",
      "Looking for mask in: c:\\Users\\devan\\Downloads\\SAM2_Eval\\SAM2_Eval_Surgical_Datasets\\../Datasets\\CholecSeg8k\\test\\Masks\\Grasper\\video20\\video20_03260\\3335.jpg\n",
      "Looking for mask in: c:\\Users\\devan\\Downloads\\SAM2_Eval\\SAM2_Eval_Surgical_Datasets\\../Datasets\\CholecSeg8k\\test\\Masks\\L-hook Electrocautery\\video20\\video20_03260\\3335.jpg\n",
      "Looking for mask in: c:\\Users\\devan\\Downloads\\SAM2_Eval\\SAM2_Eval_Surgical_Datasets\\../Datasets\\CholecSeg8k\\test\\Masks\\Liver\\video20\\video20_03260\\3335.jpg\n",
      "No matching mask found for frame: c:\\Users\\devan\\Downloads\\SAM2_Eval\\SAM2_Eval_Surgical_Datasets\\temp_jpg_frames\\3335.jpg\n",
      "Looking for mask in: c:\\Users\\devan\\Downloads\\SAM2_Eval\\SAM2_Eval_Surgical_Datasets\\../Datasets\\CholecSeg8k\\test\\Masks\\Abdominal Wall\\video20\\video20_03260\\3336.jpg\n",
      "Looking for mask in: c:\\Users\\devan\\Downloads\\SAM2_Eval\\SAM2_Eval_Surgical_Datasets\\../Datasets\\CholecSeg8k\\test\\Masks\\Fat\\video20\\video20_03260\\3336.jpg\n",
      "Looking for mask in: c:\\Users\\devan\\Downloads\\SAM2_Eval\\SAM2_Eval_Surgical_Datasets\\../Datasets\\CholecSeg8k\\test\\Masks\\Gall bladder\\video20\\video20_03260\\3336.jpg\n",
      "Looking for mask in: c:\\Users\\devan\\Downloads\\SAM2_Eval\\SAM2_Eval_Surgical_Datasets\\../Datasets\\CholecSeg8k\\test\\Masks\\Gastrointestinal Tract\\video20\\video20_03260\\3336.jpg\n",
      "Looking for mask in: c:\\Users\\devan\\Downloads\\SAM2_Eval\\SAM2_Eval_Surgical_Datasets\\../Datasets\\CholecSeg8k\\test\\Masks\\Grasper\\video20\\video20_03260\\3336.jpg\n",
      "Looking for mask in: c:\\Users\\devan\\Downloads\\SAM2_Eval\\SAM2_Eval_Surgical_Datasets\\../Datasets\\CholecSeg8k\\test\\Masks\\L-hook Electrocautery\\video20\\video20_03260\\3336.jpg\n",
      "Looking for mask in: c:\\Users\\devan\\Downloads\\SAM2_Eval\\SAM2_Eval_Surgical_Datasets\\../Datasets\\CholecSeg8k\\test\\Masks\\Liver\\video20\\video20_03260\\3336.jpg\n",
      "No matching mask found for frame: c:\\Users\\devan\\Downloads\\SAM2_Eval\\SAM2_Eval_Surgical_Datasets\\temp_jpg_frames\\3336.jpg\n",
      "Looking for mask in: c:\\Users\\devan\\Downloads\\SAM2_Eval\\SAM2_Eval_Surgical_Datasets\\../Datasets\\CholecSeg8k\\test\\Masks\\Abdominal Wall\\video20\\video20_03260\\3337.jpg\n",
      "Looking for mask in: c:\\Users\\devan\\Downloads\\SAM2_Eval\\SAM2_Eval_Surgical_Datasets\\../Datasets\\CholecSeg8k\\test\\Masks\\Fat\\video20\\video20_03260\\3337.jpg\n",
      "Looking for mask in: c:\\Users\\devan\\Downloads\\SAM2_Eval\\SAM2_Eval_Surgical_Datasets\\../Datasets\\CholecSeg8k\\test\\Masks\\Gall bladder\\video20\\video20_03260\\3337.jpg\n",
      "Looking for mask in: c:\\Users\\devan\\Downloads\\SAM2_Eval\\SAM2_Eval_Surgical_Datasets\\../Datasets\\CholecSeg8k\\test\\Masks\\Gastrointestinal Tract\\video20\\video20_03260\\3337.jpg\n",
      "Looking for mask in: c:\\Users\\devan\\Downloads\\SAM2_Eval\\SAM2_Eval_Surgical_Datasets\\../Datasets\\CholecSeg8k\\test\\Masks\\Grasper\\video20\\video20_03260\\3337.jpg\n",
      "Looking for mask in: c:\\Users\\devan\\Downloads\\SAM2_Eval\\SAM2_Eval_Surgical_Datasets\\../Datasets\\CholecSeg8k\\test\\Masks\\L-hook Electrocautery\\video20\\video20_03260\\3337.jpg\n",
      "Looking for mask in: c:\\Users\\devan\\Downloads\\SAM2_Eval\\SAM2_Eval_Surgical_Datasets\\../Datasets\\CholecSeg8k\\test\\Masks\\Liver\\video20\\video20_03260\\3337.jpg\n",
      "No matching mask found for frame: c:\\Users\\devan\\Downloads\\SAM2_Eval\\SAM2_Eval_Surgical_Datasets\\temp_jpg_frames\\3337.jpg\n",
      "Looking for mask in: c:\\Users\\devan\\Downloads\\SAM2_Eval\\SAM2_Eval_Surgical_Datasets\\../Datasets\\CholecSeg8k\\test\\Masks\\Abdominal Wall\\video20\\video20_03260\\3338.jpg\n",
      "Looking for mask in: c:\\Users\\devan\\Downloads\\SAM2_Eval\\SAM2_Eval_Surgical_Datasets\\../Datasets\\CholecSeg8k\\test\\Masks\\Fat\\video20\\video20_03260\\3338.jpg\n",
      "Looking for mask in: c:\\Users\\devan\\Downloads\\SAM2_Eval\\SAM2_Eval_Surgical_Datasets\\../Datasets\\CholecSeg8k\\test\\Masks\\Gall bladder\\video20\\video20_03260\\3338.jpg\n",
      "Looking for mask in: c:\\Users\\devan\\Downloads\\SAM2_Eval\\SAM2_Eval_Surgical_Datasets\\../Datasets\\CholecSeg8k\\test\\Masks\\Gastrointestinal Tract\\video20\\video20_03260\\3338.jpg\n",
      "Looking for mask in: c:\\Users\\devan\\Downloads\\SAM2_Eval\\SAM2_Eval_Surgical_Datasets\\../Datasets\\CholecSeg8k\\test\\Masks\\Grasper\\video20\\video20_03260\\3338.jpg\n",
      "Looking for mask in: c:\\Users\\devan\\Downloads\\SAM2_Eval\\SAM2_Eval_Surgical_Datasets\\../Datasets\\CholecSeg8k\\test\\Masks\\L-hook Electrocautery\\video20\\video20_03260\\3338.jpg\n",
      "Looking for mask in: c:\\Users\\devan\\Downloads\\SAM2_Eval\\SAM2_Eval_Surgical_Datasets\\../Datasets\\CholecSeg8k\\test\\Masks\\Liver\\video20\\video20_03260\\3338.jpg\n",
      "No matching mask found for frame: c:\\Users\\devan\\Downloads\\SAM2_Eval\\SAM2_Eval_Surgical_Datasets\\temp_jpg_frames\\3338.jpg\n",
      "Looking for mask in: c:\\Users\\devan\\Downloads\\SAM2_Eval\\SAM2_Eval_Surgical_Datasets\\../Datasets\\CholecSeg8k\\test\\Masks\\Abdominal Wall\\video20\\video20_03260\\3339.jpg\n",
      "Looking for mask in: c:\\Users\\devan\\Downloads\\SAM2_Eval\\SAM2_Eval_Surgical_Datasets\\../Datasets\\CholecSeg8k\\test\\Masks\\Fat\\video20\\video20_03260\\3339.jpg\n",
      "Looking for mask in: c:\\Users\\devan\\Downloads\\SAM2_Eval\\SAM2_Eval_Surgical_Datasets\\../Datasets\\CholecSeg8k\\test\\Masks\\Gall bladder\\video20\\video20_03260\\3339.jpg\n",
      "Looking for mask in: c:\\Users\\devan\\Downloads\\SAM2_Eval\\SAM2_Eval_Surgical_Datasets\\../Datasets\\CholecSeg8k\\test\\Masks\\Gastrointestinal Tract\\video20\\video20_03260\\3339.jpg\n",
      "Looking for mask in: c:\\Users\\devan\\Downloads\\SAM2_Eval\\SAM2_Eval_Surgical_Datasets\\../Datasets\\CholecSeg8k\\test\\Masks\\Grasper\\video20\\video20_03260\\3339.jpg\n",
      "Looking for mask in: c:\\Users\\devan\\Downloads\\SAM2_Eval\\SAM2_Eval_Surgical_Datasets\\../Datasets\\CholecSeg8k\\test\\Masks\\L-hook Electrocautery\\video20\\video20_03260\\3339.jpg\n",
      "Looking for mask in: c:\\Users\\devan\\Downloads\\SAM2_Eval\\SAM2_Eval_Surgical_Datasets\\../Datasets\\CholecSeg8k\\test\\Masks\\Liver\\video20\\video20_03260\\3339.jpg\n",
      "No matching mask found for frame: c:\\Users\\devan\\Downloads\\SAM2_Eval\\SAM2_Eval_Surgical_Datasets\\temp_jpg_frames\\3339.jpg\n",
      "Looking for mask in: c:\\Users\\devan\\Downloads\\SAM2_Eval\\SAM2_Eval_Surgical_Datasets\\../Datasets\\CholecSeg8k\\test\\Masks\\Abdominal Wall\\video20\\video20_03340\\3340.jpg\n",
      "Looking for mask in: c:\\Users\\devan\\Downloads\\SAM2_Eval\\SAM2_Eval_Surgical_Datasets\\../Datasets\\CholecSeg8k\\test\\Masks\\Fat\\video20\\video20_03340\\3340.jpg\n",
      "Looking for mask in: c:\\Users\\devan\\Downloads\\SAM2_Eval\\SAM2_Eval_Surgical_Datasets\\../Datasets\\CholecSeg8k\\test\\Masks\\Gall bladder\\video20\\video20_03340\\3340.jpg\n",
      "Looking for mask in: c:\\Users\\devan\\Downloads\\SAM2_Eval\\SAM2_Eval_Surgical_Datasets\\../Datasets\\CholecSeg8k\\test\\Masks\\Gastrointestinal Tract\\video20\\video20_03340\\3340.jpg\n",
      "Looking for mask in: c:\\Users\\devan\\Downloads\\SAM2_Eval\\SAM2_Eval_Surgical_Datasets\\../Datasets\\CholecSeg8k\\test\\Masks\\Grasper\\video20\\video20_03340\\3340.jpg\n",
      "Looking for mask in: c:\\Users\\devan\\Downloads\\SAM2_Eval\\SAM2_Eval_Surgical_Datasets\\../Datasets\\CholecSeg8k\\test\\Masks\\L-hook Electrocautery\\video20\\video20_03340\\3340.jpg\n",
      "Looking for mask in: c:\\Users\\devan\\Downloads\\SAM2_Eval\\SAM2_Eval_Surgical_Datasets\\../Datasets\\CholecSeg8k\\test\\Masks\\Liver\\video20\\video20_03340\\3340.jpg\n",
      "No matching mask found for frame: c:\\Users\\devan\\Downloads\\SAM2_Eval\\SAM2_Eval_Surgical_Datasets\\temp_jpg_frames\\3340.jpg\n",
      "Looking for mask in: c:\\Users\\devan\\Downloads\\SAM2_Eval\\SAM2_Eval_Surgical_Datasets\\../Datasets\\CholecSeg8k\\test\\Masks\\Abdominal Wall\\video20\\video20_03340\\3341.jpg\n",
      "Looking for mask in: c:\\Users\\devan\\Downloads\\SAM2_Eval\\SAM2_Eval_Surgical_Datasets\\../Datasets\\CholecSeg8k\\test\\Masks\\Fat\\video20\\video20_03340\\3341.jpg\n",
      "Looking for mask in: c:\\Users\\devan\\Downloads\\SAM2_Eval\\SAM2_Eval_Surgical_Datasets\\../Datasets\\CholecSeg8k\\test\\Masks\\Gall bladder\\video20\\video20_03340\\3341.jpg\n",
      "Looking for mask in: c:\\Users\\devan\\Downloads\\SAM2_Eval\\SAM2_Eval_Surgical_Datasets\\../Datasets\\CholecSeg8k\\test\\Masks\\Gastrointestinal Tract\\video20\\video20_03340\\3341.jpg\n",
      "Looking for mask in: c:\\Users\\devan\\Downloads\\SAM2_Eval\\SAM2_Eval_Surgical_Datasets\\../Datasets\\CholecSeg8k\\test\\Masks\\Grasper\\video20\\video20_03340\\3341.jpg\n",
      "Looking for mask in: c:\\Users\\devan\\Downloads\\SAM2_Eval\\SAM2_Eval_Surgical_Datasets\\../Datasets\\CholecSeg8k\\test\\Masks\\L-hook Electrocautery\\video20\\video20_03340\\3341.jpg\n",
      "Looking for mask in: c:\\Users\\devan\\Downloads\\SAM2_Eval\\SAM2_Eval_Surgical_Datasets\\../Datasets\\CholecSeg8k\\test\\Masks\\Liver\\video20\\video20_03340\\3341.jpg\n",
      "No matching mask found for frame: c:\\Users\\devan\\Downloads\\SAM2_Eval\\SAM2_Eval_Surgical_Datasets\\temp_jpg_frames\\3341.jpg\n",
      "Looking for mask in: c:\\Users\\devan\\Downloads\\SAM2_Eval\\SAM2_Eval_Surgical_Datasets\\../Datasets\\CholecSeg8k\\test\\Masks\\Abdominal Wall\\video20\\video20_03340\\3342.jpg\n",
      "Looking for mask in: c:\\Users\\devan\\Downloads\\SAM2_Eval\\SAM2_Eval_Surgical_Datasets\\../Datasets\\CholecSeg8k\\test\\Masks\\Fat\\video20\\video20_03340\\3342.jpg\n",
      "Looking for mask in: c:\\Users\\devan\\Downloads\\SAM2_Eval\\SAM2_Eval_Surgical_Datasets\\../Datasets\\CholecSeg8k\\test\\Masks\\Gall bladder\\video20\\video20_03340\\3342.jpg\n",
      "Looking for mask in: c:\\Users\\devan\\Downloads\\SAM2_Eval\\SAM2_Eval_Surgical_Datasets\\../Datasets\\CholecSeg8k\\test\\Masks\\Gastrointestinal Tract\\video20\\video20_03340\\3342.jpg\n",
      "Looking for mask in: c:\\Users\\devan\\Downloads\\SAM2_Eval\\SAM2_Eval_Surgical_Datasets\\../Datasets\\CholecSeg8k\\test\\Masks\\Grasper\\video20\\video20_03340\\3342.jpg\n",
      "Looking for mask in: c:\\Users\\devan\\Downloads\\SAM2_Eval\\SAM2_Eval_Surgical_Datasets\\../Datasets\\CholecSeg8k\\test\\Masks\\L-hook Electrocautery\\video20\\video20_03340\\3342.jpg\n",
      "Looking for mask in: c:\\Users\\devan\\Downloads\\SAM2_Eval\\SAM2_Eval_Surgical_Datasets\\../Datasets\\CholecSeg8k\\test\\Masks\\Liver\\video20\\video20_03340\\3342.jpg\n",
      "No matching mask found for frame: c:\\Users\\devan\\Downloads\\SAM2_Eval\\SAM2_Eval_Surgical_Datasets\\temp_jpg_frames\\3342.jpg\n",
      "Looking for mask in: c:\\Users\\devan\\Downloads\\SAM2_Eval\\SAM2_Eval_Surgical_Datasets\\../Datasets\\CholecSeg8k\\test\\Masks\\Abdominal Wall\\video20\\video20_03340\\3343.jpg\n",
      "Looking for mask in: c:\\Users\\devan\\Downloads\\SAM2_Eval\\SAM2_Eval_Surgical_Datasets\\../Datasets\\CholecSeg8k\\test\\Masks\\Fat\\video20\\video20_03340\\3343.jpg\n",
      "Looking for mask in: c:\\Users\\devan\\Downloads\\SAM2_Eval\\SAM2_Eval_Surgical_Datasets\\../Datasets\\CholecSeg8k\\test\\Masks\\Gall bladder\\video20\\video20_03340\\3343.jpg\n",
      "Looking for mask in: c:\\Users\\devan\\Downloads\\SAM2_Eval\\SAM2_Eval_Surgical_Datasets\\../Datasets\\CholecSeg8k\\test\\Masks\\Gastrointestinal Tract\\video20\\video20_03340\\3343.jpg\n",
      "Looking for mask in: c:\\Users\\devan\\Downloads\\SAM2_Eval\\SAM2_Eval_Surgical_Datasets\\../Datasets\\CholecSeg8k\\test\\Masks\\Grasper\\video20\\video20_03340\\3343.jpg\n",
      "Looking for mask in: c:\\Users\\devan\\Downloads\\SAM2_Eval\\SAM2_Eval_Surgical_Datasets\\../Datasets\\CholecSeg8k\\test\\Masks\\L-hook Electrocautery\\video20\\video20_03340\\3343.jpg\n",
      "Looking for mask in: c:\\Users\\devan\\Downloads\\SAM2_Eval\\SAM2_Eval_Surgical_Datasets\\../Datasets\\CholecSeg8k\\test\\Masks\\Liver\\video20\\video20_03340\\3343.jpg\n",
      "No matching mask found for frame: c:\\Users\\devan\\Downloads\\SAM2_Eval\\SAM2_Eval_Surgical_Datasets\\temp_jpg_frames\\3343.jpg\n",
      "Looking for mask in: c:\\Users\\devan\\Downloads\\SAM2_Eval\\SAM2_Eval_Surgical_Datasets\\../Datasets\\CholecSeg8k\\test\\Masks\\Abdominal Wall\\video20\\video20_03340\\3344.jpg\n",
      "Looking for mask in: c:\\Users\\devan\\Downloads\\SAM2_Eval\\SAM2_Eval_Surgical_Datasets\\../Datasets\\CholecSeg8k\\test\\Masks\\Fat\\video20\\video20_03340\\3344.jpg\n",
      "Looking for mask in: c:\\Users\\devan\\Downloads\\SAM2_Eval\\SAM2_Eval_Surgical_Datasets\\../Datasets\\CholecSeg8k\\test\\Masks\\Gall bladder\\video20\\video20_03340\\3344.jpg\n",
      "Looking for mask in: c:\\Users\\devan\\Downloads\\SAM2_Eval\\SAM2_Eval_Surgical_Datasets\\../Datasets\\CholecSeg8k\\test\\Masks\\Gastrointestinal Tract\\video20\\video20_03340\\3344.jpg\n",
      "Looking for mask in: c:\\Users\\devan\\Downloads\\SAM2_Eval\\SAM2_Eval_Surgical_Datasets\\../Datasets\\CholecSeg8k\\test\\Masks\\Grasper\\video20\\video20_03340\\3344.jpg\n",
      "Looking for mask in: c:\\Users\\devan\\Downloads\\SAM2_Eval\\SAM2_Eval_Surgical_Datasets\\../Datasets\\CholecSeg8k\\test\\Masks\\L-hook Electrocautery\\video20\\video20_03340\\3344.jpg\n",
      "Looking for mask in: c:\\Users\\devan\\Downloads\\SAM2_Eval\\SAM2_Eval_Surgical_Datasets\\../Datasets\\CholecSeg8k\\test\\Masks\\Liver\\video20\\video20_03340\\3344.jpg\n",
      "No matching mask found for frame: c:\\Users\\devan\\Downloads\\SAM2_Eval\\SAM2_Eval_Surgical_Datasets\\temp_jpg_frames\\3344.jpg\n",
      "Looking for mask in: c:\\Users\\devan\\Downloads\\SAM2_Eval\\SAM2_Eval_Surgical_Datasets\\../Datasets\\CholecSeg8k\\test\\Masks\\Abdominal Wall\\video20\\video20_03340\\3345.jpg\n",
      "Looking for mask in: c:\\Users\\devan\\Downloads\\SAM2_Eval\\SAM2_Eval_Surgical_Datasets\\../Datasets\\CholecSeg8k\\test\\Masks\\Fat\\video20\\video20_03340\\3345.jpg\n",
      "Looking for mask in: c:\\Users\\devan\\Downloads\\SAM2_Eval\\SAM2_Eval_Surgical_Datasets\\../Datasets\\CholecSeg8k\\test\\Masks\\Gall bladder\\video20\\video20_03340\\3345.jpg\n",
      "Looking for mask in: c:\\Users\\devan\\Downloads\\SAM2_Eval\\SAM2_Eval_Surgical_Datasets\\../Datasets\\CholecSeg8k\\test\\Masks\\Gastrointestinal Tract\\video20\\video20_03340\\3345.jpg\n",
      "Looking for mask in: c:\\Users\\devan\\Downloads\\SAM2_Eval\\SAM2_Eval_Surgical_Datasets\\../Datasets\\CholecSeg8k\\test\\Masks\\Grasper\\video20\\video20_03340\\3345.jpg\n",
      "Looking for mask in: c:\\Users\\devan\\Downloads\\SAM2_Eval\\SAM2_Eval_Surgical_Datasets\\../Datasets\\CholecSeg8k\\test\\Masks\\L-hook Electrocautery\\video20\\video20_03340\\3345.jpg\n",
      "Looking for mask in: c:\\Users\\devan\\Downloads\\SAM2_Eval\\SAM2_Eval_Surgical_Datasets\\../Datasets\\CholecSeg8k\\test\\Masks\\Liver\\video20\\video20_03340\\3345.jpg\n",
      "No matching mask found for frame: c:\\Users\\devan\\Downloads\\SAM2_Eval\\SAM2_Eval_Surgical_Datasets\\temp_jpg_frames\\3345.jpg\n",
      "Looking for mask in: c:\\Users\\devan\\Downloads\\SAM2_Eval\\SAM2_Eval_Surgical_Datasets\\../Datasets\\CholecSeg8k\\test\\Masks\\Abdominal Wall\\video20\\video20_03340\\3346.jpg\n",
      "Looking for mask in: c:\\Users\\devan\\Downloads\\SAM2_Eval\\SAM2_Eval_Surgical_Datasets\\../Datasets\\CholecSeg8k\\test\\Masks\\Fat\\video20\\video20_03340\\3346.jpg\n",
      "Looking for mask in: c:\\Users\\devan\\Downloads\\SAM2_Eval\\SAM2_Eval_Surgical_Datasets\\../Datasets\\CholecSeg8k\\test\\Masks\\Gall bladder\\video20\\video20_03340\\3346.jpg\n",
      "Looking for mask in: c:\\Users\\devan\\Downloads\\SAM2_Eval\\SAM2_Eval_Surgical_Datasets\\../Datasets\\CholecSeg8k\\test\\Masks\\Gastrointestinal Tract\\video20\\video20_03340\\3346.jpg\n",
      "Looking for mask in: c:\\Users\\devan\\Downloads\\SAM2_Eval\\SAM2_Eval_Surgical_Datasets\\../Datasets\\CholecSeg8k\\test\\Masks\\Grasper\\video20\\video20_03340\\3346.jpg\n",
      "Looking for mask in: c:\\Users\\devan\\Downloads\\SAM2_Eval\\SAM2_Eval_Surgical_Datasets\\../Datasets\\CholecSeg8k\\test\\Masks\\L-hook Electrocautery\\video20\\video20_03340\\3346.jpg\n",
      "Looking for mask in: c:\\Users\\devan\\Downloads\\SAM2_Eval\\SAM2_Eval_Surgical_Datasets\\../Datasets\\CholecSeg8k\\test\\Masks\\Liver\\video20\\video20_03340\\3346.jpg\n",
      "No matching mask found for frame: c:\\Users\\devan\\Downloads\\SAM2_Eval\\SAM2_Eval_Surgical_Datasets\\temp_jpg_frames\\3346.jpg\n",
      "Looking for mask in: c:\\Users\\devan\\Downloads\\SAM2_Eval\\SAM2_Eval_Surgical_Datasets\\../Datasets\\CholecSeg8k\\test\\Masks\\Abdominal Wall\\video20\\video20_03340\\3347.jpg\n",
      "Looking for mask in: c:\\Users\\devan\\Downloads\\SAM2_Eval\\SAM2_Eval_Surgical_Datasets\\../Datasets\\CholecSeg8k\\test\\Masks\\Fat\\video20\\video20_03340\\3347.jpg\n",
      "Looking for mask in: c:\\Users\\devan\\Downloads\\SAM2_Eval\\SAM2_Eval_Surgical_Datasets\\../Datasets\\CholecSeg8k\\test\\Masks\\Gall bladder\\video20\\video20_03340\\3347.jpg\n",
      "Looking for mask in: c:\\Users\\devan\\Downloads\\SAM2_Eval\\SAM2_Eval_Surgical_Datasets\\../Datasets\\CholecSeg8k\\test\\Masks\\Gastrointestinal Tract\\video20\\video20_03340\\3347.jpg\n",
      "Looking for mask in: c:\\Users\\devan\\Downloads\\SAM2_Eval\\SAM2_Eval_Surgical_Datasets\\../Datasets\\CholecSeg8k\\test\\Masks\\Grasper\\video20\\video20_03340\\3347.jpg\n",
      "Looking for mask in: c:\\Users\\devan\\Downloads\\SAM2_Eval\\SAM2_Eval_Surgical_Datasets\\../Datasets\\CholecSeg8k\\test\\Masks\\L-hook Electrocautery\\video20\\video20_03340\\3347.jpg\n",
      "Looking for mask in: c:\\Users\\devan\\Downloads\\SAM2_Eval\\SAM2_Eval_Surgical_Datasets\\../Datasets\\CholecSeg8k\\test\\Masks\\Liver\\video20\\video20_03340\\3347.jpg\n",
      "No matching mask found for frame: c:\\Users\\devan\\Downloads\\SAM2_Eval\\SAM2_Eval_Surgical_Datasets\\temp_jpg_frames\\3347.jpg\n",
      "Looking for mask in: c:\\Users\\devan\\Downloads\\SAM2_Eval\\SAM2_Eval_Surgical_Datasets\\../Datasets\\CholecSeg8k\\test\\Masks\\Abdominal Wall\\video20\\video20_03340\\3348.jpg\n",
      "Looking for mask in: c:\\Users\\devan\\Downloads\\SAM2_Eval\\SAM2_Eval_Surgical_Datasets\\../Datasets\\CholecSeg8k\\test\\Masks\\Fat\\video20\\video20_03340\\3348.jpg\n",
      "Looking for mask in: c:\\Users\\devan\\Downloads\\SAM2_Eval\\SAM2_Eval_Surgical_Datasets\\../Datasets\\CholecSeg8k\\test\\Masks\\Gall bladder\\video20\\video20_03340\\3348.jpg\n",
      "Looking for mask in: c:\\Users\\devan\\Downloads\\SAM2_Eval\\SAM2_Eval_Surgical_Datasets\\../Datasets\\CholecSeg8k\\test\\Masks\\Gastrointestinal Tract\\video20\\video20_03340\\3348.jpg\n",
      "Looking for mask in: c:\\Users\\devan\\Downloads\\SAM2_Eval\\SAM2_Eval_Surgical_Datasets\\../Datasets\\CholecSeg8k\\test\\Masks\\Grasper\\video20\\video20_03340\\3348.jpg\n",
      "Looking for mask in: c:\\Users\\devan\\Downloads\\SAM2_Eval\\SAM2_Eval_Surgical_Datasets\\../Datasets\\CholecSeg8k\\test\\Masks\\L-hook Electrocautery\\video20\\video20_03340\\3348.jpg\n",
      "Looking for mask in: c:\\Users\\devan\\Downloads\\SAM2_Eval\\SAM2_Eval_Surgical_Datasets\\../Datasets\\CholecSeg8k\\test\\Masks\\Liver\\video20\\video20_03340\\3348.jpg\n",
      "No matching mask found for frame: c:\\Users\\devan\\Downloads\\SAM2_Eval\\SAM2_Eval_Surgical_Datasets\\temp_jpg_frames\\3348.jpg\n",
      "Looking for mask in: c:\\Users\\devan\\Downloads\\SAM2_Eval\\SAM2_Eval_Surgical_Datasets\\../Datasets\\CholecSeg8k\\test\\Masks\\Abdominal Wall\\video20\\video20_03340\\3349.jpg\n",
      "Looking for mask in: c:\\Users\\devan\\Downloads\\SAM2_Eval\\SAM2_Eval_Surgical_Datasets\\../Datasets\\CholecSeg8k\\test\\Masks\\Fat\\video20\\video20_03340\\3349.jpg\n",
      "Looking for mask in: c:\\Users\\devan\\Downloads\\SAM2_Eval\\SAM2_Eval_Surgical_Datasets\\../Datasets\\CholecSeg8k\\test\\Masks\\Gall bladder\\video20\\video20_03340\\3349.jpg\n",
      "Looking for mask in: c:\\Users\\devan\\Downloads\\SAM2_Eval\\SAM2_Eval_Surgical_Datasets\\../Datasets\\CholecSeg8k\\test\\Masks\\Gastrointestinal Tract\\video20\\video20_03340\\3349.jpg\n",
      "Looking for mask in: c:\\Users\\devan\\Downloads\\SAM2_Eval\\SAM2_Eval_Surgical_Datasets\\../Datasets\\CholecSeg8k\\test\\Masks\\Grasper\\video20\\video20_03340\\3349.jpg\n",
      "Looking for mask in: c:\\Users\\devan\\Downloads\\SAM2_Eval\\SAM2_Eval_Surgical_Datasets\\../Datasets\\CholecSeg8k\\test\\Masks\\L-hook Electrocautery\\video20\\video20_03340\\3349.jpg\n",
      "Looking for mask in: c:\\Users\\devan\\Downloads\\SAM2_Eval\\SAM2_Eval_Surgical_Datasets\\../Datasets\\CholecSeg8k\\test\\Masks\\Liver\\video20\\video20_03340\\3349.jpg\n",
      "No matching mask found for frame: c:\\Users\\devan\\Downloads\\SAM2_Eval\\SAM2_Eval_Surgical_Datasets\\temp_jpg_frames\\3349.jpg\n",
      "Looking for mask in: c:\\Users\\devan\\Downloads\\SAM2_Eval\\SAM2_Eval_Surgical_Datasets\\../Datasets\\CholecSeg8k\\test\\Masks\\Abdominal Wall\\video20\\video20_03340\\3350.jpg\n",
      "Looking for mask in: c:\\Users\\devan\\Downloads\\SAM2_Eval\\SAM2_Eval_Surgical_Datasets\\../Datasets\\CholecSeg8k\\test\\Masks\\Fat\\video20\\video20_03340\\3350.jpg\n",
      "Looking for mask in: c:\\Users\\devan\\Downloads\\SAM2_Eval\\SAM2_Eval_Surgical_Datasets\\../Datasets\\CholecSeg8k\\test\\Masks\\Gall bladder\\video20\\video20_03340\\3350.jpg\n",
      "Looking for mask in: c:\\Users\\devan\\Downloads\\SAM2_Eval\\SAM2_Eval_Surgical_Datasets\\../Datasets\\CholecSeg8k\\test\\Masks\\Gastrointestinal Tract\\video20\\video20_03340\\3350.jpg\n",
      "Looking for mask in: c:\\Users\\devan\\Downloads\\SAM2_Eval\\SAM2_Eval_Surgical_Datasets\\../Datasets\\CholecSeg8k\\test\\Masks\\Grasper\\video20\\video20_03340\\3350.jpg\n",
      "Looking for mask in: c:\\Users\\devan\\Downloads\\SAM2_Eval\\SAM2_Eval_Surgical_Datasets\\../Datasets\\CholecSeg8k\\test\\Masks\\L-hook Electrocautery\\video20\\video20_03340\\3350.jpg\n",
      "Looking for mask in: c:\\Users\\devan\\Downloads\\SAM2_Eval\\SAM2_Eval_Surgical_Datasets\\../Datasets\\CholecSeg8k\\test\\Masks\\Liver\\video20\\video20_03340\\3350.jpg\n",
      "No matching mask found for frame: c:\\Users\\devan\\Downloads\\SAM2_Eval\\SAM2_Eval_Surgical_Datasets\\temp_jpg_frames\\3350.jpg\n",
      "Looking for mask in: c:\\Users\\devan\\Downloads\\SAM2_Eval\\SAM2_Eval_Surgical_Datasets\\../Datasets\\CholecSeg8k\\test\\Masks\\Abdominal Wall\\video20\\video20_03340\\3351.jpg\n",
      "Looking for mask in: c:\\Users\\devan\\Downloads\\SAM2_Eval\\SAM2_Eval_Surgical_Datasets\\../Datasets\\CholecSeg8k\\test\\Masks\\Fat\\video20\\video20_03340\\3351.jpg\n",
      "Looking for mask in: c:\\Users\\devan\\Downloads\\SAM2_Eval\\SAM2_Eval_Surgical_Datasets\\../Datasets\\CholecSeg8k\\test\\Masks\\Gall bladder\\video20\\video20_03340\\3351.jpg\n",
      "Looking for mask in: c:\\Users\\devan\\Downloads\\SAM2_Eval\\SAM2_Eval_Surgical_Datasets\\../Datasets\\CholecSeg8k\\test\\Masks\\Gastrointestinal Tract\\video20\\video20_03340\\3351.jpg\n",
      "Looking for mask in: c:\\Users\\devan\\Downloads\\SAM2_Eval\\SAM2_Eval_Surgical_Datasets\\../Datasets\\CholecSeg8k\\test\\Masks\\Grasper\\video20\\video20_03340\\3351.jpg\n",
      "Looking for mask in: c:\\Users\\devan\\Downloads\\SAM2_Eval\\SAM2_Eval_Surgical_Datasets\\../Datasets\\CholecSeg8k\\test\\Masks\\L-hook Electrocautery\\video20\\video20_03340\\3351.jpg\n",
      "Looking for mask in: c:\\Users\\devan\\Downloads\\SAM2_Eval\\SAM2_Eval_Surgical_Datasets\\../Datasets\\CholecSeg8k\\test\\Masks\\Liver\\video20\\video20_03340\\3351.jpg\n",
      "No matching mask found for frame: c:\\Users\\devan\\Downloads\\SAM2_Eval\\SAM2_Eval_Surgical_Datasets\\temp_jpg_frames\\3351.jpg\n",
      "Looking for mask in: c:\\Users\\devan\\Downloads\\SAM2_Eval\\SAM2_Eval_Surgical_Datasets\\../Datasets\\CholecSeg8k\\test\\Masks\\Abdominal Wall\\video20\\video20_03340\\3352.jpg\n",
      "Looking for mask in: c:\\Users\\devan\\Downloads\\SAM2_Eval\\SAM2_Eval_Surgical_Datasets\\../Datasets\\CholecSeg8k\\test\\Masks\\Fat\\video20\\video20_03340\\3352.jpg\n",
      "Looking for mask in: c:\\Users\\devan\\Downloads\\SAM2_Eval\\SAM2_Eval_Surgical_Datasets\\../Datasets\\CholecSeg8k\\test\\Masks\\Gall bladder\\video20\\video20_03340\\3352.jpg\n",
      "Looking for mask in: c:\\Users\\devan\\Downloads\\SAM2_Eval\\SAM2_Eval_Surgical_Datasets\\../Datasets\\CholecSeg8k\\test\\Masks\\Gastrointestinal Tract\\video20\\video20_03340\\3352.jpg\n",
      "Looking for mask in: c:\\Users\\devan\\Downloads\\SAM2_Eval\\SAM2_Eval_Surgical_Datasets\\../Datasets\\CholecSeg8k\\test\\Masks\\Grasper\\video20\\video20_03340\\3352.jpg\n",
      "Looking for mask in: c:\\Users\\devan\\Downloads\\SAM2_Eval\\SAM2_Eval_Surgical_Datasets\\../Datasets\\CholecSeg8k\\test\\Masks\\L-hook Electrocautery\\video20\\video20_03340\\3352.jpg\n",
      "Looking for mask in: c:\\Users\\devan\\Downloads\\SAM2_Eval\\SAM2_Eval_Surgical_Datasets\\../Datasets\\CholecSeg8k\\test\\Masks\\Liver\\video20\\video20_03340\\3352.jpg\n",
      "No matching mask found for frame: c:\\Users\\devan\\Downloads\\SAM2_Eval\\SAM2_Eval_Surgical_Datasets\\temp_jpg_frames\\3352.jpg\n",
      "Looking for mask in: c:\\Users\\devan\\Downloads\\SAM2_Eval\\SAM2_Eval_Surgical_Datasets\\../Datasets\\CholecSeg8k\\test\\Masks\\Abdominal Wall\\video20\\video20_03340\\3353.jpg\n",
      "Looking for mask in: c:\\Users\\devan\\Downloads\\SAM2_Eval\\SAM2_Eval_Surgical_Datasets\\../Datasets\\CholecSeg8k\\test\\Masks\\Fat\\video20\\video20_03340\\3353.jpg\n",
      "Looking for mask in: c:\\Users\\devan\\Downloads\\SAM2_Eval\\SAM2_Eval_Surgical_Datasets\\../Datasets\\CholecSeg8k\\test\\Masks\\Gall bladder\\video20\\video20_03340\\3353.jpg\n",
      "Looking for mask in: c:\\Users\\devan\\Downloads\\SAM2_Eval\\SAM2_Eval_Surgical_Datasets\\../Datasets\\CholecSeg8k\\test\\Masks\\Gastrointestinal Tract\\video20\\video20_03340\\3353.jpg\n",
      "Looking for mask in: c:\\Users\\devan\\Downloads\\SAM2_Eval\\SAM2_Eval_Surgical_Datasets\\../Datasets\\CholecSeg8k\\test\\Masks\\Grasper\\video20\\video20_03340\\3353.jpg\n",
      "Looking for mask in: c:\\Users\\devan\\Downloads\\SAM2_Eval\\SAM2_Eval_Surgical_Datasets\\../Datasets\\CholecSeg8k\\test\\Masks\\L-hook Electrocautery\\video20\\video20_03340\\3353.jpg\n",
      "Looking for mask in: c:\\Users\\devan\\Downloads\\SAM2_Eval\\SAM2_Eval_Surgical_Datasets\\../Datasets\\CholecSeg8k\\test\\Masks\\Liver\\video20\\video20_03340\\3353.jpg\n",
      "No matching mask found for frame: c:\\Users\\devan\\Downloads\\SAM2_Eval\\SAM2_Eval_Surgical_Datasets\\temp_jpg_frames\\3353.jpg\n",
      "Looking for mask in: c:\\Users\\devan\\Downloads\\SAM2_Eval\\SAM2_Eval_Surgical_Datasets\\../Datasets\\CholecSeg8k\\test\\Masks\\Abdominal Wall\\video20\\video20_03340\\3354.jpg\n",
      "Looking for mask in: c:\\Users\\devan\\Downloads\\SAM2_Eval\\SAM2_Eval_Surgical_Datasets\\../Datasets\\CholecSeg8k\\test\\Masks\\Fat\\video20\\video20_03340\\3354.jpg\n",
      "Looking for mask in: c:\\Users\\devan\\Downloads\\SAM2_Eval\\SAM2_Eval_Surgical_Datasets\\../Datasets\\CholecSeg8k\\test\\Masks\\Gall bladder\\video20\\video20_03340\\3354.jpg\n",
      "Looking for mask in: c:\\Users\\devan\\Downloads\\SAM2_Eval\\SAM2_Eval_Surgical_Datasets\\../Datasets\\CholecSeg8k\\test\\Masks\\Gastrointestinal Tract\\video20\\video20_03340\\3354.jpg\n",
      "Looking for mask in: c:\\Users\\devan\\Downloads\\SAM2_Eval\\SAM2_Eval_Surgical_Datasets\\../Datasets\\CholecSeg8k\\test\\Masks\\Grasper\\video20\\video20_03340\\3354.jpg\n",
      "Looking for mask in: c:\\Users\\devan\\Downloads\\SAM2_Eval\\SAM2_Eval_Surgical_Datasets\\../Datasets\\CholecSeg8k\\test\\Masks\\L-hook Electrocautery\\video20\\video20_03340\\3354.jpg\n",
      "Looking for mask in: c:\\Users\\devan\\Downloads\\SAM2_Eval\\SAM2_Eval_Surgical_Datasets\\../Datasets\\CholecSeg8k\\test\\Masks\\Liver\\video20\\video20_03340\\3354.jpg\n",
      "No matching mask found for frame: c:\\Users\\devan\\Downloads\\SAM2_Eval\\SAM2_Eval_Surgical_Datasets\\temp_jpg_frames\\3354.jpg\n",
      "Looking for mask in: c:\\Users\\devan\\Downloads\\SAM2_Eval\\SAM2_Eval_Surgical_Datasets\\../Datasets\\CholecSeg8k\\test\\Masks\\Abdominal Wall\\video20\\video20_03340\\3355.jpg\n",
      "Looking for mask in: c:\\Users\\devan\\Downloads\\SAM2_Eval\\SAM2_Eval_Surgical_Datasets\\../Datasets\\CholecSeg8k\\test\\Masks\\Fat\\video20\\video20_03340\\3355.jpg\n",
      "Looking for mask in: c:\\Users\\devan\\Downloads\\SAM2_Eval\\SAM2_Eval_Surgical_Datasets\\../Datasets\\CholecSeg8k\\test\\Masks\\Gall bladder\\video20\\video20_03340\\3355.jpg\n",
      "Looking for mask in: c:\\Users\\devan\\Downloads\\SAM2_Eval\\SAM2_Eval_Surgical_Datasets\\../Datasets\\CholecSeg8k\\test\\Masks\\Gastrointestinal Tract\\video20\\video20_03340\\3355.jpg\n",
      "Looking for mask in: c:\\Users\\devan\\Downloads\\SAM2_Eval\\SAM2_Eval_Surgical_Datasets\\../Datasets\\CholecSeg8k\\test\\Masks\\Grasper\\video20\\video20_03340\\3355.jpg\n",
      "Looking for mask in: c:\\Users\\devan\\Downloads\\SAM2_Eval\\SAM2_Eval_Surgical_Datasets\\../Datasets\\CholecSeg8k\\test\\Masks\\L-hook Electrocautery\\video20\\video20_03340\\3355.jpg\n",
      "Looking for mask in: c:\\Users\\devan\\Downloads\\SAM2_Eval\\SAM2_Eval_Surgical_Datasets\\../Datasets\\CholecSeg8k\\test\\Masks\\Liver\\video20\\video20_03340\\3355.jpg\n",
      "No matching mask found for frame: c:\\Users\\devan\\Downloads\\SAM2_Eval\\SAM2_Eval_Surgical_Datasets\\temp_jpg_frames\\3355.jpg\n",
      "Looking for mask in: c:\\Users\\devan\\Downloads\\SAM2_Eval\\SAM2_Eval_Surgical_Datasets\\../Datasets\\CholecSeg8k\\test\\Masks\\Abdominal Wall\\video20\\video20_03340\\3356.jpg\n",
      "Looking for mask in: c:\\Users\\devan\\Downloads\\SAM2_Eval\\SAM2_Eval_Surgical_Datasets\\../Datasets\\CholecSeg8k\\test\\Masks\\Fat\\video20\\video20_03340\\3356.jpg\n",
      "Looking for mask in: c:\\Users\\devan\\Downloads\\SAM2_Eval\\SAM2_Eval_Surgical_Datasets\\../Datasets\\CholecSeg8k\\test\\Masks\\Gall bladder\\video20\\video20_03340\\3356.jpg\n",
      "Looking for mask in: c:\\Users\\devan\\Downloads\\SAM2_Eval\\SAM2_Eval_Surgical_Datasets\\../Datasets\\CholecSeg8k\\test\\Masks\\Gastrointestinal Tract\\video20\\video20_03340\\3356.jpg\n",
      "Looking for mask in: c:\\Users\\devan\\Downloads\\SAM2_Eval\\SAM2_Eval_Surgical_Datasets\\../Datasets\\CholecSeg8k\\test\\Masks\\Grasper\\video20\\video20_03340\\3356.jpg\n",
      "Looking for mask in: c:\\Users\\devan\\Downloads\\SAM2_Eval\\SAM2_Eval_Surgical_Datasets\\../Datasets\\CholecSeg8k\\test\\Masks\\L-hook Electrocautery\\video20\\video20_03340\\3356.jpg\n",
      "Looking for mask in: c:\\Users\\devan\\Downloads\\SAM2_Eval\\SAM2_Eval_Surgical_Datasets\\../Datasets\\CholecSeg8k\\test\\Masks\\Liver\\video20\\video20_03340\\3356.jpg\n",
      "No matching mask found for frame: c:\\Users\\devan\\Downloads\\SAM2_Eval\\SAM2_Eval_Surgical_Datasets\\temp_jpg_frames\\3356.jpg\n",
      "Looking for mask in: c:\\Users\\devan\\Downloads\\SAM2_Eval\\SAM2_Eval_Surgical_Datasets\\../Datasets\\CholecSeg8k\\test\\Masks\\Abdominal Wall\\video20\\video20_03340\\3357.jpg\n",
      "Looking for mask in: c:\\Users\\devan\\Downloads\\SAM2_Eval\\SAM2_Eval_Surgical_Datasets\\../Datasets\\CholecSeg8k\\test\\Masks\\Fat\\video20\\video20_03340\\3357.jpg\n",
      "Looking for mask in: c:\\Users\\devan\\Downloads\\SAM2_Eval\\SAM2_Eval_Surgical_Datasets\\../Datasets\\CholecSeg8k\\test\\Masks\\Gall bladder\\video20\\video20_03340\\3357.jpg\n",
      "Looking for mask in: c:\\Users\\devan\\Downloads\\SAM2_Eval\\SAM2_Eval_Surgical_Datasets\\../Datasets\\CholecSeg8k\\test\\Masks\\Gastrointestinal Tract\\video20\\video20_03340\\3357.jpg\n",
      "Looking for mask in: c:\\Users\\devan\\Downloads\\SAM2_Eval\\SAM2_Eval_Surgical_Datasets\\../Datasets\\CholecSeg8k\\test\\Masks\\Grasper\\video20\\video20_03340\\3357.jpg\n",
      "Looking for mask in: c:\\Users\\devan\\Downloads\\SAM2_Eval\\SAM2_Eval_Surgical_Datasets\\../Datasets\\CholecSeg8k\\test\\Masks\\L-hook Electrocautery\\video20\\video20_03340\\3357.jpg\n",
      "Looking for mask in: c:\\Users\\devan\\Downloads\\SAM2_Eval\\SAM2_Eval_Surgical_Datasets\\../Datasets\\CholecSeg8k\\test\\Masks\\Liver\\video20\\video20_03340\\3357.jpg\n",
      "No matching mask found for frame: c:\\Users\\devan\\Downloads\\SAM2_Eval\\SAM2_Eval_Surgical_Datasets\\temp_jpg_frames\\3357.jpg\n",
      "Looking for mask in: c:\\Users\\devan\\Downloads\\SAM2_Eval\\SAM2_Eval_Surgical_Datasets\\../Datasets\\CholecSeg8k\\test\\Masks\\Abdominal Wall\\video20\\video20_03340\\3358.jpg\n",
      "Looking for mask in: c:\\Users\\devan\\Downloads\\SAM2_Eval\\SAM2_Eval_Surgical_Datasets\\../Datasets\\CholecSeg8k\\test\\Masks\\Fat\\video20\\video20_03340\\3358.jpg\n",
      "Looking for mask in: c:\\Users\\devan\\Downloads\\SAM2_Eval\\SAM2_Eval_Surgical_Datasets\\../Datasets\\CholecSeg8k\\test\\Masks\\Gall bladder\\video20\\video20_03340\\3358.jpg\n",
      "Looking for mask in: c:\\Users\\devan\\Downloads\\SAM2_Eval\\SAM2_Eval_Surgical_Datasets\\../Datasets\\CholecSeg8k\\test\\Masks\\Gastrointestinal Tract\\video20\\video20_03340\\3358.jpg\n",
      "Looking for mask in: c:\\Users\\devan\\Downloads\\SAM2_Eval\\SAM2_Eval_Surgical_Datasets\\../Datasets\\CholecSeg8k\\test\\Masks\\Grasper\\video20\\video20_03340\\3358.jpg\n",
      "Looking for mask in: c:\\Users\\devan\\Downloads\\SAM2_Eval\\SAM2_Eval_Surgical_Datasets\\../Datasets\\CholecSeg8k\\test\\Masks\\L-hook Electrocautery\\video20\\video20_03340\\3358.jpg\n",
      "Looking for mask in: c:\\Users\\devan\\Downloads\\SAM2_Eval\\SAM2_Eval_Surgical_Datasets\\../Datasets\\CholecSeg8k\\test\\Masks\\Liver\\video20\\video20_03340\\3358.jpg\n",
      "No matching mask found for frame: c:\\Users\\devan\\Downloads\\SAM2_Eval\\SAM2_Eval_Surgical_Datasets\\temp_jpg_frames\\3358.jpg\n",
      "Looking for mask in: c:\\Users\\devan\\Downloads\\SAM2_Eval\\SAM2_Eval_Surgical_Datasets\\../Datasets\\CholecSeg8k\\test\\Masks\\Abdominal Wall\\video20\\video20_03340\\3359.jpg\n",
      "Looking for mask in: c:\\Users\\devan\\Downloads\\SAM2_Eval\\SAM2_Eval_Surgical_Datasets\\../Datasets\\CholecSeg8k\\test\\Masks\\Fat\\video20\\video20_03340\\3359.jpg\n",
      "Looking for mask in: c:\\Users\\devan\\Downloads\\SAM2_Eval\\SAM2_Eval_Surgical_Datasets\\../Datasets\\CholecSeg8k\\test\\Masks\\Gall bladder\\video20\\video20_03340\\3359.jpg\n",
      "Looking for mask in: c:\\Users\\devan\\Downloads\\SAM2_Eval\\SAM2_Eval_Surgical_Datasets\\../Datasets\\CholecSeg8k\\test\\Masks\\Gastrointestinal Tract\\video20\\video20_03340\\3359.jpg\n",
      "Looking for mask in: c:\\Users\\devan\\Downloads\\SAM2_Eval\\SAM2_Eval_Surgical_Datasets\\../Datasets\\CholecSeg8k\\test\\Masks\\Grasper\\video20\\video20_03340\\3359.jpg\n",
      "Looking for mask in: c:\\Users\\devan\\Downloads\\SAM2_Eval\\SAM2_Eval_Surgical_Datasets\\../Datasets\\CholecSeg8k\\test\\Masks\\L-hook Electrocautery\\video20\\video20_03340\\3359.jpg\n",
      "Looking for mask in: c:\\Users\\devan\\Downloads\\SAM2_Eval\\SAM2_Eval_Surgical_Datasets\\../Datasets\\CholecSeg8k\\test\\Masks\\Liver\\video20\\video20_03340\\3359.jpg\n",
      "No matching mask found for frame: c:\\Users\\devan\\Downloads\\SAM2_Eval\\SAM2_Eval_Surgical_Datasets\\temp_jpg_frames\\3359.jpg\n",
      "Looking for mask in: c:\\Users\\devan\\Downloads\\SAM2_Eval\\SAM2_Eval_Surgical_Datasets\\../Datasets\\CholecSeg8k\\test\\Masks\\Abdominal Wall\\video20\\video20_03340\\3360.jpg\n",
      "Looking for mask in: c:\\Users\\devan\\Downloads\\SAM2_Eval\\SAM2_Eval_Surgical_Datasets\\../Datasets\\CholecSeg8k\\test\\Masks\\Fat\\video20\\video20_03340\\3360.jpg\n",
      "Looking for mask in: c:\\Users\\devan\\Downloads\\SAM2_Eval\\SAM2_Eval_Surgical_Datasets\\../Datasets\\CholecSeg8k\\test\\Masks\\Gall bladder\\video20\\video20_03340\\3360.jpg\n",
      "Looking for mask in: c:\\Users\\devan\\Downloads\\SAM2_Eval\\SAM2_Eval_Surgical_Datasets\\../Datasets\\CholecSeg8k\\test\\Masks\\Gastrointestinal Tract\\video20\\video20_03340\\3360.jpg\n",
      "Looking for mask in: c:\\Users\\devan\\Downloads\\SAM2_Eval\\SAM2_Eval_Surgical_Datasets\\../Datasets\\CholecSeg8k\\test\\Masks\\Grasper\\video20\\video20_03340\\3360.jpg\n",
      "Looking for mask in: c:\\Users\\devan\\Downloads\\SAM2_Eval\\SAM2_Eval_Surgical_Datasets\\../Datasets\\CholecSeg8k\\test\\Masks\\L-hook Electrocautery\\video20\\video20_03340\\3360.jpg\n",
      "Looking for mask in: c:\\Users\\devan\\Downloads\\SAM2_Eval\\SAM2_Eval_Surgical_Datasets\\../Datasets\\CholecSeg8k\\test\\Masks\\Liver\\video20\\video20_03340\\3360.jpg\n",
      "No matching mask found for frame: c:\\Users\\devan\\Downloads\\SAM2_Eval\\SAM2_Eval_Surgical_Datasets\\temp_jpg_frames\\3360.jpg\n",
      "Looking for mask in: c:\\Users\\devan\\Downloads\\SAM2_Eval\\SAM2_Eval_Surgical_Datasets\\../Datasets\\CholecSeg8k\\test\\Masks\\Abdominal Wall\\video20\\video20_03340\\3361.jpg\n",
      "Looking for mask in: c:\\Users\\devan\\Downloads\\SAM2_Eval\\SAM2_Eval_Surgical_Datasets\\../Datasets\\CholecSeg8k\\test\\Masks\\Fat\\video20\\video20_03340\\3361.jpg\n",
      "Looking for mask in: c:\\Users\\devan\\Downloads\\SAM2_Eval\\SAM2_Eval_Surgical_Datasets\\../Datasets\\CholecSeg8k\\test\\Masks\\Gall bladder\\video20\\video20_03340\\3361.jpg\n",
      "Looking for mask in: c:\\Users\\devan\\Downloads\\SAM2_Eval\\SAM2_Eval_Surgical_Datasets\\../Datasets\\CholecSeg8k\\test\\Masks\\Gastrointestinal Tract\\video20\\video20_03340\\3361.jpg\n",
      "Looking for mask in: c:\\Users\\devan\\Downloads\\SAM2_Eval\\SAM2_Eval_Surgical_Datasets\\../Datasets\\CholecSeg8k\\test\\Masks\\Grasper\\video20\\video20_03340\\3361.jpg\n",
      "Looking for mask in: c:\\Users\\devan\\Downloads\\SAM2_Eval\\SAM2_Eval_Surgical_Datasets\\../Datasets\\CholecSeg8k\\test\\Masks\\L-hook Electrocautery\\video20\\video20_03340\\3361.jpg\n",
      "Looking for mask in: c:\\Users\\devan\\Downloads\\SAM2_Eval\\SAM2_Eval_Surgical_Datasets\\../Datasets\\CholecSeg8k\\test\\Masks\\Liver\\video20\\video20_03340\\3361.jpg\n",
      "No matching mask found for frame: c:\\Users\\devan\\Downloads\\SAM2_Eval\\SAM2_Eval_Surgical_Datasets\\temp_jpg_frames\\3361.jpg\n",
      "Looking for mask in: c:\\Users\\devan\\Downloads\\SAM2_Eval\\SAM2_Eval_Surgical_Datasets\\../Datasets\\CholecSeg8k\\test\\Masks\\Abdominal Wall\\video20\\video20_03340\\3362.jpg\n",
      "Looking for mask in: c:\\Users\\devan\\Downloads\\SAM2_Eval\\SAM2_Eval_Surgical_Datasets\\../Datasets\\CholecSeg8k\\test\\Masks\\Fat\\video20\\video20_03340\\3362.jpg\n",
      "Looking for mask in: c:\\Users\\devan\\Downloads\\SAM2_Eval\\SAM2_Eval_Surgical_Datasets\\../Datasets\\CholecSeg8k\\test\\Masks\\Gall bladder\\video20\\video20_03340\\3362.jpg\n",
      "Looking for mask in: c:\\Users\\devan\\Downloads\\SAM2_Eval\\SAM2_Eval_Surgical_Datasets\\../Datasets\\CholecSeg8k\\test\\Masks\\Gastrointestinal Tract\\video20\\video20_03340\\3362.jpg\n",
      "Looking for mask in: c:\\Users\\devan\\Downloads\\SAM2_Eval\\SAM2_Eval_Surgical_Datasets\\../Datasets\\CholecSeg8k\\test\\Masks\\Grasper\\video20\\video20_03340\\3362.jpg\n",
      "Looking for mask in: c:\\Users\\devan\\Downloads\\SAM2_Eval\\SAM2_Eval_Surgical_Datasets\\../Datasets\\CholecSeg8k\\test\\Masks\\L-hook Electrocautery\\video20\\video20_03340\\3362.jpg\n",
      "Looking for mask in: c:\\Users\\devan\\Downloads\\SAM2_Eval\\SAM2_Eval_Surgical_Datasets\\../Datasets\\CholecSeg8k\\test\\Masks\\Liver\\video20\\video20_03340\\3362.jpg\n",
      "No matching mask found for frame: c:\\Users\\devan\\Downloads\\SAM2_Eval\\SAM2_Eval_Surgical_Datasets\\temp_jpg_frames\\3362.jpg\n",
      "Looking for mask in: c:\\Users\\devan\\Downloads\\SAM2_Eval\\SAM2_Eval_Surgical_Datasets\\../Datasets\\CholecSeg8k\\test\\Masks\\Abdominal Wall\\video20\\video20_03340\\3363.jpg\n",
      "Looking for mask in: c:\\Users\\devan\\Downloads\\SAM2_Eval\\SAM2_Eval_Surgical_Datasets\\../Datasets\\CholecSeg8k\\test\\Masks\\Fat\\video20\\video20_03340\\3363.jpg\n",
      "Looking for mask in: c:\\Users\\devan\\Downloads\\SAM2_Eval\\SAM2_Eval_Surgical_Datasets\\../Datasets\\CholecSeg8k\\test\\Masks\\Gall bladder\\video20\\video20_03340\\3363.jpg\n",
      "Looking for mask in: c:\\Users\\devan\\Downloads\\SAM2_Eval\\SAM2_Eval_Surgical_Datasets\\../Datasets\\CholecSeg8k\\test\\Masks\\Gastrointestinal Tract\\video20\\video20_03340\\3363.jpg\n",
      "Looking for mask in: c:\\Users\\devan\\Downloads\\SAM2_Eval\\SAM2_Eval_Surgical_Datasets\\../Datasets\\CholecSeg8k\\test\\Masks\\Grasper\\video20\\video20_03340\\3363.jpg\n",
      "Looking for mask in: c:\\Users\\devan\\Downloads\\SAM2_Eval\\SAM2_Eval_Surgical_Datasets\\../Datasets\\CholecSeg8k\\test\\Masks\\L-hook Electrocautery\\video20\\video20_03340\\3363.jpg\n",
      "Looking for mask in: c:\\Users\\devan\\Downloads\\SAM2_Eval\\SAM2_Eval_Surgical_Datasets\\../Datasets\\CholecSeg8k\\test\\Masks\\Liver\\video20\\video20_03340\\3363.jpg\n",
      "No matching mask found for frame: c:\\Users\\devan\\Downloads\\SAM2_Eval\\SAM2_Eval_Surgical_Datasets\\temp_jpg_frames\\3363.jpg\n",
      "Looking for mask in: c:\\Users\\devan\\Downloads\\SAM2_Eval\\SAM2_Eval_Surgical_Datasets\\../Datasets\\CholecSeg8k\\test\\Masks\\Abdominal Wall\\video20\\video20_03340\\3364.jpg\n",
      "Looking for mask in: c:\\Users\\devan\\Downloads\\SAM2_Eval\\SAM2_Eval_Surgical_Datasets\\../Datasets\\CholecSeg8k\\test\\Masks\\Fat\\video20\\video20_03340\\3364.jpg\n",
      "Looking for mask in: c:\\Users\\devan\\Downloads\\SAM2_Eval\\SAM2_Eval_Surgical_Datasets\\../Datasets\\CholecSeg8k\\test\\Masks\\Gall bladder\\video20\\video20_03340\\3364.jpg\n",
      "Looking for mask in: c:\\Users\\devan\\Downloads\\SAM2_Eval\\SAM2_Eval_Surgical_Datasets\\../Datasets\\CholecSeg8k\\test\\Masks\\Gastrointestinal Tract\\video20\\video20_03340\\3364.jpg\n",
      "Looking for mask in: c:\\Users\\devan\\Downloads\\SAM2_Eval\\SAM2_Eval_Surgical_Datasets\\../Datasets\\CholecSeg8k\\test\\Masks\\Grasper\\video20\\video20_03340\\3364.jpg\n",
      "Looking for mask in: c:\\Users\\devan\\Downloads\\SAM2_Eval\\SAM2_Eval_Surgical_Datasets\\../Datasets\\CholecSeg8k\\test\\Masks\\L-hook Electrocautery\\video20\\video20_03340\\3364.jpg\n",
      "Looking for mask in: c:\\Users\\devan\\Downloads\\SAM2_Eval\\SAM2_Eval_Surgical_Datasets\\../Datasets\\CholecSeg8k\\test\\Masks\\Liver\\video20\\video20_03340\\3364.jpg\n",
      "No matching mask found for frame: c:\\Users\\devan\\Downloads\\SAM2_Eval\\SAM2_Eval_Surgical_Datasets\\temp_jpg_frames\\3364.jpg\n",
      "Looking for mask in: c:\\Users\\devan\\Downloads\\SAM2_Eval\\SAM2_Eval_Surgical_Datasets\\../Datasets\\CholecSeg8k\\test\\Masks\\Abdominal Wall\\video20\\video20_03340\\3365.jpg\n",
      "Looking for mask in: c:\\Users\\devan\\Downloads\\SAM2_Eval\\SAM2_Eval_Surgical_Datasets\\../Datasets\\CholecSeg8k\\test\\Masks\\Fat\\video20\\video20_03340\\3365.jpg\n",
      "Looking for mask in: c:\\Users\\devan\\Downloads\\SAM2_Eval\\SAM2_Eval_Surgical_Datasets\\../Datasets\\CholecSeg8k\\test\\Masks\\Gall bladder\\video20\\video20_03340\\3365.jpg\n",
      "Looking for mask in: c:\\Users\\devan\\Downloads\\SAM2_Eval\\SAM2_Eval_Surgical_Datasets\\../Datasets\\CholecSeg8k\\test\\Masks\\Gastrointestinal Tract\\video20\\video20_03340\\3365.jpg\n",
      "Looking for mask in: c:\\Users\\devan\\Downloads\\SAM2_Eval\\SAM2_Eval_Surgical_Datasets\\../Datasets\\CholecSeg8k\\test\\Masks\\Grasper\\video20\\video20_03340\\3365.jpg\n",
      "Looking for mask in: c:\\Users\\devan\\Downloads\\SAM2_Eval\\SAM2_Eval_Surgical_Datasets\\../Datasets\\CholecSeg8k\\test\\Masks\\L-hook Electrocautery\\video20\\video20_03340\\3365.jpg\n",
      "Looking for mask in: c:\\Users\\devan\\Downloads\\SAM2_Eval\\SAM2_Eval_Surgical_Datasets\\../Datasets\\CholecSeg8k\\test\\Masks\\Liver\\video20\\video20_03340\\3365.jpg\n",
      "No matching mask found for frame: c:\\Users\\devan\\Downloads\\SAM2_Eval\\SAM2_Eval_Surgical_Datasets\\temp_jpg_frames\\3365.jpg\n",
      "Looking for mask in: c:\\Users\\devan\\Downloads\\SAM2_Eval\\SAM2_Eval_Surgical_Datasets\\../Datasets\\CholecSeg8k\\test\\Masks\\Abdominal Wall\\video20\\video20_03340\\3366.jpg\n",
      "Looking for mask in: c:\\Users\\devan\\Downloads\\SAM2_Eval\\SAM2_Eval_Surgical_Datasets\\../Datasets\\CholecSeg8k\\test\\Masks\\Fat\\video20\\video20_03340\\3366.jpg\n",
      "Looking for mask in: c:\\Users\\devan\\Downloads\\SAM2_Eval\\SAM2_Eval_Surgical_Datasets\\../Datasets\\CholecSeg8k\\test\\Masks\\Gall bladder\\video20\\video20_03340\\3366.jpg\n",
      "Looking for mask in: c:\\Users\\devan\\Downloads\\SAM2_Eval\\SAM2_Eval_Surgical_Datasets\\../Datasets\\CholecSeg8k\\test\\Masks\\Gastrointestinal Tract\\video20\\video20_03340\\3366.jpg\n",
      "Looking for mask in: c:\\Users\\devan\\Downloads\\SAM2_Eval\\SAM2_Eval_Surgical_Datasets\\../Datasets\\CholecSeg8k\\test\\Masks\\Grasper\\video20\\video20_03340\\3366.jpg\n",
      "Looking for mask in: c:\\Users\\devan\\Downloads\\SAM2_Eval\\SAM2_Eval_Surgical_Datasets\\../Datasets\\CholecSeg8k\\test\\Masks\\L-hook Electrocautery\\video20\\video20_03340\\3366.jpg\n",
      "Looking for mask in: c:\\Users\\devan\\Downloads\\SAM2_Eval\\SAM2_Eval_Surgical_Datasets\\../Datasets\\CholecSeg8k\\test\\Masks\\Liver\\video20\\video20_03340\\3366.jpg\n",
      "No matching mask found for frame: c:\\Users\\devan\\Downloads\\SAM2_Eval\\SAM2_Eval_Surgical_Datasets\\temp_jpg_frames\\3366.jpg\n",
      "Looking for mask in: c:\\Users\\devan\\Downloads\\SAM2_Eval\\SAM2_Eval_Surgical_Datasets\\../Datasets\\CholecSeg8k\\test\\Masks\\Abdominal Wall\\video20\\video20_03340\\3367.jpg\n",
      "Looking for mask in: c:\\Users\\devan\\Downloads\\SAM2_Eval\\SAM2_Eval_Surgical_Datasets\\../Datasets\\CholecSeg8k\\test\\Masks\\Fat\\video20\\video20_03340\\3367.jpg\n",
      "Looking for mask in: c:\\Users\\devan\\Downloads\\SAM2_Eval\\SAM2_Eval_Surgical_Datasets\\../Datasets\\CholecSeg8k\\test\\Masks\\Gall bladder\\video20\\video20_03340\\3367.jpg\n",
      "Looking for mask in: c:\\Users\\devan\\Downloads\\SAM2_Eval\\SAM2_Eval_Surgical_Datasets\\../Datasets\\CholecSeg8k\\test\\Masks\\Gastrointestinal Tract\\video20\\video20_03340\\3367.jpg\n",
      "Looking for mask in: c:\\Users\\devan\\Downloads\\SAM2_Eval\\SAM2_Eval_Surgical_Datasets\\../Datasets\\CholecSeg8k\\test\\Masks\\Grasper\\video20\\video20_03340\\3367.jpg\n",
      "Looking for mask in: c:\\Users\\devan\\Downloads\\SAM2_Eval\\SAM2_Eval_Surgical_Datasets\\../Datasets\\CholecSeg8k\\test\\Masks\\L-hook Electrocautery\\video20\\video20_03340\\3367.jpg\n",
      "Looking for mask in: c:\\Users\\devan\\Downloads\\SAM2_Eval\\SAM2_Eval_Surgical_Datasets\\../Datasets\\CholecSeg8k\\test\\Masks\\Liver\\video20\\video20_03340\\3367.jpg\n",
      "No matching mask found for frame: c:\\Users\\devan\\Downloads\\SAM2_Eval\\SAM2_Eval_Surgical_Datasets\\temp_jpg_frames\\3367.jpg\n",
      "Looking for mask in: c:\\Users\\devan\\Downloads\\SAM2_Eval\\SAM2_Eval_Surgical_Datasets\\../Datasets\\CholecSeg8k\\test\\Masks\\Abdominal Wall\\video20\\video20_03340\\3368.jpg\n",
      "Looking for mask in: c:\\Users\\devan\\Downloads\\SAM2_Eval\\SAM2_Eval_Surgical_Datasets\\../Datasets\\CholecSeg8k\\test\\Masks\\Fat\\video20\\video20_03340\\3368.jpg\n",
      "Looking for mask in: c:\\Users\\devan\\Downloads\\SAM2_Eval\\SAM2_Eval_Surgical_Datasets\\../Datasets\\CholecSeg8k\\test\\Masks\\Gall bladder\\video20\\video20_03340\\3368.jpg\n",
      "Looking for mask in: c:\\Users\\devan\\Downloads\\SAM2_Eval\\SAM2_Eval_Surgical_Datasets\\../Datasets\\CholecSeg8k\\test\\Masks\\Gastrointestinal Tract\\video20\\video20_03340\\3368.jpg\n",
      "Looking for mask in: c:\\Users\\devan\\Downloads\\SAM2_Eval\\SAM2_Eval_Surgical_Datasets\\../Datasets\\CholecSeg8k\\test\\Masks\\Grasper\\video20\\video20_03340\\3368.jpg\n",
      "Looking for mask in: c:\\Users\\devan\\Downloads\\SAM2_Eval\\SAM2_Eval_Surgical_Datasets\\../Datasets\\CholecSeg8k\\test\\Masks\\L-hook Electrocautery\\video20\\video20_03340\\3368.jpg\n",
      "Looking for mask in: c:\\Users\\devan\\Downloads\\SAM2_Eval\\SAM2_Eval_Surgical_Datasets\\../Datasets\\CholecSeg8k\\test\\Masks\\Liver\\video20\\video20_03340\\3368.jpg\n",
      "No matching mask found for frame: c:\\Users\\devan\\Downloads\\SAM2_Eval\\SAM2_Eval_Surgical_Datasets\\temp_jpg_frames\\3368.jpg\n",
      "Looking for mask in: c:\\Users\\devan\\Downloads\\SAM2_Eval\\SAM2_Eval_Surgical_Datasets\\../Datasets\\CholecSeg8k\\test\\Masks\\Abdominal Wall\\video20\\video20_03340\\3369.jpg\n",
      "Looking for mask in: c:\\Users\\devan\\Downloads\\SAM2_Eval\\SAM2_Eval_Surgical_Datasets\\../Datasets\\CholecSeg8k\\test\\Masks\\Fat\\video20\\video20_03340\\3369.jpg\n",
      "Looking for mask in: c:\\Users\\devan\\Downloads\\SAM2_Eval\\SAM2_Eval_Surgical_Datasets\\../Datasets\\CholecSeg8k\\test\\Masks\\Gall bladder\\video20\\video20_03340\\3369.jpg\n",
      "Looking for mask in: c:\\Users\\devan\\Downloads\\SAM2_Eval\\SAM2_Eval_Surgical_Datasets\\../Datasets\\CholecSeg8k\\test\\Masks\\Gastrointestinal Tract\\video20\\video20_03340\\3369.jpg\n",
      "Looking for mask in: c:\\Users\\devan\\Downloads\\SAM2_Eval\\SAM2_Eval_Surgical_Datasets\\../Datasets\\CholecSeg8k\\test\\Masks\\Grasper\\video20\\video20_03340\\3369.jpg\n",
      "Looking for mask in: c:\\Users\\devan\\Downloads\\SAM2_Eval\\SAM2_Eval_Surgical_Datasets\\../Datasets\\CholecSeg8k\\test\\Masks\\L-hook Electrocautery\\video20\\video20_03340\\3369.jpg\n",
      "Looking for mask in: c:\\Users\\devan\\Downloads\\SAM2_Eval\\SAM2_Eval_Surgical_Datasets\\../Datasets\\CholecSeg8k\\test\\Masks\\Liver\\video20\\video20_03340\\3369.jpg\n",
      "No matching mask found for frame: c:\\Users\\devan\\Downloads\\SAM2_Eval\\SAM2_Eval_Surgical_Datasets\\temp_jpg_frames\\3369.jpg\n",
      "Looking for mask in: c:\\Users\\devan\\Downloads\\SAM2_Eval\\SAM2_Eval_Surgical_Datasets\\../Datasets\\CholecSeg8k\\test\\Masks\\Abdominal Wall\\video20\\video20_03340\\3370.jpg\n",
      "Looking for mask in: c:\\Users\\devan\\Downloads\\SAM2_Eval\\SAM2_Eval_Surgical_Datasets\\../Datasets\\CholecSeg8k\\test\\Masks\\Fat\\video20\\video20_03340\\3370.jpg\n",
      "Looking for mask in: c:\\Users\\devan\\Downloads\\SAM2_Eval\\SAM2_Eval_Surgical_Datasets\\../Datasets\\CholecSeg8k\\test\\Masks\\Gall bladder\\video20\\video20_03340\\3370.jpg\n",
      "Looking for mask in: c:\\Users\\devan\\Downloads\\SAM2_Eval\\SAM2_Eval_Surgical_Datasets\\../Datasets\\CholecSeg8k\\test\\Masks\\Gastrointestinal Tract\\video20\\video20_03340\\3370.jpg\n",
      "Looking for mask in: c:\\Users\\devan\\Downloads\\SAM2_Eval\\SAM2_Eval_Surgical_Datasets\\../Datasets\\CholecSeg8k\\test\\Masks\\Grasper\\video20\\video20_03340\\3370.jpg\n",
      "Looking for mask in: c:\\Users\\devan\\Downloads\\SAM2_Eval\\SAM2_Eval_Surgical_Datasets\\../Datasets\\CholecSeg8k\\test\\Masks\\L-hook Electrocautery\\video20\\video20_03340\\3370.jpg\n",
      "Looking for mask in: c:\\Users\\devan\\Downloads\\SAM2_Eval\\SAM2_Eval_Surgical_Datasets\\../Datasets\\CholecSeg8k\\test\\Masks\\Liver\\video20\\video20_03340\\3370.jpg\n",
      "No matching mask found for frame: c:\\Users\\devan\\Downloads\\SAM2_Eval\\SAM2_Eval_Surgical_Datasets\\temp_jpg_frames\\3370.jpg\n",
      "Looking for mask in: c:\\Users\\devan\\Downloads\\SAM2_Eval\\SAM2_Eval_Surgical_Datasets\\../Datasets\\CholecSeg8k\\test\\Masks\\Abdominal Wall\\video20\\video20_03340\\3371.jpg\n",
      "Looking for mask in: c:\\Users\\devan\\Downloads\\SAM2_Eval\\SAM2_Eval_Surgical_Datasets\\../Datasets\\CholecSeg8k\\test\\Masks\\Fat\\video20\\video20_03340\\3371.jpg\n",
      "Looking for mask in: c:\\Users\\devan\\Downloads\\SAM2_Eval\\SAM2_Eval_Surgical_Datasets\\../Datasets\\CholecSeg8k\\test\\Masks\\Gall bladder\\video20\\video20_03340\\3371.jpg\n",
      "Looking for mask in: c:\\Users\\devan\\Downloads\\SAM2_Eval\\SAM2_Eval_Surgical_Datasets\\../Datasets\\CholecSeg8k\\test\\Masks\\Gastrointestinal Tract\\video20\\video20_03340\\3371.jpg\n",
      "Looking for mask in: c:\\Users\\devan\\Downloads\\SAM2_Eval\\SAM2_Eval_Surgical_Datasets\\../Datasets\\CholecSeg8k\\test\\Masks\\Grasper\\video20\\video20_03340\\3371.jpg\n",
      "Looking for mask in: c:\\Users\\devan\\Downloads\\SAM2_Eval\\SAM2_Eval_Surgical_Datasets\\../Datasets\\CholecSeg8k\\test\\Masks\\L-hook Electrocautery\\video20\\video20_03340\\3371.jpg\n",
      "Looking for mask in: c:\\Users\\devan\\Downloads\\SAM2_Eval\\SAM2_Eval_Surgical_Datasets\\../Datasets\\CholecSeg8k\\test\\Masks\\Liver\\video20\\video20_03340\\3371.jpg\n",
      "No matching mask found for frame: c:\\Users\\devan\\Downloads\\SAM2_Eval\\SAM2_Eval_Surgical_Datasets\\temp_jpg_frames\\3371.jpg\n",
      "Looking for mask in: c:\\Users\\devan\\Downloads\\SAM2_Eval\\SAM2_Eval_Surgical_Datasets\\../Datasets\\CholecSeg8k\\test\\Masks\\Abdominal Wall\\video20\\video20_03340\\3372.jpg\n",
      "Looking for mask in: c:\\Users\\devan\\Downloads\\SAM2_Eval\\SAM2_Eval_Surgical_Datasets\\../Datasets\\CholecSeg8k\\test\\Masks\\Fat\\video20\\video20_03340\\3372.jpg\n",
      "Looking for mask in: c:\\Users\\devan\\Downloads\\SAM2_Eval\\SAM2_Eval_Surgical_Datasets\\../Datasets\\CholecSeg8k\\test\\Masks\\Gall bladder\\video20\\video20_03340\\3372.jpg\n",
      "Looking for mask in: c:\\Users\\devan\\Downloads\\SAM2_Eval\\SAM2_Eval_Surgical_Datasets\\../Datasets\\CholecSeg8k\\test\\Masks\\Gastrointestinal Tract\\video20\\video20_03340\\3372.jpg\n",
      "Looking for mask in: c:\\Users\\devan\\Downloads\\SAM2_Eval\\SAM2_Eval_Surgical_Datasets\\../Datasets\\CholecSeg8k\\test\\Masks\\Grasper\\video20\\video20_03340\\3372.jpg\n",
      "Looking for mask in: c:\\Users\\devan\\Downloads\\SAM2_Eval\\SAM2_Eval_Surgical_Datasets\\../Datasets\\CholecSeg8k\\test\\Masks\\L-hook Electrocautery\\video20\\video20_03340\\3372.jpg\n",
      "Looking for mask in: c:\\Users\\devan\\Downloads\\SAM2_Eval\\SAM2_Eval_Surgical_Datasets\\../Datasets\\CholecSeg8k\\test\\Masks\\Liver\\video20\\video20_03340\\3372.jpg\n",
      "No matching mask found for frame: c:\\Users\\devan\\Downloads\\SAM2_Eval\\SAM2_Eval_Surgical_Datasets\\temp_jpg_frames\\3372.jpg\n",
      "Looking for mask in: c:\\Users\\devan\\Downloads\\SAM2_Eval\\SAM2_Eval_Surgical_Datasets\\../Datasets\\CholecSeg8k\\test\\Masks\\Abdominal Wall\\video20\\video20_03340\\3373.jpg\n",
      "Looking for mask in: c:\\Users\\devan\\Downloads\\SAM2_Eval\\SAM2_Eval_Surgical_Datasets\\../Datasets\\CholecSeg8k\\test\\Masks\\Fat\\video20\\video20_03340\\3373.jpg\n",
      "Looking for mask in: c:\\Users\\devan\\Downloads\\SAM2_Eval\\SAM2_Eval_Surgical_Datasets\\../Datasets\\CholecSeg8k\\test\\Masks\\Gall bladder\\video20\\video20_03340\\3373.jpg\n",
      "Looking for mask in: c:\\Users\\devan\\Downloads\\SAM2_Eval\\SAM2_Eval_Surgical_Datasets\\../Datasets\\CholecSeg8k\\test\\Masks\\Gastrointestinal Tract\\video20\\video20_03340\\3373.jpg\n",
      "Looking for mask in: c:\\Users\\devan\\Downloads\\SAM2_Eval\\SAM2_Eval_Surgical_Datasets\\../Datasets\\CholecSeg8k\\test\\Masks\\Grasper\\video20\\video20_03340\\3373.jpg\n",
      "Looking for mask in: c:\\Users\\devan\\Downloads\\SAM2_Eval\\SAM2_Eval_Surgical_Datasets\\../Datasets\\CholecSeg8k\\test\\Masks\\L-hook Electrocautery\\video20\\video20_03340\\3373.jpg\n",
      "Looking for mask in: c:\\Users\\devan\\Downloads\\SAM2_Eval\\SAM2_Eval_Surgical_Datasets\\../Datasets\\CholecSeg8k\\test\\Masks\\Liver\\video20\\video20_03340\\3373.jpg\n",
      "No matching mask found for frame: c:\\Users\\devan\\Downloads\\SAM2_Eval\\SAM2_Eval_Surgical_Datasets\\temp_jpg_frames\\3373.jpg\n",
      "Looking for mask in: c:\\Users\\devan\\Downloads\\SAM2_Eval\\SAM2_Eval_Surgical_Datasets\\../Datasets\\CholecSeg8k\\test\\Masks\\Abdominal Wall\\video20\\video20_03340\\3374.jpg\n",
      "Looking for mask in: c:\\Users\\devan\\Downloads\\SAM2_Eval\\SAM2_Eval_Surgical_Datasets\\../Datasets\\CholecSeg8k\\test\\Masks\\Fat\\video20\\video20_03340\\3374.jpg\n",
      "Looking for mask in: c:\\Users\\devan\\Downloads\\SAM2_Eval\\SAM2_Eval_Surgical_Datasets\\../Datasets\\CholecSeg8k\\test\\Masks\\Gall bladder\\video20\\video20_03340\\3374.jpg\n",
      "Looking for mask in: c:\\Users\\devan\\Downloads\\SAM2_Eval\\SAM2_Eval_Surgical_Datasets\\../Datasets\\CholecSeg8k\\test\\Masks\\Gastrointestinal Tract\\video20\\video20_03340\\3374.jpg\n",
      "Looking for mask in: c:\\Users\\devan\\Downloads\\SAM2_Eval\\SAM2_Eval_Surgical_Datasets\\../Datasets\\CholecSeg8k\\test\\Masks\\Grasper\\video20\\video20_03340\\3374.jpg\n",
      "Looking for mask in: c:\\Users\\devan\\Downloads\\SAM2_Eval\\SAM2_Eval_Surgical_Datasets\\../Datasets\\CholecSeg8k\\test\\Masks\\L-hook Electrocautery\\video20\\video20_03340\\3374.jpg\n",
      "Looking for mask in: c:\\Users\\devan\\Downloads\\SAM2_Eval\\SAM2_Eval_Surgical_Datasets\\../Datasets\\CholecSeg8k\\test\\Masks\\Liver\\video20\\video20_03340\\3374.jpg\n",
      "No matching mask found for frame: c:\\Users\\devan\\Downloads\\SAM2_Eval\\SAM2_Eval_Surgical_Datasets\\temp_jpg_frames\\3374.jpg\n",
      "Looking for mask in: c:\\Users\\devan\\Downloads\\SAM2_Eval\\SAM2_Eval_Surgical_Datasets\\../Datasets\\CholecSeg8k\\test\\Masks\\Abdominal Wall\\video20\\video20_03340\\3375.jpg\n",
      "Looking for mask in: c:\\Users\\devan\\Downloads\\SAM2_Eval\\SAM2_Eval_Surgical_Datasets\\../Datasets\\CholecSeg8k\\test\\Masks\\Fat\\video20\\video20_03340\\3375.jpg\n",
      "Looking for mask in: c:\\Users\\devan\\Downloads\\SAM2_Eval\\SAM2_Eval_Surgical_Datasets\\../Datasets\\CholecSeg8k\\test\\Masks\\Gall bladder\\video20\\video20_03340\\3375.jpg\n",
      "Looking for mask in: c:\\Users\\devan\\Downloads\\SAM2_Eval\\SAM2_Eval_Surgical_Datasets\\../Datasets\\CholecSeg8k\\test\\Masks\\Gastrointestinal Tract\\video20\\video20_03340\\3375.jpg\n",
      "Looking for mask in: c:\\Users\\devan\\Downloads\\SAM2_Eval\\SAM2_Eval_Surgical_Datasets\\../Datasets\\CholecSeg8k\\test\\Masks\\Grasper\\video20\\video20_03340\\3375.jpg\n",
      "Looking for mask in: c:\\Users\\devan\\Downloads\\SAM2_Eval\\SAM2_Eval_Surgical_Datasets\\../Datasets\\CholecSeg8k\\test\\Masks\\L-hook Electrocautery\\video20\\video20_03340\\3375.jpg\n",
      "Looking for mask in: c:\\Users\\devan\\Downloads\\SAM2_Eval\\SAM2_Eval_Surgical_Datasets\\../Datasets\\CholecSeg8k\\test\\Masks\\Liver\\video20\\video20_03340\\3375.jpg\n",
      "No matching mask found for frame: c:\\Users\\devan\\Downloads\\SAM2_Eval\\SAM2_Eval_Surgical_Datasets\\temp_jpg_frames\\3375.jpg\n",
      "Looking for mask in: c:\\Users\\devan\\Downloads\\SAM2_Eval\\SAM2_Eval_Surgical_Datasets\\../Datasets\\CholecSeg8k\\test\\Masks\\Abdominal Wall\\video20\\video20_03340\\3376.jpg\n",
      "Looking for mask in: c:\\Users\\devan\\Downloads\\SAM2_Eval\\SAM2_Eval_Surgical_Datasets\\../Datasets\\CholecSeg8k\\test\\Masks\\Fat\\video20\\video20_03340\\3376.jpg\n",
      "Looking for mask in: c:\\Users\\devan\\Downloads\\SAM2_Eval\\SAM2_Eval_Surgical_Datasets\\../Datasets\\CholecSeg8k\\test\\Masks\\Gall bladder\\video20\\video20_03340\\3376.jpg\n",
      "Looking for mask in: c:\\Users\\devan\\Downloads\\SAM2_Eval\\SAM2_Eval_Surgical_Datasets\\../Datasets\\CholecSeg8k\\test\\Masks\\Gastrointestinal Tract\\video20\\video20_03340\\3376.jpg\n",
      "Looking for mask in: c:\\Users\\devan\\Downloads\\SAM2_Eval\\SAM2_Eval_Surgical_Datasets\\../Datasets\\CholecSeg8k\\test\\Masks\\Grasper\\video20\\video20_03340\\3376.jpg\n",
      "Looking for mask in: c:\\Users\\devan\\Downloads\\SAM2_Eval\\SAM2_Eval_Surgical_Datasets\\../Datasets\\CholecSeg8k\\test\\Masks\\L-hook Electrocautery\\video20\\video20_03340\\3376.jpg\n",
      "Looking for mask in: c:\\Users\\devan\\Downloads\\SAM2_Eval\\SAM2_Eval_Surgical_Datasets\\../Datasets\\CholecSeg8k\\test\\Masks\\Liver\\video20\\video20_03340\\3376.jpg\n",
      "No matching mask found for frame: c:\\Users\\devan\\Downloads\\SAM2_Eval\\SAM2_Eval_Surgical_Datasets\\temp_jpg_frames\\3376.jpg\n",
      "Looking for mask in: c:\\Users\\devan\\Downloads\\SAM2_Eval\\SAM2_Eval_Surgical_Datasets\\../Datasets\\CholecSeg8k\\test\\Masks\\Abdominal Wall\\video20\\video20_03340\\3377.jpg\n",
      "Looking for mask in: c:\\Users\\devan\\Downloads\\SAM2_Eval\\SAM2_Eval_Surgical_Datasets\\../Datasets\\CholecSeg8k\\test\\Masks\\Fat\\video20\\video20_03340\\3377.jpg\n",
      "Looking for mask in: c:\\Users\\devan\\Downloads\\SAM2_Eval\\SAM2_Eval_Surgical_Datasets\\../Datasets\\CholecSeg8k\\test\\Masks\\Gall bladder\\video20\\video20_03340\\3377.jpg\n",
      "Looking for mask in: c:\\Users\\devan\\Downloads\\SAM2_Eval\\SAM2_Eval_Surgical_Datasets\\../Datasets\\CholecSeg8k\\test\\Masks\\Gastrointestinal Tract\\video20\\video20_03340\\3377.jpg\n",
      "Looking for mask in: c:\\Users\\devan\\Downloads\\SAM2_Eval\\SAM2_Eval_Surgical_Datasets\\../Datasets\\CholecSeg8k\\test\\Masks\\Grasper\\video20\\video20_03340\\3377.jpg\n",
      "Looking for mask in: c:\\Users\\devan\\Downloads\\SAM2_Eval\\SAM2_Eval_Surgical_Datasets\\../Datasets\\CholecSeg8k\\test\\Masks\\L-hook Electrocautery\\video20\\video20_03340\\3377.jpg\n",
      "Looking for mask in: c:\\Users\\devan\\Downloads\\SAM2_Eval\\SAM2_Eval_Surgical_Datasets\\../Datasets\\CholecSeg8k\\test\\Masks\\Liver\\video20\\video20_03340\\3377.jpg\n",
      "No matching mask found for frame: c:\\Users\\devan\\Downloads\\SAM2_Eval\\SAM2_Eval_Surgical_Datasets\\temp_jpg_frames\\3377.jpg\n",
      "Looking for mask in: c:\\Users\\devan\\Downloads\\SAM2_Eval\\SAM2_Eval_Surgical_Datasets\\../Datasets\\CholecSeg8k\\test\\Masks\\Abdominal Wall\\video20\\video20_03340\\3378.jpg\n",
      "Looking for mask in: c:\\Users\\devan\\Downloads\\SAM2_Eval\\SAM2_Eval_Surgical_Datasets\\../Datasets\\CholecSeg8k\\test\\Masks\\Fat\\video20\\video20_03340\\3378.jpg\n",
      "Looking for mask in: c:\\Users\\devan\\Downloads\\SAM2_Eval\\SAM2_Eval_Surgical_Datasets\\../Datasets\\CholecSeg8k\\test\\Masks\\Gall bladder\\video20\\video20_03340\\3378.jpg\n",
      "Looking for mask in: c:\\Users\\devan\\Downloads\\SAM2_Eval\\SAM2_Eval_Surgical_Datasets\\../Datasets\\CholecSeg8k\\test\\Masks\\Gastrointestinal Tract\\video20\\video20_03340\\3378.jpg\n",
      "Looking for mask in: c:\\Users\\devan\\Downloads\\SAM2_Eval\\SAM2_Eval_Surgical_Datasets\\../Datasets\\CholecSeg8k\\test\\Masks\\Grasper\\video20\\video20_03340\\3378.jpg\n",
      "Looking for mask in: c:\\Users\\devan\\Downloads\\SAM2_Eval\\SAM2_Eval_Surgical_Datasets\\../Datasets\\CholecSeg8k\\test\\Masks\\L-hook Electrocautery\\video20\\video20_03340\\3378.jpg\n",
      "Looking for mask in: c:\\Users\\devan\\Downloads\\SAM2_Eval\\SAM2_Eval_Surgical_Datasets\\../Datasets\\CholecSeg8k\\test\\Masks\\Liver\\video20\\video20_03340\\3378.jpg\n",
      "No matching mask found for frame: c:\\Users\\devan\\Downloads\\SAM2_Eval\\SAM2_Eval_Surgical_Datasets\\temp_jpg_frames\\3378.jpg\n",
      "Looking for mask in: c:\\Users\\devan\\Downloads\\SAM2_Eval\\SAM2_Eval_Surgical_Datasets\\../Datasets\\CholecSeg8k\\test\\Masks\\Abdominal Wall\\video20\\video20_03340\\3379.jpg\n",
      "Looking for mask in: c:\\Users\\devan\\Downloads\\SAM2_Eval\\SAM2_Eval_Surgical_Datasets\\../Datasets\\CholecSeg8k\\test\\Masks\\Fat\\video20\\video20_03340\\3379.jpg\n",
      "Looking for mask in: c:\\Users\\devan\\Downloads\\SAM2_Eval\\SAM2_Eval_Surgical_Datasets\\../Datasets\\CholecSeg8k\\test\\Masks\\Gall bladder\\video20\\video20_03340\\3379.jpg\n",
      "Looking for mask in: c:\\Users\\devan\\Downloads\\SAM2_Eval\\SAM2_Eval_Surgical_Datasets\\../Datasets\\CholecSeg8k\\test\\Masks\\Gastrointestinal Tract\\video20\\video20_03340\\3379.jpg\n",
      "Looking for mask in: c:\\Users\\devan\\Downloads\\SAM2_Eval\\SAM2_Eval_Surgical_Datasets\\../Datasets\\CholecSeg8k\\test\\Masks\\Grasper\\video20\\video20_03340\\3379.jpg\n",
      "Looking for mask in: c:\\Users\\devan\\Downloads\\SAM2_Eval\\SAM2_Eval_Surgical_Datasets\\../Datasets\\CholecSeg8k\\test\\Masks\\L-hook Electrocautery\\video20\\video20_03340\\3379.jpg\n",
      "Looking for mask in: c:\\Users\\devan\\Downloads\\SAM2_Eval\\SAM2_Eval_Surgical_Datasets\\../Datasets\\CholecSeg8k\\test\\Masks\\Liver\\video20\\video20_03340\\3379.jpg\n",
      "No matching mask found for frame: c:\\Users\\devan\\Downloads\\SAM2_Eval\\SAM2_Eval_Surgical_Datasets\\temp_jpg_frames\\3379.jpg\n",
      "Looking for mask in: c:\\Users\\devan\\Downloads\\SAM2_Eval\\SAM2_Eval_Surgical_Datasets\\../Datasets\\CholecSeg8k\\test\\Masks\\Abdominal Wall\\video20\\video20_03340\\3380.jpg\n",
      "Looking for mask in: c:\\Users\\devan\\Downloads\\SAM2_Eval\\SAM2_Eval_Surgical_Datasets\\../Datasets\\CholecSeg8k\\test\\Masks\\Fat\\video20\\video20_03340\\3380.jpg\n",
      "Looking for mask in: c:\\Users\\devan\\Downloads\\SAM2_Eval\\SAM2_Eval_Surgical_Datasets\\../Datasets\\CholecSeg8k\\test\\Masks\\Gall bladder\\video20\\video20_03340\\3380.jpg\n",
      "Looking for mask in: c:\\Users\\devan\\Downloads\\SAM2_Eval\\SAM2_Eval_Surgical_Datasets\\../Datasets\\CholecSeg8k\\test\\Masks\\Gastrointestinal Tract\\video20\\video20_03340\\3380.jpg\n",
      "Looking for mask in: c:\\Users\\devan\\Downloads\\SAM2_Eval\\SAM2_Eval_Surgical_Datasets\\../Datasets\\CholecSeg8k\\test\\Masks\\Grasper\\video20\\video20_03340\\3380.jpg\n",
      "Looking for mask in: c:\\Users\\devan\\Downloads\\SAM2_Eval\\SAM2_Eval_Surgical_Datasets\\../Datasets\\CholecSeg8k\\test\\Masks\\L-hook Electrocautery\\video20\\video20_03340\\3380.jpg\n",
      "Looking for mask in: c:\\Users\\devan\\Downloads\\SAM2_Eval\\SAM2_Eval_Surgical_Datasets\\../Datasets\\CholecSeg8k\\test\\Masks\\Liver\\video20\\video20_03340\\3380.jpg\n",
      "No matching mask found for frame: c:\\Users\\devan\\Downloads\\SAM2_Eval\\SAM2_Eval_Surgical_Datasets\\temp_jpg_frames\\3380.jpg\n",
      "Looking for mask in: c:\\Users\\devan\\Downloads\\SAM2_Eval\\SAM2_Eval_Surgical_Datasets\\../Datasets\\CholecSeg8k\\test\\Masks\\Abdominal Wall\\video20\\video20_03340\\3381.jpg\n",
      "Looking for mask in: c:\\Users\\devan\\Downloads\\SAM2_Eval\\SAM2_Eval_Surgical_Datasets\\../Datasets\\CholecSeg8k\\test\\Masks\\Fat\\video20\\video20_03340\\3381.jpg\n",
      "Looking for mask in: c:\\Users\\devan\\Downloads\\SAM2_Eval\\SAM2_Eval_Surgical_Datasets\\../Datasets\\CholecSeg8k\\test\\Masks\\Gall bladder\\video20\\video20_03340\\3381.jpg\n",
      "Looking for mask in: c:\\Users\\devan\\Downloads\\SAM2_Eval\\SAM2_Eval_Surgical_Datasets\\../Datasets\\CholecSeg8k\\test\\Masks\\Gastrointestinal Tract\\video20\\video20_03340\\3381.jpg\n",
      "Looking for mask in: c:\\Users\\devan\\Downloads\\SAM2_Eval\\SAM2_Eval_Surgical_Datasets\\../Datasets\\CholecSeg8k\\test\\Masks\\Grasper\\video20\\video20_03340\\3381.jpg\n",
      "Looking for mask in: c:\\Users\\devan\\Downloads\\SAM2_Eval\\SAM2_Eval_Surgical_Datasets\\../Datasets\\CholecSeg8k\\test\\Masks\\L-hook Electrocautery\\video20\\video20_03340\\3381.jpg\n",
      "Looking for mask in: c:\\Users\\devan\\Downloads\\SAM2_Eval\\SAM2_Eval_Surgical_Datasets\\../Datasets\\CholecSeg8k\\test\\Masks\\Liver\\video20\\video20_03340\\3381.jpg\n",
      "No matching mask found for frame: c:\\Users\\devan\\Downloads\\SAM2_Eval\\SAM2_Eval_Surgical_Datasets\\temp_jpg_frames\\3381.jpg\n",
      "Looking for mask in: c:\\Users\\devan\\Downloads\\SAM2_Eval\\SAM2_Eval_Surgical_Datasets\\../Datasets\\CholecSeg8k\\test\\Masks\\Abdominal Wall\\video20\\video20_03340\\3382.jpg\n",
      "Looking for mask in: c:\\Users\\devan\\Downloads\\SAM2_Eval\\SAM2_Eval_Surgical_Datasets\\../Datasets\\CholecSeg8k\\test\\Masks\\Fat\\video20\\video20_03340\\3382.jpg\n",
      "Looking for mask in: c:\\Users\\devan\\Downloads\\SAM2_Eval\\SAM2_Eval_Surgical_Datasets\\../Datasets\\CholecSeg8k\\test\\Masks\\Gall bladder\\video20\\video20_03340\\3382.jpg\n",
      "Looking for mask in: c:\\Users\\devan\\Downloads\\SAM2_Eval\\SAM2_Eval_Surgical_Datasets\\../Datasets\\CholecSeg8k\\test\\Masks\\Gastrointestinal Tract\\video20\\video20_03340\\3382.jpg\n",
      "Looking for mask in: c:\\Users\\devan\\Downloads\\SAM2_Eval\\SAM2_Eval_Surgical_Datasets\\../Datasets\\CholecSeg8k\\test\\Masks\\Grasper\\video20\\video20_03340\\3382.jpg\n",
      "Looking for mask in: c:\\Users\\devan\\Downloads\\SAM2_Eval\\SAM2_Eval_Surgical_Datasets\\../Datasets\\CholecSeg8k\\test\\Masks\\L-hook Electrocautery\\video20\\video20_03340\\3382.jpg\n",
      "Looking for mask in: c:\\Users\\devan\\Downloads\\SAM2_Eval\\SAM2_Eval_Surgical_Datasets\\../Datasets\\CholecSeg8k\\test\\Masks\\Liver\\video20\\video20_03340\\3382.jpg\n",
      "No matching mask found for frame: c:\\Users\\devan\\Downloads\\SAM2_Eval\\SAM2_Eval_Surgical_Datasets\\temp_jpg_frames\\3382.jpg\n",
      "Looking for mask in: c:\\Users\\devan\\Downloads\\SAM2_Eval\\SAM2_Eval_Surgical_Datasets\\../Datasets\\CholecSeg8k\\test\\Masks\\Abdominal Wall\\video20\\video20_03340\\3383.jpg\n",
      "Looking for mask in: c:\\Users\\devan\\Downloads\\SAM2_Eval\\SAM2_Eval_Surgical_Datasets\\../Datasets\\CholecSeg8k\\test\\Masks\\Fat\\video20\\video20_03340\\3383.jpg\n",
      "Looking for mask in: c:\\Users\\devan\\Downloads\\SAM2_Eval\\SAM2_Eval_Surgical_Datasets\\../Datasets\\CholecSeg8k\\test\\Masks\\Gall bladder\\video20\\video20_03340\\3383.jpg\n",
      "Looking for mask in: c:\\Users\\devan\\Downloads\\SAM2_Eval\\SAM2_Eval_Surgical_Datasets\\../Datasets\\CholecSeg8k\\test\\Masks\\Gastrointestinal Tract\\video20\\video20_03340\\3383.jpg\n",
      "Looking for mask in: c:\\Users\\devan\\Downloads\\SAM2_Eval\\SAM2_Eval_Surgical_Datasets\\../Datasets\\CholecSeg8k\\test\\Masks\\Grasper\\video20\\video20_03340\\3383.jpg\n",
      "Looking for mask in: c:\\Users\\devan\\Downloads\\SAM2_Eval\\SAM2_Eval_Surgical_Datasets\\../Datasets\\CholecSeg8k\\test\\Masks\\L-hook Electrocautery\\video20\\video20_03340\\3383.jpg\n",
      "Looking for mask in: c:\\Users\\devan\\Downloads\\SAM2_Eval\\SAM2_Eval_Surgical_Datasets\\../Datasets\\CholecSeg8k\\test\\Masks\\Liver\\video20\\video20_03340\\3383.jpg\n",
      "No matching mask found for frame: c:\\Users\\devan\\Downloads\\SAM2_Eval\\SAM2_Eval_Surgical_Datasets\\temp_jpg_frames\\3383.jpg\n",
      "Looking for mask in: c:\\Users\\devan\\Downloads\\SAM2_Eval\\SAM2_Eval_Surgical_Datasets\\../Datasets\\CholecSeg8k\\test\\Masks\\Abdominal Wall\\video20\\video20_03340\\3384.jpg\n",
      "Looking for mask in: c:\\Users\\devan\\Downloads\\SAM2_Eval\\SAM2_Eval_Surgical_Datasets\\../Datasets\\CholecSeg8k\\test\\Masks\\Fat\\video20\\video20_03340\\3384.jpg\n",
      "Looking for mask in: c:\\Users\\devan\\Downloads\\SAM2_Eval\\SAM2_Eval_Surgical_Datasets\\../Datasets\\CholecSeg8k\\test\\Masks\\Gall bladder\\video20\\video20_03340\\3384.jpg\n",
      "Looking for mask in: c:\\Users\\devan\\Downloads\\SAM2_Eval\\SAM2_Eval_Surgical_Datasets\\../Datasets\\CholecSeg8k\\test\\Masks\\Gastrointestinal Tract\\video20\\video20_03340\\3384.jpg\n",
      "Looking for mask in: c:\\Users\\devan\\Downloads\\SAM2_Eval\\SAM2_Eval_Surgical_Datasets\\../Datasets\\CholecSeg8k\\test\\Masks\\Grasper\\video20\\video20_03340\\3384.jpg\n",
      "Looking for mask in: c:\\Users\\devan\\Downloads\\SAM2_Eval\\SAM2_Eval_Surgical_Datasets\\../Datasets\\CholecSeg8k\\test\\Masks\\L-hook Electrocautery\\video20\\video20_03340\\3384.jpg\n",
      "Looking for mask in: c:\\Users\\devan\\Downloads\\SAM2_Eval\\SAM2_Eval_Surgical_Datasets\\../Datasets\\CholecSeg8k\\test\\Masks\\Liver\\video20\\video20_03340\\3384.jpg\n",
      "No matching mask found for frame: c:\\Users\\devan\\Downloads\\SAM2_Eval\\SAM2_Eval_Surgical_Datasets\\temp_jpg_frames\\3384.jpg\n",
      "Looking for mask in: c:\\Users\\devan\\Downloads\\SAM2_Eval\\SAM2_Eval_Surgical_Datasets\\../Datasets\\CholecSeg8k\\test\\Masks\\Abdominal Wall\\video20\\video20_03340\\3385.jpg\n",
      "Looking for mask in: c:\\Users\\devan\\Downloads\\SAM2_Eval\\SAM2_Eval_Surgical_Datasets\\../Datasets\\CholecSeg8k\\test\\Masks\\Fat\\video20\\video20_03340\\3385.jpg\n",
      "Looking for mask in: c:\\Users\\devan\\Downloads\\SAM2_Eval\\SAM2_Eval_Surgical_Datasets\\../Datasets\\CholecSeg8k\\test\\Masks\\Gall bladder\\video20\\video20_03340\\3385.jpg\n",
      "Looking for mask in: c:\\Users\\devan\\Downloads\\SAM2_Eval\\SAM2_Eval_Surgical_Datasets\\../Datasets\\CholecSeg8k\\test\\Masks\\Gastrointestinal Tract\\video20\\video20_03340\\3385.jpg\n",
      "Looking for mask in: c:\\Users\\devan\\Downloads\\SAM2_Eval\\SAM2_Eval_Surgical_Datasets\\../Datasets\\CholecSeg8k\\test\\Masks\\Grasper\\video20\\video20_03340\\3385.jpg\n",
      "Looking for mask in: c:\\Users\\devan\\Downloads\\SAM2_Eval\\SAM2_Eval_Surgical_Datasets\\../Datasets\\CholecSeg8k\\test\\Masks\\L-hook Electrocautery\\video20\\video20_03340\\3385.jpg\n",
      "Looking for mask in: c:\\Users\\devan\\Downloads\\SAM2_Eval\\SAM2_Eval_Surgical_Datasets\\../Datasets\\CholecSeg8k\\test\\Masks\\Liver\\video20\\video20_03340\\3385.jpg\n",
      "No matching mask found for frame: c:\\Users\\devan\\Downloads\\SAM2_Eval\\SAM2_Eval_Surgical_Datasets\\temp_jpg_frames\\3385.jpg\n",
      "Looking for mask in: c:\\Users\\devan\\Downloads\\SAM2_Eval\\SAM2_Eval_Surgical_Datasets\\../Datasets\\CholecSeg8k\\test\\Masks\\Abdominal Wall\\video20\\video20_03340\\3386.jpg\n",
      "Looking for mask in: c:\\Users\\devan\\Downloads\\SAM2_Eval\\SAM2_Eval_Surgical_Datasets\\../Datasets\\CholecSeg8k\\test\\Masks\\Fat\\video20\\video20_03340\\3386.jpg\n",
      "Looking for mask in: c:\\Users\\devan\\Downloads\\SAM2_Eval\\SAM2_Eval_Surgical_Datasets\\../Datasets\\CholecSeg8k\\test\\Masks\\Gall bladder\\video20\\video20_03340\\3386.jpg\n",
      "Looking for mask in: c:\\Users\\devan\\Downloads\\SAM2_Eval\\SAM2_Eval_Surgical_Datasets\\../Datasets\\CholecSeg8k\\test\\Masks\\Gastrointestinal Tract\\video20\\video20_03340\\3386.jpg\n",
      "Looking for mask in: c:\\Users\\devan\\Downloads\\SAM2_Eval\\SAM2_Eval_Surgical_Datasets\\../Datasets\\CholecSeg8k\\test\\Masks\\Grasper\\video20\\video20_03340\\3386.jpg\n",
      "Looking for mask in: c:\\Users\\devan\\Downloads\\SAM2_Eval\\SAM2_Eval_Surgical_Datasets\\../Datasets\\CholecSeg8k\\test\\Masks\\L-hook Electrocautery\\video20\\video20_03340\\3386.jpg\n",
      "Looking for mask in: c:\\Users\\devan\\Downloads\\SAM2_Eval\\SAM2_Eval_Surgical_Datasets\\../Datasets\\CholecSeg8k\\test\\Masks\\Liver\\video20\\video20_03340\\3386.jpg\n",
      "No matching mask found for frame: c:\\Users\\devan\\Downloads\\SAM2_Eval\\SAM2_Eval_Surgical_Datasets\\temp_jpg_frames\\3386.jpg\n",
      "Looking for mask in: c:\\Users\\devan\\Downloads\\SAM2_Eval\\SAM2_Eval_Surgical_Datasets\\../Datasets\\CholecSeg8k\\test\\Masks\\Abdominal Wall\\video20\\video20_03340\\3387.jpg\n",
      "Looking for mask in: c:\\Users\\devan\\Downloads\\SAM2_Eval\\SAM2_Eval_Surgical_Datasets\\../Datasets\\CholecSeg8k\\test\\Masks\\Fat\\video20\\video20_03340\\3387.jpg\n",
      "Looking for mask in: c:\\Users\\devan\\Downloads\\SAM2_Eval\\SAM2_Eval_Surgical_Datasets\\../Datasets\\CholecSeg8k\\test\\Masks\\Gall bladder\\video20\\video20_03340\\3387.jpg\n",
      "Looking for mask in: c:\\Users\\devan\\Downloads\\SAM2_Eval\\SAM2_Eval_Surgical_Datasets\\../Datasets\\CholecSeg8k\\test\\Masks\\Gastrointestinal Tract\\video20\\video20_03340\\3387.jpg\n",
      "Looking for mask in: c:\\Users\\devan\\Downloads\\SAM2_Eval\\SAM2_Eval_Surgical_Datasets\\../Datasets\\CholecSeg8k\\test\\Masks\\Grasper\\video20\\video20_03340\\3387.jpg\n",
      "Looking for mask in: c:\\Users\\devan\\Downloads\\SAM2_Eval\\SAM2_Eval_Surgical_Datasets\\../Datasets\\CholecSeg8k\\test\\Masks\\L-hook Electrocautery\\video20\\video20_03340\\3387.jpg\n",
      "Looking for mask in: c:\\Users\\devan\\Downloads\\SAM2_Eval\\SAM2_Eval_Surgical_Datasets\\../Datasets\\CholecSeg8k\\test\\Masks\\Liver\\video20\\video20_03340\\3387.jpg\n",
      "No matching mask found for frame: c:\\Users\\devan\\Downloads\\SAM2_Eval\\SAM2_Eval_Surgical_Datasets\\temp_jpg_frames\\3387.jpg\n",
      "Looking for mask in: c:\\Users\\devan\\Downloads\\SAM2_Eval\\SAM2_Eval_Surgical_Datasets\\../Datasets\\CholecSeg8k\\test\\Masks\\Abdominal Wall\\video20\\video20_03340\\3388.jpg\n",
      "Looking for mask in: c:\\Users\\devan\\Downloads\\SAM2_Eval\\SAM2_Eval_Surgical_Datasets\\../Datasets\\CholecSeg8k\\test\\Masks\\Fat\\video20\\video20_03340\\3388.jpg\n",
      "Looking for mask in: c:\\Users\\devan\\Downloads\\SAM2_Eval\\SAM2_Eval_Surgical_Datasets\\../Datasets\\CholecSeg8k\\test\\Masks\\Gall bladder\\video20\\video20_03340\\3388.jpg\n",
      "Looking for mask in: c:\\Users\\devan\\Downloads\\SAM2_Eval\\SAM2_Eval_Surgical_Datasets\\../Datasets\\CholecSeg8k\\test\\Masks\\Gastrointestinal Tract\\video20\\video20_03340\\3388.jpg\n",
      "Looking for mask in: c:\\Users\\devan\\Downloads\\SAM2_Eval\\SAM2_Eval_Surgical_Datasets\\../Datasets\\CholecSeg8k\\test\\Masks\\Grasper\\video20\\video20_03340\\3388.jpg\n",
      "Looking for mask in: c:\\Users\\devan\\Downloads\\SAM2_Eval\\SAM2_Eval_Surgical_Datasets\\../Datasets\\CholecSeg8k\\test\\Masks\\L-hook Electrocautery\\video20\\video20_03340\\3388.jpg\n",
      "Looking for mask in: c:\\Users\\devan\\Downloads\\SAM2_Eval\\SAM2_Eval_Surgical_Datasets\\../Datasets\\CholecSeg8k\\test\\Masks\\Liver\\video20\\video20_03340\\3388.jpg\n",
      "No matching mask found for frame: c:\\Users\\devan\\Downloads\\SAM2_Eval\\SAM2_Eval_Surgical_Datasets\\temp_jpg_frames\\3388.jpg\n",
      "Looking for mask in: c:\\Users\\devan\\Downloads\\SAM2_Eval\\SAM2_Eval_Surgical_Datasets\\../Datasets\\CholecSeg8k\\test\\Masks\\Abdominal Wall\\video20\\video20_03340\\3389.jpg\n",
      "Looking for mask in: c:\\Users\\devan\\Downloads\\SAM2_Eval\\SAM2_Eval_Surgical_Datasets\\../Datasets\\CholecSeg8k\\test\\Masks\\Fat\\video20\\video20_03340\\3389.jpg\n",
      "Looking for mask in: c:\\Users\\devan\\Downloads\\SAM2_Eval\\SAM2_Eval_Surgical_Datasets\\../Datasets\\CholecSeg8k\\test\\Masks\\Gall bladder\\video20\\video20_03340\\3389.jpg\n",
      "Looking for mask in: c:\\Users\\devan\\Downloads\\SAM2_Eval\\SAM2_Eval_Surgical_Datasets\\../Datasets\\CholecSeg8k\\test\\Masks\\Gastrointestinal Tract\\video20\\video20_03340\\3389.jpg\n",
      "Looking for mask in: c:\\Users\\devan\\Downloads\\SAM2_Eval\\SAM2_Eval_Surgical_Datasets\\../Datasets\\CholecSeg8k\\test\\Masks\\Grasper\\video20\\video20_03340\\3389.jpg\n",
      "Looking for mask in: c:\\Users\\devan\\Downloads\\SAM2_Eval\\SAM2_Eval_Surgical_Datasets\\../Datasets\\CholecSeg8k\\test\\Masks\\L-hook Electrocautery\\video20\\video20_03340\\3389.jpg\n",
      "Looking for mask in: c:\\Users\\devan\\Downloads\\SAM2_Eval\\SAM2_Eval_Surgical_Datasets\\../Datasets\\CholecSeg8k\\test\\Masks\\Liver\\video20\\video20_03340\\3389.jpg\n",
      "No matching mask found for frame: c:\\Users\\devan\\Downloads\\SAM2_Eval\\SAM2_Eval_Surgical_Datasets\\temp_jpg_frames\\3389.jpg\n",
      "Looking for mask in: c:\\Users\\devan\\Downloads\\SAM2_Eval\\SAM2_Eval_Surgical_Datasets\\../Datasets\\CholecSeg8k\\test\\Masks\\Abdominal Wall\\video20\\video20_03340\\3390.jpg\n",
      "Looking for mask in: c:\\Users\\devan\\Downloads\\SAM2_Eval\\SAM2_Eval_Surgical_Datasets\\../Datasets\\CholecSeg8k\\test\\Masks\\Fat\\video20\\video20_03340\\3390.jpg\n",
      "Looking for mask in: c:\\Users\\devan\\Downloads\\SAM2_Eval\\SAM2_Eval_Surgical_Datasets\\../Datasets\\CholecSeg8k\\test\\Masks\\Gall bladder\\video20\\video20_03340\\3390.jpg\n",
      "Looking for mask in: c:\\Users\\devan\\Downloads\\SAM2_Eval\\SAM2_Eval_Surgical_Datasets\\../Datasets\\CholecSeg8k\\test\\Masks\\Gastrointestinal Tract\\video20\\video20_03340\\3390.jpg\n",
      "Looking for mask in: c:\\Users\\devan\\Downloads\\SAM2_Eval\\SAM2_Eval_Surgical_Datasets\\../Datasets\\CholecSeg8k\\test\\Masks\\Grasper\\video20\\video20_03340\\3390.jpg\n",
      "Looking for mask in: c:\\Users\\devan\\Downloads\\SAM2_Eval\\SAM2_Eval_Surgical_Datasets\\../Datasets\\CholecSeg8k\\test\\Masks\\L-hook Electrocautery\\video20\\video20_03340\\3390.jpg\n",
      "Looking for mask in: c:\\Users\\devan\\Downloads\\SAM2_Eval\\SAM2_Eval_Surgical_Datasets\\../Datasets\\CholecSeg8k\\test\\Masks\\Liver\\video20\\video20_03340\\3390.jpg\n",
      "No matching mask found for frame: c:\\Users\\devan\\Downloads\\SAM2_Eval\\SAM2_Eval_Surgical_Datasets\\temp_jpg_frames\\3390.jpg\n",
      "Looking for mask in: c:\\Users\\devan\\Downloads\\SAM2_Eval\\SAM2_Eval_Surgical_Datasets\\../Datasets\\CholecSeg8k\\test\\Masks\\Abdominal Wall\\video20\\video20_03340\\3391.jpg\n",
      "Looking for mask in: c:\\Users\\devan\\Downloads\\SAM2_Eval\\SAM2_Eval_Surgical_Datasets\\../Datasets\\CholecSeg8k\\test\\Masks\\Fat\\video20\\video20_03340\\3391.jpg\n",
      "Looking for mask in: c:\\Users\\devan\\Downloads\\SAM2_Eval\\SAM2_Eval_Surgical_Datasets\\../Datasets\\CholecSeg8k\\test\\Masks\\Gall bladder\\video20\\video20_03340\\3391.jpg\n",
      "Looking for mask in: c:\\Users\\devan\\Downloads\\SAM2_Eval\\SAM2_Eval_Surgical_Datasets\\../Datasets\\CholecSeg8k\\test\\Masks\\Gastrointestinal Tract\\video20\\video20_03340\\3391.jpg\n",
      "Looking for mask in: c:\\Users\\devan\\Downloads\\SAM2_Eval\\SAM2_Eval_Surgical_Datasets\\../Datasets\\CholecSeg8k\\test\\Masks\\Grasper\\video20\\video20_03340\\3391.jpg\n",
      "Looking for mask in: c:\\Users\\devan\\Downloads\\SAM2_Eval\\SAM2_Eval_Surgical_Datasets\\../Datasets\\CholecSeg8k\\test\\Masks\\L-hook Electrocautery\\video20\\video20_03340\\3391.jpg\n",
      "Looking for mask in: c:\\Users\\devan\\Downloads\\SAM2_Eval\\SAM2_Eval_Surgical_Datasets\\../Datasets\\CholecSeg8k\\test\\Masks\\Liver\\video20\\video20_03340\\3391.jpg\n",
      "No matching mask found for frame: c:\\Users\\devan\\Downloads\\SAM2_Eval\\SAM2_Eval_Surgical_Datasets\\temp_jpg_frames\\3391.jpg\n",
      "Looking for mask in: c:\\Users\\devan\\Downloads\\SAM2_Eval\\SAM2_Eval_Surgical_Datasets\\../Datasets\\CholecSeg8k\\test\\Masks\\Abdominal Wall\\video20\\video20_03340\\3392.jpg\n",
      "Looking for mask in: c:\\Users\\devan\\Downloads\\SAM2_Eval\\SAM2_Eval_Surgical_Datasets\\../Datasets\\CholecSeg8k\\test\\Masks\\Fat\\video20\\video20_03340\\3392.jpg\n",
      "Looking for mask in: c:\\Users\\devan\\Downloads\\SAM2_Eval\\SAM2_Eval_Surgical_Datasets\\../Datasets\\CholecSeg8k\\test\\Masks\\Gall bladder\\video20\\video20_03340\\3392.jpg\n",
      "Looking for mask in: c:\\Users\\devan\\Downloads\\SAM2_Eval\\SAM2_Eval_Surgical_Datasets\\../Datasets\\CholecSeg8k\\test\\Masks\\Gastrointestinal Tract\\video20\\video20_03340\\3392.jpg\n",
      "Looking for mask in: c:\\Users\\devan\\Downloads\\SAM2_Eval\\SAM2_Eval_Surgical_Datasets\\../Datasets\\CholecSeg8k\\test\\Masks\\Grasper\\video20\\video20_03340\\3392.jpg\n",
      "Looking for mask in: c:\\Users\\devan\\Downloads\\SAM2_Eval\\SAM2_Eval_Surgical_Datasets\\../Datasets\\CholecSeg8k\\test\\Masks\\L-hook Electrocautery\\video20\\video20_03340\\3392.jpg\n",
      "Looking for mask in: c:\\Users\\devan\\Downloads\\SAM2_Eval\\SAM2_Eval_Surgical_Datasets\\../Datasets\\CholecSeg8k\\test\\Masks\\Liver\\video20\\video20_03340\\3392.jpg\n",
      "No matching mask found for frame: c:\\Users\\devan\\Downloads\\SAM2_Eval\\SAM2_Eval_Surgical_Datasets\\temp_jpg_frames\\3392.jpg\n",
      "Looking for mask in: c:\\Users\\devan\\Downloads\\SAM2_Eval\\SAM2_Eval_Surgical_Datasets\\../Datasets\\CholecSeg8k\\test\\Masks\\Abdominal Wall\\video20\\video20_03340\\3393.jpg\n",
      "Looking for mask in: c:\\Users\\devan\\Downloads\\SAM2_Eval\\SAM2_Eval_Surgical_Datasets\\../Datasets\\CholecSeg8k\\test\\Masks\\Fat\\video20\\video20_03340\\3393.jpg\n",
      "Looking for mask in: c:\\Users\\devan\\Downloads\\SAM2_Eval\\SAM2_Eval_Surgical_Datasets\\../Datasets\\CholecSeg8k\\test\\Masks\\Gall bladder\\video20\\video20_03340\\3393.jpg\n",
      "Looking for mask in: c:\\Users\\devan\\Downloads\\SAM2_Eval\\SAM2_Eval_Surgical_Datasets\\../Datasets\\CholecSeg8k\\test\\Masks\\Gastrointestinal Tract\\video20\\video20_03340\\3393.jpg\n",
      "Looking for mask in: c:\\Users\\devan\\Downloads\\SAM2_Eval\\SAM2_Eval_Surgical_Datasets\\../Datasets\\CholecSeg8k\\test\\Masks\\Grasper\\video20\\video20_03340\\3393.jpg\n",
      "Looking for mask in: c:\\Users\\devan\\Downloads\\SAM2_Eval\\SAM2_Eval_Surgical_Datasets\\../Datasets\\CholecSeg8k\\test\\Masks\\L-hook Electrocautery\\video20\\video20_03340\\3393.jpg\n",
      "Looking for mask in: c:\\Users\\devan\\Downloads\\SAM2_Eval\\SAM2_Eval_Surgical_Datasets\\../Datasets\\CholecSeg8k\\test\\Masks\\Liver\\video20\\video20_03340\\3393.jpg\n",
      "No matching mask found for frame: c:\\Users\\devan\\Downloads\\SAM2_Eval\\SAM2_Eval_Surgical_Datasets\\temp_jpg_frames\\3393.jpg\n",
      "Looking for mask in: c:\\Users\\devan\\Downloads\\SAM2_Eval\\SAM2_Eval_Surgical_Datasets\\../Datasets\\CholecSeg8k\\test\\Masks\\Abdominal Wall\\video20\\video20_03340\\3394.jpg\n",
      "Looking for mask in: c:\\Users\\devan\\Downloads\\SAM2_Eval\\SAM2_Eval_Surgical_Datasets\\../Datasets\\CholecSeg8k\\test\\Masks\\Fat\\video20\\video20_03340\\3394.jpg\n",
      "Looking for mask in: c:\\Users\\devan\\Downloads\\SAM2_Eval\\SAM2_Eval_Surgical_Datasets\\../Datasets\\CholecSeg8k\\test\\Masks\\Gall bladder\\video20\\video20_03340\\3394.jpg\n",
      "Looking for mask in: c:\\Users\\devan\\Downloads\\SAM2_Eval\\SAM2_Eval_Surgical_Datasets\\../Datasets\\CholecSeg8k\\test\\Masks\\Gastrointestinal Tract\\video20\\video20_03340\\3394.jpg\n",
      "Looking for mask in: c:\\Users\\devan\\Downloads\\SAM2_Eval\\SAM2_Eval_Surgical_Datasets\\../Datasets\\CholecSeg8k\\test\\Masks\\Grasper\\video20\\video20_03340\\3394.jpg\n",
      "Looking for mask in: c:\\Users\\devan\\Downloads\\SAM2_Eval\\SAM2_Eval_Surgical_Datasets\\../Datasets\\CholecSeg8k\\test\\Masks\\L-hook Electrocautery\\video20\\video20_03340\\3394.jpg\n",
      "Looking for mask in: c:\\Users\\devan\\Downloads\\SAM2_Eval\\SAM2_Eval_Surgical_Datasets\\../Datasets\\CholecSeg8k\\test\\Masks\\Liver\\video20\\video20_03340\\3394.jpg\n",
      "No matching mask found for frame: c:\\Users\\devan\\Downloads\\SAM2_Eval\\SAM2_Eval_Surgical_Datasets\\temp_jpg_frames\\3394.jpg\n",
      "Looking for mask in: c:\\Users\\devan\\Downloads\\SAM2_Eval\\SAM2_Eval_Surgical_Datasets\\../Datasets\\CholecSeg8k\\test\\Masks\\Abdominal Wall\\video20\\video20_03340\\3395.jpg\n",
      "Looking for mask in: c:\\Users\\devan\\Downloads\\SAM2_Eval\\SAM2_Eval_Surgical_Datasets\\../Datasets\\CholecSeg8k\\test\\Masks\\Fat\\video20\\video20_03340\\3395.jpg\n",
      "Looking for mask in: c:\\Users\\devan\\Downloads\\SAM2_Eval\\SAM2_Eval_Surgical_Datasets\\../Datasets\\CholecSeg8k\\test\\Masks\\Gall bladder\\video20\\video20_03340\\3395.jpg\n",
      "Looking for mask in: c:\\Users\\devan\\Downloads\\SAM2_Eval\\SAM2_Eval_Surgical_Datasets\\../Datasets\\CholecSeg8k\\test\\Masks\\Gastrointestinal Tract\\video20\\video20_03340\\3395.jpg\n",
      "Looking for mask in: c:\\Users\\devan\\Downloads\\SAM2_Eval\\SAM2_Eval_Surgical_Datasets\\../Datasets\\CholecSeg8k\\test\\Masks\\Grasper\\video20\\video20_03340\\3395.jpg\n",
      "Looking for mask in: c:\\Users\\devan\\Downloads\\SAM2_Eval\\SAM2_Eval_Surgical_Datasets\\../Datasets\\CholecSeg8k\\test\\Masks\\L-hook Electrocautery\\video20\\video20_03340\\3395.jpg\n",
      "Looking for mask in: c:\\Users\\devan\\Downloads\\SAM2_Eval\\SAM2_Eval_Surgical_Datasets\\../Datasets\\CholecSeg8k\\test\\Masks\\Liver\\video20\\video20_03340\\3395.jpg\n",
      "No matching mask found for frame: c:\\Users\\devan\\Downloads\\SAM2_Eval\\SAM2_Eval_Surgical_Datasets\\temp_jpg_frames\\3395.jpg\n",
      "Looking for mask in: c:\\Users\\devan\\Downloads\\SAM2_Eval\\SAM2_Eval_Surgical_Datasets\\../Datasets\\CholecSeg8k\\test\\Masks\\Abdominal Wall\\video20\\video20_03340\\3396.jpg\n",
      "Looking for mask in: c:\\Users\\devan\\Downloads\\SAM2_Eval\\SAM2_Eval_Surgical_Datasets\\../Datasets\\CholecSeg8k\\test\\Masks\\Fat\\video20\\video20_03340\\3396.jpg\n",
      "Looking for mask in: c:\\Users\\devan\\Downloads\\SAM2_Eval\\SAM2_Eval_Surgical_Datasets\\../Datasets\\CholecSeg8k\\test\\Masks\\Gall bladder\\video20\\video20_03340\\3396.jpg\n",
      "Looking for mask in: c:\\Users\\devan\\Downloads\\SAM2_Eval\\SAM2_Eval_Surgical_Datasets\\../Datasets\\CholecSeg8k\\test\\Masks\\Gastrointestinal Tract\\video20\\video20_03340\\3396.jpg\n",
      "Looking for mask in: c:\\Users\\devan\\Downloads\\SAM2_Eval\\SAM2_Eval_Surgical_Datasets\\../Datasets\\CholecSeg8k\\test\\Masks\\Grasper\\video20\\video20_03340\\3396.jpg\n",
      "Looking for mask in: c:\\Users\\devan\\Downloads\\SAM2_Eval\\SAM2_Eval_Surgical_Datasets\\../Datasets\\CholecSeg8k\\test\\Masks\\L-hook Electrocautery\\video20\\video20_03340\\3396.jpg\n",
      "Looking for mask in: c:\\Users\\devan\\Downloads\\SAM2_Eval\\SAM2_Eval_Surgical_Datasets\\../Datasets\\CholecSeg8k\\test\\Masks\\Liver\\video20\\video20_03340\\3396.jpg\n",
      "No matching mask found for frame: c:\\Users\\devan\\Downloads\\SAM2_Eval\\SAM2_Eval_Surgical_Datasets\\temp_jpg_frames\\3396.jpg\n",
      "Looking for mask in: c:\\Users\\devan\\Downloads\\SAM2_Eval\\SAM2_Eval_Surgical_Datasets\\../Datasets\\CholecSeg8k\\test\\Masks\\Abdominal Wall\\video20\\video20_03340\\3397.jpg\n",
      "Looking for mask in: c:\\Users\\devan\\Downloads\\SAM2_Eval\\SAM2_Eval_Surgical_Datasets\\../Datasets\\CholecSeg8k\\test\\Masks\\Fat\\video20\\video20_03340\\3397.jpg\n",
      "Looking for mask in: c:\\Users\\devan\\Downloads\\SAM2_Eval\\SAM2_Eval_Surgical_Datasets\\../Datasets\\CholecSeg8k\\test\\Masks\\Gall bladder\\video20\\video20_03340\\3397.jpg\n",
      "Looking for mask in: c:\\Users\\devan\\Downloads\\SAM2_Eval\\SAM2_Eval_Surgical_Datasets\\../Datasets\\CholecSeg8k\\test\\Masks\\Gastrointestinal Tract\\video20\\video20_03340\\3397.jpg\n",
      "Looking for mask in: c:\\Users\\devan\\Downloads\\SAM2_Eval\\SAM2_Eval_Surgical_Datasets\\../Datasets\\CholecSeg8k\\test\\Masks\\Grasper\\video20\\video20_03340\\3397.jpg\n",
      "Looking for mask in: c:\\Users\\devan\\Downloads\\SAM2_Eval\\SAM2_Eval_Surgical_Datasets\\../Datasets\\CholecSeg8k\\test\\Masks\\L-hook Electrocautery\\video20\\video20_03340\\3397.jpg\n",
      "Looking for mask in: c:\\Users\\devan\\Downloads\\SAM2_Eval\\SAM2_Eval_Surgical_Datasets\\../Datasets\\CholecSeg8k\\test\\Masks\\Liver\\video20\\video20_03340\\3397.jpg\n",
      "No matching mask found for frame: c:\\Users\\devan\\Downloads\\SAM2_Eval\\SAM2_Eval_Surgical_Datasets\\temp_jpg_frames\\3397.jpg\n",
      "Looking for mask in: c:\\Users\\devan\\Downloads\\SAM2_Eval\\SAM2_Eval_Surgical_Datasets\\../Datasets\\CholecSeg8k\\test\\Masks\\Abdominal Wall\\video20\\video20_03340\\3398.jpg\n",
      "Looking for mask in: c:\\Users\\devan\\Downloads\\SAM2_Eval\\SAM2_Eval_Surgical_Datasets\\../Datasets\\CholecSeg8k\\test\\Masks\\Fat\\video20\\video20_03340\\3398.jpg\n",
      "Looking for mask in: c:\\Users\\devan\\Downloads\\SAM2_Eval\\SAM2_Eval_Surgical_Datasets\\../Datasets\\CholecSeg8k\\test\\Masks\\Gall bladder\\video20\\video20_03340\\3398.jpg\n",
      "Looking for mask in: c:\\Users\\devan\\Downloads\\SAM2_Eval\\SAM2_Eval_Surgical_Datasets\\../Datasets\\CholecSeg8k\\test\\Masks\\Gastrointestinal Tract\\video20\\video20_03340\\3398.jpg\n",
      "Looking for mask in: c:\\Users\\devan\\Downloads\\SAM2_Eval\\SAM2_Eval_Surgical_Datasets\\../Datasets\\CholecSeg8k\\test\\Masks\\Grasper\\video20\\video20_03340\\3398.jpg\n",
      "Looking for mask in: c:\\Users\\devan\\Downloads\\SAM2_Eval\\SAM2_Eval_Surgical_Datasets\\../Datasets\\CholecSeg8k\\test\\Masks\\L-hook Electrocautery\\video20\\video20_03340\\3398.jpg\n",
      "Looking for mask in: c:\\Users\\devan\\Downloads\\SAM2_Eval\\SAM2_Eval_Surgical_Datasets\\../Datasets\\CholecSeg8k\\test\\Masks\\Liver\\video20\\video20_03340\\3398.jpg\n",
      "No matching mask found for frame: c:\\Users\\devan\\Downloads\\SAM2_Eval\\SAM2_Eval_Surgical_Datasets\\temp_jpg_frames\\3398.jpg\n",
      "Looking for mask in: c:\\Users\\devan\\Downloads\\SAM2_Eval\\SAM2_Eval_Surgical_Datasets\\../Datasets\\CholecSeg8k\\test\\Masks\\Abdominal Wall\\video20\\video20_03340\\3399.jpg\n",
      "Looking for mask in: c:\\Users\\devan\\Downloads\\SAM2_Eval\\SAM2_Eval_Surgical_Datasets\\../Datasets\\CholecSeg8k\\test\\Masks\\Fat\\video20\\video20_03340\\3399.jpg\n",
      "Looking for mask in: c:\\Users\\devan\\Downloads\\SAM2_Eval\\SAM2_Eval_Surgical_Datasets\\../Datasets\\CholecSeg8k\\test\\Masks\\Gall bladder\\video20\\video20_03340\\3399.jpg\n",
      "Looking for mask in: c:\\Users\\devan\\Downloads\\SAM2_Eval\\SAM2_Eval_Surgical_Datasets\\../Datasets\\CholecSeg8k\\test\\Masks\\Gastrointestinal Tract\\video20\\video20_03340\\3399.jpg\n",
      "Looking for mask in: c:\\Users\\devan\\Downloads\\SAM2_Eval\\SAM2_Eval_Surgical_Datasets\\../Datasets\\CholecSeg8k\\test\\Masks\\Grasper\\video20\\video20_03340\\3399.jpg\n",
      "Looking for mask in: c:\\Users\\devan\\Downloads\\SAM2_Eval\\SAM2_Eval_Surgical_Datasets\\../Datasets\\CholecSeg8k\\test\\Masks\\L-hook Electrocautery\\video20\\video20_03340\\3399.jpg\n",
      "Looking for mask in: c:\\Users\\devan\\Downloads\\SAM2_Eval\\SAM2_Eval_Surgical_Datasets\\../Datasets\\CholecSeg8k\\test\\Masks\\Liver\\video20\\video20_03340\\3399.jpg\n",
      "No matching mask found for frame: c:\\Users\\devan\\Downloads\\SAM2_Eval\\SAM2_Eval_Surgical_Datasets\\temp_jpg_frames\\3399.jpg\n",
      "Looking for mask in: c:\\Users\\devan\\Downloads\\SAM2_Eval\\SAM2_Eval_Surgical_Datasets\\../Datasets\\CholecSeg8k\\test\\Masks\\Abdominal Wall\\video20\\video20_03340\\3400.jpg\n",
      "Looking for mask in: c:\\Users\\devan\\Downloads\\SAM2_Eval\\SAM2_Eval_Surgical_Datasets\\../Datasets\\CholecSeg8k\\test\\Masks\\Fat\\video20\\video20_03340\\3400.jpg\n",
      "Looking for mask in: c:\\Users\\devan\\Downloads\\SAM2_Eval\\SAM2_Eval_Surgical_Datasets\\../Datasets\\CholecSeg8k\\test\\Masks\\Gall bladder\\video20\\video20_03340\\3400.jpg\n",
      "Looking for mask in: c:\\Users\\devan\\Downloads\\SAM2_Eval\\SAM2_Eval_Surgical_Datasets\\../Datasets\\CholecSeg8k\\test\\Masks\\Gastrointestinal Tract\\video20\\video20_03340\\3400.jpg\n",
      "Looking for mask in: c:\\Users\\devan\\Downloads\\SAM2_Eval\\SAM2_Eval_Surgical_Datasets\\../Datasets\\CholecSeg8k\\test\\Masks\\Grasper\\video20\\video20_03340\\3400.jpg\n",
      "Looking for mask in: c:\\Users\\devan\\Downloads\\SAM2_Eval\\SAM2_Eval_Surgical_Datasets\\../Datasets\\CholecSeg8k\\test\\Masks\\L-hook Electrocautery\\video20\\video20_03340\\3400.jpg\n",
      "Looking for mask in: c:\\Users\\devan\\Downloads\\SAM2_Eval\\SAM2_Eval_Surgical_Datasets\\../Datasets\\CholecSeg8k\\test\\Masks\\Liver\\video20\\video20_03340\\3400.jpg\n",
      "No matching mask found for frame: c:\\Users\\devan\\Downloads\\SAM2_Eval\\SAM2_Eval_Surgical_Datasets\\temp_jpg_frames\\3400.jpg\n",
      "Looking for mask in: c:\\Users\\devan\\Downloads\\SAM2_Eval\\SAM2_Eval_Surgical_Datasets\\../Datasets\\CholecSeg8k\\test\\Masks\\Abdominal Wall\\video20\\video20_03340\\3401.jpg\n",
      "Looking for mask in: c:\\Users\\devan\\Downloads\\SAM2_Eval\\SAM2_Eval_Surgical_Datasets\\../Datasets\\CholecSeg8k\\test\\Masks\\Fat\\video20\\video20_03340\\3401.jpg\n",
      "Looking for mask in: c:\\Users\\devan\\Downloads\\SAM2_Eval\\SAM2_Eval_Surgical_Datasets\\../Datasets\\CholecSeg8k\\test\\Masks\\Gall bladder\\video20\\video20_03340\\3401.jpg\n",
      "Looking for mask in: c:\\Users\\devan\\Downloads\\SAM2_Eval\\SAM2_Eval_Surgical_Datasets\\../Datasets\\CholecSeg8k\\test\\Masks\\Gastrointestinal Tract\\video20\\video20_03340\\3401.jpg\n",
      "Looking for mask in: c:\\Users\\devan\\Downloads\\SAM2_Eval\\SAM2_Eval_Surgical_Datasets\\../Datasets\\CholecSeg8k\\test\\Masks\\Grasper\\video20\\video20_03340\\3401.jpg\n",
      "Looking for mask in: c:\\Users\\devan\\Downloads\\SAM2_Eval\\SAM2_Eval_Surgical_Datasets\\../Datasets\\CholecSeg8k\\test\\Masks\\L-hook Electrocautery\\video20\\video20_03340\\3401.jpg\n",
      "Looking for mask in: c:\\Users\\devan\\Downloads\\SAM2_Eval\\SAM2_Eval_Surgical_Datasets\\../Datasets\\CholecSeg8k\\test\\Masks\\Liver\\video20\\video20_03340\\3401.jpg\n",
      "No matching mask found for frame: c:\\Users\\devan\\Downloads\\SAM2_Eval\\SAM2_Eval_Surgical_Datasets\\temp_jpg_frames\\3401.jpg\n",
      "Looking for mask in: c:\\Users\\devan\\Downloads\\SAM2_Eval\\SAM2_Eval_Surgical_Datasets\\../Datasets\\CholecSeg8k\\test\\Masks\\Abdominal Wall\\video20\\video20_03340\\3402.jpg\n",
      "Looking for mask in: c:\\Users\\devan\\Downloads\\SAM2_Eval\\SAM2_Eval_Surgical_Datasets\\../Datasets\\CholecSeg8k\\test\\Masks\\Fat\\video20\\video20_03340\\3402.jpg\n",
      "Looking for mask in: c:\\Users\\devan\\Downloads\\SAM2_Eval\\SAM2_Eval_Surgical_Datasets\\../Datasets\\CholecSeg8k\\test\\Masks\\Gall bladder\\video20\\video20_03340\\3402.jpg\n",
      "Looking for mask in: c:\\Users\\devan\\Downloads\\SAM2_Eval\\SAM2_Eval_Surgical_Datasets\\../Datasets\\CholecSeg8k\\test\\Masks\\Gastrointestinal Tract\\video20\\video20_03340\\3402.jpg\n",
      "Looking for mask in: c:\\Users\\devan\\Downloads\\SAM2_Eval\\SAM2_Eval_Surgical_Datasets\\../Datasets\\CholecSeg8k\\test\\Masks\\Grasper\\video20\\video20_03340\\3402.jpg\n",
      "Looking for mask in: c:\\Users\\devan\\Downloads\\SAM2_Eval\\SAM2_Eval_Surgical_Datasets\\../Datasets\\CholecSeg8k\\test\\Masks\\L-hook Electrocautery\\video20\\video20_03340\\3402.jpg\n",
      "Looking for mask in: c:\\Users\\devan\\Downloads\\SAM2_Eval\\SAM2_Eval_Surgical_Datasets\\../Datasets\\CholecSeg8k\\test\\Masks\\Liver\\video20\\video20_03340\\3402.jpg\n",
      "No matching mask found for frame: c:\\Users\\devan\\Downloads\\SAM2_Eval\\SAM2_Eval_Surgical_Datasets\\temp_jpg_frames\\3402.jpg\n",
      "Looking for mask in: c:\\Users\\devan\\Downloads\\SAM2_Eval\\SAM2_Eval_Surgical_Datasets\\../Datasets\\CholecSeg8k\\test\\Masks\\Abdominal Wall\\video20\\video20_03340\\3403.jpg\n",
      "Looking for mask in: c:\\Users\\devan\\Downloads\\SAM2_Eval\\SAM2_Eval_Surgical_Datasets\\../Datasets\\CholecSeg8k\\test\\Masks\\Fat\\video20\\video20_03340\\3403.jpg\n",
      "Looking for mask in: c:\\Users\\devan\\Downloads\\SAM2_Eval\\SAM2_Eval_Surgical_Datasets\\../Datasets\\CholecSeg8k\\test\\Masks\\Gall bladder\\video20\\video20_03340\\3403.jpg\n",
      "Looking for mask in: c:\\Users\\devan\\Downloads\\SAM2_Eval\\SAM2_Eval_Surgical_Datasets\\../Datasets\\CholecSeg8k\\test\\Masks\\Gastrointestinal Tract\\video20\\video20_03340\\3403.jpg\n",
      "Looking for mask in: c:\\Users\\devan\\Downloads\\SAM2_Eval\\SAM2_Eval_Surgical_Datasets\\../Datasets\\CholecSeg8k\\test\\Masks\\Grasper\\video20\\video20_03340\\3403.jpg\n",
      "Looking for mask in: c:\\Users\\devan\\Downloads\\SAM2_Eval\\SAM2_Eval_Surgical_Datasets\\../Datasets\\CholecSeg8k\\test\\Masks\\L-hook Electrocautery\\video20\\video20_03340\\3403.jpg\n",
      "Looking for mask in: c:\\Users\\devan\\Downloads\\SAM2_Eval\\SAM2_Eval_Surgical_Datasets\\../Datasets\\CholecSeg8k\\test\\Masks\\Liver\\video20\\video20_03340\\3403.jpg\n",
      "No matching mask found for frame: c:\\Users\\devan\\Downloads\\SAM2_Eval\\SAM2_Eval_Surgical_Datasets\\temp_jpg_frames\\3403.jpg\n",
      "Looking for mask in: c:\\Users\\devan\\Downloads\\SAM2_Eval\\SAM2_Eval_Surgical_Datasets\\../Datasets\\CholecSeg8k\\test\\Masks\\Abdominal Wall\\video20\\video20_03340\\3404.jpg\n",
      "Looking for mask in: c:\\Users\\devan\\Downloads\\SAM2_Eval\\SAM2_Eval_Surgical_Datasets\\../Datasets\\CholecSeg8k\\test\\Masks\\Fat\\video20\\video20_03340\\3404.jpg\n",
      "Looking for mask in: c:\\Users\\devan\\Downloads\\SAM2_Eval\\SAM2_Eval_Surgical_Datasets\\../Datasets\\CholecSeg8k\\test\\Masks\\Gall bladder\\video20\\video20_03340\\3404.jpg\n",
      "Looking for mask in: c:\\Users\\devan\\Downloads\\SAM2_Eval\\SAM2_Eval_Surgical_Datasets\\../Datasets\\CholecSeg8k\\test\\Masks\\Gastrointestinal Tract\\video20\\video20_03340\\3404.jpg\n",
      "Looking for mask in: c:\\Users\\devan\\Downloads\\SAM2_Eval\\SAM2_Eval_Surgical_Datasets\\../Datasets\\CholecSeg8k\\test\\Masks\\Grasper\\video20\\video20_03340\\3404.jpg\n",
      "Looking for mask in: c:\\Users\\devan\\Downloads\\SAM2_Eval\\SAM2_Eval_Surgical_Datasets\\../Datasets\\CholecSeg8k\\test\\Masks\\L-hook Electrocautery\\video20\\video20_03340\\3404.jpg\n",
      "Looking for mask in: c:\\Users\\devan\\Downloads\\SAM2_Eval\\SAM2_Eval_Surgical_Datasets\\../Datasets\\CholecSeg8k\\test\\Masks\\Liver\\video20\\video20_03340\\3404.jpg\n",
      "No matching mask found for frame: c:\\Users\\devan\\Downloads\\SAM2_Eval\\SAM2_Eval_Surgical_Datasets\\temp_jpg_frames\\3404.jpg\n",
      "Looking for mask in: c:\\Users\\devan\\Downloads\\SAM2_Eval\\SAM2_Eval_Surgical_Datasets\\../Datasets\\CholecSeg8k\\test\\Masks\\Abdominal Wall\\video20\\video20_03340\\3405.jpg\n",
      "Looking for mask in: c:\\Users\\devan\\Downloads\\SAM2_Eval\\SAM2_Eval_Surgical_Datasets\\../Datasets\\CholecSeg8k\\test\\Masks\\Fat\\video20\\video20_03340\\3405.jpg\n",
      "Looking for mask in: c:\\Users\\devan\\Downloads\\SAM2_Eval\\SAM2_Eval_Surgical_Datasets\\../Datasets\\CholecSeg8k\\test\\Masks\\Gall bladder\\video20\\video20_03340\\3405.jpg\n",
      "Looking for mask in: c:\\Users\\devan\\Downloads\\SAM2_Eval\\SAM2_Eval_Surgical_Datasets\\../Datasets\\CholecSeg8k\\test\\Masks\\Gastrointestinal Tract\\video20\\video20_03340\\3405.jpg\n",
      "Looking for mask in: c:\\Users\\devan\\Downloads\\SAM2_Eval\\SAM2_Eval_Surgical_Datasets\\../Datasets\\CholecSeg8k\\test\\Masks\\Grasper\\video20\\video20_03340\\3405.jpg\n",
      "Looking for mask in: c:\\Users\\devan\\Downloads\\SAM2_Eval\\SAM2_Eval_Surgical_Datasets\\../Datasets\\CholecSeg8k\\test\\Masks\\L-hook Electrocautery\\video20\\video20_03340\\3405.jpg\n",
      "Looking for mask in: c:\\Users\\devan\\Downloads\\SAM2_Eval\\SAM2_Eval_Surgical_Datasets\\../Datasets\\CholecSeg8k\\test\\Masks\\Liver\\video20\\video20_03340\\3405.jpg\n",
      "No matching mask found for frame: c:\\Users\\devan\\Downloads\\SAM2_Eval\\SAM2_Eval_Surgical_Datasets\\temp_jpg_frames\\3405.jpg\n",
      "Looking for mask in: c:\\Users\\devan\\Downloads\\SAM2_Eval\\SAM2_Eval_Surgical_Datasets\\../Datasets\\CholecSeg8k\\test\\Masks\\Abdominal Wall\\video20\\video20_03340\\3406.jpg\n",
      "Looking for mask in: c:\\Users\\devan\\Downloads\\SAM2_Eval\\SAM2_Eval_Surgical_Datasets\\../Datasets\\CholecSeg8k\\test\\Masks\\Fat\\video20\\video20_03340\\3406.jpg\n",
      "Looking for mask in: c:\\Users\\devan\\Downloads\\SAM2_Eval\\SAM2_Eval_Surgical_Datasets\\../Datasets\\CholecSeg8k\\test\\Masks\\Gall bladder\\video20\\video20_03340\\3406.jpg\n",
      "Looking for mask in: c:\\Users\\devan\\Downloads\\SAM2_Eval\\SAM2_Eval_Surgical_Datasets\\../Datasets\\CholecSeg8k\\test\\Masks\\Gastrointestinal Tract\\video20\\video20_03340\\3406.jpg\n",
      "Looking for mask in: c:\\Users\\devan\\Downloads\\SAM2_Eval\\SAM2_Eval_Surgical_Datasets\\../Datasets\\CholecSeg8k\\test\\Masks\\Grasper\\video20\\video20_03340\\3406.jpg\n",
      "Looking for mask in: c:\\Users\\devan\\Downloads\\SAM2_Eval\\SAM2_Eval_Surgical_Datasets\\../Datasets\\CholecSeg8k\\test\\Masks\\L-hook Electrocautery\\video20\\video20_03340\\3406.jpg\n",
      "Looking for mask in: c:\\Users\\devan\\Downloads\\SAM2_Eval\\SAM2_Eval_Surgical_Datasets\\../Datasets\\CholecSeg8k\\test\\Masks\\Liver\\video20\\video20_03340\\3406.jpg\n",
      "No matching mask found for frame: c:\\Users\\devan\\Downloads\\SAM2_Eval\\SAM2_Eval_Surgical_Datasets\\temp_jpg_frames\\3406.jpg\n",
      "Looking for mask in: c:\\Users\\devan\\Downloads\\SAM2_Eval\\SAM2_Eval_Surgical_Datasets\\../Datasets\\CholecSeg8k\\test\\Masks\\Abdominal Wall\\video20\\video20_03340\\3407.jpg\n",
      "Looking for mask in: c:\\Users\\devan\\Downloads\\SAM2_Eval\\SAM2_Eval_Surgical_Datasets\\../Datasets\\CholecSeg8k\\test\\Masks\\Fat\\video20\\video20_03340\\3407.jpg\n",
      "Looking for mask in: c:\\Users\\devan\\Downloads\\SAM2_Eval\\SAM2_Eval_Surgical_Datasets\\../Datasets\\CholecSeg8k\\test\\Masks\\Gall bladder\\video20\\video20_03340\\3407.jpg\n",
      "Looking for mask in: c:\\Users\\devan\\Downloads\\SAM2_Eval\\SAM2_Eval_Surgical_Datasets\\../Datasets\\CholecSeg8k\\test\\Masks\\Gastrointestinal Tract\\video20\\video20_03340\\3407.jpg\n",
      "Looking for mask in: c:\\Users\\devan\\Downloads\\SAM2_Eval\\SAM2_Eval_Surgical_Datasets\\../Datasets\\CholecSeg8k\\test\\Masks\\Grasper\\video20\\video20_03340\\3407.jpg\n",
      "Looking for mask in: c:\\Users\\devan\\Downloads\\SAM2_Eval\\SAM2_Eval_Surgical_Datasets\\../Datasets\\CholecSeg8k\\test\\Masks\\L-hook Electrocautery\\video20\\video20_03340\\3407.jpg\n",
      "Looking for mask in: c:\\Users\\devan\\Downloads\\SAM2_Eval\\SAM2_Eval_Surgical_Datasets\\../Datasets\\CholecSeg8k\\test\\Masks\\Liver\\video20\\video20_03340\\3407.jpg\n",
      "No matching mask found for frame: c:\\Users\\devan\\Downloads\\SAM2_Eval\\SAM2_Eval_Surgical_Datasets\\temp_jpg_frames\\3407.jpg\n",
      "Looking for mask in: c:\\Users\\devan\\Downloads\\SAM2_Eval\\SAM2_Eval_Surgical_Datasets\\../Datasets\\CholecSeg8k\\test\\Masks\\Abdominal Wall\\video20\\video20_03340\\3408.jpg\n",
      "Looking for mask in: c:\\Users\\devan\\Downloads\\SAM2_Eval\\SAM2_Eval_Surgical_Datasets\\../Datasets\\CholecSeg8k\\test\\Masks\\Fat\\video20\\video20_03340\\3408.jpg\n",
      "Looking for mask in: c:\\Users\\devan\\Downloads\\SAM2_Eval\\SAM2_Eval_Surgical_Datasets\\../Datasets\\CholecSeg8k\\test\\Masks\\Gall bladder\\video20\\video20_03340\\3408.jpg\n",
      "Looking for mask in: c:\\Users\\devan\\Downloads\\SAM2_Eval\\SAM2_Eval_Surgical_Datasets\\../Datasets\\CholecSeg8k\\test\\Masks\\Gastrointestinal Tract\\video20\\video20_03340\\3408.jpg\n",
      "Looking for mask in: c:\\Users\\devan\\Downloads\\SAM2_Eval\\SAM2_Eval_Surgical_Datasets\\../Datasets\\CholecSeg8k\\test\\Masks\\Grasper\\video20\\video20_03340\\3408.jpg\n",
      "Looking for mask in: c:\\Users\\devan\\Downloads\\SAM2_Eval\\SAM2_Eval_Surgical_Datasets\\../Datasets\\CholecSeg8k\\test\\Masks\\L-hook Electrocautery\\video20\\video20_03340\\3408.jpg\n",
      "Looking for mask in: c:\\Users\\devan\\Downloads\\SAM2_Eval\\SAM2_Eval_Surgical_Datasets\\../Datasets\\CholecSeg8k\\test\\Masks\\Liver\\video20\\video20_03340\\3408.jpg\n",
      "No matching mask found for frame: c:\\Users\\devan\\Downloads\\SAM2_Eval\\SAM2_Eval_Surgical_Datasets\\temp_jpg_frames\\3408.jpg\n",
      "Looking for mask in: c:\\Users\\devan\\Downloads\\SAM2_Eval\\SAM2_Eval_Surgical_Datasets\\../Datasets\\CholecSeg8k\\test\\Masks\\Abdominal Wall\\video20\\video20_03340\\3409.jpg\n",
      "Looking for mask in: c:\\Users\\devan\\Downloads\\SAM2_Eval\\SAM2_Eval_Surgical_Datasets\\../Datasets\\CholecSeg8k\\test\\Masks\\Fat\\video20\\video20_03340\\3409.jpg\n",
      "Looking for mask in: c:\\Users\\devan\\Downloads\\SAM2_Eval\\SAM2_Eval_Surgical_Datasets\\../Datasets\\CholecSeg8k\\test\\Masks\\Gall bladder\\video20\\video20_03340\\3409.jpg\n",
      "Looking for mask in: c:\\Users\\devan\\Downloads\\SAM2_Eval\\SAM2_Eval_Surgical_Datasets\\../Datasets\\CholecSeg8k\\test\\Masks\\Gastrointestinal Tract\\video20\\video20_03340\\3409.jpg\n",
      "Looking for mask in: c:\\Users\\devan\\Downloads\\SAM2_Eval\\SAM2_Eval_Surgical_Datasets\\../Datasets\\CholecSeg8k\\test\\Masks\\Grasper\\video20\\video20_03340\\3409.jpg\n",
      "Looking for mask in: c:\\Users\\devan\\Downloads\\SAM2_Eval\\SAM2_Eval_Surgical_Datasets\\../Datasets\\CholecSeg8k\\test\\Masks\\L-hook Electrocautery\\video20\\video20_03340\\3409.jpg\n",
      "Looking for mask in: c:\\Users\\devan\\Downloads\\SAM2_Eval\\SAM2_Eval_Surgical_Datasets\\../Datasets\\CholecSeg8k\\test\\Masks\\Liver\\video20\\video20_03340\\3409.jpg\n",
      "No matching mask found for frame: c:\\Users\\devan\\Downloads\\SAM2_Eval\\SAM2_Eval_Surgical_Datasets\\temp_jpg_frames\\3409.jpg\n",
      "Looking for mask in: c:\\Users\\devan\\Downloads\\SAM2_Eval\\SAM2_Eval_Surgical_Datasets\\../Datasets\\CholecSeg8k\\test\\Masks\\Abdominal Wall\\video20\\video20_03340\\3410.jpg\n",
      "Looking for mask in: c:\\Users\\devan\\Downloads\\SAM2_Eval\\SAM2_Eval_Surgical_Datasets\\../Datasets\\CholecSeg8k\\test\\Masks\\Fat\\video20\\video20_03340\\3410.jpg\n",
      "Looking for mask in: c:\\Users\\devan\\Downloads\\SAM2_Eval\\SAM2_Eval_Surgical_Datasets\\../Datasets\\CholecSeg8k\\test\\Masks\\Gall bladder\\video20\\video20_03340\\3410.jpg\n",
      "Looking for mask in: c:\\Users\\devan\\Downloads\\SAM2_Eval\\SAM2_Eval_Surgical_Datasets\\../Datasets\\CholecSeg8k\\test\\Masks\\Gastrointestinal Tract\\video20\\video20_03340\\3410.jpg\n",
      "Looking for mask in: c:\\Users\\devan\\Downloads\\SAM2_Eval\\SAM2_Eval_Surgical_Datasets\\../Datasets\\CholecSeg8k\\test\\Masks\\Grasper\\video20\\video20_03340\\3410.jpg\n",
      "Looking for mask in: c:\\Users\\devan\\Downloads\\SAM2_Eval\\SAM2_Eval_Surgical_Datasets\\../Datasets\\CholecSeg8k\\test\\Masks\\L-hook Electrocautery\\video20\\video20_03340\\3410.jpg\n",
      "Looking for mask in: c:\\Users\\devan\\Downloads\\SAM2_Eval\\SAM2_Eval_Surgical_Datasets\\../Datasets\\CholecSeg8k\\test\\Masks\\Liver\\video20\\video20_03340\\3410.jpg\n",
      "No matching mask found for frame: c:\\Users\\devan\\Downloads\\SAM2_Eval\\SAM2_Eval_Surgical_Datasets\\temp_jpg_frames\\3410.jpg\n",
      "Looking for mask in: c:\\Users\\devan\\Downloads\\SAM2_Eval\\SAM2_Eval_Surgical_Datasets\\../Datasets\\CholecSeg8k\\test\\Masks\\Abdominal Wall\\video20\\video20_03340\\3411.jpg\n",
      "Looking for mask in: c:\\Users\\devan\\Downloads\\SAM2_Eval\\SAM2_Eval_Surgical_Datasets\\../Datasets\\CholecSeg8k\\test\\Masks\\Fat\\video20\\video20_03340\\3411.jpg\n",
      "Looking for mask in: c:\\Users\\devan\\Downloads\\SAM2_Eval\\SAM2_Eval_Surgical_Datasets\\../Datasets\\CholecSeg8k\\test\\Masks\\Gall bladder\\video20\\video20_03340\\3411.jpg\n",
      "Looking for mask in: c:\\Users\\devan\\Downloads\\SAM2_Eval\\SAM2_Eval_Surgical_Datasets\\../Datasets\\CholecSeg8k\\test\\Masks\\Gastrointestinal Tract\\video20\\video20_03340\\3411.jpg\n",
      "Looking for mask in: c:\\Users\\devan\\Downloads\\SAM2_Eval\\SAM2_Eval_Surgical_Datasets\\../Datasets\\CholecSeg8k\\test\\Masks\\Grasper\\video20\\video20_03340\\3411.jpg\n",
      "Looking for mask in: c:\\Users\\devan\\Downloads\\SAM2_Eval\\SAM2_Eval_Surgical_Datasets\\../Datasets\\CholecSeg8k\\test\\Masks\\L-hook Electrocautery\\video20\\video20_03340\\3411.jpg\n",
      "Looking for mask in: c:\\Users\\devan\\Downloads\\SAM2_Eval\\SAM2_Eval_Surgical_Datasets\\../Datasets\\CholecSeg8k\\test\\Masks\\Liver\\video20\\video20_03340\\3411.jpg\n",
      "No matching mask found for frame: c:\\Users\\devan\\Downloads\\SAM2_Eval\\SAM2_Eval_Surgical_Datasets\\temp_jpg_frames\\3411.jpg\n",
      "Looking for mask in: c:\\Users\\devan\\Downloads\\SAM2_Eval\\SAM2_Eval_Surgical_Datasets\\../Datasets\\CholecSeg8k\\test\\Masks\\Abdominal Wall\\video20\\video20_03340\\3412.jpg\n",
      "Looking for mask in: c:\\Users\\devan\\Downloads\\SAM2_Eval\\SAM2_Eval_Surgical_Datasets\\../Datasets\\CholecSeg8k\\test\\Masks\\Fat\\video20\\video20_03340\\3412.jpg\n",
      "Looking for mask in: c:\\Users\\devan\\Downloads\\SAM2_Eval\\SAM2_Eval_Surgical_Datasets\\../Datasets\\CholecSeg8k\\test\\Masks\\Gall bladder\\video20\\video20_03340\\3412.jpg\n",
      "Looking for mask in: c:\\Users\\devan\\Downloads\\SAM2_Eval\\SAM2_Eval_Surgical_Datasets\\../Datasets\\CholecSeg8k\\test\\Masks\\Gastrointestinal Tract\\video20\\video20_03340\\3412.jpg\n",
      "Looking for mask in: c:\\Users\\devan\\Downloads\\SAM2_Eval\\SAM2_Eval_Surgical_Datasets\\../Datasets\\CholecSeg8k\\test\\Masks\\Grasper\\video20\\video20_03340\\3412.jpg\n",
      "Looking for mask in: c:\\Users\\devan\\Downloads\\SAM2_Eval\\SAM2_Eval_Surgical_Datasets\\../Datasets\\CholecSeg8k\\test\\Masks\\L-hook Electrocautery\\video20\\video20_03340\\3412.jpg\n",
      "Looking for mask in: c:\\Users\\devan\\Downloads\\SAM2_Eval\\SAM2_Eval_Surgical_Datasets\\../Datasets\\CholecSeg8k\\test\\Masks\\Liver\\video20\\video20_03340\\3412.jpg\n",
      "No matching mask found for frame: c:\\Users\\devan\\Downloads\\SAM2_Eval\\SAM2_Eval_Surgical_Datasets\\temp_jpg_frames\\3412.jpg\n",
      "Looking for mask in: c:\\Users\\devan\\Downloads\\SAM2_Eval\\SAM2_Eval_Surgical_Datasets\\../Datasets\\CholecSeg8k\\test\\Masks\\Abdominal Wall\\video20\\video20_03340\\3413.jpg\n",
      "Looking for mask in: c:\\Users\\devan\\Downloads\\SAM2_Eval\\SAM2_Eval_Surgical_Datasets\\../Datasets\\CholecSeg8k\\test\\Masks\\Fat\\video20\\video20_03340\\3413.jpg\n",
      "Looking for mask in: c:\\Users\\devan\\Downloads\\SAM2_Eval\\SAM2_Eval_Surgical_Datasets\\../Datasets\\CholecSeg8k\\test\\Masks\\Gall bladder\\video20\\video20_03340\\3413.jpg\n",
      "Looking for mask in: c:\\Users\\devan\\Downloads\\SAM2_Eval\\SAM2_Eval_Surgical_Datasets\\../Datasets\\CholecSeg8k\\test\\Masks\\Gastrointestinal Tract\\video20\\video20_03340\\3413.jpg\n",
      "Looking for mask in: c:\\Users\\devan\\Downloads\\SAM2_Eval\\SAM2_Eval_Surgical_Datasets\\../Datasets\\CholecSeg8k\\test\\Masks\\Grasper\\video20\\video20_03340\\3413.jpg\n",
      "Looking for mask in: c:\\Users\\devan\\Downloads\\SAM2_Eval\\SAM2_Eval_Surgical_Datasets\\../Datasets\\CholecSeg8k\\test\\Masks\\L-hook Electrocautery\\video20\\video20_03340\\3413.jpg\n",
      "Looking for mask in: c:\\Users\\devan\\Downloads\\SAM2_Eval\\SAM2_Eval_Surgical_Datasets\\../Datasets\\CholecSeg8k\\test\\Masks\\Liver\\video20\\video20_03340\\3413.jpg\n",
      "No matching mask found for frame: c:\\Users\\devan\\Downloads\\SAM2_Eval\\SAM2_Eval_Surgical_Datasets\\temp_jpg_frames\\3413.jpg\n",
      "Looking for mask in: c:\\Users\\devan\\Downloads\\SAM2_Eval\\SAM2_Eval_Surgical_Datasets\\../Datasets\\CholecSeg8k\\test\\Masks\\Abdominal Wall\\video20\\video20_03340\\3414.jpg\n",
      "Looking for mask in: c:\\Users\\devan\\Downloads\\SAM2_Eval\\SAM2_Eval_Surgical_Datasets\\../Datasets\\CholecSeg8k\\test\\Masks\\Fat\\video20\\video20_03340\\3414.jpg\n",
      "Looking for mask in: c:\\Users\\devan\\Downloads\\SAM2_Eval\\SAM2_Eval_Surgical_Datasets\\../Datasets\\CholecSeg8k\\test\\Masks\\Gall bladder\\video20\\video20_03340\\3414.jpg\n",
      "Looking for mask in: c:\\Users\\devan\\Downloads\\SAM2_Eval\\SAM2_Eval_Surgical_Datasets\\../Datasets\\CholecSeg8k\\test\\Masks\\Gastrointestinal Tract\\video20\\video20_03340\\3414.jpg\n",
      "Looking for mask in: c:\\Users\\devan\\Downloads\\SAM2_Eval\\SAM2_Eval_Surgical_Datasets\\../Datasets\\CholecSeg8k\\test\\Masks\\Grasper\\video20\\video20_03340\\3414.jpg\n",
      "Looking for mask in: c:\\Users\\devan\\Downloads\\SAM2_Eval\\SAM2_Eval_Surgical_Datasets\\../Datasets\\CholecSeg8k\\test\\Masks\\L-hook Electrocautery\\video20\\video20_03340\\3414.jpg\n",
      "Looking for mask in: c:\\Users\\devan\\Downloads\\SAM2_Eval\\SAM2_Eval_Surgical_Datasets\\../Datasets\\CholecSeg8k\\test\\Masks\\Liver\\video20\\video20_03340\\3414.jpg\n",
      "No matching mask found for frame: c:\\Users\\devan\\Downloads\\SAM2_Eval\\SAM2_Eval_Surgical_Datasets\\temp_jpg_frames\\3414.jpg\n",
      "Looking for mask in: c:\\Users\\devan\\Downloads\\SAM2_Eval\\SAM2_Eval_Surgical_Datasets\\../Datasets\\CholecSeg8k\\test\\Masks\\Abdominal Wall\\video20\\video20_03340\\3415.jpg\n",
      "Looking for mask in: c:\\Users\\devan\\Downloads\\SAM2_Eval\\SAM2_Eval_Surgical_Datasets\\../Datasets\\CholecSeg8k\\test\\Masks\\Fat\\video20\\video20_03340\\3415.jpg\n",
      "Looking for mask in: c:\\Users\\devan\\Downloads\\SAM2_Eval\\SAM2_Eval_Surgical_Datasets\\../Datasets\\CholecSeg8k\\test\\Masks\\Gall bladder\\video20\\video20_03340\\3415.jpg\n",
      "Looking for mask in: c:\\Users\\devan\\Downloads\\SAM2_Eval\\SAM2_Eval_Surgical_Datasets\\../Datasets\\CholecSeg8k\\test\\Masks\\Gastrointestinal Tract\\video20\\video20_03340\\3415.jpg\n",
      "Looking for mask in: c:\\Users\\devan\\Downloads\\SAM2_Eval\\SAM2_Eval_Surgical_Datasets\\../Datasets\\CholecSeg8k\\test\\Masks\\Grasper\\video20\\video20_03340\\3415.jpg\n",
      "Looking for mask in: c:\\Users\\devan\\Downloads\\SAM2_Eval\\SAM2_Eval_Surgical_Datasets\\../Datasets\\CholecSeg8k\\test\\Masks\\L-hook Electrocautery\\video20\\video20_03340\\3415.jpg\n",
      "Looking for mask in: c:\\Users\\devan\\Downloads\\SAM2_Eval\\SAM2_Eval_Surgical_Datasets\\../Datasets\\CholecSeg8k\\test\\Masks\\Liver\\video20\\video20_03340\\3415.jpg\n",
      "No matching mask found for frame: c:\\Users\\devan\\Downloads\\SAM2_Eval\\SAM2_Eval_Surgical_Datasets\\temp_jpg_frames\\3415.jpg\n",
      "Looking for mask in: c:\\Users\\devan\\Downloads\\SAM2_Eval\\SAM2_Eval_Surgical_Datasets\\../Datasets\\CholecSeg8k\\test\\Masks\\Abdominal Wall\\video20\\video20_03340\\3416.jpg\n",
      "Looking for mask in: c:\\Users\\devan\\Downloads\\SAM2_Eval\\SAM2_Eval_Surgical_Datasets\\../Datasets\\CholecSeg8k\\test\\Masks\\Fat\\video20\\video20_03340\\3416.jpg\n",
      "Looking for mask in: c:\\Users\\devan\\Downloads\\SAM2_Eval\\SAM2_Eval_Surgical_Datasets\\../Datasets\\CholecSeg8k\\test\\Masks\\Gall bladder\\video20\\video20_03340\\3416.jpg\n",
      "Looking for mask in: c:\\Users\\devan\\Downloads\\SAM2_Eval\\SAM2_Eval_Surgical_Datasets\\../Datasets\\CholecSeg8k\\test\\Masks\\Gastrointestinal Tract\\video20\\video20_03340\\3416.jpg\n",
      "Looking for mask in: c:\\Users\\devan\\Downloads\\SAM2_Eval\\SAM2_Eval_Surgical_Datasets\\../Datasets\\CholecSeg8k\\test\\Masks\\Grasper\\video20\\video20_03340\\3416.jpg\n",
      "Looking for mask in: c:\\Users\\devan\\Downloads\\SAM2_Eval\\SAM2_Eval_Surgical_Datasets\\../Datasets\\CholecSeg8k\\test\\Masks\\L-hook Electrocautery\\video20\\video20_03340\\3416.jpg\n",
      "Looking for mask in: c:\\Users\\devan\\Downloads\\SAM2_Eval\\SAM2_Eval_Surgical_Datasets\\../Datasets\\CholecSeg8k\\test\\Masks\\Liver\\video20\\video20_03340\\3416.jpg\n",
      "No matching mask found for frame: c:\\Users\\devan\\Downloads\\SAM2_Eval\\SAM2_Eval_Surgical_Datasets\\temp_jpg_frames\\3416.jpg\n",
      "Looking for mask in: c:\\Users\\devan\\Downloads\\SAM2_Eval\\SAM2_Eval_Surgical_Datasets\\../Datasets\\CholecSeg8k\\test\\Masks\\Abdominal Wall\\video20\\video20_03340\\3417.jpg\n",
      "Looking for mask in: c:\\Users\\devan\\Downloads\\SAM2_Eval\\SAM2_Eval_Surgical_Datasets\\../Datasets\\CholecSeg8k\\test\\Masks\\Fat\\video20\\video20_03340\\3417.jpg\n",
      "Looking for mask in: c:\\Users\\devan\\Downloads\\SAM2_Eval\\SAM2_Eval_Surgical_Datasets\\../Datasets\\CholecSeg8k\\test\\Masks\\Gall bladder\\video20\\video20_03340\\3417.jpg\n",
      "Looking for mask in: c:\\Users\\devan\\Downloads\\SAM2_Eval\\SAM2_Eval_Surgical_Datasets\\../Datasets\\CholecSeg8k\\test\\Masks\\Gastrointestinal Tract\\video20\\video20_03340\\3417.jpg\n",
      "Looking for mask in: c:\\Users\\devan\\Downloads\\SAM2_Eval\\SAM2_Eval_Surgical_Datasets\\../Datasets\\CholecSeg8k\\test\\Masks\\Grasper\\video20\\video20_03340\\3417.jpg\n",
      "Looking for mask in: c:\\Users\\devan\\Downloads\\SAM2_Eval\\SAM2_Eval_Surgical_Datasets\\../Datasets\\CholecSeg8k\\test\\Masks\\L-hook Electrocautery\\video20\\video20_03340\\3417.jpg\n",
      "Looking for mask in: c:\\Users\\devan\\Downloads\\SAM2_Eval\\SAM2_Eval_Surgical_Datasets\\../Datasets\\CholecSeg8k\\test\\Masks\\Liver\\video20\\video20_03340\\3417.jpg\n",
      "No matching mask found for frame: c:\\Users\\devan\\Downloads\\SAM2_Eval\\SAM2_Eval_Surgical_Datasets\\temp_jpg_frames\\3417.jpg\n",
      "Looking for mask in: c:\\Users\\devan\\Downloads\\SAM2_Eval\\SAM2_Eval_Surgical_Datasets\\../Datasets\\CholecSeg8k\\test\\Masks\\Abdominal Wall\\video20\\video20_03340\\3418.jpg\n",
      "Looking for mask in: c:\\Users\\devan\\Downloads\\SAM2_Eval\\SAM2_Eval_Surgical_Datasets\\../Datasets\\CholecSeg8k\\test\\Masks\\Fat\\video20\\video20_03340\\3418.jpg\n",
      "Looking for mask in: c:\\Users\\devan\\Downloads\\SAM2_Eval\\SAM2_Eval_Surgical_Datasets\\../Datasets\\CholecSeg8k\\test\\Masks\\Gall bladder\\video20\\video20_03340\\3418.jpg\n",
      "Looking for mask in: c:\\Users\\devan\\Downloads\\SAM2_Eval\\SAM2_Eval_Surgical_Datasets\\../Datasets\\CholecSeg8k\\test\\Masks\\Gastrointestinal Tract\\video20\\video20_03340\\3418.jpg\n",
      "Looking for mask in: c:\\Users\\devan\\Downloads\\SAM2_Eval\\SAM2_Eval_Surgical_Datasets\\../Datasets\\CholecSeg8k\\test\\Masks\\Grasper\\video20\\video20_03340\\3418.jpg\n",
      "Looking for mask in: c:\\Users\\devan\\Downloads\\SAM2_Eval\\SAM2_Eval_Surgical_Datasets\\../Datasets\\CholecSeg8k\\test\\Masks\\L-hook Electrocautery\\video20\\video20_03340\\3418.jpg\n",
      "Looking for mask in: c:\\Users\\devan\\Downloads\\SAM2_Eval\\SAM2_Eval_Surgical_Datasets\\../Datasets\\CholecSeg8k\\test\\Masks\\Liver\\video20\\video20_03340\\3418.jpg\n",
      "No matching mask found for frame: c:\\Users\\devan\\Downloads\\SAM2_Eval\\SAM2_Eval_Surgical_Datasets\\temp_jpg_frames\\3418.jpg\n",
      "Looking for mask in: c:\\Users\\devan\\Downloads\\SAM2_Eval\\SAM2_Eval_Surgical_Datasets\\../Datasets\\CholecSeg8k\\test\\Masks\\Abdominal Wall\\video20\\video20_03340\\3419.jpg\n",
      "Looking for mask in: c:\\Users\\devan\\Downloads\\SAM2_Eval\\SAM2_Eval_Surgical_Datasets\\../Datasets\\CholecSeg8k\\test\\Masks\\Fat\\video20\\video20_03340\\3419.jpg\n",
      "Looking for mask in: c:\\Users\\devan\\Downloads\\SAM2_Eval\\SAM2_Eval_Surgical_Datasets\\../Datasets\\CholecSeg8k\\test\\Masks\\Gall bladder\\video20\\video20_03340\\3419.jpg\n",
      "Looking for mask in: c:\\Users\\devan\\Downloads\\SAM2_Eval\\SAM2_Eval_Surgical_Datasets\\../Datasets\\CholecSeg8k\\test\\Masks\\Gastrointestinal Tract\\video20\\video20_03340\\3419.jpg\n",
      "Looking for mask in: c:\\Users\\devan\\Downloads\\SAM2_Eval\\SAM2_Eval_Surgical_Datasets\\../Datasets\\CholecSeg8k\\test\\Masks\\Grasper\\video20\\video20_03340\\3419.jpg\n",
      "Looking for mask in: c:\\Users\\devan\\Downloads\\SAM2_Eval\\SAM2_Eval_Surgical_Datasets\\../Datasets\\CholecSeg8k\\test\\Masks\\L-hook Electrocautery\\video20\\video20_03340\\3419.jpg\n",
      "Looking for mask in: c:\\Users\\devan\\Downloads\\SAM2_Eval\\SAM2_Eval_Surgical_Datasets\\../Datasets\\CholecSeg8k\\test\\Masks\\Liver\\video20\\video20_03340\\3419.jpg\n",
      "No matching mask found for frame: c:\\Users\\devan\\Downloads\\SAM2_Eval\\SAM2_Eval_Surgical_Datasets\\temp_jpg_frames\\3419.jpg\n",
      "Segmentation processing completed for the dataset.\n"
     ]
    }
   ],
   "source": [
    "# Imports\n",
    "import os\n",
    "import gc\n",
    "import cv2\n",
    "from src.sam2_eval_utils import (\n",
    "    initialize_model,\n",
    "    load_image,\n",
    "    load_mask,\n",
    "    select_point_prompt,\n",
    "    save_predicted_mask,\n",
    "    process_image\n",
    ")\n",
    "\n",
    "# Define dataset paths\n",
    "base_dir = os.getcwd()  # Use the current working directory for base_dir\n",
    "base_dataset_path = os.path.join(base_dir, '../Datasets')\n",
    "dataset_name = \"CholecSeg8k_test\"\n",
    "frames_path = os.path.join(base_dataset_path, \"CholecSeg8k\", \"test\", \"Frames\")\n",
    "masks_path = os.path.join(base_dataset_path, \"CholecSeg8k\", \"test\", \"Masks\")\n",
    "predicted_masks_path = os.path.join(base_dataset_path, \"CholecSeg8k\", \"test\", \"PredictedMasks\")\n",
    "os.makedirs(predicted_masks_path, exist_ok=True)\n",
    "\n",
    "# Set paths for the model configuration and checkpoint\n",
    "model_cfg = r\"C:\\Users\\devan\\Downloads\\SAM2_Eval\\SAM2_model_and_cfg\\sam2_hiera_l.yaml\"\n",
    "checkpoint_path = r\"C:\\Users\\devan\\Downloads\\SAM2_Eval\\SAM2_model_and_cfg\\sam2_hiera_large.pt\"\n",
    "device = \"cpu\"\n",
    "\n",
    "# Temporary directory for JPEG conversion\n",
    "temp_jpg_folder = os.path.join(base_dir, 'temp_jpg_frames')\n",
    "os.makedirs(temp_jpg_folder, exist_ok=True)\n",
    "\n",
    "# Function to convert non-JPEG images to JPEG for temporary processing\n",
    "def convert_to_jpg(image_path, temp_folder):\n",
    "    \"\"\"Convert an image to JPEG format and store in a temporary folder.\"\"\"\n",
    "    image = cv2.imread(image_path)\n",
    "    jpg_path = os.path.join(temp_folder, os.path.basename(image_path).replace('.png', '.jpg'))\n",
    "    cv2.imwrite(jpg_path, image)\n",
    "    return jpg_path\n",
    "\n",
    "# Run inference\n",
    "def run_inference():\n",
    "    # Initialize the SAM2 model\n",
    "    sam_model = initialize_model()\n",
    "    print(f\"\\nProcessing dataset: {dataset_name}\")\n",
    "    \n",
    "    # Loop through frames and masks\n",
    "    for root, _, files in os.walk(frames_path):\n",
    "        for file_name in files:\n",
    "            if file_name.endswith('.png') or file_name.endswith('.jpg'):\n",
    "                frame_path = os.path.join(root, file_name)\n",
    "                relative_path = os.path.relpath(root, frames_path)\n",
    "                predicted_mask_output_folder = os.path.join(predicted_masks_path, relative_path)\n",
    "                os.makedirs(predicted_mask_output_folder, exist_ok=True)\n",
    "                predicted_mask_path = os.path.join(predicted_mask_output_folder, file_name)\n",
    "\n",
    "                # Convert non-JPG frames to JPG in temp folder\n",
    "                if not file_name.endswith('.jpg'):\n",
    "                    frame_path = convert_to_jpg(frame_path, temp_jpg_folder)\n",
    "\n",
    "                # Check for each mask class\n",
    "                mask_found = False  # Track if any mask is found for this image\n",
    "                for class_name in os.listdir(masks_path):\n",
    "                    mask_folder_path = os.path.join(masks_path, class_name, relative_path)\n",
    "                    mask_path = os.path.join(mask_folder_path, file_name.replace('.png', '.jpg'))\n",
    "                    \n",
    "                    print(f\"Looking for mask in: {mask_path}\")\n",
    "                    \n",
    "                    # Check if the mask file exists\n",
    "                    if os.path.isfile(mask_path):\n",
    "                        print(f\"Found mask file: {mask_path}\")\n",
    "                        mask_found = True\n",
    "\n",
    "                        # Load frame and mask\n",
    "                        frame_image = load_image(frame_path)\n",
    "                        mask_image = load_mask(mask_path)\n",
    "                        if frame_image is None or mask_image is None:\n",
    "                            print(f\"Error loading frame or mask: {frame_path} or {mask_path}\")\n",
    "                            continue\n",
    "                        \n",
    "                        # Initialize SAM2 inference state and process image\n",
    "                        inference_state = sam_model.init_state(os.path.join(frames_path, relative_path))\n",
    "                        process_image(sam_model, inference_state, frame_image, mask_image, predicted_mask_path, idx=0)\n",
    "                        \n",
    "                        # Reset SAM2 model state\n",
    "                        sam_model.reset_state(inference_state)\n",
    "                        gc.collect()\n",
    "                        break  # Process only the first matching mask for each frame\n",
    "\n",
    "                if not mask_found:\n",
    "                    print(f\"No matching mask found for frame: {frame_path}\")\n",
    "                \n",
    "                # Remove the temporary JPG file after processing\n",
    "                if not file_name.endswith('.jpg'):\n",
    "                    os.remove(frame_path)\n",
    "\n",
    "    print(\"Segmentation processing completed for the dataset.\")\n",
    "    # Clean up temporary directory after all processing\n",
    "    os.rmdir(temp_jpg_folder)\n",
    "\n",
    "# Execute the inference\n",
    "run_inference()\n",
    "\n",
    "\n"
   ]
  },
  {
   "cell_type": "markdown",
   "metadata": {},
   "source": [
    "## One random point over single organ (50 samples)"
   ]
  },
  {
   "cell_type": "code",
   "execution_count": null,
   "metadata": {},
   "outputs": [
    {
     "name": "stdout",
     "output_type": "stream",
     "text": [
      "Device set to: cpu\n",
      "Colon folder path: C:\\Users\\devanish\\Downloads\\Datasets\\UnitTesting\\Colon\n",
      "Processing subfolder: 05\n",
      "Predicted masks folder created at: C:\\Users\\devanish\\Downloads\\Datasets\\UnitTesting\\Colon\\05\\PredictedMask\n",
      "\n",
      "Processing image 1: 00.png.png\n",
      "Image path: C:\\Users\\devanish\\Downloads\\Datasets\\UnitTesting\\Colon\\05\\Frames\\00.png.png\n",
      "Mask path: C:\\Users\\devanish\\Downloads\\Datasets\\UnitTesting\\Colon\\05\\Masks\\00.png.png\n",
      "Image loaded successfully.\n",
      "Mask loaded successfully.\n",
      "JPEG image successfully saved at: C:\\Users\\devanish\\Downloads\\Datasets\\UnitTesting\\Colon\\05\\JPEG_Frames_0\\00000.jpg\n",
      "Selected prompt coordinate: [ 453 1179]\n"
     ]
    },
    {
     "name": "stderr",
     "output_type": "stream",
     "text": [
      "frame loading (JPEG): 100%|██████████| 1/1 [00:00<00:00, 27.37it/s]\n"
     ]
    },
    {
     "name": "stdout",
     "output_type": "stream",
     "text": [
      "SAM2 inference state initialized.\n",
      "Points: [[1179, 453]], Labels: [1]\n",
      "Inference completed for the frame.\n",
      "Predicted mask successfully saved at: C:\\Users\\devanish\\Downloads\\Datasets\\UnitTesting\\Colon\\05\\PredictedMask\\00000.png\n",
      "SAM2 inference state and model reset.\n",
      "\n",
      "Processing image 2: 01.png.png\n",
      "Image path: C:\\Users\\devanish\\Downloads\\Datasets\\UnitTesting\\Colon\\05\\Frames\\01.png.png\n",
      "Mask path: C:\\Users\\devanish\\Downloads\\Datasets\\UnitTesting\\Colon\\05\\Masks\\01.png.png\n",
      "Image loaded successfully.\n",
      "Mask loaded successfully.\n",
      "JPEG image successfully saved at: C:\\Users\\devanish\\Downloads\\Datasets\\UnitTesting\\Colon\\05\\JPEG_Frames_1\\00001.jpg\n",
      "Selected prompt coordinate: [150 693]\n"
     ]
    },
    {
     "name": "stderr",
     "output_type": "stream",
     "text": [
      "frame loading (JPEG): 100%|██████████| 1/1 [00:00<00:00, 26.68it/s]\n"
     ]
    },
    {
     "name": "stdout",
     "output_type": "stream",
     "text": [
      "SAM2 inference state initialized.\n",
      "Points: [[693, 150]], Labels: [1]\n",
      "Inference completed for the frame.\n",
      "Predicted mask successfully saved at: C:\\Users\\devanish\\Downloads\\Datasets\\UnitTesting\\Colon\\05\\PredictedMask\\00001.png\n",
      "SAM2 inference state and model reset.\n",
      "\n",
      "Processing image 3: 02.png.png\n",
      "Image path: C:\\Users\\devanish\\Downloads\\Datasets\\UnitTesting\\Colon\\05\\Frames\\02.png.png\n",
      "Mask path: C:\\Users\\devanish\\Downloads\\Datasets\\UnitTesting\\Colon\\05\\Masks\\02.png.png\n",
      "Image loaded successfully.\n",
      "Mask loaded successfully.\n",
      "JPEG image successfully saved at: C:\\Users\\devanish\\Downloads\\Datasets\\UnitTesting\\Colon\\05\\JPEG_Frames_2\\00002.jpg\n",
      "Selected prompt coordinate: [158 330]\n"
     ]
    },
    {
     "name": "stderr",
     "output_type": "stream",
     "text": [
      "frame loading (JPEG): 100%|██████████| 1/1 [00:00<00:00, 26.20it/s]\n"
     ]
    },
    {
     "name": "stdout",
     "output_type": "stream",
     "text": [
      "SAM2 inference state initialized.\n",
      "Points: [[330, 158]], Labels: [1]\n",
      "Inference completed for the frame.\n",
      "Predicted mask successfully saved at: C:\\Users\\devanish\\Downloads\\Datasets\\UnitTesting\\Colon\\05\\PredictedMask\\00002.png\n",
      "SAM2 inference state and model reset.\n",
      "\n",
      "Processing image 4: 03.png.png\n",
      "Image path: C:\\Users\\devanish\\Downloads\\Datasets\\UnitTesting\\Colon\\05\\Frames\\03.png.png\n",
      "Mask path: C:\\Users\\devanish\\Downloads\\Datasets\\UnitTesting\\Colon\\05\\Masks\\03.png.png\n",
      "Image loaded successfully.\n",
      "Mask loaded successfully.\n",
      "JPEG image successfully saved at: C:\\Users\\devanish\\Downloads\\Datasets\\UnitTesting\\Colon\\05\\JPEG_Frames_3\\00003.jpg\n",
      "Selected prompt coordinate: [192 160]\n"
     ]
    },
    {
     "name": "stderr",
     "output_type": "stream",
     "text": [
      "frame loading (JPEG): 100%|██████████| 1/1 [00:00<00:00, 26.09it/s]\n"
     ]
    },
    {
     "name": "stdout",
     "output_type": "stream",
     "text": [
      "SAM2 inference state initialized.\n",
      "Points: [[160, 192]], Labels: [1]\n",
      "Inference completed for the frame.\n",
      "Predicted mask successfully saved at: C:\\Users\\devanish\\Downloads\\Datasets\\UnitTesting\\Colon\\05\\PredictedMask\\00003.png\n",
      "SAM2 inference state and model reset.\n",
      "\n",
      "Processing image 5: 04.png.png\n",
      "Image path: C:\\Users\\devanish\\Downloads\\Datasets\\UnitTesting\\Colon\\05\\Frames\\04.png.png\n",
      "Mask path: C:\\Users\\devanish\\Downloads\\Datasets\\UnitTesting\\Colon\\05\\Masks\\04.png.png\n",
      "Image loaded successfully.\n",
      "Mask loaded successfully.\n",
      "JPEG image successfully saved at: C:\\Users\\devanish\\Downloads\\Datasets\\UnitTesting\\Colon\\05\\JPEG_Frames_4\\00004.jpg\n",
      "Selected prompt coordinate: [217 448]\n"
     ]
    },
    {
     "name": "stderr",
     "output_type": "stream",
     "text": [
      "frame loading (JPEG): 100%|██████████| 1/1 [00:00<00:00, 26.87it/s]\n"
     ]
    },
    {
     "name": "stdout",
     "output_type": "stream",
     "text": [
      "SAM2 inference state initialized.\n",
      "Points: [[448, 217]], Labels: [1]\n",
      "Inference completed for the frame.\n",
      "Predicted mask successfully saved at: C:\\Users\\devanish\\Downloads\\Datasets\\UnitTesting\\Colon\\05\\PredictedMask\\00004.png\n",
      "SAM2 inference state and model reset.\n",
      "\n",
      "Processing image 6: 05.png.png\n",
      "Image path: C:\\Users\\devanish\\Downloads\\Datasets\\UnitTesting\\Colon\\05\\Frames\\05.png.png\n",
      "Mask path: C:\\Users\\devanish\\Downloads\\Datasets\\UnitTesting\\Colon\\05\\Masks\\05.png.png\n",
      "Image loaded successfully.\n",
      "Mask loaded successfully.\n",
      "JPEG image successfully saved at: C:\\Users\\devanish\\Downloads\\Datasets\\UnitTesting\\Colon\\05\\JPEG_Frames_5\\00005.jpg\n",
      "Selected prompt coordinate: [128 851]\n"
     ]
    },
    {
     "name": "stderr",
     "output_type": "stream",
     "text": [
      "frame loading (JPEG): 100%|██████████| 1/1 [00:00<00:00, 26.55it/s]\n"
     ]
    },
    {
     "name": "stdout",
     "output_type": "stream",
     "text": [
      "SAM2 inference state initialized.\n",
      "Points: [[851, 128]], Labels: [1]\n",
      "Inference completed for the frame.\n",
      "Predicted mask successfully saved at: C:\\Users\\devanish\\Downloads\\Datasets\\UnitTesting\\Colon\\05\\PredictedMask\\00005.png\n",
      "SAM2 inference state and model reset.\n",
      "\n",
      "Processing image 7: 06.png.png\n",
      "Image path: C:\\Users\\devanish\\Downloads\\Datasets\\UnitTesting\\Colon\\05\\Frames\\06.png.png\n",
      "Mask path: C:\\Users\\devanish\\Downloads\\Datasets\\UnitTesting\\Colon\\05\\Masks\\06.png.png\n",
      "Image loaded successfully.\n",
      "Mask loaded successfully.\n",
      "JPEG image successfully saved at: C:\\Users\\devanish\\Downloads\\Datasets\\UnitTesting\\Colon\\05\\JPEG_Frames_6\\00006.jpg\n",
      "Selected prompt coordinate: [113  38]\n"
     ]
    },
    {
     "name": "stderr",
     "output_type": "stream",
     "text": [
      "frame loading (JPEG): 100%|██████████| 1/1 [00:00<00:00, 27.98it/s]\n"
     ]
    },
    {
     "name": "stdout",
     "output_type": "stream",
     "text": [
      "SAM2 inference state initialized.\n",
      "Points: [[38, 113]], Labels: [1]\n",
      "Inference completed for the frame.\n",
      "Predicted mask successfully saved at: C:\\Users\\devanish\\Downloads\\Datasets\\UnitTesting\\Colon\\05\\PredictedMask\\00006.png\n",
      "SAM2 inference state and model reset.\n",
      "\n",
      "Processing image 8: 07.png.png\n",
      "Image path: C:\\Users\\devanish\\Downloads\\Datasets\\UnitTesting\\Colon\\05\\Frames\\07.png.png\n",
      "Mask path: C:\\Users\\devanish\\Downloads\\Datasets\\UnitTesting\\Colon\\05\\Masks\\07.png.png\n",
      "Image loaded successfully.\n",
      "Mask loaded successfully.\n",
      "JPEG image successfully saved at: C:\\Users\\devanish\\Downloads\\Datasets\\UnitTesting\\Colon\\05\\JPEG_Frames_7\\00007.jpg\n",
      "Selected prompt coordinate: [ 90 566]\n"
     ]
    },
    {
     "name": "stderr",
     "output_type": "stream",
     "text": [
      "frame loading (JPEG): 100%|██████████| 1/1 [00:00<00:00, 27.44it/s]\n"
     ]
    },
    {
     "name": "stdout",
     "output_type": "stream",
     "text": [
      "SAM2 inference state initialized.\n",
      "Points: [[566, 90]], Labels: [1]\n",
      "Inference completed for the frame.\n",
      "Predicted mask successfully saved at: C:\\Users\\devanish\\Downloads\\Datasets\\UnitTesting\\Colon\\05\\PredictedMask\\00007.png\n",
      "SAM2 inference state and model reset.\n",
      "\n",
      "Processing image 9: 08.png.png\n",
      "Image path: C:\\Users\\devanish\\Downloads\\Datasets\\UnitTesting\\Colon\\05\\Frames\\08.png.png\n",
      "Mask path: C:\\Users\\devanish\\Downloads\\Datasets\\UnitTesting\\Colon\\05\\Masks\\08.png.png\n",
      "Image loaded successfully.\n",
      "Mask loaded successfully.\n",
      "JPEG image successfully saved at: C:\\Users\\devanish\\Downloads\\Datasets\\UnitTesting\\Colon\\05\\JPEG_Frames_8\\00008.jpg\n",
      "Selected prompt coordinate: [194 364]\n"
     ]
    },
    {
     "name": "stderr",
     "output_type": "stream",
     "text": [
      "frame loading (JPEG): 100%|██████████| 1/1 [00:00<00:00, 26.89it/s]\n"
     ]
    },
    {
     "name": "stdout",
     "output_type": "stream",
     "text": [
      "SAM2 inference state initialized.\n",
      "Points: [[364, 194]], Labels: [1]\n",
      "Inference completed for the frame.\n",
      "Predicted mask successfully saved at: C:\\Users\\devanish\\Downloads\\Datasets\\UnitTesting\\Colon\\05\\PredictedMask\\00008.png\n",
      "SAM2 inference state and model reset.\n",
      "\n",
      "Processing image 10: 09.png.png\n",
      "Image path: C:\\Users\\devanish\\Downloads\\Datasets\\UnitTesting\\Colon\\05\\Frames\\09.png.png\n",
      "Mask path: C:\\Users\\devanish\\Downloads\\Datasets\\UnitTesting\\Colon\\05\\Masks\\09.png.png\n",
      "Image loaded successfully.\n",
      "Mask loaded successfully.\n",
      "JPEG image successfully saved at: C:\\Users\\devanish\\Downloads\\Datasets\\UnitTesting\\Colon\\05\\JPEG_Frames_9\\00009.jpg\n",
      "Selected prompt coordinate: [296  71]\n"
     ]
    },
    {
     "name": "stderr",
     "output_type": "stream",
     "text": [
      "frame loading (JPEG): 100%|██████████| 1/1 [00:00<00:00, 27.23it/s]\n"
     ]
    },
    {
     "name": "stdout",
     "output_type": "stream",
     "text": [
      "SAM2 inference state initialized.\n",
      "Points: [[71, 296]], Labels: [1]\n",
      "Inference completed for the frame.\n",
      "Predicted mask successfully saved at: C:\\Users\\devanish\\Downloads\\Datasets\\UnitTesting\\Colon\\05\\PredictedMask\\00009.png\n",
      "SAM2 inference state and model reset.\n",
      "\n",
      "Processing image 11: 10.png.png\n",
      "Image path: C:\\Users\\devanish\\Downloads\\Datasets\\UnitTesting\\Colon\\05\\Frames\\10.png.png\n",
      "Mask path: C:\\Users\\devanish\\Downloads\\Datasets\\UnitTesting\\Colon\\05\\Masks\\10.png.png\n",
      "Image loaded successfully.\n",
      "Mask loaded successfully.\n",
      "JPEG image successfully saved at: C:\\Users\\devanish\\Downloads\\Datasets\\UnitTesting\\Colon\\05\\JPEG_Frames_10\\00010.jpg\n",
      "Selected prompt coordinate: [812 171]\n"
     ]
    },
    {
     "name": "stderr",
     "output_type": "stream",
     "text": [
      "frame loading (JPEG): 100%|██████████| 1/1 [00:00<00:00, 26.70it/s]\n"
     ]
    },
    {
     "name": "stdout",
     "output_type": "stream",
     "text": [
      "SAM2 inference state initialized.\n",
      "Points: [[171, 812]], Labels: [1]\n",
      "Inference completed for the frame.\n",
      "Predicted mask successfully saved at: C:\\Users\\devanish\\Downloads\\Datasets\\UnitTesting\\Colon\\05\\PredictedMask\\00010.png\n",
      "SAM2 inference state and model reset.\n",
      "\n",
      "Processing image 12: 11.png.png\n",
      "Image path: C:\\Users\\devanish\\Downloads\\Datasets\\UnitTesting\\Colon\\05\\Frames\\11.png.png\n",
      "Mask path: C:\\Users\\devanish\\Downloads\\Datasets\\UnitTesting\\Colon\\05\\Masks\\11.png.png\n",
      "Image loaded successfully.\n",
      "Mask loaded successfully.\n",
      "JPEG image successfully saved at: C:\\Users\\devanish\\Downloads\\Datasets\\UnitTesting\\Colon\\05\\JPEG_Frames_11\\00011.jpg\n",
      "Selected prompt coordinate: [901 288]\n"
     ]
    },
    {
     "name": "stderr",
     "output_type": "stream",
     "text": [
      "frame loading (JPEG): 100%|██████████| 1/1 [00:00<00:00, 26.80it/s]\n"
     ]
    },
    {
     "name": "stdout",
     "output_type": "stream",
     "text": [
      "SAM2 inference state initialized.\n",
      "Points: [[288, 901]], Labels: [1]\n",
      "Inference completed for the frame.\n",
      "Predicted mask successfully saved at: C:\\Users\\devanish\\Downloads\\Datasets\\UnitTesting\\Colon\\05\\PredictedMask\\00011.png\n",
      "SAM2 inference state and model reset.\n",
      "\n",
      "Processing image 13: 12.png.png\n",
      "Image path: C:\\Users\\devanish\\Downloads\\Datasets\\UnitTesting\\Colon\\05\\Frames\\12.png.png\n",
      "Mask path: C:\\Users\\devanish\\Downloads\\Datasets\\UnitTesting\\Colon\\05\\Masks\\12.png.png\n",
      "Image loaded successfully.\n",
      "Mask loaded successfully.\n",
      "JPEG image successfully saved at: C:\\Users\\devanish\\Downloads\\Datasets\\UnitTesting\\Colon\\05\\JPEG_Frames_12\\00012.jpg\n",
      "Selected prompt coordinate: [806 512]\n"
     ]
    },
    {
     "name": "stderr",
     "output_type": "stream",
     "text": [
      "frame loading (JPEG): 100%|██████████| 1/1 [00:00<00:00, 26.68it/s]\n"
     ]
    },
    {
     "name": "stdout",
     "output_type": "stream",
     "text": [
      "SAM2 inference state initialized.\n",
      "Points: [[512, 806]], Labels: [1]\n",
      "Inference completed for the frame.\n",
      "Predicted mask successfully saved at: C:\\Users\\devanish\\Downloads\\Datasets\\UnitTesting\\Colon\\05\\PredictedMask\\00012.png\n",
      "SAM2 inference state and model reset.\n",
      "\n",
      "Processing image 14: 13.png.png\n",
      "Image path: C:\\Users\\devanish\\Downloads\\Datasets\\UnitTesting\\Colon\\05\\Frames\\13.png.png\n",
      "Mask path: C:\\Users\\devanish\\Downloads\\Datasets\\UnitTesting\\Colon\\05\\Masks\\13.png.png\n",
      "Image loaded successfully.\n",
      "Mask loaded successfully.\n",
      "JPEG image successfully saved at: C:\\Users\\devanish\\Downloads\\Datasets\\UnitTesting\\Colon\\05\\JPEG_Frames_13\\00013.jpg\n",
      "Selected prompt coordinate: [514 530]\n"
     ]
    },
    {
     "name": "stderr",
     "output_type": "stream",
     "text": [
      "frame loading (JPEG): 100%|██████████| 1/1 [00:00<00:00, 27.28it/s]\n"
     ]
    },
    {
     "name": "stdout",
     "output_type": "stream",
     "text": [
      "SAM2 inference state initialized.\n",
      "Points: [[530, 514]], Labels: [1]\n",
      "Inference completed for the frame.\n",
      "Predicted mask successfully saved at: C:\\Users\\devanish\\Downloads\\Datasets\\UnitTesting\\Colon\\05\\PredictedMask\\00013.png\n",
      "SAM2 inference state and model reset.\n",
      "\n",
      "Processing image 15: 14.png.png\n",
      "Image path: C:\\Users\\devanish\\Downloads\\Datasets\\UnitTesting\\Colon\\05\\Frames\\14.png.png\n",
      "Mask path: C:\\Users\\devanish\\Downloads\\Datasets\\UnitTesting\\Colon\\05\\Masks\\14.png.png\n",
      "Image loaded successfully.\n",
      "Mask loaded successfully.\n",
      "JPEG image successfully saved at: C:\\Users\\devanish\\Downloads\\Datasets\\UnitTesting\\Colon\\05\\JPEG_Frames_14\\00014.jpg\n",
      "Selected prompt coordinate: [771 374]\n"
     ]
    },
    {
     "name": "stderr",
     "output_type": "stream",
     "text": [
      "frame loading (JPEG): 100%|██████████| 1/1 [00:00<00:00, 26.60it/s]\n"
     ]
    },
    {
     "name": "stdout",
     "output_type": "stream",
     "text": [
      "SAM2 inference state initialized.\n",
      "Points: [[374, 771]], Labels: [1]\n",
      "Inference completed for the frame.\n",
      "Predicted mask successfully saved at: C:\\Users\\devanish\\Downloads\\Datasets\\UnitTesting\\Colon\\05\\PredictedMask\\00014.png\n",
      "SAM2 inference state and model reset.\n",
      "\n",
      "Processing image 16: 15.png.png\n",
      "Image path: C:\\Users\\devanish\\Downloads\\Datasets\\UnitTesting\\Colon\\05\\Frames\\15.png.png\n",
      "Mask path: C:\\Users\\devanish\\Downloads\\Datasets\\UnitTesting\\Colon\\05\\Masks\\15.png.png\n",
      "Image loaded successfully.\n",
      "Mask loaded successfully.\n",
      "JPEG image successfully saved at: C:\\Users\\devanish\\Downloads\\Datasets\\UnitTesting\\Colon\\05\\JPEG_Frames_15\\00015.jpg\n",
      "Selected prompt coordinate: [952 624]\n"
     ]
    },
    {
     "name": "stderr",
     "output_type": "stream",
     "text": [
      "frame loading (JPEG): 100%|██████████| 1/1 [00:00<00:00, 27.42it/s]\n"
     ]
    },
    {
     "name": "stdout",
     "output_type": "stream",
     "text": [
      "SAM2 inference state initialized.\n",
      "Points: [[624, 952]], Labels: [1]\n",
      "Inference completed for the frame.\n",
      "Predicted mask successfully saved at: C:\\Users\\devanish\\Downloads\\Datasets\\UnitTesting\\Colon\\05\\PredictedMask\\00015.png\n",
      "SAM2 inference state and model reset.\n",
      "\n",
      "Processing image 17: 16.png.png\n",
      "Image path: C:\\Users\\devanish\\Downloads\\Datasets\\UnitTesting\\Colon\\05\\Frames\\16.png.png\n",
      "Mask path: C:\\Users\\devanish\\Downloads\\Datasets\\UnitTesting\\Colon\\05\\Masks\\16.png.png\n",
      "Image loaded successfully.\n",
      "Mask loaded successfully.\n",
      "JPEG image successfully saved at: C:\\Users\\devanish\\Downloads\\Datasets\\UnitTesting\\Colon\\05\\JPEG_Frames_16\\00016.jpg\n",
      "Selected prompt coordinate: [857 415]\n"
     ]
    },
    {
     "name": "stderr",
     "output_type": "stream",
     "text": [
      "frame loading (JPEG): 100%|██████████| 1/1 [00:00<00:00, 26.91it/s]\n"
     ]
    },
    {
     "name": "stdout",
     "output_type": "stream",
     "text": [
      "SAM2 inference state initialized.\n",
      "Points: [[415, 857]], Labels: [1]\n",
      "Inference completed for the frame.\n",
      "Predicted mask successfully saved at: C:\\Users\\devanish\\Downloads\\Datasets\\UnitTesting\\Colon\\05\\PredictedMask\\00016.png\n",
      "SAM2 inference state and model reset.\n",
      "\n",
      "Processing image 18: 17.png.png\n",
      "Image path: C:\\Users\\devanish\\Downloads\\Datasets\\UnitTesting\\Colon\\05\\Frames\\17.png.png\n",
      "Mask path: C:\\Users\\devanish\\Downloads\\Datasets\\UnitTesting\\Colon\\05\\Masks\\17.png.png\n",
      "Image loaded successfully.\n",
      "Mask loaded successfully.\n",
      "JPEG image successfully saved at: C:\\Users\\devanish\\Downloads\\Datasets\\UnitTesting\\Colon\\05\\JPEG_Frames_17\\00017.jpg\n",
      "Selected prompt coordinate: [893 286]\n"
     ]
    },
    {
     "name": "stderr",
     "output_type": "stream",
     "text": [
      "frame loading (JPEG): 100%|██████████| 1/1 [00:00<00:00, 25.43it/s]\n"
     ]
    },
    {
     "name": "stdout",
     "output_type": "stream",
     "text": [
      "SAM2 inference state initialized.\n",
      "Points: [[286, 893]], Labels: [1]\n",
      "Inference completed for the frame.\n",
      "Predicted mask successfully saved at: C:\\Users\\devanish\\Downloads\\Datasets\\UnitTesting\\Colon\\05\\PredictedMask\\00017.png\n",
      "SAM2 inference state and model reset.\n",
      "\n",
      "Processing image 19: 18.png.png\n",
      "Image path: C:\\Users\\devanish\\Downloads\\Datasets\\UnitTesting\\Colon\\05\\Frames\\18.png.png\n",
      "Mask path: C:\\Users\\devanish\\Downloads\\Datasets\\UnitTesting\\Colon\\05\\Masks\\18.png.png\n",
      "Image loaded successfully.\n",
      "Mask loaded successfully.\n",
      "JPEG image successfully saved at: C:\\Users\\devanish\\Downloads\\Datasets\\UnitTesting\\Colon\\05\\JPEG_Frames_18\\00018.jpg\n",
      "Selected prompt coordinate: [815 455]\n"
     ]
    },
    {
     "name": "stderr",
     "output_type": "stream",
     "text": [
      "frame loading (JPEG): 100%|██████████| 1/1 [00:00<00:00, 25.70it/s]\n"
     ]
    },
    {
     "name": "stdout",
     "output_type": "stream",
     "text": [
      "SAM2 inference state initialized.\n",
      "Points: [[455, 815]], Labels: [1]\n",
      "Inference completed for the frame.\n",
      "Predicted mask successfully saved at: C:\\Users\\devanish\\Downloads\\Datasets\\UnitTesting\\Colon\\05\\PredictedMask\\00018.png\n",
      "SAM2 inference state and model reset.\n",
      "\n",
      "Processing image 20: 19.png.png\n",
      "Image path: C:\\Users\\devanish\\Downloads\\Datasets\\UnitTesting\\Colon\\05\\Frames\\19.png.png\n",
      "Mask path: C:\\Users\\devanish\\Downloads\\Datasets\\UnitTesting\\Colon\\05\\Masks\\19.png.png\n",
      "Image loaded successfully.\n",
      "Mask loaded successfully.\n",
      "JPEG image successfully saved at: C:\\Users\\devanish\\Downloads\\Datasets\\UnitTesting\\Colon\\05\\JPEG_Frames_19\\00019.jpg\n",
      "Selected prompt coordinate: [800 155]\n"
     ]
    },
    {
     "name": "stderr",
     "output_type": "stream",
     "text": [
      "frame loading (JPEG): 100%|██████████| 1/1 [00:00<00:00, 25.77it/s]\n"
     ]
    },
    {
     "name": "stdout",
     "output_type": "stream",
     "text": [
      "SAM2 inference state initialized.\n",
      "Points: [[155, 800]], Labels: [1]\n",
      "Inference completed for the frame.\n",
      "Predicted mask successfully saved at: C:\\Users\\devanish\\Downloads\\Datasets\\UnitTesting\\Colon\\05\\PredictedMask\\00019.png\n",
      "SAM2 inference state and model reset.\n",
      "\n",
      "Processing image 21: 20.png.png\n",
      "Image path: C:\\Users\\devanish\\Downloads\\Datasets\\UnitTesting\\Colon\\05\\Frames\\20.png.png\n",
      "Mask path: C:\\Users\\devanish\\Downloads\\Datasets\\UnitTesting\\Colon\\05\\Masks\\20.png.png\n",
      "Image loaded successfully.\n",
      "Mask loaded successfully.\n",
      "JPEG image successfully saved at: C:\\Users\\devanish\\Downloads\\Datasets\\UnitTesting\\Colon\\05\\JPEG_Frames_20\\00020.jpg\n",
      "Selected prompt coordinate: [747 226]\n"
     ]
    },
    {
     "name": "stderr",
     "output_type": "stream",
     "text": [
      "frame loading (JPEG): 100%|██████████| 1/1 [00:00<00:00, 26.37it/s]\n"
     ]
    },
    {
     "name": "stdout",
     "output_type": "stream",
     "text": [
      "SAM2 inference state initialized.\n",
      "Points: [[226, 747]], Labels: [1]\n",
      "Inference completed for the frame.\n",
      "Predicted mask successfully saved at: C:\\Users\\devanish\\Downloads\\Datasets\\UnitTesting\\Colon\\05\\PredictedMask\\00020.png\n",
      "SAM2 inference state and model reset.\n",
      "\n",
      "Processing image 22: 21.png.png\n",
      "Image path: C:\\Users\\devanish\\Downloads\\Datasets\\UnitTesting\\Colon\\05\\Frames\\21.png.png\n",
      "Mask path: C:\\Users\\devanish\\Downloads\\Datasets\\UnitTesting\\Colon\\05\\Masks\\21.png.png\n",
      "Image loaded successfully.\n",
      "Mask loaded successfully.\n",
      "JPEG image successfully saved at: C:\\Users\\devanish\\Downloads\\Datasets\\UnitTesting\\Colon\\05\\JPEG_Frames_21\\00021.jpg\n",
      "Selected prompt coordinate: [584 336]\n"
     ]
    },
    {
     "name": "stderr",
     "output_type": "stream",
     "text": [
      "frame loading (JPEG): 100%|██████████| 1/1 [00:00<00:00, 26.96it/s]\n"
     ]
    },
    {
     "name": "stdout",
     "output_type": "stream",
     "text": [
      "SAM2 inference state initialized.\n",
      "Points: [[336, 584]], Labels: [1]\n",
      "Inference completed for the frame.\n",
      "Predicted mask successfully saved at: C:\\Users\\devanish\\Downloads\\Datasets\\UnitTesting\\Colon\\05\\PredictedMask\\00021.png\n",
      "SAM2 inference state and model reset.\n",
      "\n",
      "Processing image 23: 22.png.png\n",
      "Image path: C:\\Users\\devanish\\Downloads\\Datasets\\UnitTesting\\Colon\\05\\Frames\\22.png.png\n",
      "Mask path: C:\\Users\\devanish\\Downloads\\Datasets\\UnitTesting\\Colon\\05\\Masks\\22.png.png\n",
      "Image loaded successfully.\n",
      "Mask loaded successfully.\n",
      "JPEG image successfully saved at: C:\\Users\\devanish\\Downloads\\Datasets\\UnitTesting\\Colon\\05\\JPEG_Frames_22\\00022.jpg\n",
      "Selected prompt coordinate: [667 332]\n"
     ]
    },
    {
     "name": "stderr",
     "output_type": "stream",
     "text": [
      "frame loading (JPEG): 100%|██████████| 1/1 [00:00<00:00, 23.40it/s]\n"
     ]
    },
    {
     "name": "stdout",
     "output_type": "stream",
     "text": [
      "SAM2 inference state initialized.\n",
      "Points: [[332, 667]], Labels: [1]\n",
      "Inference completed for the frame.\n",
      "Predicted mask successfully saved at: C:\\Users\\devanish\\Downloads\\Datasets\\UnitTesting\\Colon\\05\\PredictedMask\\00022.png\n",
      "SAM2 inference state and model reset.\n",
      "\n",
      "Processing image 24: 23.png.png\n",
      "Image path: C:\\Users\\devanish\\Downloads\\Datasets\\UnitTesting\\Colon\\05\\Frames\\23.png.png\n",
      "Mask path: C:\\Users\\devanish\\Downloads\\Datasets\\UnitTesting\\Colon\\05\\Masks\\23.png.png\n",
      "Image loaded successfully.\n",
      "Mask loaded successfully.\n",
      "JPEG image successfully saved at: C:\\Users\\devanish\\Downloads\\Datasets\\UnitTesting\\Colon\\05\\JPEG_Frames_23\\00023.jpg\n",
      "Selected prompt coordinate: [594 158]\n"
     ]
    },
    {
     "name": "stderr",
     "output_type": "stream",
     "text": [
      "frame loading (JPEG): 100%|██████████| 1/1 [00:00<00:00, 26.23it/s]\n"
     ]
    },
    {
     "name": "stdout",
     "output_type": "stream",
     "text": [
      "SAM2 inference state initialized.\n",
      "Points: [[158, 594]], Labels: [1]\n",
      "Inference completed for the frame.\n",
      "Predicted mask successfully saved at: C:\\Users\\devanish\\Downloads\\Datasets\\UnitTesting\\Colon\\05\\PredictedMask\\00023.png\n",
      "SAM2 inference state and model reset.\n",
      "\n",
      "Processing image 25: 24.png.png\n",
      "Image path: C:\\Users\\devanish\\Downloads\\Datasets\\UnitTesting\\Colon\\05\\Frames\\24.png.png\n",
      "Mask path: C:\\Users\\devanish\\Downloads\\Datasets\\UnitTesting\\Colon\\05\\Masks\\24.png.png\n",
      "Image loaded successfully.\n",
      "Mask loaded successfully.\n",
      "JPEG image successfully saved at: C:\\Users\\devanish\\Downloads\\Datasets\\UnitTesting\\Colon\\05\\JPEG_Frames_24\\00024.jpg\n",
      "Selected prompt coordinate: [908  17]\n"
     ]
    },
    {
     "name": "stderr",
     "output_type": "stream",
     "text": [
      "frame loading (JPEG): 100%|██████████| 1/1 [00:00<00:00, 27.15it/s]\n"
     ]
    },
    {
     "name": "stdout",
     "output_type": "stream",
     "text": [
      "SAM2 inference state initialized.\n",
      "Points: [[17, 908]], Labels: [1]\n",
      "Inference completed for the frame.\n",
      "Predicted mask successfully saved at: C:\\Users\\devanish\\Downloads\\Datasets\\UnitTesting\\Colon\\05\\PredictedMask\\00024.png\n",
      "SAM2 inference state and model reset.\n",
      "\n",
      "Processing image 26: 25.png.png\n",
      "Image path: C:\\Users\\devanish\\Downloads\\Datasets\\UnitTesting\\Colon\\05\\Frames\\25.png.png\n",
      "Mask path: C:\\Users\\devanish\\Downloads\\Datasets\\UnitTesting\\Colon\\05\\Masks\\25.png.png\n",
      "Image loaded successfully.\n",
      "Mask loaded successfully.\n",
      "JPEG image successfully saved at: C:\\Users\\devanish\\Downloads\\Datasets\\UnitTesting\\Colon\\05\\JPEG_Frames_25\\00025.jpg\n",
      "Selected prompt coordinate: [805 184]\n"
     ]
    },
    {
     "name": "stderr",
     "output_type": "stream",
     "text": [
      "frame loading (JPEG): 100%|██████████| 1/1 [00:00<00:00, 27.07it/s]\n"
     ]
    },
    {
     "name": "stdout",
     "output_type": "stream",
     "text": [
      "SAM2 inference state initialized.\n",
      "Points: [[184, 805]], Labels: [1]\n",
      "Inference completed for the frame.\n",
      "Predicted mask successfully saved at: C:\\Users\\devanish\\Downloads\\Datasets\\UnitTesting\\Colon\\05\\PredictedMask\\00025.png\n",
      "SAM2 inference state and model reset.\n",
      "\n",
      "Processing image 27: 26.png.png\n",
      "Image path: C:\\Users\\devanish\\Downloads\\Datasets\\UnitTesting\\Colon\\05\\Frames\\26.png.png\n",
      "Mask path: C:\\Users\\devanish\\Downloads\\Datasets\\UnitTesting\\Colon\\05\\Masks\\26.png.png\n",
      "Image loaded successfully.\n",
      "Mask loaded successfully.\n",
      "JPEG image successfully saved at: C:\\Users\\devanish\\Downloads\\Datasets\\UnitTesting\\Colon\\05\\JPEG_Frames_26\\00026.jpg\n",
      "Selected prompt coordinate: [742 127]\n"
     ]
    },
    {
     "name": "stderr",
     "output_type": "stream",
     "text": [
      "frame loading (JPEG): 100%|██████████| 1/1 [00:00<00:00, 26.70it/s]\n"
     ]
    },
    {
     "name": "stdout",
     "output_type": "stream",
     "text": [
      "SAM2 inference state initialized.\n",
      "Points: [[127, 742]], Labels: [1]\n",
      "Inference completed for the frame.\n",
      "Predicted mask successfully saved at: C:\\Users\\devanish\\Downloads\\Datasets\\UnitTesting\\Colon\\05\\PredictedMask\\00026.png\n",
      "SAM2 inference state and model reset.\n",
      "\n",
      "Processing image 28: 27.png.png\n",
      "Image path: C:\\Users\\devanish\\Downloads\\Datasets\\UnitTesting\\Colon\\05\\Frames\\27.png.png\n",
      "Mask path: C:\\Users\\devanish\\Downloads\\Datasets\\UnitTesting\\Colon\\05\\Masks\\27.png.png\n",
      "Image loaded successfully.\n",
      "Mask loaded successfully.\n",
      "JPEG image successfully saved at: C:\\Users\\devanish\\Downloads\\Datasets\\UnitTesting\\Colon\\05\\JPEG_Frames_27\\00027.jpg\n",
      "Selected prompt coordinate: [825 518]\n"
     ]
    },
    {
     "name": "stderr",
     "output_type": "stream",
     "text": [
      "frame loading (JPEG): 100%|██████████| 1/1 [00:00<00:00, 26.11it/s]\n"
     ]
    },
    {
     "name": "stdout",
     "output_type": "stream",
     "text": [
      "SAM2 inference state initialized.\n",
      "Points: [[518, 825]], Labels: [1]\n",
      "Inference completed for the frame.\n",
      "Predicted mask successfully saved at: C:\\Users\\devanish\\Downloads\\Datasets\\UnitTesting\\Colon\\05\\PredictedMask\\00027.png\n",
      "SAM2 inference state and model reset.\n",
      "\n",
      "Processing image 29: 28.png.png\n",
      "Image path: C:\\Users\\devanish\\Downloads\\Datasets\\UnitTesting\\Colon\\05\\Frames\\28.png.png\n",
      "Mask path: C:\\Users\\devanish\\Downloads\\Datasets\\UnitTesting\\Colon\\05\\Masks\\28.png.png\n",
      "Image loaded successfully.\n",
      "Mask loaded successfully.\n",
      "JPEG image successfully saved at: C:\\Users\\devanish\\Downloads\\Datasets\\UnitTesting\\Colon\\05\\JPEG_Frames_28\\00028.jpg\n",
      "Selected prompt coordinate: [789 846]\n"
     ]
    },
    {
     "name": "stderr",
     "output_type": "stream",
     "text": [
      "frame loading (JPEG): 100%|██████████| 1/1 [00:00<00:00, 27.84it/s]\n"
     ]
    },
    {
     "name": "stdout",
     "output_type": "stream",
     "text": [
      "SAM2 inference state initialized.\n",
      "Points: [[846, 789]], Labels: [1]\n",
      "Inference completed for the frame.\n",
      "Predicted mask successfully saved at: C:\\Users\\devanish\\Downloads\\Datasets\\UnitTesting\\Colon\\05\\PredictedMask\\00028.png\n",
      "SAM2 inference state and model reset.\n",
      "\n",
      "Processing image 30: 29.png.png\n",
      "Image path: C:\\Users\\devanish\\Downloads\\Datasets\\UnitTesting\\Colon\\05\\Frames\\29.png.png\n",
      "Mask path: C:\\Users\\devanish\\Downloads\\Datasets\\UnitTesting\\Colon\\05\\Masks\\29.png.png\n",
      "Image loaded successfully.\n",
      "Mask loaded successfully.\n",
      "JPEG image successfully saved at: C:\\Users\\devanish\\Downloads\\Datasets\\UnitTesting\\Colon\\05\\JPEG_Frames_29\\00029.jpg\n",
      "Selected prompt coordinate: [931 744]\n"
     ]
    },
    {
     "name": "stderr",
     "output_type": "stream",
     "text": [
      "frame loading (JPEG): 100%|██████████| 1/1 [00:00<00:00, 26.49it/s]\n"
     ]
    },
    {
     "name": "stdout",
     "output_type": "stream",
     "text": [
      "SAM2 inference state initialized.\n",
      "Points: [[744, 931]], Labels: [1]\n",
      "Inference completed for the frame.\n",
      "Predicted mask successfully saved at: C:\\Users\\devanish\\Downloads\\Datasets\\UnitTesting\\Colon\\05\\PredictedMask\\00029.png\n",
      "SAM2 inference state and model reset.\n",
      "\n",
      "Processing image 31: 30.png.png\n",
      "Image path: C:\\Users\\devanish\\Downloads\\Datasets\\UnitTesting\\Colon\\05\\Frames\\30.png.png\n",
      "Mask path: C:\\Users\\devanish\\Downloads\\Datasets\\UnitTesting\\Colon\\05\\Masks\\30.png.png\n",
      "Image loaded successfully.\n",
      "Mask loaded successfully.\n",
      "JPEG image successfully saved at: C:\\Users\\devanish\\Downloads\\Datasets\\UnitTesting\\Colon\\05\\JPEG_Frames_30\\00030.jpg\n",
      "Selected prompt coordinate: [509 620]\n"
     ]
    },
    {
     "name": "stderr",
     "output_type": "stream",
     "text": [
      "frame loading (JPEG): 100%|██████████| 1/1 [00:00<00:00, 26.08it/s]\n"
     ]
    },
    {
     "name": "stdout",
     "output_type": "stream",
     "text": [
      "SAM2 inference state initialized.\n",
      "Points: [[620, 509]], Labels: [1]\n",
      "Inference completed for the frame.\n",
      "Predicted mask successfully saved at: C:\\Users\\devanish\\Downloads\\Datasets\\UnitTesting\\Colon\\05\\PredictedMask\\00030.png\n",
      "SAM2 inference state and model reset.\n",
      "\n",
      "Processing image 32: 31.png.png\n",
      "Image path: C:\\Users\\devanish\\Downloads\\Datasets\\UnitTesting\\Colon\\05\\Frames\\31.png.png\n",
      "Mask path: C:\\Users\\devanish\\Downloads\\Datasets\\UnitTesting\\Colon\\05\\Masks\\31.png.png\n",
      "Image loaded successfully.\n",
      "Mask loaded successfully.\n",
      "JPEG image successfully saved at: C:\\Users\\devanish\\Downloads\\Datasets\\UnitTesting\\Colon\\05\\JPEG_Frames_31\\00031.jpg\n",
      "Selected prompt coordinate: [733 103]\n"
     ]
    },
    {
     "name": "stderr",
     "output_type": "stream",
     "text": [
      "frame loading (JPEG): 100%|██████████| 1/1 [00:00<00:00, 26.48it/s]\n"
     ]
    },
    {
     "name": "stdout",
     "output_type": "stream",
     "text": [
      "SAM2 inference state initialized.\n",
      "Points: [[103, 733]], Labels: [1]\n",
      "Inference completed for the frame.\n",
      "Predicted mask successfully saved at: C:\\Users\\devanish\\Downloads\\Datasets\\UnitTesting\\Colon\\05\\PredictedMask\\00031.png\n",
      "SAM2 inference state and model reset.\n",
      "\n",
      "Processing image 33: 32.png.png\n",
      "Image path: C:\\Users\\devanish\\Downloads\\Datasets\\UnitTesting\\Colon\\05\\Frames\\32.png.png\n",
      "Mask path: C:\\Users\\devanish\\Downloads\\Datasets\\UnitTesting\\Colon\\05\\Masks\\32.png.png\n",
      "Image loaded successfully.\n",
      "Mask loaded successfully.\n",
      "JPEG image successfully saved at: C:\\Users\\devanish\\Downloads\\Datasets\\UnitTesting\\Colon\\05\\JPEG_Frames_32\\00032.jpg\n",
      "Selected prompt coordinate: [771 391]\n"
     ]
    },
    {
     "name": "stderr",
     "output_type": "stream",
     "text": [
      "frame loading (JPEG): 100%|██████████| 1/1 [00:00<00:00, 28.08it/s]\n"
     ]
    },
    {
     "name": "stdout",
     "output_type": "stream",
     "text": [
      "SAM2 inference state initialized.\n",
      "Points: [[391, 771]], Labels: [1]\n",
      "Inference completed for the frame.\n",
      "Predicted mask successfully saved at: C:\\Users\\devanish\\Downloads\\Datasets\\UnitTesting\\Colon\\05\\PredictedMask\\00032.png\n",
      "SAM2 inference state and model reset.\n",
      "\n",
      "Processing image 34: 33.png.png\n",
      "Image path: C:\\Users\\devanish\\Downloads\\Datasets\\UnitTesting\\Colon\\05\\Frames\\33.png.png\n",
      "Mask path: C:\\Users\\devanish\\Downloads\\Datasets\\UnitTesting\\Colon\\05\\Masks\\33.png.png\n",
      "Image loaded successfully.\n",
      "Mask loaded successfully.\n",
      "JPEG image successfully saved at: C:\\Users\\devanish\\Downloads\\Datasets\\UnitTesting\\Colon\\05\\JPEG_Frames_33\\00033.jpg\n",
      "Selected prompt coordinate: [ 643 1045]\n"
     ]
    },
    {
     "name": "stderr",
     "output_type": "stream",
     "text": [
      "frame loading (JPEG): 100%|██████████| 1/1 [00:00<00:00, 26.15it/s]\n"
     ]
    },
    {
     "name": "stdout",
     "output_type": "stream",
     "text": [
      "SAM2 inference state initialized.\n",
      "Points: [[1045, 643]], Labels: [1]\n",
      "Inference completed for the frame.\n",
      "Predicted mask successfully saved at: C:\\Users\\devanish\\Downloads\\Datasets\\UnitTesting\\Colon\\05\\PredictedMask\\00033.png\n",
      "SAM2 inference state and model reset.\n",
      "\n",
      "Processing image 35: 34.png.png\n",
      "Image path: C:\\Users\\devanish\\Downloads\\Datasets\\UnitTesting\\Colon\\05\\Frames\\34.png.png\n",
      "Mask path: C:\\Users\\devanish\\Downloads\\Datasets\\UnitTesting\\Colon\\05\\Masks\\34.png.png\n",
      "Image loaded successfully.\n",
      "Mask loaded successfully.\n",
      "JPEG image successfully saved at: C:\\Users\\devanish\\Downloads\\Datasets\\UnitTesting\\Colon\\05\\JPEG_Frames_34\\00034.jpg\n",
      "Selected prompt coordinate: [ 806 1201]\n"
     ]
    },
    {
     "name": "stderr",
     "output_type": "stream",
     "text": [
      "frame loading (JPEG): 100%|██████████| 1/1 [00:00<00:00, 27.21it/s]\n"
     ]
    },
    {
     "name": "stdout",
     "output_type": "stream",
     "text": [
      "SAM2 inference state initialized.\n",
      "Points: [[1201, 806]], Labels: [1]\n",
      "Inference completed for the frame.\n",
      "Predicted mask successfully saved at: C:\\Users\\devanish\\Downloads\\Datasets\\UnitTesting\\Colon\\05\\PredictedMask\\00034.png\n",
      "SAM2 inference state and model reset.\n",
      "\n",
      "Processing image 36: 35.png.png\n",
      "Image path: C:\\Users\\devanish\\Downloads\\Datasets\\UnitTesting\\Colon\\05\\Frames\\35.png.png\n",
      "Mask path: C:\\Users\\devanish\\Downloads\\Datasets\\UnitTesting\\Colon\\05\\Masks\\35.png.png\n",
      "Image loaded successfully.\n",
      "Mask loaded successfully.\n",
      "JPEG image successfully saved at: C:\\Users\\devanish\\Downloads\\Datasets\\UnitTesting\\Colon\\05\\JPEG_Frames_35\\00035.jpg\n",
      "Selected prompt coordinate: [734 441]\n"
     ]
    },
    {
     "name": "stderr",
     "output_type": "stream",
     "text": [
      "frame loading (JPEG): 100%|██████████| 1/1 [00:00<00:00, 25.49it/s]\n"
     ]
    },
    {
     "name": "stdout",
     "output_type": "stream",
     "text": [
      "SAM2 inference state initialized.\n",
      "Points: [[441, 734]], Labels: [1]\n",
      "Inference completed for the frame.\n",
      "Predicted mask successfully saved at: C:\\Users\\devanish\\Downloads\\Datasets\\UnitTesting\\Colon\\05\\PredictedMask\\00035.png\n",
      "SAM2 inference state and model reset.\n",
      "\n",
      "Processing image 37: 36.png.png\n",
      "Image path: C:\\Users\\devanish\\Downloads\\Datasets\\UnitTesting\\Colon\\05\\Frames\\36.png.png\n",
      "Mask path: C:\\Users\\devanish\\Downloads\\Datasets\\UnitTesting\\Colon\\05\\Masks\\36.png.png\n",
      "Image loaded successfully.\n",
      "Mask loaded successfully.\n",
      "JPEG image successfully saved at: C:\\Users\\devanish\\Downloads\\Datasets\\UnitTesting\\Colon\\05\\JPEG_Frames_36\\00036.jpg\n",
      "Selected prompt coordinate: [834 808]\n"
     ]
    },
    {
     "name": "stderr",
     "output_type": "stream",
     "text": [
      "frame loading (JPEG): 100%|██████████| 1/1 [00:00<00:00, 12.12it/s]\n"
     ]
    },
    {
     "name": "stdout",
     "output_type": "stream",
     "text": [
      "SAM2 inference state initialized.\n",
      "Points: [[808, 834]], Labels: [1]\n",
      "Inference completed for the frame.\n",
      "Predicted mask successfully saved at: C:\\Users\\devanish\\Downloads\\Datasets\\UnitTesting\\Colon\\05\\PredictedMask\\00036.png\n",
      "SAM2 inference state and model reset.\n",
      "\n",
      "Processing image 38: 37.png.png\n",
      "Image path: C:\\Users\\devanish\\Downloads\\Datasets\\UnitTesting\\Colon\\05\\Frames\\37.png.png\n",
      "Mask path: C:\\Users\\devanish\\Downloads\\Datasets\\UnitTesting\\Colon\\05\\Masks\\37.png.png\n",
      "Image loaded successfully.\n",
      "Mask loaded successfully.\n",
      "JPEG image successfully saved at: C:\\Users\\devanish\\Downloads\\Datasets\\UnitTesting\\Colon\\05\\JPEG_Frames_37\\00037.jpg\n",
      "Selected prompt coordinate: [818 932]\n"
     ]
    },
    {
     "name": "stderr",
     "output_type": "stream",
     "text": [
      "frame loading (JPEG): 100%|██████████| 1/1 [00:00<00:00, 26.13it/s]\n"
     ]
    },
    {
     "name": "stdout",
     "output_type": "stream",
     "text": [
      "SAM2 inference state initialized.\n",
      "Points: [[932, 818]], Labels: [1]\n",
      "Inference completed for the frame.\n",
      "Predicted mask successfully saved at: C:\\Users\\devanish\\Downloads\\Datasets\\UnitTesting\\Colon\\05\\PredictedMask\\00037.png\n",
      "SAM2 inference state and model reset.\n",
      "\n",
      "Processing image 39: 38.png.png\n",
      "Image path: C:\\Users\\devanish\\Downloads\\Datasets\\UnitTesting\\Colon\\05\\Frames\\38.png.png\n",
      "Mask path: C:\\Users\\devanish\\Downloads\\Datasets\\UnitTesting\\Colon\\05\\Masks\\38.png.png\n",
      "Image loaded successfully.\n",
      "Mask loaded successfully.\n",
      "JPEG image successfully saved at: C:\\Users\\devanish\\Downloads\\Datasets\\UnitTesting\\Colon\\05\\JPEG_Frames_38\\00038.jpg\n",
      "Selected prompt coordinate: [489 490]\n"
     ]
    },
    {
     "name": "stderr",
     "output_type": "stream",
     "text": [
      "frame loading (JPEG): 100%|██████████| 1/1 [00:00<00:00, 27.11it/s]\n"
     ]
    },
    {
     "name": "stdout",
     "output_type": "stream",
     "text": [
      "SAM2 inference state initialized.\n",
      "Points: [[490, 489]], Labels: [1]\n",
      "Inference completed for the frame.\n",
      "Predicted mask successfully saved at: C:\\Users\\devanish\\Downloads\\Datasets\\UnitTesting\\Colon\\05\\PredictedMask\\00038.png\n",
      "SAM2 inference state and model reset.\n",
      "\n",
      "Processing image 40: 39.png.png\n",
      "Image path: C:\\Users\\devanish\\Downloads\\Datasets\\UnitTesting\\Colon\\05\\Frames\\39.png.png\n",
      "Mask path: C:\\Users\\devanish\\Downloads\\Datasets\\UnitTesting\\Colon\\05\\Masks\\39.png.png\n",
      "Image loaded successfully.\n",
      "Mask loaded successfully.\n",
      "JPEG image successfully saved at: C:\\Users\\devanish\\Downloads\\Datasets\\UnitTesting\\Colon\\05\\JPEG_Frames_39\\00039.jpg\n",
      "Selected prompt coordinate: [827 426]\n"
     ]
    },
    {
     "name": "stderr",
     "output_type": "stream",
     "text": [
      "frame loading (JPEG): 100%|██████████| 1/1 [00:00<00:00, 23.02it/s]\n"
     ]
    },
    {
     "name": "stdout",
     "output_type": "stream",
     "text": [
      "SAM2 inference state initialized.\n",
      "Points: [[426, 827]], Labels: [1]\n",
      "Inference completed for the frame.\n",
      "Predicted mask successfully saved at: C:\\Users\\devanish\\Downloads\\Datasets\\UnitTesting\\Colon\\05\\PredictedMask\\00039.png\n",
      "SAM2 inference state and model reset.\n",
      "\n",
      "Processing image 41: 40.png.png\n",
      "Image path: C:\\Users\\devanish\\Downloads\\Datasets\\UnitTesting\\Colon\\05\\Frames\\40.png.png\n",
      "Mask path: C:\\Users\\devanish\\Downloads\\Datasets\\UnitTesting\\Colon\\05\\Masks\\40.png.png\n",
      "Image loaded successfully.\n",
      "Mask loaded successfully.\n",
      "JPEG image successfully saved at: C:\\Users\\devanish\\Downloads\\Datasets\\UnitTesting\\Colon\\05\\JPEG_Frames_40\\00040.jpg\n",
      "Selected prompt coordinate: [735 213]\n"
     ]
    },
    {
     "name": "stderr",
     "output_type": "stream",
     "text": [
      "frame loading (JPEG): 100%|██████████| 1/1 [00:00<00:00, 23.40it/s]\n"
     ]
    },
    {
     "name": "stdout",
     "output_type": "stream",
     "text": [
      "SAM2 inference state initialized.\n",
      "Points: [[213, 735]], Labels: [1]\n",
      "Inference completed for the frame.\n",
      "Predicted mask successfully saved at: C:\\Users\\devanish\\Downloads\\Datasets\\UnitTesting\\Colon\\05\\PredictedMask\\00040.png\n",
      "SAM2 inference state and model reset.\n",
      "\n",
      "Processing image 42: 41.png.png\n",
      "Image path: C:\\Users\\devanish\\Downloads\\Datasets\\UnitTesting\\Colon\\05\\Frames\\41.png.png\n",
      "Mask path: C:\\Users\\devanish\\Downloads\\Datasets\\UnitTesting\\Colon\\05\\Masks\\41.png.png\n",
      "Image loaded successfully.\n",
      "Mask loaded successfully.\n",
      "JPEG image successfully saved at: C:\\Users\\devanish\\Downloads\\Datasets\\UnitTesting\\Colon\\05\\JPEG_Frames_41\\00041.jpg\n",
      "Selected prompt coordinate: [419 320]\n"
     ]
    },
    {
     "name": "stderr",
     "output_type": "stream",
     "text": [
      "frame loading (JPEG): 100%|██████████| 1/1 [00:00<00:00, 26.70it/s]\n"
     ]
    },
    {
     "name": "stdout",
     "output_type": "stream",
     "text": [
      "SAM2 inference state initialized.\n",
      "Points: [[320, 419]], Labels: [1]\n",
      "Inference completed for the frame.\n",
      "Predicted mask successfully saved at: C:\\Users\\devanish\\Downloads\\Datasets\\UnitTesting\\Colon\\05\\PredictedMask\\00041.png\n",
      "SAM2 inference state and model reset.\n",
      "\n",
      "Processing image 43: 42.png.png\n",
      "Image path: C:\\Users\\devanish\\Downloads\\Datasets\\UnitTesting\\Colon\\05\\Frames\\42.png.png\n",
      "Mask path: C:\\Users\\devanish\\Downloads\\Datasets\\UnitTesting\\Colon\\05\\Masks\\42.png.png\n",
      "Image loaded successfully.\n",
      "Mask loaded successfully.\n",
      "JPEG image successfully saved at: C:\\Users\\devanish\\Downloads\\Datasets\\UnitTesting\\Colon\\05\\JPEG_Frames_42\\00042.jpg\n",
      "Selected prompt coordinate: [692 424]\n"
     ]
    },
    {
     "name": "stderr",
     "output_type": "stream",
     "text": [
      "frame loading (JPEG): 100%|██████████| 1/1 [00:00<00:00, 26.17it/s]\n"
     ]
    },
    {
     "name": "stdout",
     "output_type": "stream",
     "text": [
      "SAM2 inference state initialized.\n",
      "Points: [[424, 692]], Labels: [1]\n",
      "Inference completed for the frame.\n",
      "Predicted mask successfully saved at: C:\\Users\\devanish\\Downloads\\Datasets\\UnitTesting\\Colon\\05\\PredictedMask\\00042.png\n",
      "SAM2 inference state and model reset.\n",
      "\n",
      "Processing image 44: 43.png.png\n",
      "Image path: C:\\Users\\devanish\\Downloads\\Datasets\\UnitTesting\\Colon\\05\\Frames\\43.png.png\n",
      "Mask path: C:\\Users\\devanish\\Downloads\\Datasets\\UnitTesting\\Colon\\05\\Masks\\43.png.png\n",
      "Image loaded successfully.\n",
      "Mask loaded successfully.\n",
      "JPEG image successfully saved at: C:\\Users\\devanish\\Downloads\\Datasets\\UnitTesting\\Colon\\05\\JPEG_Frames_43\\00043.jpg\n",
      "Selected prompt coordinate: [438 456]\n"
     ]
    },
    {
     "name": "stderr",
     "output_type": "stream",
     "text": [
      "frame loading (JPEG): 100%|██████████| 1/1 [00:00<00:00, 25.83it/s]\n"
     ]
    },
    {
     "name": "stdout",
     "output_type": "stream",
     "text": [
      "SAM2 inference state initialized.\n",
      "Points: [[456, 438]], Labels: [1]\n",
      "Inference completed for the frame.\n",
      "Predicted mask successfully saved at: C:\\Users\\devanish\\Downloads\\Datasets\\UnitTesting\\Colon\\05\\PredictedMask\\00043.png\n",
      "SAM2 inference state and model reset.\n",
      "\n",
      "Processing image 45: 44.png.png\n",
      "Image path: C:\\Users\\devanish\\Downloads\\Datasets\\UnitTesting\\Colon\\05\\Frames\\44.png.png\n",
      "Mask path: C:\\Users\\devanish\\Downloads\\Datasets\\UnitTesting\\Colon\\05\\Masks\\44.png.png\n",
      "Image loaded successfully.\n",
      "Mask loaded successfully.\n",
      "JPEG image successfully saved at: C:\\Users\\devanish\\Downloads\\Datasets\\UnitTesting\\Colon\\05\\JPEG_Frames_44\\00044.jpg\n",
      "Selected prompt coordinate: [857  54]\n"
     ]
    },
    {
     "name": "stderr",
     "output_type": "stream",
     "text": [
      "frame loading (JPEG): 100%|██████████| 1/1 [00:00<00:00, 26.83it/s]\n"
     ]
    },
    {
     "name": "stdout",
     "output_type": "stream",
     "text": [
      "SAM2 inference state initialized.\n",
      "Points: [[54, 857]], Labels: [1]\n",
      "Inference completed for the frame.\n",
      "Predicted mask successfully saved at: C:\\Users\\devanish\\Downloads\\Datasets\\UnitTesting\\Colon\\05\\PredictedMask\\00044.png\n",
      "SAM2 inference state and model reset.\n",
      "\n",
      "Processing image 46: 45.png.png\n",
      "Image path: C:\\Users\\devanish\\Downloads\\Datasets\\UnitTesting\\Colon\\05\\Frames\\45.png.png\n",
      "Mask path: C:\\Users\\devanish\\Downloads\\Datasets\\UnitTesting\\Colon\\05\\Masks\\45.png.png\n",
      "Image loaded successfully.\n",
      "Mask loaded successfully.\n",
      "JPEG image successfully saved at: C:\\Users\\devanish\\Downloads\\Datasets\\UnitTesting\\Colon\\05\\JPEG_Frames_45\\00045.jpg\n",
      "Selected prompt coordinate: [396 350]\n"
     ]
    },
    {
     "name": "stderr",
     "output_type": "stream",
     "text": [
      "frame loading (JPEG): 100%|██████████| 1/1 [00:00<00:00, 27.20it/s]\n"
     ]
    },
    {
     "name": "stdout",
     "output_type": "stream",
     "text": [
      "SAM2 inference state initialized.\n",
      "Points: [[350, 396]], Labels: [1]\n",
      "Inference completed for the frame.\n",
      "Predicted mask successfully saved at: C:\\Users\\devanish\\Downloads\\Datasets\\UnitTesting\\Colon\\05\\PredictedMask\\00045.png\n",
      "SAM2 inference state and model reset.\n",
      "\n",
      "Processing image 47: 46.png.png\n",
      "Image path: C:\\Users\\devanish\\Downloads\\Datasets\\UnitTesting\\Colon\\05\\Frames\\46.png.png\n",
      "Mask path: C:\\Users\\devanish\\Downloads\\Datasets\\UnitTesting\\Colon\\05\\Masks\\46.png.png\n",
      "Image loaded successfully.\n",
      "Mask loaded successfully.\n",
      "JPEG image successfully saved at: C:\\Users\\devanish\\Downloads\\Datasets\\UnitTesting\\Colon\\05\\JPEG_Frames_46\\00046.jpg\n",
      "Selected prompt coordinate: [556  26]\n"
     ]
    },
    {
     "name": "stderr",
     "output_type": "stream",
     "text": [
      "frame loading (JPEG): 100%|██████████| 1/1 [00:00<00:00, 25.16it/s]\n"
     ]
    },
    {
     "name": "stdout",
     "output_type": "stream",
     "text": [
      "SAM2 inference state initialized.\n",
      "Points: [[26, 556]], Labels: [1]\n",
      "Inference completed for the frame.\n",
      "Predicted mask successfully saved at: C:\\Users\\devanish\\Downloads\\Datasets\\UnitTesting\\Colon\\05\\PredictedMask\\00046.png\n",
      "SAM2 inference state and model reset.\n",
      "\n",
      "Processing image 48: 47.png.png\n",
      "Image path: C:\\Users\\devanish\\Downloads\\Datasets\\UnitTesting\\Colon\\05\\Frames\\47.png.png\n",
      "Mask path: C:\\Users\\devanish\\Downloads\\Datasets\\UnitTesting\\Colon\\05\\Masks\\47.png.png\n",
      "Image loaded successfully.\n",
      "Mask loaded successfully.\n",
      "JPEG image successfully saved at: C:\\Users\\devanish\\Downloads\\Datasets\\UnitTesting\\Colon\\05\\JPEG_Frames_47\\00047.jpg\n",
      "Selected prompt coordinate: [228 468]\n"
     ]
    },
    {
     "name": "stderr",
     "output_type": "stream",
     "text": [
      "frame loading (JPEG): 100%|██████████| 1/1 [00:00<00:00, 26.53it/s]\n"
     ]
    },
    {
     "name": "stdout",
     "output_type": "stream",
     "text": [
      "SAM2 inference state initialized.\n",
      "Points: [[468, 228]], Labels: [1]\n",
      "Inference completed for the frame.\n",
      "Predicted mask successfully saved at: C:\\Users\\devanish\\Downloads\\Datasets\\UnitTesting\\Colon\\05\\PredictedMask\\00047.png\n",
      "SAM2 inference state and model reset.\n",
      "\n",
      "Processing image 49: 48.png.png\n",
      "Image path: C:\\Users\\devanish\\Downloads\\Datasets\\UnitTesting\\Colon\\05\\Frames\\48.png.png\n",
      "Mask path: C:\\Users\\devanish\\Downloads\\Datasets\\UnitTesting\\Colon\\05\\Masks\\48.png.png\n",
      "Image loaded successfully.\n",
      "Mask loaded successfully.\n",
      "JPEG image successfully saved at: C:\\Users\\devanish\\Downloads\\Datasets\\UnitTesting\\Colon\\05\\JPEG_Frames_48\\00048.jpg\n",
      "Selected prompt coordinate: [432 500]\n"
     ]
    },
    {
     "name": "stderr",
     "output_type": "stream",
     "text": [
      "frame loading (JPEG): 100%|██████████| 1/1 [00:00<00:00, 26.90it/s]\n"
     ]
    },
    {
     "name": "stdout",
     "output_type": "stream",
     "text": [
      "SAM2 inference state initialized.\n",
      "Points: [[500, 432]], Labels: [1]\n",
      "Inference completed for the frame.\n",
      "Predicted mask successfully saved at: C:\\Users\\devanish\\Downloads\\Datasets\\UnitTesting\\Colon\\05\\PredictedMask\\00048.png\n",
      "SAM2 inference state and model reset.\n",
      "\n",
      "Processing image 50: 49.png.png\n",
      "Image path: C:\\Users\\devanish\\Downloads\\Datasets\\UnitTesting\\Colon\\05\\Frames\\49.png.png\n",
      "Mask path: C:\\Users\\devanish\\Downloads\\Datasets\\UnitTesting\\Colon\\05\\Masks\\49.png.png\n",
      "Image loaded successfully.\n",
      "Mask loaded successfully.\n",
      "JPEG image successfully saved at: C:\\Users\\devanish\\Downloads\\Datasets\\UnitTesting\\Colon\\05\\JPEG_Frames_49\\00049.jpg\n",
      "Selected prompt coordinate: [625 352]\n"
     ]
    },
    {
     "name": "stderr",
     "output_type": "stream",
     "text": [
      "frame loading (JPEG): 100%|██████████| 1/1 [00:00<00:00, 25.82it/s]\n"
     ]
    },
    {
     "name": "stdout",
     "output_type": "stream",
     "text": [
      "SAM2 inference state initialized.\n",
      "Points: [[352, 625]], Labels: [1]\n",
      "Inference completed for the frame.\n",
      "Predicted mask successfully saved at: C:\\Users\\devanish\\Downloads\\Datasets\\UnitTesting\\Colon\\05\\PredictedMask\\00049.png\n",
      "SAM2 inference state and model reset.\n",
      "\n",
      "Processing image 51: 50.png.png\n",
      "Image path: C:\\Users\\devanish\\Downloads\\Datasets\\UnitTesting\\Colon\\05\\Frames\\50.png.png\n",
      "Mask path: C:\\Users\\devanish\\Downloads\\Datasets\\UnitTesting\\Colon\\05\\Masks\\50.png.png\n",
      "Image loaded successfully.\n",
      "Mask loaded successfully.\n",
      "JPEG image successfully saved at: C:\\Users\\devanish\\Downloads\\Datasets\\UnitTesting\\Colon\\05\\JPEG_Frames_50\\00050.jpg\n",
      "Selected prompt coordinate: [463 713]\n"
     ]
    },
    {
     "name": "stderr",
     "output_type": "stream",
     "text": [
      "frame loading (JPEG): 100%|██████████| 1/1 [00:00<00:00, 27.00it/s]\n"
     ]
    },
    {
     "name": "stdout",
     "output_type": "stream",
     "text": [
      "SAM2 inference state initialized.\n",
      "Points: [[713, 463]], Labels: [1]\n",
      "Inference completed for the frame.\n",
      "Predicted mask successfully saved at: C:\\Users\\devanish\\Downloads\\Datasets\\UnitTesting\\Colon\\05\\PredictedMask\\00050.png\n",
      "SAM2 inference state and model reset.\n",
      "\n",
      "Processing image 52: 51.png.png\n",
      "Image path: C:\\Users\\devanish\\Downloads\\Datasets\\UnitTesting\\Colon\\05\\Frames\\51.png.png\n",
      "Mask path: C:\\Users\\devanish\\Downloads\\Datasets\\UnitTesting\\Colon\\05\\Masks\\51.png.png\n",
      "Image loaded successfully.\n",
      "Mask loaded successfully.\n",
      "JPEG image successfully saved at: C:\\Users\\devanish\\Downloads\\Datasets\\UnitTesting\\Colon\\05\\JPEG_Frames_51\\00051.jpg\n",
      "Selected prompt coordinate: [173  57]\n"
     ]
    },
    {
     "name": "stderr",
     "output_type": "stream",
     "text": [
      "frame loading (JPEG): 100%|██████████| 1/1 [00:00<00:00, 25.22it/s]\n"
     ]
    },
    {
     "name": "stdout",
     "output_type": "stream",
     "text": [
      "SAM2 inference state initialized.\n",
      "Points: [[57, 173]], Labels: [1]\n",
      "Inference completed for the frame.\n",
      "Predicted mask successfully saved at: C:\\Users\\devanish\\Downloads\\Datasets\\UnitTesting\\Colon\\05\\PredictedMask\\00051.png\n",
      "SAM2 inference state and model reset.\n",
      "\n",
      "Processing image 53: 52.png.png\n",
      "Image path: C:\\Users\\devanish\\Downloads\\Datasets\\UnitTesting\\Colon\\05\\Frames\\52.png.png\n",
      "Mask path: C:\\Users\\devanish\\Downloads\\Datasets\\UnitTesting\\Colon\\05\\Masks\\52.png.png\n",
      "Image loaded successfully.\n",
      "Mask loaded successfully.\n",
      "JPEG image successfully saved at: C:\\Users\\devanish\\Downloads\\Datasets\\UnitTesting\\Colon\\05\\JPEG_Frames_52\\00052.jpg\n",
      "Selected prompt coordinate: [576 705]\n"
     ]
    },
    {
     "name": "stderr",
     "output_type": "stream",
     "text": [
      "frame loading (JPEG): 100%|██████████| 1/1 [00:00<00:00, 26.51it/s]\n"
     ]
    },
    {
     "name": "stdout",
     "output_type": "stream",
     "text": [
      "SAM2 inference state initialized.\n",
      "Points: [[705, 576]], Labels: [1]\n",
      "Inference completed for the frame.\n",
      "Predicted mask successfully saved at: C:\\Users\\devanish\\Downloads\\Datasets\\UnitTesting\\Colon\\05\\PredictedMask\\00052.png\n",
      "SAM2 inference state and model reset.\n",
      "\n",
      "Processing image 54: 53.png.png\n",
      "Image path: C:\\Users\\devanish\\Downloads\\Datasets\\UnitTesting\\Colon\\05\\Frames\\53.png.png\n",
      "Mask path: C:\\Users\\devanish\\Downloads\\Datasets\\UnitTesting\\Colon\\05\\Masks\\53.png.png\n",
      "Image loaded successfully.\n",
      "Mask loaded successfully.\n",
      "JPEG image successfully saved at: C:\\Users\\devanish\\Downloads\\Datasets\\UnitTesting\\Colon\\05\\JPEG_Frames_53\\00053.jpg\n",
      "Selected prompt coordinate: [627 548]\n"
     ]
    },
    {
     "name": "stderr",
     "output_type": "stream",
     "text": [
      "frame loading (JPEG): 100%|██████████| 1/1 [00:00<00:00, 26.36it/s]\n"
     ]
    },
    {
     "name": "stdout",
     "output_type": "stream",
     "text": [
      "SAM2 inference state initialized.\n",
      "Points: [[548, 627]], Labels: [1]\n",
      "Inference completed for the frame.\n",
      "Predicted mask successfully saved at: C:\\Users\\devanish\\Downloads\\Datasets\\UnitTesting\\Colon\\05\\PredictedMask\\00053.png\n",
      "SAM2 inference state and model reset.\n",
      "\n",
      "Processing image 55: 54.png.png\n",
      "Image path: C:\\Users\\devanish\\Downloads\\Datasets\\UnitTesting\\Colon\\05\\Frames\\54.png.png\n",
      "Mask path: C:\\Users\\devanish\\Downloads\\Datasets\\UnitTesting\\Colon\\05\\Masks\\54.png.png\n",
      "Image loaded successfully.\n",
      "Mask loaded successfully.\n",
      "JPEG image successfully saved at: C:\\Users\\devanish\\Downloads\\Datasets\\UnitTesting\\Colon\\05\\JPEG_Frames_54\\00054.jpg\n",
      "Selected prompt coordinate: [426 210]\n"
     ]
    },
    {
     "name": "stderr",
     "output_type": "stream",
     "text": [
      "frame loading (JPEG): 100%|██████████| 1/1 [00:00<00:00, 26.25it/s]\n"
     ]
    },
    {
     "name": "stdout",
     "output_type": "stream",
     "text": [
      "SAM2 inference state initialized.\n",
      "Points: [[210, 426]], Labels: [1]\n",
      "Inference completed for the frame.\n",
      "Predicted mask successfully saved at: C:\\Users\\devanish\\Downloads\\Datasets\\UnitTesting\\Colon\\05\\PredictedMask\\00054.png\n",
      "SAM2 inference state and model reset.\n",
      "\n",
      "Processing image 56: 55.png.png\n",
      "Image path: C:\\Users\\devanish\\Downloads\\Datasets\\UnitTesting\\Colon\\05\\Frames\\55.png.png\n",
      "Mask path: C:\\Users\\devanish\\Downloads\\Datasets\\UnitTesting\\Colon\\05\\Masks\\55.png.png\n",
      "Image loaded successfully.\n",
      "Mask loaded successfully.\n",
      "JPEG image successfully saved at: C:\\Users\\devanish\\Downloads\\Datasets\\UnitTesting\\Colon\\05\\JPEG_Frames_55\\00055.jpg\n",
      "Selected prompt coordinate: [675 235]\n"
     ]
    },
    {
     "name": "stderr",
     "output_type": "stream",
     "text": [
      "frame loading (JPEG): 100%|██████████| 1/1 [00:00<00:00, 13.76it/s]\n"
     ]
    },
    {
     "name": "stdout",
     "output_type": "stream",
     "text": [
      "SAM2 inference state initialized.\n",
      "Points: [[235, 675]], Labels: [1]\n",
      "Inference completed for the frame.\n",
      "Predicted mask successfully saved at: C:\\Users\\devanish\\Downloads\\Datasets\\UnitTesting\\Colon\\05\\PredictedMask\\00055.png\n",
      "SAM2 inference state and model reset.\n",
      "\n",
      "Processing image 57: 56.png.png\n",
      "Image path: C:\\Users\\devanish\\Downloads\\Datasets\\UnitTesting\\Colon\\05\\Frames\\56.png.png\n",
      "Mask path: C:\\Users\\devanish\\Downloads\\Datasets\\UnitTesting\\Colon\\05\\Masks\\56.png.png\n",
      "Image loaded successfully.\n",
      "Mask loaded successfully.\n",
      "JPEG image successfully saved at: C:\\Users\\devanish\\Downloads\\Datasets\\UnitTesting\\Colon\\05\\JPEG_Frames_56\\00056.jpg\n",
      "Selected prompt coordinate: [628 665]\n"
     ]
    },
    {
     "name": "stderr",
     "output_type": "stream",
     "text": [
      "frame loading (JPEG): 100%|██████████| 1/1 [00:00<00:00, 24.86it/s]\n"
     ]
    },
    {
     "name": "stdout",
     "output_type": "stream",
     "text": [
      "SAM2 inference state initialized.\n",
      "Points: [[665, 628]], Labels: [1]\n",
      "Inference completed for the frame.\n",
      "Predicted mask successfully saved at: C:\\Users\\devanish\\Downloads\\Datasets\\UnitTesting\\Colon\\05\\PredictedMask\\00056.png\n",
      "SAM2 inference state and model reset.\n",
      "\n",
      "Processing image 58: 57.png.png\n",
      "Image path: C:\\Users\\devanish\\Downloads\\Datasets\\UnitTesting\\Colon\\05\\Frames\\57.png.png\n",
      "Mask path: C:\\Users\\devanish\\Downloads\\Datasets\\UnitTesting\\Colon\\05\\Masks\\57.png.png\n",
      "Image loaded successfully.\n",
      "Mask loaded successfully.\n",
      "JPEG image successfully saved at: C:\\Users\\devanish\\Downloads\\Datasets\\UnitTesting\\Colon\\05\\JPEG_Frames_57\\00057.jpg\n",
      "Selected prompt coordinate: [802  80]\n"
     ]
    },
    {
     "name": "stderr",
     "output_type": "stream",
     "text": [
      "frame loading (JPEG): 100%|██████████| 1/1 [00:00<00:00, 27.15it/s]\n"
     ]
    },
    {
     "name": "stdout",
     "output_type": "stream",
     "text": [
      "SAM2 inference state initialized.\n",
      "Points: [[80, 802]], Labels: [1]\n",
      "Inference completed for the frame.\n",
      "Predicted mask successfully saved at: C:\\Users\\devanish\\Downloads\\Datasets\\UnitTesting\\Colon\\05\\PredictedMask\\00057.png\n",
      "SAM2 inference state and model reset.\n",
      "Inference complete for all images in the subfolder.\n"
     ]
    }
   ],
   "source": [
    "import os\n",
    "import cv2\n",
    "import numpy as np\n",
    "import random\n",
    "import torch\n",
    "import gc\n",
    "from sam2.build_sam import build_sam2_video_predictor\n",
    "\n",
    "# Dynamically set the device based on CPU usage only\n",
    "device = \"cpu\"\n",
    "print(f\"Device set to: {device}\")\n",
    "\n",
    "# Define model configuration and checkpoint\n",
    "model_cfg = r\"C:\\Users\\devanish\\Downloads\\SAM2\\ReactDocker\\sam2_hiera_l.yaml\"\n",
    "checkpoint_path = r\"C:\\Users\\devanish\\Downloads\\SAM2\\sam2_hiera_large.pt\"\n",
    "\n",
    "# Define the main colon folder path\n",
    "colon_folder_path = r\"C:\\Users\\devanish\\Downloads\\Datasets\\UnitTesting\\Colon\"\n",
    "print(f\"Colon folder path: {colon_folder_path}\")\n",
    "\n",
    "# Process only the first subfolder and all images within it\n",
    "subfolder_name = os.listdir(colon_folder_path)[0]\n",
    "subfolder_path = os.path.join(colon_folder_path, subfolder_name)\n",
    "print(f\"Processing subfolder: {subfolder_name}\")\n",
    "\n",
    "frames_folder = os.path.join(subfolder_path, 'Frames')\n",
    "masks_folder = os.path.join(subfolder_path, 'Masks')\n",
    "predicted_masks_folder = os.path.join(subfolder_path, 'PredictedMask')\n",
    "os.makedirs(predicted_masks_folder, exist_ok=True)\n",
    "print(f\"Predicted masks folder created at: {predicted_masks_folder}\")\n",
    "\n",
    "# Process all images in the frames folder\n",
    "image_names = sorted(os.listdir(frames_folder))\n",
    "for idx, image_name in enumerate(image_names):\n",
    "    print(f\"\\nProcessing image {idx + 1}: {image_name}\")\n",
    "    \n",
    "    if image_name.endswith('.png'):\n",
    "        image_path = os.path.join(frames_folder, image_name)\n",
    "        mask_path = os.path.join(masks_folder, image_name)\n",
    "        print(f\"Image path: {image_path}\")\n",
    "        print(f\"Mask path: {mask_path}\")\n",
    "\n",
    "        # Load the image and mask\n",
    "        image = cv2.imread(image_path)\n",
    "        if image is None:\n",
    "            print(f\"Error: Failed to load image at {image_path}\")\n",
    "            continue\n",
    "        print(\"Image loaded successfully.\")\n",
    "\n",
    "        mask = cv2.imread(mask_path, cv2.IMREAD_GRAYSCALE)\n",
    "        if mask is None:\n",
    "            print(f\"Error: Failed to load mask at {mask_path}\")\n",
    "            continue\n",
    "        print(\"Mask loaded successfully.\")\n",
    "\n",
    "        # Create a temporary JPEG folder for each image to prevent residual data\n",
    "        jpeg_folder = os.path.join(subfolder_path, f\"JPEG_Frames_{idx}\")\n",
    "        os.makedirs(jpeg_folder, exist_ok=True)\n",
    "\n",
    "        # Save the image as a JPEG in the temporary JPEG folder\n",
    "        jpeg_image_path = os.path.join(jpeg_folder, f\"{idx:05d}.jpg\")\n",
    "        success = cv2.imwrite(jpeg_image_path, image)\n",
    "        if not success:\n",
    "            print(f\"Error: Failed to save JPEG image at {jpeg_image_path}\")\n",
    "            continue\n",
    "        print(f\"JPEG image successfully saved at: {jpeg_image_path}\")\n",
    "\n",
    "        # Select a random point with value 255 from the mask as the prompt coordinate\n",
    "        coords = np.column_stack(np.where(mask == 255))\n",
    "        if coords.size == 0:\n",
    "            print(f\"No valid prompt point found for mask: {image_name}\")\n",
    "            continue\n",
    "        prompt_coord = random.choice(coords)\n",
    "        print(f\"Selected prompt coordinate: {prompt_coord}\")\n",
    "\n",
    "        # Instantiate the SAM2 model to ensure a fresh inference state\n",
    "        sam_model = build_sam2_video_predictor(\n",
    "            config_file=model_cfg,\n",
    "            ckpt_path=checkpoint_path,\n",
    "            device=device\n",
    "        )\n",
    "        inference_state = sam_model.init_state(jpeg_folder)\n",
    "        print(\"SAM2 inference state initialized.\")\n",
    "\n",
    "        # Add the prompt and run inference, getting the output mask logits\n",
    "        obj_id = idx + 1  # Unique ID for each object (image)\n",
    "        frame_idx = 0\n",
    "        points = [[prompt_coord[1], prompt_coord[0]]]  # X, Y coordinate\n",
    "        labels = [1]  # Label set to 1\n",
    "        print(f\"Points: {points}, Labels: {labels}\")\n",
    "\n",
    "        # Run add_new_points_or_box and get the out_mask_logits\n",
    "        _, out_obj_ids, out_mask_logits = sam_model.add_new_points_or_box(\n",
    "            inference_state=inference_state,\n",
    "            frame_idx=frame_idx,\n",
    "            obj_id=obj_id,\n",
    "            points=points,\n",
    "            labels=labels,\n",
    "        )\n",
    "        print(\"Inference completed for the frame.\")\n",
    "\n",
    "        # Check and save the output mask logits\n",
    "        if out_mask_logits is not None:\n",
    "            predicted_mask = (out_mask_logits[0].squeeze().cpu().numpy() > 0.5).astype(np.uint8) * 255\n",
    "            predicted_mask_path = os.path.join(predicted_masks_folder, f\"{idx:05d}.png\")\n",
    "            \n",
    "            # Convert to BGR if necessary for saving\n",
    "            predicted_mask_bgr = cv2.cvtColor(predicted_mask, cv2.COLOR_GRAY2BGR)\n",
    "            success = cv2.imwrite(predicted_mask_path, predicted_mask_bgr)\n",
    "            if success:\n",
    "                print(f\"Predicted mask successfully saved at: {predicted_mask_path}\")\n",
    "            else:\n",
    "                print(\"Error: cv2.imwrite failed to save the predicted mask.\")\n",
    "\n",
    "        # Clean up by resetting SAM inference state and deleting the JPEG folder\n",
    "        sam_model.reset_state(inference_state)\n",
    "        del sam_model  # Explicitly delete the model\n",
    "        gc.collect()  # Run garbage collection to free memory\n",
    "        print(\"SAM2 inference state and model reset.\")\n",
    "\n",
    "        # Remove temporary JPEG folder for the current image to ensure clean state\n",
    "        for filename in os.listdir(jpeg_folder):\n",
    "            file_path = os.path.join(jpeg_folder, filename)\n",
    "            os.remove(file_path)\n",
    "        os.rmdir(jpeg_folder)  # Delete the folder itself\n",
    "\n",
    "print(\"Inference complete for all images in the subfolder.\")\n"
   ]
  },
  {
   "cell_type": "markdown",
   "metadata": {},
   "source": [
    "## Two random points over single organ (50 samples)"
   ]
  },
  {
   "cell_type": "code",
   "execution_count": 2,
   "metadata": {},
   "outputs": [
    {
     "name": "stdout",
     "output_type": "stream",
     "text": [
      "Device set to: cpu\n",
      "Colon folder path: C:\\Users\\devanish\\Downloads\\Datasets\\UnitTesting\\Colon\n",
      "Processing subfolder: 05\n",
      "Predicted masks folder created at: C:\\Users\\devanish\\Downloads\\Datasets\\UnitTesting\\Colon\\05\\PredictedMask\n",
      "\n",
      "Processing image 1: 00000.png\n",
      "Image path: C:\\Users\\devanish\\Downloads\\Datasets\\UnitTesting\\Colon\\05\\Frames\\00000.png\n",
      "Mask path: C:\\Users\\devanish\\Downloads\\Datasets\\UnitTesting\\Colon\\05\\Masks\\00000.png\n",
      "Image loaded successfully.\n",
      "Mask loaded successfully.\n",
      "JPEG image successfully saved at: C:\\Users\\devanish\\Downloads\\Datasets\\UnitTesting\\Colon\\05\\JPEG_Frames_0\\00000.jpg\n",
      "Selected prompt coordinates: [array([269, 962], dtype=int64), array([297, 990], dtype=int64)]\n"
     ]
    },
    {
     "name": "stderr",
     "output_type": "stream",
     "text": [
      "frame loading (JPEG): 100%|██████████| 1/1 [00:00<00:00, 11.05it/s]\n"
     ]
    },
    {
     "name": "stdout",
     "output_type": "stream",
     "text": [
      "SAM2 inference state initialized.\n",
      "Points: [[962, 269], [990, 297]], Labels: [1, 1]\n",
      "Inference completed for the frame.\n",
      "Predicted mask successfully saved at: C:\\Users\\devanish\\Downloads\\Datasets\\UnitTesting\\Colon\\05\\PredictedMask\\00000.png\n"
     ]
    },
    {
     "name": "stderr",
     "output_type": "stream",
     "text": [
      "c:\\Users\\devanish\\AppData\\Local\\anaconda3\\Lib\\site-packages\\sam2\\sam2_video_predictor.py:873: UserWarning: cannot import name '_C' from 'sam2' (c:\\Users\\devanish\\AppData\\Local\\anaconda3\\Lib\\site-packages\\sam2\\__init__.py)\n",
      "\n",
      "Skipping the post-processing step due to the error above. You can still use SAM 2 and it's OK to ignore the error above, although some post-processing functionality may be limited (which doesn't affect the results in most cases; see https://github.com/facebookresearch/segment-anything-2/blob/main/INSTALL.md).\n",
      "  pred_masks_gpu = fill_holes_in_mask_scores(\n"
     ]
    },
    {
     "name": "stdout",
     "output_type": "stream",
     "text": [
      "SAM2 inference state and model reset.\n",
      "\n",
      "Processing image 2: 00001.png\n",
      "Image path: C:\\Users\\devanish\\Downloads\\Datasets\\UnitTesting\\Colon\\05\\Frames\\00001.png\n",
      "Mask path: C:\\Users\\devanish\\Downloads\\Datasets\\UnitTesting\\Colon\\05\\Masks\\00001.png\n",
      "Image loaded successfully.\n",
      "Mask loaded successfully.\n",
      "JPEG image successfully saved at: C:\\Users\\devanish\\Downloads\\Datasets\\UnitTesting\\Colon\\05\\JPEG_Frames_1\\00001.jpg\n",
      "Selected prompt coordinates: [array([202, 626], dtype=int64), array([347, 260], dtype=int64)]\n"
     ]
    },
    {
     "name": "stderr",
     "output_type": "stream",
     "text": [
      "frame loading (JPEG): 100%|██████████| 1/1 [00:00<00:00, 22.70it/s]\n"
     ]
    },
    {
     "name": "stdout",
     "output_type": "stream",
     "text": [
      "SAM2 inference state initialized.\n",
      "Points: [[626, 202], [260, 347]], Labels: [1, 1]\n",
      "Inference completed for the frame.\n",
      "Predicted mask successfully saved at: C:\\Users\\devanish\\Downloads\\Datasets\\UnitTesting\\Colon\\05\\PredictedMask\\00001.png\n",
      "SAM2 inference state and model reset.\n",
      "\n",
      "Processing image 3: 00002.png\n",
      "Image path: C:\\Users\\devanish\\Downloads\\Datasets\\UnitTesting\\Colon\\05\\Frames\\00002.png\n",
      "Mask path: C:\\Users\\devanish\\Downloads\\Datasets\\UnitTesting\\Colon\\05\\Masks\\00002.png\n",
      "Image loaded successfully.\n",
      "Mask loaded successfully.\n",
      "JPEG image successfully saved at: C:\\Users\\devanish\\Downloads\\Datasets\\UnitTesting\\Colon\\05\\JPEG_Frames_2\\00002.jpg\n",
      "Selected prompt coordinates: [array([371, 441], dtype=int64), array([130, 123], dtype=int64)]\n"
     ]
    },
    {
     "name": "stderr",
     "output_type": "stream",
     "text": [
      "frame loading (JPEG): 100%|██████████| 1/1 [00:00<00:00, 17.43it/s]\n"
     ]
    },
    {
     "name": "stdout",
     "output_type": "stream",
     "text": [
      "SAM2 inference state initialized.\n",
      "Points: [[441, 371], [123, 130]], Labels: [1, 1]\n",
      "Inference completed for the frame.\n",
      "Predicted mask successfully saved at: C:\\Users\\devanish\\Downloads\\Datasets\\UnitTesting\\Colon\\05\\PredictedMask\\00002.png\n",
      "SAM2 inference state and model reset.\n",
      "\n",
      "Processing image 4: 00003.png\n",
      "Image path: C:\\Users\\devanish\\Downloads\\Datasets\\UnitTesting\\Colon\\05\\Frames\\00003.png\n",
      "Mask path: C:\\Users\\devanish\\Downloads\\Datasets\\UnitTesting\\Colon\\05\\Masks\\00003.png\n",
      "Image loaded successfully.\n",
      "Mask loaded successfully.\n",
      "JPEG image successfully saved at: C:\\Users\\devanish\\Downloads\\Datasets\\UnitTesting\\Colon\\05\\JPEG_Frames_3\\00003.jpg\n",
      "Selected prompt coordinates: [array([355, 133], dtype=int64), array([380, 386], dtype=int64)]\n"
     ]
    },
    {
     "name": "stderr",
     "output_type": "stream",
     "text": [
      "frame loading (JPEG): 100%|██████████| 1/1 [00:00<00:00, 24.71it/s]\n"
     ]
    },
    {
     "name": "stdout",
     "output_type": "stream",
     "text": [
      "SAM2 inference state initialized.\n",
      "Points: [[133, 355], [386, 380]], Labels: [1, 1]\n",
      "Inference completed for the frame.\n",
      "Predicted mask successfully saved at: C:\\Users\\devanish\\Downloads\\Datasets\\UnitTesting\\Colon\\05\\PredictedMask\\00003.png\n",
      "SAM2 inference state and model reset.\n",
      "\n",
      "Processing image 5: 00004.png\n",
      "Image path: C:\\Users\\devanish\\Downloads\\Datasets\\UnitTesting\\Colon\\05\\Frames\\00004.png\n",
      "Mask path: C:\\Users\\devanish\\Downloads\\Datasets\\UnitTesting\\Colon\\05\\Masks\\00004.png\n",
      "Image loaded successfully.\n",
      "Mask loaded successfully.\n",
      "JPEG image successfully saved at: C:\\Users\\devanish\\Downloads\\Datasets\\UnitTesting\\Colon\\05\\JPEG_Frames_4\\00004.jpg\n",
      "Selected prompt coordinates: [array([ 21, 133], dtype=int64), array([102, 514], dtype=int64)]\n"
     ]
    },
    {
     "name": "stderr",
     "output_type": "stream",
     "text": [
      "frame loading (JPEG): 100%|██████████| 1/1 [00:00<00:00, 26.22it/s]\n"
     ]
    },
    {
     "name": "stdout",
     "output_type": "stream",
     "text": [
      "SAM2 inference state initialized.\n",
      "Points: [[133, 21], [514, 102]], Labels: [1, 1]\n",
      "Inference completed for the frame.\n",
      "Predicted mask successfully saved at: C:\\Users\\devanish\\Downloads\\Datasets\\UnitTesting\\Colon\\05\\PredictedMask\\00004.png\n",
      "SAM2 inference state and model reset.\n",
      "\n",
      "Processing image 6: 00005.png\n",
      "Image path: C:\\Users\\devanish\\Downloads\\Datasets\\UnitTesting\\Colon\\05\\Frames\\00005.png\n",
      "Mask path: C:\\Users\\devanish\\Downloads\\Datasets\\UnitTesting\\Colon\\05\\Masks\\00005.png\n",
      "Image loaded successfully.\n",
      "Mask loaded successfully.\n",
      "JPEG image successfully saved at: C:\\Users\\devanish\\Downloads\\Datasets\\UnitTesting\\Colon\\05\\JPEG_Frames_5\\00005.jpg\n",
      "Selected prompt coordinates: [array([119, 588], dtype=int64), array([442, 920], dtype=int64)]\n"
     ]
    },
    {
     "name": "stderr",
     "output_type": "stream",
     "text": [
      "frame loading (JPEG): 100%|██████████| 1/1 [00:00<00:00, 25.90it/s]\n"
     ]
    },
    {
     "name": "stdout",
     "output_type": "stream",
     "text": [
      "SAM2 inference state initialized.\n",
      "Points: [[588, 119], [920, 442]], Labels: [1, 1]\n",
      "Inference completed for the frame.\n",
      "Predicted mask successfully saved at: C:\\Users\\devanish\\Downloads\\Datasets\\UnitTesting\\Colon\\05\\PredictedMask\\00005.png\n",
      "SAM2 inference state and model reset.\n",
      "\n",
      "Processing image 7: 00006.png\n",
      "Image path: C:\\Users\\devanish\\Downloads\\Datasets\\UnitTesting\\Colon\\05\\Frames\\00006.png\n",
      "Mask path: C:\\Users\\devanish\\Downloads\\Datasets\\UnitTesting\\Colon\\05\\Masks\\00006.png\n",
      "Image loaded successfully.\n",
      "Mask loaded successfully.\n",
      "JPEG image successfully saved at: C:\\Users\\devanish\\Downloads\\Datasets\\UnitTesting\\Colon\\05\\JPEG_Frames_6\\00006.jpg\n",
      "Selected prompt coordinates: [array([392, 776], dtype=int64), array([312, 738], dtype=int64)]\n"
     ]
    },
    {
     "name": "stderr",
     "output_type": "stream",
     "text": [
      "frame loading (JPEG): 100%|██████████| 1/1 [00:00<00:00, 26.80it/s]\n"
     ]
    },
    {
     "name": "stdout",
     "output_type": "stream",
     "text": [
      "SAM2 inference state initialized.\n",
      "Points: [[776, 392], [738, 312]], Labels: [1, 1]\n",
      "Inference completed for the frame.\n",
      "Predicted mask successfully saved at: C:\\Users\\devanish\\Downloads\\Datasets\\UnitTesting\\Colon\\05\\PredictedMask\\00006.png\n",
      "SAM2 inference state and model reset.\n",
      "\n",
      "Processing image 8: 00007.png\n",
      "Image path: C:\\Users\\devanish\\Downloads\\Datasets\\UnitTesting\\Colon\\05\\Frames\\00007.png\n",
      "Mask path: C:\\Users\\devanish\\Downloads\\Datasets\\UnitTesting\\Colon\\05\\Masks\\00007.png\n",
      "Image loaded successfully.\n",
      "Mask loaded successfully.\n",
      "JPEG image successfully saved at: C:\\Users\\devanish\\Downloads\\Datasets\\UnitTesting\\Colon\\05\\JPEG_Frames_7\\00007.jpg\n",
      "Selected prompt coordinates: [array([ 98, 298], dtype=int64), array([ 93, 500], dtype=int64)]\n"
     ]
    },
    {
     "name": "stderr",
     "output_type": "stream",
     "text": [
      "frame loading (JPEG): 100%|██████████| 1/1 [00:00<00:00, 25.38it/s]\n"
     ]
    },
    {
     "name": "stdout",
     "output_type": "stream",
     "text": [
      "SAM2 inference state initialized.\n",
      "Points: [[298, 98], [500, 93]], Labels: [1, 1]\n",
      "Inference completed for the frame.\n",
      "Predicted mask successfully saved at: C:\\Users\\devanish\\Downloads\\Datasets\\UnitTesting\\Colon\\05\\PredictedMask\\00007.png\n",
      "SAM2 inference state and model reset.\n",
      "\n",
      "Processing image 9: 00008.png\n",
      "Image path: C:\\Users\\devanish\\Downloads\\Datasets\\UnitTesting\\Colon\\05\\Frames\\00008.png\n",
      "Mask path: C:\\Users\\devanish\\Downloads\\Datasets\\UnitTesting\\Colon\\05\\Masks\\00008.png\n",
      "Image loaded successfully.\n",
      "Mask loaded successfully.\n",
      "JPEG image successfully saved at: C:\\Users\\devanish\\Downloads\\Datasets\\UnitTesting\\Colon\\05\\JPEG_Frames_8\\00008.jpg\n",
      "Selected prompt coordinates: [array([354, 135], dtype=int64), array([248,  90], dtype=int64)]\n"
     ]
    },
    {
     "name": "stderr",
     "output_type": "stream",
     "text": [
      "frame loading (JPEG): 100%|██████████| 1/1 [00:00<00:00, 25.19it/s]\n"
     ]
    },
    {
     "name": "stdout",
     "output_type": "stream",
     "text": [
      "SAM2 inference state initialized.\n",
      "Points: [[135, 354], [90, 248]], Labels: [1, 1]\n",
      "Inference completed for the frame.\n",
      "Predicted mask successfully saved at: C:\\Users\\devanish\\Downloads\\Datasets\\UnitTesting\\Colon\\05\\PredictedMask\\00008.png\n",
      "SAM2 inference state and model reset.\n",
      "\n",
      "Processing image 10: 00009.png\n",
      "Image path: C:\\Users\\devanish\\Downloads\\Datasets\\UnitTesting\\Colon\\05\\Frames\\00009.png\n",
      "Mask path: C:\\Users\\devanish\\Downloads\\Datasets\\UnitTesting\\Colon\\05\\Masks\\00009.png\n",
      "Image loaded successfully.\n",
      "Mask loaded successfully.\n",
      "JPEG image successfully saved at: C:\\Users\\devanish\\Downloads\\Datasets\\UnitTesting\\Colon\\05\\JPEG_Frames_9\\00009.jpg\n",
      "Selected prompt coordinates: [array([175,  39], dtype=int64), array([209,  22], dtype=int64)]\n"
     ]
    },
    {
     "name": "stderr",
     "output_type": "stream",
     "text": [
      "frame loading (JPEG): 100%|██████████| 1/1 [00:00<00:00, 25.29it/s]\n"
     ]
    },
    {
     "name": "stdout",
     "output_type": "stream",
     "text": [
      "SAM2 inference state initialized.\n",
      "Points: [[39, 175], [22, 209]], Labels: [1, 1]\n",
      "Inference completed for the frame.\n",
      "Predicted mask successfully saved at: C:\\Users\\devanish\\Downloads\\Datasets\\UnitTesting\\Colon\\05\\PredictedMask\\00009.png\n",
      "SAM2 inference state and model reset.\n",
      "\n",
      "Processing image 11: 00010.png\n",
      "Image path: C:\\Users\\devanish\\Downloads\\Datasets\\UnitTesting\\Colon\\05\\Frames\\00010.png\n",
      "Mask path: C:\\Users\\devanish\\Downloads\\Datasets\\UnitTesting\\Colon\\05\\Masks\\00010.png\n",
      "Image loaded successfully.\n",
      "Mask loaded successfully.\n",
      "JPEG image successfully saved at: C:\\Users\\devanish\\Downloads\\Datasets\\UnitTesting\\Colon\\05\\JPEG_Frames_10\\00010.jpg\n",
      "Selected prompt coordinates: [array([573, 554], dtype=int64), array([491, 522], dtype=int64)]\n"
     ]
    },
    {
     "name": "stderr",
     "output_type": "stream",
     "text": [
      "frame loading (JPEG): 100%|██████████| 1/1 [00:00<00:00, 26.13it/s]\n"
     ]
    },
    {
     "name": "stdout",
     "output_type": "stream",
     "text": [
      "SAM2 inference state initialized.\n",
      "Points: [[554, 573], [522, 491]], Labels: [1, 1]\n",
      "Inference completed for the frame.\n",
      "Predicted mask successfully saved at: C:\\Users\\devanish\\Downloads\\Datasets\\UnitTesting\\Colon\\05\\PredictedMask\\00010.png\n",
      "SAM2 inference state and model reset.\n",
      "\n",
      "Processing image 12: 00011.png\n",
      "Image path: C:\\Users\\devanish\\Downloads\\Datasets\\UnitTesting\\Colon\\05\\Frames\\00011.png\n",
      "Mask path: C:\\Users\\devanish\\Downloads\\Datasets\\UnitTesting\\Colon\\05\\Masks\\00011.png\n",
      "Image loaded successfully.\n",
      "Mask loaded successfully.\n",
      "JPEG image successfully saved at: C:\\Users\\devanish\\Downloads\\Datasets\\UnitTesting\\Colon\\05\\JPEG_Frames_11\\00011.jpg\n",
      "Selected prompt coordinates: [array([955, 114], dtype=int64), array([814,  16], dtype=int64)]\n"
     ]
    },
    {
     "name": "stderr",
     "output_type": "stream",
     "text": [
      "frame loading (JPEG): 100%|██████████| 1/1 [00:00<00:00, 26.59it/s]\n"
     ]
    },
    {
     "name": "stdout",
     "output_type": "stream",
     "text": [
      "SAM2 inference state initialized.\n",
      "Points: [[114, 955], [16, 814]], Labels: [1, 1]\n",
      "Inference completed for the frame.\n",
      "Predicted mask successfully saved at: C:\\Users\\devanish\\Downloads\\Datasets\\UnitTesting\\Colon\\05\\PredictedMask\\00011.png\n",
      "SAM2 inference state and model reset.\n",
      "\n",
      "Processing image 13: 00012.png\n",
      "Image path: C:\\Users\\devanish\\Downloads\\Datasets\\UnitTesting\\Colon\\05\\Frames\\00012.png\n",
      "Mask path: C:\\Users\\devanish\\Downloads\\Datasets\\UnitTesting\\Colon\\05\\Masks\\00012.png\n",
      "Image loaded successfully.\n",
      "Mask loaded successfully.\n",
      "JPEG image successfully saved at: C:\\Users\\devanish\\Downloads\\Datasets\\UnitTesting\\Colon\\05\\JPEG_Frames_12\\00012.jpg\n",
      "Selected prompt coordinates: [array([939, 606], dtype=int64), array([888, 223], dtype=int64)]\n"
     ]
    },
    {
     "name": "stderr",
     "output_type": "stream",
     "text": [
      "frame loading (JPEG): 100%|██████████| 1/1 [00:00<00:00, 25.63it/s]\n"
     ]
    },
    {
     "name": "stdout",
     "output_type": "stream",
     "text": [
      "SAM2 inference state initialized.\n",
      "Points: [[606, 939], [223, 888]], Labels: [1, 1]\n",
      "Inference completed for the frame.\n",
      "Predicted mask successfully saved at: C:\\Users\\devanish\\Downloads\\Datasets\\UnitTesting\\Colon\\05\\PredictedMask\\00012.png\n",
      "SAM2 inference state and model reset.\n",
      "\n",
      "Processing image 14: 00013.png\n",
      "Image path: C:\\Users\\devanish\\Downloads\\Datasets\\UnitTesting\\Colon\\05\\Frames\\00013.png\n",
      "Mask path: C:\\Users\\devanish\\Downloads\\Datasets\\UnitTesting\\Colon\\05\\Masks\\00013.png\n",
      "Image loaded successfully.\n",
      "Mask loaded successfully.\n",
      "JPEG image successfully saved at: C:\\Users\\devanish\\Downloads\\Datasets\\UnitTesting\\Colon\\05\\JPEG_Frames_13\\00013.jpg\n",
      "Selected prompt coordinates: [array([834,  65], dtype=int64), array([931, 101], dtype=int64)]\n"
     ]
    },
    {
     "name": "stderr",
     "output_type": "stream",
     "text": [
      "frame loading (JPEG): 100%|██████████| 1/1 [00:00<00:00, 25.51it/s]\n"
     ]
    },
    {
     "name": "stdout",
     "output_type": "stream",
     "text": [
      "SAM2 inference state initialized.\n",
      "Points: [[65, 834], [101, 931]], Labels: [1, 1]\n",
      "Inference completed for the frame.\n",
      "Predicted mask successfully saved at: C:\\Users\\devanish\\Downloads\\Datasets\\UnitTesting\\Colon\\05\\PredictedMask\\00013.png\n",
      "SAM2 inference state and model reset.\n",
      "\n",
      "Processing image 15: 00014.png\n",
      "Image path: C:\\Users\\devanish\\Downloads\\Datasets\\UnitTesting\\Colon\\05\\Frames\\00014.png\n",
      "Mask path: C:\\Users\\devanish\\Downloads\\Datasets\\UnitTesting\\Colon\\05\\Masks\\00014.png\n",
      "Image loaded successfully.\n",
      "Mask loaded successfully.\n",
      "JPEG image successfully saved at: C:\\Users\\devanish\\Downloads\\Datasets\\UnitTesting\\Colon\\05\\JPEG_Frames_14\\00014.jpg\n",
      "Selected prompt coordinates: [array([845, 519], dtype=int64), array([682, 425], dtype=int64)]\n"
     ]
    },
    {
     "name": "stderr",
     "output_type": "stream",
     "text": [
      "frame loading (JPEG): 100%|██████████| 1/1 [00:00<00:00, 25.53it/s]\n"
     ]
    },
    {
     "name": "stdout",
     "output_type": "stream",
     "text": [
      "SAM2 inference state initialized.\n",
      "Points: [[519, 845], [425, 682]], Labels: [1, 1]\n",
      "Inference completed for the frame.\n",
      "Predicted mask successfully saved at: C:\\Users\\devanish\\Downloads\\Datasets\\UnitTesting\\Colon\\05\\PredictedMask\\00014.png\n",
      "SAM2 inference state and model reset.\n",
      "\n",
      "Processing image 16: 00015.png\n",
      "Image path: C:\\Users\\devanish\\Downloads\\Datasets\\UnitTesting\\Colon\\05\\Frames\\00015.png\n",
      "Mask path: C:\\Users\\devanish\\Downloads\\Datasets\\UnitTesting\\Colon\\05\\Masks\\00015.png\n",
      "Image loaded successfully.\n",
      "Mask loaded successfully.\n",
      "JPEG image successfully saved at: C:\\Users\\devanish\\Downloads\\Datasets\\UnitTesting\\Colon\\05\\JPEG_Frames_15\\00015.jpg\n",
      "Selected prompt coordinates: [array([687, 476], dtype=int64), array([616, 454], dtype=int64)]\n"
     ]
    },
    {
     "name": "stderr",
     "output_type": "stream",
     "text": [
      "frame loading (JPEG): 100%|██████████| 1/1 [00:00<00:00, 26.98it/s]\n"
     ]
    },
    {
     "name": "stdout",
     "output_type": "stream",
     "text": [
      "SAM2 inference state initialized.\n",
      "Points: [[476, 687], [454, 616]], Labels: [1, 1]\n",
      "Inference completed for the frame.\n",
      "Predicted mask successfully saved at: C:\\Users\\devanish\\Downloads\\Datasets\\UnitTesting\\Colon\\05\\PredictedMask\\00015.png\n",
      "SAM2 inference state and model reset.\n",
      "\n",
      "Processing image 17: 00016.png\n",
      "Image path: C:\\Users\\devanish\\Downloads\\Datasets\\UnitTesting\\Colon\\05\\Frames\\00016.png\n",
      "Mask path: C:\\Users\\devanish\\Downloads\\Datasets\\UnitTesting\\Colon\\05\\Masks\\00016.png\n",
      "Image loaded successfully.\n",
      "Mask loaded successfully.\n",
      "JPEG image successfully saved at: C:\\Users\\devanish\\Downloads\\Datasets\\UnitTesting\\Colon\\05\\JPEG_Frames_16\\00016.jpg\n",
      "Selected prompt coordinates: [array([911, 459], dtype=int64), array([811, 593], dtype=int64)]\n"
     ]
    },
    {
     "name": "stderr",
     "output_type": "stream",
     "text": [
      "frame loading (JPEG): 100%|██████████| 1/1 [00:00<00:00, 24.82it/s]\n"
     ]
    },
    {
     "name": "stdout",
     "output_type": "stream",
     "text": [
      "SAM2 inference state initialized.\n",
      "Points: [[459, 911], [593, 811]], Labels: [1, 1]\n",
      "Inference completed for the frame.\n",
      "Predicted mask successfully saved at: C:\\Users\\devanish\\Downloads\\Datasets\\UnitTesting\\Colon\\05\\PredictedMask\\00016.png\n",
      "SAM2 inference state and model reset.\n",
      "\n",
      "Processing image 18: 00017.png\n",
      "Image path: C:\\Users\\devanish\\Downloads\\Datasets\\UnitTesting\\Colon\\05\\Frames\\00017.png\n",
      "Mask path: C:\\Users\\devanish\\Downloads\\Datasets\\UnitTesting\\Colon\\05\\Masks\\00017.png\n",
      "Image loaded successfully.\n",
      "Mask loaded successfully.\n",
      "JPEG image successfully saved at: C:\\Users\\devanish\\Downloads\\Datasets\\UnitTesting\\Colon\\05\\JPEG_Frames_17\\00017.jpg\n",
      "Selected prompt coordinates: [array([822, 360], dtype=int64), array([759, 334], dtype=int64)]\n"
     ]
    },
    {
     "name": "stderr",
     "output_type": "stream",
     "text": [
      "frame loading (JPEG): 100%|██████████| 1/1 [00:00<00:00, 24.32it/s]\n"
     ]
    },
    {
     "name": "stdout",
     "output_type": "stream",
     "text": [
      "SAM2 inference state initialized.\n",
      "Points: [[360, 822], [334, 759]], Labels: [1, 1]\n",
      "Inference completed for the frame.\n",
      "Predicted mask successfully saved at: C:\\Users\\devanish\\Downloads\\Datasets\\UnitTesting\\Colon\\05\\PredictedMask\\00017.png\n",
      "SAM2 inference state and model reset.\n",
      "\n",
      "Processing image 19: 00018.png\n",
      "Image path: C:\\Users\\devanish\\Downloads\\Datasets\\UnitTesting\\Colon\\05\\Frames\\00018.png\n",
      "Mask path: C:\\Users\\devanish\\Downloads\\Datasets\\UnitTesting\\Colon\\05\\Masks\\00018.png\n",
      "Image loaded successfully.\n",
      "Mask loaded successfully.\n",
      "JPEG image successfully saved at: C:\\Users\\devanish\\Downloads\\Datasets\\UnitTesting\\Colon\\05\\JPEG_Frames_18\\00018.jpg\n",
      "Selected prompt coordinates: [array([556, 408], dtype=int64), array([658, 317], dtype=int64)]\n"
     ]
    },
    {
     "name": "stderr",
     "output_type": "stream",
     "text": [
      "frame loading (JPEG): 100%|██████████| 1/1 [00:00<00:00, 13.28it/s]\n"
     ]
    },
    {
     "name": "stdout",
     "output_type": "stream",
     "text": [
      "SAM2 inference state initialized.\n",
      "Points: [[408, 556], [317, 658]], Labels: [1, 1]\n",
      "Inference completed for the frame.\n",
      "Predicted mask successfully saved at: C:\\Users\\devanish\\Downloads\\Datasets\\UnitTesting\\Colon\\05\\PredictedMask\\00018.png\n",
      "SAM2 inference state and model reset.\n",
      "\n",
      "Processing image 20: 00019.png\n",
      "Image path: C:\\Users\\devanish\\Downloads\\Datasets\\UnitTesting\\Colon\\05\\Frames\\00019.png\n",
      "Mask path: C:\\Users\\devanish\\Downloads\\Datasets\\UnitTesting\\Colon\\05\\Masks\\00019.png\n",
      "Image loaded successfully.\n",
      "Mask loaded successfully.\n",
      "JPEG image successfully saved at: C:\\Users\\devanish\\Downloads\\Datasets\\UnitTesting\\Colon\\05\\JPEG_Frames_19\\00019.jpg\n",
      "Selected prompt coordinates: [array([569, 426], dtype=int64), array([565, 526], dtype=int64)]\n"
     ]
    },
    {
     "name": "stderr",
     "output_type": "stream",
     "text": [
      "frame loading (JPEG): 100%|██████████| 1/1 [00:00<00:00, 26.12it/s]\n"
     ]
    },
    {
     "name": "stdout",
     "output_type": "stream",
     "text": [
      "SAM2 inference state initialized.\n",
      "Points: [[426, 569], [526, 565]], Labels: [1, 1]\n",
      "Inference completed for the frame.\n",
      "Predicted mask successfully saved at: C:\\Users\\devanish\\Downloads\\Datasets\\UnitTesting\\Colon\\05\\PredictedMask\\00019.png\n",
      "SAM2 inference state and model reset.\n",
      "\n",
      "Processing image 21: 00020.png\n",
      "Image path: C:\\Users\\devanish\\Downloads\\Datasets\\UnitTesting\\Colon\\05\\Frames\\00020.png\n",
      "Mask path: C:\\Users\\devanish\\Downloads\\Datasets\\UnitTesting\\Colon\\05\\Masks\\00020.png\n",
      "Image loaded successfully.\n",
      "Mask loaded successfully.\n",
      "JPEG image successfully saved at: C:\\Users\\devanish\\Downloads\\Datasets\\UnitTesting\\Colon\\05\\JPEG_Frames_20\\00020.jpg\n",
      "Selected prompt coordinates: [array([712, 382], dtype=int64), array([919, 208], dtype=int64)]\n"
     ]
    },
    {
     "name": "stderr",
     "output_type": "stream",
     "text": [
      "frame loading (JPEG): 100%|██████████| 1/1 [00:00<00:00, 26.14it/s]\n"
     ]
    },
    {
     "name": "stdout",
     "output_type": "stream",
     "text": [
      "SAM2 inference state initialized.\n",
      "Points: [[382, 712], [208, 919]], Labels: [1, 1]\n",
      "Inference completed for the frame.\n",
      "Predicted mask successfully saved at: C:\\Users\\devanish\\Downloads\\Datasets\\UnitTesting\\Colon\\05\\PredictedMask\\00020.png\n",
      "SAM2 inference state and model reset.\n",
      "\n",
      "Processing image 22: 00021.png\n",
      "Image path: C:\\Users\\devanish\\Downloads\\Datasets\\UnitTesting\\Colon\\05\\Frames\\00021.png\n",
      "Mask path: C:\\Users\\devanish\\Downloads\\Datasets\\UnitTesting\\Colon\\05\\Masks\\00021.png\n",
      "Image loaded successfully.\n",
      "Mask loaded successfully.\n",
      "JPEG image successfully saved at: C:\\Users\\devanish\\Downloads\\Datasets\\UnitTesting\\Colon\\05\\JPEG_Frames_21\\00021.jpg\n",
      "Selected prompt coordinates: [array([832, 369], dtype=int64), array([874, 209], dtype=int64)]\n"
     ]
    },
    {
     "name": "stderr",
     "output_type": "stream",
     "text": [
      "frame loading (JPEG): 100%|██████████| 1/1 [00:00<00:00, 21.87it/s]\n"
     ]
    },
    {
     "name": "stdout",
     "output_type": "stream",
     "text": [
      "SAM2 inference state initialized.\n",
      "Points: [[369, 832], [209, 874]], Labels: [1, 1]\n",
      "Inference completed for the frame.\n",
      "Predicted mask successfully saved at: C:\\Users\\devanish\\Downloads\\Datasets\\UnitTesting\\Colon\\05\\PredictedMask\\00021.png\n",
      "SAM2 inference state and model reset.\n",
      "\n",
      "Processing image 23: 00022.png\n",
      "Image path: C:\\Users\\devanish\\Downloads\\Datasets\\UnitTesting\\Colon\\05\\Frames\\00022.png\n",
      "Mask path: C:\\Users\\devanish\\Downloads\\Datasets\\UnitTesting\\Colon\\05\\Masks\\00022.png\n",
      "Image loaded successfully.\n",
      "Mask loaded successfully.\n",
      "JPEG image successfully saved at: C:\\Users\\devanish\\Downloads\\Datasets\\UnitTesting\\Colon\\05\\JPEG_Frames_22\\00022.jpg\n",
      "Selected prompt coordinates: [array([645, 356], dtype=int64), array([617, 221], dtype=int64)]\n"
     ]
    },
    {
     "name": "stderr",
     "output_type": "stream",
     "text": [
      "frame loading (JPEG): 100%|██████████| 1/1 [00:00<00:00, 25.26it/s]\n"
     ]
    },
    {
     "name": "stdout",
     "output_type": "stream",
     "text": [
      "SAM2 inference state initialized.\n",
      "Points: [[356, 645], [221, 617]], Labels: [1, 1]\n",
      "Inference completed for the frame.\n",
      "Predicted mask successfully saved at: C:\\Users\\devanish\\Downloads\\Datasets\\UnitTesting\\Colon\\05\\PredictedMask\\00022.png\n",
      "SAM2 inference state and model reset.\n",
      "\n",
      "Processing image 24: 00023.png\n",
      "Image path: C:\\Users\\devanish\\Downloads\\Datasets\\UnitTesting\\Colon\\05\\Frames\\00023.png\n",
      "Mask path: C:\\Users\\devanish\\Downloads\\Datasets\\UnitTesting\\Colon\\05\\Masks\\00023.png\n",
      "Image loaded successfully.\n",
      "Mask loaded successfully.\n",
      "JPEG image successfully saved at: C:\\Users\\devanish\\Downloads\\Datasets\\UnitTesting\\Colon\\05\\JPEG_Frames_23\\00023.jpg\n",
      "Selected prompt coordinates: [array([925, 242], dtype=int64), array([844,  63], dtype=int64)]\n"
     ]
    },
    {
     "name": "stderr",
     "output_type": "stream",
     "text": [
      "frame loading (JPEG): 100%|██████████| 1/1 [00:00<00:00, 24.30it/s]\n"
     ]
    },
    {
     "name": "stdout",
     "output_type": "stream",
     "text": [
      "SAM2 inference state initialized.\n",
      "Points: [[242, 925], [63, 844]], Labels: [1, 1]\n",
      "Inference completed for the frame.\n",
      "Predicted mask successfully saved at: C:\\Users\\devanish\\Downloads\\Datasets\\UnitTesting\\Colon\\05\\PredictedMask\\00023.png\n",
      "SAM2 inference state and model reset.\n",
      "\n",
      "Processing image 25: 00024.png\n",
      "Image path: C:\\Users\\devanish\\Downloads\\Datasets\\UnitTesting\\Colon\\05\\Frames\\00024.png\n",
      "Mask path: C:\\Users\\devanish\\Downloads\\Datasets\\UnitTesting\\Colon\\05\\Masks\\00024.png\n",
      "Image loaded successfully.\n",
      "Mask loaded successfully.\n",
      "JPEG image successfully saved at: C:\\Users\\devanish\\Downloads\\Datasets\\UnitTesting\\Colon\\05\\JPEG_Frames_24\\00024.jpg\n",
      "Selected prompt coordinates: [array([797,  16], dtype=int64), array([960, 194], dtype=int64)]\n"
     ]
    },
    {
     "name": "stderr",
     "output_type": "stream",
     "text": [
      "frame loading (JPEG): 100%|██████████| 1/1 [00:00<00:00, 25.12it/s]\n"
     ]
    },
    {
     "name": "stdout",
     "output_type": "stream",
     "text": [
      "SAM2 inference state initialized.\n",
      "Points: [[16, 797], [194, 960]], Labels: [1, 1]\n",
      "Inference completed for the frame.\n",
      "Predicted mask successfully saved at: C:\\Users\\devanish\\Downloads\\Datasets\\UnitTesting\\Colon\\05\\PredictedMask\\00024.png\n",
      "SAM2 inference state and model reset.\n",
      "\n",
      "Processing image 26: 00025.png\n",
      "Image path: C:\\Users\\devanish\\Downloads\\Datasets\\UnitTesting\\Colon\\05\\Frames\\00025.png\n",
      "Mask path: C:\\Users\\devanish\\Downloads\\Datasets\\UnitTesting\\Colon\\05\\Masks\\00025.png\n",
      "Image loaded successfully.\n",
      "Mask loaded successfully.\n",
      "JPEG image successfully saved at: C:\\Users\\devanish\\Downloads\\Datasets\\UnitTesting\\Colon\\05\\JPEG_Frames_25\\00025.jpg\n",
      "Selected prompt coordinates: [array([835, 398], dtype=int64), array([874, 356], dtype=int64)]\n"
     ]
    },
    {
     "name": "stderr",
     "output_type": "stream",
     "text": [
      "frame loading (JPEG): 100%|██████████| 1/1 [00:00<00:00, 25.87it/s]\n"
     ]
    },
    {
     "name": "stdout",
     "output_type": "stream",
     "text": [
      "SAM2 inference state initialized.\n",
      "Points: [[398, 835], [356, 874]], Labels: [1, 1]\n",
      "Inference completed for the frame.\n",
      "Predicted mask successfully saved at: C:\\Users\\devanish\\Downloads\\Datasets\\UnitTesting\\Colon\\05\\PredictedMask\\00025.png\n",
      "SAM2 inference state and model reset.\n",
      "\n",
      "Processing image 27: 00026.png\n",
      "Image path: C:\\Users\\devanish\\Downloads\\Datasets\\UnitTesting\\Colon\\05\\Frames\\00026.png\n",
      "Mask path: C:\\Users\\devanish\\Downloads\\Datasets\\UnitTesting\\Colon\\05\\Masks\\00026.png\n",
      "Image loaded successfully.\n",
      "Mask loaded successfully.\n",
      "JPEG image successfully saved at: C:\\Users\\devanish\\Downloads\\Datasets\\UnitTesting\\Colon\\05\\JPEG_Frames_26\\00026.jpg\n",
      "Selected prompt coordinates: [array([921,  92], dtype=int64), array([740, 315], dtype=int64)]\n"
     ]
    },
    {
     "name": "stderr",
     "output_type": "stream",
     "text": [
      "frame loading (JPEG): 100%|██████████| 1/1 [00:00<00:00, 26.78it/s]\n"
     ]
    },
    {
     "name": "stdout",
     "output_type": "stream",
     "text": [
      "SAM2 inference state initialized.\n",
      "Points: [[92, 921], [315, 740]], Labels: [1, 1]\n",
      "Inference completed for the frame.\n",
      "Predicted mask successfully saved at: C:\\Users\\devanish\\Downloads\\Datasets\\UnitTesting\\Colon\\05\\PredictedMask\\00026.png\n",
      "SAM2 inference state and model reset.\n",
      "\n",
      "Processing image 28: 00027.png\n",
      "Image path: C:\\Users\\devanish\\Downloads\\Datasets\\UnitTesting\\Colon\\05\\Frames\\00027.png\n",
      "Mask path: C:\\Users\\devanish\\Downloads\\Datasets\\UnitTesting\\Colon\\05\\Masks\\00027.png\n",
      "Image loaded successfully.\n",
      "Mask loaded successfully.\n",
      "JPEG image successfully saved at: C:\\Users\\devanish\\Downloads\\Datasets\\UnitTesting\\Colon\\05\\JPEG_Frames_27\\00027.jpg\n",
      "Selected prompt coordinates: [array([789, 540], dtype=int64), array([857, 789], dtype=int64)]\n"
     ]
    },
    {
     "name": "stderr",
     "output_type": "stream",
     "text": [
      "frame loading (JPEG): 100%|██████████| 1/1 [00:00<00:00, 26.54it/s]\n"
     ]
    },
    {
     "name": "stdout",
     "output_type": "stream",
     "text": [
      "SAM2 inference state initialized.\n",
      "Points: [[540, 789], [789, 857]], Labels: [1, 1]\n",
      "Inference completed for the frame.\n",
      "Predicted mask successfully saved at: C:\\Users\\devanish\\Downloads\\Datasets\\UnitTesting\\Colon\\05\\PredictedMask\\00027.png\n",
      "SAM2 inference state and model reset.\n",
      "\n",
      "Processing image 29: 00028.png\n",
      "Image path: C:\\Users\\devanish\\Downloads\\Datasets\\UnitTesting\\Colon\\05\\Frames\\00028.png\n",
      "Mask path: C:\\Users\\devanish\\Downloads\\Datasets\\UnitTesting\\Colon\\05\\Masks\\00028.png\n",
      "Image loaded successfully.\n",
      "Mask loaded successfully.\n",
      "JPEG image successfully saved at: C:\\Users\\devanish\\Downloads\\Datasets\\UnitTesting\\Colon\\05\\JPEG_Frames_28\\00028.jpg\n",
      "Selected prompt coordinates: [array([885, 637], dtype=int64), array([853, 898], dtype=int64)]\n"
     ]
    },
    {
     "name": "stderr",
     "output_type": "stream",
     "text": [
      "frame loading (JPEG): 100%|██████████| 1/1 [00:00<00:00, 26.45it/s]\n"
     ]
    },
    {
     "name": "stdout",
     "output_type": "stream",
     "text": [
      "SAM2 inference state initialized.\n",
      "Points: [[637, 885], [898, 853]], Labels: [1, 1]\n",
      "Inference completed for the frame.\n",
      "Predicted mask successfully saved at: C:\\Users\\devanish\\Downloads\\Datasets\\UnitTesting\\Colon\\05\\PredictedMask\\00028.png\n",
      "SAM2 inference state and model reset.\n",
      "\n",
      "Processing image 30: 00029.png\n",
      "Image path: C:\\Users\\devanish\\Downloads\\Datasets\\UnitTesting\\Colon\\05\\Frames\\00029.png\n",
      "Mask path: C:\\Users\\devanish\\Downloads\\Datasets\\UnitTesting\\Colon\\05\\Masks\\00029.png\n",
      "Image loaded successfully.\n",
      "Mask loaded successfully.\n",
      "JPEG image successfully saved at: C:\\Users\\devanish\\Downloads\\Datasets\\UnitTesting\\Colon\\05\\JPEG_Frames_29\\00029.jpg\n",
      "Selected prompt coordinates: [array([ 956, 1016], dtype=int64), array([900, 719], dtype=int64)]\n"
     ]
    },
    {
     "name": "stderr",
     "output_type": "stream",
     "text": [
      "frame loading (JPEG): 100%|██████████| 1/1 [00:00<00:00, 24.85it/s]\n"
     ]
    },
    {
     "name": "stdout",
     "output_type": "stream",
     "text": [
      "SAM2 inference state initialized.\n",
      "Points: [[1016, 956], [719, 900]], Labels: [1, 1]\n",
      "Inference completed for the frame.\n",
      "Predicted mask successfully saved at: C:\\Users\\devanish\\Downloads\\Datasets\\UnitTesting\\Colon\\05\\PredictedMask\\00029.png\n",
      "SAM2 inference state and model reset.\n",
      "\n",
      "Processing image 31: 00030.png\n",
      "Image path: C:\\Users\\devanish\\Downloads\\Datasets\\UnitTesting\\Colon\\05\\Frames\\00030.png\n",
      "Mask path: C:\\Users\\devanish\\Downloads\\Datasets\\UnitTesting\\Colon\\05\\Masks\\00030.png\n",
      "Image loaded successfully.\n",
      "Mask loaded successfully.\n",
      "JPEG image successfully saved at: C:\\Users\\devanish\\Downloads\\Datasets\\UnitTesting\\Colon\\05\\JPEG_Frames_30\\00030.jpg\n",
      "Selected prompt coordinates: [array([437, 521], dtype=int64), array([843, 375], dtype=int64)]\n"
     ]
    },
    {
     "name": "stderr",
     "output_type": "stream",
     "text": [
      "frame loading (JPEG): 100%|██████████| 1/1 [00:00<00:00, 26.82it/s]\n"
     ]
    },
    {
     "name": "stdout",
     "output_type": "stream",
     "text": [
      "SAM2 inference state initialized.\n",
      "Points: [[521, 437], [375, 843]], Labels: [1, 1]\n",
      "Inference completed for the frame.\n",
      "Predicted mask successfully saved at: C:\\Users\\devanish\\Downloads\\Datasets\\UnitTesting\\Colon\\05\\PredictedMask\\00030.png\n",
      "SAM2 inference state and model reset.\n",
      "\n",
      "Processing image 32: 00031.png\n",
      "Image path: C:\\Users\\devanish\\Downloads\\Datasets\\UnitTesting\\Colon\\05\\Frames\\00031.png\n",
      "Mask path: C:\\Users\\devanish\\Downloads\\Datasets\\UnitTesting\\Colon\\05\\Masks\\00031.png\n",
      "Image loaded successfully.\n",
      "Mask loaded successfully.\n",
      "JPEG image successfully saved at: C:\\Users\\devanish\\Downloads\\Datasets\\UnitTesting\\Colon\\05\\JPEG_Frames_31\\00031.jpg\n",
      "Selected prompt coordinates: [array([767, 367], dtype=int64), array([608, 641], dtype=int64)]\n"
     ]
    },
    {
     "name": "stderr",
     "output_type": "stream",
     "text": [
      "frame loading (JPEG): 100%|██████████| 1/1 [00:00<00:00, 26.50it/s]\n"
     ]
    },
    {
     "name": "stdout",
     "output_type": "stream",
     "text": [
      "SAM2 inference state initialized.\n",
      "Points: [[367, 767], [641, 608]], Labels: [1, 1]\n",
      "Inference completed for the frame.\n",
      "Predicted mask successfully saved at: C:\\Users\\devanish\\Downloads\\Datasets\\UnitTesting\\Colon\\05\\PredictedMask\\00031.png\n",
      "SAM2 inference state and model reset.\n",
      "\n",
      "Processing image 33: 00032.png\n",
      "Image path: C:\\Users\\devanish\\Downloads\\Datasets\\UnitTesting\\Colon\\05\\Frames\\00032.png\n",
      "Mask path: C:\\Users\\devanish\\Downloads\\Datasets\\UnitTesting\\Colon\\05\\Masks\\00032.png\n",
      "Image loaded successfully.\n",
      "Mask loaded successfully.\n",
      "JPEG image successfully saved at: C:\\Users\\devanish\\Downloads\\Datasets\\UnitTesting\\Colon\\05\\JPEG_Frames_32\\00032.jpg\n",
      "Selected prompt coordinates: [array([688,  35], dtype=int64), array([698, 240], dtype=int64)]\n"
     ]
    },
    {
     "name": "stderr",
     "output_type": "stream",
     "text": [
      "frame loading (JPEG): 100%|██████████| 1/1 [00:00<00:00, 24.57it/s]\n"
     ]
    },
    {
     "name": "stdout",
     "output_type": "stream",
     "text": [
      "SAM2 inference state initialized.\n",
      "Points: [[35, 688], [240, 698]], Labels: [1, 1]\n",
      "Inference completed for the frame.\n",
      "Predicted mask successfully saved at: C:\\Users\\devanish\\Downloads\\Datasets\\UnitTesting\\Colon\\05\\PredictedMask\\00032.png\n",
      "SAM2 inference state and model reset.\n",
      "\n",
      "Processing image 34: 00033.png\n",
      "Image path: C:\\Users\\devanish\\Downloads\\Datasets\\UnitTesting\\Colon\\05\\Frames\\00033.png\n",
      "Mask path: C:\\Users\\devanish\\Downloads\\Datasets\\UnitTesting\\Colon\\05\\Masks\\00033.png\n",
      "Image loaded successfully.\n",
      "Mask loaded successfully.\n",
      "JPEG image successfully saved at: C:\\Users\\devanish\\Downloads\\Datasets\\UnitTesting\\Colon\\05\\JPEG_Frames_33\\00033.jpg\n",
      "Selected prompt coordinates: [array([745, 147], dtype=int64), array([853, 271], dtype=int64)]\n"
     ]
    },
    {
     "name": "stderr",
     "output_type": "stream",
     "text": [
      "frame loading (JPEG): 100%|██████████| 1/1 [00:00<00:00, 18.36it/s]\n"
     ]
    },
    {
     "name": "stdout",
     "output_type": "stream",
     "text": [
      "SAM2 inference state initialized.\n",
      "Points: [[147, 745], [271, 853]], Labels: [1, 1]\n",
      "Inference completed for the frame.\n",
      "Predicted mask successfully saved at: C:\\Users\\devanish\\Downloads\\Datasets\\UnitTesting\\Colon\\05\\PredictedMask\\00033.png\n",
      "SAM2 inference state and model reset.\n",
      "\n",
      "Processing image 35: 00034.png\n",
      "Image path: C:\\Users\\devanish\\Downloads\\Datasets\\UnitTesting\\Colon\\05\\Frames\\00034.png\n",
      "Mask path: C:\\Users\\devanish\\Downloads\\Datasets\\UnitTesting\\Colon\\05\\Masks\\00034.png\n",
      "Image loaded successfully.\n",
      "Mask loaded successfully.\n",
      "JPEG image successfully saved at: C:\\Users\\devanish\\Downloads\\Datasets\\UnitTesting\\Colon\\05\\JPEG_Frames_34\\00034.jpg\n",
      "Selected prompt coordinates: [array([ 951, 1234], dtype=int64), array([800, 638], dtype=int64)]\n"
     ]
    },
    {
     "name": "stderr",
     "output_type": "stream",
     "text": [
      "frame loading (JPEG): 100%|██████████| 1/1 [00:00<00:00, 27.01it/s]\n"
     ]
    },
    {
     "name": "stdout",
     "output_type": "stream",
     "text": [
      "SAM2 inference state initialized.\n",
      "Points: [[1234, 951], [638, 800]], Labels: [1, 1]\n",
      "Inference completed for the frame.\n",
      "Predicted mask successfully saved at: C:\\Users\\devanish\\Downloads\\Datasets\\UnitTesting\\Colon\\05\\PredictedMask\\00034.png\n",
      "SAM2 inference state and model reset.\n",
      "\n",
      "Processing image 36: 00035.png\n",
      "Image path: C:\\Users\\devanish\\Downloads\\Datasets\\UnitTesting\\Colon\\05\\Frames\\00035.png\n",
      "Mask path: C:\\Users\\devanish\\Downloads\\Datasets\\UnitTesting\\Colon\\05\\Masks\\00035.png\n",
      "Image loaded successfully.\n",
      "Mask loaded successfully.\n",
      "JPEG image successfully saved at: C:\\Users\\devanish\\Downloads\\Datasets\\UnitTesting\\Colon\\05\\JPEG_Frames_35\\00035.jpg\n",
      "Selected prompt coordinates: [array([383, 239], dtype=int64), array([635, 401], dtype=int64)]\n"
     ]
    },
    {
     "name": "stderr",
     "output_type": "stream",
     "text": [
      "frame loading (JPEG): 100%|██████████| 1/1 [00:00<00:00, 22.74it/s]\n"
     ]
    },
    {
     "name": "stdout",
     "output_type": "stream",
     "text": [
      "SAM2 inference state initialized.\n",
      "Points: [[239, 383], [401, 635]], Labels: [1, 1]\n",
      "Inference completed for the frame.\n",
      "Predicted mask successfully saved at: C:\\Users\\devanish\\Downloads\\Datasets\\UnitTesting\\Colon\\05\\PredictedMask\\00035.png\n",
      "SAM2 inference state and model reset.\n",
      "\n",
      "Processing image 37: 00036.png\n",
      "Image path: C:\\Users\\devanish\\Downloads\\Datasets\\UnitTesting\\Colon\\05\\Frames\\00036.png\n",
      "Mask path: C:\\Users\\devanish\\Downloads\\Datasets\\UnitTesting\\Colon\\05\\Masks\\00036.png\n",
      "Image loaded successfully.\n",
      "Mask loaded successfully.\n",
      "JPEG image successfully saved at: C:\\Users\\devanish\\Downloads\\Datasets\\UnitTesting\\Colon\\05\\JPEG_Frames_36\\00036.jpg\n",
      "Selected prompt coordinates: [array([878, 699], dtype=int64), array([958, 720], dtype=int64)]\n"
     ]
    },
    {
     "name": "stderr",
     "output_type": "stream",
     "text": [
      "frame loading (JPEG): 100%|██████████| 1/1 [00:00<00:00, 25.44it/s]\n"
     ]
    },
    {
     "name": "stdout",
     "output_type": "stream",
     "text": [
      "SAM2 inference state initialized.\n",
      "Points: [[699, 878], [720, 958]], Labels: [1, 1]\n",
      "Inference completed for the frame.\n",
      "Predicted mask successfully saved at: C:\\Users\\devanish\\Downloads\\Datasets\\UnitTesting\\Colon\\05\\PredictedMask\\00036.png\n",
      "SAM2 inference state and model reset.\n",
      "\n",
      "Processing image 38: 00037.png\n",
      "Image path: C:\\Users\\devanish\\Downloads\\Datasets\\UnitTesting\\Colon\\05\\Frames\\00037.png\n",
      "Mask path: C:\\Users\\devanish\\Downloads\\Datasets\\UnitTesting\\Colon\\05\\Masks\\00037.png\n",
      "Image loaded successfully.\n",
      "Mask loaded successfully.\n",
      "JPEG image successfully saved at: C:\\Users\\devanish\\Downloads\\Datasets\\UnitTesting\\Colon\\05\\JPEG_Frames_37\\00037.jpg\n",
      "Selected prompt coordinates: [array([607, 633], dtype=int64), array([814, 507], dtype=int64)]\n"
     ]
    },
    {
     "name": "stderr",
     "output_type": "stream",
     "text": [
      "frame loading (JPEG): 100%|██████████| 1/1 [00:00<00:00, 25.67it/s]\n"
     ]
    },
    {
     "name": "stdout",
     "output_type": "stream",
     "text": [
      "SAM2 inference state initialized.\n",
      "Points: [[633, 607], [507, 814]], Labels: [1, 1]\n",
      "Inference completed for the frame.\n",
      "Predicted mask successfully saved at: C:\\Users\\devanish\\Downloads\\Datasets\\UnitTesting\\Colon\\05\\PredictedMask\\00037.png\n",
      "SAM2 inference state and model reset.\n",
      "\n",
      "Processing image 39: 00038.png\n",
      "Image path: C:\\Users\\devanish\\Downloads\\Datasets\\UnitTesting\\Colon\\05\\Frames\\00038.png\n",
      "Mask path: C:\\Users\\devanish\\Downloads\\Datasets\\UnitTesting\\Colon\\05\\Masks\\00038.png\n",
      "Image loaded successfully.\n",
      "Mask loaded successfully.\n",
      "JPEG image successfully saved at: C:\\Users\\devanish\\Downloads\\Datasets\\UnitTesting\\Colon\\05\\JPEG_Frames_38\\00038.jpg\n",
      "Selected prompt coordinates: [array([399, 370], dtype=int64), array([297, 738], dtype=int64)]\n"
     ]
    },
    {
     "name": "stderr",
     "output_type": "stream",
     "text": [
      "frame loading (JPEG): 100%|██████████| 1/1 [00:00<00:00, 24.49it/s]\n"
     ]
    },
    {
     "name": "stdout",
     "output_type": "stream",
     "text": [
      "SAM2 inference state initialized.\n",
      "Points: [[370, 399], [738, 297]], Labels: [1, 1]\n",
      "Inference completed for the frame.\n",
      "Predicted mask successfully saved at: C:\\Users\\devanish\\Downloads\\Datasets\\UnitTesting\\Colon\\05\\PredictedMask\\00038.png\n",
      "SAM2 inference state and model reset.\n",
      "\n",
      "Processing image 40: 00039.png\n",
      "Image path: C:\\Users\\devanish\\Downloads\\Datasets\\UnitTesting\\Colon\\05\\Frames\\00039.png\n",
      "Mask path: C:\\Users\\devanish\\Downloads\\Datasets\\UnitTesting\\Colon\\05\\Masks\\00039.png\n",
      "Image loaded successfully.\n",
      "Mask loaded successfully.\n",
      "JPEG image successfully saved at: C:\\Users\\devanish\\Downloads\\Datasets\\UnitTesting\\Colon\\05\\JPEG_Frames_39\\00039.jpg\n",
      "Selected prompt coordinates: [array([887, 269], dtype=int64), array([543, 289], dtype=int64)]\n"
     ]
    },
    {
     "name": "stderr",
     "output_type": "stream",
     "text": [
      "frame loading (JPEG): 100%|██████████| 1/1 [00:00<00:00, 25.46it/s]\n"
     ]
    },
    {
     "name": "stdout",
     "output_type": "stream",
     "text": [
      "SAM2 inference state initialized.\n",
      "Points: [[269, 887], [289, 543]], Labels: [1, 1]\n",
      "Inference completed for the frame.\n",
      "Predicted mask successfully saved at: C:\\Users\\devanish\\Downloads\\Datasets\\UnitTesting\\Colon\\05\\PredictedMask\\00039.png\n",
      "SAM2 inference state and model reset.\n",
      "\n",
      "Processing image 41: 00040.png\n",
      "Image path: C:\\Users\\devanish\\Downloads\\Datasets\\UnitTesting\\Colon\\05\\Frames\\00040.png\n",
      "Mask path: C:\\Users\\devanish\\Downloads\\Datasets\\UnitTesting\\Colon\\05\\Masks\\00040.png\n",
      "Image loaded successfully.\n",
      "Mask loaded successfully.\n",
      "JPEG image successfully saved at: C:\\Users\\devanish\\Downloads\\Datasets\\UnitTesting\\Colon\\05\\JPEG_Frames_40\\00040.jpg\n",
      "Selected prompt coordinates: [array([855, 136], dtype=int64), array([566, 180], dtype=int64)]\n"
     ]
    },
    {
     "name": "stderr",
     "output_type": "stream",
     "text": [
      "frame loading (JPEG): 100%|██████████| 1/1 [00:00<00:00, 26.74it/s]\n"
     ]
    },
    {
     "name": "stdout",
     "output_type": "stream",
     "text": [
      "SAM2 inference state initialized.\n",
      "Points: [[136, 855], [180, 566]], Labels: [1, 1]\n",
      "Inference completed for the frame.\n",
      "Predicted mask successfully saved at: C:\\Users\\devanish\\Downloads\\Datasets\\UnitTesting\\Colon\\05\\PredictedMask\\00040.png\n",
      "SAM2 inference state and model reset.\n",
      "\n",
      "Processing image 42: 00041.png\n",
      "Image path: C:\\Users\\devanish\\Downloads\\Datasets\\UnitTesting\\Colon\\05\\Frames\\00041.png\n",
      "Mask path: C:\\Users\\devanish\\Downloads\\Datasets\\UnitTesting\\Colon\\05\\Masks\\00041.png\n",
      "Image loaded successfully.\n",
      "Mask loaded successfully.\n",
      "JPEG image successfully saved at: C:\\Users\\devanish\\Downloads\\Datasets\\UnitTesting\\Colon\\05\\JPEG_Frames_41\\00041.jpg\n",
      "Selected prompt coordinates: [array([469, 218], dtype=int64), array([711,  50], dtype=int64)]\n"
     ]
    },
    {
     "name": "stderr",
     "output_type": "stream",
     "text": [
      "frame loading (JPEG): 100%|██████████| 1/1 [00:00<00:00, 26.53it/s]\n"
     ]
    },
    {
     "name": "stdout",
     "output_type": "stream",
     "text": [
      "SAM2 inference state initialized.\n",
      "Points: [[218, 469], [50, 711]], Labels: [1, 1]\n",
      "Inference completed for the frame.\n",
      "Predicted mask successfully saved at: C:\\Users\\devanish\\Downloads\\Datasets\\UnitTesting\\Colon\\05\\PredictedMask\\00041.png\n",
      "SAM2 inference state and model reset.\n",
      "\n",
      "Processing image 43: 00042.png\n",
      "Image path: C:\\Users\\devanish\\Downloads\\Datasets\\UnitTesting\\Colon\\05\\Frames\\00042.png\n",
      "Mask path: C:\\Users\\devanish\\Downloads\\Datasets\\UnitTesting\\Colon\\05\\Masks\\00042.png\n",
      "Image loaded successfully.\n",
      "Mask loaded successfully.\n",
      "JPEG image successfully saved at: C:\\Users\\devanish\\Downloads\\Datasets\\UnitTesting\\Colon\\05\\JPEG_Frames_42\\00042.jpg\n",
      "Selected prompt coordinates: [array([428, 426], dtype=int64), array([782, 310], dtype=int64)]\n"
     ]
    },
    {
     "name": "stderr",
     "output_type": "stream",
     "text": [
      "frame loading (JPEG): 100%|██████████| 1/1 [00:00<00:00, 24.37it/s]\n"
     ]
    },
    {
     "name": "stdout",
     "output_type": "stream",
     "text": [
      "SAM2 inference state initialized.\n",
      "Points: [[426, 428], [310, 782]], Labels: [1, 1]\n",
      "Inference completed for the frame.\n",
      "Predicted mask successfully saved at: C:\\Users\\devanish\\Downloads\\Datasets\\UnitTesting\\Colon\\05\\PredictedMask\\00042.png\n",
      "SAM2 inference state and model reset.\n",
      "\n",
      "Processing image 44: 00043.png\n",
      "Image path: C:\\Users\\devanish\\Downloads\\Datasets\\UnitTesting\\Colon\\05\\Frames\\00043.png\n",
      "Mask path: C:\\Users\\devanish\\Downloads\\Datasets\\UnitTesting\\Colon\\05\\Masks\\00043.png\n",
      "Image loaded successfully.\n",
      "Mask loaded successfully.\n",
      "JPEG image successfully saved at: C:\\Users\\devanish\\Downloads\\Datasets\\UnitTesting\\Colon\\05\\JPEG_Frames_43\\00043.jpg\n",
      "Selected prompt coordinates: [array([562, 271], dtype=int64), array([456, 397], dtype=int64)]\n"
     ]
    },
    {
     "name": "stderr",
     "output_type": "stream",
     "text": [
      "frame loading (JPEG): 100%|██████████| 1/1 [00:00<00:00, 26.24it/s]\n"
     ]
    },
    {
     "name": "stdout",
     "output_type": "stream",
     "text": [
      "SAM2 inference state initialized.\n",
      "Points: [[271, 562], [397, 456]], Labels: [1, 1]\n",
      "Inference completed for the frame.\n",
      "Predicted mask successfully saved at: C:\\Users\\devanish\\Downloads\\Datasets\\UnitTesting\\Colon\\05\\PredictedMask\\00043.png\n",
      "SAM2 inference state and model reset.\n",
      "\n",
      "Processing image 45: 00044.png\n",
      "Image path: C:\\Users\\devanish\\Downloads\\Datasets\\UnitTesting\\Colon\\05\\Frames\\00044.png\n",
      "Mask path: C:\\Users\\devanish\\Downloads\\Datasets\\UnitTesting\\Colon\\05\\Masks\\00044.png\n",
      "Image loaded successfully.\n",
      "Mask loaded successfully.\n",
      "JPEG image successfully saved at: C:\\Users\\devanish\\Downloads\\Datasets\\UnitTesting\\Colon\\05\\JPEG_Frames_44\\00044.jpg\n",
      "Selected prompt coordinates: [array([623, 337], dtype=int64), array([621, 299], dtype=int64)]\n"
     ]
    },
    {
     "name": "stderr",
     "output_type": "stream",
     "text": [
      "frame loading (JPEG): 100%|██████████| 1/1 [00:00<00:00, 25.87it/s]\n"
     ]
    },
    {
     "name": "stdout",
     "output_type": "stream",
     "text": [
      "SAM2 inference state initialized.\n",
      "Points: [[337, 623], [299, 621]], Labels: [1, 1]\n",
      "Inference completed for the frame.\n",
      "Predicted mask successfully saved at: C:\\Users\\devanish\\Downloads\\Datasets\\UnitTesting\\Colon\\05\\PredictedMask\\00044.png\n",
      "SAM2 inference state and model reset.\n",
      "\n",
      "Processing image 46: 00045.png\n",
      "Image path: C:\\Users\\devanish\\Downloads\\Datasets\\UnitTesting\\Colon\\05\\Frames\\00045.png\n",
      "Mask path: C:\\Users\\devanish\\Downloads\\Datasets\\UnitTesting\\Colon\\05\\Masks\\00045.png\n",
      "Image loaded successfully.\n",
      "Mask loaded successfully.\n",
      "JPEG image successfully saved at: C:\\Users\\devanish\\Downloads\\Datasets\\UnitTesting\\Colon\\05\\JPEG_Frames_45\\00045.jpg\n",
      "Selected prompt coordinates: [array([207, 519], dtype=int64), array([353, 156], dtype=int64)]\n"
     ]
    },
    {
     "name": "stderr",
     "output_type": "stream",
     "text": [
      "frame loading (JPEG): 100%|██████████| 1/1 [00:00<00:00, 25.64it/s]\n"
     ]
    },
    {
     "name": "stdout",
     "output_type": "stream",
     "text": [
      "SAM2 inference state initialized.\n",
      "Points: [[519, 207], [156, 353]], Labels: [1, 1]\n",
      "Inference completed for the frame.\n",
      "Predicted mask successfully saved at: C:\\Users\\devanish\\Downloads\\Datasets\\UnitTesting\\Colon\\05\\PredictedMask\\00045.png\n",
      "SAM2 inference state and model reset.\n",
      "\n",
      "Processing image 47: 00046.png\n",
      "Image path: C:\\Users\\devanish\\Downloads\\Datasets\\UnitTesting\\Colon\\05\\Frames\\00046.png\n",
      "Mask path: C:\\Users\\devanish\\Downloads\\Datasets\\UnitTesting\\Colon\\05\\Masks\\00046.png\n",
      "Image loaded successfully.\n",
      "Mask loaded successfully.\n",
      "JPEG image successfully saved at: C:\\Users\\devanish\\Downloads\\Datasets\\UnitTesting\\Colon\\05\\JPEG_Frames_46\\00046.jpg\n",
      "Selected prompt coordinates: [array([573, 312], dtype=int64), array([436, 324], dtype=int64)]\n"
     ]
    },
    {
     "name": "stderr",
     "output_type": "stream",
     "text": [
      "frame loading (JPEG): 100%|██████████| 1/1 [00:00<00:00, 26.89it/s]\n"
     ]
    },
    {
     "name": "stdout",
     "output_type": "stream",
     "text": [
      "SAM2 inference state initialized.\n",
      "Points: [[312, 573], [324, 436]], Labels: [1, 1]\n",
      "Inference completed for the frame.\n",
      "Predicted mask successfully saved at: C:\\Users\\devanish\\Downloads\\Datasets\\UnitTesting\\Colon\\05\\PredictedMask\\00046.png\n",
      "SAM2 inference state and model reset.\n",
      "\n",
      "Processing image 48: 00047.png\n",
      "Image path: C:\\Users\\devanish\\Downloads\\Datasets\\UnitTesting\\Colon\\05\\Frames\\00047.png\n",
      "Mask path: C:\\Users\\devanish\\Downloads\\Datasets\\UnitTesting\\Colon\\05\\Masks\\00047.png\n",
      "Image loaded successfully.\n",
      "Mask loaded successfully.\n",
      "JPEG image successfully saved at: C:\\Users\\devanish\\Downloads\\Datasets\\UnitTesting\\Colon\\05\\JPEG_Frames_47\\00047.jpg\n",
      "Selected prompt coordinates: [array([415, 322], dtype=int64), array([572, 168], dtype=int64)]\n"
     ]
    },
    {
     "name": "stderr",
     "output_type": "stream",
     "text": [
      "frame loading (JPEG): 100%|██████████| 1/1 [00:00<00:00, 23.01it/s]\n"
     ]
    },
    {
     "name": "stdout",
     "output_type": "stream",
     "text": [
      "SAM2 inference state initialized.\n",
      "Points: [[322, 415], [168, 572]], Labels: [1, 1]\n",
      "Inference completed for the frame.\n",
      "Predicted mask successfully saved at: C:\\Users\\devanish\\Downloads\\Datasets\\UnitTesting\\Colon\\05\\PredictedMask\\00047.png\n",
      "SAM2 inference state and model reset.\n",
      "\n",
      "Processing image 49: 00048.png\n",
      "Image path: C:\\Users\\devanish\\Downloads\\Datasets\\UnitTesting\\Colon\\05\\Frames\\00048.png\n",
      "Mask path: C:\\Users\\devanish\\Downloads\\Datasets\\UnitTesting\\Colon\\05\\Masks\\00048.png\n",
      "Image loaded successfully.\n",
      "Mask loaded successfully.\n",
      "JPEG image successfully saved at: C:\\Users\\devanish\\Downloads\\Datasets\\UnitTesting\\Colon\\05\\JPEG_Frames_48\\00048.jpg\n",
      "Selected prompt coordinates: [array([234, 512], dtype=int64), array([456, 116], dtype=int64)]\n"
     ]
    },
    {
     "name": "stderr",
     "output_type": "stream",
     "text": [
      "frame loading (JPEG): 100%|██████████| 1/1 [00:00<00:00, 25.61it/s]\n"
     ]
    },
    {
     "name": "stdout",
     "output_type": "stream",
     "text": [
      "SAM2 inference state initialized.\n",
      "Points: [[512, 234], [116, 456]], Labels: [1, 1]\n",
      "Inference completed for the frame.\n",
      "Predicted mask successfully saved at: C:\\Users\\devanish\\Downloads\\Datasets\\UnitTesting\\Colon\\05\\PredictedMask\\00048.png\n",
      "SAM2 inference state and model reset.\n",
      "\n",
      "Processing image 50: 00049.png\n",
      "Image path: C:\\Users\\devanish\\Downloads\\Datasets\\UnitTesting\\Colon\\05\\Frames\\00049.png\n",
      "Mask path: C:\\Users\\devanish\\Downloads\\Datasets\\UnitTesting\\Colon\\05\\Masks\\00049.png\n",
      "Image loaded successfully.\n",
      "Mask loaded successfully.\n",
      "JPEG image successfully saved at: C:\\Users\\devanish\\Downloads\\Datasets\\UnitTesting\\Colon\\05\\JPEG_Frames_49\\00049.jpg\n",
      "Selected prompt coordinates: [array([440, 566], dtype=int64), array([318, 451], dtype=int64)]\n"
     ]
    },
    {
     "name": "stderr",
     "output_type": "stream",
     "text": [
      "frame loading (JPEG): 100%|██████████| 1/1 [00:00<00:00, 28.11it/s]\n"
     ]
    },
    {
     "name": "stdout",
     "output_type": "stream",
     "text": [
      "SAM2 inference state initialized.\n",
      "Points: [[566, 440], [451, 318]], Labels: [1, 1]\n",
      "Inference completed for the frame.\n",
      "Predicted mask successfully saved at: C:\\Users\\devanish\\Downloads\\Datasets\\UnitTesting\\Colon\\05\\PredictedMask\\00049.png\n",
      "SAM2 inference state and model reset.\n",
      "\n",
      "Processing image 51: 00050.png\n",
      "Image path: C:\\Users\\devanish\\Downloads\\Datasets\\UnitTesting\\Colon\\05\\Frames\\00050.png\n",
      "Mask path: C:\\Users\\devanish\\Downloads\\Datasets\\UnitTesting\\Colon\\05\\Masks\\00050.png\n",
      "Image loaded successfully.\n",
      "Mask loaded successfully.\n",
      "JPEG image successfully saved at: C:\\Users\\devanish\\Downloads\\Datasets\\UnitTesting\\Colon\\05\\JPEG_Frames_50\\00050.jpg\n",
      "Selected prompt coordinates: [array([522, 328], dtype=int64), array([707, 469], dtype=int64)]\n"
     ]
    },
    {
     "name": "stderr",
     "output_type": "stream",
     "text": [
      "frame loading (JPEG): 100%|██████████| 1/1 [00:00<00:00, 26.12it/s]\n"
     ]
    },
    {
     "name": "stdout",
     "output_type": "stream",
     "text": [
      "SAM2 inference state initialized.\n",
      "Points: [[328, 522], [469, 707]], Labels: [1, 1]\n",
      "Inference completed for the frame.\n",
      "Predicted mask successfully saved at: C:\\Users\\devanish\\Downloads\\Datasets\\UnitTesting\\Colon\\05\\PredictedMask\\00050.png\n",
      "SAM2 inference state and model reset.\n",
      "\n",
      "Processing image 52: 00051.png\n",
      "Image path: C:\\Users\\devanish\\Downloads\\Datasets\\UnitTesting\\Colon\\05\\Frames\\00051.png\n",
      "Mask path: C:\\Users\\devanish\\Downloads\\Datasets\\UnitTesting\\Colon\\05\\Masks\\00051.png\n",
      "Image loaded successfully.\n",
      "Mask loaded successfully.\n",
      "JPEG image successfully saved at: C:\\Users\\devanish\\Downloads\\Datasets\\UnitTesting\\Colon\\05\\JPEG_Frames_51\\00051.jpg\n",
      "Selected prompt coordinates: [array([217, 364], dtype=int64), array([158, 164], dtype=int64)]\n"
     ]
    },
    {
     "name": "stderr",
     "output_type": "stream",
     "text": [
      "frame loading (JPEG): 100%|██████████| 1/1 [00:00<00:00, 26.37it/s]\n"
     ]
    },
    {
     "name": "stdout",
     "output_type": "stream",
     "text": [
      "SAM2 inference state initialized.\n",
      "Points: [[364, 217], [164, 158]], Labels: [1, 1]\n",
      "Inference completed for the frame.\n",
      "Predicted mask successfully saved at: C:\\Users\\devanish\\Downloads\\Datasets\\UnitTesting\\Colon\\05\\PredictedMask\\00051.png\n",
      "SAM2 inference state and model reset.\n",
      "\n",
      "Processing image 53: 00052.png\n",
      "Image path: C:\\Users\\devanish\\Downloads\\Datasets\\UnitTesting\\Colon\\05\\Frames\\00052.png\n",
      "Mask path: C:\\Users\\devanish\\Downloads\\Datasets\\UnitTesting\\Colon\\05\\Masks\\00052.png\n",
      "Image loaded successfully.\n",
      "Mask loaded successfully.\n",
      "JPEG image successfully saved at: C:\\Users\\devanish\\Downloads\\Datasets\\UnitTesting\\Colon\\05\\JPEG_Frames_52\\00052.jpg\n",
      "Selected prompt coordinates: [array([336, 665], dtype=int64), array([942, 184], dtype=int64)]\n"
     ]
    },
    {
     "name": "stderr",
     "output_type": "stream",
     "text": [
      "frame loading (JPEG): 100%|██████████| 1/1 [00:00<00:00, 24.53it/s]\n"
     ]
    },
    {
     "name": "stdout",
     "output_type": "stream",
     "text": [
      "SAM2 inference state initialized.\n",
      "Points: [[665, 336], [184, 942]], Labels: [1, 1]\n",
      "Inference completed for the frame.\n",
      "Predicted mask successfully saved at: C:\\Users\\devanish\\Downloads\\Datasets\\UnitTesting\\Colon\\05\\PredictedMask\\00052.png\n",
      "SAM2 inference state and model reset.\n",
      "\n",
      "Processing image 54: 00053.png\n",
      "Image path: C:\\Users\\devanish\\Downloads\\Datasets\\UnitTesting\\Colon\\05\\Frames\\00053.png\n",
      "Mask path: C:\\Users\\devanish\\Downloads\\Datasets\\UnitTesting\\Colon\\05\\Masks\\00053.png\n",
      "Image loaded successfully.\n",
      "Mask loaded successfully.\n",
      "JPEG image successfully saved at: C:\\Users\\devanish\\Downloads\\Datasets\\UnitTesting\\Colon\\05\\JPEG_Frames_53\\00053.jpg\n",
      "Selected prompt coordinates: [array([635, 576], dtype=int64), array([579, 501], dtype=int64)]\n"
     ]
    },
    {
     "name": "stderr",
     "output_type": "stream",
     "text": [
      "frame loading (JPEG): 100%|██████████| 1/1 [00:00<00:00, 24.65it/s]\n"
     ]
    },
    {
     "name": "stdout",
     "output_type": "stream",
     "text": [
      "SAM2 inference state initialized.\n",
      "Points: [[576, 635], [501, 579]], Labels: [1, 1]\n",
      "Inference completed for the frame.\n",
      "Predicted mask successfully saved at: C:\\Users\\devanish\\Downloads\\Datasets\\UnitTesting\\Colon\\05\\PredictedMask\\00053.png\n",
      "SAM2 inference state and model reset.\n",
      "\n",
      "Processing image 55: 00054.png\n",
      "Image path: C:\\Users\\devanish\\Downloads\\Datasets\\UnitTesting\\Colon\\05\\Frames\\00054.png\n",
      "Mask path: C:\\Users\\devanish\\Downloads\\Datasets\\UnitTesting\\Colon\\05\\Masks\\00054.png\n",
      "Image loaded successfully.\n",
      "Mask loaded successfully.\n",
      "JPEG image successfully saved at: C:\\Users\\devanish\\Downloads\\Datasets\\UnitTesting\\Colon\\05\\JPEG_Frames_54\\00054.jpg\n",
      "Selected prompt coordinates: [array([748, 296], dtype=int64), array([937,  86], dtype=int64)]\n"
     ]
    },
    {
     "name": "stderr",
     "output_type": "stream",
     "text": [
      "frame loading (JPEG): 100%|██████████| 1/1 [00:00<00:00, 24.72it/s]\n"
     ]
    },
    {
     "name": "stdout",
     "output_type": "stream",
     "text": [
      "SAM2 inference state initialized.\n",
      "Points: [[296, 748], [86, 937]], Labels: [1, 1]\n",
      "Inference completed for the frame.\n",
      "Predicted mask successfully saved at: C:\\Users\\devanish\\Downloads\\Datasets\\UnitTesting\\Colon\\05\\PredictedMask\\00054.png\n",
      "SAM2 inference state and model reset.\n",
      "\n",
      "Processing image 56: 00055.png\n",
      "Image path: C:\\Users\\devanish\\Downloads\\Datasets\\UnitTesting\\Colon\\05\\Frames\\00055.png\n",
      "Mask path: C:\\Users\\devanish\\Downloads\\Datasets\\UnitTesting\\Colon\\05\\Masks\\00055.png\n",
      "Image loaded successfully.\n",
      "Mask loaded successfully.\n",
      "JPEG image successfully saved at: C:\\Users\\devanish\\Downloads\\Datasets\\UnitTesting\\Colon\\05\\JPEG_Frames_55\\00055.jpg\n",
      "Selected prompt coordinates: [array([911, 183], dtype=int64), array([755, 184], dtype=int64)]\n"
     ]
    },
    {
     "name": "stderr",
     "output_type": "stream",
     "text": [
      "frame loading (JPEG): 100%|██████████| 1/1 [00:00<00:00, 10.76it/s]\n"
     ]
    },
    {
     "name": "stdout",
     "output_type": "stream",
     "text": [
      "SAM2 inference state initialized.\n",
      "Points: [[183, 911], [184, 755]], Labels: [1, 1]\n",
      "Inference completed for the frame.\n",
      "Predicted mask successfully saved at: C:\\Users\\devanish\\Downloads\\Datasets\\UnitTesting\\Colon\\05\\PredictedMask\\00055.png\n",
      "SAM2 inference state and model reset.\n",
      "\n",
      "Processing image 57: 00056.png\n",
      "Image path: C:\\Users\\devanish\\Downloads\\Datasets\\UnitTesting\\Colon\\05\\Frames\\00056.png\n",
      "Mask path: C:\\Users\\devanish\\Downloads\\Datasets\\UnitTesting\\Colon\\05\\Masks\\00056.png\n",
      "Image loaded successfully.\n",
      "Mask loaded successfully.\n",
      "JPEG image successfully saved at: C:\\Users\\devanish\\Downloads\\Datasets\\UnitTesting\\Colon\\05\\JPEG_Frames_56\\00056.jpg\n",
      "Selected prompt coordinates: [array([711, 727], dtype=int64), array([952, 507], dtype=int64)]\n"
     ]
    },
    {
     "name": "stderr",
     "output_type": "stream",
     "text": [
      "frame loading (JPEG): 100%|██████████| 1/1 [00:00<00:00, 24.19it/s]\n"
     ]
    },
    {
     "name": "stdout",
     "output_type": "stream",
     "text": [
      "SAM2 inference state initialized.\n",
      "Points: [[727, 711], [507, 952]], Labels: [1, 1]\n",
      "Inference completed for the frame.\n",
      "Predicted mask successfully saved at: C:\\Users\\devanish\\Downloads\\Datasets\\UnitTesting\\Colon\\05\\PredictedMask\\00056.png\n",
      "SAM2 inference state and model reset.\n",
      "\n",
      "Processing image 58: 00057.png\n",
      "Image path: C:\\Users\\devanish\\Downloads\\Datasets\\UnitTesting\\Colon\\05\\Frames\\00057.png\n",
      "Mask path: C:\\Users\\devanish\\Downloads\\Datasets\\UnitTesting\\Colon\\05\\Masks\\00057.png\n",
      "Image loaded successfully.\n",
      "Mask loaded successfully.\n",
      "JPEG image successfully saved at: C:\\Users\\devanish\\Downloads\\Datasets\\UnitTesting\\Colon\\05\\JPEG_Frames_57\\00057.jpg\n",
      "Selected prompt coordinates: [array([923, 468], dtype=int64), array([749, 461], dtype=int64)]\n"
     ]
    },
    {
     "name": "stderr",
     "output_type": "stream",
     "text": [
      "frame loading (JPEG): 100%|██████████| 1/1 [00:00<00:00, 25.13it/s]\n"
     ]
    },
    {
     "name": "stdout",
     "output_type": "stream",
     "text": [
      "SAM2 inference state initialized.\n",
      "Points: [[468, 923], [461, 749]], Labels: [1, 1]\n",
      "Inference completed for the frame.\n",
      "Predicted mask successfully saved at: C:\\Users\\devanish\\Downloads\\Datasets\\UnitTesting\\Colon\\05\\PredictedMask\\00057.png\n",
      "SAM2 inference state and model reset.\n",
      "Inference complete for all images in the subfolder.\n"
     ]
    }
   ],
   "source": [
    "import os\n",
    "import cv2\n",
    "import numpy as np\n",
    "import random\n",
    "import torch\n",
    "import gc\n",
    "from sam2.build_sam import build_sam2_video_predictor\n",
    "\n",
    "# Dynamically set the device based on CPU usage only\n",
    "device = \"cpu\"\n",
    "print(f\"Device set to: {device}\")\n",
    "\n",
    "# Define model configuration and checkpoint\n",
    "model_cfg = r\"C:\\Users\\devanish\\Downloads\\SAM2\\ReactDocker\\sam2_hiera_l.yaml\"\n",
    "checkpoint_path = r\"C:\\Users\\devanish\\Downloads\\SAM2\\sam2_hiera_large.pt\"\n",
    "\n",
    "# Define the main colon folder path\n",
    "colon_folder_path = r\"C:\\Users\\devanish\\Downloads\\Datasets\\UnitTesting\\Colon\"\n",
    "print(f\"Colon folder path: {colon_folder_path}\")\n",
    "\n",
    "# Process only the first subfolder and all images within it\n",
    "subfolder_name = os.listdir(colon_folder_path)[0]\n",
    "subfolder_path = os.path.join(colon_folder_path, subfolder_name)\n",
    "print(f\"Processing subfolder: {subfolder_name}\")\n",
    "\n",
    "frames_folder = os.path.join(subfolder_path, 'Frames')\n",
    "masks_folder = os.path.join(subfolder_path, 'Masks')\n",
    "predicted_masks_folder = os.path.join(subfolder_path, 'PredictedMask')\n",
    "os.makedirs(predicted_masks_folder, exist_ok=True)\n",
    "print(f\"Predicted masks folder created at: {predicted_masks_folder}\")\n",
    "\n",
    "# Process all images in the frames folder\n",
    "image_names = sorted(os.listdir(frames_folder))\n",
    "for idx, image_name in enumerate(image_names):\n",
    "    print(f\"\\nProcessing image {idx + 1}: {image_name}\")\n",
    "    \n",
    "    if image_name.endswith('.png'):\n",
    "        image_path = os.path.join(frames_folder, image_name)\n",
    "        mask_path = os.path.join(masks_folder, image_name)\n",
    "        print(f\"Image path: {image_path}\")\n",
    "        print(f\"Mask path: {mask_path}\")\n",
    "\n",
    "        # Load the image and mask\n",
    "        image = cv2.imread(image_path)\n",
    "        if image is None:\n",
    "            print(f\"Error: Failed to load image at {image_path}\")\n",
    "            continue\n",
    "        print(\"Image loaded successfully.\")\n",
    "\n",
    "        mask = cv2.imread(mask_path, cv2.IMREAD_GRAYSCALE)\n",
    "        if mask is None:\n",
    "            print(f\"Error: Failed to load mask at {mask_path}\")\n",
    "            continue\n",
    "        print(\"Mask loaded successfully.\")\n",
    "\n",
    "        # Create a temporary JPEG folder for each image to prevent residual data\n",
    "        jpeg_folder = os.path.join(subfolder_path, f\"JPEG_Frames_{idx}\")\n",
    "        os.makedirs(jpeg_folder, exist_ok=True)\n",
    "\n",
    "        # Save the image as a JPEG in the temporary JPEG folder\n",
    "        jpeg_image_path = os.path.join(jpeg_folder, f\"{idx:05d}.jpg\")\n",
    "        success = cv2.imwrite(jpeg_image_path, image)\n",
    "        if not success:\n",
    "            print(f\"Error: Failed to save JPEG image at {jpeg_image_path}\")\n",
    "            continue\n",
    "        print(f\"JPEG image successfully saved at: {jpeg_image_path}\")\n",
    "\n",
    "        # Select two random points with value 255 from the mask as prompt coordinates\n",
    "        coords = np.column_stack(np.where(mask == 255))\n",
    "        if coords.size < 2:\n",
    "            print(f\"Insufficient valid prompt points found for mask: {image_name}\")\n",
    "            continue\n",
    "        prompt_coords = random.sample(list(coords), 2)\n",
    "        print(f\"Selected prompt coordinates: {prompt_coords}\")\n",
    "\n",
    "        # Instantiate the SAM2 model to ensure a fresh inference state\n",
    "        sam_model = build_sam2_video_predictor(\n",
    "            config_file=model_cfg,\n",
    "            ckpt_path=checkpoint_path,\n",
    "            device=device\n",
    "        )\n",
    "        inference_state = sam_model.init_state(jpeg_folder)\n",
    "        print(\"SAM2 inference state initialized.\")\n",
    "\n",
    "        # Add the two prompts and run inference, getting the output mask logits\n",
    "        obj_id = idx + 1  # Unique ID for each object (image)\n",
    "        frame_idx = 0\n",
    "        points = [[coord[1], coord[0]] for coord in prompt_coords]  # Convert Y, X to X, Y\n",
    "        labels = [1, 1]  # Set labels to 1 for both points\n",
    "        print(f\"Points: {points}, Labels: {labels}\")\n",
    "\n",
    "        # Run add_new_points_or_box and get the out_mask_logits\n",
    "        _, out_obj_ids, out_mask_logits = sam_model.add_new_points_or_box(\n",
    "            inference_state=inference_state,\n",
    "            frame_idx=frame_idx,\n",
    "            obj_id=obj_id,\n",
    "            points=points,\n",
    "            labels=labels,\n",
    "        )\n",
    "        print(\"Inference completed for the frame.\")\n",
    "\n",
    "        # Check and save the output mask logits\n",
    "        if out_mask_logits is not None:\n",
    "            predicted_mask = (out_mask_logits[0].squeeze().cpu().numpy() > 0.5).astype(np.uint8) * 255\n",
    "            predicted_mask_path = os.path.join(predicted_masks_folder, f\"{idx:05d}.png\")\n",
    "            \n",
    "            # Convert to BGR if necessary for saving\n",
    "            predicted_mask_bgr = cv2.cvtColor(predicted_mask, cv2.COLOR_GRAY2BGR)\n",
    "            success = cv2.imwrite(predicted_mask_path, predicted_mask_bgr)\n",
    "            if success:\n",
    "                print(f\"Predicted mask successfully saved at: {predicted_mask_path}\")\n",
    "            else:\n",
    "                print(\"Error: cv2.imwrite failed to save the predicted mask.\")\n",
    "\n",
    "        # Clean up by resetting SAM inference state and deleting the JPEG folder\n",
    "        sam_model.reset_state(inference_state)\n",
    "        del sam_model  # Explicitly delete the model\n",
    "        gc.collect()  # Run garbage collection to free memory\n",
    "        print(\"SAM2 inference state and model reset.\")\n",
    "\n",
    "        # Remove temporary JPEG folder for the current image to ensure clean state\n",
    "        for filename in os.listdir(jpeg_folder):\n",
    "            file_path = os.path.join(jpeg_folder, filename)\n",
    "            os.remove(file_path)\n",
    "        os.rmdir(jpeg_folder)  # Delete the folder itself\n",
    "\n",
    "print(\"Inference complete for all images in the subfolder.\")\n"
   ]
  },
  {
   "cell_type": "markdown",
   "metadata": {},
   "source": [
    "## Three Random points over single organ (50 samples)"
   ]
  },
  {
   "cell_type": "code",
   "execution_count": 3,
   "metadata": {},
   "outputs": [
    {
     "name": "stdout",
     "output_type": "stream",
     "text": [
      "Device set to: cpu\n",
      "Colon folder path: C:\\Users\\devanish\\Downloads\\Datasets\\UnitTesting\\Colon\n",
      "Processing subfolder: 05\n",
      "Predicted masks folder created at: C:\\Users\\devanish\\Downloads\\Datasets\\UnitTesting\\Colon\\05\\PredictedMask\n",
      "\n",
      "Processing image 1: 00000.png\n",
      "Image path: C:\\Users\\devanish\\Downloads\\Datasets\\UnitTesting\\Colon\\05\\Frames\\00000.png\n",
      "Mask path: C:\\Users\\devanish\\Downloads\\Datasets\\UnitTesting\\Colon\\05\\Masks\\00000.png\n",
      "Image loaded successfully.\n",
      "Mask loaded successfully.\n",
      "JPEG image successfully saved at: C:\\Users\\devanish\\Downloads\\Datasets\\UnitTesting\\Colon\\05\\JPEG_Frames_0\\00000.jpg\n",
      "Selected prompt coordinates: [array([ 285, 1006], dtype=int64), array([ 322, 1225], dtype=int64), array([ 400, 1164], dtype=int64)]\n"
     ]
    },
    {
     "name": "stderr",
     "output_type": "stream",
     "text": [
      "frame loading (JPEG): 100%|██████████| 1/1 [00:00<00:00, 22.73it/s]\n"
     ]
    },
    {
     "name": "stdout",
     "output_type": "stream",
     "text": [
      "SAM2 inference state initialized.\n",
      "Points: [[1006, 285], [1225, 322], [1164, 400]], Labels: [1, 1, 1]\n",
      "Inference completed for the frame.\n",
      "Predicted mask successfully saved at: C:\\Users\\devanish\\Downloads\\Datasets\\UnitTesting\\Colon\\05\\PredictedMask\\00000.png\n",
      "SAM2 inference state and model reset.\n",
      "\n",
      "Processing image 2: 00001.png\n",
      "Image path: C:\\Users\\devanish\\Downloads\\Datasets\\UnitTesting\\Colon\\05\\Frames\\00001.png\n",
      "Mask path: C:\\Users\\devanish\\Downloads\\Datasets\\UnitTesting\\Colon\\05\\Masks\\00001.png\n",
      "Image loaded successfully.\n",
      "Mask loaded successfully.\n",
      "JPEG image successfully saved at: C:\\Users\\devanish\\Downloads\\Datasets\\UnitTesting\\Colon\\05\\JPEG_Frames_1\\00001.jpg\n",
      "Selected prompt coordinates: [array([369, 124], dtype=int64), array([112, 721], dtype=int64), array([385, 283], dtype=int64)]\n"
     ]
    },
    {
     "name": "stderr",
     "output_type": "stream",
     "text": [
      "frame loading (JPEG): 100%|██████████| 1/1 [00:00<00:00,  2.86it/s]\n"
     ]
    },
    {
     "name": "stdout",
     "output_type": "stream",
     "text": [
      "SAM2 inference state initialized.\n",
      "Points: [[124, 369], [721, 112], [283, 385]], Labels: [1, 1, 1]\n",
      "Inference completed for the frame.\n",
      "Predicted mask successfully saved at: C:\\Users\\devanish\\Downloads\\Datasets\\UnitTesting\\Colon\\05\\PredictedMask\\00001.png\n",
      "SAM2 inference state and model reset.\n",
      "\n",
      "Processing image 3: 00002.png\n",
      "Image path: C:\\Users\\devanish\\Downloads\\Datasets\\UnitTesting\\Colon\\05\\Frames\\00002.png\n",
      "Mask path: C:\\Users\\devanish\\Downloads\\Datasets\\UnitTesting\\Colon\\05\\Masks\\00002.png\n",
      "Image loaded successfully.\n",
      "Mask loaded successfully.\n",
      "JPEG image successfully saved at: C:\\Users\\devanish\\Downloads\\Datasets\\UnitTesting\\Colon\\05\\JPEG_Frames_2\\00002.jpg\n",
      "Selected prompt coordinates: [array([186, 395], dtype=int64), array([365, 549], dtype=int64), array([293, 473], dtype=int64)]\n"
     ]
    },
    {
     "name": "stderr",
     "output_type": "stream",
     "text": [
      "frame loading (JPEG): 100%|██████████| 1/1 [00:00<00:00, 18.87it/s]\n"
     ]
    },
    {
     "name": "stdout",
     "output_type": "stream",
     "text": [
      "SAM2 inference state initialized.\n",
      "Points: [[395, 186], [549, 365], [473, 293]], Labels: [1, 1, 1]\n",
      "Inference completed for the frame.\n",
      "Predicted mask successfully saved at: C:\\Users\\devanish\\Downloads\\Datasets\\UnitTesting\\Colon\\05\\PredictedMask\\00002.png\n",
      "SAM2 inference state and model reset.\n",
      "\n",
      "Processing image 4: 00003.png\n",
      "Image path: C:\\Users\\devanish\\Downloads\\Datasets\\UnitTesting\\Colon\\05\\Frames\\00003.png\n",
      "Mask path: C:\\Users\\devanish\\Downloads\\Datasets\\UnitTesting\\Colon\\05\\Masks\\00003.png\n",
      "Image loaded successfully.\n",
      "Mask loaded successfully.\n",
      "JPEG image successfully saved at: C:\\Users\\devanish\\Downloads\\Datasets\\UnitTesting\\Colon\\05\\JPEG_Frames_3\\00003.jpg\n",
      "Selected prompt coordinates: [array([330, 566], dtype=int64), array([17, 17], dtype=int64), array([387, 304], dtype=int64)]\n"
     ]
    },
    {
     "name": "stderr",
     "output_type": "stream",
     "text": [
      "frame loading (JPEG): 100%|██████████| 1/1 [00:00<00:00, 12.35it/s]\n"
     ]
    },
    {
     "name": "stdout",
     "output_type": "stream",
     "text": [
      "SAM2 inference state initialized.\n",
      "Points: [[566, 330], [17, 17], [304, 387]], Labels: [1, 1, 1]\n",
      "Inference completed for the frame.\n",
      "Predicted mask successfully saved at: C:\\Users\\devanish\\Downloads\\Datasets\\UnitTesting\\Colon\\05\\PredictedMask\\00003.png\n",
      "SAM2 inference state and model reset.\n",
      "\n",
      "Processing image 5: 00004.png\n",
      "Image path: C:\\Users\\devanish\\Downloads\\Datasets\\UnitTesting\\Colon\\05\\Frames\\00004.png\n",
      "Mask path: C:\\Users\\devanish\\Downloads\\Datasets\\UnitTesting\\Colon\\05\\Masks\\00004.png\n",
      "Image loaded successfully.\n",
      "Mask loaded successfully.\n",
      "JPEG image successfully saved at: C:\\Users\\devanish\\Downloads\\Datasets\\UnitTesting\\Colon\\05\\JPEG_Frames_4\\00004.jpg\n",
      "Selected prompt coordinates: [array([ 93, 280], dtype=int64), array([239, 596], dtype=int64), array([201, 415], dtype=int64)]\n"
     ]
    },
    {
     "name": "stderr",
     "output_type": "stream",
     "text": [
      "frame loading (JPEG): 100%|██████████| 1/1 [00:00<00:00, 24.39it/s]\n"
     ]
    },
    {
     "name": "stdout",
     "output_type": "stream",
     "text": [
      "SAM2 inference state initialized.\n",
      "Points: [[280, 93], [596, 239], [415, 201]], Labels: [1, 1, 1]\n",
      "Inference completed for the frame.\n",
      "Predicted mask successfully saved at: C:\\Users\\devanish\\Downloads\\Datasets\\UnitTesting\\Colon\\05\\PredictedMask\\00004.png\n",
      "SAM2 inference state and model reset.\n",
      "\n",
      "Processing image 6: 00005.png\n",
      "Image path: C:\\Users\\devanish\\Downloads\\Datasets\\UnitTesting\\Colon\\05\\Frames\\00005.png\n",
      "Mask path: C:\\Users\\devanish\\Downloads\\Datasets\\UnitTesting\\Colon\\05\\Masks\\00005.png\n",
      "Image loaded successfully.\n",
      "Mask loaded successfully.\n",
      "JPEG image successfully saved at: C:\\Users\\devanish\\Downloads\\Datasets\\UnitTesting\\Colon\\05\\JPEG_Frames_5\\00005.jpg\n",
      "Selected prompt coordinates: [array([285, 284], dtype=int64), array([410, 917], dtype=int64), array([292,  90], dtype=int64)]\n"
     ]
    },
    {
     "name": "stderr",
     "output_type": "stream",
     "text": [
      "frame loading (JPEG): 100%|██████████| 1/1 [00:00<00:00, 23.26it/s]\n"
     ]
    },
    {
     "name": "stdout",
     "output_type": "stream",
     "text": [
      "SAM2 inference state initialized.\n",
      "Points: [[284, 285], [917, 410], [90, 292]], Labels: [1, 1, 1]\n",
      "Inference completed for the frame.\n",
      "Predicted mask successfully saved at: C:\\Users\\devanish\\Downloads\\Datasets\\UnitTesting\\Colon\\05\\PredictedMask\\00005.png\n",
      "SAM2 inference state and model reset.\n",
      "\n",
      "Processing image 7: 00006.png\n",
      "Image path: C:\\Users\\devanish\\Downloads\\Datasets\\UnitTesting\\Colon\\05\\Frames\\00006.png\n",
      "Mask path: C:\\Users\\devanish\\Downloads\\Datasets\\UnitTesting\\Colon\\05\\Masks\\00006.png\n",
      "Image loaded successfully.\n",
      "Mask loaded successfully.\n",
      "JPEG image successfully saved at: C:\\Users\\devanish\\Downloads\\Datasets\\UnitTesting\\Colon\\05\\JPEG_Frames_6\\00006.jpg\n",
      "Selected prompt coordinates: [array([385,  61], dtype=int64), array([215, 184], dtype=int64), array([205, 327], dtype=int64)]\n"
     ]
    },
    {
     "name": "stderr",
     "output_type": "stream",
     "text": [
      "frame loading (JPEG): 100%|██████████| 1/1 [00:00<00:00, 23.81it/s]\n"
     ]
    },
    {
     "name": "stdout",
     "output_type": "stream",
     "text": [
      "SAM2 inference state initialized.\n",
      "Points: [[61, 385], [184, 215], [327, 205]], Labels: [1, 1, 1]\n",
      "Inference completed for the frame.\n",
      "Predicted mask successfully saved at: C:\\Users\\devanish\\Downloads\\Datasets\\UnitTesting\\Colon\\05\\PredictedMask\\00006.png\n",
      "SAM2 inference state and model reset.\n",
      "\n",
      "Processing image 8: 00007.png\n",
      "Image path: C:\\Users\\devanish\\Downloads\\Datasets\\UnitTesting\\Colon\\05\\Frames\\00007.png\n",
      "Mask path: C:\\Users\\devanish\\Downloads\\Datasets\\UnitTesting\\Colon\\05\\Masks\\00007.png\n",
      "Image loaded successfully.\n",
      "Mask loaded successfully.\n",
      "JPEG image successfully saved at: C:\\Users\\devanish\\Downloads\\Datasets\\UnitTesting\\Colon\\05\\JPEG_Frames_7\\00007.jpg\n",
      "Selected prompt coordinates: [array([105, 587], dtype=int64), array([194, 630], dtype=int64), array([ 22, 695], dtype=int64)]\n"
     ]
    },
    {
     "name": "stderr",
     "output_type": "stream",
     "text": [
      "frame loading (JPEG): 100%|██████████| 1/1 [00:00<00:00, 24.39it/s]\n"
     ]
    },
    {
     "name": "stdout",
     "output_type": "stream",
     "text": [
      "SAM2 inference state initialized.\n",
      "Points: [[587, 105], [630, 194], [695, 22]], Labels: [1, 1, 1]\n",
      "Inference completed for the frame.\n",
      "Predicted mask successfully saved at: C:\\Users\\devanish\\Downloads\\Datasets\\UnitTesting\\Colon\\05\\PredictedMask\\00007.png\n",
      "SAM2 inference state and model reset.\n",
      "\n",
      "Processing image 9: 00008.png\n",
      "Image path: C:\\Users\\devanish\\Downloads\\Datasets\\UnitTesting\\Colon\\05\\Frames\\00008.png\n",
      "Mask path: C:\\Users\\devanish\\Downloads\\Datasets\\UnitTesting\\Colon\\05\\Masks\\00008.png\n",
      "Image loaded successfully.\n",
      "Mask loaded successfully.\n",
      "JPEG image successfully saved at: C:\\Users\\devanish\\Downloads\\Datasets\\UnitTesting\\Colon\\05\\JPEG_Frames_8\\00008.jpg\n",
      "Selected prompt coordinates: [array([352, 152], dtype=int64), array([246, 258], dtype=int64), array([237, 109], dtype=int64)]\n"
     ]
    },
    {
     "name": "stderr",
     "output_type": "stream",
     "text": [
      "frame loading (JPEG): 100%|██████████| 1/1 [00:00<00:00, 20.83it/s]\n"
     ]
    },
    {
     "name": "stdout",
     "output_type": "stream",
     "text": [
      "SAM2 inference state initialized.\n",
      "Points: [[152, 352], [258, 246], [109, 237]], Labels: [1, 1, 1]\n",
      "Inference completed for the frame.\n",
      "Predicted mask successfully saved at: C:\\Users\\devanish\\Downloads\\Datasets\\UnitTesting\\Colon\\05\\PredictedMask\\00008.png\n",
      "SAM2 inference state and model reset.\n",
      "\n",
      "Processing image 10: 00009.png\n",
      "Image path: C:\\Users\\devanish\\Downloads\\Datasets\\UnitTesting\\Colon\\05\\Frames\\00009.png\n",
      "Mask path: C:\\Users\\devanish\\Downloads\\Datasets\\UnitTesting\\Colon\\05\\Masks\\00009.png\n",
      "Image loaded successfully.\n",
      "Mask loaded successfully.\n",
      "JPEG image successfully saved at: C:\\Users\\devanish\\Downloads\\Datasets\\UnitTesting\\Colon\\05\\JPEG_Frames_9\\00009.jpg\n",
      "Selected prompt coordinates: [array([187, 432], dtype=int64), array([163, 360], dtype=int64), array([231, 356], dtype=int64)]\n"
     ]
    },
    {
     "name": "stderr",
     "output_type": "stream",
     "text": [
      "frame loading (JPEG): 100%|██████████| 1/1 [00:00<00:00, 23.81it/s]\n"
     ]
    },
    {
     "name": "stdout",
     "output_type": "stream",
     "text": [
      "SAM2 inference state initialized.\n",
      "Points: [[432, 187], [360, 163], [356, 231]], Labels: [1, 1, 1]\n",
      "Inference completed for the frame.\n",
      "Predicted mask successfully saved at: C:\\Users\\devanish\\Downloads\\Datasets\\UnitTesting\\Colon\\05\\PredictedMask\\00009.png\n",
      "SAM2 inference state and model reset.\n",
      "\n",
      "Processing image 11: 00010.png\n",
      "Image path: C:\\Users\\devanish\\Downloads\\Datasets\\UnitTesting\\Colon\\05\\Frames\\00010.png\n",
      "Mask path: C:\\Users\\devanish\\Downloads\\Datasets\\UnitTesting\\Colon\\05\\Masks\\00010.png\n",
      "Image loaded successfully.\n",
      "Mask loaded successfully.\n",
      "JPEG image successfully saved at: C:\\Users\\devanish\\Downloads\\Datasets\\UnitTesting\\Colon\\05\\JPEG_Frames_10\\00010.jpg\n",
      "Selected prompt coordinates: [array([944,  15], dtype=int64), array([840, 601], dtype=int64), array([733,  56], dtype=int64)]\n"
     ]
    },
    {
     "name": "stderr",
     "output_type": "stream",
     "text": [
      "frame loading (JPEG): 100%|██████████| 1/1 [00:00<00:00, 22.73it/s]\n"
     ]
    },
    {
     "name": "stdout",
     "output_type": "stream",
     "text": [
      "SAM2 inference state initialized.\n",
      "Points: [[15, 944], [601, 840], [56, 733]], Labels: [1, 1, 1]\n",
      "Inference completed for the frame.\n",
      "Predicted mask successfully saved at: C:\\Users\\devanish\\Downloads\\Datasets\\UnitTesting\\Colon\\05\\PredictedMask\\00010.png\n",
      "SAM2 inference state and model reset.\n",
      "\n",
      "Processing image 12: 00011.png\n",
      "Image path: C:\\Users\\devanish\\Downloads\\Datasets\\UnitTesting\\Colon\\05\\Frames\\00011.png\n",
      "Mask path: C:\\Users\\devanish\\Downloads\\Datasets\\UnitTesting\\Colon\\05\\Masks\\00011.png\n",
      "Image loaded successfully.\n",
      "Mask loaded successfully.\n",
      "JPEG image successfully saved at: C:\\Users\\devanish\\Downloads\\Datasets\\UnitTesting\\Colon\\05\\JPEG_Frames_11\\00011.jpg\n",
      "Selected prompt coordinates: [array([774, 125], dtype=int64), array([856, 276], dtype=int64), array([933, 381], dtype=int64)]\n"
     ]
    },
    {
     "name": "stderr",
     "output_type": "stream",
     "text": [
      "frame loading (JPEG): 100%|██████████| 1/1 [00:00<00:00, 24.39it/s]\n"
     ]
    },
    {
     "name": "stdout",
     "output_type": "stream",
     "text": [
      "SAM2 inference state initialized.\n",
      "Points: [[125, 774], [276, 856], [381, 933]], Labels: [1, 1, 1]\n",
      "Inference completed for the frame.\n",
      "Predicted mask successfully saved at: C:\\Users\\devanish\\Downloads\\Datasets\\UnitTesting\\Colon\\05\\PredictedMask\\00011.png\n",
      "SAM2 inference state and model reset.\n",
      "\n",
      "Processing image 13: 00012.png\n",
      "Image path: C:\\Users\\devanish\\Downloads\\Datasets\\UnitTesting\\Colon\\05\\Frames\\00012.png\n",
      "Mask path: C:\\Users\\devanish\\Downloads\\Datasets\\UnitTesting\\Colon\\05\\Masks\\00012.png\n",
      "Image loaded successfully.\n",
      "Mask loaded successfully.\n",
      "JPEG image successfully saved at: C:\\Users\\devanish\\Downloads\\Datasets\\UnitTesting\\Colon\\05\\JPEG_Frames_12\\00012.jpg\n",
      "Selected prompt coordinates: [array([830, 523], dtype=int64), array([757, 402], dtype=int64), array([955, 225], dtype=int64)]\n"
     ]
    },
    {
     "name": "stderr",
     "output_type": "stream",
     "text": [
      "frame loading (JPEG): 100%|██████████| 1/1 [00:00<00:00, 11.63it/s]\n"
     ]
    },
    {
     "name": "stdout",
     "output_type": "stream",
     "text": [
      "SAM2 inference state initialized.\n",
      "Points: [[523, 830], [402, 757], [225, 955]], Labels: [1, 1, 1]\n",
      "Inference completed for the frame.\n",
      "Predicted mask successfully saved at: C:\\Users\\devanish\\Downloads\\Datasets\\UnitTesting\\Colon\\05\\PredictedMask\\00012.png\n",
      "SAM2 inference state and model reset.\n",
      "\n",
      "Processing image 14: 00013.png\n",
      "Image path: C:\\Users\\devanish\\Downloads\\Datasets\\UnitTesting\\Colon\\05\\Frames\\00013.png\n",
      "Mask path: C:\\Users\\devanish\\Downloads\\Datasets\\UnitTesting\\Colon\\05\\Masks\\00013.png\n",
      "Image loaded successfully.\n",
      "Mask loaded successfully.\n",
      "JPEG image successfully saved at: C:\\Users\\devanish\\Downloads\\Datasets\\UnitTesting\\Colon\\05\\JPEG_Frames_13\\00013.jpg\n",
      "Selected prompt coordinates: [array([593, 170], dtype=int64), array([657, 238], dtype=int64), array([726, 452], dtype=int64)]\n"
     ]
    },
    {
     "name": "stderr",
     "output_type": "stream",
     "text": [
      "frame loading (JPEG): 100%|██████████| 1/1 [00:00<00:00, 23.81it/s]\n"
     ]
    },
    {
     "name": "stdout",
     "output_type": "stream",
     "text": [
      "SAM2 inference state initialized.\n",
      "Points: [[170, 593], [238, 657], [452, 726]], Labels: [1, 1, 1]\n",
      "Inference completed for the frame.\n",
      "Predicted mask successfully saved at: C:\\Users\\devanish\\Downloads\\Datasets\\UnitTesting\\Colon\\05\\PredictedMask\\00013.png\n",
      "SAM2 inference state and model reset.\n",
      "\n",
      "Processing image 15: 00014.png\n",
      "Image path: C:\\Users\\devanish\\Downloads\\Datasets\\UnitTesting\\Colon\\05\\Frames\\00014.png\n",
      "Mask path: C:\\Users\\devanish\\Downloads\\Datasets\\UnitTesting\\Colon\\05\\Masks\\00014.png\n",
      "Image loaded successfully.\n",
      "Mask loaded successfully.\n",
      "JPEG image successfully saved at: C:\\Users\\devanish\\Downloads\\Datasets\\UnitTesting\\Colon\\05\\JPEG_Frames_14\\00014.jpg\n",
      "Selected prompt coordinates: [array([756, 688], dtype=int64), array([739, 392], dtype=int64), array([870, 433], dtype=int64)]\n"
     ]
    },
    {
     "name": "stderr",
     "output_type": "stream",
     "text": [
      "frame loading (JPEG): 100%|██████████| 1/1 [00:00<00:00, 25.00it/s]\n"
     ]
    },
    {
     "name": "stdout",
     "output_type": "stream",
     "text": [
      "SAM2 inference state initialized.\n",
      "Points: [[688, 756], [392, 739], [433, 870]], Labels: [1, 1, 1]\n",
      "Inference completed for the frame.\n",
      "Predicted mask successfully saved at: C:\\Users\\devanish\\Downloads\\Datasets\\UnitTesting\\Colon\\05\\PredictedMask\\00014.png\n",
      "SAM2 inference state and model reset.\n",
      "\n",
      "Processing image 16: 00015.png\n",
      "Image path: C:\\Users\\devanish\\Downloads\\Datasets\\UnitTesting\\Colon\\05\\Frames\\00015.png\n",
      "Mask path: C:\\Users\\devanish\\Downloads\\Datasets\\UnitTesting\\Colon\\05\\Masks\\00015.png\n",
      "Image loaded successfully.\n",
      "Mask loaded successfully.\n",
      "JPEG image successfully saved at: C:\\Users\\devanish\\Downloads\\Datasets\\UnitTesting\\Colon\\05\\JPEG_Frames_15\\00015.jpg\n",
      "Selected prompt coordinates: [array([865, 631], dtype=int64), array([849, 399], dtype=int64), array([703, 402], dtype=int64)]\n"
     ]
    },
    {
     "name": "stderr",
     "output_type": "stream",
     "text": [
      "frame loading (JPEG): 100%|██████████| 1/1 [00:00<00:00, 23.81it/s]\n"
     ]
    },
    {
     "name": "stdout",
     "output_type": "stream",
     "text": [
      "SAM2 inference state initialized.\n",
      "Points: [[631, 865], [399, 849], [402, 703]], Labels: [1, 1, 1]\n",
      "Inference completed for the frame.\n",
      "Predicted mask successfully saved at: C:\\Users\\devanish\\Downloads\\Datasets\\UnitTesting\\Colon\\05\\PredictedMask\\00015.png\n",
      "SAM2 inference state and model reset.\n",
      "\n",
      "Processing image 17: 00016.png\n",
      "Image path: C:\\Users\\devanish\\Downloads\\Datasets\\UnitTesting\\Colon\\05\\Frames\\00016.png\n",
      "Mask path: C:\\Users\\devanish\\Downloads\\Datasets\\UnitTesting\\Colon\\05\\Masks\\00016.png\n",
      "Image loaded successfully.\n",
      "Mask loaded successfully.\n",
      "JPEG image successfully saved at: C:\\Users\\devanish\\Downloads\\Datasets\\UnitTesting\\Colon\\05\\JPEG_Frames_16\\00016.jpg\n",
      "Selected prompt coordinates: [array([891, 570], dtype=int64), array([533, 551], dtype=int64), array([888, 472], dtype=int64)]\n"
     ]
    },
    {
     "name": "stderr",
     "output_type": "stream",
     "text": [
      "frame loading (JPEG): 100%|██████████| 1/1 [00:00<00:00, 26.32it/s]\n"
     ]
    },
    {
     "name": "stdout",
     "output_type": "stream",
     "text": [
      "SAM2 inference state initialized.\n",
      "Points: [[570, 891], [551, 533], [472, 888]], Labels: [1, 1, 1]\n",
      "Inference completed for the frame.\n",
      "Predicted mask successfully saved at: C:\\Users\\devanish\\Downloads\\Datasets\\UnitTesting\\Colon\\05\\PredictedMask\\00016.png\n",
      "SAM2 inference state and model reset.\n",
      "\n",
      "Processing image 18: 00017.png\n",
      "Image path: C:\\Users\\devanish\\Downloads\\Datasets\\UnitTesting\\Colon\\05\\Frames\\00017.png\n",
      "Mask path: C:\\Users\\devanish\\Downloads\\Datasets\\UnitTesting\\Colon\\05\\Masks\\00017.png\n",
      "Image loaded successfully.\n",
      "Mask loaded successfully.\n",
      "JPEG image successfully saved at: C:\\Users\\devanish\\Downloads\\Datasets\\UnitTesting\\Colon\\05\\JPEG_Frames_17\\00017.jpg\n",
      "Selected prompt coordinates: [array([661, 498], dtype=int64), array([680, 493], dtype=int64), array([844, 440], dtype=int64)]\n"
     ]
    },
    {
     "name": "stderr",
     "output_type": "stream",
     "text": [
      "frame loading (JPEG): 100%|██████████| 1/1 [00:00<00:00, 26.32it/s]\n"
     ]
    },
    {
     "name": "stdout",
     "output_type": "stream",
     "text": [
      "SAM2 inference state initialized.\n",
      "Points: [[498, 661], [493, 680], [440, 844]], Labels: [1, 1, 1]\n",
      "Inference completed for the frame.\n",
      "Predicted mask successfully saved at: C:\\Users\\devanish\\Downloads\\Datasets\\UnitTesting\\Colon\\05\\PredictedMask\\00017.png\n",
      "SAM2 inference state and model reset.\n",
      "\n",
      "Processing image 19: 00018.png\n",
      "Image path: C:\\Users\\devanish\\Downloads\\Datasets\\UnitTesting\\Colon\\05\\Frames\\00018.png\n",
      "Mask path: C:\\Users\\devanish\\Downloads\\Datasets\\UnitTesting\\Colon\\05\\Masks\\00018.png\n",
      "Image loaded successfully.\n",
      "Mask loaded successfully.\n",
      "JPEG image successfully saved at: C:\\Users\\devanish\\Downloads\\Datasets\\UnitTesting\\Colon\\05\\JPEG_Frames_18\\00018.jpg\n",
      "Selected prompt coordinates: [array([812, 666], dtype=int64), array([933, 554], dtype=int64), array([583, 465], dtype=int64)]\n"
     ]
    },
    {
     "name": "stderr",
     "output_type": "stream",
     "text": [
      "frame loading (JPEG): 100%|██████████| 1/1 [00:00<00:00, 25.64it/s]\n"
     ]
    },
    {
     "name": "stdout",
     "output_type": "stream",
     "text": [
      "SAM2 inference state initialized.\n",
      "Points: [[666, 812], [554, 933], [465, 583]], Labels: [1, 1, 1]\n",
      "Inference completed for the frame.\n",
      "Predicted mask successfully saved at: C:\\Users\\devanish\\Downloads\\Datasets\\UnitTesting\\Colon\\05\\PredictedMask\\00018.png\n",
      "SAM2 inference state and model reset.\n",
      "\n",
      "Processing image 20: 00019.png\n",
      "Image path: C:\\Users\\devanish\\Downloads\\Datasets\\UnitTesting\\Colon\\05\\Frames\\00019.png\n",
      "Mask path: C:\\Users\\devanish\\Downloads\\Datasets\\UnitTesting\\Colon\\05\\Masks\\00019.png\n",
      "Image loaded successfully.\n",
      "Mask loaded successfully.\n",
      "JPEG image successfully saved at: C:\\Users\\devanish\\Downloads\\Datasets\\UnitTesting\\Colon\\05\\JPEG_Frames_19\\00019.jpg\n",
      "Selected prompt coordinates: [array([614, 262], dtype=int64), array([605, 300], dtype=int64), array([711, 237], dtype=int64)]\n"
     ]
    },
    {
     "name": "stderr",
     "output_type": "stream",
     "text": [
      "frame loading (JPEG): 100%|██████████| 1/1 [00:00<00:00, 26.32it/s]\n"
     ]
    },
    {
     "name": "stdout",
     "output_type": "stream",
     "text": [
      "SAM2 inference state initialized.\n",
      "Points: [[262, 614], [300, 605], [237, 711]], Labels: [1, 1, 1]\n",
      "Inference completed for the frame.\n",
      "Predicted mask successfully saved at: C:\\Users\\devanish\\Downloads\\Datasets\\UnitTesting\\Colon\\05\\PredictedMask\\00019.png\n",
      "SAM2 inference state and model reset.\n",
      "\n",
      "Processing image 21: 00020.png\n",
      "Image path: C:\\Users\\devanish\\Downloads\\Datasets\\UnitTesting\\Colon\\05\\Frames\\00020.png\n",
      "Mask path: C:\\Users\\devanish\\Downloads\\Datasets\\UnitTesting\\Colon\\05\\Masks\\00020.png\n",
      "Image loaded successfully.\n",
      "Mask loaded successfully.\n",
      "JPEG image successfully saved at: C:\\Users\\devanish\\Downloads\\Datasets\\UnitTesting\\Colon\\05\\JPEG_Frames_20\\00020.jpg\n",
      "Selected prompt coordinates: [array([937, 298], dtype=int64), array([800, 276], dtype=int64), array([761,  52], dtype=int64)]\n"
     ]
    },
    {
     "name": "stderr",
     "output_type": "stream",
     "text": [
      "frame loading (JPEG): 100%|██████████| 1/1 [00:00<00:00, 27.03it/s]\n"
     ]
    },
    {
     "name": "stdout",
     "output_type": "stream",
     "text": [
      "SAM2 inference state initialized.\n",
      "Points: [[298, 937], [276, 800], [52, 761]], Labels: [1, 1, 1]\n",
      "Inference completed for the frame.\n",
      "Predicted mask successfully saved at: C:\\Users\\devanish\\Downloads\\Datasets\\UnitTesting\\Colon\\05\\PredictedMask\\00020.png\n",
      "SAM2 inference state and model reset.\n",
      "\n",
      "Processing image 22: 00021.png\n",
      "Image path: C:\\Users\\devanish\\Downloads\\Datasets\\UnitTesting\\Colon\\05\\Frames\\00021.png\n",
      "Mask path: C:\\Users\\devanish\\Downloads\\Datasets\\UnitTesting\\Colon\\05\\Masks\\00021.png\n",
      "Image loaded successfully.\n",
      "Mask loaded successfully.\n",
      "JPEG image successfully saved at: C:\\Users\\devanish\\Downloads\\Datasets\\UnitTesting\\Colon\\05\\JPEG_Frames_21\\00021.jpg\n",
      "Selected prompt coordinates: [array([805, 484], dtype=int64), array([691, 291], dtype=int64), array([908, 278], dtype=int64)]\n"
     ]
    },
    {
     "name": "stderr",
     "output_type": "stream",
     "text": [
      "frame loading (JPEG): 100%|██████████| 1/1 [00:00<00:00, 25.64it/s]\n"
     ]
    },
    {
     "name": "stdout",
     "output_type": "stream",
     "text": [
      "SAM2 inference state initialized.\n",
      "Points: [[484, 805], [291, 691], [278, 908]], Labels: [1, 1, 1]\n",
      "Inference completed for the frame.\n",
      "Predicted mask successfully saved at: C:\\Users\\devanish\\Downloads\\Datasets\\UnitTesting\\Colon\\05\\PredictedMask\\00021.png\n",
      "SAM2 inference state and model reset.\n",
      "\n",
      "Processing image 23: 00022.png\n",
      "Image path: C:\\Users\\devanish\\Downloads\\Datasets\\UnitTesting\\Colon\\05\\Frames\\00022.png\n",
      "Mask path: C:\\Users\\devanish\\Downloads\\Datasets\\UnitTesting\\Colon\\05\\Masks\\00022.png\n",
      "Image loaded successfully.\n",
      "Mask loaded successfully.\n",
      "JPEG image successfully saved at: C:\\Users\\devanish\\Downloads\\Datasets\\UnitTesting\\Colon\\05\\JPEG_Frames_22\\00022.jpg\n",
      "Selected prompt coordinates: [array([752, 480], dtype=int64), array([909, 344], dtype=int64), array([944, 264], dtype=int64)]\n"
     ]
    },
    {
     "name": "stderr",
     "output_type": "stream",
     "text": [
      "frame loading (JPEG): 100%|██████████| 1/1 [00:00<00:00, 22.61it/s]\n"
     ]
    },
    {
     "name": "stdout",
     "output_type": "stream",
     "text": [
      "SAM2 inference state initialized.\n",
      "Points: [[480, 752], [344, 909], [264, 944]], Labels: [1, 1, 1]\n",
      "Inference completed for the frame.\n",
      "Predicted mask successfully saved at: C:\\Users\\devanish\\Downloads\\Datasets\\UnitTesting\\Colon\\05\\PredictedMask\\00022.png\n",
      "SAM2 inference state and model reset.\n",
      "\n",
      "Processing image 24: 00023.png\n",
      "Image path: C:\\Users\\devanish\\Downloads\\Datasets\\UnitTesting\\Colon\\05\\Frames\\00023.png\n",
      "Mask path: C:\\Users\\devanish\\Downloads\\Datasets\\UnitTesting\\Colon\\05\\Masks\\00023.png\n",
      "Image loaded successfully.\n",
      "Mask loaded successfully.\n",
      "JPEG image successfully saved at: C:\\Users\\devanish\\Downloads\\Datasets\\UnitTesting\\Colon\\05\\JPEG_Frames_23\\00023.jpg\n",
      "Selected prompt coordinates: [array([644, 116], dtype=int64), array([829, 367], dtype=int64), array([569, 203], dtype=int64)]\n"
     ]
    },
    {
     "name": "stderr",
     "output_type": "stream",
     "text": [
      "frame loading (JPEG): 100%|██████████| 1/1 [00:00<00:00, 24.39it/s]\n"
     ]
    },
    {
     "name": "stdout",
     "output_type": "stream",
     "text": [
      "SAM2 inference state initialized.\n",
      "Points: [[116, 644], [367, 829], [203, 569]], Labels: [1, 1, 1]\n",
      "Inference completed for the frame.\n",
      "Predicted mask successfully saved at: C:\\Users\\devanish\\Downloads\\Datasets\\UnitTesting\\Colon\\05\\PredictedMask\\00023.png\n",
      "SAM2 inference state and model reset.\n",
      "\n",
      "Processing image 25: 00024.png\n",
      "Image path: C:\\Users\\devanish\\Downloads\\Datasets\\UnitTesting\\Colon\\05\\Frames\\00024.png\n",
      "Mask path: C:\\Users\\devanish\\Downloads\\Datasets\\UnitTesting\\Colon\\05\\Masks\\00024.png\n",
      "Image loaded successfully.\n",
      "Mask loaded successfully.\n",
      "JPEG image successfully saved at: C:\\Users\\devanish\\Downloads\\Datasets\\UnitTesting\\Colon\\05\\JPEG_Frames_24\\00024.jpg\n",
      "Selected prompt coordinates: [array([423, 222], dtype=int64), array([710,  59], dtype=int64), array([730,  49], dtype=int64)]\n"
     ]
    },
    {
     "name": "stderr",
     "output_type": "stream",
     "text": [
      "frame loading (JPEG): 100%|██████████| 1/1 [00:00<00:00, 25.00it/s]\n"
     ]
    },
    {
     "name": "stdout",
     "output_type": "stream",
     "text": [
      "SAM2 inference state initialized.\n",
      "Points: [[222, 423], [59, 710], [49, 730]], Labels: [1, 1, 1]\n",
      "Inference completed for the frame.\n",
      "Predicted mask successfully saved at: C:\\Users\\devanish\\Downloads\\Datasets\\UnitTesting\\Colon\\05\\PredictedMask\\00024.png\n",
      "SAM2 inference state and model reset.\n",
      "\n",
      "Processing image 26: 00025.png\n",
      "Image path: C:\\Users\\devanish\\Downloads\\Datasets\\UnitTesting\\Colon\\05\\Frames\\00025.png\n",
      "Mask path: C:\\Users\\devanish\\Downloads\\Datasets\\UnitTesting\\Colon\\05\\Masks\\00025.png\n",
      "Image loaded successfully.\n",
      "Mask loaded successfully.\n",
      "JPEG image successfully saved at: C:\\Users\\devanish\\Downloads\\Datasets\\UnitTesting\\Colon\\05\\JPEG_Frames_25\\00025.jpg\n",
      "Selected prompt coordinates: [array([843, 447], dtype=int64), array([796, 434], dtype=int64), array([833, 162], dtype=int64)]\n"
     ]
    },
    {
     "name": "stderr",
     "output_type": "stream",
     "text": [
      "frame loading (JPEG): 100%|██████████| 1/1 [00:00<00:00, 25.64it/s]\n"
     ]
    },
    {
     "name": "stdout",
     "output_type": "stream",
     "text": [
      "SAM2 inference state initialized.\n",
      "Points: [[447, 843], [434, 796], [162, 833]], Labels: [1, 1, 1]\n",
      "Inference completed for the frame.\n",
      "Predicted mask successfully saved at: C:\\Users\\devanish\\Downloads\\Datasets\\UnitTesting\\Colon\\05\\PredictedMask\\00025.png\n",
      "SAM2 inference state and model reset.\n",
      "\n",
      "Processing image 27: 00026.png\n",
      "Image path: C:\\Users\\devanish\\Downloads\\Datasets\\UnitTesting\\Colon\\05\\Frames\\00026.png\n",
      "Mask path: C:\\Users\\devanish\\Downloads\\Datasets\\UnitTesting\\Colon\\05\\Masks\\00026.png\n",
      "Image loaded successfully.\n",
      "Mask loaded successfully.\n",
      "JPEG image successfully saved at: C:\\Users\\devanish\\Downloads\\Datasets\\UnitTesting\\Colon\\05\\JPEG_Frames_26\\00026.jpg\n",
      "Selected prompt coordinates: [array([682, 333], dtype=int64), array([928,  61], dtype=int64), array([607, 273], dtype=int64)]\n"
     ]
    },
    {
     "name": "stderr",
     "output_type": "stream",
     "text": [
      "frame loading (JPEG): 100%|██████████| 1/1 [00:00<00:00, 27.03it/s]\n"
     ]
    },
    {
     "name": "stdout",
     "output_type": "stream",
     "text": [
      "SAM2 inference state initialized.\n",
      "Points: [[333, 682], [61, 928], [273, 607]], Labels: [1, 1, 1]\n",
      "Inference completed for the frame.\n",
      "Predicted mask successfully saved at: C:\\Users\\devanish\\Downloads\\Datasets\\UnitTesting\\Colon\\05\\PredictedMask\\00026.png\n",
      "SAM2 inference state and model reset.\n",
      "\n",
      "Processing image 28: 00027.png\n",
      "Image path: C:\\Users\\devanish\\Downloads\\Datasets\\UnitTesting\\Colon\\05\\Frames\\00027.png\n",
      "Mask path: C:\\Users\\devanish\\Downloads\\Datasets\\UnitTesting\\Colon\\05\\Masks\\00027.png\n",
      "Image loaded successfully.\n",
      "Mask loaded successfully.\n",
      "JPEG image successfully saved at: C:\\Users\\devanish\\Downloads\\Datasets\\UnitTesting\\Colon\\05\\JPEG_Frames_27\\00027.jpg\n",
      "Selected prompt coordinates: [array([955, 818], dtype=int64), array([868, 621], dtype=int64), array([684, 585], dtype=int64)]\n"
     ]
    },
    {
     "name": "stderr",
     "output_type": "stream",
     "text": [
      "frame loading (JPEG): 100%|██████████| 1/1 [00:00<00:00, 24.39it/s]\n"
     ]
    },
    {
     "name": "stdout",
     "output_type": "stream",
     "text": [
      "SAM2 inference state initialized.\n",
      "Points: [[818, 955], [621, 868], [585, 684]], Labels: [1, 1, 1]\n",
      "Inference completed for the frame.\n",
      "Predicted mask successfully saved at: C:\\Users\\devanish\\Downloads\\Datasets\\UnitTesting\\Colon\\05\\PredictedMask\\00027.png\n",
      "SAM2 inference state and model reset.\n",
      "\n",
      "Processing image 29: 00028.png\n",
      "Image path: C:\\Users\\devanish\\Downloads\\Datasets\\UnitTesting\\Colon\\05\\Frames\\00028.png\n",
      "Mask path: C:\\Users\\devanish\\Downloads\\Datasets\\UnitTesting\\Colon\\05\\Masks\\00028.png\n",
      "Image loaded successfully.\n",
      "Mask loaded successfully.\n",
      "JPEG image successfully saved at: C:\\Users\\devanish\\Downloads\\Datasets\\UnitTesting\\Colon\\05\\JPEG_Frames_28\\00028.jpg\n",
      "Selected prompt coordinates: [array([943, 782], dtype=int64), array([764, 975], dtype=int64), array([710, 756], dtype=int64)]\n"
     ]
    },
    {
     "name": "stderr",
     "output_type": "stream",
     "text": [
      "frame loading (JPEG): 100%|██████████| 1/1 [00:00<00:00, 27.03it/s]\n"
     ]
    },
    {
     "name": "stdout",
     "output_type": "stream",
     "text": [
      "SAM2 inference state initialized.\n",
      "Points: [[782, 943], [975, 764], [756, 710]], Labels: [1, 1, 1]\n",
      "Inference completed for the frame.\n",
      "Predicted mask successfully saved at: C:\\Users\\devanish\\Downloads\\Datasets\\UnitTesting\\Colon\\05\\PredictedMask\\00028.png\n",
      "SAM2 inference state and model reset.\n",
      "\n",
      "Processing image 30: 00029.png\n",
      "Image path: C:\\Users\\devanish\\Downloads\\Datasets\\UnitTesting\\Colon\\05\\Frames\\00029.png\n",
      "Mask path: C:\\Users\\devanish\\Downloads\\Datasets\\UnitTesting\\Colon\\05\\Masks\\00029.png\n",
      "Image loaded successfully.\n",
      "Mask loaded successfully.\n",
      "JPEG image successfully saved at: C:\\Users\\devanish\\Downloads\\Datasets\\UnitTesting\\Colon\\05\\JPEG_Frames_29\\00029.jpg\n",
      "Selected prompt coordinates: [array([764, 671], dtype=int64), array([821, 619], dtype=int64), array([722, 750], dtype=int64)]\n"
     ]
    },
    {
     "name": "stderr",
     "output_type": "stream",
     "text": [
      "frame loading (JPEG): 100%|██████████| 1/1 [00:00<00:00, 24.39it/s]\n"
     ]
    },
    {
     "name": "stdout",
     "output_type": "stream",
     "text": [
      "SAM2 inference state initialized.\n",
      "Points: [[671, 764], [619, 821], [750, 722]], Labels: [1, 1, 1]\n",
      "Inference completed for the frame.\n",
      "Predicted mask successfully saved at: C:\\Users\\devanish\\Downloads\\Datasets\\UnitTesting\\Colon\\05\\PredictedMask\\00029.png\n",
      "SAM2 inference state and model reset.\n",
      "\n",
      "Processing image 31: 00030.png\n",
      "Image path: C:\\Users\\devanish\\Downloads\\Datasets\\UnitTesting\\Colon\\05\\Frames\\00030.png\n",
      "Mask path: C:\\Users\\devanish\\Downloads\\Datasets\\UnitTesting\\Colon\\05\\Masks\\00030.png\n",
      "Image loaded successfully.\n",
      "Mask loaded successfully.\n",
      "JPEG image successfully saved at: C:\\Users\\devanish\\Downloads\\Datasets\\UnitTesting\\Colon\\05\\JPEG_Frames_30\\00030.jpg\n",
      "Selected prompt coordinates: [array([634, 238], dtype=int64), array([618, 416], dtype=int64), array([738, 727], dtype=int64)]\n"
     ]
    },
    {
     "name": "stderr",
     "output_type": "stream",
     "text": [
      "frame loading (JPEG): 100%|██████████| 1/1 [00:00<00:00, 25.00it/s]\n"
     ]
    },
    {
     "name": "stdout",
     "output_type": "stream",
     "text": [
      "SAM2 inference state initialized.\n",
      "Points: [[238, 634], [416, 618], [727, 738]], Labels: [1, 1, 1]\n",
      "Inference completed for the frame.\n",
      "Predicted mask successfully saved at: C:\\Users\\devanish\\Downloads\\Datasets\\UnitTesting\\Colon\\05\\PredictedMask\\00030.png\n",
      "SAM2 inference state and model reset.\n",
      "\n",
      "Processing image 32: 00031.png\n",
      "Image path: C:\\Users\\devanish\\Downloads\\Datasets\\UnitTesting\\Colon\\05\\Frames\\00031.png\n",
      "Mask path: C:\\Users\\devanish\\Downloads\\Datasets\\UnitTesting\\Colon\\05\\Masks\\00031.png\n",
      "Image loaded successfully.\n",
      "Mask loaded successfully.\n",
      "JPEG image successfully saved at: C:\\Users\\devanish\\Downloads\\Datasets\\UnitTesting\\Colon\\05\\JPEG_Frames_31\\00031.jpg\n",
      "Selected prompt coordinates: [array([890, 362], dtype=int64), array([541, 154], dtype=int64), array([499,  33], dtype=int64)]\n"
     ]
    },
    {
     "name": "stderr",
     "output_type": "stream",
     "text": [
      "frame loading (JPEG): 100%|██████████| 1/1 [00:00<00:00, 23.81it/s]\n"
     ]
    },
    {
     "name": "stdout",
     "output_type": "stream",
     "text": [
      "SAM2 inference state initialized.\n",
      "Points: [[362, 890], [154, 541], [33, 499]], Labels: [1, 1, 1]\n",
      "Inference completed for the frame.\n",
      "Predicted mask successfully saved at: C:\\Users\\devanish\\Downloads\\Datasets\\UnitTesting\\Colon\\05\\PredictedMask\\00031.png\n",
      "SAM2 inference state and model reset.\n",
      "\n",
      "Processing image 33: 00032.png\n",
      "Image path: C:\\Users\\devanish\\Downloads\\Datasets\\UnitTesting\\Colon\\05\\Frames\\00032.png\n",
      "Mask path: C:\\Users\\devanish\\Downloads\\Datasets\\UnitTesting\\Colon\\05\\Masks\\00032.png\n",
      "Image loaded successfully.\n",
      "Mask loaded successfully.\n",
      "JPEG image successfully saved at: C:\\Users\\devanish\\Downloads\\Datasets\\UnitTesting\\Colon\\05\\JPEG_Frames_32\\00032.jpg\n",
      "Selected prompt coordinates: [array([644, 166], dtype=int64), array([912, 261], dtype=int64), array([720, 383], dtype=int64)]\n"
     ]
    },
    {
     "name": "stderr",
     "output_type": "stream",
     "text": [
      "frame loading (JPEG): 100%|██████████| 1/1 [00:00<00:00, 23.81it/s]\n"
     ]
    },
    {
     "name": "stdout",
     "output_type": "stream",
     "text": [
      "SAM2 inference state initialized.\n",
      "Points: [[166, 644], [261, 912], [383, 720]], Labels: [1, 1, 1]\n",
      "Inference completed for the frame.\n",
      "Predicted mask successfully saved at: C:\\Users\\devanish\\Downloads\\Datasets\\UnitTesting\\Colon\\05\\PredictedMask\\00032.png\n",
      "SAM2 inference state and model reset.\n",
      "\n",
      "Processing image 34: 00033.png\n",
      "Image path: C:\\Users\\devanish\\Downloads\\Datasets\\UnitTesting\\Colon\\05\\Frames\\00033.png\n",
      "Mask path: C:\\Users\\devanish\\Downloads\\Datasets\\UnitTesting\\Colon\\05\\Masks\\00033.png\n",
      "Image loaded successfully.\n",
      "Mask loaded successfully.\n",
      "JPEG image successfully saved at: C:\\Users\\devanish\\Downloads\\Datasets\\UnitTesting\\Colon\\05\\JPEG_Frames_33\\00033.jpg\n",
      "Selected prompt coordinates: [array([644, 734], dtype=int64), array([ 640, 1031], dtype=int64), array([871, 272], dtype=int64)]\n"
     ]
    },
    {
     "name": "stderr",
     "output_type": "stream",
     "text": [
      "frame loading (JPEG): 100%|██████████| 1/1 [00:00<00:00, 25.64it/s]\n"
     ]
    },
    {
     "name": "stdout",
     "output_type": "stream",
     "text": [
      "SAM2 inference state initialized.\n",
      "Points: [[734, 644], [1031, 640], [272, 871]], Labels: [1, 1, 1]\n",
      "Inference completed for the frame.\n",
      "Predicted mask successfully saved at: C:\\Users\\devanish\\Downloads\\Datasets\\UnitTesting\\Colon\\05\\PredictedMask\\00033.png\n",
      "SAM2 inference state and model reset.\n",
      "\n",
      "Processing image 35: 00034.png\n",
      "Image path: C:\\Users\\devanish\\Downloads\\Datasets\\UnitTesting\\Colon\\05\\Frames\\00034.png\n",
      "Mask path: C:\\Users\\devanish\\Downloads\\Datasets\\UnitTesting\\Colon\\05\\Masks\\00034.png\n",
      "Image loaded successfully.\n",
      "Mask loaded successfully.\n",
      "JPEG image successfully saved at: C:\\Users\\devanish\\Downloads\\Datasets\\UnitTesting\\Colon\\05\\JPEG_Frames_34\\00034.jpg\n",
      "Selected prompt coordinates: [array([ 842, 1185], dtype=int64), array([840, 422], dtype=int64), array([690, 580], dtype=int64)]\n"
     ]
    },
    {
     "name": "stderr",
     "output_type": "stream",
     "text": [
      "frame loading (JPEG): 100%|██████████| 1/1 [00:00<00:00, 26.32it/s]\n"
     ]
    },
    {
     "name": "stdout",
     "output_type": "stream",
     "text": [
      "SAM2 inference state initialized.\n",
      "Points: [[1185, 842], [422, 840], [580, 690]], Labels: [1, 1, 1]\n",
      "Inference completed for the frame.\n",
      "Predicted mask successfully saved at: C:\\Users\\devanish\\Downloads\\Datasets\\UnitTesting\\Colon\\05\\PredictedMask\\00034.png\n",
      "SAM2 inference state and model reset.\n",
      "\n",
      "Processing image 36: 00035.png\n",
      "Image path: C:\\Users\\devanish\\Downloads\\Datasets\\UnitTesting\\Colon\\05\\Frames\\00035.png\n",
      "Mask path: C:\\Users\\devanish\\Downloads\\Datasets\\UnitTesting\\Colon\\05\\Masks\\00035.png\n",
      "Image loaded successfully.\n",
      "Mask loaded successfully.\n",
      "JPEG image successfully saved at: C:\\Users\\devanish\\Downloads\\Datasets\\UnitTesting\\Colon\\05\\JPEG_Frames_35\\00035.jpg\n",
      "Selected prompt coordinates: [array([633, 387], dtype=int64), array([708, 160], dtype=int64), array([703,  38], dtype=int64)]\n"
     ]
    },
    {
     "name": "stderr",
     "output_type": "stream",
     "text": [
      "frame loading (JPEG): 100%|██████████| 1/1 [00:00<00:00, 20.83it/s]\n"
     ]
    },
    {
     "name": "stdout",
     "output_type": "stream",
     "text": [
      "SAM2 inference state initialized.\n",
      "Points: [[387, 633], [160, 708], [38, 703]], Labels: [1, 1, 1]\n",
      "Inference completed for the frame.\n",
      "Predicted mask successfully saved at: C:\\Users\\devanish\\Downloads\\Datasets\\UnitTesting\\Colon\\05\\PredictedMask\\00035.png\n",
      "SAM2 inference state and model reset.\n",
      "\n",
      "Processing image 37: 00036.png\n",
      "Image path: C:\\Users\\devanish\\Downloads\\Datasets\\UnitTesting\\Colon\\05\\Frames\\00036.png\n",
      "Mask path: C:\\Users\\devanish\\Downloads\\Datasets\\UnitTesting\\Colon\\05\\Masks\\00036.png\n",
      "Image loaded successfully.\n",
      "Mask loaded successfully.\n",
      "JPEG image successfully saved at: C:\\Users\\devanish\\Downloads\\Datasets\\UnitTesting\\Colon\\05\\JPEG_Frames_36\\00036.jpg\n",
      "Selected prompt coordinates: [array([947, 878], dtype=int64), array([868, 738], dtype=int64), array([896, 768], dtype=int64)]\n"
     ]
    },
    {
     "name": "stderr",
     "output_type": "stream",
     "text": [
      "frame loading (JPEG): 100%|██████████| 1/1 [00:00<00:00, 26.32it/s]\n"
     ]
    },
    {
     "name": "stdout",
     "output_type": "stream",
     "text": [
      "SAM2 inference state initialized.\n",
      "Points: [[878, 947], [738, 868], [768, 896]], Labels: [1, 1, 1]\n",
      "Inference completed for the frame.\n",
      "Predicted mask successfully saved at: C:\\Users\\devanish\\Downloads\\Datasets\\UnitTesting\\Colon\\05\\PredictedMask\\00036.png\n",
      "SAM2 inference state and model reset.\n",
      "\n",
      "Processing image 38: 00037.png\n",
      "Image path: C:\\Users\\devanish\\Downloads\\Datasets\\UnitTesting\\Colon\\05\\Frames\\00037.png\n",
      "Mask path: C:\\Users\\devanish\\Downloads\\Datasets\\UnitTesting\\Colon\\05\\Masks\\00037.png\n",
      "Image loaded successfully.\n",
      "Mask loaded successfully.\n",
      "JPEG image successfully saved at: C:\\Users\\devanish\\Downloads\\Datasets\\UnitTesting\\Colon\\05\\JPEG_Frames_37\\00037.jpg\n",
      "Selected prompt coordinates: [array([631, 913], dtype=int64), array([907, 621], dtype=int64), array([539, 749], dtype=int64)]\n"
     ]
    },
    {
     "name": "stderr",
     "output_type": "stream",
     "text": [
      "frame loading (JPEG): 100%|██████████| 1/1 [00:00<00:00, 20.41it/s]\n"
     ]
    },
    {
     "name": "stdout",
     "output_type": "stream",
     "text": [
      "SAM2 inference state initialized.\n",
      "Points: [[913, 631], [621, 907], [749, 539]], Labels: [1, 1, 1]\n",
      "Inference completed for the frame.\n",
      "Predicted mask successfully saved at: C:\\Users\\devanish\\Downloads\\Datasets\\UnitTesting\\Colon\\05\\PredictedMask\\00037.png\n",
      "SAM2 inference state and model reset.\n",
      "\n",
      "Processing image 39: 00038.png\n",
      "Image path: C:\\Users\\devanish\\Downloads\\Datasets\\UnitTesting\\Colon\\05\\Frames\\00038.png\n",
      "Mask path: C:\\Users\\devanish\\Downloads\\Datasets\\UnitTesting\\Colon\\05\\Masks\\00038.png\n",
      "Image loaded successfully.\n",
      "Mask loaded successfully.\n",
      "JPEG image successfully saved at: C:\\Users\\devanish\\Downloads\\Datasets\\UnitTesting\\Colon\\05\\JPEG_Frames_38\\00038.jpg\n",
      "Selected prompt coordinates: [array([265, 722], dtype=int64), array([398, 612], dtype=int64), array([465, 385], dtype=int64)]\n"
     ]
    },
    {
     "name": "stderr",
     "output_type": "stream",
     "text": [
      "frame loading (JPEG): 100%|██████████| 1/1 [00:00<00:00, 25.52it/s]\n"
     ]
    },
    {
     "name": "stdout",
     "output_type": "stream",
     "text": [
      "SAM2 inference state initialized.\n",
      "Points: [[722, 265], [612, 398], [385, 465]], Labels: [1, 1, 1]\n",
      "Inference completed for the frame.\n",
      "Predicted mask successfully saved at: C:\\Users\\devanish\\Downloads\\Datasets\\UnitTesting\\Colon\\05\\PredictedMask\\00038.png\n",
      "SAM2 inference state and model reset.\n",
      "\n",
      "Processing image 40: 00039.png\n",
      "Image path: C:\\Users\\devanish\\Downloads\\Datasets\\UnitTesting\\Colon\\05\\Frames\\00039.png\n",
      "Mask path: C:\\Users\\devanish\\Downloads\\Datasets\\UnitTesting\\Colon\\05\\Masks\\00039.png\n",
      "Image loaded successfully.\n",
      "Mask loaded successfully.\n",
      "JPEG image successfully saved at: C:\\Users\\devanish\\Downloads\\Datasets\\UnitTesting\\Colon\\05\\JPEG_Frames_39\\00039.jpg\n",
      "Selected prompt coordinates: [array([664, 150], dtype=int64), array([954, 209], dtype=int64), array([748, 291], dtype=int64)]\n"
     ]
    },
    {
     "name": "stderr",
     "output_type": "stream",
     "text": [
      "frame loading (JPEG): 100%|██████████| 1/1 [00:00<00:00, 26.32it/s]\n"
     ]
    },
    {
     "name": "stdout",
     "output_type": "stream",
     "text": [
      "SAM2 inference state initialized.\n",
      "Points: [[150, 664], [209, 954], [291, 748]], Labels: [1, 1, 1]\n",
      "Inference completed for the frame.\n",
      "Predicted mask successfully saved at: C:\\Users\\devanish\\Downloads\\Datasets\\UnitTesting\\Colon\\05\\PredictedMask\\00039.png\n",
      "SAM2 inference state and model reset.\n",
      "\n",
      "Processing image 41: 00040.png\n",
      "Image path: C:\\Users\\devanish\\Downloads\\Datasets\\UnitTesting\\Colon\\05\\Frames\\00040.png\n",
      "Mask path: C:\\Users\\devanish\\Downloads\\Datasets\\UnitTesting\\Colon\\05\\Masks\\00040.png\n",
      "Image loaded successfully.\n",
      "Mask loaded successfully.\n",
      "JPEG image successfully saved at: C:\\Users\\devanish\\Downloads\\Datasets\\UnitTesting\\Colon\\05\\JPEG_Frames_40\\00040.jpg\n",
      "Selected prompt coordinates: [array([713, 123], dtype=int64), array([843,  26], dtype=int64), array([729,  71], dtype=int64)]\n"
     ]
    },
    {
     "name": "stderr",
     "output_type": "stream",
     "text": [
      "frame loading (JPEG): 100%|██████████| 1/1 [00:00<00:00, 20.00it/s]\n"
     ]
    },
    {
     "name": "stdout",
     "output_type": "stream",
     "text": [
      "SAM2 inference state initialized.\n",
      "Points: [[123, 713], [26, 843], [71, 729]], Labels: [1, 1, 1]\n",
      "Inference completed for the frame.\n",
      "Predicted mask successfully saved at: C:\\Users\\devanish\\Downloads\\Datasets\\UnitTesting\\Colon\\05\\PredictedMask\\00040.png\n",
      "SAM2 inference state and model reset.\n",
      "\n",
      "Processing image 42: 00041.png\n",
      "Image path: C:\\Users\\devanish\\Downloads\\Datasets\\UnitTesting\\Colon\\05\\Frames\\00041.png\n",
      "Mask path: C:\\Users\\devanish\\Downloads\\Datasets\\UnitTesting\\Colon\\05\\Masks\\00041.png\n",
      "Image loaded successfully.\n",
      "Mask loaded successfully.\n",
      "JPEG image successfully saved at: C:\\Users\\devanish\\Downloads\\Datasets\\UnitTesting\\Colon\\05\\JPEG_Frames_41\\00041.jpg\n",
      "Selected prompt coordinates: [array([381, 427], dtype=int64), array([509, 311], dtype=int64), array([658,  40], dtype=int64)]\n"
     ]
    },
    {
     "name": "stderr",
     "output_type": "stream",
     "text": [
      "frame loading (JPEG): 100%|██████████| 1/1 [00:00<00:00, 25.64it/s]\n"
     ]
    },
    {
     "name": "stdout",
     "output_type": "stream",
     "text": [
      "SAM2 inference state initialized.\n",
      "Points: [[427, 381], [311, 509], [40, 658]], Labels: [1, 1, 1]\n",
      "Inference completed for the frame.\n",
      "Predicted mask successfully saved at: C:\\Users\\devanish\\Downloads\\Datasets\\UnitTesting\\Colon\\05\\PredictedMask\\00041.png\n",
      "SAM2 inference state and model reset.\n",
      "\n",
      "Processing image 43: 00042.png\n",
      "Image path: C:\\Users\\devanish\\Downloads\\Datasets\\UnitTesting\\Colon\\05\\Frames\\00042.png\n",
      "Mask path: C:\\Users\\devanish\\Downloads\\Datasets\\UnitTesting\\Colon\\05\\Masks\\00042.png\n",
      "Image loaded successfully.\n",
      "Mask loaded successfully.\n",
      "JPEG image successfully saved at: C:\\Users\\devanish\\Downloads\\Datasets\\UnitTesting\\Colon\\05\\JPEG_Frames_42\\00042.jpg\n",
      "Selected prompt coordinates: [array([261, 576], dtype=int64), array([740, 374], dtype=int64), array([758, 380], dtype=int64)]\n"
     ]
    },
    {
     "name": "stderr",
     "output_type": "stream",
     "text": [
      "frame loading (JPEG): 100%|██████████| 1/1 [00:00<00:00, 24.39it/s]\n"
     ]
    },
    {
     "name": "stdout",
     "output_type": "stream",
     "text": [
      "SAM2 inference state initialized.\n",
      "Points: [[576, 261], [374, 740], [380, 758]], Labels: [1, 1, 1]\n",
      "Inference completed for the frame.\n",
      "Predicted mask successfully saved at: C:\\Users\\devanish\\Downloads\\Datasets\\UnitTesting\\Colon\\05\\PredictedMask\\00042.png\n",
      "SAM2 inference state and model reset.\n",
      "\n",
      "Processing image 44: 00043.png\n",
      "Image path: C:\\Users\\devanish\\Downloads\\Datasets\\UnitTesting\\Colon\\05\\Frames\\00043.png\n",
      "Mask path: C:\\Users\\devanish\\Downloads\\Datasets\\UnitTesting\\Colon\\05\\Masks\\00043.png\n",
      "Image loaded successfully.\n",
      "Mask loaded successfully.\n",
      "JPEG image successfully saved at: C:\\Users\\devanish\\Downloads\\Datasets\\UnitTesting\\Colon\\05\\JPEG_Frames_43\\00043.jpg\n",
      "Selected prompt coordinates: [array([405, 380], dtype=int64), array([354, 680], dtype=int64), array([549, 274], dtype=int64)]\n"
     ]
    },
    {
     "name": "stderr",
     "output_type": "stream",
     "text": [
      "frame loading (JPEG): 100%|██████████| 1/1 [00:00<00:00, 26.32it/s]\n"
     ]
    },
    {
     "name": "stdout",
     "output_type": "stream",
     "text": [
      "SAM2 inference state initialized.\n",
      "Points: [[380, 405], [680, 354], [274, 549]], Labels: [1, 1, 1]\n",
      "Inference completed for the frame.\n",
      "Predicted mask successfully saved at: C:\\Users\\devanish\\Downloads\\Datasets\\UnitTesting\\Colon\\05\\PredictedMask\\00043.png\n",
      "SAM2 inference state and model reset.\n",
      "\n",
      "Processing image 45: 00044.png\n",
      "Image path: C:\\Users\\devanish\\Downloads\\Datasets\\UnitTesting\\Colon\\05\\Frames\\00044.png\n",
      "Mask path: C:\\Users\\devanish\\Downloads\\Datasets\\UnitTesting\\Colon\\05\\Masks\\00044.png\n",
      "Image loaded successfully.\n",
      "Mask loaded successfully.\n",
      "JPEG image successfully saved at: C:\\Users\\devanish\\Downloads\\Datasets\\UnitTesting\\Colon\\05\\JPEG_Frames_44\\00044.jpg\n",
      "Selected prompt coordinates: [array([911, 352], dtype=int64), array([251, 727], dtype=int64), array([601, 408], dtype=int64)]\n"
     ]
    },
    {
     "name": "stderr",
     "output_type": "stream",
     "text": [
      "frame loading (JPEG): 100%|██████████| 1/1 [00:00<00:00, 24.39it/s]\n"
     ]
    },
    {
     "name": "stdout",
     "output_type": "stream",
     "text": [
      "SAM2 inference state initialized.\n",
      "Points: [[352, 911], [727, 251], [408, 601]], Labels: [1, 1, 1]\n",
      "Inference completed for the frame.\n",
      "Predicted mask successfully saved at: C:\\Users\\devanish\\Downloads\\Datasets\\UnitTesting\\Colon\\05\\PredictedMask\\00044.png\n",
      "SAM2 inference state and model reset.\n",
      "\n",
      "Processing image 46: 00045.png\n",
      "Image path: C:\\Users\\devanish\\Downloads\\Datasets\\UnitTesting\\Colon\\05\\Frames\\00045.png\n",
      "Mask path: C:\\Users\\devanish\\Downloads\\Datasets\\UnitTesting\\Colon\\05\\Masks\\00045.png\n",
      "Image loaded successfully.\n",
      "Mask loaded successfully.\n",
      "JPEG image successfully saved at: C:\\Users\\devanish\\Downloads\\Datasets\\UnitTesting\\Colon\\05\\JPEG_Frames_45\\00045.jpg\n",
      "Selected prompt coordinates: [array([615, 116], dtype=int64), array([456, 346], dtype=int64), array([345, 138], dtype=int64)]\n"
     ]
    },
    {
     "name": "stderr",
     "output_type": "stream",
     "text": [
      "frame loading (JPEG): 100%|██████████| 1/1 [00:00<00:00, 24.39it/s]\n"
     ]
    },
    {
     "name": "stdout",
     "output_type": "stream",
     "text": [
      "SAM2 inference state initialized.\n",
      "Points: [[116, 615], [346, 456], [138, 345]], Labels: [1, 1, 1]\n",
      "Inference completed for the frame.\n",
      "Predicted mask successfully saved at: C:\\Users\\devanish\\Downloads\\Datasets\\UnitTesting\\Colon\\05\\PredictedMask\\00045.png\n",
      "SAM2 inference state and model reset.\n",
      "\n",
      "Processing image 47: 00046.png\n",
      "Image path: C:\\Users\\devanish\\Downloads\\Datasets\\UnitTesting\\Colon\\05\\Frames\\00046.png\n",
      "Mask path: C:\\Users\\devanish\\Downloads\\Datasets\\UnitTesting\\Colon\\05\\Masks\\00046.png\n",
      "Image loaded successfully.\n",
      "Mask loaded successfully.\n",
      "JPEG image successfully saved at: C:\\Users\\devanish\\Downloads\\Datasets\\UnitTesting\\Colon\\05\\JPEG_Frames_46\\00046.jpg\n",
      "Selected prompt coordinates: [array([510,  25], dtype=int64), array([347, 364], dtype=int64), array([582, 355], dtype=int64)]\n"
     ]
    },
    {
     "name": "stderr",
     "output_type": "stream",
     "text": [
      "frame loading (JPEG): 100%|██████████| 1/1 [00:00<00:00, 27.03it/s]\n"
     ]
    },
    {
     "name": "stdout",
     "output_type": "stream",
     "text": [
      "SAM2 inference state initialized.\n",
      "Points: [[25, 510], [364, 347], [355, 582]], Labels: [1, 1, 1]\n",
      "Inference completed for the frame.\n",
      "Predicted mask successfully saved at: C:\\Users\\devanish\\Downloads\\Datasets\\UnitTesting\\Colon\\05\\PredictedMask\\00046.png\n",
      "SAM2 inference state and model reset.\n",
      "\n",
      "Processing image 48: 00047.png\n",
      "Image path: C:\\Users\\devanish\\Downloads\\Datasets\\UnitTesting\\Colon\\05\\Frames\\00047.png\n",
      "Mask path: C:\\Users\\devanish\\Downloads\\Datasets\\UnitTesting\\Colon\\05\\Masks\\00047.png\n",
      "Image loaded successfully.\n",
      "Mask loaded successfully.\n",
      "JPEG image successfully saved at: C:\\Users\\devanish\\Downloads\\Datasets\\UnitTesting\\Colon\\05\\JPEG_Frames_47\\00047.jpg\n",
      "Selected prompt coordinates: [array([389,  85], dtype=int64), array([435, 305], dtype=int64), array([398, 112], dtype=int64)]\n"
     ]
    },
    {
     "name": "stderr",
     "output_type": "stream",
     "text": [
      "frame loading (JPEG): 100%|██████████| 1/1 [00:00<00:00, 25.41it/s]\n"
     ]
    },
    {
     "name": "stdout",
     "output_type": "stream",
     "text": [
      "SAM2 inference state initialized.\n",
      "Points: [[85, 389], [305, 435], [112, 398]], Labels: [1, 1, 1]\n",
      "Inference completed for the frame.\n",
      "Predicted mask successfully saved at: C:\\Users\\devanish\\Downloads\\Datasets\\UnitTesting\\Colon\\05\\PredictedMask\\00047.png\n",
      "SAM2 inference state and model reset.\n",
      "\n",
      "Processing image 49: 00048.png\n",
      "Image path: C:\\Users\\devanish\\Downloads\\Datasets\\UnitTesting\\Colon\\05\\Frames\\00048.png\n",
      "Mask path: C:\\Users\\devanish\\Downloads\\Datasets\\UnitTesting\\Colon\\05\\Masks\\00048.png\n",
      "Image loaded successfully.\n",
      "Mask loaded successfully.\n",
      "JPEG image successfully saved at: C:\\Users\\devanish\\Downloads\\Datasets\\UnitTesting\\Colon\\05\\JPEG_Frames_48\\00048.jpg\n",
      "Selected prompt coordinates: [array([470, 327], dtype=int64), array([481, 119], dtype=int64), array([258, 556], dtype=int64)]\n"
     ]
    },
    {
     "name": "stderr",
     "output_type": "stream",
     "text": [
      "frame loading (JPEG): 100%|██████████| 1/1 [00:00<00:00, 23.26it/s]\n"
     ]
    },
    {
     "name": "stdout",
     "output_type": "stream",
     "text": [
      "SAM2 inference state initialized.\n",
      "Points: [[327, 470], [119, 481], [556, 258]], Labels: [1, 1, 1]\n",
      "Inference completed for the frame.\n",
      "Predicted mask successfully saved at: C:\\Users\\devanish\\Downloads\\Datasets\\UnitTesting\\Colon\\05\\PredictedMask\\00048.png\n",
      "SAM2 inference state and model reset.\n",
      "\n",
      "Processing image 50: 00049.png\n",
      "Image path: C:\\Users\\devanish\\Downloads\\Datasets\\UnitTesting\\Colon\\05\\Frames\\00049.png\n",
      "Mask path: C:\\Users\\devanish\\Downloads\\Datasets\\UnitTesting\\Colon\\05\\Masks\\00049.png\n",
      "Image loaded successfully.\n",
      "Mask loaded successfully.\n",
      "JPEG image successfully saved at: C:\\Users\\devanish\\Downloads\\Datasets\\UnitTesting\\Colon\\05\\JPEG_Frames_49\\00049.jpg\n",
      "Selected prompt coordinates: [array([445, 657], dtype=int64), array([418, 619], dtype=int64), array([554, 170], dtype=int64)]\n"
     ]
    },
    {
     "name": "stderr",
     "output_type": "stream",
     "text": [
      "frame loading (JPEG): 100%|██████████| 1/1 [00:00<00:00, 27.03it/s]\n"
     ]
    },
    {
     "name": "stdout",
     "output_type": "stream",
     "text": [
      "SAM2 inference state initialized.\n",
      "Points: [[657, 445], [619, 418], [170, 554]], Labels: [1, 1, 1]\n",
      "Inference completed for the frame.\n",
      "Predicted mask successfully saved at: C:\\Users\\devanish\\Downloads\\Datasets\\UnitTesting\\Colon\\05\\PredictedMask\\00049.png\n",
      "SAM2 inference state and model reset.\n",
      "\n",
      "Processing image 51: 00050.png\n",
      "Image path: C:\\Users\\devanish\\Downloads\\Datasets\\UnitTesting\\Colon\\05\\Frames\\00050.png\n",
      "Mask path: C:\\Users\\devanish\\Downloads\\Datasets\\UnitTesting\\Colon\\05\\Masks\\00050.png\n",
      "Image loaded successfully.\n",
      "Mask loaded successfully.\n",
      "JPEG image successfully saved at: C:\\Users\\devanish\\Downloads\\Datasets\\UnitTesting\\Colon\\05\\JPEG_Frames_50\\00050.jpg\n",
      "Selected prompt coordinates: [array([656, 206], dtype=int64), array([467, 765], dtype=int64), array([625, 326], dtype=int64)]\n"
     ]
    },
    {
     "name": "stderr",
     "output_type": "stream",
     "text": [
      "frame loading (JPEG): 100%|██████████| 1/1 [00:00<00:00, 25.64it/s]\n"
     ]
    },
    {
     "name": "stdout",
     "output_type": "stream",
     "text": [
      "SAM2 inference state initialized.\n",
      "Points: [[206, 656], [765, 467], [326, 625]], Labels: [1, 1, 1]\n",
      "Inference completed for the frame.\n",
      "Predicted mask successfully saved at: C:\\Users\\devanish\\Downloads\\Datasets\\UnitTesting\\Colon\\05\\PredictedMask\\00050.png\n",
      "SAM2 inference state and model reset.\n",
      "\n",
      "Processing image 52: 00051.png\n",
      "Image path: C:\\Users\\devanish\\Downloads\\Datasets\\UnitTesting\\Colon\\05\\Frames\\00051.png\n",
      "Mask path: C:\\Users\\devanish\\Downloads\\Datasets\\UnitTesting\\Colon\\05\\Masks\\00051.png\n",
      "Image loaded successfully.\n",
      "Mask loaded successfully.\n",
      "JPEG image successfully saved at: C:\\Users\\devanish\\Downloads\\Datasets\\UnitTesting\\Colon\\05\\JPEG_Frames_51\\00051.jpg\n",
      "Selected prompt coordinates: [array([211, 444], dtype=int64), array([120, 123], dtype=int64), array([218,  11], dtype=int64)]\n"
     ]
    },
    {
     "name": "stderr",
     "output_type": "stream",
     "text": [
      "frame loading (JPEG): 100%|██████████| 1/1 [00:00<00:00, 25.64it/s]\n"
     ]
    },
    {
     "name": "stdout",
     "output_type": "stream",
     "text": [
      "SAM2 inference state initialized.\n",
      "Points: [[444, 211], [123, 120], [11, 218]], Labels: [1, 1, 1]\n",
      "Inference completed for the frame.\n",
      "Predicted mask successfully saved at: C:\\Users\\devanish\\Downloads\\Datasets\\UnitTesting\\Colon\\05\\PredictedMask\\00051.png\n",
      "SAM2 inference state and model reset.\n",
      "\n",
      "Processing image 53: 00052.png\n",
      "Image path: C:\\Users\\devanish\\Downloads\\Datasets\\UnitTesting\\Colon\\05\\Frames\\00052.png\n",
      "Mask path: C:\\Users\\devanish\\Downloads\\Datasets\\UnitTesting\\Colon\\05\\Masks\\00052.png\n",
      "Image loaded successfully.\n",
      "Mask loaded successfully.\n",
      "JPEG image successfully saved at: C:\\Users\\devanish\\Downloads\\Datasets\\UnitTesting\\Colon\\05\\JPEG_Frames_52\\00052.jpg\n",
      "Selected prompt coordinates: [array([659, 498], dtype=int64), array([547, 508], dtype=int64), array([965, 306], dtype=int64)]\n"
     ]
    },
    {
     "name": "stderr",
     "output_type": "stream",
     "text": [
      "frame loading (JPEG): 100%|██████████| 1/1 [00:00<00:00, 25.64it/s]\n"
     ]
    },
    {
     "name": "stdout",
     "output_type": "stream",
     "text": [
      "SAM2 inference state initialized.\n",
      "Points: [[498, 659], [508, 547], [306, 965]], Labels: [1, 1, 1]\n",
      "Inference completed for the frame.\n",
      "Predicted mask successfully saved at: C:\\Users\\devanish\\Downloads\\Datasets\\UnitTesting\\Colon\\05\\PredictedMask\\00052.png\n",
      "SAM2 inference state and model reset.\n",
      "\n",
      "Processing image 54: 00053.png\n",
      "Image path: C:\\Users\\devanish\\Downloads\\Datasets\\UnitTesting\\Colon\\05\\Frames\\00053.png\n",
      "Mask path: C:\\Users\\devanish\\Downloads\\Datasets\\UnitTesting\\Colon\\05\\Masks\\00053.png\n",
      "Image loaded successfully.\n",
      "Mask loaded successfully.\n",
      "JPEG image successfully saved at: C:\\Users\\devanish\\Downloads\\Datasets\\UnitTesting\\Colon\\05\\JPEG_Frames_53\\00053.jpg\n",
      "Selected prompt coordinates: [array([593, 567], dtype=int64), array([664, 523], dtype=int64), array([621, 557], dtype=int64)]\n"
     ]
    },
    {
     "name": "stderr",
     "output_type": "stream",
     "text": [
      "frame loading (JPEG): 100%|██████████| 1/1 [00:00<00:00, 26.32it/s]\n"
     ]
    },
    {
     "name": "stdout",
     "output_type": "stream",
     "text": [
      "SAM2 inference state initialized.\n",
      "Points: [[567, 593], [523, 664], [557, 621]], Labels: [1, 1, 1]\n",
      "Inference completed for the frame.\n",
      "Predicted mask successfully saved at: C:\\Users\\devanish\\Downloads\\Datasets\\UnitTesting\\Colon\\05\\PredictedMask\\00053.png\n",
      "SAM2 inference state and model reset.\n",
      "\n",
      "Processing image 55: 00054.png\n",
      "Image path: C:\\Users\\devanish\\Downloads\\Datasets\\UnitTesting\\Colon\\05\\Frames\\00054.png\n",
      "Mask path: C:\\Users\\devanish\\Downloads\\Datasets\\UnitTesting\\Colon\\05\\Masks\\00054.png\n",
      "Image loaded successfully.\n",
      "Mask loaded successfully.\n",
      "JPEG image successfully saved at: C:\\Users\\devanish\\Downloads\\Datasets\\UnitTesting\\Colon\\05\\JPEG_Frames_54\\00054.jpg\n",
      "Selected prompt coordinates: [array([589,  92], dtype=int64), array([831,  31], dtype=int64), array([873, 315], dtype=int64)]\n"
     ]
    },
    {
     "name": "stderr",
     "output_type": "stream",
     "text": [
      "frame loading (JPEG): 100%|██████████| 1/1 [00:00<00:00, 24.39it/s]\n"
     ]
    },
    {
     "name": "stdout",
     "output_type": "stream",
     "text": [
      "SAM2 inference state initialized.\n",
      "Points: [[92, 589], [31, 831], [315, 873]], Labels: [1, 1, 1]\n",
      "Inference completed for the frame.\n",
      "Predicted mask successfully saved at: C:\\Users\\devanish\\Downloads\\Datasets\\UnitTesting\\Colon\\05\\PredictedMask\\00054.png\n",
      "SAM2 inference state and model reset.\n",
      "\n",
      "Processing image 56: 00055.png\n",
      "Image path: C:\\Users\\devanish\\Downloads\\Datasets\\UnitTesting\\Colon\\05\\Frames\\00055.png\n",
      "Mask path: C:\\Users\\devanish\\Downloads\\Datasets\\UnitTesting\\Colon\\05\\Masks\\00055.png\n",
      "Image loaded successfully.\n",
      "Mask loaded successfully.\n",
      "JPEG image successfully saved at: C:\\Users\\devanish\\Downloads\\Datasets\\UnitTesting\\Colon\\05\\JPEG_Frames_55\\00055.jpg\n",
      "Selected prompt coordinates: [array([647, 381], dtype=int64), array([948,  70], dtype=int64), array([715, 270], dtype=int64)]\n"
     ]
    },
    {
     "name": "stderr",
     "output_type": "stream",
     "text": [
      "frame loading (JPEG): 100%|██████████| 1/1 [00:00<00:00, 25.00it/s]\n"
     ]
    },
    {
     "name": "stdout",
     "output_type": "stream",
     "text": [
      "SAM2 inference state initialized.\n",
      "Points: [[381, 647], [70, 948], [270, 715]], Labels: [1, 1, 1]\n",
      "Inference completed for the frame.\n",
      "Predicted mask successfully saved at: C:\\Users\\devanish\\Downloads\\Datasets\\UnitTesting\\Colon\\05\\PredictedMask\\00055.png\n",
      "SAM2 inference state and model reset.\n",
      "\n",
      "Processing image 57: 00056.png\n",
      "Image path: C:\\Users\\devanish\\Downloads\\Datasets\\UnitTesting\\Colon\\05\\Frames\\00056.png\n",
      "Mask path: C:\\Users\\devanish\\Downloads\\Datasets\\UnitTesting\\Colon\\05\\Masks\\00056.png\n",
      "Image loaded successfully.\n",
      "Mask loaded successfully.\n",
      "JPEG image successfully saved at: C:\\Users\\devanish\\Downloads\\Datasets\\UnitTesting\\Colon\\05\\JPEG_Frames_56\\00056.jpg\n",
      "Selected prompt coordinates: [array([873, 334], dtype=int64), array([770, 477], dtype=int64), array([647, 663], dtype=int64)]\n"
     ]
    },
    {
     "name": "stderr",
     "output_type": "stream",
     "text": [
      "frame loading (JPEG): 100%|██████████| 1/1 [00:00<00:00, 26.32it/s]\n"
     ]
    },
    {
     "name": "stdout",
     "output_type": "stream",
     "text": [
      "SAM2 inference state initialized.\n",
      "Points: [[334, 873], [477, 770], [663, 647]], Labels: [1, 1, 1]\n",
      "Inference completed for the frame.\n",
      "Predicted mask successfully saved at: C:\\Users\\devanish\\Downloads\\Datasets\\UnitTesting\\Colon\\05\\PredictedMask\\00056.png\n",
      "SAM2 inference state and model reset.\n",
      "\n",
      "Processing image 58: 00057.png\n",
      "Image path: C:\\Users\\devanish\\Downloads\\Datasets\\UnitTesting\\Colon\\05\\Frames\\00057.png\n",
      "Mask path: C:\\Users\\devanish\\Downloads\\Datasets\\UnitTesting\\Colon\\05\\Masks\\00057.png\n",
      "Image loaded successfully.\n",
      "Mask loaded successfully.\n",
      "JPEG image successfully saved at: C:\\Users\\devanish\\Downloads\\Datasets\\UnitTesting\\Colon\\05\\JPEG_Frames_57\\00057.jpg\n",
      "Selected prompt coordinates: [array([658, 489], dtype=int64), array([942, 497], dtype=int64), array([866, 516], dtype=int64)]\n"
     ]
    },
    {
     "name": "stderr",
     "output_type": "stream",
     "text": [
      "frame loading (JPEG): 100%|██████████| 1/1 [00:00<00:00, 25.00it/s]\n"
     ]
    },
    {
     "name": "stdout",
     "output_type": "stream",
     "text": [
      "SAM2 inference state initialized.\n",
      "Points: [[489, 658], [497, 942], [516, 866]], Labels: [1, 1, 1]\n",
      "Inference completed for the frame.\n",
      "Predicted mask successfully saved at: C:\\Users\\devanish\\Downloads\\Datasets\\UnitTesting\\Colon\\05\\PredictedMask\\00057.png\n",
      "SAM2 inference state and model reset.\n",
      "Inference complete for all images in the subfolder.\n"
     ]
    }
   ],
   "source": [
    "import os\n",
    "import cv2\n",
    "import numpy as np\n",
    "import random\n",
    "import torch\n",
    "import gc\n",
    "from sam2.build_sam import build_sam2_video_predictor\n",
    "\n",
    "# Dynamically set the device based on CPU usage only\n",
    "device = \"cpu\"\n",
    "print(f\"Device set to: {device}\")\n",
    "\n",
    "# Define model configuration and checkpoint\n",
    "model_cfg = r\"C:\\Users\\devanish\\Downloads\\SAM2\\ReactDocker\\sam2_hiera_l.yaml\"\n",
    "checkpoint_path = r\"C:\\Users\\devanish\\Downloads\\SAM2\\sam2_hiera_large.pt\"\n",
    "\n",
    "# Define the main colon folder path\n",
    "colon_folder_path = r\"C:\\Users\\devanish\\Downloads\\Datasets\\UnitTesting\\Colon\"\n",
    "print(f\"Colon folder path: {colon_folder_path}\")\n",
    "\n",
    "# Process only the first subfolder and all images within it\n",
    "subfolder_name = os.listdir(colon_folder_path)[0]\n",
    "subfolder_path = os.path.join(colon_folder_path, subfolder_name)\n",
    "print(f\"Processing subfolder: {subfolder_name}\")\n",
    "\n",
    "frames_folder = os.path.join(subfolder_path, 'Frames')\n",
    "masks_folder = os.path.join(subfolder_path, 'Masks')\n",
    "predicted_masks_folder = os.path.join(subfolder_path, 'PredictedMask')\n",
    "os.makedirs(predicted_masks_folder, exist_ok=True)\n",
    "print(f\"Predicted masks folder created at: {predicted_masks_folder}\")\n",
    "\n",
    "# Process all images in the frames folder\n",
    "image_names = sorted(os.listdir(frames_folder))\n",
    "for idx, image_name in enumerate(image_names):\n",
    "    print(f\"\\nProcessing image {idx + 1}: {image_name}\")\n",
    "    \n",
    "    if image_name.endswith('.png'):\n",
    "        image_path = os.path.join(frames_folder, image_name)\n",
    "        mask_path = os.path.join(masks_folder, image_name)\n",
    "        print(f\"Image path: {image_path}\")\n",
    "        print(f\"Mask path: {mask_path}\")\n",
    "\n",
    "        # Load the image and mask\n",
    "        image = cv2.imread(image_path)\n",
    "        if image is None:\n",
    "            print(f\"Error: Failed to load image at {image_path}\")\n",
    "            continue\n",
    "        print(\"Image loaded successfully.\")\n",
    "\n",
    "        mask = cv2.imread(mask_path, cv2.IMREAD_GRAYSCALE)\n",
    "        if mask is None:\n",
    "            print(f\"Error: Failed to load mask at {mask_path}\")\n",
    "            continue\n",
    "        print(\"Mask loaded successfully.\")\n",
    "\n",
    "        # Create a temporary JPEG folder for each image to prevent residual data\n",
    "        jpeg_folder = os.path.join(subfolder_path, f\"JPEG_Frames_{idx}\")\n",
    "        os.makedirs(jpeg_folder, exist_ok=True)\n",
    "\n",
    "        # Save the image as a JPEG in the temporary JPEG folder\n",
    "        jpeg_image_path = os.path.join(jpeg_folder, f\"{idx:05d}.jpg\")\n",
    "        success = cv2.imwrite(jpeg_image_path, image)\n",
    "        if not success:\n",
    "            print(f\"Error: Failed to save JPEG image at {jpeg_image_path}\")\n",
    "            continue\n",
    "        print(f\"JPEG image successfully saved at: {jpeg_image_path}\")\n",
    "\n",
    "        # Select three random points with value 255 from the mask as prompt coordinates\n",
    "        coords = np.column_stack(np.where(mask == 255))\n",
    "        if coords.size < 3:\n",
    "            print(f\"Insufficient valid prompt points found for mask: {image_name}\")\n",
    "            continue\n",
    "        prompt_coords = random.sample(list(coords), 3)\n",
    "        print(f\"Selected prompt coordinates: {prompt_coords}\")\n",
    "\n",
    "        # Instantiate the SAM2 model to ensure a fresh inference state\n",
    "        sam_model = build_sam2_video_predictor(\n",
    "            config_file=model_cfg,\n",
    "            ckpt_path=checkpoint_path,\n",
    "            device=device\n",
    "        )\n",
    "        inference_state = sam_model.init_state(jpeg_folder)\n",
    "        print(\"SAM2 inference state initialized.\")\n",
    "\n",
    "        # Add the three prompts and run inference, getting the output mask logits\n",
    "        obj_id = idx + 1  # Unique ID for each object (image)\n",
    "        frame_idx = 0\n",
    "        points = [[coord[1], coord[0]] for coord in prompt_coords]  # Convert Y, X to X, Y\n",
    "        labels = [1, 1, 1]  # Set labels to 1 for all points\n",
    "        print(f\"Points: {points}, Labels: {labels}\")\n",
    "\n",
    "        # Run add_new_points_or_box and get the out_mask_logits\n",
    "        _, out_obj_ids, out_mask_logits = sam_model.add_new_points_or_box(\n",
    "            inference_state=inference_state,\n",
    "            frame_idx=frame_idx,\n",
    "            obj_id=obj_id,\n",
    "            points=points,\n",
    "            labels=labels,\n",
    "        )\n",
    "        print(\"Inference completed for the frame.\")\n",
    "\n",
    "        # Check and save the output mask logits\n",
    "        if out_mask_logits is not None:\n",
    "            predicted_mask = (out_mask_logits[0].squeeze().cpu().numpy() > 0.5).astype(np.uint8) * 255\n",
    "            predicted_mask_path = os.path.join(predicted_masks_folder, f\"{idx:05d}.png\")\n",
    "            \n",
    "            # Convert to BGR if necessary for saving\n",
    "            predicted_mask_bgr = cv2.cvtColor(predicted_mask, cv2.COLOR_GRAY2BGR)\n",
    "            success = cv2.imwrite(predicted_mask_path, predicted_mask_bgr)\n",
    "            if success:\n",
    "                print(f\"Predicted mask successfully saved at: {predicted_mask_path}\")\n",
    "            else:\n",
    "                print(\"Error: cv2.imwrite failed to save the predicted mask.\")\n",
    "\n",
    "        # Clean up by resetting SAM inference state and deleting the JPEG folder\n",
    "        sam_model.reset_state(inference_state)\n",
    "        del sam_model  # Explicitly delete the model\n",
    "        gc.collect()  # Run garbage collection to free memory\n",
    "        print(\"SAM2 inference state and model reset.\")\n",
    "\n",
    "        # Remove temporary JPEG folder for the current image to ensure clean state\n",
    "        for filename in os.listdir(jpeg_folder):\n",
    "            file_path = os.path.join(jpeg_folder, filename)\n",
    "            os.remove(file_path)\n",
    "        os.rmdir(jpeg_folder)  # Delete the folder itself\n",
    "\n",
    "print(\"Inference complete for all images in the subfolder.\")\n"
   ]
  },
  {
   "cell_type": "markdown",
   "metadata": {},
   "source": [
    "## Four points over a single organ (50 samples)"
   ]
  },
  {
   "cell_type": "code",
   "execution_count": 4,
   "metadata": {},
   "outputs": [
    {
     "name": "stdout",
     "output_type": "stream",
     "text": [
      "Device set to: cpu\n",
      "Colon folder path: C:\\Users\\devanish\\Downloads\\Datasets\\UnitTesting\\Colon\n",
      "Processing subfolder: 05\n",
      "Predicted masks folder created at: C:\\Users\\devanish\\Downloads\\Datasets\\UnitTesting\\Colon\\05\\PredictedMask\n",
      "\n",
      "Processing image 1: 00000.png\n",
      "Image path: C:\\Users\\devanish\\Downloads\\Datasets\\UnitTesting\\Colon\\05\\Frames\\00000.png\n",
      "Mask path: C:\\Users\\devanish\\Downloads\\Datasets\\UnitTesting\\Colon\\05\\Masks\\00000.png\n",
      "Image loaded successfully.\n",
      "Mask loaded successfully.\n",
      "JPEG image successfully saved at: C:\\Users\\devanish\\Downloads\\Datasets\\UnitTesting\\Colon\\05\\JPEG_Frames_0\\00000.jpg\n",
      "Selected prompt coordinates: [array([ 364, 1127], dtype=int64), array([ 333, 1061], dtype=int64), array([ 468, 1248], dtype=int64), array([ 438, 1239], dtype=int64)]\n"
     ]
    },
    {
     "name": "stderr",
     "output_type": "stream",
     "text": [
      "frame loading (JPEG): 100%|██████████| 1/1 [00:00<00:00, 24.39it/s]\n"
     ]
    },
    {
     "name": "stdout",
     "output_type": "stream",
     "text": [
      "SAM2 inference state initialized.\n",
      "Points: [[1127, 364], [1061, 333], [1248, 468], [1239, 438]], Labels: [1, 1, 1, 1]\n",
      "Inference completed for the frame.\n",
      "Predicted mask successfully saved at: C:\\Users\\devanish\\Downloads\\Datasets\\UnitTesting\\Colon\\05\\PredictedMask\\00000.png\n",
      "SAM2 inference state and model reset.\n",
      "\n",
      "Processing image 2: 00001.png\n",
      "Image path: C:\\Users\\devanish\\Downloads\\Datasets\\UnitTesting\\Colon\\05\\Frames\\00001.png\n",
      "Mask path: C:\\Users\\devanish\\Downloads\\Datasets\\UnitTesting\\Colon\\05\\Masks\\00001.png\n",
      "Image loaded successfully.\n",
      "Mask loaded successfully.\n",
      "JPEG image successfully saved at: C:\\Users\\devanish\\Downloads\\Datasets\\UnitTesting\\Colon\\05\\JPEG_Frames_1\\00001.jpg\n",
      "Selected prompt coordinates: [array([179, 641], dtype=int64), array([166, 693], dtype=int64), array([254, 821], dtype=int64), array([258, 170], dtype=int64)]\n"
     ]
    },
    {
     "name": "stderr",
     "output_type": "stream",
     "text": [
      "frame loading (JPEG): 100%|██████████| 1/1 [00:00<00:00, 24.39it/s]\n"
     ]
    },
    {
     "name": "stdout",
     "output_type": "stream",
     "text": [
      "SAM2 inference state initialized.\n",
      "Points: [[641, 179], [693, 166], [821, 254], [170, 258]], Labels: [1, 1, 1, 1]\n",
      "Inference completed for the frame.\n",
      "Predicted mask successfully saved at: C:\\Users\\devanish\\Downloads\\Datasets\\UnitTesting\\Colon\\05\\PredictedMask\\00001.png\n",
      "SAM2 inference state and model reset.\n",
      "\n",
      "Processing image 3: 00002.png\n",
      "Image path: C:\\Users\\devanish\\Downloads\\Datasets\\UnitTesting\\Colon\\05\\Frames\\00002.png\n",
      "Mask path: C:\\Users\\devanish\\Downloads\\Datasets\\UnitTesting\\Colon\\05\\Masks\\00002.png\n",
      "Image loaded successfully.\n",
      "Mask loaded successfully.\n",
      "JPEG image successfully saved at: C:\\Users\\devanish\\Downloads\\Datasets\\UnitTesting\\Colon\\05\\JPEG_Frames_2\\00002.jpg\n",
      "Selected prompt coordinates: [array([248, 475], dtype=int64), array([338, 361], dtype=int64), array([153, 442], dtype=int64), array([472, 590], dtype=int64)]\n"
     ]
    },
    {
     "name": "stderr",
     "output_type": "stream",
     "text": [
      "frame loading (JPEG): 100%|██████████| 1/1 [00:00<00:00, 25.64it/s]\n"
     ]
    },
    {
     "name": "stdout",
     "output_type": "stream",
     "text": [
      "SAM2 inference state initialized.\n",
      "Points: [[475, 248], [361, 338], [442, 153], [590, 472]], Labels: [1, 1, 1, 1]\n",
      "Inference completed for the frame.\n",
      "Predicted mask successfully saved at: C:\\Users\\devanish\\Downloads\\Datasets\\UnitTesting\\Colon\\05\\PredictedMask\\00002.png\n",
      "SAM2 inference state and model reset.\n",
      "\n",
      "Processing image 4: 00003.png\n",
      "Image path: C:\\Users\\devanish\\Downloads\\Datasets\\UnitTesting\\Colon\\05\\Frames\\00003.png\n",
      "Mask path: C:\\Users\\devanish\\Downloads\\Datasets\\UnitTesting\\Colon\\05\\Masks\\00003.png\n",
      "Image loaded successfully.\n",
      "Mask loaded successfully.\n",
      "JPEG image successfully saved at: C:\\Users\\devanish\\Downloads\\Datasets\\UnitTesting\\Colon\\05\\JPEG_Frames_3\\00003.jpg\n",
      "Selected prompt coordinates: [array([242,  32], dtype=int64), array([374, 526], dtype=int64), array([276, 140], dtype=int64), array([146, 410], dtype=int64)]\n"
     ]
    },
    {
     "name": "stderr",
     "output_type": "stream",
     "text": [
      "frame loading (JPEG): 100%|██████████| 1/1 [00:00<00:00, 27.03it/s]\n"
     ]
    },
    {
     "name": "stdout",
     "output_type": "stream",
     "text": [
      "SAM2 inference state initialized.\n",
      "Points: [[32, 242], [526, 374], [140, 276], [410, 146]], Labels: [1, 1, 1, 1]\n",
      "Inference completed for the frame.\n",
      "Predicted mask successfully saved at: C:\\Users\\devanish\\Downloads\\Datasets\\UnitTesting\\Colon\\05\\PredictedMask\\00003.png\n",
      "SAM2 inference state and model reset.\n",
      "\n",
      "Processing image 5: 00004.png\n",
      "Image path: C:\\Users\\devanish\\Downloads\\Datasets\\UnitTesting\\Colon\\05\\Frames\\00004.png\n",
      "Mask path: C:\\Users\\devanish\\Downloads\\Datasets\\UnitTesting\\Colon\\05\\Masks\\00004.png\n",
      "Image loaded successfully.\n",
      "Mask loaded successfully.\n",
      "JPEG image successfully saved at: C:\\Users\\devanish\\Downloads\\Datasets\\UnitTesting\\Colon\\05\\JPEG_Frames_4\\00004.jpg\n",
      "Selected prompt coordinates: [array([  8, 105], dtype=int64), array([ 69, 189], dtype=int64), array([300, 490], dtype=int64), array([ 44, 171], dtype=int64)]\n"
     ]
    },
    {
     "name": "stderr",
     "output_type": "stream",
     "text": [
      "frame loading (JPEG): 100%|██████████| 1/1 [00:00<00:00, 27.03it/s]\n"
     ]
    },
    {
     "name": "stdout",
     "output_type": "stream",
     "text": [
      "SAM2 inference state initialized.\n",
      "Points: [[105, 8], [189, 69], [490, 300], [171, 44]], Labels: [1, 1, 1, 1]\n",
      "Inference completed for the frame.\n",
      "Predicted mask successfully saved at: C:\\Users\\devanish\\Downloads\\Datasets\\UnitTesting\\Colon\\05\\PredictedMask\\00004.png\n",
      "SAM2 inference state and model reset.\n",
      "\n",
      "Processing image 6: 00005.png\n",
      "Image path: C:\\Users\\devanish\\Downloads\\Datasets\\UnitTesting\\Colon\\05\\Frames\\00005.png\n",
      "Mask path: C:\\Users\\devanish\\Downloads\\Datasets\\UnitTesting\\Colon\\05\\Masks\\00005.png\n",
      "Image loaded successfully.\n",
      "Mask loaded successfully.\n",
      "JPEG image successfully saved at: C:\\Users\\devanish\\Downloads\\Datasets\\UnitTesting\\Colon\\05\\JPEG_Frames_5\\00005.jpg\n",
      "Selected prompt coordinates: [array([296, 231], dtype=int64), array([ 10, 430], dtype=int64), array([253, 671], dtype=int64), array([160, 475], dtype=int64)]\n"
     ]
    },
    {
     "name": "stderr",
     "output_type": "stream",
     "text": [
      "frame loading (JPEG): 100%|██████████| 1/1 [00:00<00:00, 22.69it/s]\n"
     ]
    },
    {
     "name": "stdout",
     "output_type": "stream",
     "text": [
      "SAM2 inference state initialized.\n",
      "Points: [[231, 296], [430, 10], [671, 253], [475, 160]], Labels: [1, 1, 1, 1]\n",
      "Inference completed for the frame.\n",
      "Predicted mask successfully saved at: C:\\Users\\devanish\\Downloads\\Datasets\\UnitTesting\\Colon\\05\\PredictedMask\\00005.png\n",
      "SAM2 inference state and model reset.\n",
      "\n",
      "Processing image 7: 00006.png\n",
      "Image path: C:\\Users\\devanish\\Downloads\\Datasets\\UnitTesting\\Colon\\05\\Frames\\00006.png\n",
      "Mask path: C:\\Users\\devanish\\Downloads\\Datasets\\UnitTesting\\Colon\\05\\Masks\\00006.png\n",
      "Image loaded successfully.\n",
      "Mask loaded successfully.\n",
      "JPEG image successfully saved at: C:\\Users\\devanish\\Downloads\\Datasets\\UnitTesting\\Colon\\05\\JPEG_Frames_6\\00006.jpg\n",
      "Selected prompt coordinates: [array([487, 809], dtype=int64), array([422, 596], dtype=int64), array([339,  91], dtype=int64), array([247, 309], dtype=int64)]\n"
     ]
    },
    {
     "name": "stderr",
     "output_type": "stream",
     "text": [
      "frame loading (JPEG): 100%|██████████| 1/1 [00:00<00:00, 23.81it/s]\n"
     ]
    },
    {
     "name": "stdout",
     "output_type": "stream",
     "text": [
      "SAM2 inference state initialized.\n",
      "Points: [[809, 487], [596, 422], [91, 339], [309, 247]], Labels: [1, 1, 1, 1]\n",
      "Inference completed for the frame.\n",
      "Predicted mask successfully saved at: C:\\Users\\devanish\\Downloads\\Datasets\\UnitTesting\\Colon\\05\\PredictedMask\\00006.png\n",
      "SAM2 inference state and model reset.\n",
      "\n",
      "Processing image 8: 00007.png\n",
      "Image path: C:\\Users\\devanish\\Downloads\\Datasets\\UnitTesting\\Colon\\05\\Frames\\00007.png\n",
      "Mask path: C:\\Users\\devanish\\Downloads\\Datasets\\UnitTesting\\Colon\\05\\Masks\\00007.png\n",
      "Image loaded successfully.\n",
      "Mask loaded successfully.\n",
      "JPEG image successfully saved at: C:\\Users\\devanish\\Downloads\\Datasets\\UnitTesting\\Colon\\05\\JPEG_Frames_7\\00007.jpg\n",
      "Selected prompt coordinates: [array([174, 710], dtype=int64), array([  6, 690], dtype=int64), array([ 85, 219], dtype=int64), array([131, 720], dtype=int64)]\n"
     ]
    },
    {
     "name": "stderr",
     "output_type": "stream",
     "text": [
      "frame loading (JPEG): 100%|██████████| 1/1 [00:00<00:00, 25.64it/s]\n"
     ]
    },
    {
     "name": "stdout",
     "output_type": "stream",
     "text": [
      "SAM2 inference state initialized.\n",
      "Points: [[710, 174], [690, 6], [219, 85], [720, 131]], Labels: [1, 1, 1, 1]\n",
      "Inference completed for the frame.\n",
      "Predicted mask successfully saved at: C:\\Users\\devanish\\Downloads\\Datasets\\UnitTesting\\Colon\\05\\PredictedMask\\00007.png\n",
      "SAM2 inference state and model reset.\n",
      "\n",
      "Processing image 9: 00008.png\n",
      "Image path: C:\\Users\\devanish\\Downloads\\Datasets\\UnitTesting\\Colon\\05\\Frames\\00008.png\n",
      "Mask path: C:\\Users\\devanish\\Downloads\\Datasets\\UnitTesting\\Colon\\05\\Masks\\00008.png\n",
      "Image loaded successfully.\n",
      "Mask loaded successfully.\n",
      "JPEG image successfully saved at: C:\\Users\\devanish\\Downloads\\Datasets\\UnitTesting\\Colon\\05\\JPEG_Frames_8\\00008.jpg\n",
      "Selected prompt coordinates: [array([157,  50], dtype=int64), array([275, 107], dtype=int64), array([157, 115], dtype=int64), array([399, 191], dtype=int64)]\n"
     ]
    },
    {
     "name": "stderr",
     "output_type": "stream",
     "text": [
      "frame loading (JPEG): 100%|██████████| 1/1 [00:00<00:00, 26.32it/s]\n"
     ]
    },
    {
     "name": "stdout",
     "output_type": "stream",
     "text": [
      "SAM2 inference state initialized.\n",
      "Points: [[50, 157], [107, 275], [115, 157], [191, 399]], Labels: [1, 1, 1, 1]\n",
      "Inference completed for the frame.\n",
      "Predicted mask successfully saved at: C:\\Users\\devanish\\Downloads\\Datasets\\UnitTesting\\Colon\\05\\PredictedMask\\00008.png\n",
      "SAM2 inference state and model reset.\n",
      "\n",
      "Processing image 10: 00009.png\n",
      "Image path: C:\\Users\\devanish\\Downloads\\Datasets\\UnitTesting\\Colon\\05\\Frames\\00009.png\n",
      "Mask path: C:\\Users\\devanish\\Downloads\\Datasets\\UnitTesting\\Colon\\05\\Masks\\00009.png\n",
      "Image loaded successfully.\n",
      "Mask loaded successfully.\n",
      "JPEG image successfully saved at: C:\\Users\\devanish\\Downloads\\Datasets\\UnitTesting\\Colon\\05\\JPEG_Frames_9\\00009.jpg\n",
      "Selected prompt coordinates: [array([189, 326], dtype=int64), array([274, 309], dtype=int64), array([267, 307], dtype=int64), array([ 154, 1041], dtype=int64)]\n"
     ]
    },
    {
     "name": "stderr",
     "output_type": "stream",
     "text": [
      "frame loading (JPEG): 100%|██████████| 1/1 [00:00<00:00, 27.03it/s]\n"
     ]
    },
    {
     "name": "stdout",
     "output_type": "stream",
     "text": [
      "SAM2 inference state initialized.\n",
      "Points: [[326, 189], [309, 274], [307, 267], [1041, 154]], Labels: [1, 1, 1, 1]\n",
      "Inference completed for the frame.\n",
      "Predicted mask successfully saved at: C:\\Users\\devanish\\Downloads\\Datasets\\UnitTesting\\Colon\\05\\PredictedMask\\00009.png\n",
      "SAM2 inference state and model reset.\n",
      "\n",
      "Processing image 11: 00010.png\n",
      "Image path: C:\\Users\\devanish\\Downloads\\Datasets\\UnitTesting\\Colon\\05\\Frames\\00010.png\n",
      "Mask path: C:\\Users\\devanish\\Downloads\\Datasets\\UnitTesting\\Colon\\05\\Masks\\00010.png\n",
      "Image loaded successfully.\n",
      "Mask loaded successfully.\n",
      "JPEG image successfully saved at: C:\\Users\\devanish\\Downloads\\Datasets\\UnitTesting\\Colon\\05\\JPEG_Frames_10\\00010.jpg\n",
      "Selected prompt coordinates: [array([601, 148], dtype=int64), array([728,  72], dtype=int64), array([506, 604], dtype=int64), array([747, 290], dtype=int64)]\n"
     ]
    },
    {
     "name": "stderr",
     "output_type": "stream",
     "text": [
      "frame loading (JPEG): 100%|██████████| 1/1 [00:00<00:00, 23.26it/s]\n"
     ]
    },
    {
     "name": "stdout",
     "output_type": "stream",
     "text": [
      "SAM2 inference state initialized.\n",
      "Points: [[148, 601], [72, 728], [604, 506], [290, 747]], Labels: [1, 1, 1, 1]\n",
      "Inference completed for the frame.\n",
      "Predicted mask successfully saved at: C:\\Users\\devanish\\Downloads\\Datasets\\UnitTesting\\Colon\\05\\PredictedMask\\00010.png\n",
      "SAM2 inference state and model reset.\n",
      "\n",
      "Processing image 12: 00011.png\n",
      "Image path: C:\\Users\\devanish\\Downloads\\Datasets\\UnitTesting\\Colon\\05\\Frames\\00011.png\n",
      "Mask path: C:\\Users\\devanish\\Downloads\\Datasets\\UnitTesting\\Colon\\05\\Masks\\00011.png\n",
      "Image loaded successfully.\n",
      "Mask loaded successfully.\n",
      "JPEG image successfully saved at: C:\\Users\\devanish\\Downloads\\Datasets\\UnitTesting\\Colon\\05\\JPEG_Frames_11\\00011.jpg\n",
      "Selected prompt coordinates: [array([904,  53], dtype=int64), array([718, 105], dtype=int64), array([777, 192], dtype=int64), array([909, 104], dtype=int64)]\n"
     ]
    },
    {
     "name": "stderr",
     "output_type": "stream",
     "text": [
      "frame loading (JPEG): 100%|██████████| 1/1 [00:00<00:00, 25.64it/s]\n"
     ]
    },
    {
     "name": "stdout",
     "output_type": "stream",
     "text": [
      "SAM2 inference state initialized.\n",
      "Points: [[53, 904], [105, 718], [192, 777], [104, 909]], Labels: [1, 1, 1, 1]\n",
      "Inference completed for the frame.\n",
      "Predicted mask successfully saved at: C:\\Users\\devanish\\Downloads\\Datasets\\UnitTesting\\Colon\\05\\PredictedMask\\00011.png\n",
      "SAM2 inference state and model reset.\n",
      "\n",
      "Processing image 13: 00012.png\n",
      "Image path: C:\\Users\\devanish\\Downloads\\Datasets\\UnitTesting\\Colon\\05\\Frames\\00012.png\n",
      "Mask path: C:\\Users\\devanish\\Downloads\\Datasets\\UnitTesting\\Colon\\05\\Masks\\00012.png\n",
      "Image loaded successfully.\n",
      "Mask loaded successfully.\n",
      "JPEG image successfully saved at: C:\\Users\\devanish\\Downloads\\Datasets\\UnitTesting\\Colon\\05\\JPEG_Frames_12\\00012.jpg\n",
      "Selected prompt coordinates: [array([924, 536], dtype=int64), array([670, 109], dtype=int64), array([716, 511], dtype=int64), array([788, 432], dtype=int64)]\n"
     ]
    },
    {
     "name": "stderr",
     "output_type": "stream",
     "text": [
      "frame loading (JPEG): 100%|██████████| 1/1 [00:00<00:00, 27.03it/s]\n"
     ]
    },
    {
     "name": "stdout",
     "output_type": "stream",
     "text": [
      "SAM2 inference state initialized.\n",
      "Points: [[536, 924], [109, 670], [511, 716], [432, 788]], Labels: [1, 1, 1, 1]\n",
      "Inference completed for the frame.\n",
      "Predicted mask successfully saved at: C:\\Users\\devanish\\Downloads\\Datasets\\UnitTesting\\Colon\\05\\PredictedMask\\00012.png\n",
      "SAM2 inference state and model reset.\n",
      "\n",
      "Processing image 14: 00013.png\n",
      "Image path: C:\\Users\\devanish\\Downloads\\Datasets\\UnitTesting\\Colon\\05\\Frames\\00013.png\n",
      "Mask path: C:\\Users\\devanish\\Downloads\\Datasets\\UnitTesting\\Colon\\05\\Masks\\00013.png\n",
      "Image loaded successfully.\n",
      "Mask loaded successfully.\n",
      "JPEG image successfully saved at: C:\\Users\\devanish\\Downloads\\Datasets\\UnitTesting\\Colon\\05\\JPEG_Frames_13\\00013.jpg\n",
      "Selected prompt coordinates: [array([651, 463], dtype=int64), array([460, 512], dtype=int64), array([704, 395], dtype=int64), array([740, 261], dtype=int64)]\n"
     ]
    },
    {
     "name": "stderr",
     "output_type": "stream",
     "text": [
      "frame loading (JPEG): 100%|██████████| 1/1 [00:00<00:00, 27.03it/s]\n"
     ]
    },
    {
     "name": "stdout",
     "output_type": "stream",
     "text": [
      "SAM2 inference state initialized.\n",
      "Points: [[463, 651], [512, 460], [395, 704], [261, 740]], Labels: [1, 1, 1, 1]\n",
      "Inference completed for the frame.\n",
      "Predicted mask successfully saved at: C:\\Users\\devanish\\Downloads\\Datasets\\UnitTesting\\Colon\\05\\PredictedMask\\00013.png\n",
      "SAM2 inference state and model reset.\n",
      "\n",
      "Processing image 15: 00014.png\n",
      "Image path: C:\\Users\\devanish\\Downloads\\Datasets\\UnitTesting\\Colon\\05\\Frames\\00014.png\n",
      "Mask path: C:\\Users\\devanish\\Downloads\\Datasets\\UnitTesting\\Colon\\05\\Masks\\00014.png\n",
      "Image loaded successfully.\n",
      "Mask loaded successfully.\n",
      "JPEG image successfully saved at: C:\\Users\\devanish\\Downloads\\Datasets\\UnitTesting\\Colon\\05\\JPEG_Frames_14\\00014.jpg\n",
      "Selected prompt coordinates: [array([852, 515], dtype=int64), array([757, 273], dtype=int64), array([827, 648], dtype=int64), array([823, 559], dtype=int64)]\n"
     ]
    },
    {
     "name": "stderr",
     "output_type": "stream",
     "text": [
      "frame loading (JPEG): 100%|██████████| 1/1 [00:00<00:00, 23.74it/s]\n"
     ]
    },
    {
     "name": "stdout",
     "output_type": "stream",
     "text": [
      "SAM2 inference state initialized.\n",
      "Points: [[515, 852], [273, 757], [648, 827], [559, 823]], Labels: [1, 1, 1, 1]\n",
      "Inference completed for the frame.\n",
      "Predicted mask successfully saved at: C:\\Users\\devanish\\Downloads\\Datasets\\UnitTesting\\Colon\\05\\PredictedMask\\00014.png\n",
      "SAM2 inference state and model reset.\n",
      "\n",
      "Processing image 16: 00015.png\n",
      "Image path: C:\\Users\\devanish\\Downloads\\Datasets\\UnitTesting\\Colon\\05\\Frames\\00015.png\n",
      "Mask path: C:\\Users\\devanish\\Downloads\\Datasets\\UnitTesting\\Colon\\05\\Masks\\00015.png\n",
      "Image loaded successfully.\n",
      "Mask loaded successfully.\n",
      "JPEG image successfully saved at: C:\\Users\\devanish\\Downloads\\Datasets\\UnitTesting\\Colon\\05\\JPEG_Frames_15\\00015.jpg\n",
      "Selected prompt coordinates: [array([493, 525], dtype=int64), array([535, 444], dtype=int64), array([613, 436], dtype=int64), array([583, 461], dtype=int64)]\n"
     ]
    },
    {
     "name": "stderr",
     "output_type": "stream",
     "text": [
      "frame loading (JPEG): 100%|██████████| 1/1 [00:00<00:00, 26.32it/s]\n"
     ]
    },
    {
     "name": "stdout",
     "output_type": "stream",
     "text": [
      "SAM2 inference state initialized.\n",
      "Points: [[525, 493], [444, 535], [436, 613], [461, 583]], Labels: [1, 1, 1, 1]\n",
      "Inference completed for the frame.\n",
      "Predicted mask successfully saved at: C:\\Users\\devanish\\Downloads\\Datasets\\UnitTesting\\Colon\\05\\PredictedMask\\00015.png\n",
      "SAM2 inference state and model reset.\n",
      "\n",
      "Processing image 17: 00016.png\n",
      "Image path: C:\\Users\\devanish\\Downloads\\Datasets\\UnitTesting\\Colon\\05\\Frames\\00016.png\n",
      "Mask path: C:\\Users\\devanish\\Downloads\\Datasets\\UnitTesting\\Colon\\05\\Masks\\00016.png\n",
      "Image loaded successfully.\n",
      "Mask loaded successfully.\n",
      "JPEG image successfully saved at: C:\\Users\\devanish\\Downloads\\Datasets\\UnitTesting\\Colon\\05\\JPEG_Frames_16\\00016.jpg\n",
      "Selected prompt coordinates: [array([775, 479], dtype=int64), array([947, 334], dtype=int64), array([874, 586], dtype=int64), array([902, 569], dtype=int64)]\n"
     ]
    },
    {
     "name": "stderr",
     "output_type": "stream",
     "text": [
      "frame loading (JPEG): 100%|██████████| 1/1 [00:00<00:00, 26.32it/s]\n"
     ]
    },
    {
     "name": "stdout",
     "output_type": "stream",
     "text": [
      "SAM2 inference state initialized.\n",
      "Points: [[479, 775], [334, 947], [586, 874], [569, 902]], Labels: [1, 1, 1, 1]\n",
      "Inference completed for the frame.\n",
      "Predicted mask successfully saved at: C:\\Users\\devanish\\Downloads\\Datasets\\UnitTesting\\Colon\\05\\PredictedMask\\00016.png\n",
      "SAM2 inference state and model reset.\n",
      "\n",
      "Processing image 18: 00017.png\n",
      "Image path: C:\\Users\\devanish\\Downloads\\Datasets\\UnitTesting\\Colon\\05\\Frames\\00017.png\n",
      "Mask path: C:\\Users\\devanish\\Downloads\\Datasets\\UnitTesting\\Colon\\05\\Masks\\00017.png\n",
      "Image loaded successfully.\n",
      "Mask loaded successfully.\n",
      "JPEG image successfully saved at: C:\\Users\\devanish\\Downloads\\Datasets\\UnitTesting\\Colon\\05\\JPEG_Frames_17\\00017.jpg\n",
      "Selected prompt coordinates: [array([897, 414], dtype=int64), array([727, 397], dtype=int64), array([910, 364], dtype=int64), array([741, 319], dtype=int64)]\n"
     ]
    },
    {
     "name": "stderr",
     "output_type": "stream",
     "text": [
      "frame loading (JPEG): 100%|██████████| 1/1 [00:00<00:00, 24.39it/s]\n"
     ]
    },
    {
     "name": "stdout",
     "output_type": "stream",
     "text": [
      "SAM2 inference state initialized.\n",
      "Points: [[414, 897], [397, 727], [364, 910], [319, 741]], Labels: [1, 1, 1, 1]\n",
      "Inference completed for the frame.\n",
      "Predicted mask successfully saved at: C:\\Users\\devanish\\Downloads\\Datasets\\UnitTesting\\Colon\\05\\PredictedMask\\00017.png\n",
      "SAM2 inference state and model reset.\n",
      "\n",
      "Processing image 19: 00018.png\n",
      "Image path: C:\\Users\\devanish\\Downloads\\Datasets\\UnitTesting\\Colon\\05\\Frames\\00018.png\n",
      "Mask path: C:\\Users\\devanish\\Downloads\\Datasets\\UnitTesting\\Colon\\05\\Masks\\00018.png\n",
      "Image loaded successfully.\n",
      "Mask loaded successfully.\n",
      "JPEG image successfully saved at: C:\\Users\\devanish\\Downloads\\Datasets\\UnitTesting\\Colon\\05\\JPEG_Frames_18\\00018.jpg\n",
      "Selected prompt coordinates: [array([650, 406], dtype=int64), array([785, 627], dtype=int64), array([768, 276], dtype=int64), array([657, 405], dtype=int64)]\n"
     ]
    },
    {
     "name": "stderr",
     "output_type": "stream",
     "text": [
      "frame loading (JPEG): 100%|██████████| 1/1 [00:00<00:00, 25.00it/s]\n"
     ]
    },
    {
     "name": "stdout",
     "output_type": "stream",
     "text": [
      "SAM2 inference state initialized.\n",
      "Points: [[406, 650], [627, 785], [276, 768], [405, 657]], Labels: [1, 1, 1, 1]\n",
      "Inference completed for the frame.\n",
      "Predicted mask successfully saved at: C:\\Users\\devanish\\Downloads\\Datasets\\UnitTesting\\Colon\\05\\PredictedMask\\00018.png\n",
      "SAM2 inference state and model reset.\n",
      "\n",
      "Processing image 20: 00019.png\n",
      "Image path: C:\\Users\\devanish\\Downloads\\Datasets\\UnitTesting\\Colon\\05\\Frames\\00019.png\n",
      "Mask path: C:\\Users\\devanish\\Downloads\\Datasets\\UnitTesting\\Colon\\05\\Masks\\00019.png\n",
      "Image loaded successfully.\n",
      "Mask loaded successfully.\n",
      "JPEG image successfully saved at: C:\\Users\\devanish\\Downloads\\Datasets\\UnitTesting\\Colon\\05\\JPEG_Frames_19\\00019.jpg\n",
      "Selected prompt coordinates: [array([527, 569], dtype=int64), array([452, 476], dtype=int64), array([614, 309], dtype=int64), array([719, 347], dtype=int64)]\n"
     ]
    },
    {
     "name": "stderr",
     "output_type": "stream",
     "text": [
      "frame loading (JPEG): 100%|██████████| 1/1 [00:00<00:00, 26.32it/s]\n"
     ]
    },
    {
     "name": "stdout",
     "output_type": "stream",
     "text": [
      "SAM2 inference state initialized.\n",
      "Points: [[569, 527], [476, 452], [309, 614], [347, 719]], Labels: [1, 1, 1, 1]\n",
      "Inference completed for the frame.\n",
      "Predicted mask successfully saved at: C:\\Users\\devanish\\Downloads\\Datasets\\UnitTesting\\Colon\\05\\PredictedMask\\00019.png\n",
      "SAM2 inference state and model reset.\n",
      "\n",
      "Processing image 21: 00020.png\n",
      "Image path: C:\\Users\\devanish\\Downloads\\Datasets\\UnitTesting\\Colon\\05\\Frames\\00020.png\n",
      "Mask path: C:\\Users\\devanish\\Downloads\\Datasets\\UnitTesting\\Colon\\05\\Masks\\00020.png\n",
      "Image loaded successfully.\n",
      "Mask loaded successfully.\n",
      "JPEG image successfully saved at: C:\\Users\\devanish\\Downloads\\Datasets\\UnitTesting\\Colon\\05\\JPEG_Frames_20\\00020.jpg\n",
      "Selected prompt coordinates: [array([870,  86], dtype=int64), array([734, 189], dtype=int64), array([835, 348], dtype=int64), array([922, 284], dtype=int64)]\n"
     ]
    },
    {
     "name": "stderr",
     "output_type": "stream",
     "text": [
      "frame loading (JPEG): 100%|██████████| 1/1 [00:00<00:00, 24.39it/s]\n"
     ]
    },
    {
     "name": "stdout",
     "output_type": "stream",
     "text": [
      "SAM2 inference state initialized.\n",
      "Points: [[86, 870], [189, 734], [348, 835], [284, 922]], Labels: [1, 1, 1, 1]\n",
      "Inference completed for the frame.\n",
      "Predicted mask successfully saved at: C:\\Users\\devanish\\Downloads\\Datasets\\UnitTesting\\Colon\\05\\PredictedMask\\00020.png\n",
      "SAM2 inference state and model reset.\n",
      "\n",
      "Processing image 22: 00021.png\n",
      "Image path: C:\\Users\\devanish\\Downloads\\Datasets\\UnitTesting\\Colon\\05\\Frames\\00021.png\n",
      "Mask path: C:\\Users\\devanish\\Downloads\\Datasets\\UnitTesting\\Colon\\05\\Masks\\00021.png\n",
      "Image loaded successfully.\n",
      "Mask loaded successfully.\n",
      "JPEG image successfully saved at: C:\\Users\\devanish\\Downloads\\Datasets\\UnitTesting\\Colon\\05\\JPEG_Frames_21\\00021.jpg\n",
      "Selected prompt coordinates: [array([850, 154], dtype=int64), array([879, 167], dtype=int64), array([777, 219], dtype=int64), array([796, 439], dtype=int64)]\n"
     ]
    },
    {
     "name": "stderr",
     "output_type": "stream",
     "text": [
      "frame loading (JPEG): 100%|██████████| 1/1 [00:00<00:00, 23.14it/s]\n"
     ]
    },
    {
     "name": "stdout",
     "output_type": "stream",
     "text": [
      "SAM2 inference state initialized.\n",
      "Points: [[154, 850], [167, 879], [219, 777], [439, 796]], Labels: [1, 1, 1, 1]\n",
      "Inference completed for the frame.\n",
      "Predicted mask successfully saved at: C:\\Users\\devanish\\Downloads\\Datasets\\UnitTesting\\Colon\\05\\PredictedMask\\00021.png\n",
      "SAM2 inference state and model reset.\n",
      "\n",
      "Processing image 23: 00022.png\n",
      "Image path: C:\\Users\\devanish\\Downloads\\Datasets\\UnitTesting\\Colon\\05\\Frames\\00022.png\n",
      "Mask path: C:\\Users\\devanish\\Downloads\\Datasets\\UnitTesting\\Colon\\05\\Masks\\00022.png\n",
      "Image loaded successfully.\n",
      "Mask loaded successfully.\n",
      "JPEG image successfully saved at: C:\\Users\\devanish\\Downloads\\Datasets\\UnitTesting\\Colon\\05\\JPEG_Frames_22\\00022.jpg\n",
      "Selected prompt coordinates: [array([939, 269], dtype=int64), array([508, 358], dtype=int64), array([934, 149], dtype=int64), array([532, 390], dtype=int64)]\n"
     ]
    },
    {
     "name": "stderr",
     "output_type": "stream",
     "text": [
      "frame loading (JPEG): 100%|██████████| 1/1 [00:00<00:00, 25.64it/s]\n"
     ]
    },
    {
     "name": "stdout",
     "output_type": "stream",
     "text": [
      "SAM2 inference state initialized.\n",
      "Points: [[269, 939], [358, 508], [149, 934], [390, 532]], Labels: [1, 1, 1, 1]\n",
      "Inference completed for the frame.\n",
      "Predicted mask successfully saved at: C:\\Users\\devanish\\Downloads\\Datasets\\UnitTesting\\Colon\\05\\PredictedMask\\00022.png\n",
      "SAM2 inference state and model reset.\n",
      "\n",
      "Processing image 24: 00023.png\n",
      "Image path: C:\\Users\\devanish\\Downloads\\Datasets\\UnitTesting\\Colon\\05\\Frames\\00023.png\n",
      "Mask path: C:\\Users\\devanish\\Downloads\\Datasets\\UnitTesting\\Colon\\05\\Masks\\00023.png\n",
      "Image loaded successfully.\n",
      "Mask loaded successfully.\n",
      "JPEG image successfully saved at: C:\\Users\\devanish\\Downloads\\Datasets\\UnitTesting\\Colon\\05\\JPEG_Frames_23\\00023.jpg\n",
      "Selected prompt coordinates: [array([631, 186], dtype=int64), array([686, 161], dtype=int64), array([522, 276], dtype=int64), array([524, 287], dtype=int64)]\n"
     ]
    },
    {
     "name": "stderr",
     "output_type": "stream",
     "text": [
      "frame loading (JPEG): 100%|██████████| 1/1 [00:00<00:00, 26.32it/s]\n"
     ]
    },
    {
     "name": "stdout",
     "output_type": "stream",
     "text": [
      "SAM2 inference state initialized.\n",
      "Points: [[186, 631], [161, 686], [276, 522], [287, 524]], Labels: [1, 1, 1, 1]\n",
      "Inference completed for the frame.\n",
      "Predicted mask successfully saved at: C:\\Users\\devanish\\Downloads\\Datasets\\UnitTesting\\Colon\\05\\PredictedMask\\00023.png\n",
      "SAM2 inference state and model reset.\n",
      "\n",
      "Processing image 25: 00024.png\n",
      "Image path: C:\\Users\\devanish\\Downloads\\Datasets\\UnitTesting\\Colon\\05\\Frames\\00024.png\n",
      "Mask path: C:\\Users\\devanish\\Downloads\\Datasets\\UnitTesting\\Colon\\05\\Masks\\00024.png\n",
      "Image loaded successfully.\n",
      "Mask loaded successfully.\n",
      "JPEG image successfully saved at: C:\\Users\\devanish\\Downloads\\Datasets\\UnitTesting\\Colon\\05\\JPEG_Frames_24\\00024.jpg\n",
      "Selected prompt coordinates: [array([690, 128], dtype=int64), array([896, 215], dtype=int64), array([433, 211], dtype=int64), array([517,  72], dtype=int64)]\n"
     ]
    },
    {
     "name": "stderr",
     "output_type": "stream",
     "text": [
      "frame loading (JPEG): 100%|██████████| 1/1 [00:00<00:00, 24.39it/s]\n"
     ]
    },
    {
     "name": "stdout",
     "output_type": "stream",
     "text": [
      "SAM2 inference state initialized.\n",
      "Points: [[128, 690], [215, 896], [211, 433], [72, 517]], Labels: [1, 1, 1, 1]\n",
      "Inference completed for the frame.\n",
      "Predicted mask successfully saved at: C:\\Users\\devanish\\Downloads\\Datasets\\UnitTesting\\Colon\\05\\PredictedMask\\00024.png\n",
      "SAM2 inference state and model reset.\n",
      "\n",
      "Processing image 26: 00025.png\n",
      "Image path: C:\\Users\\devanish\\Downloads\\Datasets\\UnitTesting\\Colon\\05\\Frames\\00025.png\n",
      "Mask path: C:\\Users\\devanish\\Downloads\\Datasets\\UnitTesting\\Colon\\05\\Masks\\00025.png\n",
      "Image loaded successfully.\n",
      "Mask loaded successfully.\n",
      "JPEG image successfully saved at: C:\\Users\\devanish\\Downloads\\Datasets\\UnitTesting\\Colon\\05\\JPEG_Frames_25\\00025.jpg\n",
      "Selected prompt coordinates: [array([751, 231], dtype=int64), array([898,  76], dtype=int64), array([833, 149], dtype=int64), array([899, 338], dtype=int64)]\n"
     ]
    },
    {
     "name": "stderr",
     "output_type": "stream",
     "text": [
      "frame loading (JPEG): 100%|██████████| 1/1 [00:00<00:00, 22.22it/s]\n"
     ]
    },
    {
     "name": "stdout",
     "output_type": "stream",
     "text": [
      "SAM2 inference state initialized.\n",
      "Points: [[231, 751], [76, 898], [149, 833], [338, 899]], Labels: [1, 1, 1, 1]\n",
      "Inference completed for the frame.\n",
      "Predicted mask successfully saved at: C:\\Users\\devanish\\Downloads\\Datasets\\UnitTesting\\Colon\\05\\PredictedMask\\00025.png\n",
      "SAM2 inference state and model reset.\n",
      "\n",
      "Processing image 27: 00026.png\n",
      "Image path: C:\\Users\\devanish\\Downloads\\Datasets\\UnitTesting\\Colon\\05\\Frames\\00026.png\n",
      "Mask path: C:\\Users\\devanish\\Downloads\\Datasets\\UnitTesting\\Colon\\05\\Masks\\00026.png\n",
      "Image loaded successfully.\n",
      "Mask loaded successfully.\n",
      "JPEG image successfully saved at: C:\\Users\\devanish\\Downloads\\Datasets\\UnitTesting\\Colon\\05\\JPEG_Frames_26\\00026.jpg\n",
      "Selected prompt coordinates: [array([585, 346], dtype=int64), array([875,  57], dtype=int64), array([945, 110], dtype=int64), array([856, 134], dtype=int64)]\n"
     ]
    },
    {
     "name": "stderr",
     "output_type": "stream",
     "text": [
      "frame loading (JPEG): 100%|██████████| 1/1 [00:00<00:00, 22.73it/s]\n"
     ]
    },
    {
     "name": "stdout",
     "output_type": "stream",
     "text": [
      "SAM2 inference state initialized.\n",
      "Points: [[346, 585], [57, 875], [110, 945], [134, 856]], Labels: [1, 1, 1, 1]\n",
      "Inference completed for the frame.\n",
      "Predicted mask successfully saved at: C:\\Users\\devanish\\Downloads\\Datasets\\UnitTesting\\Colon\\05\\PredictedMask\\00026.png\n",
      "SAM2 inference state and model reset.\n",
      "\n",
      "Processing image 28: 00027.png\n",
      "Image path: C:\\Users\\devanish\\Downloads\\Datasets\\UnitTesting\\Colon\\05\\Frames\\00027.png\n",
      "Mask path: C:\\Users\\devanish\\Downloads\\Datasets\\UnitTesting\\Colon\\05\\Masks\\00027.png\n",
      "Image loaded successfully.\n",
      "Mask loaded successfully.\n",
      "JPEG image successfully saved at: C:\\Users\\devanish\\Downloads\\Datasets\\UnitTesting\\Colon\\05\\JPEG_Frames_27\\00027.jpg\n",
      "Selected prompt coordinates: [array([734, 605], dtype=int64), array([825, 447], dtype=int64), array([923, 679], dtype=int64), array([916, 734], dtype=int64)]\n"
     ]
    },
    {
     "name": "stderr",
     "output_type": "stream",
     "text": [
      "frame loading (JPEG): 100%|██████████| 1/1 [00:00<00:00, 23.81it/s]\n"
     ]
    },
    {
     "name": "stdout",
     "output_type": "stream",
     "text": [
      "SAM2 inference state initialized.\n",
      "Points: [[605, 734], [447, 825], [679, 923], [734, 916]], Labels: [1, 1, 1, 1]\n",
      "Inference completed for the frame.\n",
      "Predicted mask successfully saved at: C:\\Users\\devanish\\Downloads\\Datasets\\UnitTesting\\Colon\\05\\PredictedMask\\00027.png\n",
      "SAM2 inference state and model reset.\n",
      "\n",
      "Processing image 29: 00028.png\n",
      "Image path: C:\\Users\\devanish\\Downloads\\Datasets\\UnitTesting\\Colon\\05\\Frames\\00028.png\n",
      "Mask path: C:\\Users\\devanish\\Downloads\\Datasets\\UnitTesting\\Colon\\05\\Masks\\00028.png\n",
      "Image loaded successfully.\n",
      "Mask loaded successfully.\n",
      "JPEG image successfully saved at: C:\\Users\\devanish\\Downloads\\Datasets\\UnitTesting\\Colon\\05\\JPEG_Frames_28\\00028.jpg\n",
      "Selected prompt coordinates: [array([728, 823], dtype=int64), array([928, 917], dtype=int64), array([605, 847], dtype=int64), array([ 907, 1011], dtype=int64)]\n"
     ]
    },
    {
     "name": "stderr",
     "output_type": "stream",
     "text": [
      "frame loading (JPEG): 100%|██████████| 1/1 [00:00<00:00, 25.64it/s]\n"
     ]
    },
    {
     "name": "stdout",
     "output_type": "stream",
     "text": [
      "SAM2 inference state initialized.\n",
      "Points: [[823, 728], [917, 928], [847, 605], [1011, 907]], Labels: [1, 1, 1, 1]\n",
      "Inference completed for the frame.\n",
      "Predicted mask successfully saved at: C:\\Users\\devanish\\Downloads\\Datasets\\UnitTesting\\Colon\\05\\PredictedMask\\00028.png\n",
      "SAM2 inference state and model reset.\n",
      "\n",
      "Processing image 30: 00029.png\n",
      "Image path: C:\\Users\\devanish\\Downloads\\Datasets\\UnitTesting\\Colon\\05\\Frames\\00029.png\n",
      "Mask path: C:\\Users\\devanish\\Downloads\\Datasets\\UnitTesting\\Colon\\05\\Masks\\00029.png\n",
      "Image loaded successfully.\n",
      "Mask loaded successfully.\n",
      "JPEG image successfully saved at: C:\\Users\\devanish\\Downloads\\Datasets\\UnitTesting\\Colon\\05\\JPEG_Frames_29\\00029.jpg\n",
      "Selected prompt coordinates: [array([939, 555], dtype=int64), array([773, 665], dtype=int64), array([858, 655], dtype=int64), array([693, 796], dtype=int64)]\n"
     ]
    },
    {
     "name": "stderr",
     "output_type": "stream",
     "text": [
      "frame loading (JPEG): 100%|██████████| 1/1 [00:00<00:00, 25.64it/s]\n"
     ]
    },
    {
     "name": "stdout",
     "output_type": "stream",
     "text": [
      "SAM2 inference state initialized.\n",
      "Points: [[555, 939], [665, 773], [655, 858], [796, 693]], Labels: [1, 1, 1, 1]\n",
      "Inference completed for the frame.\n",
      "Predicted mask successfully saved at: C:\\Users\\devanish\\Downloads\\Datasets\\UnitTesting\\Colon\\05\\PredictedMask\\00029.png\n",
      "SAM2 inference state and model reset.\n",
      "\n",
      "Processing image 31: 00030.png\n",
      "Image path: C:\\Users\\devanish\\Downloads\\Datasets\\UnitTesting\\Colon\\05\\Frames\\00030.png\n",
      "Mask path: C:\\Users\\devanish\\Downloads\\Datasets\\UnitTesting\\Colon\\05\\Masks\\00030.png\n",
      "Image loaded successfully.\n",
      "Mask loaded successfully.\n",
      "JPEG image successfully saved at: C:\\Users\\devanish\\Downloads\\Datasets\\UnitTesting\\Colon\\05\\JPEG_Frames_30\\00030.jpg\n",
      "Selected prompt coordinates: [array([550, 489], dtype=int64), array([681, 160], dtype=int64), array([852, 308], dtype=int64), array([824, 528], dtype=int64)]\n"
     ]
    },
    {
     "name": "stderr",
     "output_type": "stream",
     "text": [
      "frame loading (JPEG): 100%|██████████| 1/1 [00:00<00:00, 25.00it/s]\n"
     ]
    },
    {
     "name": "stdout",
     "output_type": "stream",
     "text": [
      "SAM2 inference state initialized.\n",
      "Points: [[489, 550], [160, 681], [308, 852], [528, 824]], Labels: [1, 1, 1, 1]\n",
      "Inference completed for the frame.\n",
      "Predicted mask successfully saved at: C:\\Users\\devanish\\Downloads\\Datasets\\UnitTesting\\Colon\\05\\PredictedMask\\00030.png\n",
      "SAM2 inference state and model reset.\n",
      "\n",
      "Processing image 32: 00031.png\n",
      "Image path: C:\\Users\\devanish\\Downloads\\Datasets\\UnitTesting\\Colon\\05\\Frames\\00031.png\n",
      "Mask path: C:\\Users\\devanish\\Downloads\\Datasets\\UnitTesting\\Colon\\05\\Masks\\00031.png\n",
      "Image loaded successfully.\n",
      "Mask loaded successfully.\n",
      "JPEG image successfully saved at: C:\\Users\\devanish\\Downloads\\Datasets\\UnitTesting\\Colon\\05\\JPEG_Frames_31\\00031.jpg\n",
      "Selected prompt coordinates: [array([611,  59], dtype=int64), array([697, 400], dtype=int64), array([732, 179], dtype=int64), array([718, 603], dtype=int64)]\n"
     ]
    },
    {
     "name": "stderr",
     "output_type": "stream",
     "text": [
      "frame loading (JPEG): 100%|██████████| 1/1 [00:00<00:00, 25.64it/s]\n"
     ]
    },
    {
     "name": "stdout",
     "output_type": "stream",
     "text": [
      "SAM2 inference state initialized.\n",
      "Points: [[59, 611], [400, 697], [179, 732], [603, 718]], Labels: [1, 1, 1, 1]\n",
      "Inference completed for the frame.\n",
      "Predicted mask successfully saved at: C:\\Users\\devanish\\Downloads\\Datasets\\UnitTesting\\Colon\\05\\PredictedMask\\00031.png\n",
      "SAM2 inference state and model reset.\n",
      "\n",
      "Processing image 33: 00032.png\n",
      "Image path: C:\\Users\\devanish\\Downloads\\Datasets\\UnitTesting\\Colon\\05\\Frames\\00032.png\n",
      "Mask path: C:\\Users\\devanish\\Downloads\\Datasets\\UnitTesting\\Colon\\05\\Masks\\00032.png\n",
      "Image loaded successfully.\n",
      "Mask loaded successfully.\n",
      "JPEG image successfully saved at: C:\\Users\\devanish\\Downloads\\Datasets\\UnitTesting\\Colon\\05\\JPEG_Frames_32\\00032.jpg\n",
      "Selected prompt coordinates: [array([587, 117], dtype=int64), array([768,  62], dtype=int64), array([710,  22], dtype=int64), array([778,  92], dtype=int64)]\n"
     ]
    },
    {
     "name": "stderr",
     "output_type": "stream",
     "text": [
      "frame loading (JPEG): 100%|██████████| 1/1 [00:00<00:00, 25.00it/s]\n"
     ]
    },
    {
     "name": "stdout",
     "output_type": "stream",
     "text": [
      "SAM2 inference state initialized.\n",
      "Points: [[117, 587], [62, 768], [22, 710], [92, 778]], Labels: [1, 1, 1, 1]\n",
      "Inference completed for the frame.\n",
      "Predicted mask successfully saved at: C:\\Users\\devanish\\Downloads\\Datasets\\UnitTesting\\Colon\\05\\PredictedMask\\00032.png\n",
      "SAM2 inference state and model reset.\n",
      "\n",
      "Processing image 34: 00033.png\n",
      "Image path: C:\\Users\\devanish\\Downloads\\Datasets\\UnitTesting\\Colon\\05\\Frames\\00033.png\n",
      "Mask path: C:\\Users\\devanish\\Downloads\\Datasets\\UnitTesting\\Colon\\05\\Masks\\00033.png\n",
      "Image loaded successfully.\n",
      "Mask loaded successfully.\n",
      "JPEG image successfully saved at: C:\\Users\\devanish\\Downloads\\Datasets\\UnitTesting\\Colon\\05\\JPEG_Frames_33\\00033.jpg\n",
      "Selected prompt coordinates: [array([691, 748], dtype=int64), array([591, 660], dtype=int64), array([650, 975], dtype=int64), array([ 605, 1092], dtype=int64)]\n"
     ]
    },
    {
     "name": "stderr",
     "output_type": "stream",
     "text": [
      "frame loading (JPEG): 100%|██████████| 1/1 [00:00<00:00, 23.26it/s]\n"
     ]
    },
    {
     "name": "stdout",
     "output_type": "stream",
     "text": [
      "SAM2 inference state initialized.\n",
      "Points: [[748, 691], [660, 591], [975, 650], [1092, 605]], Labels: [1, 1, 1, 1]\n",
      "Inference completed for the frame.\n",
      "Predicted mask successfully saved at: C:\\Users\\devanish\\Downloads\\Datasets\\UnitTesting\\Colon\\05\\PredictedMask\\00033.png\n",
      "SAM2 inference state and model reset.\n",
      "\n",
      "Processing image 35: 00034.png\n",
      "Image path: C:\\Users\\devanish\\Downloads\\Datasets\\UnitTesting\\Colon\\05\\Frames\\00034.png\n",
      "Mask path: C:\\Users\\devanish\\Downloads\\Datasets\\UnitTesting\\Colon\\05\\Masks\\00034.png\n",
      "Image loaded successfully.\n",
      "Mask loaded successfully.\n",
      "JPEG image successfully saved at: C:\\Users\\devanish\\Downloads\\Datasets\\UnitTesting\\Colon\\05\\JPEG_Frames_34\\00034.jpg\n",
      "Selected prompt coordinates: [array([933, 231], dtype=int64), array([805, 601], dtype=int64), array([927, 320], dtype=int64), array([779, 712], dtype=int64)]\n"
     ]
    },
    {
     "name": "stderr",
     "output_type": "stream",
     "text": [
      "frame loading (JPEG): 100%|██████████| 1/1 [00:00<00:00, 25.00it/s]\n"
     ]
    },
    {
     "name": "stdout",
     "output_type": "stream",
     "text": [
      "SAM2 inference state initialized.\n",
      "Points: [[231, 933], [601, 805], [320, 927], [712, 779]], Labels: [1, 1, 1, 1]\n",
      "Inference completed for the frame.\n",
      "Predicted mask successfully saved at: C:\\Users\\devanish\\Downloads\\Datasets\\UnitTesting\\Colon\\05\\PredictedMask\\00034.png\n",
      "SAM2 inference state and model reset.\n",
      "\n",
      "Processing image 36: 00035.png\n",
      "Image path: C:\\Users\\devanish\\Downloads\\Datasets\\UnitTesting\\Colon\\05\\Frames\\00035.png\n",
      "Mask path: C:\\Users\\devanish\\Downloads\\Datasets\\UnitTesting\\Colon\\05\\Masks\\00035.png\n",
      "Image loaded successfully.\n",
      "Mask loaded successfully.\n",
      "JPEG image successfully saved at: C:\\Users\\devanish\\Downloads\\Datasets\\UnitTesting\\Colon\\05\\JPEG_Frames_35\\00035.jpg\n",
      "Selected prompt coordinates: [array([485, 604], dtype=int64), array([495, 297], dtype=int64), array([566, 661], dtype=int64), array([945, 570], dtype=int64)]\n"
     ]
    },
    {
     "name": "stderr",
     "output_type": "stream",
     "text": [
      "frame loading (JPEG): 100%|██████████| 1/1 [00:00<00:00, 24.39it/s]\n"
     ]
    },
    {
     "name": "stdout",
     "output_type": "stream",
     "text": [
      "SAM2 inference state initialized.\n",
      "Points: [[604, 485], [297, 495], [661, 566], [570, 945]], Labels: [1, 1, 1, 1]\n",
      "Inference completed for the frame.\n",
      "Predicted mask successfully saved at: C:\\Users\\devanish\\Downloads\\Datasets\\UnitTesting\\Colon\\05\\PredictedMask\\00035.png\n",
      "SAM2 inference state and model reset.\n",
      "\n",
      "Processing image 37: 00036.png\n",
      "Image path: C:\\Users\\devanish\\Downloads\\Datasets\\UnitTesting\\Colon\\05\\Frames\\00036.png\n",
      "Mask path: C:\\Users\\devanish\\Downloads\\Datasets\\UnitTesting\\Colon\\05\\Masks\\00036.png\n",
      "Image loaded successfully.\n",
      "Mask loaded successfully.\n",
      "JPEG image successfully saved at: C:\\Users\\devanish\\Downloads\\Datasets\\UnitTesting\\Colon\\05\\JPEG_Frames_36\\00036.jpg\n",
      "Selected prompt coordinates: [array([927, 747], dtype=int64), array([860, 719], dtype=int64), array([ 713, 1023], dtype=int64), array([656, 643], dtype=int64)]\n"
     ]
    },
    {
     "name": "stderr",
     "output_type": "stream",
     "text": [
      "frame loading (JPEG): 100%|██████████| 1/1 [00:00<00:00, 26.32it/s]\n"
     ]
    },
    {
     "name": "stdout",
     "output_type": "stream",
     "text": [
      "SAM2 inference state initialized.\n",
      "Points: [[747, 927], [719, 860], [1023, 713], [643, 656]], Labels: [1, 1, 1, 1]\n",
      "Inference completed for the frame.\n",
      "Predicted mask successfully saved at: C:\\Users\\devanish\\Downloads\\Datasets\\UnitTesting\\Colon\\05\\PredictedMask\\00036.png\n",
      "SAM2 inference state and model reset.\n",
      "\n",
      "Processing image 38: 00037.png\n",
      "Image path: C:\\Users\\devanish\\Downloads\\Datasets\\UnitTesting\\Colon\\05\\Frames\\00037.png\n",
      "Mask path: C:\\Users\\devanish\\Downloads\\Datasets\\UnitTesting\\Colon\\05\\Masks\\00037.png\n",
      "Image loaded successfully.\n",
      "Mask loaded successfully.\n",
      "JPEG image successfully saved at: C:\\Users\\devanish\\Downloads\\Datasets\\UnitTesting\\Colon\\05\\JPEG_Frames_37\\00037.jpg\n",
      "Selected prompt coordinates: [array([684, 534], dtype=int64), array([895, 433], dtype=int64), array([ 678, 1009], dtype=int64), array([875, 452], dtype=int64)]\n"
     ]
    },
    {
     "name": "stderr",
     "output_type": "stream",
     "text": [
      "frame loading (JPEG): 100%|██████████| 1/1 [00:00<00:00, 25.00it/s]\n"
     ]
    },
    {
     "name": "stdout",
     "output_type": "stream",
     "text": [
      "SAM2 inference state initialized.\n",
      "Points: [[534, 684], [433, 895], [1009, 678], [452, 875]], Labels: [1, 1, 1, 1]\n",
      "Inference completed for the frame.\n",
      "Predicted mask successfully saved at: C:\\Users\\devanish\\Downloads\\Datasets\\UnitTesting\\Colon\\05\\PredictedMask\\00037.png\n",
      "SAM2 inference state and model reset.\n",
      "\n",
      "Processing image 39: 00038.png\n",
      "Image path: C:\\Users\\devanish\\Downloads\\Datasets\\UnitTesting\\Colon\\05\\Frames\\00038.png\n",
      "Mask path: C:\\Users\\devanish\\Downloads\\Datasets\\UnitTesting\\Colon\\05\\Masks\\00038.png\n",
      "Image loaded successfully.\n",
      "Mask loaded successfully.\n",
      "JPEG image successfully saved at: C:\\Users\\devanish\\Downloads\\Datasets\\UnitTesting\\Colon\\05\\JPEG_Frames_38\\00038.jpg\n",
      "Selected prompt coordinates: [array([420, 393], dtype=int64), array([350, 603], dtype=int64), array([437, 349], dtype=int64), array([406, 505], dtype=int64)]\n"
     ]
    },
    {
     "name": "stderr",
     "output_type": "stream",
     "text": [
      "frame loading (JPEG): 100%|██████████| 1/1 [00:00<00:00, 21.21it/s]\n"
     ]
    },
    {
     "name": "stdout",
     "output_type": "stream",
     "text": [
      "SAM2 inference state initialized.\n",
      "Points: [[393, 420], [603, 350], [349, 437], [505, 406]], Labels: [1, 1, 1, 1]\n",
      "Inference completed for the frame.\n",
      "Predicted mask successfully saved at: C:\\Users\\devanish\\Downloads\\Datasets\\UnitTesting\\Colon\\05\\PredictedMask\\00038.png\n",
      "SAM2 inference state and model reset.\n",
      "\n",
      "Processing image 40: 00039.png\n",
      "Image path: C:\\Users\\devanish\\Downloads\\Datasets\\UnitTesting\\Colon\\05\\Frames\\00039.png\n",
      "Mask path: C:\\Users\\devanish\\Downloads\\Datasets\\UnitTesting\\Colon\\05\\Masks\\00039.png\n",
      "Image loaded successfully.\n",
      "Mask loaded successfully.\n",
      "JPEG image successfully saved at: C:\\Users\\devanish\\Downloads\\Datasets\\UnitTesting\\Colon\\05\\JPEG_Frames_39\\00039.jpg\n",
      "Selected prompt coordinates: [array([636, 150], dtype=int64), array([671, 134], dtype=int64), array([894, 294], dtype=int64), array([753, 300], dtype=int64)]\n"
     ]
    },
    {
     "name": "stderr",
     "output_type": "stream",
     "text": [
      "frame loading (JPEG): 100%|██████████| 1/1 [00:00<00:00, 22.22it/s]\n"
     ]
    },
    {
     "name": "stdout",
     "output_type": "stream",
     "text": [
      "SAM2 inference state initialized.\n",
      "Points: [[150, 636], [134, 671], [294, 894], [300, 753]], Labels: [1, 1, 1, 1]\n",
      "Inference completed for the frame.\n",
      "Predicted mask successfully saved at: C:\\Users\\devanish\\Downloads\\Datasets\\UnitTesting\\Colon\\05\\PredictedMask\\00039.png\n",
      "SAM2 inference state and model reset.\n",
      "\n",
      "Processing image 41: 00040.png\n",
      "Image path: C:\\Users\\devanish\\Downloads\\Datasets\\UnitTesting\\Colon\\05\\Frames\\00040.png\n",
      "Mask path: C:\\Users\\devanish\\Downloads\\Datasets\\UnitTesting\\Colon\\05\\Masks\\00040.png\n",
      "Image loaded successfully.\n",
      "Mask loaded successfully.\n",
      "JPEG image successfully saved at: C:\\Users\\devanish\\Downloads\\Datasets\\UnitTesting\\Colon\\05\\JPEG_Frames_40\\00040.jpg\n",
      "Selected prompt coordinates: [array([691, 235], dtype=int64), array([731, 251], dtype=int64), array([595, 108], dtype=int64), array([800, 113], dtype=int64)]\n"
     ]
    },
    {
     "name": "stderr",
     "output_type": "stream",
     "text": [
      "frame loading (JPEG): 100%|██████████| 1/1 [00:00<00:00, 22.22it/s]\n"
     ]
    },
    {
     "name": "stdout",
     "output_type": "stream",
     "text": [
      "SAM2 inference state initialized.\n",
      "Points: [[235, 691], [251, 731], [108, 595], [113, 800]], Labels: [1, 1, 1, 1]\n",
      "Inference completed for the frame.\n",
      "Predicted mask successfully saved at: C:\\Users\\devanish\\Downloads\\Datasets\\UnitTesting\\Colon\\05\\PredictedMask\\00040.png\n",
      "SAM2 inference state and model reset.\n",
      "\n",
      "Processing image 42: 00041.png\n",
      "Image path: C:\\Users\\devanish\\Downloads\\Datasets\\UnitTesting\\Colon\\05\\Frames\\00041.png\n",
      "Mask path: C:\\Users\\devanish\\Downloads\\Datasets\\UnitTesting\\Colon\\05\\Masks\\00041.png\n",
      "Image loaded successfully.\n",
      "Mask loaded successfully.\n",
      "JPEG image successfully saved at: C:\\Users\\devanish\\Downloads\\Datasets\\UnitTesting\\Colon\\05\\JPEG_Frames_41\\00041.jpg\n",
      "Selected prompt coordinates: [array([540, 152], dtype=int64), array([460, 164], dtype=int64), array([641,  45], dtype=int64), array([665,  78], dtype=int64)]\n"
     ]
    },
    {
     "name": "stderr",
     "output_type": "stream",
     "text": [
      "frame loading (JPEG): 100%|██████████| 1/1 [00:00<00:00, 27.03it/s]\n"
     ]
    },
    {
     "name": "stdout",
     "output_type": "stream",
     "text": [
      "SAM2 inference state initialized.\n",
      "Points: [[152, 540], [164, 460], [45, 641], [78, 665]], Labels: [1, 1, 1, 1]\n",
      "Inference completed for the frame.\n",
      "Predicted mask successfully saved at: C:\\Users\\devanish\\Downloads\\Datasets\\UnitTesting\\Colon\\05\\PredictedMask\\00041.png\n",
      "SAM2 inference state and model reset.\n",
      "\n",
      "Processing image 43: 00042.png\n",
      "Image path: C:\\Users\\devanish\\Downloads\\Datasets\\UnitTesting\\Colon\\05\\Frames\\00042.png\n",
      "Mask path: C:\\Users\\devanish\\Downloads\\Datasets\\UnitTesting\\Colon\\05\\Masks\\00042.png\n",
      "Image loaded successfully.\n",
      "Mask loaded successfully.\n",
      "JPEG image successfully saved at: C:\\Users\\devanish\\Downloads\\Datasets\\UnitTesting\\Colon\\05\\JPEG_Frames_42\\00042.jpg\n",
      "Selected prompt coordinates: [array([629, 270], dtype=int64), array([706,  92], dtype=int64), array([407, 806], dtype=int64), array([517, 337], dtype=int64)]\n"
     ]
    },
    {
     "name": "stderr",
     "output_type": "stream",
     "text": [
      "frame loading (JPEG): 100%|██████████| 1/1 [00:00<00:00, 25.64it/s]\n"
     ]
    },
    {
     "name": "stdout",
     "output_type": "stream",
     "text": [
      "SAM2 inference state initialized.\n",
      "Points: [[270, 629], [92, 706], [806, 407], [337, 517]], Labels: [1, 1, 1, 1]\n",
      "Inference completed for the frame.\n",
      "Predicted mask successfully saved at: C:\\Users\\devanish\\Downloads\\Datasets\\UnitTesting\\Colon\\05\\PredictedMask\\00042.png\n",
      "SAM2 inference state and model reset.\n",
      "\n",
      "Processing image 44: 00043.png\n",
      "Image path: C:\\Users\\devanish\\Downloads\\Datasets\\UnitTesting\\Colon\\05\\Frames\\00043.png\n",
      "Mask path: C:\\Users\\devanish\\Downloads\\Datasets\\UnitTesting\\Colon\\05\\Masks\\00043.png\n",
      "Image loaded successfully.\n",
      "Mask loaded successfully.\n",
      "JPEG image successfully saved at: C:\\Users\\devanish\\Downloads\\Datasets\\UnitTesting\\Colon\\05\\JPEG_Frames_43\\00043.jpg\n",
      "Selected prompt coordinates: [array([389, 595], dtype=int64), array([586, 377], dtype=int64), array([808,  45], dtype=int64), array([450, 453], dtype=int64)]\n"
     ]
    },
    {
     "name": "stderr",
     "output_type": "stream",
     "text": [
      "frame loading (JPEG): 100%|██████████| 1/1 [00:00<00:00, 24.39it/s]\n"
     ]
    },
    {
     "name": "stdout",
     "output_type": "stream",
     "text": [
      "SAM2 inference state initialized.\n",
      "Points: [[595, 389], [377, 586], [45, 808], [453, 450]], Labels: [1, 1, 1, 1]\n",
      "Inference completed for the frame.\n",
      "Predicted mask successfully saved at: C:\\Users\\devanish\\Downloads\\Datasets\\UnitTesting\\Colon\\05\\PredictedMask\\00043.png\n",
      "SAM2 inference state and model reset.\n",
      "\n",
      "Processing image 45: 00044.png\n",
      "Image path: C:\\Users\\devanish\\Downloads\\Datasets\\UnitTesting\\Colon\\05\\Frames\\00044.png\n",
      "Mask path: C:\\Users\\devanish\\Downloads\\Datasets\\UnitTesting\\Colon\\05\\Masks\\00044.png\n",
      "Image loaded successfully.\n",
      "Mask loaded successfully.\n",
      "JPEG image successfully saved at: C:\\Users\\devanish\\Downloads\\Datasets\\UnitTesting\\Colon\\05\\JPEG_Frames_44\\00044.jpg\n",
      "Selected prompt coordinates: [array([470, 204], dtype=int64), array([235, 625], dtype=int64), array([663, 477], dtype=int64), array([369, 338], dtype=int64)]\n"
     ]
    },
    {
     "name": "stderr",
     "output_type": "stream",
     "text": [
      "frame loading (JPEG): 100%|██████████| 1/1 [00:00<00:00, 21.74it/s]\n"
     ]
    },
    {
     "name": "stdout",
     "output_type": "stream",
     "text": [
      "SAM2 inference state initialized.\n",
      "Points: [[204, 470], [625, 235], [477, 663], [338, 369]], Labels: [1, 1, 1, 1]\n",
      "Inference completed for the frame.\n",
      "Predicted mask successfully saved at: C:\\Users\\devanish\\Downloads\\Datasets\\UnitTesting\\Colon\\05\\PredictedMask\\00044.png\n",
      "SAM2 inference state and model reset.\n",
      "\n",
      "Processing image 46: 00045.png\n",
      "Image path: C:\\Users\\devanish\\Downloads\\Datasets\\UnitTesting\\Colon\\05\\Frames\\00045.png\n",
      "Mask path: C:\\Users\\devanish\\Downloads\\Datasets\\UnitTesting\\Colon\\05\\Masks\\00045.png\n",
      "Image loaded successfully.\n",
      "Mask loaded successfully.\n",
      "JPEG image successfully saved at: C:\\Users\\devanish\\Downloads\\Datasets\\UnitTesting\\Colon\\05\\JPEG_Frames_45\\00045.jpg\n",
      "Selected prompt coordinates: [array([455, 196], dtype=int64), array([382, 423], dtype=int64), array([312, 577], dtype=int64), array([444, 248], dtype=int64)]\n"
     ]
    },
    {
     "name": "stderr",
     "output_type": "stream",
     "text": [
      "frame loading (JPEG): 100%|██████████| 1/1 [00:00<00:00, 25.00it/s]\n"
     ]
    },
    {
     "name": "stdout",
     "output_type": "stream",
     "text": [
      "SAM2 inference state initialized.\n",
      "Points: [[196, 455], [423, 382], [577, 312], [248, 444]], Labels: [1, 1, 1, 1]\n",
      "Inference completed for the frame.\n",
      "Predicted mask successfully saved at: C:\\Users\\devanish\\Downloads\\Datasets\\UnitTesting\\Colon\\05\\PredictedMask\\00045.png\n",
      "SAM2 inference state and model reset.\n",
      "\n",
      "Processing image 47: 00046.png\n",
      "Image path: C:\\Users\\devanish\\Downloads\\Datasets\\UnitTesting\\Colon\\05\\Frames\\00046.png\n",
      "Mask path: C:\\Users\\devanish\\Downloads\\Datasets\\UnitTesting\\Colon\\05\\Masks\\00046.png\n",
      "Image loaded successfully.\n",
      "Mask loaded successfully.\n",
      "JPEG image successfully saved at: C:\\Users\\devanish\\Downloads\\Datasets\\UnitTesting\\Colon\\05\\JPEG_Frames_46\\00046.jpg\n",
      "Selected prompt coordinates: [array([487, 336], dtype=int64), array([555, 320], dtype=int64), array([659, 144], dtype=int64), array([451, 586], dtype=int64)]\n"
     ]
    },
    {
     "name": "stderr",
     "output_type": "stream",
     "text": [
      "frame loading (JPEG): 100%|██████████| 1/1 [00:00<00:00, 26.32it/s]\n"
     ]
    },
    {
     "name": "stdout",
     "output_type": "stream",
     "text": [
      "SAM2 inference state initialized.\n",
      "Points: [[336, 487], [320, 555], [144, 659], [586, 451]], Labels: [1, 1, 1, 1]\n",
      "Inference completed for the frame.\n",
      "Predicted mask successfully saved at: C:\\Users\\devanish\\Downloads\\Datasets\\UnitTesting\\Colon\\05\\PredictedMask\\00046.png\n",
      "SAM2 inference state and model reset.\n",
      "\n",
      "Processing image 48: 00047.png\n",
      "Image path: C:\\Users\\devanish\\Downloads\\Datasets\\UnitTesting\\Colon\\05\\Frames\\00047.png\n",
      "Mask path: C:\\Users\\devanish\\Downloads\\Datasets\\UnitTesting\\Colon\\05\\Masks\\00047.png\n",
      "Image loaded successfully.\n",
      "Mask loaded successfully.\n",
      "JPEG image successfully saved at: C:\\Users\\devanish\\Downloads\\Datasets\\UnitTesting\\Colon\\05\\JPEG_Frames_47\\00047.jpg\n",
      "Selected prompt coordinates: [array([302, 371], dtype=int64), array([261, 524], dtype=int64), array([594, 118], dtype=int64), array([608, 100], dtype=int64)]\n"
     ]
    },
    {
     "name": "stderr",
     "output_type": "stream",
     "text": [
      "frame loading (JPEG): 100%|██████████| 1/1 [00:00<00:00, 26.31it/s]\n"
     ]
    },
    {
     "name": "stdout",
     "output_type": "stream",
     "text": [
      "SAM2 inference state initialized.\n",
      "Points: [[371, 302], [524, 261], [118, 594], [100, 608]], Labels: [1, 1, 1, 1]\n",
      "Inference completed for the frame.\n",
      "Predicted mask successfully saved at: C:\\Users\\devanish\\Downloads\\Datasets\\UnitTesting\\Colon\\05\\PredictedMask\\00047.png\n",
      "SAM2 inference state and model reset.\n",
      "\n",
      "Processing image 49: 00048.png\n",
      "Image path: C:\\Users\\devanish\\Downloads\\Datasets\\UnitTesting\\Colon\\05\\Frames\\00048.png\n",
      "Mask path: C:\\Users\\devanish\\Downloads\\Datasets\\UnitTesting\\Colon\\05\\Masks\\00048.png\n",
      "Image loaded successfully.\n",
      "Mask loaded successfully.\n",
      "JPEG image successfully saved at: C:\\Users\\devanish\\Downloads\\Datasets\\UnitTesting\\Colon\\05\\JPEG_Frames_48\\00048.jpg\n",
      "Selected prompt coordinates: [array([526, 325], dtype=int64), array([568, 370], dtype=int64), array([359, 473], dtype=int64), array([476,  34], dtype=int64)]\n"
     ]
    },
    {
     "name": "stderr",
     "output_type": "stream",
     "text": [
      "frame loading (JPEG): 100%|██████████| 1/1 [00:00<00:00, 25.00it/s]\n"
     ]
    },
    {
     "name": "stdout",
     "output_type": "stream",
     "text": [
      "SAM2 inference state initialized.\n",
      "Points: [[325, 526], [370, 568], [473, 359], [34, 476]], Labels: [1, 1, 1, 1]\n",
      "Inference completed for the frame.\n",
      "Predicted mask successfully saved at: C:\\Users\\devanish\\Downloads\\Datasets\\UnitTesting\\Colon\\05\\PredictedMask\\00048.png\n",
      "SAM2 inference state and model reset.\n",
      "\n",
      "Processing image 50: 00049.png\n",
      "Image path: C:\\Users\\devanish\\Downloads\\Datasets\\UnitTesting\\Colon\\05\\Frames\\00049.png\n",
      "Mask path: C:\\Users\\devanish\\Downloads\\Datasets\\UnitTesting\\Colon\\05\\Masks\\00049.png\n",
      "Image loaded successfully.\n",
      "Mask loaded successfully.\n",
      "JPEG image successfully saved at: C:\\Users\\devanish\\Downloads\\Datasets\\UnitTesting\\Colon\\05\\JPEG_Frames_49\\00049.jpg\n",
      "Selected prompt coordinates: [array([626, 144], dtype=int64), array([499, 608], dtype=int64), array([614, 322], dtype=int64), array([424, 363], dtype=int64)]\n"
     ]
    },
    {
     "name": "stderr",
     "output_type": "stream",
     "text": [
      "frame loading (JPEG): 100%|██████████| 1/1 [00:00<00:00, 25.00it/s]\n"
     ]
    },
    {
     "name": "stdout",
     "output_type": "stream",
     "text": [
      "SAM2 inference state initialized.\n",
      "Points: [[144, 626], [608, 499], [322, 614], [363, 424]], Labels: [1, 1, 1, 1]\n",
      "Inference completed for the frame.\n",
      "Predicted mask successfully saved at: C:\\Users\\devanish\\Downloads\\Datasets\\UnitTesting\\Colon\\05\\PredictedMask\\00049.png\n",
      "SAM2 inference state and model reset.\n",
      "\n",
      "Processing image 51: 00050.png\n",
      "Image path: C:\\Users\\devanish\\Downloads\\Datasets\\UnitTesting\\Colon\\05\\Frames\\00050.png\n",
      "Mask path: C:\\Users\\devanish\\Downloads\\Datasets\\UnitTesting\\Colon\\05\\Masks\\00050.png\n",
      "Image loaded successfully.\n",
      "Mask loaded successfully.\n",
      "JPEG image successfully saved at: C:\\Users\\devanish\\Downloads\\Datasets\\UnitTesting\\Colon\\05\\JPEG_Frames_50\\00050.jpg\n",
      "Selected prompt coordinates: [array([463, 745], dtype=int64), array([723, 147], dtype=int64), array([590, 298], dtype=int64), array([625, 491], dtype=int64)]\n"
     ]
    },
    {
     "name": "stderr",
     "output_type": "stream",
     "text": [
      "frame loading (JPEG): 100%|██████████| 1/1 [00:00<00:00, 23.26it/s]\n"
     ]
    },
    {
     "name": "stdout",
     "output_type": "stream",
     "text": [
      "SAM2 inference state initialized.\n",
      "Points: [[745, 463], [147, 723], [298, 590], [491, 625]], Labels: [1, 1, 1, 1]\n",
      "Inference completed for the frame.\n",
      "Predicted mask successfully saved at: C:\\Users\\devanish\\Downloads\\Datasets\\UnitTesting\\Colon\\05\\PredictedMask\\00050.png\n",
      "SAM2 inference state and model reset.\n",
      "\n",
      "Processing image 52: 00051.png\n",
      "Image path: C:\\Users\\devanish\\Downloads\\Datasets\\UnitTesting\\Colon\\05\\Frames\\00051.png\n",
      "Mask path: C:\\Users\\devanish\\Downloads\\Datasets\\UnitTesting\\Colon\\05\\Masks\\00051.png\n",
      "Image loaded successfully.\n",
      "Mask loaded successfully.\n",
      "JPEG image successfully saved at: C:\\Users\\devanish\\Downloads\\Datasets\\UnitTesting\\Colon\\05\\JPEG_Frames_51\\00051.jpg\n",
      "Selected prompt coordinates: [array([145,  36], dtype=int64), array([213, 429], dtype=int64), array([180, 246], dtype=int64), array([204, 398], dtype=int64)]\n"
     ]
    },
    {
     "name": "stderr",
     "output_type": "stream",
     "text": [
      "frame loading (JPEG): 100%|██████████| 1/1 [00:00<00:00, 25.64it/s]\n"
     ]
    },
    {
     "name": "stdout",
     "output_type": "stream",
     "text": [
      "SAM2 inference state initialized.\n",
      "Points: [[36, 145], [429, 213], [246, 180], [398, 204]], Labels: [1, 1, 1, 1]\n",
      "Inference completed for the frame.\n",
      "Predicted mask successfully saved at: C:\\Users\\devanish\\Downloads\\Datasets\\UnitTesting\\Colon\\05\\PredictedMask\\00051.png\n",
      "SAM2 inference state and model reset.\n",
      "\n",
      "Processing image 53: 00052.png\n",
      "Image path: C:\\Users\\devanish\\Downloads\\Datasets\\UnitTesting\\Colon\\05\\Frames\\00052.png\n",
      "Mask path: C:\\Users\\devanish\\Downloads\\Datasets\\UnitTesting\\Colon\\05\\Masks\\00052.png\n",
      "Image loaded successfully.\n",
      "Mask loaded successfully.\n",
      "JPEG image successfully saved at: C:\\Users\\devanish\\Downloads\\Datasets\\UnitTesting\\Colon\\05\\JPEG_Frames_52\\00052.jpg\n",
      "Selected prompt coordinates: [array([794, 400], dtype=int64), array([845, 594], dtype=int64), array([900, 238], dtype=int64), array([819, 266], dtype=int64)]\n"
     ]
    },
    {
     "name": "stderr",
     "output_type": "stream",
     "text": [
      "frame loading (JPEG): 100%|██████████| 1/1 [00:00<00:00, 23.81it/s]\n"
     ]
    },
    {
     "name": "stdout",
     "output_type": "stream",
     "text": [
      "SAM2 inference state initialized.\n",
      "Points: [[400, 794], [594, 845], [238, 900], [266, 819]], Labels: [1, 1, 1, 1]\n",
      "Inference completed for the frame.\n",
      "Predicted mask successfully saved at: C:\\Users\\devanish\\Downloads\\Datasets\\UnitTesting\\Colon\\05\\PredictedMask\\00052.png\n",
      "SAM2 inference state and model reset.\n",
      "\n",
      "Processing image 54: 00053.png\n",
      "Image path: C:\\Users\\devanish\\Downloads\\Datasets\\UnitTesting\\Colon\\05\\Frames\\00053.png\n",
      "Mask path: C:\\Users\\devanish\\Downloads\\Datasets\\UnitTesting\\Colon\\05\\Masks\\00053.png\n",
      "Image loaded successfully.\n",
      "Mask loaded successfully.\n",
      "JPEG image successfully saved at: C:\\Users\\devanish\\Downloads\\Datasets\\UnitTesting\\Colon\\05\\JPEG_Frames_53\\00053.jpg\n",
      "Selected prompt coordinates: [array([592, 520], dtype=int64), array([586, 606], dtype=int64), array([668, 521], dtype=int64), array([595, 489], dtype=int64)]\n"
     ]
    },
    {
     "name": "stderr",
     "output_type": "stream",
     "text": [
      "frame loading (JPEG): 100%|██████████| 1/1 [00:00<00:00, 24.39it/s]\n"
     ]
    },
    {
     "name": "stdout",
     "output_type": "stream",
     "text": [
      "SAM2 inference state initialized.\n",
      "Points: [[520, 592], [606, 586], [521, 668], [489, 595]], Labels: [1, 1, 1, 1]\n",
      "Inference completed for the frame.\n",
      "Predicted mask successfully saved at: C:\\Users\\devanish\\Downloads\\Datasets\\UnitTesting\\Colon\\05\\PredictedMask\\00053.png\n",
      "SAM2 inference state and model reset.\n",
      "\n",
      "Processing image 55: 00054.png\n",
      "Image path: C:\\Users\\devanish\\Downloads\\Datasets\\UnitTesting\\Colon\\05\\Frames\\00054.png\n",
      "Mask path: C:\\Users\\devanish\\Downloads\\Datasets\\UnitTesting\\Colon\\05\\Masks\\00054.png\n",
      "Image loaded successfully.\n",
      "Mask loaded successfully.\n",
      "JPEG image successfully saved at: C:\\Users\\devanish\\Downloads\\Datasets\\UnitTesting\\Colon\\05\\JPEG_Frames_54\\00054.jpg\n",
      "Selected prompt coordinates: [array([536, 146], dtype=int64), array([342,  89], dtype=int64), array([447,   9], dtype=int64), array([787, 265], dtype=int64)]\n"
     ]
    },
    {
     "name": "stderr",
     "output_type": "stream",
     "text": [
      "frame loading (JPEG): 100%|██████████| 1/1 [00:00<00:00, 20.83it/s]\n"
     ]
    },
    {
     "name": "stdout",
     "output_type": "stream",
     "text": [
      "SAM2 inference state initialized.\n",
      "Points: [[146, 536], [89, 342], [9, 447], [265, 787]], Labels: [1, 1, 1, 1]\n",
      "Inference completed for the frame.\n",
      "Predicted mask successfully saved at: C:\\Users\\devanish\\Downloads\\Datasets\\UnitTesting\\Colon\\05\\PredictedMask\\00054.png\n",
      "SAM2 inference state and model reset.\n",
      "\n",
      "Processing image 56: 00055.png\n",
      "Image path: C:\\Users\\devanish\\Downloads\\Datasets\\UnitTesting\\Colon\\05\\Frames\\00055.png\n",
      "Mask path: C:\\Users\\devanish\\Downloads\\Datasets\\UnitTesting\\Colon\\05\\Masks\\00055.png\n",
      "Image loaded successfully.\n",
      "Mask loaded successfully.\n",
      "JPEG image successfully saved at: C:\\Users\\devanish\\Downloads\\Datasets\\UnitTesting\\Colon\\05\\JPEG_Frames_55\\00055.jpg\n",
      "Selected prompt coordinates: [array([617, 384], dtype=int64), array([715, 134], dtype=int64), array([816, 109], dtype=int64), array([612, 404], dtype=int64)]\n"
     ]
    },
    {
     "name": "stderr",
     "output_type": "stream",
     "text": [
      "frame loading (JPEG): 100%|██████████| 1/1 [00:00<00:00, 23.81it/s]\n"
     ]
    },
    {
     "name": "stdout",
     "output_type": "stream",
     "text": [
      "SAM2 inference state initialized.\n",
      "Points: [[384, 617], [134, 715], [109, 816], [404, 612]], Labels: [1, 1, 1, 1]\n",
      "Inference completed for the frame.\n",
      "Predicted mask successfully saved at: C:\\Users\\devanish\\Downloads\\Datasets\\UnitTesting\\Colon\\05\\PredictedMask\\00055.png\n",
      "SAM2 inference state and model reset.\n",
      "\n",
      "Processing image 57: 00056.png\n",
      "Image path: C:\\Users\\devanish\\Downloads\\Datasets\\UnitTesting\\Colon\\05\\Frames\\00056.png\n",
      "Mask path: C:\\Users\\devanish\\Downloads\\Datasets\\UnitTesting\\Colon\\05\\Masks\\00056.png\n",
      "Image loaded successfully.\n",
      "Mask loaded successfully.\n",
      "JPEG image successfully saved at: C:\\Users\\devanish\\Downloads\\Datasets\\UnitTesting\\Colon\\05\\JPEG_Frames_56\\00056.jpg\n",
      "Selected prompt coordinates: [array([802, 442], dtype=int64), array([906, 572], dtype=int64), array([560, 801], dtype=int64), array([807, 528], dtype=int64)]\n"
     ]
    },
    {
     "name": "stderr",
     "output_type": "stream",
     "text": [
      "frame loading (JPEG): 100%|██████████| 1/1 [00:00<00:00, 25.00it/s]\n"
     ]
    },
    {
     "name": "stdout",
     "output_type": "stream",
     "text": [
      "SAM2 inference state initialized.\n",
      "Points: [[442, 802], [572, 906], [801, 560], [528, 807]], Labels: [1, 1, 1, 1]\n",
      "Inference completed for the frame.\n",
      "Predicted mask successfully saved at: C:\\Users\\devanish\\Downloads\\Datasets\\UnitTesting\\Colon\\05\\PredictedMask\\00056.png\n",
      "SAM2 inference state and model reset.\n",
      "\n",
      "Processing image 58: 00057.png\n",
      "Image path: C:\\Users\\devanish\\Downloads\\Datasets\\UnitTesting\\Colon\\05\\Frames\\00057.png\n",
      "Mask path: C:\\Users\\devanish\\Downloads\\Datasets\\UnitTesting\\Colon\\05\\Masks\\00057.png\n",
      "Image loaded successfully.\n",
      "Mask loaded successfully.\n",
      "JPEG image successfully saved at: C:\\Users\\devanish\\Downloads\\Datasets\\UnitTesting\\Colon\\05\\JPEG_Frames_57\\00057.jpg\n",
      "Selected prompt coordinates: [array([678, 407], dtype=int64), array([620, 448], dtype=int64), array([447, 557], dtype=int64), array([673, 554], dtype=int64)]\n"
     ]
    },
    {
     "name": "stderr",
     "output_type": "stream",
     "text": [
      "frame loading (JPEG): 100%|██████████| 1/1 [00:00<00:00, 12.50it/s]\n"
     ]
    },
    {
     "name": "stdout",
     "output_type": "stream",
     "text": [
      "SAM2 inference state initialized.\n",
      "Points: [[407, 678], [448, 620], [557, 447], [554, 673]], Labels: [1, 1, 1, 1]\n",
      "Inference completed for the frame.\n",
      "Predicted mask successfully saved at: C:\\Users\\devanish\\Downloads\\Datasets\\UnitTesting\\Colon\\05\\PredictedMask\\00057.png\n",
      "SAM2 inference state and model reset.\n",
      "Inference complete for all images in the subfolder.\n"
     ]
    }
   ],
   "source": [
    "import os\n",
    "import cv2\n",
    "import numpy as np\n",
    "import random\n",
    "import torch\n",
    "import gc\n",
    "from sam2.build_sam import build_sam2_video_predictor\n",
    "\n",
    "# Dynamically set the device based on CPU usage only\n",
    "device = \"cpu\"\n",
    "print(f\"Device set to: {device}\")\n",
    "\n",
    "# Define model configuration and checkpoint\n",
    "model_cfg = r\"C:\\Users\\devanish\\Downloads\\SAM2\\ReactDocker\\sam2_hiera_l.yaml\"\n",
    "checkpoint_path = r\"C:\\Users\\devanish\\Downloads\\SAM2\\sam2_hiera_large.pt\"\n",
    "\n",
    "# Define the main colon folder path\n",
    "colon_folder_path = r\"C:\\Users\\devanish\\Downloads\\Datasets\\UnitTesting\\Colon\"\n",
    "print(f\"Colon folder path: {colon_folder_path}\")\n",
    "\n",
    "# Process only the first subfolder and all images within it\n",
    "subfolder_name = os.listdir(colon_folder_path)[0]\n",
    "subfolder_path = os.path.join(colon_folder_path, subfolder_name)\n",
    "print(f\"Processing subfolder: {subfolder_name}\")\n",
    "\n",
    "frames_folder = os.path.join(subfolder_path, 'Frames')\n",
    "masks_folder = os.path.join(subfolder_path, 'Masks')\n",
    "predicted_masks_folder = os.path.join(subfolder_path, 'PredictedMask')\n",
    "os.makedirs(predicted_masks_folder, exist_ok=True)\n",
    "print(f\"Predicted masks folder created at: {predicted_masks_folder}\")\n",
    "\n",
    "# Process all images in the frames folder\n",
    "image_names = sorted(os.listdir(frames_folder))\n",
    "for idx, image_name in enumerate(image_names):\n",
    "    print(f\"\\nProcessing image {idx + 1}: {image_name}\")\n",
    "    \n",
    "    if image_name.endswith('.png'):\n",
    "        image_path = os.path.join(frames_folder, image_name)\n",
    "        mask_path = os.path.join(masks_folder, image_name)\n",
    "        print(f\"Image path: {image_path}\")\n",
    "        print(f\"Mask path: {mask_path}\")\n",
    "\n",
    "        # Load the image and mask\n",
    "        image = cv2.imread(image_path)\n",
    "        if image is None:\n",
    "            print(f\"Error: Failed to load image at {image_path}\")\n",
    "            continue\n",
    "        print(\"Image loaded successfully.\")\n",
    "\n",
    "        mask = cv2.imread(mask_path, cv2.IMREAD_GRAYSCALE)\n",
    "        if mask is None:\n",
    "            print(f\"Error: Failed to load mask at {mask_path}\")\n",
    "            continue\n",
    "        print(\"Mask loaded successfully.\")\n",
    "\n",
    "        # Create a temporary JPEG folder for each image to prevent residual data\n",
    "        jpeg_folder = os.path.join(subfolder_path, f\"JPEG_Frames_{idx}\")\n",
    "        os.makedirs(jpeg_folder, exist_ok=True)\n",
    "\n",
    "        # Save the image as a JPEG in the temporary JPEG folder\n",
    "        jpeg_image_path = os.path.join(jpeg_folder, f\"{idx:05d}.jpg\")\n",
    "        success = cv2.imwrite(jpeg_image_path, image)\n",
    "        if not success:\n",
    "            print(f\"Error: Failed to save JPEG image at {jpeg_image_path}\")\n",
    "            continue\n",
    "        print(f\"JPEG image successfully saved at: {jpeg_image_path}\")\n",
    "\n",
    "        # Select four random points with value 255 from the mask as prompt coordinates\n",
    "        coords = np.column_stack(np.where(mask == 255))\n",
    "        if coords.size < 4:\n",
    "            print(f\"Insufficient valid prompt points found for mask: {image_name}\")\n",
    "            continue\n",
    "        prompt_coords = random.sample(list(coords), 4)\n",
    "        print(f\"Selected prompt coordinates: {prompt_coords}\")\n",
    "\n",
    "        # Instantiate the SAM2 model to ensure a fresh inference state\n",
    "        sam_model = build_sam2_video_predictor(\n",
    "            config_file=model_cfg,\n",
    "            ckpt_path=checkpoint_path,\n",
    "            device=device\n",
    "        )\n",
    "        inference_state = sam_model.init_state(jpeg_folder)\n",
    "        print(\"SAM2 inference state initialized.\")\n",
    "\n",
    "        # Add the four prompts and run inference, getting the output mask logits\n",
    "        obj_id = idx + 1  # Unique ID for each object (image)\n",
    "        frame_idx = 0\n",
    "        points = [[coord[1], coord[0]] for coord in prompt_coords]  # Convert Y, X to X, Y\n",
    "        labels = [1, 1, 1, 1]  # Set labels to 1 for all points\n",
    "        print(f\"Points: {points}, Labels: {labels}\")\n",
    "\n",
    "        # Run add_new_points_or_box and get the out_mask_logits\n",
    "        _, out_obj_ids, out_mask_logits = sam_model.add_new_points_or_box(\n",
    "            inference_state=inference_state,\n",
    "            frame_idx=frame_idx,\n",
    "            obj_id=obj_id,\n",
    "            points=points,\n",
    "            labels=labels,\n",
    "        )\n",
    "        print(\"Inference completed for the frame.\")\n",
    "\n",
    "        # Check and save the output mask logits\n",
    "        if out_mask_logits is not None:\n",
    "            predicted_mask = (out_mask_logits[0].squeeze().cpu().numpy() > 0.5).astype(np.uint8) * 255\n",
    "            predicted_mask_path = os.path.join(predicted_masks_folder, f\"{idx:05d}.png\")\n",
    "            \n",
    "            # Convert to BGR if necessary for saving\n",
    "            predicted_mask_bgr = cv2.cvtColor(predicted_mask, cv2.COLOR_GRAY2BGR)\n",
    "            success = cv2.imwrite(predicted_mask_path, predicted_mask_bgr)\n",
    "            if success:\n",
    "                print(f\"Predicted mask successfully saved at: {predicted_mask_path}\")\n",
    "            else:\n",
    "                print(\"Error: cv2.imwrite failed to save the predicted mask.\")\n",
    "\n",
    "        # Clean up by resetting SAM inference state and deleting the JPEG folder\n",
    "        sam_model.reset_state(inference_state)\n",
    "        del sam_model  # Explicitly delete the model\n",
    "        gc.collect()  # Run garbage collection to free memory\n",
    "        print(\"SAM2 inference state and model reset.\")\n",
    "\n",
    "        # Remove temporary JPEG folder for the current image to ensure clean state\n",
    "        for filename in os.listdir(jpeg_folder):\n",
    "            file_path = os.path.join(jpeg_folder, filename)\n",
    "            os.remove(file_path)\n",
    "        os.rmdir(jpeg_folder)  # Delete the folder itself\n",
    "\n",
    "print(\"Inference complete for all images in the subfolder.\")\n"
   ]
  },
  {
   "cell_type": "markdown",
   "metadata": {},
   "source": [
    "## Two points and a negative point from the negative area"
   ]
  },
  {
   "cell_type": "code",
   "execution_count": null,
   "metadata": {},
   "outputs": [],
   "source": []
  },
  {
   "cell_type": "markdown",
   "metadata": {},
   "source": [
    "## Single point all organs (50 sample)"
   ]
  },
  {
   "cell_type": "code",
   "execution_count": 10,
   "metadata": {},
   "outputs": [
    {
     "name": "stdout",
     "output_type": "stream",
     "text": [
      "Device set to: cpu\n",
      "UnitTesting folder path: C:\\Users\\devanish\\Downloads\\Datasets\\UnitTesting\n",
      "\n",
      "Processing organ: ureter in subfolder: 01\n",
      "Predicted masks folder created at: C:\\Users\\devanish\\Downloads\\Datasets\\UnitTesting\\ureter\\01\\PredictedMask\n",
      "\n",
      "Processing image 1: 00000.png\n",
      "Image path: C:\\Users\\devanish\\Downloads\\Datasets\\UnitTesting\\ureter\\01\\Frames\\00000.png\n",
      "Mask path: C:\\Users\\devanish\\Downloads\\Datasets\\UnitTesting\\ureter\\01\\Masks\\00000.png\n",
      "Image loaded successfully.\n",
      "Mask loaded successfully.\n",
      "JPEG image successfully saved at: C:\\Users\\devanish\\Downloads\\Datasets\\UnitTesting\\ureter\\01\\JPEG_Frames_0\\00000.jpg\n",
      "Selected prompt coordinate: [339 490]\n"
     ]
    },
    {
     "name": "stderr",
     "output_type": "stream",
     "text": [
      "frame loading (JPEG): 100%|██████████| 1/1 [00:00<00:00, 19.98it/s]\n"
     ]
    },
    {
     "name": "stdout",
     "output_type": "stream",
     "text": [
      "SAM2 inference state initialized.\n",
      "Points: [[490, 339]], Labels: [1]\n",
      "Inference completed for the frame.\n",
      "Predicted mask successfully saved at: C:\\Users\\devanish\\Downloads\\Datasets\\UnitTesting\\ureter\\01\\PredictedMask\\00000.png\n",
      "SAM2 inference state and model reset.\n",
      "\n",
      "Processing image 2: 00001.png\n",
      "Image path: C:\\Users\\devanish\\Downloads\\Datasets\\UnitTesting\\ureter\\01\\Frames\\00001.png\n",
      "Mask path: C:\\Users\\devanish\\Downloads\\Datasets\\UnitTesting\\ureter\\01\\Masks\\00001.png\n",
      "Image loaded successfully.\n",
      "Mask loaded successfully.\n",
      "JPEG image successfully saved at: C:\\Users\\devanish\\Downloads\\Datasets\\UnitTesting\\ureter\\01\\JPEG_Frames_1\\00001.jpg\n",
      "Selected prompt coordinate: [327 530]\n"
     ]
    },
    {
     "name": "stderr",
     "output_type": "stream",
     "text": [
      "frame loading (JPEG): 100%|██████████| 1/1 [00:00<00:00, 20.21it/s]\n"
     ]
    },
    {
     "name": "stdout",
     "output_type": "stream",
     "text": [
      "SAM2 inference state initialized.\n",
      "Points: [[530, 327]], Labels: [1]\n",
      "Inference completed for the frame.\n",
      "Predicted mask successfully saved at: C:\\Users\\devanish\\Downloads\\Datasets\\UnitTesting\\ureter\\01\\PredictedMask\\00001.png\n",
      "SAM2 inference state and model reset.\n",
      "\n",
      "Processing image 3: 00002.png\n",
      "Image path: C:\\Users\\devanish\\Downloads\\Datasets\\UnitTesting\\ureter\\01\\Frames\\00002.png\n",
      "Mask path: C:\\Users\\devanish\\Downloads\\Datasets\\UnitTesting\\ureter\\01\\Masks\\00002.png\n",
      "Image loaded successfully.\n",
      "Mask loaded successfully.\n",
      "JPEG image successfully saved at: C:\\Users\\devanish\\Downloads\\Datasets\\UnitTesting\\ureter\\01\\JPEG_Frames_2\\00002.jpg\n",
      "Selected prompt coordinate: [564 264]\n"
     ]
    },
    {
     "name": "stderr",
     "output_type": "stream",
     "text": [
      "frame loading (JPEG): 100%|██████████| 1/1 [00:00<00:00, 29.10it/s]\n"
     ]
    },
    {
     "name": "stdout",
     "output_type": "stream",
     "text": [
      "SAM2 inference state initialized.\n",
      "Points: [[264, 564]], Labels: [1]\n",
      "Inference completed for the frame.\n",
      "Predicted mask successfully saved at: C:\\Users\\devanish\\Downloads\\Datasets\\UnitTesting\\ureter\\01\\PredictedMask\\00002.png\n",
      "SAM2 inference state and model reset.\n",
      "\n",
      "Processing image 4: 00003.png\n",
      "Image path: C:\\Users\\devanish\\Downloads\\Datasets\\UnitTesting\\ureter\\01\\Frames\\00003.png\n",
      "Mask path: C:\\Users\\devanish\\Downloads\\Datasets\\UnitTesting\\ureter\\01\\Masks\\00003.png\n",
      "Image loaded successfully.\n",
      "Mask loaded successfully.\n",
      "JPEG image successfully saved at: C:\\Users\\devanish\\Downloads\\Datasets\\UnitTesting\\ureter\\01\\JPEG_Frames_3\\00003.jpg\n",
      "Selected prompt coordinate: [339 578]\n"
     ]
    },
    {
     "name": "stderr",
     "output_type": "stream",
     "text": [
      "frame loading (JPEG): 100%|██████████| 1/1 [00:00<00:00, 17.79it/s]\n"
     ]
    },
    {
     "name": "stdout",
     "output_type": "stream",
     "text": [
      "SAM2 inference state initialized.\n",
      "Points: [[578, 339]], Labels: [1]\n",
      "Inference completed for the frame.\n",
      "Predicted mask successfully saved at: C:\\Users\\devanish\\Downloads\\Datasets\\UnitTesting\\ureter\\01\\PredictedMask\\00003.png\n",
      "SAM2 inference state and model reset.\n",
      "\n",
      "Processing image 5: 00004.png\n",
      "Image path: C:\\Users\\devanish\\Downloads\\Datasets\\UnitTesting\\ureter\\01\\Frames\\00004.png\n",
      "Mask path: C:\\Users\\devanish\\Downloads\\Datasets\\UnitTesting\\ureter\\01\\Masks\\00004.png\n",
      "Image loaded successfully.\n",
      "Mask loaded successfully.\n",
      "JPEG image successfully saved at: C:\\Users\\devanish\\Downloads\\Datasets\\UnitTesting\\ureter\\01\\JPEG_Frames_4\\00004.jpg\n",
      "Selected prompt coordinate: [318 612]\n"
     ]
    },
    {
     "name": "stderr",
     "output_type": "stream",
     "text": [
      "frame loading (JPEG): 100%|██████████| 1/1 [00:00<00:00, 26.30it/s]\n"
     ]
    },
    {
     "name": "stdout",
     "output_type": "stream",
     "text": [
      "SAM2 inference state initialized.\n",
      "Points: [[612, 318]], Labels: [1]\n",
      "Inference completed for the frame.\n",
      "Predicted mask successfully saved at: C:\\Users\\devanish\\Downloads\\Datasets\\UnitTesting\\ureter\\01\\PredictedMask\\00004.png\n",
      "SAM2 inference state and model reset.\n",
      "\n",
      "Processing image 6: 00005.png\n",
      "Image path: C:\\Users\\devanish\\Downloads\\Datasets\\UnitTesting\\ureter\\01\\Frames\\00005.png\n",
      "Mask path: C:\\Users\\devanish\\Downloads\\Datasets\\UnitTesting\\ureter\\01\\Masks\\00005.png\n",
      "Image loaded successfully.\n",
      "Mask loaded successfully.\n",
      "JPEG image successfully saved at: C:\\Users\\devanish\\Downloads\\Datasets\\UnitTesting\\ureter\\01\\JPEG_Frames_5\\00005.jpg\n",
      "Selected prompt coordinate: [503 727]\n"
     ]
    },
    {
     "name": "stderr",
     "output_type": "stream",
     "text": [
      "frame loading (JPEG): 100%|██████████| 1/1 [00:00<00:00, 18.77it/s]\n"
     ]
    },
    {
     "name": "stdout",
     "output_type": "stream",
     "text": [
      "SAM2 inference state initialized.\n",
      "Points: [[727, 503]], Labels: [1]\n",
      "Inference completed for the frame.\n",
      "Predicted mask successfully saved at: C:\\Users\\devanish\\Downloads\\Datasets\\UnitTesting\\ureter\\01\\PredictedMask\\00005.png\n",
      "SAM2 inference state and model reset.\n",
      "\n",
      "Processing image 7: 00006.png\n",
      "Image path: C:\\Users\\devanish\\Downloads\\Datasets\\UnitTesting\\ureter\\01\\Frames\\00006.png\n",
      "Mask path: C:\\Users\\devanish\\Downloads\\Datasets\\UnitTesting\\ureter\\01\\Masks\\00006.png\n",
      "Image loaded successfully.\n",
      "Mask loaded successfully.\n",
      "JPEG image successfully saved at: C:\\Users\\devanish\\Downloads\\Datasets\\UnitTesting\\ureter\\01\\JPEG_Frames_6\\00006.jpg\n",
      "Selected prompt coordinate: [631 444]\n"
     ]
    },
    {
     "name": "stderr",
     "output_type": "stream",
     "text": [
      "frame loading (JPEG): 100%|██████████| 1/1 [00:00<00:00, 29.44it/s]\n"
     ]
    },
    {
     "name": "stdout",
     "output_type": "stream",
     "text": [
      "SAM2 inference state initialized.\n",
      "Points: [[444, 631]], Labels: [1]\n",
      "Inference completed for the frame.\n",
      "Predicted mask successfully saved at: C:\\Users\\devanish\\Downloads\\Datasets\\UnitTesting\\ureter\\01\\PredictedMask\\00006.png\n",
      "SAM2 inference state and model reset.\n",
      "\n",
      "Processing image 8: 00007.png\n",
      "Image path: C:\\Users\\devanish\\Downloads\\Datasets\\UnitTesting\\ureter\\01\\Frames\\00007.png\n",
      "Mask path: C:\\Users\\devanish\\Downloads\\Datasets\\UnitTesting\\ureter\\01\\Masks\\00007.png\n",
      "Image loaded successfully.\n",
      "Mask loaded successfully.\n",
      "JPEG image successfully saved at: C:\\Users\\devanish\\Downloads\\Datasets\\UnitTesting\\ureter\\01\\JPEG_Frames_7\\00007.jpg\n",
      "Selected prompt coordinate: [513 507]\n"
     ]
    },
    {
     "name": "stderr",
     "output_type": "stream",
     "text": [
      "frame loading (JPEG): 100%|██████████| 1/1 [00:00<00:00, 26.98it/s]\n"
     ]
    },
    {
     "name": "stdout",
     "output_type": "stream",
     "text": [
      "SAM2 inference state initialized.\n",
      "Points: [[507, 513]], Labels: [1]\n",
      "Inference completed for the frame.\n",
      "Predicted mask successfully saved at: C:\\Users\\devanish\\Downloads\\Datasets\\UnitTesting\\ureter\\01\\PredictedMask\\00007.png\n",
      "SAM2 inference state and model reset.\n",
      "\n",
      "Processing image 9: 00008.png\n",
      "Image path: C:\\Users\\devanish\\Downloads\\Datasets\\UnitTesting\\ureter\\01\\Frames\\00008.png\n",
      "Mask path: C:\\Users\\devanish\\Downloads\\Datasets\\UnitTesting\\ureter\\01\\Masks\\00008.png\n",
      "Image loaded successfully.\n",
      "Mask loaded successfully.\n",
      "JPEG image successfully saved at: C:\\Users\\devanish\\Downloads\\Datasets\\UnitTesting\\ureter\\01\\JPEG_Frames_8\\00008.jpg\n",
      "Selected prompt coordinate: [517 559]\n"
     ]
    },
    {
     "name": "stderr",
     "output_type": "stream",
     "text": [
      "frame loading (JPEG): 100%|██████████| 1/1 [00:00<00:00, 22.78it/s]\n"
     ]
    },
    {
     "name": "stdout",
     "output_type": "stream",
     "text": [
      "SAM2 inference state initialized.\n",
      "Points: [[559, 517]], Labels: [1]\n",
      "Inference completed for the frame.\n",
      "Predicted mask successfully saved at: C:\\Users\\devanish\\Downloads\\Datasets\\UnitTesting\\ureter\\01\\PredictedMask\\00008.png\n",
      "SAM2 inference state and model reset.\n",
      "\n",
      "Processing image 10: 00009.png\n",
      "Image path: C:\\Users\\devanish\\Downloads\\Datasets\\UnitTesting\\ureter\\01\\Frames\\00009.png\n",
      "Mask path: C:\\Users\\devanish\\Downloads\\Datasets\\UnitTesting\\ureter\\01\\Masks\\00009.png\n",
      "Image loaded successfully.\n",
      "Mask loaded successfully.\n",
      "JPEG image successfully saved at: C:\\Users\\devanish\\Downloads\\Datasets\\UnitTesting\\ureter\\01\\JPEG_Frames_9\\00009.jpg\n",
      "Selected prompt coordinate: [505 721]\n"
     ]
    },
    {
     "name": "stderr",
     "output_type": "stream",
     "text": [
      "frame loading (JPEG): 100%|██████████| 1/1 [00:00<00:00, 26.59it/s]\n"
     ]
    },
    {
     "name": "stdout",
     "output_type": "stream",
     "text": [
      "SAM2 inference state initialized.\n",
      "Points: [[721, 505]], Labels: [1]\n",
      "Inference completed for the frame.\n",
      "Predicted mask successfully saved at: C:\\Users\\devanish\\Downloads\\Datasets\\UnitTesting\\ureter\\01\\PredictedMask\\00009.png\n",
      "SAM2 inference state and model reset.\n",
      "\n",
      "Processing image 11: 00010.png\n",
      "Image path: C:\\Users\\devanish\\Downloads\\Datasets\\UnitTesting\\ureter\\01\\Frames\\00010.png\n",
      "Mask path: C:\\Users\\devanish\\Downloads\\Datasets\\UnitTesting\\ureter\\01\\Masks\\00010.png\n",
      "Image loaded successfully.\n",
      "Mask loaded successfully.\n",
      "JPEG image successfully saved at: C:\\Users\\devanish\\Downloads\\Datasets\\UnitTesting\\ureter\\01\\JPEG_Frames_10\\00010.jpg\n",
      "Selected prompt coordinate: [ 485 1051]\n"
     ]
    },
    {
     "name": "stderr",
     "output_type": "stream",
     "text": [
      "frame loading (JPEG): 100%|██████████| 1/1 [00:00<00:00, 18.65it/s]\n"
     ]
    },
    {
     "name": "stdout",
     "output_type": "stream",
     "text": [
      "SAM2 inference state initialized.\n",
      "Points: [[1051, 485]], Labels: [1]\n",
      "Inference completed for the frame.\n",
      "Predicted mask successfully saved at: C:\\Users\\devanish\\Downloads\\Datasets\\UnitTesting\\ureter\\01\\PredictedMask\\00010.png\n",
      "SAM2 inference state and model reset.\n",
      "\n",
      "Processing image 12: 00011.png\n",
      "Image path: C:\\Users\\devanish\\Downloads\\Datasets\\UnitTesting\\ureter\\01\\Frames\\00011.png\n",
      "Mask path: C:\\Users\\devanish\\Downloads\\Datasets\\UnitTesting\\ureter\\01\\Masks\\00011.png\n",
      "Image loaded successfully.\n",
      "Mask loaded successfully.\n",
      "JPEG image successfully saved at: C:\\Users\\devanish\\Downloads\\Datasets\\UnitTesting\\ureter\\01\\JPEG_Frames_11\\00011.jpg\n",
      "Selected prompt coordinate: [458 952]\n"
     ]
    },
    {
     "name": "stderr",
     "output_type": "stream",
     "text": [
      "frame loading (JPEG): 100%|██████████| 1/1 [00:00<00:00, 20.76it/s]\n"
     ]
    },
    {
     "name": "stdout",
     "output_type": "stream",
     "text": [
      "SAM2 inference state initialized.\n",
      "Points: [[952, 458]], Labels: [1]\n",
      "Inference completed for the frame.\n",
      "Predicted mask successfully saved at: C:\\Users\\devanish\\Downloads\\Datasets\\UnitTesting\\ureter\\01\\PredictedMask\\00011.png\n",
      "SAM2 inference state and model reset.\n",
      "\n",
      "Processing image 13: 00012.png\n",
      "Image path: C:\\Users\\devanish\\Downloads\\Datasets\\UnitTesting\\ureter\\01\\Frames\\00012.png\n",
      "Mask path: C:\\Users\\devanish\\Downloads\\Datasets\\UnitTesting\\ureter\\01\\Masks\\00012.png\n",
      "Image loaded successfully.\n",
      "Mask loaded successfully.\n",
      "JPEG image successfully saved at: C:\\Users\\devanish\\Downloads\\Datasets\\UnitTesting\\ureter\\01\\JPEG_Frames_12\\00012.jpg\n",
      "Selected prompt coordinate: [400 720]\n"
     ]
    },
    {
     "name": "stderr",
     "output_type": "stream",
     "text": [
      "frame loading (JPEG): 100%|██████████| 1/1 [00:00<00:00, 23.59it/s]\n"
     ]
    },
    {
     "name": "stdout",
     "output_type": "stream",
     "text": [
      "SAM2 inference state initialized.\n",
      "Points: [[720, 400]], Labels: [1]\n",
      "Inference completed for the frame.\n",
      "Predicted mask successfully saved at: C:\\Users\\devanish\\Downloads\\Datasets\\UnitTesting\\ureter\\01\\PredictedMask\\00012.png\n",
      "SAM2 inference state and model reset.\n",
      "\n",
      "Processing image 14: 00013.png\n",
      "Image path: C:\\Users\\devanish\\Downloads\\Datasets\\UnitTesting\\ureter\\01\\Frames\\00013.png\n",
      "Mask path: C:\\Users\\devanish\\Downloads\\Datasets\\UnitTesting\\ureter\\01\\Masks\\00013.png\n",
      "Image loaded successfully.\n",
      "Mask loaded successfully.\n",
      "JPEG image successfully saved at: C:\\Users\\devanish\\Downloads\\Datasets\\UnitTesting\\ureter\\01\\JPEG_Frames_13\\00013.jpg\n",
      "Selected prompt coordinate: [404 503]\n"
     ]
    },
    {
     "name": "stderr",
     "output_type": "stream",
     "text": [
      "frame loading (JPEG): 100%|██████████| 1/1 [00:00<00:00, 17.26it/s]\n"
     ]
    },
    {
     "name": "stdout",
     "output_type": "stream",
     "text": [
      "SAM2 inference state initialized.\n",
      "Points: [[503, 404]], Labels: [1]\n",
      "Inference completed for the frame.\n",
      "Predicted mask successfully saved at: C:\\Users\\devanish\\Downloads\\Datasets\\UnitTesting\\ureter\\01\\PredictedMask\\00013.png\n",
      "SAM2 inference state and model reset.\n",
      "\n",
      "Processing image 15: 00014.png\n",
      "Image path: C:\\Users\\devanish\\Downloads\\Datasets\\UnitTesting\\ureter\\01\\Frames\\00014.png\n",
      "Mask path: C:\\Users\\devanish\\Downloads\\Datasets\\UnitTesting\\ureter\\01\\Masks\\00014.png\n",
      "Image loaded successfully.\n",
      "Mask loaded successfully.\n",
      "JPEG image successfully saved at: C:\\Users\\devanish\\Downloads\\Datasets\\UnitTesting\\ureter\\01\\JPEG_Frames_14\\00014.jpg\n",
      "Selected prompt coordinate: [318 871]\n"
     ]
    },
    {
     "name": "stderr",
     "output_type": "stream",
     "text": [
      "frame loading (JPEG): 100%|██████████| 1/1 [00:00<00:00,  8.46it/s]\n"
     ]
    },
    {
     "name": "stdout",
     "output_type": "stream",
     "text": [
      "SAM2 inference state initialized.\n",
      "Points: [[871, 318]], Labels: [1]\n",
      "Inference completed for the frame.\n",
      "Predicted mask successfully saved at: C:\\Users\\devanish\\Downloads\\Datasets\\UnitTesting\\ureter\\01\\PredictedMask\\00014.png\n",
      "SAM2 inference state and model reset.\n",
      "\n",
      "Processing image 16: 00015.png\n",
      "Image path: C:\\Users\\devanish\\Downloads\\Datasets\\UnitTesting\\ureter\\01\\Frames\\00015.png\n",
      "Mask path: C:\\Users\\devanish\\Downloads\\Datasets\\UnitTesting\\ureter\\01\\Masks\\00015.png\n",
      "Image loaded successfully.\n",
      "Mask loaded successfully.\n",
      "JPEG image successfully saved at: C:\\Users\\devanish\\Downloads\\Datasets\\UnitTesting\\ureter\\01\\JPEG_Frames_15\\00015.jpg\n",
      "Selected prompt coordinate: [240 816]\n"
     ]
    },
    {
     "name": "stderr",
     "output_type": "stream",
     "text": [
      "frame loading (JPEG): 100%|██████████| 1/1 [00:00<00:00, 24.39it/s]\n"
     ]
    },
    {
     "name": "stdout",
     "output_type": "stream",
     "text": [
      "SAM2 inference state initialized.\n",
      "Points: [[816, 240]], Labels: [1]\n",
      "Inference completed for the frame.\n",
      "Predicted mask successfully saved at: C:\\Users\\devanish\\Downloads\\Datasets\\UnitTesting\\ureter\\01\\PredictedMask\\00015.png\n",
      "SAM2 inference state and model reset.\n",
      "\n",
      "Processing image 17: 00016.png\n",
      "Image path: C:\\Users\\devanish\\Downloads\\Datasets\\UnitTesting\\ureter\\01\\Frames\\00016.png\n",
      "Mask path: C:\\Users\\devanish\\Downloads\\Datasets\\UnitTesting\\ureter\\01\\Masks\\00016.png\n",
      "Image loaded successfully.\n",
      "Mask loaded successfully.\n",
      "JPEG image successfully saved at: C:\\Users\\devanish\\Downloads\\Datasets\\UnitTesting\\ureter\\01\\JPEG_Frames_16\\00016.jpg\n",
      "Selected prompt coordinate: [264 763]\n"
     ]
    },
    {
     "name": "stderr",
     "output_type": "stream",
     "text": [
      "frame loading (JPEG): 100%|██████████| 1/1 [00:00<00:00, 21.03it/s]\n"
     ]
    },
    {
     "name": "stdout",
     "output_type": "stream",
     "text": [
      "SAM2 inference state initialized.\n",
      "Points: [[763, 264]], Labels: [1]\n",
      "Inference completed for the frame.\n",
      "Predicted mask successfully saved at: C:\\Users\\devanish\\Downloads\\Datasets\\UnitTesting\\ureter\\01\\PredictedMask\\00016.png\n",
      "SAM2 inference state and model reset.\n",
      "\n",
      "Processing image 18: 00017.png\n",
      "Image path: C:\\Users\\devanish\\Downloads\\Datasets\\UnitTesting\\ureter\\01\\Frames\\00017.png\n",
      "Mask path: C:\\Users\\devanish\\Downloads\\Datasets\\UnitTesting\\ureter\\01\\Masks\\00017.png\n",
      "Image loaded successfully.\n",
      "Mask loaded successfully.\n",
      "JPEG image successfully saved at: C:\\Users\\devanish\\Downloads\\Datasets\\UnitTesting\\ureter\\01\\JPEG_Frames_17\\00017.jpg\n",
      "Selected prompt coordinate: [236 735]\n"
     ]
    },
    {
     "name": "stderr",
     "output_type": "stream",
     "text": [
      "frame loading (JPEG): 100%|██████████| 1/1 [00:00<00:00, 19.09it/s]\n"
     ]
    },
    {
     "name": "stdout",
     "output_type": "stream",
     "text": [
      "SAM2 inference state initialized.\n",
      "Points: [[735, 236]], Labels: [1]\n",
      "Inference completed for the frame.\n",
      "Predicted mask successfully saved at: C:\\Users\\devanish\\Downloads\\Datasets\\UnitTesting\\ureter\\01\\PredictedMask\\00017.png\n",
      "SAM2 inference state and model reset.\n",
      "\n",
      "Processing image 19: 00018.png\n",
      "Image path: C:\\Users\\devanish\\Downloads\\Datasets\\UnitTesting\\ureter\\01\\Frames\\00018.png\n",
      "Mask path: C:\\Users\\devanish\\Downloads\\Datasets\\UnitTesting\\ureter\\01\\Masks\\00018.png\n",
      "Image loaded successfully.\n",
      "Mask loaded successfully.\n",
      "JPEG image successfully saved at: C:\\Users\\devanish\\Downloads\\Datasets\\UnitTesting\\ureter\\01\\JPEG_Frames_18\\00018.jpg\n",
      "Selected prompt coordinate: [331 830]\n"
     ]
    },
    {
     "name": "stderr",
     "output_type": "stream",
     "text": [
      "frame loading (JPEG): 100%|██████████| 1/1 [00:00<00:00, 25.18it/s]\n"
     ]
    },
    {
     "name": "stdout",
     "output_type": "stream",
     "text": [
      "SAM2 inference state initialized.\n",
      "Points: [[830, 331]], Labels: [1]\n",
      "Inference completed for the frame.\n",
      "Predicted mask successfully saved at: C:\\Users\\devanish\\Downloads\\Datasets\\UnitTesting\\ureter\\01\\PredictedMask\\00018.png\n",
      "SAM2 inference state and model reset.\n",
      "\n",
      "Processing image 20: 00019.png\n",
      "Image path: C:\\Users\\devanish\\Downloads\\Datasets\\UnitTesting\\ureter\\01\\Frames\\00019.png\n",
      "Mask path: C:\\Users\\devanish\\Downloads\\Datasets\\UnitTesting\\ureter\\01\\Masks\\00019.png\n",
      "Image loaded successfully.\n",
      "Mask loaded successfully.\n",
      "JPEG image successfully saved at: C:\\Users\\devanish\\Downloads\\Datasets\\UnitTesting\\ureter\\01\\JPEG_Frames_19\\00019.jpg\n",
      "Selected prompt coordinate: [256 977]\n"
     ]
    },
    {
     "name": "stderr",
     "output_type": "stream",
     "text": [
      "frame loading (JPEG): 100%|██████████| 1/1 [00:00<00:00, 21.48it/s]\n"
     ]
    },
    {
     "name": "stdout",
     "output_type": "stream",
     "text": [
      "SAM2 inference state initialized.\n",
      "Points: [[977, 256]], Labels: [1]\n",
      "Inference completed for the frame.\n",
      "Predicted mask successfully saved at: C:\\Users\\devanish\\Downloads\\Datasets\\UnitTesting\\ureter\\01\\PredictedMask\\00019.png\n",
      "SAM2 inference state and model reset.\n",
      "\n",
      "Processing image 21: 00020.png\n",
      "Image path: C:\\Users\\devanish\\Downloads\\Datasets\\UnitTesting\\ureter\\01\\Frames\\00020.png\n",
      "Mask path: C:\\Users\\devanish\\Downloads\\Datasets\\UnitTesting\\ureter\\01\\Masks\\00020.png\n",
      "Image loaded successfully.\n",
      "Mask loaded successfully.\n",
      "JPEG image successfully saved at: C:\\Users\\devanish\\Downloads\\Datasets\\UnitTesting\\ureter\\01\\JPEG_Frames_20\\00020.jpg\n",
      "Selected prompt coordinate: [242 982]\n"
     ]
    },
    {
     "name": "stderr",
     "output_type": "stream",
     "text": [
      "frame loading (JPEG): 100%|██████████| 1/1 [00:00<00:00, 23.81it/s]\n"
     ]
    },
    {
     "name": "stdout",
     "output_type": "stream",
     "text": [
      "SAM2 inference state initialized.\n",
      "Points: [[982, 242]], Labels: [1]\n",
      "Inference completed for the frame.\n",
      "Predicted mask successfully saved at: C:\\Users\\devanish\\Downloads\\Datasets\\UnitTesting\\ureter\\01\\PredictedMask\\00020.png\n",
      "SAM2 inference state and model reset.\n",
      "\n",
      "Processing image 22: 00021.png\n",
      "Image path: C:\\Users\\devanish\\Downloads\\Datasets\\UnitTesting\\ureter\\01\\Frames\\00021.png\n",
      "Mask path: C:\\Users\\devanish\\Downloads\\Datasets\\UnitTesting\\ureter\\01\\Masks\\00021.png\n",
      "Image loaded successfully.\n",
      "Mask loaded successfully.\n",
      "JPEG image successfully saved at: C:\\Users\\devanish\\Downloads\\Datasets\\UnitTesting\\ureter\\01\\JPEG_Frames_21\\00021.jpg\n",
      "Selected prompt coordinate: [ 58 904]\n"
     ]
    },
    {
     "name": "stderr",
     "output_type": "stream",
     "text": [
      "frame loading (JPEG): 100%|██████████| 1/1 [00:00<00:00, 22.97it/s]\n"
     ]
    },
    {
     "name": "stdout",
     "output_type": "stream",
     "text": [
      "SAM2 inference state initialized.\n",
      "Points: [[904, 58]], Labels: [1]\n",
      "Inference completed for the frame.\n",
      "Predicted mask successfully saved at: C:\\Users\\devanish\\Downloads\\Datasets\\UnitTesting\\ureter\\01\\PredictedMask\\00021.png\n",
      "SAM2 inference state and model reset.\n",
      "\n",
      "Processing image 23: 00022.png\n",
      "Image path: C:\\Users\\devanish\\Downloads\\Datasets\\UnitTesting\\ureter\\01\\Frames\\00022.png\n",
      "Mask path: C:\\Users\\devanish\\Downloads\\Datasets\\UnitTesting\\ureter\\01\\Masks\\00022.png\n",
      "Image loaded successfully.\n",
      "Mask loaded successfully.\n",
      "JPEG image successfully saved at: C:\\Users\\devanish\\Downloads\\Datasets\\UnitTesting\\ureter\\01\\JPEG_Frames_22\\00022.jpg\n",
      "Selected prompt coordinate: [ 98 464]\n"
     ]
    },
    {
     "name": "stderr",
     "output_type": "stream",
     "text": [
      "frame loading (JPEG): 100%|██████████| 1/1 [00:00<00:00, 13.06it/s]\n"
     ]
    },
    {
     "name": "stdout",
     "output_type": "stream",
     "text": [
      "SAM2 inference state initialized.\n",
      "Points: [[464, 98]], Labels: [1]\n",
      "Inference completed for the frame.\n",
      "Predicted mask successfully saved at: C:\\Users\\devanish\\Downloads\\Datasets\\UnitTesting\\ureter\\01\\PredictedMask\\00022.png\n",
      "SAM2 inference state and model reset.\n",
      "\n",
      "Processing image 24: 00023.png\n",
      "Image path: C:\\Users\\devanish\\Downloads\\Datasets\\UnitTesting\\ureter\\01\\Frames\\00023.png\n",
      "Mask path: C:\\Users\\devanish\\Downloads\\Datasets\\UnitTesting\\ureter\\01\\Masks\\00023.png\n",
      "Image loaded successfully.\n",
      "Mask loaded successfully.\n",
      "JPEG image successfully saved at: C:\\Users\\devanish\\Downloads\\Datasets\\UnitTesting\\ureter\\01\\JPEG_Frames_23\\00023.jpg\n",
      "Selected prompt coordinate: [221 324]\n"
     ]
    },
    {
     "name": "stderr",
     "output_type": "stream",
     "text": [
      "frame loading (JPEG): 100%|██████████| 1/1 [00:00<00:00, 23.48it/s]\n"
     ]
    },
    {
     "name": "stdout",
     "output_type": "stream",
     "text": [
      "SAM2 inference state initialized.\n",
      "Points: [[324, 221]], Labels: [1]\n",
      "Inference completed for the frame.\n",
      "Predicted mask successfully saved at: C:\\Users\\devanish\\Downloads\\Datasets\\UnitTesting\\ureter\\01\\PredictedMask\\00023.png\n",
      "SAM2 inference state and model reset.\n",
      "\n",
      "Processing image 25: 00024.png\n",
      "Image path: C:\\Users\\devanish\\Downloads\\Datasets\\UnitTesting\\ureter\\01\\Frames\\00024.png\n",
      "Mask path: C:\\Users\\devanish\\Downloads\\Datasets\\UnitTesting\\ureter\\01\\Masks\\00024.png\n",
      "Image loaded successfully.\n",
      "Mask loaded successfully.\n",
      "JPEG image successfully saved at: C:\\Users\\devanish\\Downloads\\Datasets\\UnitTesting\\ureter\\01\\JPEG_Frames_24\\00024.jpg\n",
      "Selected prompt coordinate: [192 492]\n"
     ]
    },
    {
     "name": "stderr",
     "output_type": "stream",
     "text": [
      "frame loading (JPEG): 100%|██████████| 1/1 [00:00<00:00, 26.19it/s]\n"
     ]
    },
    {
     "name": "stdout",
     "output_type": "stream",
     "text": [
      "SAM2 inference state initialized.\n",
      "Points: [[492, 192]], Labels: [1]\n",
      "Inference completed for the frame.\n",
      "Predicted mask successfully saved at: C:\\Users\\devanish\\Downloads\\Datasets\\UnitTesting\\ureter\\01\\PredictedMask\\00024.png\n",
      "SAM2 inference state and model reset.\n",
      "\n",
      "Processing image 26: 00025.png\n",
      "Image path: C:\\Users\\devanish\\Downloads\\Datasets\\UnitTesting\\ureter\\01\\Frames\\00025.png\n",
      "Mask path: C:\\Users\\devanish\\Downloads\\Datasets\\UnitTesting\\ureter\\01\\Masks\\00025.png\n",
      "Image loaded successfully.\n",
      "Mask loaded successfully.\n",
      "JPEG image successfully saved at: C:\\Users\\devanish\\Downloads\\Datasets\\UnitTesting\\ureter\\01\\JPEG_Frames_25\\00025.jpg\n",
      "Selected prompt coordinate: [317 130]\n"
     ]
    },
    {
     "name": "stderr",
     "output_type": "stream",
     "text": [
      "frame loading (JPEG): 100%|██████████| 1/1 [00:00<00:00, 21.74it/s]\n"
     ]
    },
    {
     "name": "stdout",
     "output_type": "stream",
     "text": [
      "SAM2 inference state initialized.\n",
      "Points: [[130, 317]], Labels: [1]\n",
      "Inference completed for the frame.\n",
      "Predicted mask successfully saved at: C:\\Users\\devanish\\Downloads\\Datasets\\UnitTesting\\ureter\\01\\PredictedMask\\00025.png\n",
      "SAM2 inference state and model reset.\n",
      "\n",
      "Processing image 27: 00026.png\n",
      "Image path: C:\\Users\\devanish\\Downloads\\Datasets\\UnitTesting\\ureter\\01\\Frames\\00026.png\n",
      "Mask path: C:\\Users\\devanish\\Downloads\\Datasets\\UnitTesting\\ureter\\01\\Masks\\00026.png\n",
      "Image loaded successfully.\n",
      "Mask loaded successfully.\n",
      "JPEG image successfully saved at: C:\\Users\\devanish\\Downloads\\Datasets\\UnitTesting\\ureter\\01\\JPEG_Frames_26\\00026.jpg\n",
      "Selected prompt coordinate: [618 517]\n"
     ]
    },
    {
     "name": "stderr",
     "output_type": "stream",
     "text": [
      "frame loading (JPEG): 100%|██████████| 1/1 [00:00<00:00, 21.74it/s]\n"
     ]
    },
    {
     "name": "stdout",
     "output_type": "stream",
     "text": [
      "SAM2 inference state initialized.\n",
      "Points: [[517, 618]], Labels: [1]\n",
      "Inference completed for the frame.\n",
      "Predicted mask successfully saved at: C:\\Users\\devanish\\Downloads\\Datasets\\UnitTesting\\ureter\\01\\PredictedMask\\00026.png\n",
      "SAM2 inference state and model reset.\n",
      "\n",
      "Processing image 28: 00027.png\n",
      "Image path: C:\\Users\\devanish\\Downloads\\Datasets\\UnitTesting\\ureter\\01\\Frames\\00027.png\n",
      "Mask path: C:\\Users\\devanish\\Downloads\\Datasets\\UnitTesting\\ureter\\01\\Masks\\00027.png\n",
      "Image loaded successfully.\n",
      "Mask loaded successfully.\n",
      "JPEG image successfully saved at: C:\\Users\\devanish\\Downloads\\Datasets\\UnitTesting\\ureter\\01\\JPEG_Frames_27\\00027.jpg\n",
      "Selected prompt coordinate: [575 557]\n"
     ]
    },
    {
     "name": "stderr",
     "output_type": "stream",
     "text": [
      "frame loading (JPEG): 100%|██████████| 1/1 [00:00<00:00, 24.39it/s]\n"
     ]
    },
    {
     "name": "stdout",
     "output_type": "stream",
     "text": [
      "SAM2 inference state initialized.\n",
      "Points: [[557, 575]], Labels: [1]\n",
      "Inference completed for the frame.\n",
      "Predicted mask successfully saved at: C:\\Users\\devanish\\Downloads\\Datasets\\UnitTesting\\ureter\\01\\PredictedMask\\00027.png\n",
      "SAM2 inference state and model reset.\n",
      "\n",
      "Processing image 29: 00028.png\n",
      "Image path: C:\\Users\\devanish\\Downloads\\Datasets\\UnitTesting\\ureter\\01\\Frames\\00028.png\n",
      "Mask path: C:\\Users\\devanish\\Downloads\\Datasets\\UnitTesting\\ureter\\01\\Masks\\00028.png\n",
      "Image loaded successfully.\n",
      "Mask loaded successfully.\n",
      "JPEG image successfully saved at: C:\\Users\\devanish\\Downloads\\Datasets\\UnitTesting\\ureter\\01\\JPEG_Frames_28\\00028.jpg\n",
      "Selected prompt coordinate: [726 472]\n"
     ]
    },
    {
     "name": "stderr",
     "output_type": "stream",
     "text": [
      "frame loading (JPEG): 100%|██████████| 1/1 [00:00<00:00, 24.39it/s]\n"
     ]
    },
    {
     "name": "stdout",
     "output_type": "stream",
     "text": [
      "SAM2 inference state initialized.\n",
      "Points: [[472, 726]], Labels: [1]\n",
      "Inference completed for the frame.\n",
      "Predicted mask successfully saved at: C:\\Users\\devanish\\Downloads\\Datasets\\UnitTesting\\ureter\\01\\PredictedMask\\00028.png\n",
      "SAM2 inference state and model reset.\n",
      "\n",
      "Processing image 30: 00029.png\n",
      "Image path: C:\\Users\\devanish\\Downloads\\Datasets\\UnitTesting\\ureter\\01\\Frames\\00029.png\n",
      "Mask path: C:\\Users\\devanish\\Downloads\\Datasets\\UnitTesting\\ureter\\01\\Masks\\00029.png\n",
      "Image loaded successfully.\n",
      "Mask loaded successfully.\n",
      "JPEG image successfully saved at: C:\\Users\\devanish\\Downloads\\Datasets\\UnitTesting\\ureter\\01\\JPEG_Frames_29\\00029.jpg\n",
      "Selected prompt coordinate: [753 437]\n"
     ]
    },
    {
     "name": "stderr",
     "output_type": "stream",
     "text": [
      "frame loading (JPEG): 100%|██████████| 1/1 [00:00<00:00, 23.06it/s]\n"
     ]
    },
    {
     "name": "stdout",
     "output_type": "stream",
     "text": [
      "SAM2 inference state initialized.\n",
      "Points: [[437, 753]], Labels: [1]\n",
      "Inference completed for the frame.\n",
      "Predicted mask successfully saved at: C:\\Users\\devanish\\Downloads\\Datasets\\UnitTesting\\ureter\\01\\PredictedMask\\00029.png\n",
      "SAM2 inference state and model reset.\n",
      "\n",
      "Processing image 31: 00030.png\n",
      "Image path: C:\\Users\\devanish\\Downloads\\Datasets\\UnitTesting\\ureter\\01\\Frames\\00030.png\n",
      "Mask path: C:\\Users\\devanish\\Downloads\\Datasets\\UnitTesting\\ureter\\01\\Masks\\00030.png\n",
      "Image loaded successfully.\n",
      "Mask loaded successfully.\n",
      "JPEG image successfully saved at: C:\\Users\\devanish\\Downloads\\Datasets\\UnitTesting\\ureter\\01\\JPEG_Frames_30\\00030.jpg\n",
      "Selected prompt coordinate: [703 543]\n"
     ]
    },
    {
     "name": "stderr",
     "output_type": "stream",
     "text": [
      "frame loading (JPEG): 100%|██████████| 1/1 [00:00<00:00, 23.81it/s]\n"
     ]
    },
    {
     "name": "stdout",
     "output_type": "stream",
     "text": [
      "SAM2 inference state initialized.\n",
      "Points: [[543, 703]], Labels: [1]\n",
      "Inference completed for the frame.\n",
      "Predicted mask successfully saved at: C:\\Users\\devanish\\Downloads\\Datasets\\UnitTesting\\ureter\\01\\PredictedMask\\00030.png\n",
      "SAM2 inference state and model reset.\n",
      "\n",
      "Processing image 32: 00031.png\n",
      "Image path: C:\\Users\\devanish\\Downloads\\Datasets\\UnitTesting\\ureter\\01\\Frames\\00031.png\n",
      "Mask path: C:\\Users\\devanish\\Downloads\\Datasets\\UnitTesting\\ureter\\01\\Masks\\00031.png\n",
      "Image loaded successfully.\n",
      "Mask loaded successfully.\n",
      "JPEG image successfully saved at: C:\\Users\\devanish\\Downloads\\Datasets\\UnitTesting\\ureter\\01\\JPEG_Frames_31\\00031.jpg\n",
      "Selected prompt coordinate: [705 470]\n"
     ]
    },
    {
     "name": "stderr",
     "output_type": "stream",
     "text": [
      "frame loading (JPEG): 100%|██████████| 1/1 [00:00<00:00, 24.39it/s]\n"
     ]
    },
    {
     "name": "stdout",
     "output_type": "stream",
     "text": [
      "SAM2 inference state initialized.\n",
      "Points: [[470, 705]], Labels: [1]\n",
      "Inference completed for the frame.\n",
      "Predicted mask successfully saved at: C:\\Users\\devanish\\Downloads\\Datasets\\UnitTesting\\ureter\\01\\PredictedMask\\00031.png\n",
      "SAM2 inference state and model reset.\n",
      "\n",
      "Processing image 33: 00032.png\n",
      "Image path: C:\\Users\\devanish\\Downloads\\Datasets\\UnitTesting\\ureter\\01\\Frames\\00032.png\n",
      "Mask path: C:\\Users\\devanish\\Downloads\\Datasets\\UnitTesting\\ureter\\01\\Masks\\00032.png\n",
      "Image loaded successfully.\n",
      "Mask loaded successfully.\n",
      "JPEG image successfully saved at: C:\\Users\\devanish\\Downloads\\Datasets\\UnitTesting\\ureter\\01\\JPEG_Frames_32\\00032.jpg\n",
      "Selected prompt coordinate: [612 570]\n"
     ]
    },
    {
     "name": "stderr",
     "output_type": "stream",
     "text": [
      "frame loading (JPEG): 100%|██████████| 1/1 [00:00<00:00, 22.15it/s]\n"
     ]
    },
    {
     "name": "stdout",
     "output_type": "stream",
     "text": [
      "SAM2 inference state initialized.\n",
      "Points: [[570, 612]], Labels: [1]\n",
      "Inference completed for the frame.\n",
      "Predicted mask successfully saved at: C:\\Users\\devanish\\Downloads\\Datasets\\UnitTesting\\ureter\\01\\PredictedMask\\00032.png\n",
      "SAM2 inference state and model reset.\n",
      "\n",
      "Processing image 34: 00033.png\n",
      "Image path: C:\\Users\\devanish\\Downloads\\Datasets\\UnitTesting\\ureter\\01\\Frames\\00033.png\n",
      "Mask path: C:\\Users\\devanish\\Downloads\\Datasets\\UnitTesting\\ureter\\01\\Masks\\00033.png\n",
      "Image loaded successfully.\n",
      "Mask loaded successfully.\n",
      "JPEG image successfully saved at: C:\\Users\\devanish\\Downloads\\Datasets\\UnitTesting\\ureter\\01\\JPEG_Frames_33\\00033.jpg\n",
      "Selected prompt coordinate: [613 635]\n"
     ]
    },
    {
     "name": "stderr",
     "output_type": "stream",
     "text": [
      "frame loading (JPEG): 100%|██████████| 1/1 [00:00<00:00, 26.06it/s]\n"
     ]
    },
    {
     "name": "stdout",
     "output_type": "stream",
     "text": [
      "SAM2 inference state initialized.\n",
      "Points: [[635, 613]], Labels: [1]\n",
      "Inference completed for the frame.\n",
      "Predicted mask successfully saved at: C:\\Users\\devanish\\Downloads\\Datasets\\UnitTesting\\ureter\\01\\PredictedMask\\00033.png\n",
      "SAM2 inference state and model reset.\n",
      "\n",
      "Processing image 35: 00034.png\n",
      "Image path: C:\\Users\\devanish\\Downloads\\Datasets\\UnitTesting\\ureter\\01\\Frames\\00034.png\n",
      "Mask path: C:\\Users\\devanish\\Downloads\\Datasets\\UnitTesting\\ureter\\01\\Masks\\00034.png\n",
      "Image loaded successfully.\n",
      "Mask loaded successfully.\n",
      "JPEG image successfully saved at: C:\\Users\\devanish\\Downloads\\Datasets\\UnitTesting\\ureter\\01\\JPEG_Frames_34\\00034.jpg\n",
      "Selected prompt coordinate: [628 623]\n"
     ]
    },
    {
     "name": "stderr",
     "output_type": "stream",
     "text": [
      "frame loading (JPEG): 100%|██████████| 1/1 [00:00<00:00, 25.58it/s]\n"
     ]
    },
    {
     "name": "stdout",
     "output_type": "stream",
     "text": [
      "SAM2 inference state initialized.\n",
      "Points: [[623, 628]], Labels: [1]\n",
      "Inference completed for the frame.\n",
      "Predicted mask successfully saved at: C:\\Users\\devanish\\Downloads\\Datasets\\UnitTesting\\ureter\\01\\PredictedMask\\00034.png\n",
      "SAM2 inference state and model reset.\n",
      "\n",
      "Processing image 36: 00035.png\n",
      "Image path: C:\\Users\\devanish\\Downloads\\Datasets\\UnitTesting\\ureter\\01\\Frames\\00035.png\n",
      "Mask path: C:\\Users\\devanish\\Downloads\\Datasets\\UnitTesting\\ureter\\01\\Masks\\00035.png\n",
      "Image loaded successfully.\n",
      "Mask loaded successfully.\n",
      "JPEG image successfully saved at: C:\\Users\\devanish\\Downloads\\Datasets\\UnitTesting\\ureter\\01\\JPEG_Frames_35\\00035.jpg\n",
      "Selected prompt coordinate: [748 397]\n"
     ]
    },
    {
     "name": "stderr",
     "output_type": "stream",
     "text": [
      "frame loading (JPEG): 100%|██████████| 1/1 [00:00<00:00, 25.32it/s]\n"
     ]
    },
    {
     "name": "stdout",
     "output_type": "stream",
     "text": [
      "SAM2 inference state initialized.\n",
      "Points: [[397, 748]], Labels: [1]\n",
      "Inference completed for the frame.\n",
      "Predicted mask successfully saved at: C:\\Users\\devanish\\Downloads\\Datasets\\UnitTesting\\ureter\\01\\PredictedMask\\00035.png\n",
      "SAM2 inference state and model reset.\n",
      "\n",
      "Processing image 37: 00036.png\n",
      "Image path: C:\\Users\\devanish\\Downloads\\Datasets\\UnitTesting\\ureter\\01\\Frames\\00036.png\n",
      "Mask path: C:\\Users\\devanish\\Downloads\\Datasets\\UnitTesting\\ureter\\01\\Masks\\00036.png\n",
      "Image loaded successfully.\n",
      "Mask loaded successfully.\n",
      "JPEG image successfully saved at: C:\\Users\\devanish\\Downloads\\Datasets\\UnitTesting\\ureter\\01\\JPEG_Frames_36\\00036.jpg\n",
      "Selected prompt coordinate: [547 616]\n"
     ]
    },
    {
     "name": "stderr",
     "output_type": "stream",
     "text": [
      "frame loading (JPEG): 100%|██████████| 1/1 [00:00<00:00, 16.84it/s]\n"
     ]
    },
    {
     "name": "stdout",
     "output_type": "stream",
     "text": [
      "SAM2 inference state initialized.\n",
      "Points: [[616, 547]], Labels: [1]\n",
      "Inference completed for the frame.\n",
      "Predicted mask successfully saved at: C:\\Users\\devanish\\Downloads\\Datasets\\UnitTesting\\ureter\\01\\PredictedMask\\00036.png\n",
      "SAM2 inference state and model reset.\n",
      "\n",
      "Processing image 38: 00037.png\n",
      "Image path: C:\\Users\\devanish\\Downloads\\Datasets\\UnitTesting\\ureter\\01\\Frames\\00037.png\n",
      "Mask path: C:\\Users\\devanish\\Downloads\\Datasets\\UnitTesting\\ureter\\01\\Masks\\00037.png\n",
      "Image loaded successfully.\n",
      "Mask loaded successfully.\n",
      "JPEG image successfully saved at: C:\\Users\\devanish\\Downloads\\Datasets\\UnitTesting\\ureter\\01\\JPEG_Frames_37\\00037.jpg\n",
      "Selected prompt coordinate: [623 512]\n"
     ]
    },
    {
     "name": "stderr",
     "output_type": "stream",
     "text": [
      "frame loading (JPEG): 100%|██████████| 1/1 [00:00<00:00, 21.51it/s]\n"
     ]
    },
    {
     "name": "stdout",
     "output_type": "stream",
     "text": [
      "SAM2 inference state initialized.\n",
      "Points: [[512, 623]], Labels: [1]\n",
      "Inference completed for the frame.\n",
      "Predicted mask successfully saved at: C:\\Users\\devanish\\Downloads\\Datasets\\UnitTesting\\ureter\\01\\PredictedMask\\00037.png\n",
      "SAM2 inference state and model reset.\n",
      "\n",
      "Processing image 39: 00038.png\n",
      "Image path: C:\\Users\\devanish\\Downloads\\Datasets\\UnitTesting\\ureter\\01\\Frames\\00038.png\n",
      "Mask path: C:\\Users\\devanish\\Downloads\\Datasets\\UnitTesting\\ureter\\01\\Masks\\00038.png\n",
      "Image loaded successfully.\n",
      "Mask loaded successfully.\n",
      "JPEG image successfully saved at: C:\\Users\\devanish\\Downloads\\Datasets\\UnitTesting\\ureter\\01\\JPEG_Frames_38\\00038.jpg\n",
      "Selected prompt coordinate: [585 629]\n"
     ]
    },
    {
     "name": "stderr",
     "output_type": "stream",
     "text": [
      "frame loading (JPEG): 100%|██████████| 1/1 [00:00<00:00, 21.40it/s]\n"
     ]
    },
    {
     "name": "stdout",
     "output_type": "stream",
     "text": [
      "SAM2 inference state initialized.\n",
      "Points: [[629, 585]], Labels: [1]\n",
      "Inference completed for the frame.\n",
      "Predicted mask successfully saved at: C:\\Users\\devanish\\Downloads\\Datasets\\UnitTesting\\ureter\\01\\PredictedMask\\00038.png\n",
      "SAM2 inference state and model reset.\n",
      "\n",
      "Processing image 40: 00039.png\n",
      "Image path: C:\\Users\\devanish\\Downloads\\Datasets\\UnitTesting\\ureter\\01\\Frames\\00039.png\n",
      "Mask path: C:\\Users\\devanish\\Downloads\\Datasets\\UnitTesting\\ureter\\01\\Masks\\00039.png\n",
      "Image loaded successfully.\n",
      "Mask loaded successfully.\n",
      "JPEG image successfully saved at: C:\\Users\\devanish\\Downloads\\Datasets\\UnitTesting\\ureter\\01\\JPEG_Frames_39\\00039.jpg\n",
      "Selected prompt coordinate: [711 457]\n"
     ]
    },
    {
     "name": "stderr",
     "output_type": "stream",
     "text": [
      "frame loading (JPEG): 100%|██████████| 1/1 [00:00<00:00, 26.30it/s]\n"
     ]
    },
    {
     "name": "stdout",
     "output_type": "stream",
     "text": [
      "SAM2 inference state initialized.\n",
      "Points: [[457, 711]], Labels: [1]\n",
      "Inference completed for the frame.\n",
      "Predicted mask successfully saved at: C:\\Users\\devanish\\Downloads\\Datasets\\UnitTesting\\ureter\\01\\PredictedMask\\00039.png\n",
      "SAM2 inference state and model reset.\n",
      "\n",
      "Processing image 41: 00040.png\n",
      "Image path: C:\\Users\\devanish\\Downloads\\Datasets\\UnitTesting\\ureter\\01\\Frames\\00040.png\n",
      "Mask path: C:\\Users\\devanish\\Downloads\\Datasets\\UnitTesting\\ureter\\01\\Masks\\00040.png\n",
      "Image loaded successfully.\n",
      "Mask loaded successfully.\n",
      "JPEG image successfully saved at: C:\\Users\\devanish\\Downloads\\Datasets\\UnitTesting\\ureter\\01\\JPEG_Frames_40\\00040.jpg\n",
      "Selected prompt coordinate: [703 420]\n"
     ]
    },
    {
     "name": "stderr",
     "output_type": "stream",
     "text": [
      "frame loading (JPEG): 100%|██████████| 1/1 [00:00<00:00, 24.57it/s]\n"
     ]
    },
    {
     "name": "stdout",
     "output_type": "stream",
     "text": [
      "SAM2 inference state initialized.\n",
      "Points: [[420, 703]], Labels: [1]\n",
      "Inference completed for the frame.\n",
      "Predicted mask successfully saved at: C:\\Users\\devanish\\Downloads\\Datasets\\UnitTesting\\ureter\\01\\PredictedMask\\00040.png\n",
      "SAM2 inference state and model reset.\n",
      "\n",
      "Processing image 42: 00041.png\n",
      "Image path: C:\\Users\\devanish\\Downloads\\Datasets\\UnitTesting\\ureter\\01\\Frames\\00041.png\n",
      "Mask path: C:\\Users\\devanish\\Downloads\\Datasets\\UnitTesting\\ureter\\01\\Masks\\00041.png\n",
      "Image loaded successfully.\n",
      "Mask loaded successfully.\n",
      "JPEG image successfully saved at: C:\\Users\\devanish\\Downloads\\Datasets\\UnitTesting\\ureter\\01\\JPEG_Frames_41\\00041.jpg\n",
      "Selected prompt coordinate: [806 345]\n"
     ]
    },
    {
     "name": "stderr",
     "output_type": "stream",
     "text": [
      "frame loading (JPEG): 100%|██████████| 1/1 [00:00<00:00, 25.96it/s]\n"
     ]
    },
    {
     "name": "stdout",
     "output_type": "stream",
     "text": [
      "SAM2 inference state initialized.\n",
      "Points: [[345, 806]], Labels: [1]\n",
      "Inference completed for the frame.\n",
      "Predicted mask successfully saved at: C:\\Users\\devanish\\Downloads\\Datasets\\UnitTesting\\ureter\\01\\PredictedMask\\00041.png\n",
      "SAM2 inference state and model reset.\n",
      "\n",
      "Processing image 43: 00042.png\n",
      "Image path: C:\\Users\\devanish\\Downloads\\Datasets\\UnitTesting\\ureter\\01\\Frames\\00042.png\n",
      "Mask path: C:\\Users\\devanish\\Downloads\\Datasets\\UnitTesting\\ureter\\01\\Masks\\00042.png\n",
      "Image loaded successfully.\n",
      "Mask loaded successfully.\n",
      "JPEG image successfully saved at: C:\\Users\\devanish\\Downloads\\Datasets\\UnitTesting\\ureter\\01\\JPEG_Frames_42\\00042.jpg\n",
      "Selected prompt coordinate: [667 502]\n"
     ]
    },
    {
     "name": "stderr",
     "output_type": "stream",
     "text": [
      "frame loading (JPEG): 100%|██████████| 1/1 [00:00<00:00, 24.40it/s]\n"
     ]
    },
    {
     "name": "stdout",
     "output_type": "stream",
     "text": [
      "SAM2 inference state initialized.\n",
      "Points: [[502, 667]], Labels: [1]\n",
      "Inference completed for the frame.\n",
      "Predicted mask successfully saved at: C:\\Users\\devanish\\Downloads\\Datasets\\UnitTesting\\ureter\\01\\PredictedMask\\00042.png\n",
      "SAM2 inference state and model reset.\n",
      "\n",
      "Processing image 44: 00043.png\n",
      "Image path: C:\\Users\\devanish\\Downloads\\Datasets\\UnitTesting\\ureter\\01\\Frames\\00043.png\n",
      "Mask path: C:\\Users\\devanish\\Downloads\\Datasets\\UnitTesting\\ureter\\01\\Masks\\00043.png\n",
      "Image loaded successfully.\n",
      "Mask loaded successfully.\n",
      "JPEG image successfully saved at: C:\\Users\\devanish\\Downloads\\Datasets\\UnitTesting\\ureter\\01\\JPEG_Frames_43\\00043.jpg\n",
      "Selected prompt coordinate: [547 658]\n"
     ]
    },
    {
     "name": "stderr",
     "output_type": "stream",
     "text": [
      "frame loading (JPEG): 100%|██████████| 1/1 [00:00<00:00, 26.27it/s]\n"
     ]
    },
    {
     "name": "stdout",
     "output_type": "stream",
     "text": [
      "SAM2 inference state initialized.\n",
      "Points: [[658, 547]], Labels: [1]\n",
      "Inference completed for the frame.\n",
      "Predicted mask successfully saved at: C:\\Users\\devanish\\Downloads\\Datasets\\UnitTesting\\ureter\\01\\PredictedMask\\00043.png\n",
      "SAM2 inference state and model reset.\n",
      "\n",
      "Processing image 45: 00044.png\n",
      "Image path: C:\\Users\\devanish\\Downloads\\Datasets\\UnitTesting\\ureter\\01\\Frames\\00044.png\n",
      "Mask path: C:\\Users\\devanish\\Downloads\\Datasets\\UnitTesting\\ureter\\01\\Masks\\00044.png\n",
      "Image loaded successfully.\n",
      "Mask loaded successfully.\n",
      "JPEG image successfully saved at: C:\\Users\\devanish\\Downloads\\Datasets\\UnitTesting\\ureter\\01\\JPEG_Frames_44\\00044.jpg\n",
      "Selected prompt coordinate: [604 586]\n"
     ]
    },
    {
     "name": "stderr",
     "output_type": "stream",
     "text": [
      "frame loading (JPEG): 100%|██████████| 1/1 [00:00<00:00, 26.00it/s]\n"
     ]
    },
    {
     "name": "stdout",
     "output_type": "stream",
     "text": [
      "SAM2 inference state initialized.\n",
      "Points: [[586, 604]], Labels: [1]\n",
      "Inference completed for the frame.\n",
      "Predicted mask successfully saved at: C:\\Users\\devanish\\Downloads\\Datasets\\UnitTesting\\ureter\\01\\PredictedMask\\00044.png\n",
      "SAM2 inference state and model reset.\n",
      "\n",
      "Processing image 46: 00045.png\n",
      "Image path: C:\\Users\\devanish\\Downloads\\Datasets\\UnitTesting\\ureter\\01\\Frames\\00045.png\n",
      "Mask path: C:\\Users\\devanish\\Downloads\\Datasets\\UnitTesting\\ureter\\01\\Masks\\00045.png\n",
      "Image loaded successfully.\n",
      "Mask loaded successfully.\n",
      "JPEG image successfully saved at: C:\\Users\\devanish\\Downloads\\Datasets\\UnitTesting\\ureter\\01\\JPEG_Frames_45\\00045.jpg\n",
      "Selected prompt coordinate: [760 427]\n"
     ]
    },
    {
     "name": "stderr",
     "output_type": "stream",
     "text": [
      "frame loading (JPEG): 100%|██████████| 1/1 [00:00<00:00, 18.18it/s]\n"
     ]
    },
    {
     "name": "stdout",
     "output_type": "stream",
     "text": [
      "SAM2 inference state initialized.\n",
      "Points: [[427, 760]], Labels: [1]\n",
      "Inference completed for the frame.\n",
      "Predicted mask successfully saved at: C:\\Users\\devanish\\Downloads\\Datasets\\UnitTesting\\ureter\\01\\PredictedMask\\00045.png\n",
      "SAM2 inference state and model reset.\n",
      "\n",
      "Processing image 47: 00046.png\n",
      "Image path: C:\\Users\\devanish\\Downloads\\Datasets\\UnitTesting\\ureter\\01\\Frames\\00046.png\n",
      "Mask path: C:\\Users\\devanish\\Downloads\\Datasets\\UnitTesting\\ureter\\01\\Masks\\00046.png\n",
      "Image loaded successfully.\n",
      "Mask loaded successfully.\n",
      "JPEG image successfully saved at: C:\\Users\\devanish\\Downloads\\Datasets\\UnitTesting\\ureter\\01\\JPEG_Frames_46\\00046.jpg\n",
      "Selected prompt coordinate: [589 627]\n"
     ]
    },
    {
     "name": "stderr",
     "output_type": "stream",
     "text": [
      "frame loading (JPEG): 100%|██████████| 1/1 [00:00<00:00, 25.56it/s]\n"
     ]
    },
    {
     "name": "stdout",
     "output_type": "stream",
     "text": [
      "SAM2 inference state initialized.\n",
      "Points: [[627, 589]], Labels: [1]\n",
      "Inference completed for the frame.\n",
      "Predicted mask successfully saved at: C:\\Users\\devanish\\Downloads\\Datasets\\UnitTesting\\ureter\\01\\PredictedMask\\00046.png\n",
      "SAM2 inference state and model reset.\n",
      "\n",
      "Processing image 48: 00047.png\n",
      "Image path: C:\\Users\\devanish\\Downloads\\Datasets\\UnitTesting\\ureter\\01\\Frames\\00047.png\n",
      "Mask path: C:\\Users\\devanish\\Downloads\\Datasets\\UnitTesting\\ureter\\01\\Masks\\00047.png\n",
      "Image loaded successfully.\n",
      "Mask loaded successfully.\n",
      "JPEG image successfully saved at: C:\\Users\\devanish\\Downloads\\Datasets\\UnitTesting\\ureter\\01\\JPEG_Frames_47\\00047.jpg\n",
      "Selected prompt coordinate: [521 666]\n"
     ]
    },
    {
     "name": "stderr",
     "output_type": "stream",
     "text": [
      "frame loading (JPEG): 100%|██████████| 1/1 [00:00<00:00, 23.05it/s]\n"
     ]
    },
    {
     "name": "stdout",
     "output_type": "stream",
     "text": [
      "SAM2 inference state initialized.\n",
      "Points: [[666, 521]], Labels: [1]\n",
      "Inference completed for the frame.\n",
      "Predicted mask successfully saved at: C:\\Users\\devanish\\Downloads\\Datasets\\UnitTesting\\ureter\\01\\PredictedMask\\00047.png\n",
      "SAM2 inference state and model reset.\n",
      "\n",
      "Processing image 49: 00048.png\n",
      "Image path: C:\\Users\\devanish\\Downloads\\Datasets\\UnitTesting\\ureter\\01\\Frames\\00048.png\n",
      "Mask path: C:\\Users\\devanish\\Downloads\\Datasets\\UnitTesting\\ureter\\01\\Masks\\00048.png\n",
      "Image loaded successfully.\n",
      "Mask loaded successfully.\n",
      "JPEG image successfully saved at: C:\\Users\\devanish\\Downloads\\Datasets\\UnitTesting\\ureter\\01\\JPEG_Frames_48\\00048.jpg\n",
      "Selected prompt coordinate: [518 555]\n"
     ]
    },
    {
     "name": "stderr",
     "output_type": "stream",
     "text": [
      "frame loading (JPEG): 100%|██████████| 1/1 [00:00<00:00, 26.16it/s]\n"
     ]
    },
    {
     "name": "stdout",
     "output_type": "stream",
     "text": [
      "SAM2 inference state initialized.\n",
      "Points: [[555, 518]], Labels: [1]\n",
      "Inference completed for the frame.\n",
      "Predicted mask successfully saved at: C:\\Users\\devanish\\Downloads\\Datasets\\UnitTesting\\ureter\\01\\PredictedMask\\00048.png\n",
      "SAM2 inference state and model reset.\n",
      "\n",
      "Processing image 50: 00049.png\n",
      "Image path: C:\\Users\\devanish\\Downloads\\Datasets\\UnitTesting\\ureter\\01\\Frames\\00049.png\n",
      "Mask path: C:\\Users\\devanish\\Downloads\\Datasets\\UnitTesting\\ureter\\01\\Masks\\00049.png\n",
      "Image loaded successfully.\n",
      "Mask loaded successfully.\n",
      "JPEG image successfully saved at: C:\\Users\\devanish\\Downloads\\Datasets\\UnitTesting\\ureter\\01\\JPEG_Frames_49\\00049.jpg\n",
      "Selected prompt coordinate: [547 558]\n"
     ]
    },
    {
     "name": "stderr",
     "output_type": "stream",
     "text": [
      "frame loading (JPEG): 100%|██████████| 1/1 [00:00<00:00, 24.01it/s]\n"
     ]
    },
    {
     "name": "stdout",
     "output_type": "stream",
     "text": [
      "SAM2 inference state initialized.\n",
      "Points: [[558, 547]], Labels: [1]\n",
      "Inference completed for the frame.\n",
      "Predicted mask successfully saved at: C:\\Users\\devanish\\Downloads\\Datasets\\UnitTesting\\ureter\\01\\PredictedMask\\00049.png\n",
      "SAM2 inference state and model reset.\n",
      "\n",
      "Processing image 51: 00050.png\n",
      "Image path: C:\\Users\\devanish\\Downloads\\Datasets\\UnitTesting\\ureter\\01\\Frames\\00050.png\n",
      "Mask path: C:\\Users\\devanish\\Downloads\\Datasets\\UnitTesting\\ureter\\01\\Masks\\00050.png\n",
      "Image loaded successfully.\n",
      "Mask loaded successfully.\n",
      "JPEG image successfully saved at: C:\\Users\\devanish\\Downloads\\Datasets\\UnitTesting\\ureter\\01\\JPEG_Frames_50\\00050.jpg\n",
      "Selected prompt coordinate: [716 211]\n"
     ]
    },
    {
     "name": "stderr",
     "output_type": "stream",
     "text": [
      "frame loading (JPEG): 100%|██████████| 1/1 [00:00<00:00, 22.37it/s]\n"
     ]
    },
    {
     "name": "stdout",
     "output_type": "stream",
     "text": [
      "SAM2 inference state initialized.\n",
      "Points: [[211, 716]], Labels: [1]\n",
      "Inference completed for the frame.\n",
      "Predicted mask successfully saved at: C:\\Users\\devanish\\Downloads\\Datasets\\UnitTesting\\ureter\\01\\PredictedMask\\00050.png\n",
      "SAM2 inference state and model reset.\n",
      "\n",
      "Processing image 52: 00051.png\n",
      "Image path: C:\\Users\\devanish\\Downloads\\Datasets\\UnitTesting\\ureter\\01\\Frames\\00051.png\n",
      "Mask path: C:\\Users\\devanish\\Downloads\\Datasets\\UnitTesting\\ureter\\01\\Masks\\00051.png\n",
      "Image loaded successfully.\n",
      "Mask loaded successfully.\n",
      "JPEG image successfully saved at: C:\\Users\\devanish\\Downloads\\Datasets\\UnitTesting\\ureter\\01\\JPEG_Frames_51\\00051.jpg\n",
      "Selected prompt coordinate: [627 213]\n"
     ]
    },
    {
     "name": "stderr",
     "output_type": "stream",
     "text": [
      "frame loading (JPEG): 100%|██████████| 1/1 [00:00<00:00, 22.02it/s]\n"
     ]
    },
    {
     "name": "stdout",
     "output_type": "stream",
     "text": [
      "SAM2 inference state initialized.\n",
      "Points: [[213, 627]], Labels: [1]\n",
      "Inference completed for the frame.\n",
      "Predicted mask successfully saved at: C:\\Users\\devanish\\Downloads\\Datasets\\UnitTesting\\ureter\\01\\PredictedMask\\00051.png\n",
      "SAM2 inference state and model reset.\n",
      "\n",
      "Processing image 53: 00052.png\n",
      "Image path: C:\\Users\\devanish\\Downloads\\Datasets\\UnitTesting\\ureter\\01\\Frames\\00052.png\n",
      "Mask path: C:\\Users\\devanish\\Downloads\\Datasets\\UnitTesting\\ureter\\01\\Masks\\00052.png\n",
      "Image loaded successfully.\n",
      "Mask loaded successfully.\n",
      "JPEG image successfully saved at: C:\\Users\\devanish\\Downloads\\Datasets\\UnitTesting\\ureter\\01\\JPEG_Frames_52\\00052.jpg\n",
      "Selected prompt coordinate: [816 267]\n"
     ]
    },
    {
     "name": "stderr",
     "output_type": "stream",
     "text": [
      "frame loading (JPEG): 100%|██████████| 1/1 [00:00<00:00, 23.29it/s]\n"
     ]
    },
    {
     "name": "stdout",
     "output_type": "stream",
     "text": [
      "SAM2 inference state initialized.\n",
      "Points: [[267, 816]], Labels: [1]\n",
      "Inference completed for the frame.\n",
      "Predicted mask successfully saved at: C:\\Users\\devanish\\Downloads\\Datasets\\UnitTesting\\ureter\\01\\PredictedMask\\00052.png\n",
      "SAM2 inference state and model reset.\n",
      "\n",
      "Processing image 54: 00053.png\n",
      "Image path: C:\\Users\\devanish\\Downloads\\Datasets\\UnitTesting\\ureter\\01\\Frames\\00053.png\n",
      "Mask path: C:\\Users\\devanish\\Downloads\\Datasets\\UnitTesting\\ureter\\01\\Masks\\00053.png\n",
      "Image loaded successfully.\n",
      "Mask loaded successfully.\n",
      "JPEG image successfully saved at: C:\\Users\\devanish\\Downloads\\Datasets\\UnitTesting\\ureter\\01\\JPEG_Frames_53\\00053.jpg\n",
      "Selected prompt coordinate: [788  93]\n"
     ]
    },
    {
     "name": "stderr",
     "output_type": "stream",
     "text": [
      "frame loading (JPEG): 100%|██████████| 1/1 [00:00<00:00, 25.79it/s]\n"
     ]
    },
    {
     "name": "stdout",
     "output_type": "stream",
     "text": [
      "SAM2 inference state initialized.\n",
      "Points: [[93, 788]], Labels: [1]\n",
      "Inference completed for the frame.\n",
      "Predicted mask successfully saved at: C:\\Users\\devanish\\Downloads\\Datasets\\UnitTesting\\ureter\\01\\PredictedMask\\00053.png\n",
      "SAM2 inference state and model reset.\n",
      "\n",
      "Processing image 55: 00054.png\n",
      "Image path: C:\\Users\\devanish\\Downloads\\Datasets\\UnitTesting\\ureter\\01\\Frames\\00054.png\n",
      "Mask path: C:\\Users\\devanish\\Downloads\\Datasets\\UnitTesting\\ureter\\01\\Masks\\00054.png\n",
      "Image loaded successfully.\n",
      "Mask loaded successfully.\n",
      "JPEG image successfully saved at: C:\\Users\\devanish\\Downloads\\Datasets\\UnitTesting\\ureter\\01\\JPEG_Frames_54\\00054.jpg\n",
      "Selected prompt coordinate: [628 262]\n"
     ]
    },
    {
     "name": "stderr",
     "output_type": "stream",
     "text": [
      "frame loading (JPEG): 100%|██████████| 1/1 [00:00<00:00, 21.80it/s]\n"
     ]
    },
    {
     "name": "stdout",
     "output_type": "stream",
     "text": [
      "SAM2 inference state initialized.\n",
      "Points: [[262, 628]], Labels: [1]\n",
      "Inference completed for the frame.\n",
      "Predicted mask successfully saved at: C:\\Users\\devanish\\Downloads\\Datasets\\UnitTesting\\ureter\\01\\PredictedMask\\00054.png\n",
      "SAM2 inference state and model reset.\n",
      "\n",
      "Processing image 56: 00055.png\n",
      "Image path: C:\\Users\\devanish\\Downloads\\Datasets\\UnitTesting\\ureter\\01\\Frames\\00055.png\n",
      "Mask path: C:\\Users\\devanish\\Downloads\\Datasets\\UnitTesting\\ureter\\01\\Masks\\00055.png\n",
      "Image loaded successfully.\n",
      "Mask loaded successfully.\n",
      "JPEG image successfully saved at: C:\\Users\\devanish\\Downloads\\Datasets\\UnitTesting\\ureter\\01\\JPEG_Frames_55\\00055.jpg\n",
      "Selected prompt coordinate: [745 101]\n"
     ]
    },
    {
     "name": "stderr",
     "output_type": "stream",
     "text": [
      "frame loading (JPEG): 100%|██████████| 1/1 [00:00<00:00, 21.78it/s]\n"
     ]
    },
    {
     "name": "stdout",
     "output_type": "stream",
     "text": [
      "SAM2 inference state initialized.\n",
      "Points: [[101, 745]], Labels: [1]\n",
      "Inference completed for the frame.\n",
      "Predicted mask successfully saved at: C:\\Users\\devanish\\Downloads\\Datasets\\UnitTesting\\ureter\\01\\PredictedMask\\00055.png\n",
      "SAM2 inference state and model reset.\n",
      "\n",
      "Processing image 57: 00056.png\n",
      "Image path: C:\\Users\\devanish\\Downloads\\Datasets\\UnitTesting\\ureter\\01\\Frames\\00056.png\n",
      "Mask path: C:\\Users\\devanish\\Downloads\\Datasets\\UnitTesting\\ureter\\01\\Masks\\00056.png\n",
      "Image loaded successfully.\n",
      "Mask loaded successfully.\n",
      "JPEG image successfully saved at: C:\\Users\\devanish\\Downloads\\Datasets\\UnitTesting\\ureter\\01\\JPEG_Frames_56\\00056.jpg\n",
      "Selected prompt coordinate: [788  35]\n"
     ]
    },
    {
     "name": "stderr",
     "output_type": "stream",
     "text": [
      "frame loading (JPEG): 100%|██████████| 1/1 [00:00<00:00, 18.52it/s]\n"
     ]
    },
    {
     "name": "stdout",
     "output_type": "stream",
     "text": [
      "SAM2 inference state initialized.\n",
      "Points: [[35, 788]], Labels: [1]\n",
      "Inference completed for the frame.\n",
      "Predicted mask successfully saved at: C:\\Users\\devanish\\Downloads\\Datasets\\UnitTesting\\ureter\\01\\PredictedMask\\00056.png\n",
      "SAM2 inference state and model reset.\n",
      "\n",
      "Processing image 58: 00057.png\n",
      "Image path: C:\\Users\\devanish\\Downloads\\Datasets\\UnitTesting\\ureter\\01\\Frames\\00057.png\n",
      "Mask path: C:\\Users\\devanish\\Downloads\\Datasets\\UnitTesting\\ureter\\01\\Masks\\00057.png\n",
      "Image loaded successfully.\n",
      "Mask loaded successfully.\n",
      "JPEG image successfully saved at: C:\\Users\\devanish\\Downloads\\Datasets\\UnitTesting\\ureter\\01\\JPEG_Frames_57\\00057.jpg\n",
      "Selected prompt coordinate: [280 184]\n"
     ]
    },
    {
     "name": "stderr",
     "output_type": "stream",
     "text": [
      "frame loading (JPEG): 100%|██████████| 1/1 [00:00<00:00, 23.93it/s]\n"
     ]
    },
    {
     "name": "stdout",
     "output_type": "stream",
     "text": [
      "SAM2 inference state initialized.\n",
      "Points: [[184, 280]], Labels: [1]\n",
      "Inference completed for the frame.\n",
      "Predicted mask successfully saved at: C:\\Users\\devanish\\Downloads\\Datasets\\UnitTesting\\ureter\\01\\PredictedMask\\00057.png\n",
      "SAM2 inference state and model reset.\n",
      "\n",
      "Processing image 59: 00058.png\n",
      "Image path: C:\\Users\\devanish\\Downloads\\Datasets\\UnitTesting\\ureter\\01\\Frames\\00058.png\n",
      "Mask path: C:\\Users\\devanish\\Downloads\\Datasets\\UnitTesting\\ureter\\01\\Masks\\00058.png\n",
      "Image loaded successfully.\n",
      "Mask loaded successfully.\n",
      "JPEG image successfully saved at: C:\\Users\\devanish\\Downloads\\Datasets\\UnitTesting\\ureter\\01\\JPEG_Frames_58\\00058.jpg\n",
      "Selected prompt coordinate: [490  29]\n"
     ]
    },
    {
     "name": "stderr",
     "output_type": "stream",
     "text": [
      "frame loading (JPEG): 100%|██████████| 1/1 [00:00<00:00, 24.68it/s]\n"
     ]
    },
    {
     "name": "stdout",
     "output_type": "stream",
     "text": [
      "SAM2 inference state initialized.\n",
      "Points: [[29, 490]], Labels: [1]\n",
      "Inference completed for the frame.\n",
      "Predicted mask successfully saved at: C:\\Users\\devanish\\Downloads\\Datasets\\UnitTesting\\ureter\\01\\PredictedMask\\00058.png\n",
      "SAM2 inference state and model reset.\n",
      "\n",
      "Processing image 60: 00059.png\n",
      "Image path: C:\\Users\\devanish\\Downloads\\Datasets\\UnitTesting\\ureter\\01\\Frames\\00059.png\n",
      "Mask path: C:\\Users\\devanish\\Downloads\\Datasets\\UnitTesting\\ureter\\01\\Masks\\00059.png\n",
      "Image loaded successfully.\n",
      "Mask loaded successfully.\n",
      "JPEG image successfully saved at: C:\\Users\\devanish\\Downloads\\Datasets\\UnitTesting\\ureter\\01\\JPEG_Frames_59\\00059.jpg\n",
      "Selected prompt coordinate: [292 339]\n"
     ]
    },
    {
     "name": "stderr",
     "output_type": "stream",
     "text": [
      "frame loading (JPEG): 100%|██████████| 1/1 [00:00<00:00, 18.47it/s]\n"
     ]
    },
    {
     "name": "stdout",
     "output_type": "stream",
     "text": [
      "SAM2 inference state initialized.\n",
      "Points: [[339, 292]], Labels: [1]\n",
      "Inference completed for the frame.\n",
      "Predicted mask successfully saved at: C:\\Users\\devanish\\Downloads\\Datasets\\UnitTesting\\ureter\\01\\PredictedMask\\00059.png\n",
      "SAM2 inference state and model reset.\n",
      "\n",
      "Processing image 61: 00060.png\n",
      "Image path: C:\\Users\\devanish\\Downloads\\Datasets\\UnitTesting\\ureter\\01\\Frames\\00060.png\n",
      "Mask path: C:\\Users\\devanish\\Downloads\\Datasets\\UnitTesting\\ureter\\01\\Masks\\00060.png\n",
      "Image loaded successfully.\n",
      "Mask loaded successfully.\n",
      "JPEG image successfully saved at: C:\\Users\\devanish\\Downloads\\Datasets\\UnitTesting\\ureter\\01\\JPEG_Frames_60\\00060.jpg\n",
      "Selected prompt coordinate: [215 285]\n"
     ]
    },
    {
     "name": "stderr",
     "output_type": "stream",
     "text": [
      "frame loading (JPEG): 100%|██████████| 1/1 [00:00<00:00, 24.07it/s]\n"
     ]
    },
    {
     "name": "stdout",
     "output_type": "stream",
     "text": [
      "SAM2 inference state initialized.\n",
      "Points: [[285, 215]], Labels: [1]\n",
      "Inference completed for the frame.\n",
      "Predicted mask successfully saved at: C:\\Users\\devanish\\Downloads\\Datasets\\UnitTesting\\ureter\\01\\PredictedMask\\00060.png\n",
      "SAM2 inference state and model reset.\n",
      "\n",
      "Processing image 62: 00061.png\n",
      "Image path: C:\\Users\\devanish\\Downloads\\Datasets\\UnitTesting\\ureter\\01\\Frames\\00061.png\n",
      "Mask path: C:\\Users\\devanish\\Downloads\\Datasets\\UnitTesting\\ureter\\01\\Masks\\00061.png\n",
      "Image loaded successfully.\n",
      "Mask loaded successfully.\n",
      "JPEG image successfully saved at: C:\\Users\\devanish\\Downloads\\Datasets\\UnitTesting\\ureter\\01\\JPEG_Frames_61\\00061.jpg\n",
      "Selected prompt coordinate: [246 270]\n"
     ]
    },
    {
     "name": "stderr",
     "output_type": "stream",
     "text": [
      "frame loading (JPEG): 100%|██████████| 1/1 [00:00<00:00, 26.27it/s]\n"
     ]
    },
    {
     "name": "stdout",
     "output_type": "stream",
     "text": [
      "SAM2 inference state initialized.\n",
      "Points: [[270, 246]], Labels: [1]\n",
      "Inference completed for the frame.\n",
      "Predicted mask successfully saved at: C:\\Users\\devanish\\Downloads\\Datasets\\UnitTesting\\ureter\\01\\PredictedMask\\00061.png\n",
      "SAM2 inference state and model reset.\n",
      "\n",
      "Processing image 63: 00062.png\n",
      "Image path: C:\\Users\\devanish\\Downloads\\Datasets\\UnitTesting\\ureter\\01\\Frames\\00062.png\n",
      "Mask path: C:\\Users\\devanish\\Downloads\\Datasets\\UnitTesting\\ureter\\01\\Masks\\00062.png\n",
      "Image loaded successfully.\n",
      "Mask loaded successfully.\n",
      "JPEG image successfully saved at: C:\\Users\\devanish\\Downloads\\Datasets\\UnitTesting\\ureter\\01\\JPEG_Frames_62\\00062.jpg\n",
      "Selected prompt coordinate: [680 410]\n"
     ]
    },
    {
     "name": "stderr",
     "output_type": "stream",
     "text": [
      "frame loading (JPEG): 100%|██████████| 1/1 [00:00<00:00, 24.61it/s]\n"
     ]
    },
    {
     "name": "stdout",
     "output_type": "stream",
     "text": [
      "SAM2 inference state initialized.\n",
      "Points: [[410, 680]], Labels: [1]\n",
      "Inference completed for the frame.\n",
      "Predicted mask successfully saved at: C:\\Users\\devanish\\Downloads\\Datasets\\UnitTesting\\ureter\\01\\PredictedMask\\00062.png\n",
      "SAM2 inference state and model reset.\n",
      "\n",
      "Processing image 64: 00063.png\n",
      "Image path: C:\\Users\\devanish\\Downloads\\Datasets\\UnitTesting\\ureter\\01\\Frames\\00063.png\n",
      "Mask path: C:\\Users\\devanish\\Downloads\\Datasets\\UnitTesting\\ureter\\01\\Masks\\00063.png\n",
      "Image loaded successfully.\n",
      "Mask loaded successfully.\n",
      "JPEG image successfully saved at: C:\\Users\\devanish\\Downloads\\Datasets\\UnitTesting\\ureter\\01\\JPEG_Frames_63\\00063.jpg\n",
      "Selected prompt coordinate: [567 333]\n"
     ]
    },
    {
     "name": "stderr",
     "output_type": "stream",
     "text": [
      "frame loading (JPEG): 100%|██████████| 1/1 [00:00<00:00, 25.31it/s]\n"
     ]
    },
    {
     "name": "stdout",
     "output_type": "stream",
     "text": [
      "SAM2 inference state initialized.\n",
      "Points: [[333, 567]], Labels: [1]\n",
      "Inference completed for the frame.\n",
      "Predicted mask successfully saved at: C:\\Users\\devanish\\Downloads\\Datasets\\UnitTesting\\ureter\\01\\PredictedMask\\00063.png\n",
      "SAM2 inference state and model reset.\n",
      "\n",
      "Processing image 65: 00064.png\n",
      "Image path: C:\\Users\\devanish\\Downloads\\Datasets\\UnitTesting\\ureter\\01\\Frames\\00064.png\n",
      "Mask path: C:\\Users\\devanish\\Downloads\\Datasets\\UnitTesting\\ureter\\01\\Masks\\00064.png\n",
      "Image loaded successfully.\n",
      "Mask loaded successfully.\n",
      "JPEG image successfully saved at: C:\\Users\\devanish\\Downloads\\Datasets\\UnitTesting\\ureter\\01\\JPEG_Frames_64\\00064.jpg\n",
      "Selected prompt coordinate: [757 177]\n"
     ]
    },
    {
     "name": "stderr",
     "output_type": "stream",
     "text": [
      "frame loading (JPEG): 100%|██████████| 1/1 [00:00<00:00, 10.12it/s]\n"
     ]
    },
    {
     "name": "stdout",
     "output_type": "stream",
     "text": [
      "SAM2 inference state initialized.\n",
      "Points: [[177, 757]], Labels: [1]\n",
      "Inference completed for the frame.\n",
      "Predicted mask successfully saved at: C:\\Users\\devanish\\Downloads\\Datasets\\UnitTesting\\ureter\\01\\PredictedMask\\00064.png\n",
      "SAM2 inference state and model reset.\n",
      "\n",
      "Processing image 66: 00065.png\n",
      "Image path: C:\\Users\\devanish\\Downloads\\Datasets\\UnitTesting\\ureter\\01\\Frames\\00065.png\n",
      "Mask path: C:\\Users\\devanish\\Downloads\\Datasets\\UnitTesting\\ureter\\01\\Masks\\00065.png\n",
      "Image loaded successfully.\n",
      "Mask loaded successfully.\n",
      "JPEG image successfully saved at: C:\\Users\\devanish\\Downloads\\Datasets\\UnitTesting\\ureter\\01\\JPEG_Frames_65\\00065.jpg\n",
      "Selected prompt coordinate: [773 220]\n"
     ]
    },
    {
     "name": "stderr",
     "output_type": "stream",
     "text": [
      "frame loading (JPEG): 100%|██████████| 1/1 [00:00<00:00, 25.03it/s]\n"
     ]
    },
    {
     "name": "stdout",
     "output_type": "stream",
     "text": [
      "SAM2 inference state initialized.\n",
      "Points: [[220, 773]], Labels: [1]\n",
      "Inference completed for the frame.\n",
      "Predicted mask successfully saved at: C:\\Users\\devanish\\Downloads\\Datasets\\UnitTesting\\ureter\\01\\PredictedMask\\00065.png\n",
      "SAM2 inference state and model reset.\n",
      "\n",
      "Processing image 67: 00066.png\n",
      "Image path: C:\\Users\\devanish\\Downloads\\Datasets\\UnitTesting\\ureter\\01\\Frames\\00066.png\n",
      "Mask path: C:\\Users\\devanish\\Downloads\\Datasets\\UnitTesting\\ureter\\01\\Masks\\00066.png\n",
      "Image loaded successfully.\n",
      "Mask loaded successfully.\n",
      "JPEG image successfully saved at: C:\\Users\\devanish\\Downloads\\Datasets\\UnitTesting\\ureter\\01\\JPEG_Frames_66\\00066.jpg\n",
      "Selected prompt coordinate: [340 111]\n"
     ]
    },
    {
     "name": "stderr",
     "output_type": "stream",
     "text": [
      "frame loading (JPEG): 100%|██████████| 1/1 [00:00<00:00, 24.27it/s]\n"
     ]
    },
    {
     "name": "stdout",
     "output_type": "stream",
     "text": [
      "SAM2 inference state initialized.\n",
      "Points: [[111, 340]], Labels: [1]\n",
      "Inference completed for the frame.\n",
      "Predicted mask successfully saved at: C:\\Users\\devanish\\Downloads\\Datasets\\UnitTesting\\ureter\\01\\PredictedMask\\00066.png\n",
      "SAM2 inference state and model reset.\n",
      "\n",
      "Processing image 68: 00067.png\n",
      "Image path: C:\\Users\\devanish\\Downloads\\Datasets\\UnitTesting\\ureter\\01\\Frames\\00067.png\n",
      "Mask path: C:\\Users\\devanish\\Downloads\\Datasets\\UnitTesting\\ureter\\01\\Masks\\00067.png\n",
      "Image loaded successfully.\n",
      "Mask loaded successfully.\n",
      "JPEG image successfully saved at: C:\\Users\\devanish\\Downloads\\Datasets\\UnitTesting\\ureter\\01\\JPEG_Frames_67\\00067.jpg\n",
      "Selected prompt coordinate: [282 191]\n"
     ]
    },
    {
     "name": "stderr",
     "output_type": "stream",
     "text": [
      "frame loading (JPEG): 100%|██████████| 1/1 [00:00<00:00, 24.68it/s]\n"
     ]
    },
    {
     "name": "stdout",
     "output_type": "stream",
     "text": [
      "SAM2 inference state initialized.\n",
      "Points: [[191, 282]], Labels: [1]\n",
      "Inference completed for the frame.\n",
      "Predicted mask successfully saved at: C:\\Users\\devanish\\Downloads\\Datasets\\UnitTesting\\ureter\\01\\PredictedMask\\00067.png\n",
      "SAM2 inference state and model reset.\n",
      "\n",
      "Processing image 69: 00068.png\n",
      "Image path: C:\\Users\\devanish\\Downloads\\Datasets\\UnitTesting\\ureter\\01\\Frames\\00068.png\n",
      "Mask path: C:\\Users\\devanish\\Downloads\\Datasets\\UnitTesting\\ureter\\01\\Masks\\00068.png\n",
      "Image loaded successfully.\n",
      "Mask loaded successfully.\n",
      "JPEG image successfully saved at: C:\\Users\\devanish\\Downloads\\Datasets\\UnitTesting\\ureter\\01\\JPEG_Frames_68\\00068.jpg\n",
      "Selected prompt coordinate: [738 412]\n"
     ]
    },
    {
     "name": "stderr",
     "output_type": "stream",
     "text": [
      "frame loading (JPEG): 100%|██████████| 1/1 [00:00<00:00, 26.66it/s]\n"
     ]
    },
    {
     "name": "stdout",
     "output_type": "stream",
     "text": [
      "SAM2 inference state initialized.\n",
      "Points: [[412, 738]], Labels: [1]\n",
      "Inference completed for the frame.\n",
      "Predicted mask successfully saved at: C:\\Users\\devanish\\Downloads\\Datasets\\UnitTesting\\ureter\\01\\PredictedMask\\00068.png\n",
      "SAM2 inference state and model reset.\n",
      "\n",
      "Processing image 70: 00069.png\n",
      "Image path: C:\\Users\\devanish\\Downloads\\Datasets\\UnitTesting\\ureter\\01\\Frames\\00069.png\n",
      "Mask path: C:\\Users\\devanish\\Downloads\\Datasets\\UnitTesting\\ureter\\01\\Masks\\00069.png\n",
      "Image loaded successfully.\n",
      "Mask loaded successfully.\n",
      "JPEG image successfully saved at: C:\\Users\\devanish\\Downloads\\Datasets\\UnitTesting\\ureter\\01\\JPEG_Frames_69\\00069.jpg\n",
      "Selected prompt coordinate: [518 263]\n"
     ]
    },
    {
     "name": "stderr",
     "output_type": "stream",
     "text": [
      "frame loading (JPEG): 100%|██████████| 1/1 [00:00<00:00, 17.90it/s]\n"
     ]
    },
    {
     "name": "stdout",
     "output_type": "stream",
     "text": [
      "SAM2 inference state initialized.\n",
      "Points: [[263, 518]], Labels: [1]\n",
      "Inference completed for the frame.\n",
      "Predicted mask successfully saved at: C:\\Users\\devanish\\Downloads\\Datasets\\UnitTesting\\ureter\\01\\PredictedMask\\00069.png\n",
      "SAM2 inference state and model reset.\n",
      "\n",
      "Processing image 71: 00070.png\n",
      "Image path: C:\\Users\\devanish\\Downloads\\Datasets\\UnitTesting\\ureter\\01\\Frames\\00070.png\n",
      "Mask path: C:\\Users\\devanish\\Downloads\\Datasets\\UnitTesting\\ureter\\01\\Masks\\00070.png\n",
      "Image loaded successfully.\n",
      "Mask loaded successfully.\n",
      "JPEG image successfully saved at: C:\\Users\\devanish\\Downloads\\Datasets\\UnitTesting\\ureter\\01\\JPEG_Frames_70\\00070.jpg\n",
      "Selected prompt coordinate: [612 201]\n"
     ]
    },
    {
     "name": "stderr",
     "output_type": "stream",
     "text": [
      "frame loading (JPEG): 100%|██████████| 1/1 [00:00<00:00, 18.23it/s]\n"
     ]
    },
    {
     "name": "stdout",
     "output_type": "stream",
     "text": [
      "SAM2 inference state initialized.\n",
      "Points: [[201, 612]], Labels: [1]\n",
      "Inference completed for the frame.\n",
      "Predicted mask successfully saved at: C:\\Users\\devanish\\Downloads\\Datasets\\UnitTesting\\ureter\\01\\PredictedMask\\00070.png\n",
      "SAM2 inference state and model reset.\n",
      "\n",
      "Processing image 72: 00071.png\n",
      "Image path: C:\\Users\\devanish\\Downloads\\Datasets\\UnitTesting\\ureter\\01\\Frames\\00071.png\n",
      "Mask path: C:\\Users\\devanish\\Downloads\\Datasets\\UnitTesting\\ureter\\01\\Masks\\00071.png\n",
      "Image loaded successfully.\n",
      "Mask loaded successfully.\n",
      "JPEG image successfully saved at: C:\\Users\\devanish\\Downloads\\Datasets\\UnitTesting\\ureter\\01\\JPEG_Frames_71\\00071.jpg\n",
      "Selected prompt coordinate: [750 135]\n"
     ]
    },
    {
     "name": "stderr",
     "output_type": "stream",
     "text": [
      "frame loading (JPEG): 100%|██████████| 1/1 [00:00<00:00, 26.33it/s]\n"
     ]
    },
    {
     "name": "stdout",
     "output_type": "stream",
     "text": [
      "SAM2 inference state initialized.\n",
      "Points: [[135, 750]], Labels: [1]\n",
      "Inference completed for the frame.\n",
      "Predicted mask successfully saved at: C:\\Users\\devanish\\Downloads\\Datasets\\UnitTesting\\ureter\\01\\PredictedMask\\00071.png\n",
      "SAM2 inference state and model reset.\n",
      "\n",
      "Processing image 73: 00072.png\n",
      "Image path: C:\\Users\\devanish\\Downloads\\Datasets\\UnitTesting\\ureter\\01\\Frames\\00072.png\n",
      "Mask path: C:\\Users\\devanish\\Downloads\\Datasets\\UnitTesting\\ureter\\01\\Masks\\00072.png\n",
      "Image loaded successfully.\n",
      "Mask loaded successfully.\n",
      "JPEG image successfully saved at: C:\\Users\\devanish\\Downloads\\Datasets\\UnitTesting\\ureter\\01\\JPEG_Frames_72\\00072.jpg\n",
      "Selected prompt coordinate: [624 119]\n"
     ]
    },
    {
     "name": "stderr",
     "output_type": "stream",
     "text": [
      "frame loading (JPEG): 100%|██████████| 1/1 [00:00<00:00, 21.72it/s]\n"
     ]
    },
    {
     "name": "stdout",
     "output_type": "stream",
     "text": [
      "SAM2 inference state initialized.\n",
      "Points: [[119, 624]], Labels: [1]\n",
      "Inference completed for the frame.\n",
      "Predicted mask successfully saved at: C:\\Users\\devanish\\Downloads\\Datasets\\UnitTesting\\ureter\\01\\PredictedMask\\00072.png\n",
      "SAM2 inference state and model reset.\n",
      "\n",
      "Processing image 74: 00073.png\n",
      "Image path: C:\\Users\\devanish\\Downloads\\Datasets\\UnitTesting\\ureter\\01\\Frames\\00073.png\n",
      "Mask path: C:\\Users\\devanish\\Downloads\\Datasets\\UnitTesting\\ureter\\01\\Masks\\00073.png\n",
      "Image loaded successfully.\n",
      "Mask loaded successfully.\n",
      "JPEG image successfully saved at: C:\\Users\\devanish\\Downloads\\Datasets\\UnitTesting\\ureter\\01\\JPEG_Frames_73\\00073.jpg\n",
      "Selected prompt coordinate: [501 187]\n"
     ]
    },
    {
     "name": "stderr",
     "output_type": "stream",
     "text": [
      "frame loading (JPEG): 100%|██████████| 1/1 [00:00<00:00, 26.13it/s]\n"
     ]
    },
    {
     "name": "stdout",
     "output_type": "stream",
     "text": [
      "SAM2 inference state initialized.\n",
      "Points: [[187, 501]], Labels: [1]\n",
      "Inference completed for the frame.\n",
      "Predicted mask successfully saved at: C:\\Users\\devanish\\Downloads\\Datasets\\UnitTesting\\ureter\\01\\PredictedMask\\00073.png\n",
      "SAM2 inference state and model reset.\n",
      "\n",
      "Processing image 75: 00074.png\n",
      "Image path: C:\\Users\\devanish\\Downloads\\Datasets\\UnitTesting\\ureter\\01\\Frames\\00074.png\n",
      "Mask path: C:\\Users\\devanish\\Downloads\\Datasets\\UnitTesting\\ureter\\01\\Masks\\00074.png\n",
      "Image loaded successfully.\n",
      "Mask loaded successfully.\n",
      "JPEG image successfully saved at: C:\\Users\\devanish\\Downloads\\Datasets\\UnitTesting\\ureter\\01\\JPEG_Frames_74\\00074.jpg\n",
      "Selected prompt coordinate: [502 137]\n"
     ]
    },
    {
     "name": "stderr",
     "output_type": "stream",
     "text": [
      "frame loading (JPEG): 100%|██████████| 1/1 [00:00<00:00, 25.42it/s]\n"
     ]
    },
    {
     "name": "stdout",
     "output_type": "stream",
     "text": [
      "SAM2 inference state initialized.\n",
      "Points: [[137, 502]], Labels: [1]\n",
      "Inference completed for the frame.\n",
      "Predicted mask successfully saved at: C:\\Users\\devanish\\Downloads\\Datasets\\UnitTesting\\ureter\\01\\PredictedMask\\00074.png\n",
      "SAM2 inference state and model reset.\n",
      "\n",
      "Processing image 76: 00075.png\n",
      "Image path: C:\\Users\\devanish\\Downloads\\Datasets\\UnitTesting\\ureter\\01\\Frames\\00075.png\n",
      "Mask path: C:\\Users\\devanish\\Downloads\\Datasets\\UnitTesting\\ureter\\01\\Masks\\00075.png\n",
      "Image loaded successfully.\n",
      "Mask loaded successfully.\n",
      "JPEG image successfully saved at: C:\\Users\\devanish\\Downloads\\Datasets\\UnitTesting\\ureter\\01\\JPEG_Frames_75\\00075.jpg\n",
      "Selected prompt coordinate: [518 181]\n"
     ]
    },
    {
     "name": "stderr",
     "output_type": "stream",
     "text": [
      "frame loading (JPEG): 100%|██████████| 1/1 [00:00<00:00, 25.85it/s]\n"
     ]
    },
    {
     "name": "stdout",
     "output_type": "stream",
     "text": [
      "SAM2 inference state initialized.\n",
      "Points: [[181, 518]], Labels: [1]\n",
      "Inference completed for the frame.\n",
      "Predicted mask successfully saved at: C:\\Users\\devanish\\Downloads\\Datasets\\UnitTesting\\ureter\\01\\PredictedMask\\00075.png\n",
      "SAM2 inference state and model reset.\n",
      "\n",
      "Processing image 77: 00076.png\n",
      "Image path: C:\\Users\\devanish\\Downloads\\Datasets\\UnitTesting\\ureter\\01\\Frames\\00076.png\n",
      "Mask path: C:\\Users\\devanish\\Downloads\\Datasets\\UnitTesting\\ureter\\01\\Masks\\00076.png\n",
      "Image loaded successfully.\n",
      "Mask loaded successfully.\n",
      "JPEG image successfully saved at: C:\\Users\\devanish\\Downloads\\Datasets\\UnitTesting\\ureter\\01\\JPEG_Frames_76\\00076.jpg\n",
      "Selected prompt coordinate: [424 259]\n"
     ]
    },
    {
     "name": "stderr",
     "output_type": "stream",
     "text": [
      "frame loading (JPEG): 100%|██████████| 1/1 [00:00<00:00, 23.65it/s]\n"
     ]
    },
    {
     "name": "stdout",
     "output_type": "stream",
     "text": [
      "SAM2 inference state initialized.\n",
      "Points: [[259, 424]], Labels: [1]\n",
      "Inference completed for the frame.\n",
      "Predicted mask successfully saved at: C:\\Users\\devanish\\Downloads\\Datasets\\UnitTesting\\ureter\\01\\PredictedMask\\00076.png\n",
      "SAM2 inference state and model reset.\n",
      "\n",
      "Processing image 78: 00077.png\n",
      "Image path: C:\\Users\\devanish\\Downloads\\Datasets\\UnitTesting\\ureter\\01\\Frames\\00077.png\n",
      "Mask path: C:\\Users\\devanish\\Downloads\\Datasets\\UnitTesting\\ureter\\01\\Masks\\00077.png\n",
      "Image loaded successfully.\n",
      "Mask loaded successfully.\n",
      "JPEG image successfully saved at: C:\\Users\\devanish\\Downloads\\Datasets\\UnitTesting\\ureter\\01\\JPEG_Frames_77\\00077.jpg\n",
      "Selected prompt coordinate: [409 286]\n"
     ]
    },
    {
     "name": "stderr",
     "output_type": "stream",
     "text": [
      "frame loading (JPEG): 100%|██████████| 1/1 [00:00<00:00, 23.25it/s]\n"
     ]
    },
    {
     "name": "stdout",
     "output_type": "stream",
     "text": [
      "SAM2 inference state initialized.\n",
      "Points: [[286, 409]], Labels: [1]\n",
      "Inference completed for the frame.\n",
      "Predicted mask successfully saved at: C:\\Users\\devanish\\Downloads\\Datasets\\UnitTesting\\ureter\\01\\PredictedMask\\00077.png\n",
      "SAM2 inference state and model reset.\n",
      "\n",
      "Processing image 79: 00078.png\n",
      "Image path: C:\\Users\\devanish\\Downloads\\Datasets\\UnitTesting\\ureter\\01\\Frames\\00078.png\n",
      "Mask path: C:\\Users\\devanish\\Downloads\\Datasets\\UnitTesting\\ureter\\01\\Masks\\00078.png\n",
      "Image loaded successfully.\n",
      "Mask loaded successfully.\n",
      "JPEG image successfully saved at: C:\\Users\\devanish\\Downloads\\Datasets\\UnitTesting\\ureter\\01\\JPEG_Frames_78\\00078.jpg\n",
      "Selected prompt coordinate: [364 297]\n"
     ]
    },
    {
     "name": "stderr",
     "output_type": "stream",
     "text": [
      "frame loading (JPEG): 100%|██████████| 1/1 [00:00<00:00, 23.95it/s]\n"
     ]
    },
    {
     "name": "stdout",
     "output_type": "stream",
     "text": [
      "SAM2 inference state initialized.\n",
      "Points: [[297, 364]], Labels: [1]\n",
      "Inference completed for the frame.\n",
      "Predicted mask successfully saved at: C:\\Users\\devanish\\Downloads\\Datasets\\UnitTesting\\ureter\\01\\PredictedMask\\00078.png\n",
      "SAM2 inference state and model reset.\n",
      "\n",
      "Processing image 80: 00079.png\n",
      "Image path: C:\\Users\\devanish\\Downloads\\Datasets\\UnitTesting\\ureter\\01\\Frames\\00079.png\n",
      "Mask path: C:\\Users\\devanish\\Downloads\\Datasets\\UnitTesting\\ureter\\01\\Masks\\00079.png\n",
      "Image loaded successfully.\n",
      "Mask loaded successfully.\n",
      "JPEG image successfully saved at: C:\\Users\\devanish\\Downloads\\Datasets\\UnitTesting\\ureter\\01\\JPEG_Frames_79\\00079.jpg\n",
      "Selected prompt coordinate: [694 131]\n"
     ]
    },
    {
     "name": "stderr",
     "output_type": "stream",
     "text": [
      "frame loading (JPEG): 100%|██████████| 1/1 [00:00<00:00, 10.19it/s]\n"
     ]
    },
    {
     "name": "stdout",
     "output_type": "stream",
     "text": [
      "SAM2 inference state initialized.\n",
      "Points: [[131, 694]], Labels: [1]\n",
      "Inference completed for the frame.\n",
      "Predicted mask successfully saved at: C:\\Users\\devanish\\Downloads\\Datasets\\UnitTesting\\ureter\\01\\PredictedMask\\00079.png\n",
      "SAM2 inference state and model reset.\n",
      "\n",
      "Processing image 81: 00080.png\n",
      "Image path: C:\\Users\\devanish\\Downloads\\Datasets\\UnitTesting\\ureter\\01\\Frames\\00080.png\n",
      "Mask path: C:\\Users\\devanish\\Downloads\\Datasets\\UnitTesting\\ureter\\01\\Masks\\00080.png\n",
      "Image loaded successfully.\n",
      "Mask loaded successfully.\n",
      "JPEG image successfully saved at: C:\\Users\\devanish\\Downloads\\Datasets\\UnitTesting\\ureter\\01\\JPEG_Frames_80\\00080.jpg\n",
      "Selected prompt coordinate: [500 260]\n"
     ]
    },
    {
     "name": "stderr",
     "output_type": "stream",
     "text": [
      "frame loading (JPEG): 100%|██████████| 1/1 [00:00<00:00, 21.11it/s]\n"
     ]
    },
    {
     "name": "stdout",
     "output_type": "stream",
     "text": [
      "SAM2 inference state initialized.\n",
      "Points: [[260, 500]], Labels: [1]\n",
      "Inference completed for the frame.\n",
      "Predicted mask successfully saved at: C:\\Users\\devanish\\Downloads\\Datasets\\UnitTesting\\ureter\\01\\PredictedMask\\00080.png\n",
      "SAM2 inference state and model reset.\n",
      "\n",
      "Processing image 82: 00081.png\n",
      "Image path: C:\\Users\\devanish\\Downloads\\Datasets\\UnitTesting\\ureter\\01\\Frames\\00081.png\n",
      "Mask path: C:\\Users\\devanish\\Downloads\\Datasets\\UnitTesting\\ureter\\01\\Masks\\00081.png\n",
      "Image loaded successfully.\n",
      "Mask loaded successfully.\n",
      "JPEG image successfully saved at: C:\\Users\\devanish\\Downloads\\Datasets\\UnitTesting\\ureter\\01\\JPEG_Frames_81\\00081.jpg\n",
      "Selected prompt coordinate: [295  50]\n"
     ]
    },
    {
     "name": "stderr",
     "output_type": "stream",
     "text": [
      "frame loading (JPEG): 100%|██████████| 1/1 [00:00<00:00, 26.17it/s]\n"
     ]
    },
    {
     "name": "stdout",
     "output_type": "stream",
     "text": [
      "SAM2 inference state initialized.\n",
      "Points: [[50, 295]], Labels: [1]\n",
      "Inference completed for the frame.\n",
      "Predicted mask successfully saved at: C:\\Users\\devanish\\Downloads\\Datasets\\UnitTesting\\ureter\\01\\PredictedMask\\00081.png\n",
      "SAM2 inference state and model reset.\n",
      "\n",
      "Processing image 83: 00082.png\n",
      "Image path: C:\\Users\\devanish\\Downloads\\Datasets\\UnitTesting\\ureter\\01\\Frames\\00082.png\n",
      "Mask path: C:\\Users\\devanish\\Downloads\\Datasets\\UnitTesting\\ureter\\01\\Masks\\00082.png\n",
      "Image loaded successfully.\n",
      "Mask loaded successfully.\n",
      "JPEG image successfully saved at: C:\\Users\\devanish\\Downloads\\Datasets\\UnitTesting\\ureter\\01\\JPEG_Frames_82\\00082.jpg\n",
      "Selected prompt coordinate: [690  97]\n"
     ]
    },
    {
     "name": "stderr",
     "output_type": "stream",
     "text": [
      "frame loading (JPEG): 100%|██████████| 1/1 [00:00<00:00, 26.48it/s]\n"
     ]
    },
    {
     "name": "stdout",
     "output_type": "stream",
     "text": [
      "SAM2 inference state initialized.\n",
      "Points: [[97, 690]], Labels: [1]\n",
      "Inference completed for the frame.\n",
      "Predicted mask successfully saved at: C:\\Users\\devanish\\Downloads\\Datasets\\UnitTesting\\ureter\\01\\PredictedMask\\00082.png\n",
      "SAM2 inference state and model reset.\n",
      "Inference complete for all images in the organ: ureter\n",
      "\n",
      "Processing organ: vesicular_glands in subfolder: 03\n",
      "Predicted masks folder created at: C:\\Users\\devanish\\Downloads\\Datasets\\UnitTesting\\vesicular_glands\\03\\PredictedMask\n",
      "\n",
      "Processing image 1: 00000.png\n",
      "Image path: C:\\Users\\devanish\\Downloads\\Datasets\\UnitTesting\\vesicular_glands\\03\\Frames\\00000.png\n",
      "Mask path: C:\\Users\\devanish\\Downloads\\Datasets\\UnitTesting\\vesicular_glands\\03\\Masks\\00000.png\n",
      "Image loaded successfully.\n",
      "Mask loaded successfully.\n",
      "JPEG image successfully saved at: C:\\Users\\devanish\\Downloads\\Datasets\\UnitTesting\\vesicular_glands\\03\\JPEG_Frames_0\\00000.jpg\n",
      "Selected prompt coordinate: [164 724]\n"
     ]
    },
    {
     "name": "stderr",
     "output_type": "stream",
     "text": [
      "frame loading (JPEG): 100%|██████████| 1/1 [00:00<00:00, 22.81it/s]\n"
     ]
    },
    {
     "name": "stdout",
     "output_type": "stream",
     "text": [
      "SAM2 inference state initialized.\n",
      "Points: [[724, 164]], Labels: [1]\n",
      "Inference completed for the frame.\n",
      "Predicted mask successfully saved at: C:\\Users\\devanish\\Downloads\\Datasets\\UnitTesting\\vesicular_glands\\03\\PredictedMask\\00000.png\n",
      "SAM2 inference state and model reset.\n",
      "\n",
      "Processing image 2: 00001.png\n",
      "Image path: C:\\Users\\devanish\\Downloads\\Datasets\\UnitTesting\\vesicular_glands\\03\\Frames\\00001.png\n",
      "Mask path: C:\\Users\\devanish\\Downloads\\Datasets\\UnitTesting\\vesicular_glands\\03\\Masks\\00001.png\n",
      "Image loaded successfully.\n",
      "Mask loaded successfully.\n",
      "JPEG image successfully saved at: C:\\Users\\devanish\\Downloads\\Datasets\\UnitTesting\\vesicular_glands\\03\\JPEG_Frames_1\\00001.jpg\n",
      "Selected prompt coordinate: [239 674]\n"
     ]
    },
    {
     "name": "stderr",
     "output_type": "stream",
     "text": [
      "frame loading (JPEG): 100%|██████████| 1/1 [00:00<00:00, 31.52it/s]\n"
     ]
    },
    {
     "name": "stdout",
     "output_type": "stream",
     "text": [
      "SAM2 inference state initialized.\n",
      "Points: [[674, 239]], Labels: [1]\n",
      "Inference completed for the frame.\n",
      "Predicted mask successfully saved at: C:\\Users\\devanish\\Downloads\\Datasets\\UnitTesting\\vesicular_glands\\03\\PredictedMask\\00001.png\n",
      "SAM2 inference state and model reset.\n",
      "\n",
      "Processing image 3: 00002.png\n",
      "Image path: C:\\Users\\devanish\\Downloads\\Datasets\\UnitTesting\\vesicular_glands\\03\\Frames\\00002.png\n",
      "Mask path: C:\\Users\\devanish\\Downloads\\Datasets\\UnitTesting\\vesicular_glands\\03\\Masks\\00002.png\n",
      "Image loaded successfully.\n",
      "Mask loaded successfully.\n",
      "JPEG image successfully saved at: C:\\Users\\devanish\\Downloads\\Datasets\\UnitTesting\\vesicular_glands\\03\\JPEG_Frames_2\\00002.jpg\n",
      "Selected prompt coordinate: [270 579]\n"
     ]
    },
    {
     "name": "stderr",
     "output_type": "stream",
     "text": [
      "frame loading (JPEG): 100%|██████████| 1/1 [00:00<00:00, 27.74it/s]\n"
     ]
    },
    {
     "name": "stdout",
     "output_type": "stream",
     "text": [
      "SAM2 inference state initialized.\n",
      "Points: [[579, 270]], Labels: [1]\n",
      "Inference completed for the frame.\n",
      "Predicted mask successfully saved at: C:\\Users\\devanish\\Downloads\\Datasets\\UnitTesting\\vesicular_glands\\03\\PredictedMask\\00002.png\n",
      "SAM2 inference state and model reset.\n",
      "\n",
      "Processing image 4: 00003.png\n",
      "Image path: C:\\Users\\devanish\\Downloads\\Datasets\\UnitTesting\\vesicular_glands\\03\\Frames\\00003.png\n",
      "Mask path: C:\\Users\\devanish\\Downloads\\Datasets\\UnitTesting\\vesicular_glands\\03\\Masks\\00003.png\n",
      "Image loaded successfully.\n",
      "Mask loaded successfully.\n",
      "JPEG image successfully saved at: C:\\Users\\devanish\\Downloads\\Datasets\\UnitTesting\\vesicular_glands\\03\\JPEG_Frames_3\\00003.jpg\n",
      "Selected prompt coordinate: [316 775]\n"
     ]
    },
    {
     "name": "stderr",
     "output_type": "stream",
     "text": [
      "frame loading (JPEG): 100%|██████████| 1/1 [00:00<00:00, 26.21it/s]\n"
     ]
    },
    {
     "name": "stdout",
     "output_type": "stream",
     "text": [
      "SAM2 inference state initialized.\n",
      "Points: [[775, 316]], Labels: [1]\n",
      "Inference completed for the frame.\n",
      "Predicted mask successfully saved at: C:\\Users\\devanish\\Downloads\\Datasets\\UnitTesting\\vesicular_glands\\03\\PredictedMask\\00003.png\n",
      "SAM2 inference state and model reset.\n",
      "\n",
      "Processing image 5: 00004.png\n",
      "Image path: C:\\Users\\devanish\\Downloads\\Datasets\\UnitTesting\\vesicular_glands\\03\\Frames\\00004.png\n",
      "Mask path: C:\\Users\\devanish\\Downloads\\Datasets\\UnitTesting\\vesicular_glands\\03\\Masks\\00004.png\n",
      "Image loaded successfully.\n",
      "Mask loaded successfully.\n",
      "JPEG image successfully saved at: C:\\Users\\devanish\\Downloads\\Datasets\\UnitTesting\\vesicular_glands\\03\\JPEG_Frames_4\\00004.jpg\n",
      "Selected prompt coordinate: [372 691]\n"
     ]
    },
    {
     "name": "stderr",
     "output_type": "stream",
     "text": [
      "frame loading (JPEG): 100%|██████████| 1/1 [00:00<00:00, 25.37it/s]\n"
     ]
    },
    {
     "name": "stdout",
     "output_type": "stream",
     "text": [
      "SAM2 inference state initialized.\n",
      "Points: [[691, 372]], Labels: [1]\n",
      "Inference completed for the frame.\n",
      "Predicted mask successfully saved at: C:\\Users\\devanish\\Downloads\\Datasets\\UnitTesting\\vesicular_glands\\03\\PredictedMask\\00004.png\n",
      "SAM2 inference state and model reset.\n",
      "\n",
      "Processing image 6: 00005.png\n",
      "Image path: C:\\Users\\devanish\\Downloads\\Datasets\\UnitTesting\\vesicular_glands\\03\\Frames\\00005.png\n",
      "Mask path: C:\\Users\\devanish\\Downloads\\Datasets\\UnitTesting\\vesicular_glands\\03\\Masks\\00005.png\n",
      "Image loaded successfully.\n",
      "Mask loaded successfully.\n",
      "JPEG image successfully saved at: C:\\Users\\devanish\\Downloads\\Datasets\\UnitTesting\\vesicular_glands\\03\\JPEG_Frames_5\\00005.jpg\n",
      "Selected prompt coordinate: [275 466]\n"
     ]
    },
    {
     "name": "stderr",
     "output_type": "stream",
     "text": [
      "frame loading (JPEG): 100%|██████████| 1/1 [00:00<00:00, 22.17it/s]\n"
     ]
    },
    {
     "name": "stdout",
     "output_type": "stream",
     "text": [
      "SAM2 inference state initialized.\n",
      "Points: [[466, 275]], Labels: [1]\n",
      "Inference completed for the frame.\n",
      "Predicted mask successfully saved at: C:\\Users\\devanish\\Downloads\\Datasets\\UnitTesting\\vesicular_glands\\03\\PredictedMask\\00005.png\n",
      "SAM2 inference state and model reset.\n",
      "\n",
      "Processing image 7: 00006.png\n",
      "Image path: C:\\Users\\devanish\\Downloads\\Datasets\\UnitTesting\\vesicular_glands\\03\\Frames\\00006.png\n",
      "Mask path: C:\\Users\\devanish\\Downloads\\Datasets\\UnitTesting\\vesicular_glands\\03\\Masks\\00006.png\n",
      "Image loaded successfully.\n",
      "Mask loaded successfully.\n",
      "JPEG image successfully saved at: C:\\Users\\devanish\\Downloads\\Datasets\\UnitTesting\\vesicular_glands\\03\\JPEG_Frames_6\\00006.jpg\n",
      "Selected prompt coordinate: [446 436]\n"
     ]
    },
    {
     "name": "stderr",
     "output_type": "stream",
     "text": [
      "frame loading (JPEG): 100%|██████████| 1/1 [00:00<00:00, 23.93it/s]\n"
     ]
    },
    {
     "name": "stdout",
     "output_type": "stream",
     "text": [
      "SAM2 inference state initialized.\n",
      "Points: [[436, 446]], Labels: [1]\n",
      "Inference completed for the frame.\n",
      "Predicted mask successfully saved at: C:\\Users\\devanish\\Downloads\\Datasets\\UnitTesting\\vesicular_glands\\03\\PredictedMask\\00006.png\n",
      "SAM2 inference state and model reset.\n",
      "\n",
      "Processing image 8: 00007.png\n",
      "Image path: C:\\Users\\devanish\\Downloads\\Datasets\\UnitTesting\\vesicular_glands\\03\\Frames\\00007.png\n",
      "Mask path: C:\\Users\\devanish\\Downloads\\Datasets\\UnitTesting\\vesicular_glands\\03\\Masks\\00007.png\n",
      "Image loaded successfully.\n",
      "Mask loaded successfully.\n",
      "JPEG image successfully saved at: C:\\Users\\devanish\\Downloads\\Datasets\\UnitTesting\\vesicular_glands\\03\\JPEG_Frames_7\\00007.jpg\n",
      "Selected prompt coordinate: [298 558]\n"
     ]
    },
    {
     "name": "stderr",
     "output_type": "stream",
     "text": [
      "frame loading (JPEG): 100%|██████████| 1/1 [00:00<00:00, 24.32it/s]\n"
     ]
    },
    {
     "name": "stdout",
     "output_type": "stream",
     "text": [
      "SAM2 inference state initialized.\n",
      "Points: [[558, 298]], Labels: [1]\n",
      "Inference completed for the frame.\n",
      "Predicted mask successfully saved at: C:\\Users\\devanish\\Downloads\\Datasets\\UnitTesting\\vesicular_glands\\03\\PredictedMask\\00007.png\n",
      "SAM2 inference state and model reset.\n",
      "\n",
      "Processing image 9: 00008.png\n",
      "Image path: C:\\Users\\devanish\\Downloads\\Datasets\\UnitTesting\\vesicular_glands\\03\\Frames\\00008.png\n",
      "Mask path: C:\\Users\\devanish\\Downloads\\Datasets\\UnitTesting\\vesicular_glands\\03\\Masks\\00008.png\n",
      "Image loaded successfully.\n",
      "Mask loaded successfully.\n",
      "JPEG image successfully saved at: C:\\Users\\devanish\\Downloads\\Datasets\\UnitTesting\\vesicular_glands\\03\\JPEG_Frames_8\\00008.jpg\n",
      "Selected prompt coordinate: [160 399]\n"
     ]
    },
    {
     "name": "stderr",
     "output_type": "stream",
     "text": [
      "frame loading (JPEG): 100%|██████████| 1/1 [00:00<00:00, 22.58it/s]\n"
     ]
    },
    {
     "name": "stdout",
     "output_type": "stream",
     "text": [
      "SAM2 inference state initialized.\n",
      "Points: [[399, 160]], Labels: [1]\n",
      "Inference completed for the frame.\n",
      "Predicted mask successfully saved at: C:\\Users\\devanish\\Downloads\\Datasets\\UnitTesting\\vesicular_glands\\03\\PredictedMask\\00008.png\n",
      "SAM2 inference state and model reset.\n",
      "\n",
      "Processing image 10: 00009.png\n",
      "Image path: C:\\Users\\devanish\\Downloads\\Datasets\\UnitTesting\\vesicular_glands\\03\\Frames\\00009.png\n",
      "Mask path: C:\\Users\\devanish\\Downloads\\Datasets\\UnitTesting\\vesicular_glands\\03\\Masks\\00009.png\n",
      "Image loaded successfully.\n",
      "Mask loaded successfully.\n",
      "JPEG image successfully saved at: C:\\Users\\devanish\\Downloads\\Datasets\\UnitTesting\\vesicular_glands\\03\\JPEG_Frames_9\\00009.jpg\n",
      "Selected prompt coordinate: [379 535]\n"
     ]
    },
    {
     "name": "stderr",
     "output_type": "stream",
     "text": [
      "frame loading (JPEG): 100%|██████████| 1/1 [00:00<00:00, 25.00it/s]\n"
     ]
    },
    {
     "name": "stdout",
     "output_type": "stream",
     "text": [
      "SAM2 inference state initialized.\n",
      "Points: [[535, 379]], Labels: [1]\n",
      "Inference completed for the frame.\n",
      "Predicted mask successfully saved at: C:\\Users\\devanish\\Downloads\\Datasets\\UnitTesting\\vesicular_glands\\03\\PredictedMask\\00009.png\n",
      "SAM2 inference state and model reset.\n",
      "\n",
      "Processing image 11: 00010.png\n",
      "Image path: C:\\Users\\devanish\\Downloads\\Datasets\\UnitTesting\\vesicular_glands\\03\\Frames\\00010.png\n",
      "Mask path: C:\\Users\\devanish\\Downloads\\Datasets\\UnitTesting\\vesicular_glands\\03\\Masks\\00010.png\n",
      "Image loaded successfully.\n",
      "Mask loaded successfully.\n",
      "JPEG image successfully saved at: C:\\Users\\devanish\\Downloads\\Datasets\\UnitTesting\\vesicular_glands\\03\\JPEG_Frames_10\\00010.jpg\n",
      "Selected prompt coordinate: [274 386]\n"
     ]
    },
    {
     "name": "stderr",
     "output_type": "stream",
     "text": [
      "frame loading (JPEG): 100%|██████████| 1/1 [00:00<00:00, 25.13it/s]\n"
     ]
    },
    {
     "name": "stdout",
     "output_type": "stream",
     "text": [
      "SAM2 inference state initialized.\n",
      "Points: [[386, 274]], Labels: [1]\n",
      "Inference completed for the frame.\n",
      "Predicted mask successfully saved at: C:\\Users\\devanish\\Downloads\\Datasets\\UnitTesting\\vesicular_glands\\03\\PredictedMask\\00010.png\n",
      "SAM2 inference state and model reset.\n",
      "\n",
      "Processing image 12: 00011.png\n",
      "Image path: C:\\Users\\devanish\\Downloads\\Datasets\\UnitTesting\\vesicular_glands\\03\\Frames\\00011.png\n",
      "Mask path: C:\\Users\\devanish\\Downloads\\Datasets\\UnitTesting\\vesicular_glands\\03\\Masks\\00011.png\n",
      "Image loaded successfully.\n",
      "Mask loaded successfully.\n",
      "JPEG image successfully saved at: C:\\Users\\devanish\\Downloads\\Datasets\\UnitTesting\\vesicular_glands\\03\\JPEG_Frames_11\\00011.jpg\n",
      "Selected prompt coordinate: [412 273]\n"
     ]
    },
    {
     "name": "stderr",
     "output_type": "stream",
     "text": [
      "frame loading (JPEG): 100%|██████████| 1/1 [00:00<00:00, 25.13it/s]\n"
     ]
    },
    {
     "name": "stdout",
     "output_type": "stream",
     "text": [
      "SAM2 inference state initialized.\n",
      "Points: [[273, 412]], Labels: [1]\n",
      "Inference completed for the frame.\n",
      "Predicted mask successfully saved at: C:\\Users\\devanish\\Downloads\\Datasets\\UnitTesting\\vesicular_glands\\03\\PredictedMask\\00011.png\n",
      "SAM2 inference state and model reset.\n",
      "\n",
      "Processing image 13: 00012.png\n",
      "Image path: C:\\Users\\devanish\\Downloads\\Datasets\\UnitTesting\\vesicular_glands\\03\\Frames\\00012.png\n",
      "Mask path: C:\\Users\\devanish\\Downloads\\Datasets\\UnitTesting\\vesicular_glands\\03\\Masks\\00012.png\n",
      "Image loaded successfully.\n",
      "Mask loaded successfully.\n",
      "JPEG image successfully saved at: C:\\Users\\devanish\\Downloads\\Datasets\\UnitTesting\\vesicular_glands\\03\\JPEG_Frames_12\\00012.jpg\n",
      "Selected prompt coordinate: [338 336]\n"
     ]
    },
    {
     "name": "stderr",
     "output_type": "stream",
     "text": [
      "frame loading (JPEG): 100%|██████████| 1/1 [00:00<00:00, 15.94it/s]\n"
     ]
    },
    {
     "name": "stdout",
     "output_type": "stream",
     "text": [
      "SAM2 inference state initialized.\n",
      "Points: [[336, 338]], Labels: [1]\n",
      "Inference completed for the frame.\n",
      "Predicted mask successfully saved at: C:\\Users\\devanish\\Downloads\\Datasets\\UnitTesting\\vesicular_glands\\03\\PredictedMask\\00012.png\n",
      "SAM2 inference state and model reset.\n",
      "\n",
      "Processing image 14: 00013.png\n",
      "Image path: C:\\Users\\devanish\\Downloads\\Datasets\\UnitTesting\\vesicular_glands\\03\\Frames\\00013.png\n",
      "Mask path: C:\\Users\\devanish\\Downloads\\Datasets\\UnitTesting\\vesicular_glands\\03\\Masks\\00013.png\n",
      "Image loaded successfully.\n",
      "Mask loaded successfully.\n",
      "JPEG image successfully saved at: C:\\Users\\devanish\\Downloads\\Datasets\\UnitTesting\\vesicular_glands\\03\\JPEG_Frames_13\\00013.jpg\n",
      "Selected prompt coordinate: [396 239]\n"
     ]
    },
    {
     "name": "stderr",
     "output_type": "stream",
     "text": [
      "frame loading (JPEG): 100%|██████████| 1/1 [00:00<00:00, 23.57it/s]\n"
     ]
    },
    {
     "name": "stdout",
     "output_type": "stream",
     "text": [
      "SAM2 inference state initialized.\n",
      "Points: [[239, 396]], Labels: [1]\n",
      "Inference completed for the frame.\n",
      "Predicted mask successfully saved at: C:\\Users\\devanish\\Downloads\\Datasets\\UnitTesting\\vesicular_glands\\03\\PredictedMask\\00013.png\n",
      "SAM2 inference state and model reset.\n",
      "\n",
      "Processing image 15: 00014.png\n",
      "Image path: C:\\Users\\devanish\\Downloads\\Datasets\\UnitTesting\\vesicular_glands\\03\\Frames\\00014.png\n",
      "Mask path: C:\\Users\\devanish\\Downloads\\Datasets\\UnitTesting\\vesicular_glands\\03\\Masks\\00014.png\n",
      "Image loaded successfully.\n",
      "Mask loaded successfully.\n",
      "JPEG image successfully saved at: C:\\Users\\devanish\\Downloads\\Datasets\\UnitTesting\\vesicular_glands\\03\\JPEG_Frames_14\\00014.jpg\n",
      "Selected prompt coordinate: [114 653]\n"
     ]
    },
    {
     "name": "stderr",
     "output_type": "stream",
     "text": [
      "frame loading (JPEG): 100%|██████████| 1/1 [00:00<00:00, 23.01it/s]\n"
     ]
    },
    {
     "name": "stdout",
     "output_type": "stream",
     "text": [
      "SAM2 inference state initialized.\n",
      "Points: [[653, 114]], Labels: [1]\n",
      "Inference completed for the frame.\n",
      "Predicted mask successfully saved at: C:\\Users\\devanish\\Downloads\\Datasets\\UnitTesting\\vesicular_glands\\03\\PredictedMask\\00014.png\n",
      "SAM2 inference state and model reset.\n",
      "\n",
      "Processing image 16: 00015.png\n",
      "Image path: C:\\Users\\devanish\\Downloads\\Datasets\\UnitTesting\\vesicular_glands\\03\\Frames\\00015.png\n",
      "Mask path: C:\\Users\\devanish\\Downloads\\Datasets\\UnitTesting\\vesicular_glands\\03\\Masks\\00015.png\n",
      "Image loaded successfully.\n",
      "Mask loaded successfully.\n",
      "JPEG image successfully saved at: C:\\Users\\devanish\\Downloads\\Datasets\\UnitTesting\\vesicular_glands\\03\\JPEG_Frames_15\\00015.jpg\n",
      "Selected prompt coordinate: [ 91 429]\n"
     ]
    },
    {
     "name": "stderr",
     "output_type": "stream",
     "text": [
      "frame loading (JPEG): 100%|██████████| 1/1 [00:00<00:00, 24.15it/s]\n"
     ]
    },
    {
     "name": "stdout",
     "output_type": "stream",
     "text": [
      "SAM2 inference state initialized.\n",
      "Points: [[429, 91]], Labels: [1]\n",
      "Inference completed for the frame.\n",
      "Predicted mask successfully saved at: C:\\Users\\devanish\\Downloads\\Datasets\\UnitTesting\\vesicular_glands\\03\\PredictedMask\\00015.png\n",
      "SAM2 inference state and model reset.\n",
      "\n",
      "Processing image 17: 00016.png\n",
      "Image path: C:\\Users\\devanish\\Downloads\\Datasets\\UnitTesting\\vesicular_glands\\03\\Frames\\00016.png\n",
      "Mask path: C:\\Users\\devanish\\Downloads\\Datasets\\UnitTesting\\vesicular_glands\\03\\Masks\\00016.png\n",
      "Image loaded successfully.\n",
      "Mask loaded successfully.\n",
      "JPEG image successfully saved at: C:\\Users\\devanish\\Downloads\\Datasets\\UnitTesting\\vesicular_glands\\03\\JPEG_Frames_16\\00016.jpg\n",
      "Selected prompt coordinate: [102 688]\n"
     ]
    },
    {
     "name": "stderr",
     "output_type": "stream",
     "text": [
      "frame loading (JPEG): 100%|██████████| 1/1 [00:00<00:00, 25.35it/s]\n"
     ]
    },
    {
     "name": "stdout",
     "output_type": "stream",
     "text": [
      "SAM2 inference state initialized.\n",
      "Points: [[688, 102]], Labels: [1]\n",
      "Inference completed for the frame.\n",
      "Predicted mask successfully saved at: C:\\Users\\devanish\\Downloads\\Datasets\\UnitTesting\\vesicular_glands\\03\\PredictedMask\\00016.png\n",
      "SAM2 inference state and model reset.\n",
      "\n",
      "Processing image 18: 00017.png\n",
      "Image path: C:\\Users\\devanish\\Downloads\\Datasets\\UnitTesting\\vesicular_glands\\03\\Frames\\00017.png\n",
      "Mask path: C:\\Users\\devanish\\Downloads\\Datasets\\UnitTesting\\vesicular_glands\\03\\Masks\\00017.png\n",
      "Image loaded successfully.\n",
      "Mask loaded successfully.\n",
      "JPEG image successfully saved at: C:\\Users\\devanish\\Downloads\\Datasets\\UnitTesting\\vesicular_glands\\03\\JPEG_Frames_17\\00017.jpg\n",
      "Selected prompt coordinate: [ 97 335]\n"
     ]
    },
    {
     "name": "stderr",
     "output_type": "stream",
     "text": [
      "frame loading (JPEG): 100%|██████████| 1/1 [00:00<00:00, 25.47it/s]\n"
     ]
    },
    {
     "name": "stdout",
     "output_type": "stream",
     "text": [
      "SAM2 inference state initialized.\n",
      "Points: [[335, 97]], Labels: [1]\n",
      "Inference completed for the frame.\n",
      "Predicted mask successfully saved at: C:\\Users\\devanish\\Downloads\\Datasets\\UnitTesting\\vesicular_glands\\03\\PredictedMask\\00017.png\n",
      "SAM2 inference state and model reset.\n",
      "\n",
      "Processing image 19: 00018.png\n",
      "Image path: C:\\Users\\devanish\\Downloads\\Datasets\\UnitTesting\\vesicular_glands\\03\\Frames\\00018.png\n",
      "Mask path: C:\\Users\\devanish\\Downloads\\Datasets\\UnitTesting\\vesicular_glands\\03\\Masks\\00018.png\n",
      "Image loaded successfully.\n",
      "Mask loaded successfully.\n",
      "JPEG image successfully saved at: C:\\Users\\devanish\\Downloads\\Datasets\\UnitTesting\\vesicular_glands\\03\\JPEG_Frames_18\\00018.jpg\n",
      "Selected prompt coordinate: [274 523]\n"
     ]
    },
    {
     "name": "stderr",
     "output_type": "stream",
     "text": [
      "frame loading (JPEG): 100%|██████████| 1/1 [00:00<00:00, 25.01it/s]\n"
     ]
    },
    {
     "name": "stdout",
     "output_type": "stream",
     "text": [
      "SAM2 inference state initialized.\n",
      "Points: [[523, 274]], Labels: [1]\n",
      "Inference completed for the frame.\n",
      "Predicted mask successfully saved at: C:\\Users\\devanish\\Downloads\\Datasets\\UnitTesting\\vesicular_glands\\03\\PredictedMask\\00018.png\n",
      "SAM2 inference state and model reset.\n",
      "\n",
      "Processing image 20: 00019.png\n",
      "Image path: C:\\Users\\devanish\\Downloads\\Datasets\\UnitTesting\\vesicular_glands\\03\\Frames\\00019.png\n",
      "Mask path: C:\\Users\\devanish\\Downloads\\Datasets\\UnitTesting\\vesicular_glands\\03\\Masks\\00019.png\n",
      "Image loaded successfully.\n",
      "Mask loaded successfully.\n",
      "JPEG image successfully saved at: C:\\Users\\devanish\\Downloads\\Datasets\\UnitTesting\\vesicular_glands\\03\\JPEG_Frames_19\\00019.jpg\n",
      "Selected prompt coordinate: [262 170]\n"
     ]
    },
    {
     "name": "stderr",
     "output_type": "stream",
     "text": [
      "frame loading (JPEG): 100%|██████████| 1/1 [00:00<00:00, 25.00it/s]\n"
     ]
    },
    {
     "name": "stdout",
     "output_type": "stream",
     "text": [
      "SAM2 inference state initialized.\n",
      "Points: [[170, 262]], Labels: [1]\n",
      "Inference completed for the frame.\n",
      "Predicted mask successfully saved at: C:\\Users\\devanish\\Downloads\\Datasets\\UnitTesting\\vesicular_glands\\03\\PredictedMask\\00019.png\n",
      "SAM2 inference state and model reset.\n",
      "\n",
      "Processing image 21: 00020.png\n",
      "Image path: C:\\Users\\devanish\\Downloads\\Datasets\\UnitTesting\\vesicular_glands\\03\\Frames\\00020.png\n",
      "Mask path: C:\\Users\\devanish\\Downloads\\Datasets\\UnitTesting\\vesicular_glands\\03\\Masks\\00020.png\n",
      "Image loaded successfully.\n",
      "Mask loaded successfully.\n",
      "JPEG image successfully saved at: C:\\Users\\devanish\\Downloads\\Datasets\\UnitTesting\\vesicular_glands\\03\\JPEG_Frames_20\\00020.jpg\n",
      "Selected prompt coordinate: [609  31]\n"
     ]
    },
    {
     "name": "stderr",
     "output_type": "stream",
     "text": [
      "frame loading (JPEG): 100%|██████████| 1/1 [00:00<00:00, 25.87it/s]\n"
     ]
    },
    {
     "name": "stdout",
     "output_type": "stream",
     "text": [
      "SAM2 inference state initialized.\n",
      "Points: [[31, 609]], Labels: [1]\n",
      "Inference completed for the frame.\n",
      "Predicted mask successfully saved at: C:\\Users\\devanish\\Downloads\\Datasets\\UnitTesting\\vesicular_glands\\03\\PredictedMask\\00020.png\n",
      "SAM2 inference state and model reset.\n",
      "\n",
      "Processing image 22: 00021.png\n",
      "Image path: C:\\Users\\devanish\\Downloads\\Datasets\\UnitTesting\\vesicular_glands\\03\\Frames\\00021.png\n",
      "Mask path: C:\\Users\\devanish\\Downloads\\Datasets\\UnitTesting\\vesicular_glands\\03\\Masks\\00021.png\n",
      "Image loaded successfully.\n",
      "Mask loaded successfully.\n",
      "JPEG image successfully saved at: C:\\Users\\devanish\\Downloads\\Datasets\\UnitTesting\\vesicular_glands\\03\\JPEG_Frames_21\\00021.jpg\n",
      "Selected prompt coordinate: [622  48]\n"
     ]
    },
    {
     "name": "stderr",
     "output_type": "stream",
     "text": [
      "frame loading (JPEG): 100%|██████████| 1/1 [00:00<00:00, 23.87it/s]\n"
     ]
    },
    {
     "name": "stdout",
     "output_type": "stream",
     "text": [
      "SAM2 inference state initialized.\n",
      "Points: [[48, 622]], Labels: [1]\n",
      "Inference completed for the frame.\n",
      "Predicted mask successfully saved at: C:\\Users\\devanish\\Downloads\\Datasets\\UnitTesting\\vesicular_glands\\03\\PredictedMask\\00021.png\n",
      "SAM2 inference state and model reset.\n",
      "\n",
      "Processing image 23: 00022.png\n",
      "Image path: C:\\Users\\devanish\\Downloads\\Datasets\\UnitTesting\\vesicular_glands\\03\\Frames\\00022.png\n",
      "Mask path: C:\\Users\\devanish\\Downloads\\Datasets\\UnitTesting\\vesicular_glands\\03\\Masks\\00022.png\n",
      "Image loaded successfully.\n",
      "Mask loaded successfully.\n",
      "JPEG image successfully saved at: C:\\Users\\devanish\\Downloads\\Datasets\\UnitTesting\\vesicular_glands\\03\\JPEG_Frames_22\\00022.jpg\n",
      "Selected prompt coordinate: [616  28]\n"
     ]
    },
    {
     "name": "stderr",
     "output_type": "stream",
     "text": [
      "frame loading (JPEG): 100%|██████████| 1/1 [00:00<00:00, 26.69it/s]\n"
     ]
    },
    {
     "name": "stdout",
     "output_type": "stream",
     "text": [
      "SAM2 inference state initialized.\n",
      "Points: [[28, 616]], Labels: [1]\n",
      "Inference completed for the frame.\n",
      "Predicted mask successfully saved at: C:\\Users\\devanish\\Downloads\\Datasets\\UnitTesting\\vesicular_glands\\03\\PredictedMask\\00022.png\n",
      "SAM2 inference state and model reset.\n",
      "\n",
      "Processing image 24: 00023.png\n",
      "Image path: C:\\Users\\devanish\\Downloads\\Datasets\\UnitTesting\\vesicular_glands\\03\\Frames\\00023.png\n",
      "Mask path: C:\\Users\\devanish\\Downloads\\Datasets\\UnitTesting\\vesicular_glands\\03\\Masks\\00023.png\n",
      "Image loaded successfully.\n",
      "Mask loaded successfully.\n",
      "JPEG image successfully saved at: C:\\Users\\devanish\\Downloads\\Datasets\\UnitTesting\\vesicular_glands\\03\\JPEG_Frames_23\\00023.jpg\n",
      "Selected prompt coordinate: [726  24]\n"
     ]
    },
    {
     "name": "stderr",
     "output_type": "stream",
     "text": [
      "frame loading (JPEG): 100%|██████████| 1/1 [00:00<00:00, 25.73it/s]\n"
     ]
    },
    {
     "name": "stdout",
     "output_type": "stream",
     "text": [
      "SAM2 inference state initialized.\n",
      "Points: [[24, 726]], Labels: [1]\n",
      "Inference completed for the frame.\n",
      "Predicted mask successfully saved at: C:\\Users\\devanish\\Downloads\\Datasets\\UnitTesting\\vesicular_glands\\03\\PredictedMask\\00023.png\n",
      "SAM2 inference state and model reset.\n",
      "\n",
      "Processing image 25: 00024.png\n",
      "Image path: C:\\Users\\devanish\\Downloads\\Datasets\\UnitTesting\\vesicular_glands\\03\\Frames\\00024.png\n",
      "Mask path: C:\\Users\\devanish\\Downloads\\Datasets\\UnitTesting\\vesicular_glands\\03\\Masks\\00024.png\n",
      "Image loaded successfully.\n",
      "Mask loaded successfully.\n",
      "JPEG image successfully saved at: C:\\Users\\devanish\\Downloads\\Datasets\\UnitTesting\\vesicular_glands\\03\\JPEG_Frames_24\\00024.jpg\n",
      "Selected prompt coordinate: [709  28]\n"
     ]
    },
    {
     "name": "stderr",
     "output_type": "stream",
     "text": [
      "frame loading (JPEG): 100%|██████████| 1/1 [00:00<00:00, 24.07it/s]\n"
     ]
    },
    {
     "name": "stdout",
     "output_type": "stream",
     "text": [
      "SAM2 inference state initialized.\n",
      "Points: [[28, 709]], Labels: [1]\n",
      "Inference completed for the frame.\n",
      "Predicted mask successfully saved at: C:\\Users\\devanish\\Downloads\\Datasets\\UnitTesting\\vesicular_glands\\03\\PredictedMask\\00024.png\n",
      "SAM2 inference state and model reset.\n",
      "\n",
      "Processing image 26: 00025.png\n",
      "Image path: C:\\Users\\devanish\\Downloads\\Datasets\\UnitTesting\\vesicular_glands\\03\\Frames\\00025.png\n",
      "Mask path: C:\\Users\\devanish\\Downloads\\Datasets\\UnitTesting\\vesicular_glands\\03\\Masks\\00025.png\n",
      "Image loaded successfully.\n",
      "Mask loaded successfully.\n",
      "JPEG image successfully saved at: C:\\Users\\devanish\\Downloads\\Datasets\\UnitTesting\\vesicular_glands\\03\\JPEG_Frames_25\\00025.jpg\n",
      "Selected prompt coordinate: [919  69]\n"
     ]
    },
    {
     "name": "stderr",
     "output_type": "stream",
     "text": [
      "frame loading (JPEG): 100%|██████████| 1/1 [00:00<00:00, 21.74it/s]\n"
     ]
    },
    {
     "name": "stdout",
     "output_type": "stream",
     "text": [
      "SAM2 inference state initialized.\n",
      "Points: [[69, 919]], Labels: [1]\n",
      "Inference completed for the frame.\n",
      "Predicted mask successfully saved at: C:\\Users\\devanish\\Downloads\\Datasets\\UnitTesting\\vesicular_glands\\03\\PredictedMask\\00025.png\n",
      "SAM2 inference state and model reset.\n",
      "\n",
      "Processing image 27: 00026.png\n",
      "Image path: C:\\Users\\devanish\\Downloads\\Datasets\\UnitTesting\\vesicular_glands\\03\\Frames\\00026.png\n",
      "Mask path: C:\\Users\\devanish\\Downloads\\Datasets\\UnitTesting\\vesicular_glands\\03\\Masks\\00026.png\n",
      "Image loaded successfully.\n",
      "Mask loaded successfully.\n",
      "JPEG image successfully saved at: C:\\Users\\devanish\\Downloads\\Datasets\\UnitTesting\\vesicular_glands\\03\\JPEG_Frames_26\\00026.jpg\n",
      "Selected prompt coordinate: [512 181]\n"
     ]
    },
    {
     "name": "stderr",
     "output_type": "stream",
     "text": [
      "frame loading (JPEG): 100%|██████████| 1/1 [00:00<00:00, 24.85it/s]\n"
     ]
    },
    {
     "name": "stdout",
     "output_type": "stream",
     "text": [
      "SAM2 inference state initialized.\n",
      "Points: [[181, 512]], Labels: [1]\n",
      "Inference completed for the frame.\n",
      "Predicted mask successfully saved at: C:\\Users\\devanish\\Downloads\\Datasets\\UnitTesting\\vesicular_glands\\03\\PredictedMask\\00026.png\n",
      "SAM2 inference state and model reset.\n",
      "\n",
      "Processing image 28: 00027.png\n",
      "Image path: C:\\Users\\devanish\\Downloads\\Datasets\\UnitTesting\\vesicular_glands\\03\\Frames\\00027.png\n",
      "Mask path: C:\\Users\\devanish\\Downloads\\Datasets\\UnitTesting\\vesicular_glands\\03\\Masks\\00027.png\n",
      "Image loaded successfully.\n",
      "Mask loaded successfully.\n",
      "JPEG image successfully saved at: C:\\Users\\devanish\\Downloads\\Datasets\\UnitTesting\\vesicular_glands\\03\\JPEG_Frames_27\\00027.jpg\n",
      "Selected prompt coordinate: [652 164]\n"
     ]
    },
    {
     "name": "stderr",
     "output_type": "stream",
     "text": [
      "frame loading (JPEG): 100%|██████████| 1/1 [00:00<00:00, 25.04it/s]\n"
     ]
    },
    {
     "name": "stdout",
     "output_type": "stream",
     "text": [
      "SAM2 inference state initialized.\n",
      "Points: [[164, 652]], Labels: [1]\n",
      "Inference completed for the frame.\n",
      "Predicted mask successfully saved at: C:\\Users\\devanish\\Downloads\\Datasets\\UnitTesting\\vesicular_glands\\03\\PredictedMask\\00027.png\n",
      "SAM2 inference state and model reset.\n",
      "\n",
      "Processing image 29: 00028.png\n",
      "Image path: C:\\Users\\devanish\\Downloads\\Datasets\\UnitTesting\\vesicular_glands\\03\\Frames\\00028.png\n",
      "Mask path: C:\\Users\\devanish\\Downloads\\Datasets\\UnitTesting\\vesicular_glands\\03\\Masks\\00028.png\n",
      "Image loaded successfully.\n",
      "Mask loaded successfully.\n",
      "JPEG image successfully saved at: C:\\Users\\devanish\\Downloads\\Datasets\\UnitTesting\\vesicular_glands\\03\\JPEG_Frames_28\\00028.jpg\n",
      "Selected prompt coordinate: [617 133]\n"
     ]
    },
    {
     "name": "stderr",
     "output_type": "stream",
     "text": [
      "frame loading (JPEG): 100%|██████████| 1/1 [00:00<00:00, 25.64it/s]\n"
     ]
    },
    {
     "name": "stdout",
     "output_type": "stream",
     "text": [
      "SAM2 inference state initialized.\n",
      "Points: [[133, 617]], Labels: [1]\n",
      "Inference completed for the frame.\n",
      "Predicted mask successfully saved at: C:\\Users\\devanish\\Downloads\\Datasets\\UnitTesting\\vesicular_glands\\03\\PredictedMask\\00028.png\n",
      "SAM2 inference state and model reset.\n",
      "\n",
      "Processing image 30: 00029.png\n",
      "Image path: C:\\Users\\devanish\\Downloads\\Datasets\\UnitTesting\\vesicular_glands\\03\\Frames\\00029.png\n",
      "Mask path: C:\\Users\\devanish\\Downloads\\Datasets\\UnitTesting\\vesicular_glands\\03\\Masks\\00029.png\n",
      "Image loaded successfully.\n",
      "Mask loaded successfully.\n",
      "JPEG image successfully saved at: C:\\Users\\devanish\\Downloads\\Datasets\\UnitTesting\\vesicular_glands\\03\\JPEG_Frames_29\\00029.jpg\n",
      "Selected prompt coordinate: [450  93]\n"
     ]
    },
    {
     "name": "stderr",
     "output_type": "stream",
     "text": [
      "frame loading (JPEG): 100%|██████████| 1/1 [00:00<00:00, 22.70it/s]\n"
     ]
    },
    {
     "name": "stdout",
     "output_type": "stream",
     "text": [
      "SAM2 inference state initialized.\n",
      "Points: [[93, 450]], Labels: [1]\n",
      "Inference completed for the frame.\n",
      "Predicted mask successfully saved at: C:\\Users\\devanish\\Downloads\\Datasets\\UnitTesting\\vesicular_glands\\03\\PredictedMask\\00029.png\n",
      "SAM2 inference state and model reset.\n",
      "\n",
      "Processing image 31: 00030.png\n",
      "Image path: C:\\Users\\devanish\\Downloads\\Datasets\\UnitTesting\\vesicular_glands\\03\\Frames\\00030.png\n",
      "Mask path: C:\\Users\\devanish\\Downloads\\Datasets\\UnitTesting\\vesicular_glands\\03\\Masks\\00030.png\n",
      "Image loaded successfully.\n",
      "Mask loaded successfully.\n",
      "JPEG image successfully saved at: C:\\Users\\devanish\\Downloads\\Datasets\\UnitTesting\\vesicular_glands\\03\\JPEG_Frames_30\\00030.jpg\n",
      "Selected prompt coordinate: [718  93]\n"
     ]
    },
    {
     "name": "stderr",
     "output_type": "stream",
     "text": [
      "frame loading (JPEG): 100%|██████████| 1/1 [00:00<00:00, 22.65it/s]\n"
     ]
    },
    {
     "name": "stdout",
     "output_type": "stream",
     "text": [
      "SAM2 inference state initialized.\n",
      "Points: [[93, 718]], Labels: [1]\n",
      "Inference completed for the frame.\n",
      "Predicted mask successfully saved at: C:\\Users\\devanish\\Downloads\\Datasets\\UnitTesting\\vesicular_glands\\03\\PredictedMask\\00030.png\n",
      "SAM2 inference state and model reset.\n",
      "\n",
      "Processing image 32: 00031.png\n",
      "Image path: C:\\Users\\devanish\\Downloads\\Datasets\\UnitTesting\\vesicular_glands\\03\\Frames\\00031.png\n",
      "Mask path: C:\\Users\\devanish\\Downloads\\Datasets\\UnitTesting\\vesicular_glands\\03\\Masks\\00031.png\n",
      "Image loaded successfully.\n",
      "Mask loaded successfully.\n",
      "JPEG image successfully saved at: C:\\Users\\devanish\\Downloads\\Datasets\\UnitTesting\\vesicular_glands\\03\\JPEG_Frames_31\\00031.jpg\n",
      "Selected prompt coordinate: [615  38]\n"
     ]
    },
    {
     "name": "stderr",
     "output_type": "stream",
     "text": [
      "frame loading (JPEG): 100%|██████████| 1/1 [00:00<00:00, 20.44it/s]\n"
     ]
    },
    {
     "name": "stdout",
     "output_type": "stream",
     "text": [
      "SAM2 inference state initialized.\n",
      "Points: [[38, 615]], Labels: [1]\n",
      "Inference completed for the frame.\n",
      "Predicted mask successfully saved at: C:\\Users\\devanish\\Downloads\\Datasets\\UnitTesting\\vesicular_glands\\03\\PredictedMask\\00031.png\n",
      "SAM2 inference state and model reset.\n",
      "\n",
      "Processing image 33: 00032.png\n",
      "Image path: C:\\Users\\devanish\\Downloads\\Datasets\\UnitTesting\\vesicular_glands\\03\\Frames\\00032.png\n",
      "Mask path: C:\\Users\\devanish\\Downloads\\Datasets\\UnitTesting\\vesicular_glands\\03\\Masks\\00032.png\n",
      "Image loaded successfully.\n",
      "Mask loaded successfully.\n",
      "JPEG image successfully saved at: C:\\Users\\devanish\\Downloads\\Datasets\\UnitTesting\\vesicular_glands\\03\\JPEG_Frames_32\\00032.jpg\n",
      "Selected prompt coordinate: [490 267]\n"
     ]
    },
    {
     "name": "stderr",
     "output_type": "stream",
     "text": [
      "frame loading (JPEG): 100%|██████████| 1/1 [00:00<00:00, 22.84it/s]\n"
     ]
    },
    {
     "name": "stdout",
     "output_type": "stream",
     "text": [
      "SAM2 inference state initialized.\n",
      "Points: [[267, 490]], Labels: [1]\n",
      "Inference completed for the frame.\n",
      "Predicted mask successfully saved at: C:\\Users\\devanish\\Downloads\\Datasets\\UnitTesting\\vesicular_glands\\03\\PredictedMask\\00032.png\n",
      "SAM2 inference state and model reset.\n",
      "\n",
      "Processing image 34: 00033.png\n",
      "Image path: C:\\Users\\devanish\\Downloads\\Datasets\\UnitTesting\\vesicular_glands\\03\\Frames\\00033.png\n",
      "Mask path: C:\\Users\\devanish\\Downloads\\Datasets\\UnitTesting\\vesicular_glands\\03\\Masks\\00033.png\n",
      "Image loaded successfully.\n",
      "Mask loaded successfully.\n",
      "JPEG image successfully saved at: C:\\Users\\devanish\\Downloads\\Datasets\\UnitTesting\\vesicular_glands\\03\\JPEG_Frames_33\\00033.jpg\n",
      "Selected prompt coordinate: [637 246]\n"
     ]
    },
    {
     "name": "stderr",
     "output_type": "stream",
     "text": [
      "frame loading (JPEG): 100%|██████████| 1/1 [00:00<00:00, 25.23it/s]\n"
     ]
    },
    {
     "name": "stdout",
     "output_type": "stream",
     "text": [
      "SAM2 inference state initialized.\n",
      "Points: [[246, 637]], Labels: [1]\n",
      "Inference completed for the frame.\n",
      "Predicted mask successfully saved at: C:\\Users\\devanish\\Downloads\\Datasets\\UnitTesting\\vesicular_glands\\03\\PredictedMask\\00033.png\n",
      "SAM2 inference state and model reset.\n",
      "\n",
      "Processing image 35: 00034.png\n",
      "Image path: C:\\Users\\devanish\\Downloads\\Datasets\\UnitTesting\\vesicular_glands\\03\\Frames\\00034.png\n",
      "Mask path: C:\\Users\\devanish\\Downloads\\Datasets\\UnitTesting\\vesicular_glands\\03\\Masks\\00034.png\n",
      "Image loaded successfully.\n",
      "Mask loaded successfully.\n",
      "JPEG image successfully saved at: C:\\Users\\devanish\\Downloads\\Datasets\\UnitTesting\\vesicular_glands\\03\\JPEG_Frames_34\\00034.jpg\n",
      "Selected prompt coordinate: [543 259]\n"
     ]
    },
    {
     "name": "stderr",
     "output_type": "stream",
     "text": [
      "frame loading (JPEG): 100%|██████████| 1/1 [00:00<00:00, 24.08it/s]\n"
     ]
    },
    {
     "name": "stdout",
     "output_type": "stream",
     "text": [
      "SAM2 inference state initialized.\n",
      "Points: [[259, 543]], Labels: [1]\n",
      "Inference completed for the frame.\n",
      "Predicted mask successfully saved at: C:\\Users\\devanish\\Downloads\\Datasets\\UnitTesting\\vesicular_glands\\03\\PredictedMask\\00034.png\n",
      "SAM2 inference state and model reset.\n",
      "\n",
      "Processing image 36: 00035.png\n",
      "Image path: C:\\Users\\devanish\\Downloads\\Datasets\\UnitTesting\\vesicular_glands\\03\\Frames\\00035.png\n",
      "Mask path: C:\\Users\\devanish\\Downloads\\Datasets\\UnitTesting\\vesicular_glands\\03\\Masks\\00035.png\n",
      "Image loaded successfully.\n",
      "Mask loaded successfully.\n",
      "JPEG image successfully saved at: C:\\Users\\devanish\\Downloads\\Datasets\\UnitTesting\\vesicular_glands\\03\\JPEG_Frames_35\\00035.jpg\n",
      "Selected prompt coordinate: [678 186]\n"
     ]
    },
    {
     "name": "stderr",
     "output_type": "stream",
     "text": [
      "frame loading (JPEG): 100%|██████████| 1/1 [00:00<00:00, 22.73it/s]\n"
     ]
    },
    {
     "name": "stdout",
     "output_type": "stream",
     "text": [
      "SAM2 inference state initialized.\n",
      "Points: [[186, 678]], Labels: [1]\n",
      "Inference completed for the frame.\n",
      "Predicted mask successfully saved at: C:\\Users\\devanish\\Downloads\\Datasets\\UnitTesting\\vesicular_glands\\03\\PredictedMask\\00035.png\n",
      "SAM2 inference state and model reset.\n",
      "\n",
      "Processing image 37: 00036.png\n",
      "Image path: C:\\Users\\devanish\\Downloads\\Datasets\\UnitTesting\\vesicular_glands\\03\\Frames\\00036.png\n",
      "Mask path: C:\\Users\\devanish\\Downloads\\Datasets\\UnitTesting\\vesicular_glands\\03\\Masks\\00036.png\n",
      "Image loaded successfully.\n",
      "Mask loaded successfully.\n",
      "JPEG image successfully saved at: C:\\Users\\devanish\\Downloads\\Datasets\\UnitTesting\\vesicular_glands\\03\\JPEG_Frames_36\\00036.jpg\n",
      "Selected prompt coordinate: [755 127]\n"
     ]
    },
    {
     "name": "stderr",
     "output_type": "stream",
     "text": [
      "frame loading (JPEG): 100%|██████████| 1/1 [00:00<00:00, 24.08it/s]\n"
     ]
    },
    {
     "name": "stdout",
     "output_type": "stream",
     "text": [
      "SAM2 inference state initialized.\n",
      "Points: [[127, 755]], Labels: [1]\n",
      "Inference completed for the frame.\n",
      "Predicted mask successfully saved at: C:\\Users\\devanish\\Downloads\\Datasets\\UnitTesting\\vesicular_glands\\03\\PredictedMask\\00036.png\n",
      "SAM2 inference state and model reset.\n",
      "\n",
      "Processing image 38: 00037.png\n",
      "Image path: C:\\Users\\devanish\\Downloads\\Datasets\\UnitTesting\\vesicular_glands\\03\\Frames\\00037.png\n",
      "Mask path: C:\\Users\\devanish\\Downloads\\Datasets\\UnitTesting\\vesicular_glands\\03\\Masks\\00037.png\n",
      "Image loaded successfully.\n",
      "Mask loaded successfully.\n",
      "JPEG image successfully saved at: C:\\Users\\devanish\\Downloads\\Datasets\\UnitTesting\\vesicular_glands\\03\\JPEG_Frames_37\\00037.jpg\n",
      "Selected prompt coordinate: [532 293]\n"
     ]
    },
    {
     "name": "stderr",
     "output_type": "stream",
     "text": [
      "frame loading (JPEG): 100%|██████████| 1/1 [00:00<00:00, 22.82it/s]\n"
     ]
    },
    {
     "name": "stdout",
     "output_type": "stream",
     "text": [
      "SAM2 inference state initialized.\n",
      "Points: [[293, 532]], Labels: [1]\n",
      "Inference completed for the frame.\n",
      "Predicted mask successfully saved at: C:\\Users\\devanish\\Downloads\\Datasets\\UnitTesting\\vesicular_glands\\03\\PredictedMask\\00037.png\n",
      "SAM2 inference state and model reset.\n",
      "\n",
      "Processing image 39: 00038.png\n",
      "Image path: C:\\Users\\devanish\\Downloads\\Datasets\\UnitTesting\\vesicular_glands\\03\\Frames\\00038.png\n",
      "Mask path: C:\\Users\\devanish\\Downloads\\Datasets\\UnitTesting\\vesicular_glands\\03\\Masks\\00038.png\n",
      "Image loaded successfully.\n",
      "Mask loaded successfully.\n",
      "JPEG image successfully saved at: C:\\Users\\devanish\\Downloads\\Datasets\\UnitTesting\\vesicular_glands\\03\\JPEG_Frames_38\\00038.jpg\n",
      "Selected prompt coordinate: [366 302]\n"
     ]
    },
    {
     "name": "stderr",
     "output_type": "stream",
     "text": [
      "frame loading (JPEG): 100%|██████████| 1/1 [00:00<00:00, 24.41it/s]\n"
     ]
    },
    {
     "name": "stdout",
     "output_type": "stream",
     "text": [
      "SAM2 inference state initialized.\n",
      "Points: [[302, 366]], Labels: [1]\n",
      "Inference completed for the frame.\n",
      "Predicted mask successfully saved at: C:\\Users\\devanish\\Downloads\\Datasets\\UnitTesting\\vesicular_glands\\03\\PredictedMask\\00038.png\n",
      "SAM2 inference state and model reset.\n",
      "\n",
      "Processing image 40: 00039.png\n",
      "Image path: C:\\Users\\devanish\\Downloads\\Datasets\\UnitTesting\\vesicular_glands\\03\\Frames\\00039.png\n",
      "Mask path: C:\\Users\\devanish\\Downloads\\Datasets\\UnitTesting\\vesicular_glands\\03\\Masks\\00039.png\n",
      "Image loaded successfully.\n",
      "Mask loaded successfully.\n",
      "JPEG image successfully saved at: C:\\Users\\devanish\\Downloads\\Datasets\\UnitTesting\\vesicular_glands\\03\\JPEG_Frames_39\\00039.jpg\n",
      "Selected prompt coordinate: [534 323]\n"
     ]
    },
    {
     "name": "stderr",
     "output_type": "stream",
     "text": [
      "frame loading (JPEG): 100%|██████████| 1/1 [00:00<00:00, 24.35it/s]\n"
     ]
    },
    {
     "name": "stdout",
     "output_type": "stream",
     "text": [
      "SAM2 inference state initialized.\n",
      "Points: [[323, 534]], Labels: [1]\n",
      "Inference completed for the frame.\n",
      "Predicted mask successfully saved at: C:\\Users\\devanish\\Downloads\\Datasets\\UnitTesting\\vesicular_glands\\03\\PredictedMask\\00039.png\n",
      "SAM2 inference state and model reset.\n",
      "\n",
      "Processing image 41: 00040.png\n",
      "Image path: C:\\Users\\devanish\\Downloads\\Datasets\\UnitTesting\\vesicular_glands\\03\\Frames\\00040.png\n",
      "Mask path: C:\\Users\\devanish\\Downloads\\Datasets\\UnitTesting\\vesicular_glands\\03\\Masks\\00040.png\n",
      "Image loaded successfully.\n",
      "Mask loaded successfully.\n",
      "JPEG image successfully saved at: C:\\Users\\devanish\\Downloads\\Datasets\\UnitTesting\\vesicular_glands\\03\\JPEG_Frames_40\\00040.jpg\n",
      "Selected prompt coordinate: [431 327]\n"
     ]
    },
    {
     "name": "stderr",
     "output_type": "stream",
     "text": [
      "frame loading (JPEG): 100%|██████████| 1/1 [00:00<00:00, 23.65it/s]\n"
     ]
    },
    {
     "name": "stdout",
     "output_type": "stream",
     "text": [
      "SAM2 inference state initialized.\n",
      "Points: [[327, 431]], Labels: [1]\n",
      "Inference completed for the frame.\n",
      "Predicted mask successfully saved at: C:\\Users\\devanish\\Downloads\\Datasets\\UnitTesting\\vesicular_glands\\03\\PredictedMask\\00040.png\n",
      "SAM2 inference state and model reset.\n",
      "\n",
      "Processing image 42: 00041.png\n",
      "Image path: C:\\Users\\devanish\\Downloads\\Datasets\\UnitTesting\\vesicular_glands\\03\\Frames\\00041.png\n",
      "Mask path: C:\\Users\\devanish\\Downloads\\Datasets\\UnitTesting\\vesicular_glands\\03\\Masks\\00041.png\n",
      "Image loaded successfully.\n",
      "Mask loaded successfully.\n",
      "JPEG image successfully saved at: C:\\Users\\devanish\\Downloads\\Datasets\\UnitTesting\\vesicular_glands\\03\\JPEG_Frames_41\\00041.jpg\n",
      "Selected prompt coordinate: [435 316]\n"
     ]
    },
    {
     "name": "stderr",
     "output_type": "stream",
     "text": [
      "frame loading (JPEG): 100%|██████████| 1/1 [00:00<00:00, 25.48it/s]\n"
     ]
    },
    {
     "name": "stdout",
     "output_type": "stream",
     "text": [
      "SAM2 inference state initialized.\n",
      "Points: [[316, 435]], Labels: [1]\n",
      "Inference completed for the frame.\n",
      "Predicted mask successfully saved at: C:\\Users\\devanish\\Downloads\\Datasets\\UnitTesting\\vesicular_glands\\03\\PredictedMask\\00041.png\n",
      "SAM2 inference state and model reset.\n",
      "\n",
      "Processing image 43: 00042.png\n",
      "Image path: C:\\Users\\devanish\\Downloads\\Datasets\\UnitTesting\\vesicular_glands\\03\\Frames\\00042.png\n",
      "Mask path: C:\\Users\\devanish\\Downloads\\Datasets\\UnitTesting\\vesicular_glands\\03\\Masks\\00042.png\n",
      "Image loaded successfully.\n",
      "Mask loaded successfully.\n",
      "JPEG image successfully saved at: C:\\Users\\devanish\\Downloads\\Datasets\\UnitTesting\\vesicular_glands\\03\\JPEG_Frames_42\\00042.jpg\n",
      "Selected prompt coordinate: [506 354]\n"
     ]
    },
    {
     "name": "stderr",
     "output_type": "stream",
     "text": [
      "frame loading (JPEG): 100%|██████████| 1/1 [00:00<00:00, 22.79it/s]\n"
     ]
    },
    {
     "name": "stdout",
     "output_type": "stream",
     "text": [
      "SAM2 inference state initialized.\n",
      "Points: [[354, 506]], Labels: [1]\n",
      "Inference completed for the frame.\n",
      "Predicted mask successfully saved at: C:\\Users\\devanish\\Downloads\\Datasets\\UnitTesting\\vesicular_glands\\03\\PredictedMask\\00042.png\n",
      "SAM2 inference state and model reset.\n",
      "\n",
      "Processing image 44: 00043.png\n",
      "Image path: C:\\Users\\devanish\\Downloads\\Datasets\\UnitTesting\\vesicular_glands\\03\\Frames\\00043.png\n",
      "Mask path: C:\\Users\\devanish\\Downloads\\Datasets\\UnitTesting\\vesicular_glands\\03\\Masks\\00043.png\n",
      "Image loaded successfully.\n",
      "Mask loaded successfully.\n",
      "JPEG image successfully saved at: C:\\Users\\devanish\\Downloads\\Datasets\\UnitTesting\\vesicular_glands\\03\\JPEG_Frames_43\\00043.jpg\n",
      "Selected prompt coordinate: [694 248]\n"
     ]
    },
    {
     "name": "stderr",
     "output_type": "stream",
     "text": [
      "frame loading (JPEG): 100%|██████████| 1/1 [00:00<00:00, 23.37it/s]\n"
     ]
    },
    {
     "name": "stdout",
     "output_type": "stream",
     "text": [
      "SAM2 inference state initialized.\n",
      "Points: [[248, 694]], Labels: [1]\n",
      "Inference completed for the frame.\n",
      "Predicted mask successfully saved at: C:\\Users\\devanish\\Downloads\\Datasets\\UnitTesting\\vesicular_glands\\03\\PredictedMask\\00043.png\n",
      "SAM2 inference state and model reset.\n",
      "\n",
      "Processing image 45: 00044.png\n",
      "Image path: C:\\Users\\devanish\\Downloads\\Datasets\\UnitTesting\\vesicular_glands\\03\\Frames\\00044.png\n",
      "Mask path: C:\\Users\\devanish\\Downloads\\Datasets\\UnitTesting\\vesicular_glands\\03\\Masks\\00044.png\n",
      "Image loaded successfully.\n",
      "Mask loaded successfully.\n",
      "JPEG image successfully saved at: C:\\Users\\devanish\\Downloads\\Datasets\\UnitTesting\\vesicular_glands\\03\\JPEG_Frames_44\\00044.jpg\n",
      "Selected prompt coordinate: [800 410]\n"
     ]
    },
    {
     "name": "stderr",
     "output_type": "stream",
     "text": [
      "frame loading (JPEG): 100%|██████████| 1/1 [00:00<00:00, 25.34it/s]\n"
     ]
    },
    {
     "name": "stdout",
     "output_type": "stream",
     "text": [
      "SAM2 inference state initialized.\n",
      "Points: [[410, 800]], Labels: [1]\n",
      "Inference completed for the frame.\n",
      "Predicted mask successfully saved at: C:\\Users\\devanish\\Downloads\\Datasets\\UnitTesting\\vesicular_glands\\03\\PredictedMask\\00044.png\n",
      "SAM2 inference state and model reset.\n",
      "\n",
      "Processing image 46: 00045.png\n",
      "Image path: C:\\Users\\devanish\\Downloads\\Datasets\\UnitTesting\\vesicular_glands\\03\\Frames\\00045.png\n",
      "Mask path: C:\\Users\\devanish\\Downloads\\Datasets\\UnitTesting\\vesicular_glands\\03\\Masks\\00045.png\n",
      "Image loaded successfully.\n",
      "Mask loaded successfully.\n",
      "JPEG image successfully saved at: C:\\Users\\devanish\\Downloads\\Datasets\\UnitTesting\\vesicular_glands\\03\\JPEG_Frames_45\\00045.jpg\n",
      "Selected prompt coordinate: [194 550]\n"
     ]
    },
    {
     "name": "stderr",
     "output_type": "stream",
     "text": [
      "frame loading (JPEG): 100%|██████████| 1/1 [00:00<00:00, 26.47it/s]\n"
     ]
    },
    {
     "name": "stdout",
     "output_type": "stream",
     "text": [
      "SAM2 inference state initialized.\n",
      "Points: [[550, 194]], Labels: [1]\n",
      "Inference completed for the frame.\n",
      "Predicted mask successfully saved at: C:\\Users\\devanish\\Downloads\\Datasets\\UnitTesting\\vesicular_glands\\03\\PredictedMask\\00045.png\n",
      "SAM2 inference state and model reset.\n",
      "\n",
      "Processing image 47: 00046.png\n",
      "Image path: C:\\Users\\devanish\\Downloads\\Datasets\\UnitTesting\\vesicular_glands\\03\\Frames\\00046.png\n",
      "Mask path: C:\\Users\\devanish\\Downloads\\Datasets\\UnitTesting\\vesicular_glands\\03\\Masks\\00046.png\n",
      "Image loaded successfully.\n",
      "Mask loaded successfully.\n",
      "JPEG image successfully saved at: C:\\Users\\devanish\\Downloads\\Datasets\\UnitTesting\\vesicular_glands\\03\\JPEG_Frames_46\\00046.jpg\n",
      "Selected prompt coordinate: [171 397]\n"
     ]
    },
    {
     "name": "stderr",
     "output_type": "stream",
     "text": [
      "frame loading (JPEG): 100%|██████████| 1/1 [00:00<00:00, 22.41it/s]\n"
     ]
    },
    {
     "name": "stdout",
     "output_type": "stream",
     "text": [
      "SAM2 inference state initialized.\n",
      "Points: [[397, 171]], Labels: [1]\n",
      "Inference completed for the frame.\n",
      "Predicted mask successfully saved at: C:\\Users\\devanish\\Downloads\\Datasets\\UnitTesting\\vesicular_glands\\03\\PredictedMask\\00046.png\n",
      "SAM2 inference state and model reset.\n",
      "\n",
      "Processing image 48: 00047.png\n",
      "Image path: C:\\Users\\devanish\\Downloads\\Datasets\\UnitTesting\\vesicular_glands\\03\\Frames\\00047.png\n",
      "Mask path: C:\\Users\\devanish\\Downloads\\Datasets\\UnitTesting\\vesicular_glands\\03\\Masks\\00047.png\n",
      "Image loaded successfully.\n",
      "Mask loaded successfully.\n",
      "JPEG image successfully saved at: C:\\Users\\devanish\\Downloads\\Datasets\\UnitTesting\\vesicular_glands\\03\\JPEG_Frames_47\\00047.jpg\n",
      "Selected prompt coordinate: [603 398]\n"
     ]
    },
    {
     "name": "stderr",
     "output_type": "stream",
     "text": [
      "frame loading (JPEG): 100%|██████████| 1/1 [00:00<00:00, 24.50it/s]\n"
     ]
    },
    {
     "name": "stdout",
     "output_type": "stream",
     "text": [
      "SAM2 inference state initialized.\n",
      "Points: [[398, 603]], Labels: [1]\n",
      "Inference completed for the frame.\n",
      "Predicted mask successfully saved at: C:\\Users\\devanish\\Downloads\\Datasets\\UnitTesting\\vesicular_glands\\03\\PredictedMask\\00047.png\n",
      "SAM2 inference state and model reset.\n",
      "\n",
      "Processing image 49: 00048.png\n",
      "Image path: C:\\Users\\devanish\\Downloads\\Datasets\\UnitTesting\\vesicular_glands\\03\\Frames\\00048.png\n",
      "Mask path: C:\\Users\\devanish\\Downloads\\Datasets\\UnitTesting\\vesicular_glands\\03\\Masks\\00048.png\n",
      "Image loaded successfully.\n",
      "Mask loaded successfully.\n",
      "JPEG image successfully saved at: C:\\Users\\devanish\\Downloads\\Datasets\\UnitTesting\\vesicular_glands\\03\\JPEG_Frames_48\\00048.jpg\n",
      "Selected prompt coordinate: [242 370]\n"
     ]
    },
    {
     "name": "stderr",
     "output_type": "stream",
     "text": [
      "frame loading (JPEG): 100%|██████████| 1/1 [00:00<00:00, 23.32it/s]\n"
     ]
    },
    {
     "name": "stdout",
     "output_type": "stream",
     "text": [
      "SAM2 inference state initialized.\n",
      "Points: [[370, 242]], Labels: [1]\n",
      "Inference completed for the frame.\n",
      "Predicted mask successfully saved at: C:\\Users\\devanish\\Downloads\\Datasets\\UnitTesting\\vesicular_glands\\03\\PredictedMask\\00048.png\n",
      "SAM2 inference state and model reset.\n",
      "\n",
      "Processing image 50: 00049.png\n",
      "Image path: C:\\Users\\devanish\\Downloads\\Datasets\\UnitTesting\\vesicular_glands\\03\\Frames\\00049.png\n",
      "Mask path: C:\\Users\\devanish\\Downloads\\Datasets\\UnitTesting\\vesicular_glands\\03\\Masks\\00049.png\n",
      "Image loaded successfully.\n",
      "Mask loaded successfully.\n",
      "JPEG image successfully saved at: C:\\Users\\devanish\\Downloads\\Datasets\\UnitTesting\\vesicular_glands\\03\\JPEG_Frames_49\\00049.jpg\n",
      "Selected prompt coordinate: [131 348]\n"
     ]
    },
    {
     "name": "stderr",
     "output_type": "stream",
     "text": [
      "frame loading (JPEG): 100%|██████████| 1/1 [00:00<00:00, 24.66it/s]\n"
     ]
    },
    {
     "name": "stdout",
     "output_type": "stream",
     "text": [
      "SAM2 inference state initialized.\n",
      "Points: [[348, 131]], Labels: [1]\n",
      "Inference completed for the frame.\n",
      "Predicted mask successfully saved at: C:\\Users\\devanish\\Downloads\\Datasets\\UnitTesting\\vesicular_glands\\03\\PredictedMask\\00049.png\n",
      "SAM2 inference state and model reset.\n",
      "\n",
      "Processing image 51: 00050.png\n",
      "Image path: C:\\Users\\devanish\\Downloads\\Datasets\\UnitTesting\\vesicular_glands\\03\\Frames\\00050.png\n",
      "Mask path: C:\\Users\\devanish\\Downloads\\Datasets\\UnitTesting\\vesicular_glands\\03\\Masks\\00050.png\n",
      "Image loaded successfully.\n",
      "Mask loaded successfully.\n",
      "JPEG image successfully saved at: C:\\Users\\devanish\\Downloads\\Datasets\\UnitTesting\\vesicular_glands\\03\\JPEG_Frames_50\\00050.jpg\n",
      "Selected prompt coordinate: [263 321]\n"
     ]
    },
    {
     "name": "stderr",
     "output_type": "stream",
     "text": [
      "frame loading (JPEG): 100%|██████████| 1/1 [00:00<00:00, 25.17it/s]\n"
     ]
    },
    {
     "name": "stdout",
     "output_type": "stream",
     "text": [
      "SAM2 inference state initialized.\n",
      "Points: [[321, 263]], Labels: [1]\n",
      "Inference completed for the frame.\n",
      "Predicted mask successfully saved at: C:\\Users\\devanish\\Downloads\\Datasets\\UnitTesting\\vesicular_glands\\03\\PredictedMask\\00050.png\n",
      "SAM2 inference state and model reset.\n",
      "\n",
      "Processing image 52: 00051.png\n",
      "Image path: C:\\Users\\devanish\\Downloads\\Datasets\\UnitTesting\\vesicular_glands\\03\\Frames\\00051.png\n",
      "Mask path: C:\\Users\\devanish\\Downloads\\Datasets\\UnitTesting\\vesicular_glands\\03\\Masks\\00051.png\n",
      "Image loaded successfully.\n",
      "Mask loaded successfully.\n",
      "JPEG image successfully saved at: C:\\Users\\devanish\\Downloads\\Datasets\\UnitTesting\\vesicular_glands\\03\\JPEG_Frames_51\\00051.jpg\n",
      "Selected prompt coordinate: [206 365]\n"
     ]
    },
    {
     "name": "stderr",
     "output_type": "stream",
     "text": [
      "frame loading (JPEG): 100%|██████████| 1/1 [00:00<00:00, 21.23it/s]\n"
     ]
    },
    {
     "name": "stdout",
     "output_type": "stream",
     "text": [
      "SAM2 inference state initialized.\n",
      "Points: [[365, 206]], Labels: [1]\n",
      "Inference completed for the frame.\n",
      "Predicted mask successfully saved at: C:\\Users\\devanish\\Downloads\\Datasets\\UnitTesting\\vesicular_glands\\03\\PredictedMask\\00051.png\n",
      "SAM2 inference state and model reset.\n",
      "\n",
      "Processing image 53: 00052.png\n",
      "Image path: C:\\Users\\devanish\\Downloads\\Datasets\\UnitTesting\\vesicular_glands\\03\\Frames\\00052.png\n",
      "Mask path: C:\\Users\\devanish\\Downloads\\Datasets\\UnitTesting\\vesicular_glands\\03\\Masks\\00052.png\n",
      "Image loaded successfully.\n",
      "Mask loaded successfully.\n",
      "JPEG image successfully saved at: C:\\Users\\devanish\\Downloads\\Datasets\\UnitTesting\\vesicular_glands\\03\\JPEG_Frames_52\\00052.jpg\n",
      "Selected prompt coordinate: [199 385]\n"
     ]
    },
    {
     "name": "stderr",
     "output_type": "stream",
     "text": [
      "frame loading (JPEG): 100%|██████████| 1/1 [00:00<00:00, 24.54it/s]\n"
     ]
    },
    {
     "name": "stdout",
     "output_type": "stream",
     "text": [
      "SAM2 inference state initialized.\n",
      "Points: [[385, 199]], Labels: [1]\n",
      "Inference completed for the frame.\n",
      "Predicted mask successfully saved at: C:\\Users\\devanish\\Downloads\\Datasets\\UnitTesting\\vesicular_glands\\03\\PredictedMask\\00052.png\n",
      "SAM2 inference state and model reset.\n",
      "\n",
      "Processing image 54: 00053.png\n",
      "Image path: C:\\Users\\devanish\\Downloads\\Datasets\\UnitTesting\\vesicular_glands\\03\\Frames\\00053.png\n",
      "Mask path: C:\\Users\\devanish\\Downloads\\Datasets\\UnitTesting\\vesicular_glands\\03\\Masks\\00053.png\n",
      "Image loaded successfully.\n",
      "Mask loaded successfully.\n",
      "JPEG image successfully saved at: C:\\Users\\devanish\\Downloads\\Datasets\\UnitTesting\\vesicular_glands\\03\\JPEG_Frames_53\\00053.jpg\n",
      "Selected prompt coordinate: [504 471]\n"
     ]
    },
    {
     "name": "stderr",
     "output_type": "stream",
     "text": [
      "frame loading (JPEG): 100%|██████████| 1/1 [00:00<00:00, 24.46it/s]\n"
     ]
    },
    {
     "name": "stdout",
     "output_type": "stream",
     "text": [
      "SAM2 inference state initialized.\n",
      "Points: [[471, 504]], Labels: [1]\n",
      "Inference completed for the frame.\n",
      "Predicted mask successfully saved at: C:\\Users\\devanish\\Downloads\\Datasets\\UnitTesting\\vesicular_glands\\03\\PredictedMask\\00053.png\n",
      "SAM2 inference state and model reset.\n",
      "\n",
      "Processing image 55: 00054.png\n",
      "Image path: C:\\Users\\devanish\\Downloads\\Datasets\\UnitTesting\\vesicular_glands\\03\\Frames\\00054.png\n",
      "Mask path: C:\\Users\\devanish\\Downloads\\Datasets\\UnitTesting\\vesicular_glands\\03\\Masks\\00054.png\n",
      "Image loaded successfully.\n",
      "Mask loaded successfully.\n",
      "JPEG image successfully saved at: C:\\Users\\devanish\\Downloads\\Datasets\\UnitTesting\\vesicular_glands\\03\\JPEG_Frames_54\\00054.jpg\n",
      "Selected prompt coordinate: [269 293]\n"
     ]
    },
    {
     "name": "stderr",
     "output_type": "stream",
     "text": [
      "frame loading (JPEG): 100%|██████████| 1/1 [00:00<00:00, 25.15it/s]\n"
     ]
    },
    {
     "name": "stdout",
     "output_type": "stream",
     "text": [
      "SAM2 inference state initialized.\n",
      "Points: [[293, 269]], Labels: [1]\n",
      "Inference completed for the frame.\n",
      "Predicted mask successfully saved at: C:\\Users\\devanish\\Downloads\\Datasets\\UnitTesting\\vesicular_glands\\03\\PredictedMask\\00054.png\n",
      "SAM2 inference state and model reset.\n",
      "Inference complete for all images in the organ: vesicular_glands\n",
      "Inference complete for all organs.\n"
     ]
    }
   ],
   "source": [
    "import os\n",
    "import cv2\n",
    "import numpy as np\n",
    "import random\n",
    "import torch\n",
    "import gc\n",
    "from sam2.build_sam import build_sam2_video_predictor\n",
    "\n",
    "# Dynamically set the device based on CPU usage only\n",
    "device = \"cpu\"\n",
    "print(f\"Device set to: {device}\")\n",
    "\n",
    "# Define model configuration and checkpoint\n",
    "model_cfg = r\"C:\\Users\\devanish\\Downloads\\SAM2\\ReactDocker\\sam2_hiera_l.yaml\"\n",
    "checkpoint_path = r\"C:\\Users\\devanish\\Downloads\\SAM2\\sam2_hiera_large.pt\"\n",
    "\n",
    "# Define the main UnitTesting folder path containing multiple organs\n",
    "unit_testing_folder = r\"C:\\Users\\devanish\\Downloads\\Datasets\\UnitTesting\"\n",
    "print(f\"UnitTesting folder path: {unit_testing_folder}\")\n",
    "\n",
    "# Loop through each organ folder in the UnitTesting folder\n",
    "for organ_name in os.listdir(unit_testing_folder):\n",
    "    organ_path = os.path.join(unit_testing_folder, organ_name)\n",
    "    if not os.path.isdir(organ_path):\n",
    "        continue\n",
    "\n",
    "    # Assume there's a single subfolder inside each organ folder that contains Frames and Masks\n",
    "    subfolder_name = os.listdir(organ_path)[0]\n",
    "    subfolder_path = os.path.join(organ_path, subfolder_name)\n",
    "    print(f\"\\nProcessing organ: {organ_name} in subfolder: {subfolder_name}\")\n",
    "\n",
    "    # Define paths for frames, masks, and predicted mask output for this organ\n",
    "    frames_folder = os.path.join(subfolder_path, 'Frames')\n",
    "    masks_folder = os.path.join(subfolder_path, 'Masks')\n",
    "    predicted_masks_folder = os.path.join(subfolder_path, 'PredictedMask')\n",
    "    os.makedirs(predicted_masks_folder, exist_ok=True)\n",
    "    print(f\"Predicted masks folder created at: {predicted_masks_folder}\")\n",
    "\n",
    "    # Process all images in the frames folder for this organ\n",
    "    image_names = sorted(os.listdir(frames_folder))\n",
    "    for idx, image_name in enumerate(image_names):\n",
    "        print(f\"\\nProcessing image {idx + 1}: {image_name}\")\n",
    "        \n",
    "        if image_name.endswith('.png'):\n",
    "            image_path = os.path.join(frames_folder, image_name)\n",
    "            mask_path = os.path.join(masks_folder, image_name)  # Corresponding mask with the same name\n",
    "            print(f\"Image path: {image_path}\")\n",
    "            print(f\"Mask path: {mask_path}\")\n",
    "\n",
    "            # Load the image and mask\n",
    "            image = cv2.imread(image_path)\n",
    "            if image is None:\n",
    "                print(f\"Error: Failed to load image at {image_path}\")\n",
    "                continue\n",
    "            print(\"Image loaded successfully.\")\n",
    "\n",
    "            mask = cv2.imread(mask_path, cv2.IMREAD_GRAYSCALE)\n",
    "            if mask is None:\n",
    "                print(f\"Error: Failed to load mask at {mask_path}\")\n",
    "                continue\n",
    "            print(\"Mask loaded successfully.\")\n",
    "\n",
    "            # Create a temporary JPEG folder for each image to prevent residual data\n",
    "            jpeg_folder = os.path.join(subfolder_path, f\"JPEG_Frames_{idx}\")\n",
    "            os.makedirs(jpeg_folder, exist_ok=True)\n",
    "\n",
    "            # Save the image as a JPEG in the temporary JPEG folder\n",
    "            jpeg_image_path = os.path.join(jpeg_folder, f\"{idx:05d}.jpg\")\n",
    "            success = cv2.imwrite(jpeg_image_path, image)\n",
    "            if not success:\n",
    "                print(f\"Error: Failed to save JPEG image at {jpeg_image_path}\")\n",
    "                continue\n",
    "            print(f\"JPEG image successfully saved at: {jpeg_image_path}\")\n",
    "\n",
    "            # Select a random point with value 255 from the mask as the prompt coordinate\n",
    "            coords = np.column_stack(np.where(mask == 255))\n",
    "            if coords.size == 0:\n",
    "                print(f\"No valid prompt point found for mask: {image_name}\")\n",
    "                continue\n",
    "            prompt_coord = random.choice(coords)\n",
    "            print(f\"Selected prompt coordinate: {prompt_coord}\")\n",
    "\n",
    "            # Instantiate the SAM2 model to ensure a fresh inference state\n",
    "            sam_model = build_sam2_video_predictor(\n",
    "                config_file=model_cfg,\n",
    "                ckpt_path=checkpoint_path,\n",
    "                device=device\n",
    "            )\n",
    "            inference_state = sam_model.init_state(jpeg_folder)\n",
    "            print(\"SAM2 inference state initialized.\")\n",
    "\n",
    "            # Add the prompt and run inference, getting the output mask logits\n",
    "            obj_id = idx + 1  # Unique ID for each object (image)\n",
    "            frame_idx = 0\n",
    "            points = [[prompt_coord[1], prompt_coord[0]]]  # X, Y coordinate\n",
    "            labels = [1]  # Label set to 1\n",
    "            print(f\"Points: {points}, Labels: {labels}\")\n",
    "\n",
    "            # Run add_new_points_or_box and get the out_mask_logits\n",
    "            _, out_obj_ids, out_mask_logits = sam_model.add_new_points_or_box(\n",
    "                inference_state=inference_state,\n",
    "                frame_idx=frame_idx,\n",
    "                obj_id=obj_id,\n",
    "                points=points,\n",
    "                labels=labels,\n",
    "            )\n",
    "            print(\"Inference completed for the frame.\")\n",
    "\n",
    "            # Check and save the output mask logits\n",
    "            if out_mask_logits is not None:\n",
    "                predicted_mask = (out_mask_logits[0].squeeze().cpu().numpy() > 0.5).astype(np.uint8) * 255\n",
    "                predicted_mask_path = os.path.join(predicted_masks_folder, f\"{idx:05d}.png\")\n",
    "                \n",
    "                # Convert to BGR if necessary for saving\n",
    "                predicted_mask_bgr = cv2.cvtColor(predicted_mask, cv2.COLOR_GRAY2BGR)\n",
    "                success = cv2.imwrite(predicted_mask_path, predicted_mask_bgr)\n",
    "                if success:\n",
    "                    print(f\"Predicted mask successfully saved at: {predicted_mask_path}\")\n",
    "                else:\n",
    "                    print(\"Error: cv2.imwrite failed to save the predicted mask.\")\n",
    "\n",
    "            # Clean up by resetting SAM inference state and deleting the JPEG folder\n",
    "            sam_model.reset_state(inference_state)\n",
    "            del sam_model  # Explicitly delete the model\n",
    "            gc.collect()  # Run garbage collection to free memory\n",
    "            print(\"SAM2 inference state and model reset.\")\n",
    "\n",
    "            # Remove temporary JPEG folder for the current image to ensure clean state\n",
    "            for filename in os.listdir(jpeg_folder):\n",
    "                file_path = os.path.join(jpeg_folder, filename)\n",
    "                os.remove(file_path)\n",
    "            os.rmdir(jpeg_folder)  # Delete the folder itself\n",
    "\n",
    "    print(f\"Inference complete for all images in the organ: {organ_name}\")\n",
    "\n",
    "print(\"Inference complete for all organs.\")\n"
   ]
  },
  {
   "cell_type": "markdown",
   "metadata": {},
   "source": [
    "## Two points and all organs (50 samples)"
   ]
  },
  {
   "cell_type": "code",
   "execution_count": null,
   "metadata": {},
   "outputs": [],
   "source": []
  },
  {
   "cell_type": "markdown",
   "metadata": {},
   "source": [
    "## Three points and all organs (50 samples)"
   ]
  },
  {
   "cell_type": "code",
   "execution_count": null,
   "metadata": {},
   "outputs": [],
   "source": []
  },
  {
   "cell_type": "markdown",
   "metadata": {},
   "source": [
    "## Two points with another negative point and all organs (50 samples)"
   ]
  },
  {
   "cell_type": "code",
   "execution_count": null,
   "metadata": {},
   "outputs": [],
   "source": []
  }
 ],
 "metadata": {
  "kernelspec": {
   "display_name": "base",
   "language": "python",
   "name": "python3"
  },
  "language_info": {
   "codemirror_mode": {
    "name": "ipython",
    "version": 3
   },
   "file_extension": ".py",
   "mimetype": "text/x-python",
   "name": "python",
   "nbconvert_exporter": "python",
   "pygments_lexer": "ipython3",
   "version": "3.12.7"
  }
 },
 "nbformat": 4,
 "nbformat_minor": 2
}
